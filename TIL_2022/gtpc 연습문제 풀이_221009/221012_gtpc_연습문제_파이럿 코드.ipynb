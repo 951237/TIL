{
 "cells": [
  {
   "cell_type": "markdown",
   "id": "496e8bac",
   "metadata": {},
   "source": [
    "# GTPC 코딩 연습장"
   ]
  },
  {
   "cell_type": "markdown",
   "id": "7d90f266",
   "metadata": {},
   "source": [
    "## 221018_누적합"
   ]
  },
  {
   "cell_type": "code",
   "execution_count": 11,
   "id": "41a68033",
   "metadata": {},
   "outputs": [
    {
     "data": {
      "text/plain": [
       "[0, 10, 30, 60, 100, 150]"
      ]
     },
     "execution_count": 11,
     "metadata": {},
     "output_type": "execute_result"
    }
   ],
   "source": [
    "# append방식으로 구하기\n",
    "arr = [10, 20, 30, 40, 50]\n",
    "\n",
    "val = 0\n",
    "append_sum = [0]\n",
    "\n",
    "for i in arr:\n",
    "    val += i\n",
    "    append_sum.append(val)\n",
    "    \n",
    "append_sum"
   ]
  },
  {
   "cell_type": "code",
   "execution_count": 23,
   "id": "d411cda3",
   "metadata": {},
   "outputs": [
    {
     "ename": "TypeError",
     "evalue": "can only concatenate list (not \"int\") to list",
     "output_type": "error",
     "traceback": [
      "\u001b[0;31m---------------------------------------------------------------------------\u001b[0m",
      "\u001b[0;31mTypeError\u001b[0m                                 Traceback (most recent call last)",
      "Cell \u001b[0;32mIn [23], line 5\u001b[0m\n\u001b[1;32m      2\u001b[0m memo_sum \u001b[38;5;241m=\u001b[39m [\u001b[38;5;241m0\u001b[39m] \u001b[38;5;241m*\u001b[39m (\u001b[38;5;28mlen\u001b[39m(arr)\u001b[38;5;241m+\u001b[39m\u001b[38;5;241m1\u001b[39m)  \u001b[38;5;66;03m# 리스트 개수 만들기\u001b[39;00m\n\u001b[1;32m      4\u001b[0m \u001b[38;5;28;01mfor\u001b[39;00m i \u001b[38;5;129;01min\u001b[39;00m \u001b[38;5;28mrange\u001b[39m(\u001b[38;5;241m1\u001b[39m, \u001b[38;5;28mlen\u001b[39m(arr)\u001b[38;5;241m+\u001b[39m\u001b[38;5;241m1\u001b[39m):\n\u001b[0;32m----> 5\u001b[0m     memo_sum[i] \u001b[38;5;241m=\u001b[39m arr[i\u001b[38;5;241m-\u001b[39m\u001b[38;5;241m1\u001b[39m] \u001b[38;5;241m+\u001b[39m memo_sum[i\u001b[38;5;241m-\u001b[39m\u001b[38;5;241m1\u001b[39m]  \u001b[38;5;66;03m# 리스트의 첫번째 수와 리스트의 첫수를 더하기\u001b[39;00m\n\u001b[1;32m      7\u001b[0m memo_sum\n",
      "\u001b[0;31mTypeError\u001b[0m: can only concatenate list (not \"int\") to list"
     ]
    }
   ],
   "source": [
    "# memoization 방식으로 구하기\n",
    "memo_sum = [0] * (len(arr)+1)  # 리스트 개수 만들기\n",
    "\n",
    "for i in range(1, len(arr)+1):\n",
    "    memo_sum[i] = arr[i-1] + memo_sum[i-1]  # 리스트의 첫번째 수와 리스트의 첫수를 더하기\n",
    "    \n",
    "memo_sum"
   ]
  },
  {
   "cell_type": "code",
   "execution_count": 7,
   "id": "773e4f01",
   "metadata": {},
   "outputs": [
    {
     "name": "stdout",
     "output_type": "stream",
     "text": [
      "2 2\n",
      "3 4\n",
      "5 6\n",
      "6\n",
      "1 1 2 2\n",
      "18\n"
     ]
    },
    {
     "ename": "KeyboardInterrupt",
     "evalue": "Interrupted by user",
     "output_type": "error",
     "traceback": [
      "\u001b[0;31m---------------------------------------------------------------------------\u001b[0m",
      "\u001b[0;31mKeyboardInterrupt\u001b[0m                         Traceback (most recent call last)",
      "Cell \u001b[0;32mIn [7], line 11\u001b[0m\n\u001b[1;32m      9\u001b[0m k \u001b[38;5;241m=\u001b[39m \u001b[38;5;28mint\u001b[39m(\u001b[38;5;28minput\u001b[39m())\n\u001b[1;32m     10\u001b[0m \u001b[38;5;28;01mfor\u001b[39;00m _ \u001b[38;5;129;01min\u001b[39;00m \u001b[38;5;28mrange\u001b[39m(k):\n\u001b[0;32m---> 11\u001b[0m     i, j, x, y \u001b[38;5;241m=\u001b[39m \u001b[38;5;28mmap\u001b[39m(\u001b[38;5;28mint\u001b[39m, \u001b[38;5;28minput\u001b[39m()\u001b[38;5;241m.\u001b[39msplit())\n\u001b[1;32m     12\u001b[0m     \u001b[38;5;28mprint\u001b[39m(memo[x][y] \u001b[38;5;241m-\u001b[39m memo[i\u001b[38;5;241m-\u001b[39m\u001b[38;5;241m1\u001b[39m][y] \u001b[38;5;241m-\u001b[39m memo[x][j\u001b[38;5;241m-\u001b[39m\u001b[38;5;241m1\u001b[39m] \u001b[38;5;241m+\u001b[39m memo[i\u001b[38;5;241m-\u001b[39m\u001b[38;5;241m1\u001b[39m][j\u001b[38;5;241m-\u001b[39m\u001b[38;5;241m1\u001b[39m])\n",
      "File \u001b[0;32m/usr/local/Cellar/jupyterlab/3.4.8/libexec/lib/python3.10/site-packages/ipykernel/kernelbase.py:1177\u001b[0m, in \u001b[0;36mKernel.raw_input\u001b[0;34m(self, prompt)\u001b[0m\n\u001b[1;32m   1173\u001b[0m \u001b[38;5;28;01mif\u001b[39;00m \u001b[38;5;129;01mnot\u001b[39;00m \u001b[38;5;28mself\u001b[39m\u001b[38;5;241m.\u001b[39m_allow_stdin:\n\u001b[1;32m   1174\u001b[0m     \u001b[38;5;28;01mraise\u001b[39;00m StdinNotImplementedError(\n\u001b[1;32m   1175\u001b[0m         \u001b[38;5;124m\"\u001b[39m\u001b[38;5;124mraw_input was called, but this frontend does not support input requests.\u001b[39m\u001b[38;5;124m\"\u001b[39m\n\u001b[1;32m   1176\u001b[0m     )\n\u001b[0;32m-> 1177\u001b[0m \u001b[38;5;28;01mreturn\u001b[39;00m \u001b[38;5;28;43mself\u001b[39;49m\u001b[38;5;241;43m.\u001b[39;49m\u001b[43m_input_request\u001b[49m\u001b[43m(\u001b[49m\n\u001b[1;32m   1178\u001b[0m \u001b[43m    \u001b[49m\u001b[38;5;28;43mstr\u001b[39;49m\u001b[43m(\u001b[49m\u001b[43mprompt\u001b[49m\u001b[43m)\u001b[49m\u001b[43m,\u001b[49m\n\u001b[1;32m   1179\u001b[0m \u001b[43m    \u001b[49m\u001b[38;5;28;43mself\u001b[39;49m\u001b[38;5;241;43m.\u001b[39;49m\u001b[43m_parent_ident\u001b[49m\u001b[43m[\u001b[49m\u001b[38;5;124;43m\"\u001b[39;49m\u001b[38;5;124;43mshell\u001b[39;49m\u001b[38;5;124;43m\"\u001b[39;49m\u001b[43m]\u001b[49m\u001b[43m,\u001b[49m\n\u001b[1;32m   1180\u001b[0m \u001b[43m    \u001b[49m\u001b[38;5;28;43mself\u001b[39;49m\u001b[38;5;241;43m.\u001b[39;49m\u001b[43mget_parent\u001b[49m\u001b[43m(\u001b[49m\u001b[38;5;124;43m\"\u001b[39;49m\u001b[38;5;124;43mshell\u001b[39;49m\u001b[38;5;124;43m\"\u001b[39;49m\u001b[43m)\u001b[49m\u001b[43m,\u001b[49m\n\u001b[1;32m   1181\u001b[0m \u001b[43m    \u001b[49m\u001b[43mpassword\u001b[49m\u001b[38;5;241;43m=\u001b[39;49m\u001b[38;5;28;43;01mFalse\u001b[39;49;00m\u001b[43m,\u001b[49m\n\u001b[1;32m   1182\u001b[0m \u001b[43m\u001b[49m\u001b[43m)\u001b[49m\n",
      "File \u001b[0;32m/usr/local/Cellar/jupyterlab/3.4.8/libexec/lib/python3.10/site-packages/ipykernel/kernelbase.py:1219\u001b[0m, in \u001b[0;36mKernel._input_request\u001b[0;34m(self, prompt, ident, parent, password)\u001b[0m\n\u001b[1;32m   1216\u001b[0m             \u001b[38;5;28;01mbreak\u001b[39;00m\n\u001b[1;32m   1217\u001b[0m \u001b[38;5;28;01mexcept\u001b[39;00m \u001b[38;5;167;01mKeyboardInterrupt\u001b[39;00m:\n\u001b[1;32m   1218\u001b[0m     \u001b[38;5;66;03m# re-raise KeyboardInterrupt, to truncate traceback\u001b[39;00m\n\u001b[0;32m-> 1219\u001b[0m     \u001b[38;5;28;01mraise\u001b[39;00m \u001b[38;5;167;01mKeyboardInterrupt\u001b[39;00m(\u001b[38;5;124m\"\u001b[39m\u001b[38;5;124mInterrupted by user\u001b[39m\u001b[38;5;124m\"\u001b[39m) \u001b[38;5;28;01mfrom\u001b[39;00m \u001b[38;5;28mNone\u001b[39m\n\u001b[1;32m   1220\u001b[0m \u001b[38;5;28;01mexcept\u001b[39;00m \u001b[38;5;167;01mException\u001b[39;00m:\n\u001b[1;32m   1221\u001b[0m     \u001b[38;5;28mself\u001b[39m\u001b[38;5;241m.\u001b[39mlog\u001b[38;5;241m.\u001b[39mwarning(\u001b[38;5;124m\"\u001b[39m\u001b[38;5;124mInvalid Message:\u001b[39m\u001b[38;5;124m\"\u001b[39m, exc_info\u001b[38;5;241m=\u001b[39m\u001b[38;5;28;01mTrue\u001b[39;00m)\n",
      "\u001b[0;31mKeyboardInterrupt\u001b[0m: Interrupted by user"
     ]
    }
   ],
   "source": [
    "n, m = map(int, input().split())  # 행렬의 크기 입력 받기\n",
    "arr = [list(map(int, input().split())) for _ in range(n)]  # 행렬 값 입력 받기\n",
    "memo = [[0] * (m+1) for _ in range(n+1)]  # 메모 값 설정\n",
    "\n",
    "# 부분합 구하기\n",
    "for i in range(1, n+1):\n",
    "    for j in range(1, m+1):\n",
    "        memo[i][j] = arr[i-1][j-1] + memo[i][j-1] + memo[i-1][j] - memo[i-1][j-1]\n",
    "\n",
    "\n",
    "k = int(input())  # 반복횟수 정하기\n",
    "for _ in range(k):\n",
    "    i, j, x, y = map(int, input().split())  # 부분합 구하고 싶은 좌표 설정\n",
    "    print(memo[x][y] - memo[i-1][y] - memo[x][j-1] + memo[i-1][j-1])"
   ]
  },
  {
   "cell_type": "markdown",
   "id": "954a3d8a",
   "metadata": {},
   "source": [
    "## 221017_재귀함수 "
   ]
  },
  {
   "cell_type": "code",
   "execution_count": null,
   "id": "b4ddc91f",
   "metadata": {},
   "outputs": [],
   "source": []
  },
  {
   "cell_type": "markdown",
   "id": "65822320",
   "metadata": {},
   "source": [
    "## 221016_재귀함수"
   ]
  },
  {
   "cell_type": "code",
   "execution_count": 3,
   "id": "95d88b72",
   "metadata": {},
   "outputs": [],
   "source": [
    "# 팩토리얼 재귀함수\n",
    "\n",
    "def fact(n):\n",
    "    if n == 1:\n",
    "        return 1\n",
    "    return n * fact(n-1)"
   ]
  },
  {
   "cell_type": "code",
   "execution_count": 7,
   "id": "72b7eb59",
   "metadata": {},
   "outputs": [
    {
     "data": {
      "text/plain": [
       "265252859812191058636308480000000"
      ]
     },
     "execution_count": 7,
     "metadata": {},
     "output_type": "execute_result"
    }
   ],
   "source": [
    "fact(30)"
   ]
  },
  {
   "cell_type": "markdown",
   "id": "163a9d84",
   "metadata": {},
   "source": [
    "## 221013_문자열 만들기 \n",
    "- A~Z\n",
    "- AA~ZZ"
   ]
  },
  {
   "cell_type": "code",
   "execution_count": 1,
   "id": "826510ef",
   "metadata": {},
   "outputs": [
    {
     "name": "stdout",
     "output_type": "stream",
     "text": [
      "26\n",
      "650\n",
      "15600\n"
     ]
    }
   ],
   "source": [
    "from string import ascii_lowercase  # a부터 z까지 목록 생성\n",
    "from itertools import permutations, combinations\n",
    "\n",
    "letters = list(ascii_lowercase)  # a부터 z까지 목록 생성\n",
    "\n",
    "permute2 = list(permutations(letters, 2))\n",
    "permute3 = list(permutations(letters, 3))\n",
    "\n",
    "\n",
    "print(len(letters))\n",
    "print(len(permute2))\n",
    "print(len(permute3))"
   ]
  },
  {
   "cell_type": "code",
   "execution_count": null,
   "id": "43ba354f",
   "metadata": {},
   "outputs": [],
   "source": []
  }
 ],
 "metadata": {
  "kernelspec": {
   "display_name": "Python 3 (ipykernel)",
   "language": "python",
   "name": "python3"
  },
  "language_info": {
   "codemirror_mode": {
    "name": "ipython",
    "version": 3
   },
   "file_extension": ".py",
   "mimetype": "text/x-python",
   "name": "python",
   "nbconvert_exporter": "python",
   "pygments_lexer": "ipython3",
   "version": "3.10.8"
  }
 },
 "nbformat": 4,
 "nbformat_minor": 5
}

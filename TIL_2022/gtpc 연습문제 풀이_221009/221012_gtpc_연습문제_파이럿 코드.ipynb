{
 "cells": [
  {
   "cell_type": "code",
   "execution_count": 1,
   "id": "dd83c21c",
   "metadata": {},
   "outputs": [
    {
     "name": "stdout",
     "output_type": "stream",
     "text": [
      "26\n",
      "650\n",
      "15600\n"
     ]
    }
   ],
   "source": [
    "from string import ascii_lowercase\n",
    "from itertools import permutations, combinations\n",
    "\n",
    "letters = list(ascii_lowercase)\n",
    "\n",
    "permute2 = list(permutations(letters, 2))\n",
    "permute3 = list(permutations(letters, 3))\n",
    "\n",
    "\n",
    "print(len(letters))\n",
    "print(len(permute2))\n",
    "print(len(permute3))"
   ]
  },
  {
   "cell_type": "code",
   "execution_count": null,
   "id": "f805e6e8",
   "metadata": {},
   "outputs": [],
   "source": []
  }
 ],
 "metadata": {
  "kernelspec": {
   "display_name": "Python 3 (ipykernel)",
   "language": "python",
   "name": "python3"
  },
  "language_info": {
   "codemirror_mode": {
    "name": "ipython",
    "version": 3
   },
   "file_extension": ".py",
   "mimetype": "text/x-python",
   "name": "python",
   "nbconvert_exporter": "python",
   "pygments_lexer": "ipython3",
   "version": "3.10.7"
  }
 },
 "nbformat": 4,
 "nbformat_minor": 5
}

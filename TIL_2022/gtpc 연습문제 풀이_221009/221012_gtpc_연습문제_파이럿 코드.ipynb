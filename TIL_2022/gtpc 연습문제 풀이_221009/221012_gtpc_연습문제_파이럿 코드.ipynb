{
 "cells": [
  {
   "cell_type": "markdown",
   "id": "496e8bac",
   "metadata": {},
   "source": [
    "# GTPC 코딩 연습장"
   ]
  },
  {
   "cell_type": "markdown",
   "id": "b1890186",
   "metadata": {},
   "source": [
    "## ★ 코드 스니펫"
   ]
  },
  {
   "cell_type": "markdown",
   "id": "8290401e",
   "metadata": {},
   "source": [
    "### 숫자 입력받기"
   ]
  },
  {
   "cell_type": "code",
   "execution_count": null,
   "id": "61cf4b87",
   "metadata": {},
   "outputs": [],
   "source": [
    "n, m = map(int, input().split())  # 행렬의 크기 입력 받기"
   ]
  },
  {
   "cell_type": "markdown",
   "id": "173e6291",
   "metadata": {},
   "source": [
    "### 배열만들기"
   ]
  },
  {
   "cell_type": "code",
   "execution_count": null,
   "id": "b2bdcbce",
   "metadata": {},
   "outputs": [],
   "source": [
    "x, y = map(int, input().split())  # 행렬의 크기 입력 받기\n",
    "arr = [list(map(int, input().split())) for _ in range(x)]  # n줄의 행렬 값 입력 받기\n"
   ]
  },
  {
   "cell_type": "markdown",
   "id": "dea2e521",
   "metadata": {},
   "source": [
    "### GTPC"
   ]
  },
  {
   "cell_type": "code",
   "execution_count": null,
   "id": "5d84fb08",
   "metadata": {},
   "outputs": [],
   "source": [
    "print(\"Gyeonggi Teachers Programming Challenge\")"
   ]
  },
  {
   "cell_type": "markdown",
   "id": "29d4ae9c",
   "metadata": {},
   "source": [
    "## 221018_그리디 알고리즘"
   ]
  },
  {
   "cell_type": "code",
   "execution_count": null,
   "id": "158e0ca6",
   "metadata": {},
   "outputs": [],
   "source": [
    "n = 1280\n",
    "\n",
    "count = 0\n",
    "\n",
    "coin_types = [500, 100, 50, 10]\n",
    "\n",
    "for coin in coin_types:\n",
    "    count += n // coin  # 동전으로 나눴을때 몫을 저장(동전의 개수)\n",
    "    n %= coin  # 나머지를 다음 n으로 지정\n",
    "    print(f'동전개수 : {count}, 잔돈 : {n}')\n",
    "\n",
    "print(count)"
   ]
  },
  {
   "cell_type": "markdown",
   "id": "1e6feaa1",
   "metadata": {},
   "source": [
    "## 221018_누적합"
   ]
  },
  {
   "cell_type": "code",
   "execution_count": null,
   "id": "0f6bb2e3",
   "metadata": {},
   "outputs": [],
   "source": [
    "# append방식으로 구하기\n",
    "arr = [10, 20, 30, 40, 50]\n",
    "\n",
    "val = 0\n",
    "append_sum = [0]\n",
    "\n",
    "for i in arr:\n",
    "    val += i\n",
    "    append_sum.append(val)\n",
    "    \n",
    "append_sum"
   ]
  },
  {
   "cell_type": "code",
   "execution_count": null,
   "id": "5465294f",
   "metadata": {},
   "outputs": [],
   "source": [
    "# memoization 방식으로 구하기\n",
    "memo_sum = [0] * (len(arr)+1)  # 리스트 개수 만들기\n",
    "\n",
    "for i in range(1, len(arr)+1):\n",
    "    memo_sum[i] = arr[i-1] + memo_sum[i-1]  # 리스트의 첫번째 수와 리스트의 첫수를 더하기\n",
    "    \n",
    "memo_sum"
   ]
  },
  {
   "cell_type": "code",
   "execution_count": null,
   "id": "325e5ef8",
   "metadata": {
    "scrolled": false
   },
   "outputs": [],
   "source": [
    "n, m = map(int, input().split())  # 행렬의 크기 입력 받기\n",
    "arr = [list(map(int, input().split())) for _ in range(n)]  # 행렬 값 입력 받기\n",
    "memo = [[0] * (m+1) for _ in range(n+1)]  # 메모 값 설정\n",
    "\n",
    "# 부분합 구하기\n",
    "for i in range(1, n+1):\n",
    "    for j in range(1, m+1):\n",
    "        memo[i][j] = arr[i-1][j-1] + memo[i][j-1] + memo[i-1][j] - memo[i-1][j-1]\n",
    "\n",
    "\n",
    "k = int(input())  # 반복횟수 정하기\n",
    "for _ in range(k):\n",
    "    i, j, x, y = map(int, input().split())  # 부분합 구하고 싶은 좌표 설정\n",
    "    print(memo[x][y] - memo[i-1][y] - memo[x][j-1] + memo[i-1][j-1])"
   ]
  },
  {
   "cell_type": "markdown",
   "id": "9478ce3c",
   "metadata": {},
   "source": [
    "## 221016_재귀함수"
   ]
  },
  {
   "cell_type": "code",
   "execution_count": null,
   "id": "c05adb53",
   "metadata": {},
   "outputs": [],
   "source": [
    "# 팩토리얼 재귀함수\n",
    "\n",
    "def fact(n):\n",
    "    if n == 1:\n",
    "        return 1\n",
    "    return n * fact(n-1)"
   ]
  },
  {
   "cell_type": "code",
   "execution_count": null,
   "id": "9cec2f81",
   "metadata": {},
   "outputs": [],
   "source": [
    "fact(30)"
   ]
  },
  {
   "cell_type": "markdown",
   "id": "163a9d84",
   "metadata": {},
   "source": [
    "## 221013_문자열 만들기 \n",
    "- A~Z\n",
    "- AA~ZZ"
   ]
  },
  {
   "cell_type": "code",
   "execution_count": null,
   "id": "826510ef",
   "metadata": {},
   "outputs": [],
   "source": [
    "from string import ascii_lowercase  # a부터 z까지 목록 생성\n",
    "from itertools import permutations, combinations\n",
    "\n",
    "letters = list(ascii_lowercase)  # a부터 z까지 목록 생성\n",
    "\n",
    "permute2 = list(permutations(letters, 2))\n",
    "permute3 = list(permutations(letters, 3))\n",
    "\n",
    "\n",
    "print(len(letters))\n",
    "print(len(permute2))\n",
    "print(len(permute3))"
   ]
  },
  {
   "cell_type": "code",
   "execution_count": null,
   "id": "43ba354f",
   "metadata": {},
   "outputs": [],
   "source": []
  }
 ],
 "metadata": {
  "kernelspec": {
   "display_name": "Python 3 (ipykernel)",
   "language": "python",
   "name": "python3"
  },
  "language_info": {
   "codemirror_mode": {
    "name": "ipython",
    "version": 3
   },
   "file_extension": ".py",
   "mimetype": "text/x-python",
   "name": "python",
   "nbconvert_exporter": "python",
   "pygments_lexer": "ipython3",
   "version": "3.10.8"
  }
 },
 "nbformat": 4,
 "nbformat_minor": 5
}

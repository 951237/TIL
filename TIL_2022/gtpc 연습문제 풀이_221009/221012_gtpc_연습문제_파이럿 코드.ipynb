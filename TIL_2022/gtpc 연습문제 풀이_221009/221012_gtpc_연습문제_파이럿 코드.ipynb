{
 "cells": [
  {
   "cell_type": "markdown",
   "id": "496e8bac",
   "metadata": {},
   "source": [
    "# GTPC 코딩 연습장"
   ]
  },
  {
   "cell_type": "markdown",
   "id": "c663842e",
   "metadata": {},
   "source": [
    "## 221017_재귀함수 "
   ]
  },
  {
   "cell_type": "code",
   "execution_count": null,
   "id": "a8be7244",
   "metadata": {},
   "outputs": [],
   "source": []
  },
  {
   "cell_type": "markdown",
   "id": "2a3955ef",
   "metadata": {},
   "source": [
    "## 221016_재귀함수"
   ]
  },
  {
   "cell_type": "code",
   "execution_count": 3,
   "id": "c5373574",
   "metadata": {},
   "outputs": [],
   "source": [
    "# 팩토리얼 재귀함수\n",
    "\n",
    "def fact(n):\n",
    "    if n == 1:\n",
    "        return 1\n",
    "    return n * fact(n-1)"
   ]
  },
  {
   "cell_type": "code",
   "execution_count": 7,
   "id": "3942e778",
   "metadata": {},
   "outputs": [
    {
     "data": {
      "text/plain": [
       "265252859812191058636308480000000"
      ]
     },
     "execution_count": 7,
     "metadata": {},
     "output_type": "execute_result"
    }
   ],
   "source": [
    "fact(30)"
   ]
  },
  {
   "cell_type": "markdown",
   "id": "163a9d84",
   "metadata": {},
   "source": [
    "## 221013_문자열 만들기 \n",
    "- A~Z\n",
    "- AA~ZZ"
   ]
  },
  {
   "cell_type": "code",
   "execution_count": 1,
   "id": "826510ef",
   "metadata": {},
   "outputs": [
    {
     "name": "stdout",
     "output_type": "stream",
     "text": [
      "26\n",
      "650\n",
      "15600\n"
     ]
    }
   ],
   "source": [
    "from string import ascii_lowercase  # a부터 z까지 목록 생성\n",
    "from itertools import permutations, combinations\n",
    "\n",
    "letters = list(ascii_lowercase)  # a부터 z까지 목록 생성\n",
    "\n",
    "permute2 = list(permutations(letters, 2))\n",
    "permute3 = list(permutations(letters, 3))\n",
    "\n",
    "\n",
    "print(len(letters))\n",
    "print(len(permute2))\n",
    "print(len(permute3))"
   ]
  },
  {
   "cell_type": "code",
   "execution_count": null,
   "id": "43ba354f",
   "metadata": {},
   "outputs": [],
   "source": []
  }
 ],
 "metadata": {
  "kernelspec": {
   "display_name": "Python 3 (ipykernel)",
   "language": "python",
   "name": "python3"
  },
  "language_info": {
   "codemirror_mode": {
    "name": "ipython",
    "version": 3
   },
   "file_extension": ".py",
   "mimetype": "text/x-python",
   "name": "python",
   "nbconvert_exporter": "python",
   "pygments_lexer": "ipython3",
   "version": "3.10.8"
  }
 },
 "nbformat": 4,
 "nbformat_minor": 5
}

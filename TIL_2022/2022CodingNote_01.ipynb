{
 "cells": [
  {
   "cell_type": "markdown",
   "id": "5d9a121e-579c-4ce2-8f60-3173aa83a172",
   "metadata": {},
   "source": [
    "# 2022년 나의 일상 "
   ]
  },
  {
   "cell_type": "markdown",
   "id": "358ba61f-3a09-4673-9bb3-cd0c63347892",
   "metadata": {},
   "source": [
    "## ★ 하고 싶은 일\n",
    "- 2022 아이들 주소록 구글 지도로 나타내기"
   ]
  },
  {
   "cell_type": "markdown",
   "id": "ae9433e0-7490-4f1e-ba5a-09e9f0036cf3",
   "metadata": {},
   "source": [
    "## ★논문프로젝트\n",
    "### 220427_서지관리 프로그램 조테로 연구\n",
    "- #### 조테로 사용법 \n",
    "- #### 라즈베리파이 및 데이터 시각화 논문 수집"
   ]
  },
  {
   "cell_type": "markdown",
   "id": "814f2252-c65a-4c52-b907-b8e3c25ad6f1",
   "metadata": {},
   "source": [
    "## ★강의-글쓰기 지도\n",
    "### 글을 잘쓰는 방법 4가지\n",
    "- #### 주제 먼저 쓰기(두괄식 - 역삼각형)\n",
    "- #### 쉽게 이해할 수 있게 쓰기\n",
    "- #### 문장은 길지 않게 자르기\n",
    "- #### 수동태 보다는 능동태의 문장 쓰기"
   ]
  },
  {
   "cell_type": "markdown",
   "id": "384fbdfe-97da-4a8b-ac8d-22bcb43fe30e",
   "metadata": {},
   "source": [
    "## ★발명수업준비\n",
    "### 220423_발명 2주차_수업준비\n",
    "- #### 최종 마무리\n",
    "- #### 아이패드로 마이크로 비트 사용시 클래스 기능 보류\n",
    "\n",
    "### 220421_발명 2주차 -마이크로비트\n",
    "- #### 마이크로비트 클래스룸 활용하여 활동 클래스룸 생성\n",
    "\n",
    "### 220418_발명 2주차 - 트리즈 수업\n",
    "- #### 트리즈의 개념\n",
    "- #### 마이크로비트 수업\n",
    "\n",
    "### 220416_발명 2주차 수업"
   ]
  },
  {
   "cell_type": "markdown",
   "id": "7d309c47-50af-4c32-9441-3b94a6e08978",
   "metadata": {},
   "source": [
    "---"
   ]
  },
  {
   "cell_type": "markdown",
   "id": "049315ba-dc02-4877-9aa9-c5e5fccbc8c3",
   "metadata": {},
   "source": [
    "# 2022년 코딩 TIL노트"
   ]
  },
  {
   "cell_type": "markdown",
   "id": "d46f83fd-c55c-43bf-a701-18d2dd4303d2",
   "metadata": {},
   "source": [
    "## ★생활코딩 - sqllite"
   ]
  },
  {
   "cell_type": "markdown",
   "id": "39d60256-862d-4d11-8395-9a751b4a5785",
   "metadata": {},
   "source": [
    "- ### 220502_sqlite 시작\n",
    "    - sqlite studio 설치하기"
   ]
  },
  {
   "cell_type": "markdown",
   "id": "9d6fead6-2ff0-4cac-b58c-c3cef1ed7bbd",
   "metadata": {},
   "source": [
    "## ★코세라 - 부트스트랩 (1/3)\n",
    "- ### 220429_1주차 과제 해결 함.\n",
    "- #### 부트스트랩 그리드를 이용하여 페이지 만들기\n",
    "    - container - 컨테이너\n",
    "    - row - 열\n",
    "    - col - 칼럼 예) col-sm-12"
   ]
  },
  {
   "cell_type": "markdown",
   "id": "cf3da38e",
   "metadata": {},
   "source": [
    "## ★생활코딩 - 플라스크\n",
    "### 220420_플라스크 소스 필사\n",
    "- #### 알게된 사실\n",
    "    - 파라미터 안에 함수도 들어 갈 수 있음.\n",
    "    - 텍스트 변수에 html코드를 넣음.\n",
    "\n",
    "### 220406_플라스크 시작\n",
    "### 220407_계획 작성"
   ]
  },
  {
   "cell_type": "markdown",
   "id": "097750ba-4685-4a2e-8cee-cee29400fbe3",
   "metadata": {},
   "source": [
    "## ★코세라 - 파이선 데이터과학\n",
    "### 220426_3주차 과제 해결"
   ]
  },
  {
   "cell_type": "markdown",
   "id": "d3de9e07",
   "metadata": {},
   "source": [
    "## ★코세라 - 부트스트랩 4 시작\n",
    "### 220425_1주차 과제 확인\n",
    "- #### 반응형 홈페이지 만들기\n",
    "\n",
    "### 220419_1주차 강의 듣기\n",
    "- #### 깃허브 사용법\n",
    "- #### nodejs와 npm\n",
    "\n",
    "### 220331_오리엔테이션\n",
    "- 리액트 강좌의 모듈1\n",
    "- 220330 부터 시작함.\n",
    "- 무료로 들을 수 있는 강좌들이 많음. 하지만 번역이 되지 있지 않은 단점이 있음.\n",
    "- 유투브 강의 보다 과제가 있어서 보다 효율적으로 수강할 수 있음."
   ]
  },
  {
   "cell_type": "markdown",
   "id": "c754ed7d",
   "metadata": {},
   "source": [
    "## ★코세라 - html/css/js 코스 \n",
    "### 220412_자바스크립트 5주차 과제 해결\n",
    "### 220411_자바스크립트 5주차 마무리\n",
    "### 220409_자바스크립트 5주차 \n",
    "### 220405_자바스크립트\n",
    "- 5주차 강의 돌입\n",
    "\n",
    "### 220404_자바스크립트\n",
    "- 4주차 과제 해결\n",
    "- 5주차 강의 시작\n",
    "    - DOM 내용 수강\n",
    "    - innerHTML : 텍스트를 html형식으로 입력\n",
    "    - getElementById(\"id\") : id값 선택\n",
    "    - queryselector(\"#id\") : 태그의 id 선택\n",
    "    - textContent : html태그의 텍스트값 \n",
    "    \n",
    "### 220403_자바스크립트\n",
    "- 4주차 내용진행중\n",
    "- 자바스크립트 함수 생성, 배열\n",
    "\n",
    "### 220401_자바스크립트\n",
    "- 그동안 1주, 2주, 3주차 과제 모두 해결\n",
    "- 4주차 강의 돌입. 4, 5주차 수업남음\n",
    "- 오늘 강의 주요내용\n",
    "    - 크롬 개발자 도구 단축키 : `cmd + alt + i`\n",
    "    - 자바스크립트 위치 : head, body 태그 내부\n",
    "    - 함수선언\n",
    "    - 자바스크립트 데이터 구조\n",
    "### 220328_css 기본 내용\n",
    "- 선택자 \n",
    "    - 요소 선택 \n",
    "    - 클래스 선택\n",
    "    - 아이디 선택\n",
    "- 가상 선택자\n",
    "    - hover, active\n",
    "\n",
    "### 220327_1주차 코스 완료\n",
    "- html에 관한 기본적인 내용 \n",
    "- 기억에 남는 부분들\n",
    "    - `< : &lt;`\n",
    "    - `> : &gt;`\n",
    "    - `& : &amp;`\n",
    "    - `\" : &quot;`\n",
    "    - `&nbsp : 공백` \n",
    "        - 여러개의 단어들이 한꺼번에 붙어서 다닐수 있도록 함. \n",
    "        - 줄이 바뀔대 한꺼번에 줄바꿈됨.\n",
    "        - 일반 띄어쓰기로 상요하는 것은 바르지 않음.\n",
    "            - span 태그를 사용하여 띄어쓰기 하기."
   ]
  },
  {
   "cell_type": "markdown",
   "id": "4e2c19c4",
   "metadata": {},
   "source": [
    "## ★정규표현식 220326\n",
    "### 정규표현식 공부 시작 220326\n",
    "- 유투브 영상 1 : 기본부터 차례로 \n",
    "    - https://www.youtube.com/watch?v=sa-TUpSx1JA&list=WL&index=11&t=323s\n",
    "- 유투브 영상 2 : 기본부터 차례로, 그룹에 이름붙이기 언급\n",
    "    - https://www.youtube.com/watch?v=rhzKDrUiJVk&list=WL&index=11&t=14s\n",
    "- 파이선을 이용한 한글 정규표현식 적용하기\n",
    "    - https://www.youtube.com/watch?v=bacYGk6s238&list=WL&index=6\n",
    "- 생활코딩 정규표현식 강좌 모음\n",
    "    - https://opentutorials.org/module/622/5143"
   ]
  },
  {
   "cell_type": "markdown",
   "id": "1d28092d",
   "metadata": {},
   "source": [
    "## ★리액트_생활코딩_220321\n",
    "### 220321_영상시청\n",
    "- create, update\n",
    "    - 리액트 스테이트\n",
    "    - 이해가 잘 되지 않음. 핸드코딩이 필요함.\n",
    "    - 1차는 영상 시청 / 2차 핸드코딩 "
   ]
  },
  {
   "cell_type": "markdown",
   "id": "78e221ae-7dbc-41c5-9e7c-0b14fae1a125",
   "metadata": {
    "tags": []
   },
   "source": [
    "## ★ 리액트_노마드 코더 리액트JS 영화사이트 만들기\n",
    "### 220311 4일차\n",
    "\n",
    "### 220311_3일차\n",
    "- 바니라js와 리액트 코드의 비교\n",
    "    - 리액트 탄생배경 알기 위함.\n",
    "\n",
    "### 220309_2일차\n",
    "- 투표종사원 업무를 했지만, 날마다 꾸준히~\n",
    "\n",
    "### 220308_1일차\n",
    "- 코딩앙마 강좌는 리액트 업데이트로 내용이 변함.\n",
    "    - 리액트 버전을 낮춰서 다시 시도\n",
    "- 노마드 코드 리액트 JS 영화사이트 만들기 도전"
   ]
  },
  {
   "cell_type": "markdown",
   "id": "6a55b370-5642-49a2-bbb8-00da3ae5c4a7",
   "metadata": {},
   "source": [
    "## ★ 코스라 파이선 SQL lite 강의\n",
    "### 220322_코스라 강의 진행 상황\n",
    "- 동영상 모두 수강\n",
    "- 외부과제 2, 3, 4, 5주차 남음\n",
    "\n",
    "### 220306_코스라 강의 2번째\n",
    "- 파이선에서 데이터베이스 사용하기\n",
    "    - 객체 지향의 정의 및 용어\n",
    "    - 클래스 및 객체\n",
    "    \n",
    "### 220303_코세라 강좌 2번째 시작\n",
    "- 파이선에서 데이터베이스 시작하기\n",
    "    - slqlite3"
   ]
  },
  {
   "cell_type": "markdown",
   "id": "01fcb33d-f00d-4227-9628-644ae5be65ff",
   "metadata": {},
   "source": [
    "## 220304_리액트 튜트리얼\n",
    "- 나동빈 강좌 수강\n",
    "    - nodejs설치\n",
    "    - npm 포함\n",
    "    - yarn 추가 설치\n",
    "        - npm보다 편리함."
   ]
  },
  {
   "cell_type": "markdown",
   "id": "a968c815-3346-4895-afd1-ead18cf7cf1b",
   "metadata": {},
   "source": [
    "## 220223_우분투에서 리액트 사용위한 환경설정 node, npm 설치 방법\n",
    "- #curl 설치하기\n",
    "    - _ apt install -y curl\n",
    "\n",
    "- #nodejs 원하는 버전 다운로드\n",
    "    - curl -sL https://deb.nodesource.com/setup_14.x | sudo -E bash -\n",
    "\n",
    "- #2단계 - nodejs 설치하기\n",
    "    - _ apt-get install -y nodejs\n",
    "\n",
    "- #버전 확인하기\n",
    "    - node -v\n",
    "    - npm -v\n",
    "\n",
    "- #리액트 설치하기\n",
    "    - npx create-react-app my-app\n",
    "\n",
    "- #리액트 실행하기\n",
    "    - cd my-app\n",
    "    - npm start"
   ]
  },
  {
   "cell_type": "markdown",
   "id": "7b2265ff-bdef-4e1e-beb0-7dc9c89034e9",
   "metadata": {},
   "source": [
    "## ★ 졸업논문 프로젝트\n",
    "### 220221_졸업논문 프로그램 만들기 마인드스톰\n",
    "- 지역별 인구 조회\n",
    "- 빅데이터\n",
    "- 플라스크, 리액트\n",
    "- 데이터 가져오기 API 만들기\n",
    "- 기존 작업물 바탕으로 \n",
    "- 논문 작성\n",
    "\n",
    "### 220303_코세라 강좌 2번째 시작\n",
    "- 파이선에서 데이터베이스 시작하기\n",
    "    - slqlite3"
   ]
  },
  {
   "cell_type": "markdown",
   "id": "b1e2e854-565f-4b56-8bb5-1cf533081366",
   "metadata": {},
   "source": [
    "## ★ 코딩앙마 리액트 \n",
    "### 220218_자바스크립트 중급강좌 2번째\n",
    "- 복습해야할 내용\n",
    "\t- 함수형식\n",
    "\t\t- 일반 함수\n",
    "\t\t- 화살표 함수\n",
    "\t- 배열 메소드\n",
    "\t- 프로미스, 어웨이크 등등\n",
    "    \n",
    "### 220216_자바스크립트 기초강좌 및 중급강좌\n",
    "- 유투버 코딩앙마\n",
    "- 기초 문법은 몇번씩 듣고 있는데, 들을 수록 조금씩 이해가 됨.\n",
    "- 반복학습이 필요한 부분\n",
    "    - 화살표 함수\n",
    "    - 클래스\n",
    "    - 배열\n",
    "    - 반복문"
   ]
  },
  {
   "cell_type": "markdown",
   "id": "f2cfd42a-d465-4a15-93f5-c39ae4ffc829",
   "metadata": {},
   "source": [
    "## 220216_데이터 프레임 특정행 열 값 바꾸기"
   ]
  },
  {
   "cell_type": "code",
   "execution_count": 4,
   "id": "b94c2814-60db-4654-804d-2fde20d6bed2",
   "metadata": {},
   "outputs": [],
   "source": [
    "sample_df.loc[0, 'Col3'] = 99  # 인덱스, 칼럼이름 , 값"
   ]
  },
  {
   "cell_type": "markdown",
   "id": "51c28cda-c1db-4ad0-8742-afdb995ba220",
   "metadata": {},
   "source": []
  },
  {
   "cell_type": "markdown",
   "id": "d4db64c8-8472-43a7-9121-f956f8432cab",
   "metadata": {},
   "source": [
    "## 220216_Fun Mook 사이킷런 공부 시작 \n",
    "- 마감 5. 16일까지\n",
    "- 펀묵 링크 \n",
    "    - https://www.fun-mooc.fr/en/courses/?limit=21&offset=0\n",
    "- 펀묵 깃허브 주소\n",
    "    - https://github.com/INRIA/scikit-learn-mooc/\n",
    "- 사이킷런 복습을 생각하던중에 좋은 사이트를 발견"
   ]
  },
  {
   "cell_type": "markdown",
   "id": "2c4cb58f-e642-4834-a51c-f5f208ee2119",
   "metadata": {},
   "source": [
    "## 220215_논문 작성 자료조사\n",
    "### 논문 작성시 사용 어플\n",
    "- 스크리브너 : 초안 작성\n",
    "- 논문 라이브러리 : 페이퍼\n",
    "- 논문 참고문헌 관리 : 엔드노트\n",
    "\n",
    "### 인용방법\n",
    "- 직접인용\n",
    "- 간접인용"
   ]
  },
  {
   "cell_type": "markdown",
   "id": "3dd923ed-af53-4ad7-abb1-03c21a82144e",
   "metadata": {},
   "source": [
    "## 220214_2022년 코딩계획 생각나는 대로\n",
    "- 리액트 앱 만들기\n",
    "- 논문 작성하기\n",
    "    - 지역별 인구 그래프 앱 만들기"
   ]
  }
 ],
 "metadata": {
  "kernelspec": {
   "display_name": "Python 3 (ipykernel)",
   "language": "python",
   "name": "python3"
  },
  "language_info": {
   "codemirror_mode": {
    "name": "ipython",
    "version": 3
   },
   "file_extension": ".py",
   "mimetype": "text/x-python",
   "name": "python",
   "nbconvert_exporter": "python",
   "pygments_lexer": "ipython3",
   "version": "3.9.7"
  }
 },
 "nbformat": 4,
 "nbformat_minor": 5
}

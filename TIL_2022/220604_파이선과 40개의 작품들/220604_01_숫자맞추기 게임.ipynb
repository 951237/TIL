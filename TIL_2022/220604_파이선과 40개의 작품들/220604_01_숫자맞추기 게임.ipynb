{
 "cells": [
  {
   "cell_type": "code",
   "execution_count": 1,
   "id": "cfbd73ce-c750-4eb7-b46a-f0322b224fef",
   "metadata": {},
   "outputs": [],
   "source": [
    "import random\n",
    "\n",
    "# creat number\n",
    "random_number = random.randint(1, 100)\n",
    "\n",
    "game_count = 1\n",
    "\n",
    "while True:\n",
    "    try:\n",
    "        my_number = int(input(\"1~100 사이의 숫자를 입력하세요 : \"))\n",
    "        \n",
    "        if my_number > random_number:\n",
    "            print(\"Down\")\n",
    "        elif my_number < random_number:\n",
    "            print(\"Up\")\n",
    "        elif my_number == random_number:\n",
    "            print(f\"축하합니다. {game_count}회 만에 맞췄습니다.\")\n",
    "            break\n",
    "            \n",
    "        game_count = game_count + 1\n",
    "        \n",
    "    except:\n",
    "        print(\"에러가 발생했습니다. 숫자를 입력하세요.\")\n",
    "        "
   ]
  },
  {
   "cell_type": "code",
   "execution_count": null,
   "id": "de9a6580-b1b8-445e-895c-a8f730da9f79",
   "metadata": {},
   "outputs": [],
   "source": []
  }
 ],
 "metadata": {
  "kernelspec": {
   "display_name": "Python 3 (ipykernel)",
   "language": "python",
   "name": "python3"
  },
  "language_info": {
   "codemirror_mode": {
    "name": "ipython",
    "version": 3
   },
   "file_extension": ".py",
   "mimetype": "text/x-python",
   "name": "python",
   "nbconvert_exporter": "python",
   "pygments_lexer": "ipython3",
   "version": "3.9.7"
  }
 },
 "nbformat": 4,
 "nbformat_minor": 5
}

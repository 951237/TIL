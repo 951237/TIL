{
 "cells": [
  {
   "cell_type": "markdown",
   "id": "f755bc70-cc3b-4852-bb1a-b7acf261dfa9",
   "metadata": {},
   "source": [
    "# 아이피 알아내기 프로그램"
   ]
  },
  {
   "cell_type": "code",
   "execution_count": 1,
   "id": "78c9ecea-6c0a-4e04-b01c-b049e8a7b627",
   "metadata": {},
   "outputs": [],
   "source": [
    "import socket"
   ]
  },
  {
   "cell_type": "code",
   "execution_count": 2,
   "id": "2151e115-5139-4748-aad9-fae75249a905",
   "metadata": {},
   "outputs": [],
   "source": [
    "import requests"
   ]
  },
  {
   "cell_type": "code",
   "execution_count": 3,
   "id": "ee71cb54-ddbe-4ef5-b78c-784f640d8482",
   "metadata": {},
   "outputs": [],
   "source": [
    "import re"
   ]
  },
  {
   "cell_type": "code",
   "execution_count": 4,
   "id": "7412b0c2-e3df-40e8-91de-9b66e2cad799",
   "metadata": {},
   "outputs": [],
   "source": [
    "in_addr = socket.socket(socket.AF_INET, socket.SOCK_STREAM)"
   ]
  },
  {
   "cell_type": "code",
   "execution_count": 5,
   "id": "d1655a3f-dd4c-4270-9203-51c5b012bb9c",
   "metadata": {},
   "outputs": [
    {
     "data": {
      "text/plain": [
       "<socket.socket fd=63, family=AddressFamily.AF_INET, type=SocketKind.SOCK_STREAM, proto=0, laddr=('0.0.0.0', 0)>"
      ]
     },
     "execution_count": 5,
     "metadata": {},
     "output_type": "execute_result"
    }
   ],
   "source": [
    "in_addr"
   ]
  },
  {
   "cell_type": "code",
   "execution_count": 6,
   "id": "eb52aaf4-5d40-4462-be9b-96f92eb7d880",
   "metadata": {},
   "outputs": [],
   "source": [
    "in_addr.connect((\"www.google.co.kr\", 443))"
   ]
  },
  {
   "cell_type": "code",
   "execution_count": 7,
   "id": "8d1d9ea9-f330-45d5-82ff-4273a2e3faf1",
   "metadata": {},
   "outputs": [
    {
     "name": "stdout",
     "output_type": "stream",
     "text": [
      "내부 IP :  172.17.0.2\n"
     ]
    }
   ],
   "source": [
    "print(\"내부 IP : \", in_addr.getsockname()[0])"
   ]
  },
  {
   "cell_type": "code",
   "execution_count": 20,
   "id": "acf3f255-6325-4168-a2c9-664bdafa9c5a",
   "metadata": {},
   "outputs": [],
   "source": [
    "req = requests.get(\"http://ipconfig.kr/\")"
   ]
  },
  {
   "cell_type": "code",
   "execution_count": 21,
   "id": "5aa765ce-a31b-428d-93ff-780a8f3a4698",
   "metadata": {},
   "outputs": [
    {
     "ename": "TypeError",
     "evalue": "'NoneType' object is not subscriptable",
     "output_type": "error",
     "traceback": [
      "\u001b[0;31m---------------------------------------------------------------------------\u001b[0m",
      "\u001b[0;31mTypeError\u001b[0m                                 Traceback (most recent call last)",
      "Input \u001b[0;32mIn [21]\u001b[0m, in \u001b[0;36m<module>\u001b[0;34m\u001b[0m\n\u001b[0;32m----> 1\u001b[0m out_addr \u001b[38;5;241m=\u001b[39m \u001b[43mre\u001b[49m\u001b[38;5;241;43m.\u001b[39;49m\u001b[43msearch\u001b[49m\u001b[43m(\u001b[49m\u001b[38;5;124;43mr\u001b[39;49m\u001b[38;5;124;43m'\u001b[39;49m\u001b[38;5;124;43mIP Address : (\u001b[39;49m\u001b[38;5;124;43m\\\u001b[39;49m\u001b[38;5;124;43md\u001b[39;49m\u001b[38;5;124;43m{\u001b[39;49m\u001b[38;5;124;43m1,3}\u001b[39;49m\u001b[38;5;124;43m\\\u001b[39;49m\u001b[38;5;124;43m.\u001b[39;49m\u001b[38;5;124;43m\\\u001b[39;49m\u001b[38;5;124;43md\u001b[39;49m\u001b[38;5;124;43m{\u001b[39;49m\u001b[38;5;124;43m1,3}\u001b[39;49m\u001b[38;5;124;43m\\\u001b[39;49m\u001b[38;5;124;43m.\u001b[39;49m\u001b[38;5;124;43m\\\u001b[39;49m\u001b[38;5;124;43md\u001b[39;49m\u001b[38;5;124;43m{\u001b[39;49m\u001b[38;5;124;43m1,3}\u001b[39;49m\u001b[38;5;124;43m\\\u001b[39;49m\u001b[38;5;124;43m.\u001b[39;49m\u001b[38;5;124;43m\\\u001b[39;49m\u001b[38;5;124;43md\u001b[39;49m\u001b[38;5;124;43m{\u001b[39;49m\u001b[38;5;124;43m1,3})\u001b[39;49m\u001b[38;5;124;43m'\u001b[39;49m\u001b[43m,\u001b[49m\u001b[43m \u001b[49m\u001b[43mreq\u001b[49m\u001b[38;5;241;43m.\u001b[39;49m\u001b[43mtext\u001b[49m\u001b[43m)\u001b[49m\u001b[43m[\u001b[49m\u001b[38;5;241;43m1\u001b[39;49m\u001b[43m]\u001b[49m\n",
      "\u001b[0;31mTypeError\u001b[0m: 'NoneType' object is not subscriptable"
     ]
    }
   ],
   "source": [
    "out_addr = re.search(r'IP Address : (\\d{1,3}\\.\\d{1,3}\\.\\d{1,3}\\.\\d{1,3})', req.text)[1]"
   ]
  },
  {
   "cell_type": "code",
   "execution_count": 22,
   "id": "f6ea1849-c602-4f3f-a709-aac9c586e997",
   "metadata": {},
   "outputs": [
    {
     "data": {
      "text/plain": [
       "'<html>\\n<head>\\n<title>°¡ºñ¾Æ È£½ºÆÃ ¼\\xadºñ½º:À¥È£½ºÆÃ,À¥¸ÞÀÏÈ£½ºÆÃ,¼îÇÎ¸ôÈ£½ºÆÃ,´Üµ¶¼\\xad¹ö,µ¿¿µ»óÈ£½ºÆÃ</title>\\n<meta http-equiv=\"Content-Type\" content=\"text/html; charset=euc-kr\">\\n<link rel=stylesheet type=text/css href=\"./css/hosting.css\">\\n</head>\\n<body topmargin=\"0\" leftmargin=\"0\">\\n<table width=\"100%\" border=\"0\" cellspacing=\"0\" cellpadding=\"0\">\\n        <tr>\\n                <td align=\"center\">\\n                        <table width=\"670\" border=\"0\" align=\"center\" cellpadding=\"0\" cellspacing=\"0\">\\n                                <tr>\\n                                        <td height=\"50\" style=\"padding-left:10px\"><a href=\"http://www.gabia.com\"><img src=\"http://errdoc.gabia.io/images/logo01.gif\" width=\"95\" height=\"37\" border=\"0\"></a></td>\\n                                </tr>\\n                        </table>\\n                        <table width=\"670\" border=\"0\" cellspacing=\"0\" cellpadding=\"0\">\\n                                <tr>\\n                                        <td><img src=\"http://errdoc.gabia.io/images/img_403.gif\" width=\"670\" height=\"158\"></td>\\n                                </tr>\\n                                <tr>\\n                                        <td height=\"15\"></td>\\n                                </tr>\\n                                <tr>\\n                                        <td align=\"center\">\\n                                                <table width=\"650\" border=\"0\" cellspacing=\"0\" cellpadding=\"0\">\\n                                                        <tr>\\n                                                                <td width=\"22\" valign=\"top\" nowrap><img src=\"http://errdoc.gabia.io/images/bl_t_01.gif\" width=\"19\" height=\"18\"></td>\\n                                                                <td width=\"600\">ÀÌ ¿¡·¯´Â ¿äÃ»ÇÑ CGIÆÄÀÏ¿¡ ´ëÇÑ ±ÇÇÑÀÌ ¾ø°Å³ª ½ÇÇà °¡´ÉÇÑ ÆÄÀÏÀÌ ¾Æ´Ò °æ¿ì¿¡ ¹ß»ýÇÏ°Ô µË´Ï´Ù.</td>\\n                                                        </tr>\\n                                                        <tr>\\n                                                                <td height=\"10\" colspan=\"2\"> </td>\\n                                                        </tr>\\n                                                        <tr>\\n                                                                <td></td>\\n                                                                <td><font color=\"#3366CC\"><strong>[È®ÀÎ ¹× Á¶Ä¡¹æ¹ý]</strong></font></td>\\n                                                        </tr>\\n                                                        <tr>\\n                                                                <td></td>\\n                                                                <td>1) ¿äÃ»ÇÑ ÆÄÀÏ È¤Àº ¿äÃ»ÆÄÀÏÀÌ µé¾îÀÖ´Â µð·ºÅä¸®¿¡ ´ëÇÑ »ç¿ë±ÇÇÑÀÌ ÀÖ´ÂÁö È®ÀÎÇÏ½Ã±â \\n¹Ù¶ø´Ï´Ù. \\nµð·ºÅä¸®´Â ÀÐÀ» ¼ö ÀÖµµ·Ï ¼³Á¤µÇ¾î ÀÖ¾î¾ß ÇÏ°í ½ºÅ©¸³Æ® ÆÄÀÏ¿¡ ½ÇÇà±ÇÇÑÀÌ ÁÖ¾îÁ®¾ß ÇÕ´Ï´Ù.\\ntelnet À¸·Î À¥¼\\xad¹ö»ó¿¡ ·Î±×ÀÎÇÑ ÈÄ ½© »óÅÂ¿¡¼\\xad chmod 751 ¡®ÇØ´ç µð·ºÅä¸® ÀÌ¸§ È¤Àº ½ºÅ©¸³Æ® \\nÆÄÀÏ ÀÌ¸§¡¯ °ú °°Àº ¸í·É¾î·Î »ç¿ë±ÇÇÑÀ» ¼³Á¤ÇÏ½Ã¸é µË´Ï´Ù.\\n\\n                                                                        <br>\\n                                                                        2) ¸¸¾à »ç¿ë±ÇÇÑ ¼³Á¤ÀÌ ÀûÀýÈ÷ µÇ¾î ÀÖ´Ù¸é, À¥È£½ºÆÃ ¼\\xadºñ½º ±â°£ ¸¸·áÀÏÀ» Ã¼Å©ÇÏ¿© º¸½Ã±â ¹Ù¶ø´Ï´Ù. \\n¼\\xadºñ½º ±â°£ÀÌ ¸¸·áµÇ¾úÀ» °æ¿ì¿¡´Â ±â°£¿¬ÀåÀ» ÇÏ½Ã¸é ¼\\xadºñ½º°¡ Á¤»óÀûÀ¸·Î ÀÛµ¿ÇÒ °ÍÀÔ´Ï´Ù. \\n<br>\\n                                                                </td>\\n                                                        </tr>\\n                                                        <tr>\\n                                                                <td height=\"30\" colspan=\"2\"></td>\\n                                                        </tr>\\n                                                </table>\\n                                            <table width=\"670\" border=\"0\" cellspacing=\"0\" cellpadding=\"0\">\\n                                                        <tr>\\n                                                                <td height=\"160\" valign=\"top\" background=\"http://errdoc.gabia.io/images/search_box.jpg\">\\n                                                                        <table width=\"670\" height=\"131\" border=\"0\" cellpadding=\"0\" cellspacing=\"0\">\\n                                                                                <tr>\\n                                                                                        <td valign=\"top\" style=\"padding:20 20 0 25\">\\n<form action=\"http://www.google.co.kr/cse\" id=\"cse-search-box\" target=\"_blank\">\\n<input type=\"hidden\" name=\"cx\" value=\"partner-pub-9562210368372789:rgj6ev-tugo\" />\\n<input type=\"hidden\" name=\"ie\" value=\"EUC-KR\" />\\n\\n<table width=\"100%\" border=\"0\" cellspacing=\"0\" cellpadding=\"0\">\\n        <tr>\\n                <td height=\"25\" colspan=\"3\"><img src=\"http://errdoc.gabia.io/images/txt001.gif\" width=\"114\" height=\"19\"></td>\\n        </tr>\\n        <tr>\\n                <td width=\"200\" height=\"35\">\\n                        <input type=\"text\" name=\"q\" size=\"30\">\\n                </td>\\n                <td>\\n                        <input type=\"image\" src=\"http://errdoc.gabia.io/images/btn_search.gif\" width=\"55\" height=\"25\" border=\"0\">\\n                </td>\\n        </tr>\\n        <tr>\\n                <td height=\"30\" colspan=\"4\" valign=\"bottom\"><img src=\"http://errdoc.gabia.io/images/txt002.gif\" width=\"91\" height=\"18\"></td>\\n        </tr>\\n</table>\\n</form>\\n                                                                                        </td>\\n                                                                                </tr>\\n                                                                        </table>\\n                                                                </td>\\n                                                        </tr>\\n                                                </table>\\n                                        </td>\\n                                </tr>\\n                        </table>\\n                </td>\\n        </tr>\\n</table>\\n</body>\\n</html>\\n\\n'"
      ]
     },
     "execution_count": 22,
     "metadata": {},
     "output_type": "execute_result"
    }
   ],
   "source": [
    "req.text"
   ]
  },
  {
   "cell_type": "code",
   "execution_count": null,
   "id": "a1dd29d6-0193-4cf5-b34a-4989140b1aa7",
   "metadata": {},
   "outputs": [],
   "source": []
  }
 ],
 "metadata": {
  "kernelspec": {
   "display_name": "Python 3 (ipykernel)",
   "language": "python",
   "name": "python3"
  },
  "language_info": {
   "codemirror_mode": {
    "name": "ipython",
    "version": 3
   },
   "file_extension": ".py",
   "mimetype": "text/x-python",
   "name": "python",
   "nbconvert_exporter": "python",
   "pygments_lexer": "ipython3",
   "version": "3.9.7"
  }
 },
 "nbformat": 4,
 "nbformat_minor": 5
}

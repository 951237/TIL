{
 "cells": [
  {
   "cell_type": "markdown",
   "id": "18224725",
   "metadata": {},
   "source": [
    "# Streamlit 시각화\n",
    "- 안산관내 학교 현황 시각화"
   ]
  },
  {
   "cell_type": "code",
   "execution_count": 15,
   "id": "241c5928",
   "metadata": {},
   "outputs": [],
   "source": [
    "import pandas as pd\n",
    "import lxml"
   ]
  },
  {
   "cell_type": "code",
   "execution_count": 36,
   "id": "f0a7a276",
   "metadata": {},
   "outputs": [
    {
     "data": {
      "text/html": [
       "<div>\n",
       "<style scoped>\n",
       "    .dataframe tbody tr th:only-of-type {\n",
       "        vertical-align: middle;\n",
       "    }\n",
       "\n",
       "    .dataframe tbody tr th {\n",
       "        vertical-align: top;\n",
       "    }\n",
       "\n",
       "    .dataframe thead th {\n",
       "        text-align: right;\n",
       "    }\n",
       "</style>\n",
       "<table border=\"1\" class=\"dataframe\">\n",
       "  <thead>\n",
       "    <tr style=\"text-align: right;\">\n",
       "      <th></th>\n",
       "      <th>구분</th>\n",
       "      <th>계</th>\n",
       "      <th>국립</th>\n",
       "      <th>공립</th>\n",
       "      <th>사립</th>\n",
       "      <th>학생수</th>\n",
       "      <th>교원수</th>\n",
       "    </tr>\n",
       "  </thead>\n",
       "  <tbody>\n",
       "    <tr>\n",
       "      <th>0</th>\n",
       "      <td>유치원</td>\n",
       "      <td>85</td>\n",
       "      <td>-</td>\n",
       "      <td>43</td>\n",
       "      <td>42</td>\n",
       "      <td>6778</td>\n",
       "      <td>549</td>\n",
       "    </tr>\n",
       "    <tr>\n",
       "      <th>1</th>\n",
       "      <td>초등학교</td>\n",
       "      <td>55</td>\n",
       "      <td>-</td>\n",
       "      <td>55</td>\n",
       "      <td>-</td>\n",
       "      <td>32223</td>\n",
       "      <td>1823</td>\n",
       "    </tr>\n",
       "    <tr>\n",
       "      <th>2</th>\n",
       "      <td>중학교</td>\n",
       "      <td>30</td>\n",
       "      <td>-</td>\n",
       "      <td>29</td>\n",
       "      <td>1</td>\n",
       "      <td>17882</td>\n",
       "      <td>1252</td>\n",
       "    </tr>\n",
       "    <tr>\n",
       "      <th>3</th>\n",
       "      <td>고등학교</td>\n",
       "      <td>24</td>\n",
       "      <td>-</td>\n",
       "      <td>15</td>\n",
       "      <td>9</td>\n",
       "      <td>19407</td>\n",
       "      <td>1759</td>\n",
       "    </tr>\n",
       "    <tr>\n",
       "      <th>4</th>\n",
       "      <td>특수학교</td>\n",
       "      <td>2</td>\n",
       "      <td>1</td>\n",
       "      <td>-</td>\n",
       "      <td>1</td>\n",
       "      <td>285</td>\n",
       "      <td>101</td>\n",
       "    </tr>\n",
       "  </tbody>\n",
       "</table>\n",
       "</div>"
      ],
      "text/plain": [
       "     구분   계 국립  공립  사립    학생수   교원수\n",
       "0   유치원  85  -  43  42   6778   549\n",
       "1  초등학교  55  -  55   -  32223  1823\n",
       "2   중학교  30  -  29   1  17882  1252\n",
       "3  고등학교  24  -  15   9  19407  1759\n",
       "4  특수학교   2  1   -   1    285   101"
      ]
     },
     "execution_count": 36,
     "metadata": {},
     "output_type": "execute_result"
    }
   ],
   "source": [
    "URL  = 'https://www.goeas.kr/USR/ORG/MNU13/SchoolList.do?orgType=Z'\n",
    "df = pd.read_html(URL, header=1)[0]\n",
    "df[:5]   # '계' 열 삭제"
   ]
  },
  {
   "cell_type": "code",
   "execution_count": null,
   "id": "67729ffa",
   "metadata": {},
   "outputs": [],
   "source": []
  }
 ],
 "metadata": {
  "kernelspec": {
   "display_name": "local-streamlit-env",
   "language": "python",
   "name": "local-streamlit-env"
  },
  "language_info": {
   "codemirror_mode": {
    "name": "ipython",
    "version": 3
   },
   "file_extension": ".py",
   "mimetype": "text/x-python",
   "name": "python",
   "nbconvert_exporter": "python",
   "pygments_lexer": "ipython3",
   "version": "3.8.7"
  }
 },
 "nbformat": 4,
 "nbformat_minor": 5
}

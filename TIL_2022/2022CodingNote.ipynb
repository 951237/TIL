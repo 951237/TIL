{
 "cells": [
  {
   "cell_type": "markdown",
   "id": "049315ba-dc02-4877-9aa9-c5e5fccbc8c3",
   "metadata": {},
   "source": [
    "# 2022년 코딩 TIL노트"
   ]
  },
  {
   "cell_type": "code",
   "execution_count": null,
   "id": "c0fc4370-26ae-440f-afab-5de24608fef2",
   "metadata": {},
   "outputs": [],
   "source": []
  }
 ],
 "metadata": {
  "kernelspec": {
   "display_name": "Python 3 (ipykernel)",
   "language": "python",
   "name": "python3"
  },
  "language_info": {
   "codemirror_mode": {
    "name": "ipython",
    "version": 3
   },
   "file_extension": ".py",
   "mimetype": "text/x-python",
   "name": "python",
   "nbconvert_exporter": "python",
   "pygments_lexer": "ipython3",
   "version": "3.9.7"
  }
 },
 "nbformat": 4,
 "nbformat_minor": 5
}

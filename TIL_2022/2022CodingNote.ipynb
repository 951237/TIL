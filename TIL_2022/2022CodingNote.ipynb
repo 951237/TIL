{
 "cells": [
  {
   "cell_type": "markdown",
   "id": "049315ba-dc02-4877-9aa9-c5e5fccbc8c3",
   "metadata": {},
   "source": [
    "# 2022년 코딩 TIL노트"
   ]
  },
  {
   "cell_type": "markdown",
   "id": "f2cfd42a-d465-4a15-93f5-c39ae4ffc829",
   "metadata": {},
   "source": [
    "## 220216_데이터 프레임 특정행 열 값 바꾸기"
   ]
  },
  {
   "cell_type": "code",
   "execution_count": 4,
   "id": "b94c2814-60db-4654-804d-2fde20d6bed2",
   "metadata": {},
   "outputs": [],
   "source": [
    "sample_df.loc[0, 'Col3'] = 99  # 인덱스, 칼럼이름 , 값"
   ]
  },
  {
   "cell_type": "markdown",
   "id": "51c28cda-c1db-4ad0-8742-afdb995ba220",
   "metadata": {},
   "source": [
    "## 220216_자바스크립트 기초강좌 및 중급강좌\n",
    "- 유투버 코딩앙마\n",
    "- 기초 문법은 몇번씩 듣고 있는데, 들을 수록 조금씩 이해가 됨.\n",
    "- 반복학습이 필요한 부분\n",
    "    - 화살표 함수\n",
    "    - 클래스\n",
    "    - 배열\n",
    "    - 반복문"
   ]
  },
  {
   "cell_type": "markdown",
   "id": "d4db64c8-8472-43a7-9121-f956f8432cab",
   "metadata": {},
   "source": [
    "## 220216_Fun Mook 사이킷런 공부 시작 \n",
    "- 마감 5. 16일까지\n",
    "- 펀묵 링크 \n",
    "    - https://www.fun-mooc.fr/en/courses/?limit=21&offset=0\n",
    "- 펀묵 깃허브 주소\n",
    "    - https://github.com/INRIA/scikit-learn-mooc/\n",
    "- 사이킷런 복습을 생각하던중에 좋은 사이트를 발견"
   ]
  },
  {
   "cell_type": "markdown",
   "id": "2c4cb58f-e642-4834-a51c-f5f208ee2119",
   "metadata": {},
   "source": [
    "## 220215_논문 작성 자료조사\n",
    "### 논문 작성시 사용 어플\n",
    "- 스크리브너 : 초안 작성\n",
    "- 논문 라이브러리 : 페이퍼\n",
    "- 논문 참고문헌 관리 : 엔드노트\n",
    "\n",
    "### 인용방법\n",
    "- 직접인용\n",
    "- 간접인용"
   ]
  },
  {
   "cell_type": "markdown",
   "id": "3dd923ed-af53-4ad7-abb1-03c21a82144e",
   "metadata": {},
   "source": [
    "## 220214_2022년 코딩계획 생각나는 대로\n",
    "- 리액트 앱 만들기\n",
    "- 논문 작성하기\n",
    "    - 지역별 인구 그래프 앱 만들기"
   ]
  },
  {
   "cell_type": "code",
   "execution_count": null,
   "id": "1e5fdeb4-a953-49b0-a9c9-64f056e83f21",
   "metadata": {},
   "outputs": [],
   "source": []
  }
 ],
 "metadata": {
  "kernelspec": {
   "display_name": "Python 3 (ipykernel)",
   "language": "python",
   "name": "python3"
  },
  "language_info": {
   "codemirror_mode": {
    "name": "ipython",
    "version": 3
   },
   "file_extension": ".py",
   "mimetype": "text/x-python",
   "name": "python",
   "nbconvert_exporter": "python",
   "pygments_lexer": "ipython3",
   "version": "3.9.7"
  }
 },
 "nbformat": 4,
 "nbformat_minor": 5
}

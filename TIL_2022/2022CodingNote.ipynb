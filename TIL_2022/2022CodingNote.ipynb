{
 "cells": [
  {
   "cell_type": "markdown",
   "id": "049315ba-dc02-4877-9aa9-c5e5fccbc8c3",
   "metadata": {},
   "source": [
    "# 2022년 코딩 TIL노트"
   ]
  },
  {
   "cell_type": "markdown",
   "id": "3dd923ed-af53-4ad7-abb1-03c21a82144e",
   "metadata": {},
   "source": [
    "## 220214_2022년 코딩계획 생각나는 대로\n",
    "- 리액트 앱 만들기\n",
    "- 논문 작성하기\n",
    "    - 지역별 인구 그래프 앱 만들기"
   ]
  },
  {
   "cell_type": "code",
   "execution_count": null,
   "id": "1e5fdeb4-a953-49b0-a9c9-64f056e83f21",
   "metadata": {},
   "outputs": [],
   "source": []
  }
 ],
 "metadata": {
  "kernelspec": {
   "display_name": "Python 3 (ipykernel)",
   "language": "python",
   "name": "python3"
  },
  "language_info": {
   "codemirror_mode": {
    "name": "ipython",
    "version": 3
   },
   "file_extension": ".py",
   "mimetype": "text/x-python",
   "name": "python",
   "nbconvert_exporter": "python",
   "pygments_lexer": "ipython3",
   "version": "3.9.7"
  }
 },
 "nbformat": 4,
 "nbformat_minor": 5
}

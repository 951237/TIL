{
 "cells": [
  {
   "cell_type": "markdown",
   "id": "049315ba-dc02-4877-9aa9-c5e5fccbc8c3",
   "metadata": {},
   "source": [
    "# 2022년 코딩 TIL노트"
   ]
  },
  {
   "cell_type": "markdown",
   "id": "358ba61f-3a09-4673-9bb3-cd0c63347892",
   "metadata": {},
   "source": [
    "## ★ 하고 싶은 일\n",
    "- 2022 아이들 주소록 구글 지도로 나타내기"
   ]
  },
  {
   "cell_type": "markdown",
   "id": "78e221ae-7dbc-41c5-9e7c-0b14fae1a125",
   "metadata": {
    "tags": []
   },
   "source": [
    "## ★ 리액트_노마드 코더 리액트JS 영화사이트 만들기\n",
    "### 220311 4일차\n",
    "\n",
    "### 220311_3일차\n",
    "- 바니라js와 리액트 코드의 비교\n",
    "    - 리액트 탄생배경 알기 위함.\n",
    "\n",
    "### 220309_2일차\n",
    "- 투표종사원 업무를 했지만, 날마다 꾸준히~\n",
    "\n",
    "### 220308_1일차\n",
    "- 코딩앙마 강좌는 리액트 업데이트로 내용이 변함.\n",
    "    - 리액트 버전을 낮춰서 다시 시도\n",
    "- 노마드 코드 리액트 JS 영화사이트 만들기 도전"
   ]
  },
  {
   "cell_type": "markdown",
   "id": "6a55b370-5642-49a2-bbb8-00da3ae5c4a7",
   "metadata": {},
   "source": [
    "## ★ 코스라 파이선 SQL lite 강의\n",
    "### 220306_코스라 강의 2번째\n",
    "- 파이선에서 데이터베이스 사용하기\n",
    "    - 객체 지향의 정의 및 용어\n",
    "    - 클래스 및 객체\n",
    "    \n",
    "### 220303_코세라 강좌 2번째 시작\n",
    "- 파이선에서 데이터베이스 시작하기\n",
    "    - slqlite3"
   ]
  },
  {
   "cell_type": "markdown",
   "id": "01fcb33d-f00d-4227-9628-644ae5be65ff",
   "metadata": {},
   "source": [
    "## 220304_리액트 튜트리얼\n",
    "- 나동빈 강좌 수강\n",
    "    - nodejs설치\n",
    "    - npm 포함\n",
    "    - yarn 추가 설치\n",
    "        - npm보다 편리함."
   ]
  },
  {
   "cell_type": "markdown",
   "id": "a968c815-3346-4895-afd1-ead18cf7cf1b",
   "metadata": {},
   "source": [
    "## 220223_우분투에서 리액트 사용위한 환경설정 node, npm 설치 방법\n",
    "- #curl 설치하기\n",
    "    - _ apt install -y curl\n",
    "\n",
    "- #nodejs 원하는 버전 다운로드\n",
    "    - curl -sL https://deb.nodesource.com/setup_14.x | sudo -E bash -\n",
    "\n",
    "- #2단계 - nodejs 설치하기\n",
    "    - _ apt-get install -y nodejs\n",
    "\n",
    "- #버전 확인하기\n",
    "    - node -v\n",
    "    - npm -v\n",
    "\n",
    "- #리액트 설치하기\n",
    "    - npx create-react-app my-app\n",
    "\n",
    "- #리액트 실행하기\n",
    "    - cd my-app\n",
    "    - npm start"
   ]
  },
  {
   "cell_type": "markdown",
   "id": "7b2265ff-bdef-4e1e-beb0-7dc9c89034e9",
   "metadata": {},
   "source": [
    "## ★ 졸업논문 프로젝트\n",
    "### 220221_졸업논문 프로그램 만들기 마인드스톰\n",
    "- 지역별 인구 조회\n",
    "- 빅데이터\n",
    "- 플라스크, 리액트\n",
    "- 데이터 가져오기 API 만들기\n",
    "- 기존 작업물 바탕으로 \n",
    "- 논문 작성\n",
    "\n",
    "### 220303_코세라 강좌 2번째 시작\n",
    "- 파이선에서 데이터베이스 시작하기\n",
    "    - slqlite3"
   ]
  },
  {
   "cell_type": "markdown",
   "id": "b1e2e854-565f-4b56-8bb5-1cf533081366",
   "metadata": {},
   "source": [
    "## ★ 코딩앙마 리액트 \n",
    "### 220218_자바스크립트 중급강좌 2번째\n",
    "- 복습해야할 내용\n",
    "\t- 함수형식\n",
    "\t\t- 일반 함수\n",
    "\t\t- 화살표 함수\n",
    "\t- 배열 메소드\n",
    "\t- 프로미스, 어웨이크 등등\n",
    "    \n",
    "### 220216_자바스크립트 기초강좌 및 중급강좌\n",
    "- 유투버 코딩앙마\n",
    "- 기초 문법은 몇번씩 듣고 있는데, 들을 수록 조금씩 이해가 됨.\n",
    "- 반복학습이 필요한 부분\n",
    "    - 화살표 함수\n",
    "    - 클래스\n",
    "    - 배열\n",
    "    - 반복문"
   ]
  },
  {
   "cell_type": "markdown",
   "id": "f2cfd42a-d465-4a15-93f5-c39ae4ffc829",
   "metadata": {},
   "source": [
    "## 220216_데이터 프레임 특정행 열 값 바꾸기"
   ]
  },
  {
   "cell_type": "code",
   "execution_count": 4,
   "id": "b94c2814-60db-4654-804d-2fde20d6bed2",
   "metadata": {},
   "outputs": [],
   "source": [
    "sample_df.loc[0, 'Col3'] = 99  # 인덱스, 칼럼이름 , 값"
   ]
  },
  {
   "cell_type": "markdown",
   "id": "51c28cda-c1db-4ad0-8742-afdb995ba220",
   "metadata": {},
   "source": []
  },
  {
   "cell_type": "markdown",
   "id": "d4db64c8-8472-43a7-9121-f956f8432cab",
   "metadata": {},
   "source": [
    "## 220216_Fun Mook 사이킷런 공부 시작 \n",
    "- 마감 5. 16일까지\n",
    "- 펀묵 링크 \n",
    "    - https://www.fun-mooc.fr/en/courses/?limit=21&offset=0\n",
    "- 펀묵 깃허브 주소\n",
    "    - https://github.com/INRIA/scikit-learn-mooc/\n",
    "- 사이킷런 복습을 생각하던중에 좋은 사이트를 발견"
   ]
  },
  {
   "cell_type": "markdown",
   "id": "2c4cb58f-e642-4834-a51c-f5f208ee2119",
   "metadata": {},
   "source": [
    "## 220215_논문 작성 자료조사\n",
    "### 논문 작성시 사용 어플\n",
    "- 스크리브너 : 초안 작성\n",
    "- 논문 라이브러리 : 페이퍼\n",
    "- 논문 참고문헌 관리 : 엔드노트\n",
    "\n",
    "### 인용방법\n",
    "- 직접인용\n",
    "- 간접인용"
   ]
  },
  {
   "cell_type": "markdown",
   "id": "3dd923ed-af53-4ad7-abb1-03c21a82144e",
   "metadata": {},
   "source": [
    "## 220214_2022년 코딩계획 생각나는 대로\n",
    "- 리액트 앱 만들기\n",
    "- 논문 작성하기\n",
    "    - 지역별 인구 그래프 앱 만들기"
   ]
  }
 ],
 "metadata": {
  "kernelspec": {
   "display_name": "Python 3 (ipykernel)",
   "language": "python",
   "name": "python3"
  },
  "language_info": {
   "codemirror_mode": {
    "name": "ipython",
    "version": 3
   },
   "file_extension": ".py",
   "mimetype": "text/x-python",
   "name": "python",
   "nbconvert_exporter": "python",
   "pygments_lexer": "ipython3",
   "version": "3.9.7"
  }
 },
 "nbformat": 4,
 "nbformat_minor": 5
}

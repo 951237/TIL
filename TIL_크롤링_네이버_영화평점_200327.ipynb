{
  "nbformat": 4,
  "nbformat_minor": 0,
  "metadata": {
    "colab": {
      "name": "TIL_크롤링_네이버 영화평점_200327.ipynb",
      "provenance": [],
      "collapsed_sections": [],
      "toc_visible": true,
      "mount_file_id": "1uHa1tOuhGfCHKxmJFR10YEQDC3p2IzoH",
      "authorship_tag": "ABX9TyNwV/Y8/qOgLBJg2yw9OvPe",
      "include_colab_link": true
    },
    "kernelspec": {
      "name": "python3",
      "display_name": "Python 3"
    }
  },
  "cells": [
    {
      "cell_type": "markdown",
      "metadata": {
        "id": "view-in-github",
        "colab_type": "text"
      },
      "source": [
        "<a href=\"https://colab.research.google.com/github/951237/TIL/blob/master/TIL_%ED%81%AC%EB%A1%A4%EB%A7%81_%EB%84%A4%EC%9D%B4%EB%B2%84_%EC%98%81%ED%99%94%ED%8F%89%EC%A0%90_200327.ipynb\" target=\"_parent\"><img src=\"https://colab.research.google.com/assets/colab-badge.svg\" alt=\"Open In Colab\"/></a>"
      ]
    },
    {
      "cell_type": "markdown",
      "metadata": {
        "id": "Fjq3GKF8_tpi",
        "colab_type": "text"
      },
      "source": [
        "# 네이버 영화평점 데이터 크롤링"
      ]
    },
    {
      "cell_type": "code",
      "metadata": {
        "id": "yocBjqH99mp0",
        "colab_type": "code",
        "colab": {}
      },
      "source": [
        "from urllib import request\n",
        "from bs4 import BeautifulSoup as soup\n",
        "\n",
        "class Review:\n",
        "    def __init__(self, comment, date, star, good, bad):\n",
        "        self.comment = comment\n",
        "        self.date = date\n",
        "        self.star = star\n",
        "        self.good = good\n",
        "        self.bad = bad\n",
        "\n",
        "    def show(self):\n",
        "        print(\"내용 : \" + self.comment +\n",
        "              \"\\n날짜 : \" + self.date +\n",
        "              \"\\n별점 : \" + self.star +\n",
        "              \"\\n좋아요 : \" + self.good +\n",
        "              \"\\n싫어요 : \" + self.bad)\n",
        "\n",
        "\n",
        "# URL = 'https://movie.naver.com/movie/bi/mi/basic.nhn?code=189001'\n",
        "\n",
        "\n",
        "def get_html(url):\n",
        "    html = request.urlopen(url)\n",
        "    bs_obj = soup(html, \"html.parser\")\n",
        "    print('페이지 소스 로딩 완료!\\n')\n",
        "    return bs_obj\n",
        "\n",
        "\n",
        "def crawl(soup):\n",
        "    review_list = []\n",
        "    # title = soup.find('h3', {'class' : 'h_movie'}).find('a').text\n",
        "    title = soup.find('h3', class_='h_movie').find('a').text  # 영화제목 추출\n",
        "    div = soup.find('div', class_='score_result')\n",
        "\n",
        "    data_list = div.select(\"ul > li\")  # 평정 영역의 한줄평 선택\n",
        "\n",
        "    for review in data_list:\n",
        "        star = review.find('div',\n",
        "                           class_='star_score').text.strip()  # strip() 빈공간 여백 삭제\n",
        "        reply = review.find('div', class_='score_reple')  # 리뷰 선택하기\n",
        "        comment = reply.find(\"p\").text.strip()  # 리뷰 내용\n",
        "        date = reply.select(\"dt > em\")[1].text.strip()  # 리뷰 날짜\n",
        "        button = review.find('div', class_='btn_area')  # 버튼 영역 선택\n",
        "        sympathy = button.select(\"a > strong\")  # 리뷰의 공감과 비공감 선택 태그 부분 선\n",
        "        good = sympathy[0].text  # 좋아요 수치\n",
        "        bad = sympathy[1].text  # 싫어요 수치\n",
        "        review_list.append(Review(comment, date, star, good, bad))\n",
        "    return title, review_list\n",
        "\n",
        "\n",
        "# soup = get_html(URL)\n",
        "# title, review_list = crawl(soup) #제목과 크롤링한 리뷰내용 리턴\n",
        "\n",
        "# print(f'제목 : {title}')\n",
        "# for review in review_list:\n",
        "#     review.show()\n",
        "#     print()\n"
      ],
      "execution_count": 0,
      "outputs": []
    },
    {
      "cell_type": "markdown",
      "metadata": {
        "id": "i6jtIJTn-8m_",
        "colab_type": "text"
      },
      "source": [
        "# 데이터 프레임화"
      ]
    },
    {
      "cell_type": "code",
      "metadata": {
        "id": "9sPvueEq_zOX",
        "colab_type": "code",
        "colab": {}
      },
      "source": [
        "import pandas as pd\n",
        "import time\n",
        "\n",
        "def get_summary(review_list):\n",
        "    star_list = [] # 별점 담기\n",
        "    good_list = [] # 좋아요 점수 담기\n",
        "    bad_list = [] # 싫어요 점수 담기\n",
        "\n",
        "    for review in review_list:\n",
        "        star_list.append(int(review.star))  # 영화 별점 담기\n",
        "        good_list.append(int(review.good))  # 영화 좋아요 점수 담기\n",
        "        bad_list.append(int(review.bad))   # 영화 싫어요 점수 담기\n",
        "\n",
        "    star_series = pd.Series(star_list)  # 영화 별점을 데이터시리즈로 바꾸기\n",
        "    good_series = pd.Series(good_list)  # 영화 좋아요 점수를 시리즈로 바꾸기\n",
        "    bad_series = pd.Series(bad_list)    # 영화 실헝요 점수를 시리즈로 바꾸기\n",
        "\n",
        "    summary = pd.DataFrame({        # 중괄호 유의\n",
        "        'Star' : star_series,       # star 칼럼 만들기\n",
        "        'Good' : good_series,       # Good 칼럼 만들기\n",
        "        'Bad' : bad_series,         # Bad 칼럼 만들기\n",
        "        'Score' : good_series / (good_series + bad_series)  # Score 칼럼 만들기\n",
        "    })\n",
        "    \n",
        "    return summary"
      ],
      "execution_count": 0,
      "outputs": []
    },
    {
      "cell_type": "markdown",
      "metadata": {
        "id": "IOapQiXTBweQ",
        "colab_type": "text"
      },
      "source": [
        "## 다수의 영화 데이터 시각화"
      ]
    },
    {
      "cell_type": "code",
      "metadata": {
        "id": "GpMbIcK0CUfL",
        "colab_type": "code",
        "colab": {
          "base_uri": "https://localhost:8080/",
          "height": 1000
        },
        "outputId": "e87e534e-e49e-4bd0-8624-7da427eac772"
      },
      "source": [
        "movie_code_list = [189001, 187321, 190728, 136900, 167657, 174321, 184859]  # 영화코드 리스트에 담기\n",
        "review_lists = []   # 영화 리뷰를 담을 리스트\n",
        "\n",
        "BASE_URL = 'https://movie.naver.com/movie/bi/mi/basic.nhn?code='    # 영화 코드와 합칠 베이스 url\n",
        "\n",
        "for i in movie_code_list:   \n",
        "    URL = BASE_URL + str(i)     # url 주소 생성하기\n",
        "    bs_obj = get_html(URL)      # beautiful 객체 생성\n",
        "    title, review_list = crawl(bs_obj)  # 객체 내에서 크롤링\n",
        "    summary = get_summary(review_list)  # 리뷰의 별점, 좋아요, 싫어요 점수 데이터 프레임 만들기\n",
        "    print(f'{title}')           # 영화제목 출력\n",
        "    print(summary,'\\n')         # 영화 데이터 프레임 출력\n",
        "    review_lists.append((title, review_list))   # 제목과 리뷰를 리스트에 담기\n",
        "\n"
      ],
      "execution_count": 4,
      "outputs": [
        {
          "output_type": "stream",
          "text": [
            "페이지 소스 로딩 완료!\n",
            "\n",
            "인비저블맨\n",
            "   Star  Good  Bad     Score\n",
            "0    10  3896  791  0.831235\n",
            "1     8  1889  159  0.922363\n",
            "2     8  1381  106  0.928716\n",
            "3     8   748  107  0.874854\n",
            "4     7   711  182  0.796193 \n",
            "\n",
            "페이지 소스 로딩 완료!\n",
            "\n",
            "1917\n",
            "   Star  Good  Bad     Score\n",
            "0    10  2359  145  0.942093\n",
            "1     8  1615  149  0.915533\n",
            "2    10  1304   88  0.936782\n",
            "3    10  1055   50  0.954751\n",
            "4    10  1043   64  0.942186 \n",
            "\n",
            "페이지 소스 로딩 완료!\n",
            "\n",
            "다크 워터스\n",
            "   Star  Good  Bad     Score\n",
            "0     6   409   82  0.832994\n",
            "1    10   182   14  0.928571\n",
            "2    10   217   55  0.797794\n",
            "3    10   164   14  0.921348\n",
            "4    10   133    7  0.950000 \n",
            "\n",
            "페이지 소스 로딩 완료!\n",
            "\n",
            "어벤져스: 엔드게임\n",
            "   Star   Good  Bad     Score\n",
            "0    10  23129  650  0.972665\n",
            "1    10  15286  432  0.972516\n",
            "2    10  14896  463  0.969855\n",
            "3    10  12871  528  0.960594\n",
            "4    10  11550  423  0.964671 \n",
            "\n",
            "페이지 소스 로딩 완료!\n",
            "\n",
            "명탐정 피카츄\n",
            "   Star  Good  Bad     Score\n",
            "0    10  1928  105  0.948352\n",
            "1    10   973   84  0.920530\n",
            "2    10   831   71  0.921286\n",
            "3     8   942  283  0.768980\n",
            "4     8   617   42  0.936267 \n",
            "\n",
            "페이지 소스 로딩 완료!\n",
            "\n",
            "고양이 여행 리포트\n",
            "   Star  Good  Bad     Score\n",
            "0    10    68    5  0.931507\n",
            "1    10    41    3  0.931818\n",
            "2    10    32    4  0.888889\n",
            "3     6    47   19  0.712121\n",
            "4    10    27    2  0.931034 \n",
            "\n",
            "페이지 소스 로딩 완료!\n",
            "\n",
            "물의 기억\n",
            "   Star  Good  Bad     Score\n",
            "0    10    28   10  0.736842\n",
            "1    10    26   10  0.722222\n",
            "2    10    23    9  0.718750\n",
            "3    10    14    2  0.875000\n",
            "4    10    18    6  0.750000 \n",
            "\n"
          ],
          "name": "stdout"
        }
      ]
    },
    {
      "cell_type": "code",
      "metadata": {
        "id": "Pih5asoP0zNn",
        "colab_type": "code",
        "colab": {}
      },
      "source": [
        "review_lists"
      ],
      "execution_count": 0,
      "outputs": []
    },
    {
      "cell_type": "markdown",
      "metadata": {
        "id": "ae77tSZfFNNy",
        "colab_type": "text"
      },
      "source": [
        "## 글꼴 설치하기"
      ]
    },
    {
      "cell_type": "code",
      "metadata": {
        "id": "Jecdu48aKLEg",
        "colab_type": "code",
        "colab": {}
      },
      "source": [
        "!apt-get update -qq\n",
        "!apt-get install fonts-nanum* -qq"
      ],
      "execution_count": 0,
      "outputs": []
    },
    {
      "cell_type": "markdown",
      "metadata": {
        "id": "ai0SsCQ2KSVu",
        "colab_type": "text"
      },
      "source": [
        "## 시각화 하기"
      ]
    },
    {
      "cell_type": "code",
      "metadata": {
        "id": "3Lz2-FKUKv99",
        "colab_type": "code",
        "colab": {}
      },
      "source": [
        "import matplotlib\n",
        "import matplotlib.pyplot as plt\n",
        "import matplotlib.font_manager as fm    # 글꼴 매니저\n",
        "\n",
        "font_path = '/usr/share/fonts/truetype/nanum/NanumBarunGothic.ttf'  #글꼴 경로\n",
        "fontprop = fm.FontProperties(fname=font_path, size=18)  # 글꼴 속성"
      ],
      "execution_count": 0,
      "outputs": []
    },
    {
      "cell_type": "code",
      "metadata": {
        "id": "PKzZvYmDLL4D",
        "colab_type": "code",
        "colab": {}
      },
      "source": [
        "def movie_compare(review_lists):    # 영화 리뷰 별점을 시각화 하기\n",
        "    count = 1   # 영화 제목 카운트\n",
        "    x = []      # 영화 숫자 카운트 저장\n",
        "    y = []      # 별점 평균 저장\n",
        "    for movie, review_list in review_lists:\n",
        "        x.append(x)     # 영화 숫자 저장\n",
        "        summary = get_summary(review_list)      # 리뷰 데이터 프레임 만들기\n",
        "        summary = summary[summary['Score'] > 0.8]   # 점수가 0.8 이상만 모으기\n",
        "        y.append(summary['Star'].mean())        # y리스트에 별점 평균 누적하기\n",
        "        count += 1      # 영화숫자 카운트\n",
        "    \n",
        "    plt.bar(x,y)\n",
        "    plt.title('영화 별점 비교', fontproperties = fontprop)\n",
        "    plt.xlabel('영화 번호', fontproperties = fontprop)\n",
        "    plt.ylabel('신뢰성 별점 평균', fontproperties = fontprop)\n",
        "    plt.show()\n",
        "\n",
        "movie_compare(review_lists)"
      ],
      "execution_count": 0,
      "outputs": []
    },
    {
      "cell_type": "code",
      "metadata": {
        "id": "hV_b-4ChMjIS",
        "colab_type": "code",
        "colab": {}
      },
      "source": [
        ""
      ],
      "execution_count": 0,
      "outputs": []
    }
  ]
}
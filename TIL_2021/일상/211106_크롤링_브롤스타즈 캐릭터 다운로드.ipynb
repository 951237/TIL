{
 "cells": [
  {
   "cell_type": "markdown",
   "id": "e8ea282f",
   "metadata": {},
   "source": [
    "# 브롤스타즈 캐릭터 다운로드"
   ]
  },
  {
   "cell_type": "markdown",
   "id": "dbdb0cb1",
   "metadata": {},
   "source": [
    "## 캐릭터 이름 모으기 01"
   ]
  },
  {
   "cell_type": "code",
   "execution_count": 1,
   "id": "ca53f4dc",
   "metadata": {},
   "outputs": [
    {
     "data": {
      "text/plain": [
       "['8-BIT',\n",
       " 'Amber',\n",
       " 'Ash',\n",
       " 'Barley',\n",
       " 'Bea',\n",
       " 'Belle',\n",
       " 'Bibi',\n",
       " 'Bo',\n",
       " 'Brock',\n",
       " 'Bull',\n",
       " 'Buzz',\n",
       " 'Byron',\n",
       " 'Carl',\n",
       " 'Colette',\n",
       " 'Colonel Ruffs',\n",
       " 'Colt',\n",
       " 'Crow',\n",
       " 'Darryl',\n",
       " 'Dynamike',\n",
       " 'Edgar',\n",
       " 'El Primo',\n",
       " 'Emz',\n",
       " 'Frank',\n",
       " 'Gale',\n",
       " 'Gene',\n",
       " 'Griff',\n",
       " 'Jacky',\n",
       " 'Jessie',\n",
       " 'Leon',\n",
       " 'Lola',\n",
       " 'Lou',\n",
       " 'Max',\n",
       " 'Meg',\n",
       " 'Mortis',\n",
       " 'Mr. P',\n",
       " 'Nani',\n",
       " 'Nita',\n",
       " 'Pam',\n",
       " 'Penny',\n",
       " 'Piper',\n",
       " 'Poco',\n",
       " 'Rico',\n",
       " 'Rosa',\n",
       " 'Sandy',\n",
       " 'Shelly',\n",
       " 'Spike',\n",
       " 'Sprout',\n",
       " 'Squeak',\n",
       " 'Stu',\n",
       " 'Surge',\n",
       " 'Tara',\n",
       " 'Tick']"
      ]
     },
     "execution_count": 1,
     "metadata": {},
     "output_type": "execute_result"
    }
   ],
   "source": [
    "# 텍스트 수집하기\n",
    "\n",
    "from urllib.request import urlopen\n",
    "from bs4 import BeautifulSoup\n",
    "URL = 'https://brawlstars.fandom.com/wiki/Category:Brawlers'\n",
    "\n",
    "html = urlopen(URL)\n",
    "soup = BeautifulSoup(html, 'html.parser')\n",
    "\n",
    "names = soup.find_all('a', {'class':'category-page__member-link'})\n",
    "lst_names = []\n",
    "for name in names:\n",
    "    temp = name.text\n",
    "    if 'Category' in temp:\n",
    "        continue\n",
    "    lst_names.append(temp)\n",
    "lst_names"
   ]
  },
  {
   "cell_type": "markdown",
   "id": "b9530377",
   "metadata": {},
   "source": [
    "## 이미지 다운로드"
   ]
  },
  {
   "cell_type": "code",
   "execution_count": 3,
   "id": "98044148",
   "metadata": {},
   "outputs": [
    {
     "name": "stdout",
     "output_type": "stream",
     "text": [
      "8-BIT 다운로드 완료!\n",
      "Amber 다운로드 완료!\n",
      "Ash 다운로드 완료!\n",
      "Barley 다운로드 완료!\n",
      "Bea 다운로드 완료!\n",
      "Belle 다운로드 완료!\n",
      "Bibi 다운로드 완료!\n",
      "Bo 다운로드 완료!\n",
      "Brock 다운로드 완료!\n",
      "Bull 다운로드 완료!\n",
      "Buzz 다운로드 완료!\n",
      "Byron 다운로드 완료!\n",
      "Carl 다운로드 완료!\n",
      "Colette 다운로드 완료!\n",
      "Colonel Ruffs 다운로드 실패!\n",
      "Colt 다운로드 완료!\n",
      "Crow 다운로드 완료!\n",
      "Darryl 다운로드 완료!\n",
      "Dynamike 다운로드 완료!\n",
      "Edgar 다운로드 완료!\n",
      "El Primo 다운로드 실패!\n",
      "Emz 다운로드 완료!\n",
      "Frank 다운로드 완료!\n",
      "Gale 다운로드 완료!\n",
      "Gene 다운로드 완료!\n",
      "Griff 다운로드 완료!\n",
      "Jacky 다운로드 완료!\n",
      "Jessie 다운로드 완료!\n",
      "Leon 다운로드 완료!\n",
      "Lola 다운로드 완료!\n",
      "Lou 다운로드 완료!\n",
      "Max 다운로드 완료!\n",
      "Meg 다운로드 완료!\n",
      "Mortis 다운로드 완료!\n",
      "Mr. P 다운로드 실패!\n",
      "Nani 다운로드 완료!\n",
      "Nita 다운로드 완료!\n",
      "Pam 다운로드 완료!\n",
      "Penny 다운로드 완료!\n",
      "Piper 다운로드 완료!\n",
      "Poco 다운로드 완료!\n",
      "Rico 다운로드 완료!\n",
      "Rosa 다운로드 완료!\n",
      "Sandy 다운로드 완료!\n",
      "Shelly 다운로드 완료!\n",
      "Spike 다운로드 완료!\n",
      "Sprout 다운로드 완료!\n",
      "Squeak 다운로드 완료!\n",
      "Stu 다운로드 완료!\n",
      "Surge 다운로드 완료!\n",
      "Tara 다운로드 완료!\n",
      "Tick 다운로드 완료!\n"
     ]
    },
    {
     "ename": "NameError",
     "evalue": "name 'lst_name' is not defined",
     "output_type": "error",
     "traceback": [
      "\u001b[0;31m---------------------------------------------------------------------------\u001b[0m",
      "\u001b[0;31mNameError\u001b[0m                                 Traceback (most recent call last)",
      "\u001b[0;32m/tmp/ipykernel_9346/1680394259.py\u001b[0m in \u001b[0;36m<module>\u001b[0;34m\u001b[0m\n\u001b[1;32m     23\u001b[0m \u001b[0;32mfor\u001b[0m \u001b[0mname\u001b[0m \u001b[0;32min\u001b[0m \u001b[0mlst_names\u001b[0m\u001b[0;34m:\u001b[0m\u001b[0;34m\u001b[0m\u001b[0;34m\u001b[0m\u001b[0m\n\u001b[1;32m     24\u001b[0m     \u001b[0mdownload_img\u001b[0m\u001b[0;34m(\u001b[0m\u001b[0mname\u001b[0m\u001b[0;34m)\u001b[0m\u001b[0;34m\u001b[0m\u001b[0;34m\u001b[0m\u001b[0m\n\u001b[0;32m---> 25\u001b[0;31m \u001b[0mprint\u001b[0m\u001b[0;34m(\u001b[0m\u001b[0;34mf'{len(lst_name)}개 작업 완료!'\u001b[0m\u001b[0;34m)\u001b[0m\u001b[0;34m\u001b[0m\u001b[0;34m\u001b[0m\u001b[0m\n\u001b[0m",
      "\u001b[0;31mNameError\u001b[0m: name 'lst_name' is not defined"
     ]
    }
   ],
   "source": [
    "# 이미지 다운로드 \n",
    "from urllib.request import urlopen\n",
    "from urllib import request\n",
    "from bs4 import BeautifulSoup\n",
    "\n",
    "\n",
    "def download_img(name):\n",
    "    try:\n",
    "        URL = f'https://brawlstars.fandom.com/wiki/{name}'\n",
    "\n",
    "        html = urlopen(URL)\n",
    "        soup = BeautifulSoup(html, 'html.parser')\n",
    "\n",
    "        # 본문 찾기\n",
    "        aside = soup.find('aside', {'class':'portable-infobox'})\n",
    "        link = aside.find_all('img')[0].get('src')\n",
    "        savename = f'img/brawlers/{name}.png'\n",
    "        request.urlretrieve(link, savename)\n",
    "        print(f'{name} 다운로드 완료!')\n",
    "    except:\n",
    "        print(f'{name} 다운로드 실패!')\n",
    "\n",
    "for name in lst_names:\n",
    "    download_img(name)\n",
    "print(f'{len(lst_name)}개 작업 완료!')"
   ]
  },
  {
   "cell_type": "code",
   "execution_count": null,
   "id": "001ec545",
   "metadata": {},
   "outputs": [],
   "source": []
  }
 ],
 "metadata": {
  "kernelspec": {
   "display_name": "Python 3 (ipykernel)",
   "language": "python",
   "name": "python3"
  },
  "language_info": {
   "codemirror_mode": {
    "name": "ipython",
    "version": 3
   },
   "file_extension": ".py",
   "mimetype": "text/x-python",
   "name": "python",
   "nbconvert_exporter": "python",
   "pygments_lexer": "ipython3",
   "version": "3.8.7"
  }
 },
 "nbformat": 4,
 "nbformat_minor": 5
}

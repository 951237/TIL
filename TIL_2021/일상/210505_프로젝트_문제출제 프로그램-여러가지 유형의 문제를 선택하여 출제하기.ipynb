{
 "cells": [
  {
   "cell_type": "markdown",
   "id": "searching-porcelain",
   "metadata": {},
   "source": [
    "# 수학문제 만들기 - 희망하는 유형의 문제 출제하기\n",
    "### 프로그램 할일\n",
    "- 00 * 0, 00 * 00, 000 * 00의 유형의 문제를 희망에 따라서 만들기\n",
    "\n",
    "### 코드가 하는 일\n",
    "- 곱하기 숫자를 랜덤으로 생성한다\n",
    "- 문제의 양식을 만든다\n",
    "- 문제와 답을 한 지면에 출제한다.\n",
    "- 입력에 따라서 원하는 유형의 문제를 출제한다."
   ]
  },
  {
   "cell_type": "code",
   "execution_count": 19,
   "id": "great-prayer",
   "metadata": {},
   "outputs": [],
   "source": [
    "import random\n",
    "dic_digit = {\n",
    "    '1':[2,9],\n",
    "    '2':[10,99],\n",
    "    '3':[100,999]\n",
    "}"
   ]
  },
  {
   "cell_type": "code",
   "execution_count": 26,
   "id": "unknown-tooth",
   "metadata": {},
   "outputs": [],
   "source": [
    "# 숫자 생성하기\n",
    "def make_two_one(p_up, p_dn):\n",
    "    test_num = 15\n",
    "    lst_up = list([random.randint(dic_digit[p_up][0], dic_digit[p_up][1]) for i in range(test_num)])\n",
    "    lst_dn = list([random.randint(dic_digit[p_dn][0], dic_digit[p_dn][1]) for i in range(test_num)])\n",
    "    lst_div = list(['-----' for i in range(test_num)])\n",
    "    lst_asw = list(lst_up[i] * lst_dn[i] for i in range(test_num))\n",
    "    return lst_up, lst_dn, lst_div, lst_asw"
   ]
  },
  {
   "cell_type": "code",
   "execution_count": 28,
   "id": "secure-virgin",
   "metadata": {},
   "outputs": [],
   "source": [
    "# 문제지 만들기\n",
    "def make_math_paper(p_up, p_dn):\n",
    "    lst_up, lst_dn, lst_div, lst_asw = make_two_one(p_up, p_dn)\n",
    "    quiz_file = open(f'{p_up}자리 수_{p_dn}자리 수 곱셈_문제지.txt', 'w')\n",
    "\n",
    "    # 문제지 헤더 작성하기\n",
    "    quiz_file.write((' ' * 10) + f'{p_up}자리 X {p_dn}자리 문제풀이 \\n\\n')\n",
    "    quiz_file.write('+ __학년 ___반 이름 : _________\\n\\n+ 날짜 : __월 __일 ___요일\\n\\n')\n",
    "\n",
    "    quiz_file.write('\\n\\n')\n",
    "\n",
    "    for i in range(0, len(lst_up), 3):  # 총 문제에서 3문제씩\n",
    "        str_count_format = '%s.%20s.%20s.\\n'  # 문제번호 위치\n",
    "        str_up_format = '%5s%22s%21s\\n'  # 곱하기 위의 숫자 위치\n",
    "        str_dn_format = '%s%4s%18s%4s%17s%4s\\n'  # 곱하기와 아래 숫자 위치\n",
    "        str_div_format = '%s%22s%21s\\n'  # 구분자 위치\n",
    "        quiz_file.write(str_count_format % (i+1, i+2, i+3))\n",
    "        quiz_file.write(str_up_format % (lst_up[i], lst_up[i+1], lst_up[i+2]))\n",
    "        quiz_file.write(str_dn_format %\n",
    "                        ('X', lst_dn[i], 'X', lst_dn[i+1], 'X', lst_dn[i+2]))\n",
    "        quiz_file.write(str_div_format % (lst_div[i], lst_div[i+1], lst_div[i+2]))\n",
    "        quiz_file.write('\\n\\n\\n')\n",
    "\n",
    "    quiz_file.write('\\n' * 2)\n",
    "    quiz_file.write('-' * 30 + ' 정 답 ' + '-' * 30 + '\\n')\n",
    "    for c, i in enumerate(lst_asw):\n",
    "        quiz_file.write(f'{c+1}번. {i}  ')\n",
    "\n",
    "    quiz_file.close()"
   ]
  },
  {
   "cell_type": "code",
   "execution_count": 33,
   "id": "attached-jumping",
   "metadata": {},
   "outputs": [
    {
     "name": "stdout",
     "output_type": "stream",
     "text": [
      "곱셈식의 윗단 자리수를 입력하세요.( 1 / 2 / 3 ) : 1\n",
      "곱셈식의 아랫단 자리수를 입력하세요.( 1 / 2 / 3 ) : 1\n"
     ]
    }
   ],
   "source": [
    "up = input('곱셈식의 윗단 자리수를 입력하세요.( 1 / 2 / 3 ) : ')\n",
    "dn = input('곱셈식의 아랫단 자리수를 입력하세요.( 1 / 2 / 3 ) : ')\n",
    "make_math_paper(up, dn)"
   ]
  },
  {
   "cell_type": "code",
   "execution_count": null,
   "id": "fifty-zambia",
   "metadata": {},
   "outputs": [],
   "source": []
  }
 ],
 "metadata": {
  "kernelspec": {
   "display_name": "Python 3",
   "language": "python",
   "name": "python3"
  },
  "language_info": {
   "codemirror_mode": {
    "name": "ipython",
    "version": 3
   },
   "file_extension": ".py",
   "mimetype": "text/x-python",
   "name": "python",
   "nbconvert_exporter": "python",
   "pygments_lexer": "ipython3",
   "version": "3.8.7"
  }
 },
 "nbformat": 4,
 "nbformat_minor": 5
}

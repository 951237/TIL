{
 "cells": [
  {
   "cell_type": "markdown",
   "id": "834b18d9",
   "metadata": {},
   "source": [
    "## 카테고리 텍스트 수집하기(대분류)"
   ]
  },
  {
   "cell_type": "code",
   "execution_count": null,
   "id": "a416f7b1",
   "metadata": {},
   "outputs": [],
   "source": [
    "from urllib.request import urlopen\n",
    "from bs4 import BeautifulSoup\n",
    "from urllib import parse\n",
    "from tqdm import tqdm\n",
    "\n",
    "lst_names = []\n",
    "def get_keyword(keyword):\n",
    "    global lst_names\n",
    "    URL = 'https://pokemon.fandom.com/wiki/' + parse.quote(keyword) # url에서 공백문자 포함하기\n",
    "    \n",
    "    try:\n",
    "        html = urlopen(URL)\n",
    "        soup = BeautifulSoup(html, 'html.parser')\n",
    "\n",
    "        names = soup.find_all('a', {'class':'category-page__member-link'})\n",
    "#         lst_names = []\n",
    "        for idx, name in enumerate(tqdm(names, desc='진행 상황', ascii=True)):\n",
    "            temp = name.text\n",
    "            if 'Category' in temp:\n",
    "                lst_names.append(temp)\n",
    "    except:\n",
    "        print(f'{keyword} 오류발생!')\n",
    "\n",
    "# 카테고리 텍스트 수집(대분류)\n",
    "get_keyword('Category:Pokémon')\n",
    "lst_names"
   ]
  },
  {
   "cell_type": "markdown",
   "id": "b4da9562",
   "metadata": {},
   "source": [
    "## 카테고리 키워드 모으기(소분류)"
   ]
  },
  {
   "cell_type": "code",
   "execution_count": null,
   "id": "d6140ddb",
   "metadata": {},
   "outputs": [],
   "source": [
    "from urllib.request import urlopen\n",
    "from bs4 import BeautifulSoup\n",
    "from urllib import parse\n",
    "from tqdm import tqdm\n",
    "\n",
    "lst_result=[]\n",
    "def get_keyword_all(keyword):\n",
    "    global lst_result\n",
    "    URL = 'https://pokemon.fandom.com/wiki/' + parse.quote(keyword) # url에서 공백문자 포함하기\n",
    "    \n",
    "    try:\n",
    "        html = urlopen(URL)\n",
    "        soup = BeautifulSoup(html, 'html.parser')\n",
    "\n",
    "        names = soup.find_all('a', {'class':'category-page__member-link'})\n",
    "#         lst_names = []\n",
    "        for name in names:\n",
    "            temp = name.text\n",
    "            if 'Category' in temp:\n",
    "                lst_result.append(temp)\n",
    "    except:\n",
    "        print(f'{keyword} 오류발생!')\n",
    "\n",
    "# 카테고리 키워드 수집(소분류)\n",
    "for idx, name in enumerate(tqdm(lst_names), desc='진행 상황', ascii=True):\n",
    "    get_keyword_all(name)\n",
    "lst_result"
   ]
  },
  {
   "cell_type": "markdown",
   "id": "dc2ba606",
   "metadata": {},
   "source": [
    "## 포켓몬스터 이름 수집하기"
   ]
  },
  {
   "cell_type": "code",
   "execution_count": null,
   "id": "04ed7bc2",
   "metadata": {},
   "outputs": [],
   "source": [
    "from urllib.request import urlopen\n",
    "from bs4 import BeautifulSoup\n",
    "from urllib import parse\n",
    "from tqdm import tqdm\n",
    "\n",
    "lst_result_names=[]\n",
    "def get_pocketmon_name(keyword):\n",
    "    print(f'{keyword} 카테고리에서 포켓몬 이름 수집시작!')\n",
    "    global lst_result_names\n",
    "    URL = 'https://pokemon.fandom.com/wiki/' + parse.quote(keyword) # url에서 공백문자 포함하기\n",
    "    \n",
    "    try:\n",
    "        html = urlopen(URL)\n",
    "        soup = BeautifulSoup(html, 'html.parser')\n",
    "\n",
    "        names = soup.find_all('a', {'class':'category-page__member-link'})\n",
    "        for name in names:\n",
    "            temp = name.text\n",
    "            if 'Category' in temp:\n",
    "                continue\n",
    "            lst_result_names.append(temp)\n",
    "    except:\n",
    "        print(f'{keyword} 오류발생!')\n",
    "\n",
    "# 포켓몬 이름 수집하기\n",
    "for idx, name in enumerate(tqdm(lst_result, desc='진행 상황', ascii=True)):\n",
    "    get_pocketmon_name(name)\n",
    "# lst_result_names\n",
    "print(f'{len(lst_result_names)}개의 이름 수집 완료!')"
   ]
  },
  {
   "cell_type": "markdown",
   "id": "ef699a6b",
   "metadata": {},
   "source": [
    "## 포켓몬스터 이미지 다운로드 받기"
   ]
  },
  {
   "cell_type": "code",
   "execution_count": null,
   "id": "11e2f9bf",
   "metadata": {},
   "outputs": [],
   "source": [
    "# 이미지 다운로드 \n",
    "from urllib.request import urlopen\n",
    "from bs4 import BeautifulSoup\n",
    "from urllib import parse\n",
    "from tqdm import tqdm\n",
    "\n",
    "def download_img(name):\n",
    "    try:\n",
    "        URL = 'https://pokemon.fandom.com/wiki/' + parse.quote(name)\n",
    "\n",
    "        html = urlopen(URL)\n",
    "        soup = BeautifulSoup(html, 'html.parser')\n",
    "\n",
    "        # 본문 찾기\n",
    "        aside = soup.find('figure', {'class':'pi-item'})\n",
    "        link = aside.find_all('img')[0].get('src')\n",
    "        savename = f'img/pocketmon/{name}.png'\n",
    "        request.urlretrieve(link, savename)\n",
    "#         print(f'{name} 다운로드 완료!')\n",
    "    except:\n",
    "        print(f'{name} 다운로드 실패!')\n",
    "\n",
    "# 이미지 다운로드\n",
    "names = lst_result_names\n",
    "for i, name in enumerate(tqdm(names), desc='진행 상황', ascii=True):\n",
    "    download_img(name)\n",
    "    print(f'{i+1}/{len(names)} : {name} 포켓몬 이미지 수집 완료!')\n",
    "print(f'{len(names)}개 작업 완료!')"
   ]
  },
  {
   "cell_type": "code",
   "execution_count": null,
   "id": "33d06ee0",
   "metadata": {},
   "outputs": [],
   "source": []
  }
 ],
 "metadata": {
  "kernelspec": {
   "display_name": "Python 3 (ipykernel)",
   "language": "python",
   "name": "python3"
  },
  "language_info": {
   "codemirror_mode": {
    "name": "ipython",
    "version": 3
   },
   "file_extension": ".py",
   "mimetype": "text/x-python",
   "name": "python",
   "nbconvert_exporter": "python",
   "pygments_lexer": "ipython3",
   "version": "3.8.7"
  }
 },
 "nbformat": 4,
 "nbformat_minor": 5
}

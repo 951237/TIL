{
 "cells": [
  {
   "cell_type": "markdown",
   "id": "searching-porcelain",
   "metadata": {},
   "source": [
    "# 수학문제 만들기 - 여러가지 유형의 문제를 랜덤으로 출제하기\n",
    "### 프로그램 할일\n",
    "- 00 * 0, 00 * 00, 000 * 00의 유형의 문제가 뒤섞여서 출제하기\n",
    "\n",
    "### 코드가 하는 일\n",
    "- 곱하기 숫자를 랜덤으로 생성한다\n",
    "- 문제의 양식을 만든다\n",
    "- 여러가지 유형의 문제중 하나를 랜덤으로 선택한다.\n",
    "- 문제와 답을 한 지면에 출제한다."
   ]
  },
  {
   "cell_type": "code",
   "execution_count": null,
   "id": "great-prayer",
   "metadata": {},
   "outputs": [],
   "source": []
  }
 ],
 "metadata": {
  "kernelspec": {
   "display_name": "Python 3",
   "language": "python",
   "name": "python3"
  },
  "language_info": {
   "codemirror_mode": {
    "name": "ipython",
    "version": 3
   },
   "file_extension": ".py",
   "mimetype": "text/x-python",
   "name": "python",
   "nbconvert_exporter": "python",
   "pygments_lexer": "ipython3",
   "version": "3.8.7"
  }
 },
 "nbformat": 4,
 "nbformat_minor": 5
}

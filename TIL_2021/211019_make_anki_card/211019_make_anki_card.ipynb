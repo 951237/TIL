{
 "cells": [
  {
   "cell_type": "markdown",
   "id": "deb9a95e",
   "metadata": {},
   "source": [
    "# anki 플래시 카드 csv파일 만들기"
   ]
  },
  {
   "cell_type": "markdown",
   "id": "ff598dec",
   "metadata": {},
   "source": [
    "- 데이터 프레임 만들기\n",
    "    - 칼럼 : \n",
    "- 이미지파일 폴더의 파일 불러오기\n",
    "- 2개씩 짝짓기\n",
    "    - img src='test.jpg'"
   ]
  },
  {
   "cell_type": "code",
   "execution_count": 51,
   "id": "18c80575",
   "metadata": {},
   "outputs": [
    {
     "name": "stdout",
     "output_type": "stream",
     "text": [
      "Mission Completed!!!\n"
     ]
    }
   ],
   "source": [
    "import glob\n",
    "import pandas as pd\n",
    "\n",
    "# 이미지 경려\n",
    "PATH='./img/'\n",
    "\n",
    "# 폴더의 파일 리스트 만들기\n",
    "from os import listdir\n",
    "from os.path import isfile, join\n",
    "files = [f for f in listdir(PATH) if isfile(join(PATH, f))]\n",
    "\n",
    "files = sorted(files) # 리스트 정렬하기\n",
    "\n",
    "# 파일을 데이터 프레임에 넣기\n",
    "lst_files = []\n",
    "# str_pre = input('파일 머리말을 입력하시오. 예)211019 : ')\n",
    "for i in range(0,len(files),2):\n",
    "    lst_files.append([f'<img src=\"{files[i]}\" />', f'<img src=\"{files[i+1]}\" />'])\n",
    "    \n",
    "# 데이터 프레임 만들기\n",
    "df = pd.DataFrame(lst_files, columns=['front', 'back'])\n",
    "\n",
    "df.to_csv('result.csv', index=False, header=False)\n",
    "print('Mission Completed!!!')"
   ]
  },
  {
   "cell_type": "markdown",
   "id": "e62963c4",
   "metadata": {},
   "source": [
    "## 참고 코드"
   ]
  },
  {
   "cell_type": "code",
   "execution_count": 35,
   "id": "62064b74",
   "metadata": {},
   "outputs": [
    {
     "data": {
      "text/plain": [
       "['./img/11.jpg',\n",
       " './img/12.jpg',\n",
       " './img/21.jpg',\n",
       " './img/22.jpg',\n",
       " './img/31.jpg',\n",
       " './img/32.jpg',\n",
       " './img/41.jpg',\n",
       " './img/42.jpg',\n",
       " './img/51.jpg',\n",
       " './img/52.jpg',\n",
       " './img/61.jpg',\n",
       " './img/62.jpg',\n",
       " './img/71.jpg',\n",
       " './img/72.jpg',\n",
       " './img/81.jpg',\n",
       " './img/82.jpg',\n",
       " './img/91.jpg',\n",
       " './img/92.jpg']"
      ]
     },
     "execution_count": 35,
     "metadata": {},
     "output_type": "execute_result"
    }
   ],
   "source": [
    "# 이미지 폴더 파일 리스트 만들기\n",
    "files = sorted(glob.glob('./img/*'))  # 리스트 만들어서 정렬하기\n",
    "files"
   ]
  },
  {
   "cell_type": "code",
   "execution_count": null,
   "id": "869be3b7",
   "metadata": {},
   "outputs": [],
   "source": []
  }
 ],
 "metadata": {
  "kernelspec": {
   "display_name": "Python 3 (ipykernel)",
   "language": "python",
   "name": "python3"
  },
  "language_info": {
   "codemirror_mode": {
    "name": "ipython",
    "version": 3
   },
   "file_extension": ".py",
   "mimetype": "text/x-python",
   "name": "python",
   "nbconvert_exporter": "python",
   "pygments_lexer": "ipython3",
   "version": "3.8.7"
  }
 },
 "nbformat": 4,
 "nbformat_minor": 5
}

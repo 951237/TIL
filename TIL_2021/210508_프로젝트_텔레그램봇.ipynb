{
 "cells": [
  {
   "cell_type": "markdown",
   "id": "steady-purple",
   "metadata": {},
   "source": [
    "# 210508_프로젝트_텔레그램봇\n",
    "### 수학문제 txt 파일 제작후 전송하기"
   ]
  },
  {
   "cell_type": "code",
   "execution_count": null,
   "id": "prescribed-marble",
   "metadata": {},
   "outputs": [],
   "source": [
    "# 참고 코드\n",
    "'''\n",
    "import os\n",
    "import telebot\n",
    "import yfinance as yf\n",
    "\n",
    "API_KEY = os.getenv('API_KEY')\n",
    "bot = telebot.TeleBot(API_KEY)\n",
    "\n",
    "@bot.message_handler(commands=['Greet'])\n",
    "def greet(message):\n",
    "  bot.reply_to(message, \"Hey! Hows it going?\")\n",
    "\n",
    "@bot.message_handler(commands=['hello'])\n",
    "def hello(message):\n",
    "  bot.send_message(message.chat.id, \"Hello!\")\n",
    "\n",
    "@bot.message_handler(commands=['wsb'])\n",
    "def get_stocks(message):\n",
    "  response = \"\"\n",
    "  stocks = ['gme', 'amc', 'nok']\n",
    "  stock_data = []\n",
    "  for stock in stocks:\n",
    "    data = yf.download(tickers=stock, period='2d', interval='1d')\n",
    "    data = data.reset_index()\n",
    "    response += f\"-----{stock}-----\\n\"\n",
    "    stock_data.append([stock])\n",
    "    columns = ['stock']\n",
    "    for index, row in data.iterrows():\n",
    "      stock_position = len(stock_data) - 1\n",
    "      price = round(row['Close'], 2)\n",
    "      format_date = row['Date'].strftime('%m/%d')\n",
    "      response += f\"{format_date}: {price}\\n\"\n",
    "      stock_data[stock_position].append(price)\n",
    "      columns.append(format_date)\n",
    "    print()\n",
    "\n",
    "  response = f\"{columns[0] : <10}{columns[1] : ^10}{columns[2] : >10}\\n\"\n",
    "  for row in stock_data:\n",
    "    response += f\"{row[0] : <10}{row[1] : ^10}{row[2] : >10}\\n\"\n",
    "  response += \"\\nStock Data\"\n",
    "  print(response)\n",
    "  bot.send_message(message.chat.id, response)\n",
    "\n",
    "def stock_request(message):\n",
    "  request = message.text.split()\n",
    "  if len(request) < 2 or request[0].lower() not in \"price\":\n",
    "    return False\n",
    "  else:\n",
    "    return True\n",
    "\n",
    "@bot.message_handler(func=stock_request)\n",
    "def send_price(message):\n",
    "  request = message.text.split()[1]\n",
    "  data = yf.download(tickers=request, period='5m', interval='1m')\n",
    "  if data.size > 0:\n",
    "    data = data.reset_index()\n",
    "    data[\"format_date\"] = data['Datetime'].dt.strftime('%m/%d %I:%M %p')\n",
    "    data.set_index('format_date', inplace=True)\n",
    "    print(data.to_string())\n",
    "    bot.send_message(message.chat.id, data['Close'].to_string(header=False))\n",
    "  else:\n",
    "    bot.send_message(message.chat.id, \"No data!?\")\n",
    "\n",
    "bot.polling()\n",
    "'''"
   ]
  },
  {
   "cell_type": "code",
   "execution_count": null,
   "id": "precious-committee",
   "metadata": {},
   "outputs": [],
   "source": [
    "# 라이브러리 및 api 설정\n",
    "import os\n",
    "import telebot\n",
    "\n",
    "API_KEY = '1644820427:AAEllDn4xGfRAFHGpb9lFxx5QsK-__AG7L8'\n",
    "bot = telebot.TeleBot(API_KEY)\n",
    "\n",
    "@bot.message_handler(commands=['Greet'])\n",
    "def greet(message):\n",
    "  bot.reply_to(message, \"Hey! Hows it going?\")\n",
    "\n",
    "bot.polling()"
   ]
  },
  {
   "cell_type": "code",
   "execution_count": null,
   "id": "comfortable-constitution",
   "metadata": {},
   "outputs": [],
   "source": []
  }
 ],
 "metadata": {
  "kernelspec": {
   "display_name": "Python 3",
   "language": "python",
   "name": "python3"
  },
  "language_info": {
   "codemirror_mode": {
    "name": "ipython",
    "version": 3
   },
   "file_extension": ".py",
   "mimetype": "text/x-python",
   "name": "python",
   "nbconvert_exporter": "python",
   "pygments_lexer": "ipython3",
   "version": "3.8.7"
  }
 },
 "nbformat": 4,
 "nbformat_minor": 5
}

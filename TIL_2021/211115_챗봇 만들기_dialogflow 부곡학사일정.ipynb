{
 "cells": [
  {
   "cell_type": "markdown",
   "id": "2f57867b",
   "metadata": {},
   "source": [
    "# 안산부곡초 챗봇 만들기"
   ]
  },
  {
   "cell_type": "markdown",
   "id": "c397947e",
   "metadata": {},
   "source": [
    "## 211115_구상하기\n",
    "- 기능 생각하기\n",
    "- 기본 틀 만들기\n",
    "- 대단위 데이터 입력 방법 구상\n",
    "    - 나동빈 챗봇 강좌 "
   ]
  },
  {
   "cell_type": "markdown",
   "id": "a6b2d962",
   "metadata": {},
   "source": [
    "### 인텐트 만들기\n",
    "- 학사일정\n",
    "- 연락처 \n",
    "- 체험학습\n",
    "- 코로나19 대응\n",
    "\n",
    "### 파일로 입력하기\n",
    "- csv파일 만들기\n",
    "- dialogflow json 파일 만들기\n",
    "    - 파이선을 이용해서 csv파일을 이용해서 json파일 만들기\n"
   ]
  },
  {
   "cell_type": "markdown",
   "id": "b10de08d",
   "metadata": {},
   "source": [
    "### 예제코드"
   ]
  },
  {
   "cell_type": "code",
   "execution_count": null,
   "id": "2b23cdc8",
   "metadata": {},
   "outputs": [],
   "source": [
    "import openpyxl\n",
    "\n",
    "# 한건의 대화에 대한 정보를 담는 객체\n",
    "class Conversation:\n",
    "    # 질문, 응답 두 변수로 구성\n",
    "    def __init__(self.contentName, contentType, question, answer):\n",
    "        self.contentName = contentName\n",
    "        self.contentType = contentType\n",
    "        self.question = question\n",
    "        self.answer = answer\n",
    "        \n",
    "    def __str__(self):\n",
    "        return \"질문: \" + self.question + \"\\n답변: \" + self.answer + \"\\n\"\n",
    "    \n",
    "# 영어 대화 데이터가 담긴 엑셀 파일 열기\n",
    "wb = openpyxl.load_workbook('input2.xlsx')\n",
    "\n",
    "ws = wb.active\n",
    "\n",
    "conversations = []\n",
    "\n",
    "for r in ws.rows:\n",
    "    c = Conversation(r[0].value, r[1].value, r[2].value, r[3].value)\n",
    "    conversations.append(c)\n",
    "    \n",
    "wb.close()\n",
    "\n",
    "for c in conversations:\n",
    "    print(str(c))\n",
    "    "
   ]
  }
 ],
 "metadata": {
  "kernelspec": {
   "display_name": "Python 3 (ipykernel)",
   "language": "python",
   "name": "python3"
  },
  "language_info": {
   "codemirror_mode": {
    "name": "ipython",
    "version": 3
   },
   "file_extension": ".py",
   "mimetype": "text/x-python",
   "name": "python",
   "nbconvert_exporter": "python",
   "pygments_lexer": "ipython3",
   "version": "3.8.7"
  }
 },
 "nbformat": 4,
 "nbformat_minor": 5
}

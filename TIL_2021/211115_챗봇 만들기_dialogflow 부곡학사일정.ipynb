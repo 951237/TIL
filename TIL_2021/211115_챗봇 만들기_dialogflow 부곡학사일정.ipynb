{
 "cells": [
  {
   "cell_type": "markdown",
   "id": "2f57867b",
   "metadata": {},
   "source": [
    "# 안산부곡초 챗봇 만들기"
   ]
  },
  {
   "cell_type": "markdown",
   "id": "c397947e",
   "metadata": {},
   "source": [
    "## 211115_구상하기\n",
    "- 기능 생각하기\n",
    "- 기본 틀 만들기\n",
    "- 대단위 데이터 입력 방법 구상\n",
    "    - 나동빈 챗봇 강좌 "
   ]
  },
  {
   "cell_type": "code",
   "execution_count": null,
   "id": "63d9a097",
   "metadata": {},
   "outputs": [],
   "source": []
  },
  {
   "cell_type": "code",
   "execution_count": null,
   "id": "04cbd881",
   "metadata": {},
   "outputs": [],
   "source": []
  },
  {
   "cell_type": "code",
   "execution_count": null,
   "id": "2b23cdc8",
   "metadata": {},
   "outputs": [],
   "source": []
  }
 ],
 "metadata": {
  "kernelspec": {
   "display_name": "Python 3 (ipykernel)",
   "language": "python",
   "name": "python3"
  },
  "language_info": {
   "codemirror_mode": {
    "name": "ipython",
    "version": 3
   },
   "file_extension": ".py",
   "mimetype": "text/x-python",
   "name": "python",
   "nbconvert_exporter": "python",
   "pygments_lexer": "ipython3",
   "version": "3.8.7"
  }
 },
 "nbformat": 4,
 "nbformat_minor": 5
}

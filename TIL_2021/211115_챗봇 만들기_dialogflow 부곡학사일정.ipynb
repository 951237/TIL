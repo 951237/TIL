{
 "cells": [
  {
   "cell_type": "markdown",
   "id": "2f57867b",
   "metadata": {},
   "source": [
    "# 안산부곡초 챗봇 만들기"
   ]
  },
  {
   "cell_type": "markdown",
   "id": "c397947e",
   "metadata": {},
   "source": [
    "## 211115_구상하기\n",
    "- 기능 생각하기\n",
    "- 기본 틀 만들기\n",
    "- 대단위 데이터 입력 방법 구상\n",
    "    - 나동빈 챗봇 강좌 "
   ]
  },
  {
   "cell_type": "markdown",
   "id": "a6b2d962",
   "metadata": {},
   "source": [
    "### 인텐트 만들기\n",
    "- 학사일정\n",
    "- 연락처 \n",
    "- 체험학습\n",
    "- 코로나19 대응\n",
    "\n",
    "### 파일로 입력하기\n",
    "- csv파일 만들기\n",
    "- dialogflow json 파일 만들기\n",
    "    - 파이선을 이용해서 csv파일을 이용해서 json파일 만들기\n"
   ]
  },
  {
   "cell_type": "markdown",
   "id": "b10de08d",
   "metadata": {},
   "source": [
    "### 예제코드\n",
    "- 질문과 답변의 엑셀파일을 dialogflow json 파일로 변환하는 코드 @나동빈"
   ]
  },
  {
   "cell_type": "code",
   "execution_count": null,
   "id": "2b23cdc8",
   "metadata": {},
   "outputs": [],
   "source": [
    "import openpyxl\n",
    "\n",
    "# 한건의 대화에 대한 정보를 담는 객체\n",
    "class Conversation:\n",
    "    # 질문, 응답 두 변수로 구성\n",
    "    def __init__(self.contentName, contentType, question, answer):\n",
    "        self.contentName = contentName\n",
    "        self.contentType = contentType\n",
    "        self.question = question\n",
    "        self.answer = answer\n",
    "        \n",
    "    def __str__(self):\n",
    "        return \"질문: \" + self.question + \"\\n답변: \" + self.answer + \"\\n\"\n",
    "    \n",
    "# 영어 대화 데이터가 담긴 엑셀 파일 열기\n",
    "wb = openpyxl.load_workbook('input2.xlsx')\n",
    "\n",
    "ws = wb.active\n",
    "\n",
    "conversations = []\n",
    "\n",
    "for r in ws.rows:\n",
    "    c = Conversation(r[0].value, r[1].value, r[2].value, r[3].value)\n",
    "    conversations.append(c)\n",
    "    \n",
    "wb.close()\n",
    "\n",
    "for c in conversations:\n",
    "    print(str(c))\n",
    "\n",
    "print('총 ', len(conversations), '개의 대화가 존재합니다.')"
   ]
  },
  {
   "cell_type": "markdown",
   "id": "221e74a3",
   "metadata": {},
   "source": [
    "## 211116_엑셀파일 json파일 변환 테스트\n",
    "- 다이얼로그플로 사이트에서 export\n",
    "- 1단계 : 질문 답변 형식 다운로드\n",
    "    - 데이터 형식 분석\n",
    "- 2단계 : 2, 3단계 질문 답변 형식 다운로드\n",
    "    - 데이터 형식 분석\n",
    "- 파일 변환하기\n",
    "    - 나동빈 예제코드 이용하기\n"
   ]
  },
  {
   "cell_type": "markdown",
   "id": "64102dd6",
   "metadata": {},
   "source": [
    "### 엑셀파일 json변환 코드"
   ]
  },
  {
   "cell_type": "code",
   "execution_count": null,
   "id": "68faa337",
   "metadata": {},
   "outputs": [],
   "source": [
    "# -*- coding: utf-8 -*-\n",
    "\n",
    "# 파일로 출력하기\n",
    "i = 1\n",
    "\n",
    "# 출력, 입력 값 JSON 파일을 생성합니다.\n",
    "prev = str(conversations[0].contentName) + str(conversations[0].contentType)\n",
    "f = open(prev + '.json', 'w', encoding='UTF-8')\n",
    "f.write('{ \"id\": \"10d3155d-4468-4118-8f5d-15009af446d0\", \"name\": \"' + prev + '\", \"auto\": true, \"contexts\": [], \"responses\": [ { \"resetContexts\": false, \"affectedContexts\": [], \"parameters\": [], \"messages\": [ { \"type\": 0, \"lang\": \"ko\", \"speech\": \"' + conversations[0].answer + '\" } ], \"defaultResponsePlatforms\": {}, \"speech\": [] } ], \"priority\": 500000, \"webhookUsed\": false, \"webhookForSlotFilling\": false, \"fallbackIntent\": false, \"events\": [] }')\n",
    "f.close()\n",
    "\n",
    "f = open(prev + '_usersays_ko.json', 'w', encoding='UTF-8')\n",
    "f.write(\"[\")\n",
    "f.write('{ \"id\": \"3330d5a3-f38e-48fd-a3e6-000000000001\", \"data\": [ { \"text\": \"' + conversations[0].question + '\", \"userDefined\": false } ], \"isTemplate\": false, \"count\": 0 },')\n",
    "while True:\n",
    "    if i >= len(conversations):\n",
    "        f.write(\"]\")\n",
    "        f.close()\n",
    "        break;\n",
    "    c = conversations[i]\n",
    "    \n",
    "    if prev == str(c.contentName) + str(c.contentType):\n",
    "        f.write('{ \"id\": \"3330d5a3-f38e-48fd-a3e6-000000000001\", \"data\": [ { \"text\": \"' + c.question + '\", \"userDefined\": false } ], \"isTemplate\": false, \"count\": 0 },')\n",
    "    else:\n",
    "        f.write(\"]\")\n",
    "        f.close()\n",
    "        \n",
    "        # 출력, 입력 값 JSON 파일을 생성합니다.\n",
    "        prev = str(c.contentName) + str(c.contentType)\n",
    "        f = open(prev + '.json', 'w', encoding='UTF-8')\n",
    "        f.write('{ \"id\": \"10d3155d-4468-4118-8f5d-15009af446d0\", \"name\": \"' + prev + '\", \"auto\": true, \"contexts\": [], \"responses\": [ { \"resetContexts\": false, \"affectedContexts\": [], \"parameters\": [], \"messages\": [ { \"type\": 0, \"lang\": \"ko\", \"speech\": \"' + c.answer + '\" } ], \"defaultResponsePlatforms\": {}, \"speech\": [] } ], \"priority\": 500000, \"webhookUsed\": false, \"webhookForSlotFilling\": false, \"fallbackIntent\": false, \"events\": [] }')\n",
    "        f.close()\n",
    "\n",
    "        f = open(prev + '_usersays_ko.json', 'w', encoding='UTF-8')\n",
    "        f.write(\"[\")\n",
    "        f.write('{ \"id\": \"3330d5a3-f38e-48fd-a3e6-000000000001\", \"data\": [ { \"text\": \"' + c.question + '\", \"userDefined\": false } ], \"isTemplate\": false, \"count\": 0 },')\n",
    "\n",
    "    i = i + 1\n"
   ]
  },
  {
   "cell_type": "markdown",
   "id": "8b4e7a07",
   "metadata": {},
   "source": [
    "## 211117_json파일 변환 검토"
   ]
  },
  {
   "cell_type": "markdown",
   "id": "fd3f1eaa",
   "metadata": {},
   "source": [
    "## 211119 노션을 이용한 챗봇 만들기\n",
    "- 챗봇 기본틀을 만들고 자세한 안내사항은 노션의 링크를 이용해서 제공\n",
    "- 챗봇_학부모용\n",
    "    - 각 페이지 생성\n",
    "    - 링크생성\n",
    "- 챗봇_교사용\n",
    "    - 각페이지 생성\n",
    "    - 링크생성"
   ]
  },
  {
   "cell_type": "markdown",
   "id": "7b37b796",
   "metadata": {},
   "source": [
    "- 학생, 학부모용\n",
    "    - 방학\n",
    "    - 재량휴업일\n",
    "    - 체험학습 신청\n",
    "    - 체험학습 종이\n",
    "    - 코로나19 관련\n",
    "    \n",
    "- 교사용\n",
    "    - 방학\n",
    "    - 재량휴업일\n",
    "    - 내선번호\n",
    "    - 월중행사\n",
    "    - 자료제공\n",
    "        - 전담시간표\n",
    "        - 학교교육과정"
   ]
  },
  {
   "cell_type": "markdown",
   "id": "c2ef2112",
   "metadata": {},
   "source": [
    "## 211120_챗봇 사용 노션링크 정리"
   ]
  },
  {
   "cell_type": "markdown",
   "id": "927872a4",
   "metadata": {},
   "source": [
    "- 학교 현황 \n",
    "    - https://951237.notion.site/ed35cd4c62184d37a9713d9b7bbb8597\n",
    "- 학현초 교직원 현황\n",
    "    - https://951237.notion.site/473a61bd05544a289dd5b3445510b490\n",
    "- 학현초 학급 학생수 현황\n",
    "    - https://www.notion.so/3cac6dffbcac4a46b2ce7c7271ea3192)\n",
    "-학현초 주요시설 현황\n",
    "    - https://www.notion.so/5f2ebce79b56454e84e0dbdb4639d35b)\n",
    "- 학현초 연혁\n",
    "    - https://www.notion.so/5391b1a92de940b88ae846ef398920e5)\n",
    "- 교실배치도\n",
    "    - https://www.notion.so/f9ead6ffdfda4b63bcc417b0ccbda99b)"
   ]
  },
  {
   "cell_type": "markdown",
   "id": "1198b1f3",
   "metadata": {},
   "source": [
    "### 문제 발생하기\n",
    "    - 답변을 어떻게 링크로 제공할 수 있을까? "
   ]
  },
  {
   "cell_type": "markdown",
   "id": "753ea16d",
   "metadata": {},
   "source": [
    "## 211121_챗봇 작업하기\n",
    "- 인텐트 만들기\n",
    "- 엔티티 만들기"
   ]
  },
  {
   "cell_type": "code",
   "execution_count": null,
   "id": "36c301bd",
   "metadata": {},
   "outputs": [],
   "source": []
  }
 ],
 "metadata": {
  "kernelspec": {
   "display_name": "Python 3 (ipykernel)",
   "language": "python",
   "name": "python3"
  },
  "language_info": {
   "codemirror_mode": {
    "name": "ipython",
    "version": 3
   },
   "file_extension": ".py",
   "mimetype": "text/x-python",
   "name": "python",
   "nbconvert_exporter": "python",
   "pygments_lexer": "ipython3",
   "version": "3.8.7"
  }
 },
 "nbformat": 4,
 "nbformat_minor": 5
}

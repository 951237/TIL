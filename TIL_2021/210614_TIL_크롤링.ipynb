{
  "nbformat": 4,
  "nbformat_minor": 0,
  "metadata": {
    "colab": {
      "name": "210614_TIL_크롤링.ipynb",
      "provenance": [],
      "authorship_tag": "ABX9TyO+suED2RnZuubjo0Jh3i5E",
      "include_colab_link": true
    },
    "kernelspec": {
      "name": "python3",
      "display_name": "Python 3"
    },
    "language_info": {
      "name": "python"
    }
  },
  "cells": [
    {
      "cell_type": "markdown",
      "metadata": {
        "id": "view-in-github",
        "colab_type": "text"
      },
      "source": [
        "<a href=\"https://colab.research.google.com/github/951237/TIL/blob/master/210614_TIL_%ED%81%AC%EB%A1%A4%EB%A7%81.ipynb\" target=\"_parent\"><img src=\"https://colab.research.google.com/assets/colab-badge.svg\" alt=\"Open In Colab\"/></a>"
      ]
    },
    {
      "cell_type": "code",
      "metadata": {
        "id": "lz783Ogkupu9"
      },
      "source": [
        "# 다음 사이트 뉴스 크롤링\n",
        "# 페이지 접속하기\n",
        "# 소스가져오기\n",
        "# 타이틀 가져오기\n",
        "# 링크가져오기"
      ],
      "execution_count": null,
      "outputs": []
    },
    {
      "cell_type": "code",
      "metadata": {
        "id": "PIuvW3u_vFnZ"
      },
      "source": [
        "import requests\n",
        "from bs4 import BeautifulSoup\n",
        "import lxml\n",
        "\n",
        "def get_url(url):\n",
        "    res = requests.get(url)\n",
        "    soup = BeautifulSoup(res.text, \"lxml\")\n",
        "    return soup"
      ],
      "execution_count": null,
      "outputs": []
    },
    {
      "cell_type": "code",
      "metadata": {
        "id": "_GPW7wWTvYAx"
      },
      "source": [
        "soup = get_url('https://news.daum.net/ranking/popular')"
      ],
      "execution_count": null,
      "outputs": []
    },
    {
      "cell_type": "code",
      "metadata": {
        "id": "Kw-jTExzwEfU"
      },
      "source": [
        "uls = soup.find('ul', attrs={\"class\" : \"list_news2\"})"
      ],
      "execution_count": null,
      "outputs": []
    },
    {
      "cell_type": "code",
      "metadata": {
        "id": "8ZyxJYdQwG2b"
      },
      "source": [
        "news = uls.find_all('a', attrs={'class':'link_txt'})"
      ],
      "execution_count": null,
      "outputs": []
    },
    {
      "cell_type": "code",
      "metadata": {
        "colab": {
          "base_uri": "https://localhost:8080/"
        },
        "id": "UJbpyvZKyV9G",
        "outputId": "32e49d0b-9f3f-49fd-9aae-a034c09d759e"
      },
      "source": [
        "for a, i in enumerate(news):\n",
        "    title = i.text.strip()\n",
        "    link = i.get('href')\n",
        "    format = f'{a+1}. {title} \\n{link}\\n'\n",
        "    print(format)"
      ],
      "execution_count": null,
      "outputs": [
        {
          "output_type": "stream",
          "text": [
            "1. 비행기로 14시간 42분 날아가 도착..인천서 가장 먼 직항지는? \n",
            "https://v.daum.net/v/20210614114143694\n",
            "\n",
            "2. 노숙자가 벌거벗고 일광욕..대낮 쇼핑거리 '경악할 풍경' \n",
            "https://v.daum.net/v/20210614101733738\n",
            "\n",
            "3. 'PD수첩' 2010년 천안함 침몰..11년만에 입을 연 최원일 함장 \n",
            "https://v.daum.net/v/20210614095729768\n",
            "\n",
            "4. '현역 입대 안 하려고'..끼니 걸러 47kg까지 뺀 20대 유죄 \n",
            "https://v.daum.net/v/20210614095350568\n",
            "\n",
            "5. \"예약 접종률 99.5%..노쇼백신 사실상 없다\"..접종자 1400만명 이번주 넘을듯 \n",
            "https://v.daum.net/v/20210614112700968\n",
            "\n",
            "6. 자기 방에서 여친과 11년 동거한 인도 남성..가족은 몰랐다 \n",
            "https://v.daum.net/v/20210614090621477\n",
            "\n",
            "7. 이준석 \"홍준표, 복당 늦출 이유 없다\".. 홍준표 \"단칼에 풀어야\" \n",
            "https://v.daum.net/v/20210614115601144\n",
            "\n",
            "8. [황출새]\"문 대통령 G7 앞자리 좋은데.. 뒷자리 섰으면 언론이 또 욕했을 것\" \n",
            "https://v.daum.net/v/20210614092213119\n",
            "\n",
            "9. '따릉이 출근' 이준석 안전모 안썼는데..\"단속은요?\" \n",
            "https://v.daum.net/v/20210614091116681\n",
            "\n",
            "10. \"윤석열 35.5% 이재명 27.7%..박용진, 범여권 또 3위\" \n",
            "https://v.daum.net/v/20210614105559446\n",
            "\n",
            "11. 현대로템 K2 흑표, 20조 인도軍 전차 사업 '잭팟' 터뜨리나 \n",
            "https://v.daum.net/v/20210614100113978\n",
            "\n",
            "12. 눈물 훔친 이준석 \"보훈 적극적이지 못해\" 천안함 유족에 사과 [현장] \n",
            "https://v.daum.net/v/20210614093601703\n",
            "\n",
            "13. 故손정민 父 \"아들 어떻게 입수했나..친구에게 듣고 싶다\" \n",
            "https://v.daum.net/v/20210614082608197\n",
            "\n",
            "14. 해외 체류로 군대 안 간 40대 집유 판결에 \"땡큐\" 하고 퇴장 \n",
            "https://v.daum.net/v/20210614110059737\n",
            "\n",
            "15. \"마치 여당된 것 같다\"..이준석 현충원 참배에 200명 '운집' \n",
            "https://v.daum.net/v/20210614102117910\n",
            "\n",
            "16. 윤석열, 이준석에 \"큰 기대\"..입당 질문에 \"국민 가리키는 대로\" \n",
            "https://v.daum.net/v/20210614092027048\n",
            "\n",
            "17. 日스가, 문대통령 대면 후 \"징용·위안부 해결책 제시해야\"(종합) \n",
            "https://v.daum.net/v/20210614091832959\n",
            "\n",
            "18. 삶은 달걀과 브로콜리의 조합.. 아침식사로 좋은 까닭 \n",
            "https://v.daum.net/v/20210614092459201\n",
            "\n",
            "19. 文 대통령 \"日 침탈 헤이그특사·포츠담 회담 떠올라.. 스가 총리와 회담 못해 아쉬워\" \n",
            "https://v.daum.net/v/20210614090250290\n",
            "\n",
            "20. \"일어나니 숨져 있었다\" 신고한 40대..숨진 아내와 딸 살해 공모 \n",
            "https://v.daum.net/v/20210614074937497\n",
            "\n",
            "21. 20대 육군 병사, 화이자 접종 엿새 뒤 사망..\"인과성 조사\" \n",
            "https://v.daum.net/v/20210614120901595\n",
            "\n",
            "22. \"부정행위 안했는데 0점 처리한다면..\" 여고생 극단적 선택 \n",
            "https://v.daum.net/v/20210614085103834\n",
            "\n",
            "23. 이준석 \"공수처, 어쩜 이렇게 윤석열 돕는 듯 움직이는지..\" \n",
            "https://v.daum.net/v/20210614105110246\n",
            "\n",
            "24. \"아, 내 아들아\" \"친구야, 하늘나라서 행복하렴\"..눈물의 발인 \n",
            "https://v.daum.net/v/20210614113054179\n",
            "\n",
            "25. 세계적 물리학자들 \"외계인 만나면 지구 멸망할 것\" 주장..왜? \n",
            "https://v.daum.net/v/20210614102604075\n",
            "\n",
            "26. 남교사에 \"예뻐서 몰래 훔쳐봤다\" 성희롱 여교장, 교사단체 \"엄중처벌\" \n",
            "https://v.daum.net/v/20210614111435449\n",
            "\n",
            "27. 김 여사 손잡고 다가온 문 대통령, 1분만에 자리뜬 스가 \n",
            "https://v.daum.net/v/20210614115403095\n",
            "\n",
            "28. 안철수, 이준석에 \"제1야당 비롯 모든 세력, 기득권 내려놔야\" \n",
            "https://v.daum.net/v/20210614104101787\n",
            "\n",
            "29. \"주52시간제, 임금 10년 전으로 되돌려\"..피 마르는 영세 中企 \n",
            "https://v.daum.net/v/20210614105559445\n",
            "\n",
            "30. 독수리 최후의 만찬?..'청산가리 1000배 독' 복어 잡은 모습 포착 \n",
            "https://v.daum.net/v/20210614105734505\n",
            "\n",
            "31. 중국, G7 '트럼프 악몽'서 '미국 복귀' 반전에 좌불안석 \n",
            "https://v.daum.net/v/20210614101556675\n",
            "\n",
            "32. [속보] 셀트리온 \"코로나 치료제, 글로벌 3상서 효능·안전성 입증\" \n",
            "https://v.daum.net/v/20210614091129687\n",
            "\n",
            "33. [미얀마르포]'강매' 군부기업 비누·치약 써봤더니..품질 조악·일부 더 비싸 \n",
            "https://v.daum.net/v/20210614070012883\n",
            "\n",
            "34. [영상] 광주 붕괴 건물 건축부터 부실공사?..조폭 개입 의혹도 조사 \n",
            "https://v.daum.net/v/20210614112906091\n",
            "\n",
            "35. 유토피아 꿈꾼 현자인가, 집단난교 즐긴 재앙인가 [왓칭] \n",
            "https://v.daum.net/v/20210614101759751\n",
            "\n",
            "36. '치매 80대 성폭행' 혐의 50대..얼굴 가린채 구속심사(종합) \n",
            "https://v.daum.net/v/20210614115616157\n",
            "\n",
            "37. \"안전모 안써도 되나요?\" 이준석 '따릉이' 논란, 처벌 받을까 \n",
            "https://v.daum.net/v/20210614094615200\n",
            "\n",
            "38. [인터뷰] 순환기내과 이원재 교수, \"콜레스테롤 정상 수치, 잘못 알고 있을 수도?\" \n",
            "https://v.daum.net/v/20210614094113996\n",
            "\n",
            "39. 인공눈물 말고, 눈 촉촉하게 하는 방법 4 \n",
            "https://v.daum.net/v/20210614104302891\n",
            "\n",
            "40. 일일 확진자 300명대로 '뚝'..1100만명 접종 백신 효과? \n",
            "https://v.daum.net/v/20210614105059226\n",
            "\n",
            "41. 윤석열, 대변인 통해 첫 메시지..\"입당 등 모든 선택 열려 있어\"(종합) \n",
            "https://v.daum.net/v/20210614095020395\n",
            "\n",
            "42. 스가 \"징용·위안부 약속 안지키는 한국..한미일 정상회담 없다\" \n",
            "https://v.daum.net/v/20210614080340769\n",
            "\n",
            "43. \"고창군에 25년을 당했다, 내 권리 돌려달라\" \n",
            "https://v.daum.net/v/20210614104542999\n",
            "\n",
            "44. 7년만에 조단위 계약 딴 대우조선, FPSO는? \n",
            "https://v.daum.net/v/20210614082249143\n",
            "\n",
            "45. 이준석 \"당 대표해 사과드린다\" 눈물..천안함 유족 \"그마음 변치말라\" \n",
            "https://v.daum.net/v/20210614085909059\n",
            "\n",
            "46. \"대만의 실수는 당초 백신 필요 없다고 생각한 것\" \n",
            "https://v.daum.net/v/20210614093643757\n",
            "\n",
            "47. 베트남서 'AZ 백신 접종' 의료진 53명 무더기 확진 \n",
            "https://v.daum.net/v/20210614120334514\n",
            "\n",
            "48. 수박 3통을 허벅지 힘으로 7초 만에 쪼개는 美 여성 \n",
            "https://v.daum.net/v/20210614112102731\n",
            "\n",
            "49. 산린이를 위한 서울 도심 속 등산 코스 10 \n",
            "https://v.daum.net/v/20210614070014887\n",
            "\n",
            "50. \"차세대 아이패드 미니, 이렇게 생겼다\" \n",
            "https://v.daum.net/v/20210614094637212\n",
            "\n"
          ],
          "name": "stdout"
        }
      ]
    },
    {
      "cell_type": "code",
      "metadata": {
        "id": "EBDOOt4M0-sM"
      },
      "source": [
        ""
      ],
      "execution_count": null,
      "outputs": []
    }
  ]
}
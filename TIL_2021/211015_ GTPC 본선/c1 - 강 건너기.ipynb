{
 "cells": [
  {
   "cell_type": "code",
   "execution_count": 6,
   "id": "b9c0cd2f",
   "metadata": {},
   "outputs": [],
   "source": [
    "t = 3\n",
    "a, b = 1, 2"
   ]
  },
  {
   "cell_type": "code",
   "execution_count": 21,
   "id": "e0c23df6",
   "metadata": {},
   "outputs": [
    {
     "data": {
      "text/plain": [
       "1"
      ]
     },
     "execution_count": 21,
     "metadata": {},
     "output_type": "execute_result"
    }
   ],
   "source": [
    "def ship(n, from_pos, to_pos, aux_pos):\n",
    "    lst_c = []\n",
    "    if n == 1:\n",
    "        return 1\n",
    "    return 1+ ship(n-1, from_pos, aux_pos, to_pos) + ship(n-1, aux_pos, to_pos, from_pos)\n",
    "    \n",
    "ship(1, 1, 3, 2)\n",
    "    "
   ]
  },
  {
   "cell_type": "code",
   "execution_count": 23,
   "id": "d3ae0f05",
   "metadata": {},
   "outputs": [
    {
     "data": {
      "text/plain": [
       "15"
      ]
     },
     "execution_count": 23,
     "metadata": {},
     "output_type": "execute_result"
    }
   ],
   "source": [
    "ship(4, 1, 3, 2)"
   ]
  },
  {
   "cell_type": "code",
   "execution_count": 28,
   "id": "9e1f26f1",
   "metadata": {},
   "outputs": [
    {
     "name": "stdout",
     "output_type": "stream",
     "text": [
      "5\n",
      "4\n"
     ]
    },
    {
     "data": {
      "text/plain": [
       "31"
      ]
     },
     "execution_count": 28,
     "metadata": {},
     "output_type": "execute_result"
    }
   ],
   "source": [
    "t = int(input())\n",
    "s = input()\n",
    "\n",
    "def ship(n, from_pos, to_pos, aux_pos):\n",
    "    lst_c = []\n",
    "    if n == 1:\n",
    "        return 1\n",
    "    return 1+ ship(n-1, from_pos, aux_pos, to_pos) + ship(n-1, aux_pos, to_pos, from_pos)\n",
    "    \n",
    "ship(t, 1, 3, 2)"
   ]
  },
  {
   "cell_type": "code",
   "execution_count": null,
   "id": "3d0b5d8f",
   "metadata": {},
   "outputs": [],
   "source": []
  }
 ],
 "metadata": {
  "kernelspec": {
   "display_name": "Python 3 (ipykernel)",
   "language": "python",
   "name": "python3"
  },
  "language_info": {
   "codemirror_mode": {
    "name": "ipython",
    "version": 3
   },
   "file_extension": ".py",
   "mimetype": "text/x-python",
   "name": "python",
   "nbconvert_exporter": "python",
   "pygments_lexer": "ipython3",
   "version": "3.8.7"
  }
 },
 "nbformat": 4,
 "nbformat_minor": 5
}

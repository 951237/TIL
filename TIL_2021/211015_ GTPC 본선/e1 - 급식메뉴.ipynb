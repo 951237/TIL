{
 "cells": [
  {
   "cell_type": "code",
   "execution_count": 5,
   "id": "797928c9",
   "metadata": {},
   "outputs": [
    {
     "name": "stdout",
     "output_type": "stream",
     "text": [
      "**경우의 수 : 6개\n",
      "[('1', '2', '3'), ('1', '3', '2'), ('2', '1', '3'), ('2', '3', '1'), ('3', '1', '2'), ('3', '2', '1')]\n"
     ]
    }
   ],
   "source": [
    "import itertools\n",
    "\n",
    "cases = list(itertools.permutations(('123'),3))\n",
    "\n",
    "print(\"**경우의 수 : %s개\" % len(cases))\n",
    "print(cases)"
   ]
  },
  {
   "cell_type": "code",
   "execution_count": 6,
   "id": "c4bc9319",
   "metadata": {},
   "outputs": [
    {
     "name": "stdout",
     "output_type": "stream",
     "text": [
      "('1', '2', '3')\n",
      "('1', '3', '2')\n",
      "('2', '1', '3')\n",
      "('2', '3', '1')\n",
      "('3', '1', '2')\n",
      "('3', '2', '1')\n"
     ]
    }
   ],
   "source": [
    "for case in cases:\n",
    "    \n",
    "    print(case)"
   ]
  },
  {
   "cell_type": "code",
   "execution_count": 9,
   "id": "711a053e",
   "metadata": {},
   "outputs": [
    {
     "data": {
      "text/plain": [
       "2.0"
      ]
     },
     "execution_count": 9,
     "metadata": {},
     "output_type": "execute_result"
    }
   ],
   "source": [
    "import math\n",
    "(math.factorial(3) - math.factorial(2)) / 2"
   ]
  },
  {
   "cell_type": "code",
   "execution_count": 19,
   "id": "d45163d9",
   "metadata": {},
   "outputs": [
    {
     "name": "stdout",
     "output_type": "stream",
     "text": [
      "4\n",
      "1\n",
      "9.0\n"
     ]
    }
   ],
   "source": [
    "import math\n",
    "t = int(input())\n",
    "s = input()\n",
    "\n",
    "if t == 1:\n",
    "    print(0)\n",
    "elif t == 2:\n",
    "    print(1)\n",
    "else:\n",
    "    result = (math.factorial(t) - math.factorial(t-1)) / 2\n",
    "    print(result)"
   ]
  },
  {
   "cell_type": "markdown",
   "id": "3fb03175",
   "metadata": {},
   "source": [
    "# "
   ]
  }
 ],
 "metadata": {
  "kernelspec": {
   "display_name": "Python 3 (ipykernel)",
   "language": "python",
   "name": "python3"
  },
  "language_info": {
   "codemirror_mode": {
    "name": "ipython",
    "version": 3
   },
   "file_extension": ".py",
   "mimetype": "text/x-python",
   "name": "python",
   "nbconvert_exporter": "python",
   "pygments_lexer": "ipython3",
   "version": "3.8.7"
  }
 },
 "nbformat": 4,
 "nbformat_minor": 5
}

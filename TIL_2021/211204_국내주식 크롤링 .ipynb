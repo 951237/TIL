{
 "cells": [
  {
   "cell_type": "code",
   "execution_count": 4,
   "id": "a930f621",
   "metadata": {},
   "outputs": [],
   "source": [
    "import yfinance as yf\n",
    "\n",
    "class Stock_price():\n",
    "    def __init__(self, stocks, period, interval):\n",
    "        self.stocks = stocks\n",
    "        self.period = period\n",
    "        self.interval = interval\n",
    "\n",
    "    def get_data(self, p_stock):\n",
    "        data = yf.download(tickers=p_stock, period=self.period,\n",
    "                           interval=self.interval)  # yf 클래스로 주식 데이터 가져오기\n",
    "        data = data.reset_index()  # 주식데이터 리셋하기\n",
    "        return data\n",
    "\n",
    "    def main(self):\n",
    "#         response = \"\"  # 빈문자열 생성\n",
    "        stock_data = []  # 주식 데이터를 담을 빈 리스트 생성\n",
    "        for stock in self.stocks:\n",
    "            data = self.get_data(stock)\n",
    "            print(f\"-----{stock}-----\\n\")  # 빈문자열에 주식이름으로 타이틀 추가하기\n",
    "            stock_data.append([stock])   # 리스트에 주식 리스트 추가하기\n",
    "            columns = ['stock']  # 킬람 변수 생성\n",
    "            for index, row in data.iterrows():\n",
    "                stock_position = len(stock_data) - 1  # 리스트의 위치 찾기\n",
    "                price = round(row['Close'], 2)\n",
    "                format_date = row['Date'].strftime('%m/%d')\n",
    "                response += f\"{format_date}: {price}\\n\"\n",
    "                stock_data[stock_position].append(price)\n",
    "                columns.append(format_date)\n",
    "        print(f\"{columns[0] : <10}{columns[1] : ^10}{columns[2] : ^10}{columns[3] : ^10}{columns[4] : ^10}{columns[5] : >10}\\n\")\n",
    "        for row in stock_data:\n",
    "            print(f\"{row[0] : <10}{row[1] : ^10}{row[2] : ^10}{row[3] : ^10}{row[4] : ^10}{row[5] : >10}\\n\")\n",
    "        print(\"\\nStock Data\")\n"
   ]
  },
  {
   "cell_type": "code",
   "execution_count": null,
   "id": "9a536474",
   "metadata": {},
   "outputs": [
    {
     "name": "stderr",
     "output_type": "stream",
     "text": [
      "Exception in thread Thread-8:\n",
      "Traceback (most recent call last):\n",
      "  File \"/usr/local/lib/python3.8/threading.py\", line 932, in _bootstrap_inner\n",
      "    self.run()\n",
      "  File \"/usr/local/lib/python3.8/threading.py\", line 870, in run\n",
      "    self._target(*self._args, **self._kwargs)\n",
      "  File \"/home/pi/.local/lib/python3.8/site-packages/multitasking/__init__.py\", line 102, in _run_via_pool\n",
      "    return callee(*args, **kwargs)\n",
      "  File \"/home/pi/.local/lib/python3.8/site-packages/yfinance/multi.py\", line 166, in _download_one_threaded\n",
      "    data = _download_one(ticker, start, end, auto_adjust, back_adjust,\n",
      "  File \"/home/pi/.local/lib/python3.8/site-packages/yfinance/multi.py\", line 178, in _download_one\n",
      "    return Ticker(ticker).history(period=period, interval=interval,\n",
      "  File \"/home/pi/.local/lib/python3.8/site-packages/yfinance/base.py\", line 155, in history\n",
      "    data = data.json()\n",
      "  File \"/usr/local/lib/python3.8/site-packages/requests/models.py\", line 910, in json\n",
      "    return complexjson.loads(self.text, **kwargs)\n",
      "  File \"/usr/local/lib/python3.8/json/__init__.py\", line 357, in loads\n",
      "    return _default_decoder.decode(s)\n",
      "  File \"/usr/local/lib/python3.8/json/decoder.py\", line 337, in decode\n",
      "    obj, end = self.raw_decode(s, idx=_w(s, 0).end())\n",
      "  File \"/usr/local/lib/python3.8/json/decoder.py\", line 355, in raw_decode\n",
      "    raise JSONDecodeError(\"Expecting value\", s, err.value) from None\n",
      "json.decoder.JSONDecodeError: Expecting value: line 1 column 1 (char 0)\n"
     ]
    }
   ],
   "source": [
    "try:                           \n",
    "#     stocks = ['goog','aapl', ]  # 주식명을 리스트에 담기\n",
    "    find_price = Stock_price('goog', '5d', '1d')\n",
    "    find_price.main()\n",
    "    print(response)\n",
    "except Exception as e:\n",
    "    print(f\"Error message: {e}\")"
   ]
  },
  {
   "cell_type": "code",
   "execution_count": null,
   "id": "a0817f91",
   "metadata": {},
   "outputs": [],
   "source": []
  }
 ],
 "metadata": {
  "kernelspec": {
   "display_name": "Python 3 (ipykernel)",
   "language": "python",
   "name": "python3"
  },
  "language_info": {
   "codemirror_mode": {
    "name": "ipython",
    "version": 3
   },
   "file_extension": ".py",
   "mimetype": "text/x-python",
   "name": "python",
   "nbconvert_exporter": "python",
   "pygments_lexer": "ipython3",
   "version": "3.8.7"
  }
 },
 "nbformat": 4,
 "nbformat_minor": 5
}

{
 "cells": [
  {
   "cell_type": "markdown",
   "id": "e8ea282f",
   "metadata": {},
   "source": [
    "# 브롤스타즈 캐릭터 다운로드"
   ]
  },
  {
   "cell_type": "markdown",
   "id": "dbdb0cb1",
   "metadata": {},
   "source": [
    "## 캐릭터 이름 모으기 01"
   ]
  },
  {
   "cell_type": "code",
   "execution_count": 38,
   "id": "ca53f4dc",
   "metadata": {},
   "outputs": [],
   "source": [
    "# 텍스트 수집하기\n",
    "\n",
    "from urllib.request import urlopen\n",
    "from bs4 import BeautifulSoup\n",
    "URL = 'https://brawlstars.fandom.com/wiki/Category:Brawlers'\n",
    "\n",
    "html = urlopen(URL)\n",
    "soup = BeautifulSoup(html, 'html.parser')\n",
    "\n",
    "names = soup.find_all('a', {'class':'category-page__member-link'})\n",
    "lst_names = []\n",
    "for name in names:\n",
    "    temp = name.text\n",
    "    if 'Category' in temp:\n",
    "        continue\n",
    "    lst_names.append(temp)\n",
    "lst_names"
   ]
  },
  {
   "cell_type": "markdown",
   "id": "b9530377",
   "metadata": {},
   "source": [
    "## 이미지 다운로드"
   ]
  },
  {
   "cell_type": "code",
   "execution_count": 58,
   "id": "98044148",
   "metadata": {},
   "outputs": [],
   "source": [
    "# 이미지 다운로드 \n",
    "from urllib.request import urlopen\n",
    "from urllib import request\n",
    "from bs4 import BeautifulSoup\n",
    "\n",
    "\n",
    "def download_img(name):\n",
    "    try:\n",
    "        URL = f'https://brawlstars.fandom.com/wiki/{name}'\n",
    "\n",
    "        html = urlopen(URL)\n",
    "        soup = BeautifulSoup(html, 'html.parser')\n",
    "\n",
    "        # 본문 찾기\n",
    "        aside = soup.find('aside', {'class':'portable-infobox'})\n",
    "        link = aside.find_all('img')[0].get('src')\n",
    "        savename = f'img/brawlers/{name}.png'\n",
    "        request.urlretrieve(link, savename)\n",
    "        print(f'{name} 다운로드 완료!')\n",
    "    except:\n",
    "        print(f'{name} 다운로드 실패!')\n",
    "\n",
    "for name in lst_names:\n",
    "    download_img(name)\n",
    "print(f'{len(lst_name)개 작업 완료!}')"
   ]
  },
  {
   "cell_type": "code",
   "execution_count": null,
   "id": "001ec545",
   "metadata": {},
   "outputs": [],
   "source": []
  }
 ],
 "metadata": {
  "kernelspec": {
   "display_name": "Python 3 (ipykernel)",
   "language": "python",
   "name": "python3"
  },
  "language_info": {
   "codemirror_mode": {
    "name": "ipython",
    "version": 3
   },
   "file_extension": ".py",
   "mimetype": "text/x-python",
   "name": "python",
   "nbconvert_exporter": "python",
   "pygments_lexer": "ipython3",
   "version": "3.8.7"
  }
 },
 "nbformat": 4,
 "nbformat_minor": 5
}

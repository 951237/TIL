{
 "cells": [
  {
   "cell_type": "markdown",
   "id": "55ebf350",
   "metadata": {},
   "source": [
    "# 2021년 코딩 노트"
   ]
  },
  {
   "cell_type": "markdown",
   "id": "f8f99bc0",
   "metadata": {},
   "source": [
    "## 220124_k-mooc 스터디"
   ]
  },
  {
   "cell_type": "code",
   "execution_count": 2,
   "id": "7b218c27",
   "metadata": {},
   "outputs": [],
   "source": [
    "import numpy as np"
   ]
  },
  {
   "cell_type": "code",
   "execution_count": 3,
   "id": "117cb317",
   "metadata": {},
   "outputs": [],
   "source": [
    "  a1 = np.random.rand(4)\n",
    "  a2 = np.random.rand(4, 1)\n",
    "  a3 = np.array([[1, 2, 3, 4]])\n",
    "  a4 = np.arange(1, 4, 1)\n",
    "  a5 = np.linspace(1 ,4, 4)  "
   ]
  },
  {
   "cell_type": "code",
   "execution_count": 4,
   "id": "4124cdd5",
   "metadata": {},
   "outputs": [
    {
     "data": {
      "text/plain": [
       "array([0.14855799, 0.21841393, 0.8847023 , 0.09306459])"
      ]
     },
     "execution_count": 4,
     "metadata": {},
     "output_type": "execute_result"
    }
   ],
   "source": [
    "a1"
   ]
  },
  {
   "cell_type": "code",
   "execution_count": 5,
   "id": "e9f83296",
   "metadata": {},
   "outputs": [
    {
     "data": {
      "text/plain": [
       "array([[0.56493788],\n",
       "       [0.33489155],\n",
       "       [0.13504183],\n",
       "       [0.92303762]])"
      ]
     },
     "execution_count": 5,
     "metadata": {},
     "output_type": "execute_result"
    }
   ],
   "source": [
    "a2"
   ]
  },
  {
   "cell_type": "code",
   "execution_count": 6,
   "id": "fb91d752",
   "metadata": {},
   "outputs": [
    {
     "data": {
      "text/plain": [
       "array([[1, 2, 3, 4]])"
      ]
     },
     "execution_count": 6,
     "metadata": {},
     "output_type": "execute_result"
    }
   ],
   "source": [
    "a3"
   ]
  },
  {
   "cell_type": "code",
   "execution_count": 7,
   "id": "23171857",
   "metadata": {},
   "outputs": [
    {
     "data": {
      "text/plain": [
       "array([1, 2, 3])"
      ]
     },
     "execution_count": 7,
     "metadata": {},
     "output_type": "execute_result"
    }
   ],
   "source": [
    "a4"
   ]
  },
  {
   "cell_type": "code",
   "execution_count": 8,
   "id": "88e3743b",
   "metadata": {},
   "outputs": [
    {
     "data": {
      "text/plain": [
       "array([1., 2., 3., 4.])"
      ]
     },
     "execution_count": 8,
     "metadata": {},
     "output_type": "execute_result"
    }
   ],
   "source": [
    "a5"
   ]
  },
  {
   "cell_type": "code",
   "execution_count": 10,
   "id": "a525dd83",
   "metadata": {},
   "outputs": [
    {
     "data": {
      "text/plain": [
       "True"
      ]
     },
     "execution_count": 10,
     "metadata": {},
     "output_type": "execute_result"
    }
   ],
   "source": [
    "a5.shape == a1.shape"
   ]
  },
  {
   "cell_type": "code",
   "execution_count": 11,
   "id": "cade3bbf",
   "metadata": {},
   "outputs": [],
   "source": [
    "  import re \n",
    "  s = 'ACBCAC' "
   ]
  },
  {
   "cell_type": "code",
   "execution_count": 16,
   "id": "2b40335a",
   "metadata": {},
   "outputs": [],
   "source": [
    "  import re\n",
    "  s = 'ACAABAACAAAAB'\n",
    "  result = re.findall('A{1,2}', s)\n",
    "  L = len(result)  "
   ]
  },
  {
   "cell_type": "code",
   "execution_count": 17,
   "id": "68ab2628",
   "metadata": {},
   "outputs": [
    {
     "data": {
      "text/plain": [
       "5"
      ]
     },
     "execution_count": 17,
     "metadata": {},
     "output_type": "execute_result"
    }
   ],
   "source": [
    "L"
   ]
  },
  {
   "cell_type": "code",
   "execution_count": 20,
   "id": "855757da",
   "metadata": {},
   "outputs": [],
   "source": [
    "def l2_dist(a, b): \n",
    "  result = ((a - b) * (a - b)).sum() \n",
    "  result = result ** 0.5 \n",
    "  return result  "
   ]
  },
  {
   "cell_type": "code",
   "execution_count": 22,
   "id": "3c6eac08",
   "metadata": {},
   "outputs": [
    {
     "ename": "NameError",
     "evalue": "name 'a' is not defined",
     "output_type": "error",
     "traceback": [
      "\u001b[0;31m---------------------------------------------------------------------------\u001b[0m",
      "\u001b[0;31mNameError\u001b[0m                                 Traceback (most recent call last)",
      "\u001b[0;32m/tmp/ipykernel_8490/3202001295.py\u001b[0m in \u001b[0;36m<module>\u001b[0;34m\u001b[0m\n\u001b[0;32m----> 1\u001b[0;31m \u001b[0ml2_dist\u001b[0m\u001b[0;34m(\u001b[0m\u001b[0ma\u001b[0m\u001b[0;34m.\u001b[0m\u001b[0mT\u001b[0m\u001b[0;34m,\u001b[0m \u001b[0mb\u001b[0m\u001b[0;34m.\u001b[0m\u001b[0mT\u001b[0m\u001b[0;34m)\u001b[0m\u001b[0;34m\u001b[0m\u001b[0;34m\u001b[0m\u001b[0m\n\u001b[0m",
      "\u001b[0;31mNameError\u001b[0m: name 'a' is not defined"
     ]
    }
   ],
   "source": [
    "l2_dist(a.T, b.T)"
   ]
  },
  {
   "cell_type": "markdown",
   "id": "b4b35ca1",
   "metadata": {},
   "source": [
    "## 211217_방학중 코딩 프로젝트 마인드 스톰\n",
    "- 브라이틱스 \n",
    "- 인구그래프 업그레이드\n",
    "- 머신러닝 : 혼자공부하는 머신러닝"
   ]
  },
  {
   "cell_type": "code",
   "execution_count": null,
   "id": "15cddc1b",
   "metadata": {},
   "outputs": [],
   "source": []
  },
  {
   "cell_type": "markdown",
   "id": "c5de893c",
   "metadata": {},
   "source": [
    "# 211210_코딩꺼리\n",
    "### 텔레그램봇 유지보수\n",
    "- 에러메세지 보이지 않게 하기\n",
    "    - 조건문을 걸어서 에러메세지가 뜨면 다시 코드 실행하기"
   ]
  },
  {
   "cell_type": "markdown",
   "id": "ed61ed3b",
   "metadata": {},
   "source": [
    "# 211210_프로그램을 빠르게 작동하는 방법\n",
    "- 컴퓨터가 잘 받아들이는 숫자로 변환하기\n",
    "    - 용호교장님과의 대화에서 엑셀프로그램을 획기적으로 빠르게 작동시킨 팁"
   ]
  },
  {
   "cell_type": "markdown",
   "id": "22899f13",
   "metadata": {},
   "source": [
    "# 211208_다이얼로그 플로(dialogflow)\n",
    "## 211208_다이얼로그 플로의 재발견\n",
    "- webhook 서버(파이선 플라스크)를 구축\n",
    "- 다이얼로그와 연계하기\n",
    "- uipath와 연동하여 작업수행하기\n",
    "    -  학술지 : 다이얼로그플로 + UIPath 연동하여 항공권예매하기 구현"
   ]
  },
  {
   "cell_type": "markdown",
   "id": "5ff60956",
   "metadata": {},
   "source": [
    "# 211207_한글 프로그램 연수\n",
    "## 211207_메일머지 라벨의 활용\n",
    "- 한페이지에 여러개의 내용을 이용할때는 라벨 이요하기\n",
    "- 기존의 메일머지와 차이점\n",
    "    - 메일머지 : 상장처럼 한페이지에서 이름과 반번호가 바뀔때 사용\n",
    "    - 라벨 : 이름표와 같이 한페이지에 여러개의 칸이 있는 경우 사용"
   ]
  },
  {
   "cell_type": "markdown",
   "id": "176845b7",
   "metadata": {},
   "source": [
    "# 211129_텔레그램봇 국내주식 수집 기능 추가\n",
    "### 211206_순차적 코딩 시도\n",
    "- 라즈베리파이에서 에러 발생\n",
    "- 맥에서 다시 시도하기 \n",
    "\n",
    "### 211203_국내주식 가격 크롤링\n",
    "- yfinance 라이브러리 활용\n",
    "\n",
    "### 211130_작업내용\n",
    "- 미국주식 코드에 종목만 바꿔서 넣음.\n",
    "    - 미국 주식코드는 정상작동\n",
    "    - 한국 주식 코드 입력\n",
    "        - 에러메세지 출력 : Error message: list index out of range\n",
    "- 원인분석\n",
    "    - 클래스 코드에서는 따로 건드릴 내용이 없음.\n",
    "    - 기존코드도 건드릴 내용이 없음. 미국 종목은 정상출력됨. \n",
    "        - 왜? 한국종목만 제대로 출력되지 않을까?\n",
    "        - 출력시 메세지기 다를까?\n",
    "\n",
    "### 211129_추진내용\n",
    "- stck\n",
    "- 수집 코드\n",
    "    - 삼성전자, 카카오, 카카오뱅크, 네이버, 카카오게임즈\n",
    "\n",
    "### 211129_진행상황\n",
    "- 에러메세지 발생\n",
    "    - IndexError: list index out of range"
   ]
  },
  {
   "cell_type": "markdown",
   "id": "ea2ba6a8",
   "metadata": {},
   "source": [
    "# 211206_TIL\n",
    "- 오피스 강의 듣기\n",
    "- 한글프로그램 공부할것\n",
    "    - 개요작성, 스타일\n",
    "    - 인사작업 문서 작성에도 적용가능할듯\n",
    "- 구글스프레드 시트 \n",
    "    - 반편성작업에서 통합 기능 적용\n",
    "    - 각반별로 데이터 받고, 배열로 합치기\n",
    "    - 배열로 받은 데이터를 쿼리로 데이터 뽑기"
   ]
  },
  {
   "cell_type": "markdown",
   "id": "fae6a8b6",
   "metadata": {},
   "source": [
    "# 211205_TIL\n",
    "## 독서 - 코스모스\n",
    "- 1000억개의 은하, 1개 은하에 1000억개의 별, 1개의 별에 크고작은 행성들중 내가 살고 있는 지구\n",
    "- 천문학을 배울수록 겸손해진다는 말씀이 이해되는 수치\n",
    "- 지구가 선택받은 행성처럼 느껴지는 이유는 지구의 환경에 맞는 유기물들이 살아남아서 진화를 했기 때문\n",
    "- 만약 우주 어딘가에 생명체가 있다면, 주변 환경에 맞게 진화하여 자기가 사는 곳이 선택받은 곳이라고 생각할 것.\n",
    "\n",
    "## 코딩\n",
    "- 코딩으로 우주를 탐구할 수 없을까?\n",
    "- 국내주식 크롤링\n",
    "    - 단계별 실행하기"
   ]
  },
  {
   "cell_type": "markdown",
   "id": "1b6e44f5",
   "metadata": {},
   "source": [
    "# 211202_터미널로 cpu온도 알아내기\n",
    "- 라즈베리파이에서 cpu 온도 알아내기\n",
    "    - 설치하기\n",
    "        - sudo apt install lm-snesors\n",
    "    - 사용하기\n",
    "        - sensors"
   ]
  },
  {
   "cell_type": "markdown",
   "id": "46f0fc3b",
   "metadata": {},
   "source": [
    "# 211130_파이선 에러 잡기\n",
    "- 출력메세지 : inconsistent use of tabs and spaces in indentation\n",
    "    - 탭과 스페이스바의 혼재로 에러발새이\n",
    "- 해결방법 : autopep8 설치후 프로그램 실행\n",
    "    - 설치하기 : pip install --upgrade autopep8\n",
    "    - 실행하기 : autopep8 -i myfile.py"
   ]
  },
  {
   "cell_type": "markdown",
   "id": "e8638a11",
   "metadata": {},
   "source": [
    "## 211128_인공지능 챗본관련 학술지 수집\n",
    "- 대학원 수업대비 자료수집\n",
    "    - 인공지능 챗봇을 활용한 초등영어 말하기 지도의 전망 Dialogflow를 중심으로.pdf\n",
    "    - Dialogflow를 이용한 음성 기반 대화형 서비스 구현.pdf\n",
    "    - 학사업무 지원 챗봇 개발.pdf\n",
    "    - 챗봇 제작을 통한 인공지능교육 체험.pdf\n",
    "    - Google Dialogflow를 활용한 레시피 챗봇에 관한 연구.pdf\n",
    "    - 메이커 교육 기반 인공지능 챗봇 수업 개발.pdf\n",
    "    - RPA 툴과 Diaogflow를 활용한 Chatbot 서비스 개발.pdf\n",
    "    - kyobo_10611610.pdf\n",
    "    - 초등영어 예비교사들이 개발한 인공지능 챗봇.pdf\n",
    "    - 학사 정보 기반 챗봇 시스템 설계 및 구현.pdf\n",
    "    - 일상 대화를 주제로 하는 감성 대화가 가능한 인공지능 기반 챗봇.pdf\n",
    "    - 인공지능을 활용한 영어 학습용 챗봇 시스템 개발 방안 연구.pdf\n",
    "    - 인공지능 챗봇의 교육적 활용 연구 동향 분석 활동이론을 중심으로.pdf\n",
    "    - 챗봇_기반_인공지능_교육_프.pdf\n",
    "    - 인공지능 챗봇을 활용한 웹 기반 코딩학습 지원도구 프로토타입 개발.pdf\n",
    "    - kyobo_10540702.pdf\n",
    "    - 인공지능기반챗봇서비스를활용한와인추천앱개발.pdf"
   ]
  },
  {
   "cell_type": "markdown",
   "id": "bca6b2e3",
   "metadata": {},
   "source": [
    "## 211126_인구그래프 프로그램 재시작\n",
    "### 기록의 이유\n",
    "- 서버 재부팅으로 플라스크 앱 기동방법을 잊음.\n",
    "\n",
    "### 프로그램 재시작 방법\n",
    "- screen 프로그램으로 2개의 스크린 만들기\n",
    "    - screen -S population   # 플라스크 앱 작동시킬 스크린\n",
    "    - screen -S fsk_ingu_graph  # ngrok 외부 프로그램 작동 스크린\n",
    "        \n",
    "    \n",
    "- 플라스크 앱 시작\n",
    "    - python server.py  # 파이선을 이용해서 서버파일 실행\n",
    "        - 192.168.10.115:8002\n",
    "        \n",
    "- ngrok를 이용한 외부에서 앱 접속 하기\n",
    "    -  cd ~ 홈화면으로 이동\n",
    "    - ./ngrok http 8002  # 8002번포트를 이용해서 외부에서 접속하기\n",
    "    \n",
    "### 할일\n",
    "- 인구데이터 받기 오류\n",
    "- 시군별 데이터 받기가 안됨.\n",
    "\n",
    "## 211119_인구그래프 유지보수\n",
    "\n",
    "- 인구그래프 플라스크 서버 실행하기\n",
    "    - export FLASK_APP = server.py # 플라스크로 실행시킬 파일명을 설정\n",
    "- 서버실행 되지 않음.\n",
    "    - 가상환경 생성\n",
    "        - pyenv virtualenv app_population\n",
    "    - 인구그래프 폴더를 가상환경으로 지정\n",
    "        - pyenv local app_population\n",
    "    - 라이브러리 설치\n",
    "    - flask\n",
    "    - pandas\n",
    "    - matplotlib\n",
    "- ngrok 서비스 이용해서 외부에서 접속 가능하도록 설정"
   ]
  },
  {
   "cell_type": "markdown",
   "id": "9b532259",
   "metadata": {},
   "source": [
    "## 211124_관련 패키지 삭제하는 방법\n",
    "\n",
    "- 관련 패키지 확인\n",
    "    - pip show [패키지 이름]\n",
    "    - pip show pdftopptx\n",
    "- 관련 패키지 복사하여 텍스트파일에 저장\n",
    "    - vim pkg.txt\n",
    "    - 패키지 저장하기\n",
    "- 관련 패키지 일괄 삭제\n",
    "    - pip uninstall -y -r pkg.txt"
   ]
  }
 ],
 "metadata": {
  "kernelspec": {
   "display_name": "Python 3 (ipykernel)",
   "language": "python",
   "name": "python3"
  },
  "language_info": {
   "codemirror_mode": {
    "name": "ipython",
    "version": 3
   },
   "file_extension": ".py",
   "mimetype": "text/x-python",
   "name": "python",
   "nbconvert_exporter": "python",
   "pygments_lexer": "ipython3",
   "version": "3.8.7"
  }
 },
 "nbformat": 4,
 "nbformat_minor": 5
}

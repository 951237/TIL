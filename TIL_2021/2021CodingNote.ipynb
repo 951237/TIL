{
 "cells": [
  {
   "cell_type": "markdown",
   "id": "55ebf350",
   "metadata": {},
   "source": [
    "# 2021년 코딩 노트"
   ]
  },
  {
   "cell_type": "markdown",
   "id": "fae6a8b6",
   "metadata": {},
   "source": [
    "# 211205_TIL\n",
    "## 독서 - 코스모스\n",
    "- 1000억개의 은하, 1개 은하에 1000억개의 별, 1개의 별에 크고작은 행성들중 내가 살고 있는 지구\n",
    "- 천문학을 배울수록 겸손해진다는 말씀이 이해되는 수치\n",
    "- 지구가 선택받은 행성처럼 느껴지는 이유는 지구의 환경에 맞는 유기물들이 살아남아서 진화를 했기 때문\n",
    "- 만약 우주 어딘가에 생명체가 있다면, 주변 환경에 맞게 진화하여 자기가 사는 곳이 선택받은 곳이라고 생각할 것.\n",
    "\n",
    "## 코딩\n",
    "- 코딩으로 우주를 탐구할 수 없을까?\n",
    "- 국내주식 크롤링\n",
    "    - 단계별 실행하기"
   ]
  },
  {
   "cell_type": "markdown",
   "id": "7e0b93e7",
   "metadata": {},
   "source": [
    "# 211203_국내주식 가격 크롤링\n",
    "- yfinance 라이브러리 활용"
   ]
  },
  {
   "cell_type": "markdown",
   "id": "1b6e44f5",
   "metadata": {},
   "source": [
    "# 211202_터미널로 cpu온도 알아내기\n",
    "- 라즈베리파이에서 cpu 온도 알아내기\n",
    "    - 설치하기\n",
    "        - sudo apt install lm-snesors\n",
    "    - 사용하기\n",
    "        - sensors"
   ]
  },
  {
   "cell_type": "markdown",
   "id": "46f0fc3b",
   "metadata": {},
   "source": [
    "# 211130_파이선 에러 잡기\n",
    "- 출력메세지 : inconsistent use of tabs and spaces in indentation\n",
    "    - 탭과 스페이스바의 혼재로 에러발새이\n",
    "- 해결방법 : autopep8 설치후 프로그램 실행\n",
    "    - 설치하기 : pip install --upgrade autopep8\n",
    "    - 실행하기 : autopep8 -i myfile.py"
   ]
  },
  {
   "cell_type": "markdown",
   "id": "176845b7",
   "metadata": {},
   "source": [
    "## 211129_텔레그램봇 국내주식 수집 기능 추가\n",
    "### 211130_작업내용\n",
    "- 미국주식 코드에 종목만 바꿔서 넣음.\n",
    "    - 미국 주식코드는 정상작동\n",
    "    - 한국 주식 코드 입력\n",
    "        - 에러메세지 출력 : Error message: list index out of range\n",
    "- 원인분석\n",
    "    - 클래스 코드에서는 따로 건드릴 내용이 없음.\n",
    "    - 기존코드도 건드릴 내용이 없음. 미국 종목은 정상출력됨. \n",
    "        - 왜? 한국종목만 제대로 출력되지 않을까?\n",
    "        - 출력시 메세지기 다를까?\n",
    "\n",
    "### 211129_추진내용\n",
    "- stck\n",
    "- 수집 코드\n",
    "    - 삼성전자, 카카오, 카카오뱅크, 네이버, 카카오게임즈\n",
    "\n",
    "### 211129_진행상황\n",
    "- 에러메세지 발생\n",
    "    - IndexError: list index out of range"
   ]
  },
  {
   "cell_type": "markdown",
   "id": "e8638a11",
   "metadata": {},
   "source": [
    "## 211128_인공지능 챗본관련 학술지 수집\n",
    "- 대학원 수업대비 자료수집\n",
    "    - 인공지능 챗봇을 활용한 초등영어 말하기 지도의 전망 Dialogflow를 중심으로.pdf\n",
    "    - Dialogflow를 이용한 음성 기반 대화형 서비스 구현.pdf\n",
    "    - 학사업무 지원 챗봇 개발.pdf\n",
    "    - 챗봇 제작을 통한 인공지능교육 체험.pdf\n",
    "    - Google Dialogflow를 활용한 레시피 챗봇에 관한 연구.pdf\n",
    "    - 메이커 교육 기반 인공지능 챗봇 수업 개발.pdf\n",
    "    - RPA 툴과 Diaogflow를 활용한 Chatbot 서비스 개발.pdf\n",
    "    - kyobo_10611610.pdf\n",
    "    - 초등영어 예비교사들이 개발한 인공지능 챗봇.pdf\n",
    "    - 학사 정보 기반 챗봇 시스템 설계 및 구현.pdf\n",
    "    - 일상 대화를 주제로 하는 감성 대화가 가능한 인공지능 기반 챗봇.pdf\n",
    "    - 인공지능을 활용한 영어 학습용 챗봇 시스템 개발 방안 연구.pdf\n",
    "    - 인공지능 챗봇의 교육적 활용 연구 동향 분석 활동이론을 중심으로.pdf\n",
    "    - 챗봇_기반_인공지능_교육_프.pdf\n",
    "    - 인공지능 챗봇을 활용한 웹 기반 코딩학습 지원도구 프로토타입 개발.pdf\n",
    "    - kyobo_10540702.pdf\n",
    "    - 인공지능기반챗봇서비스를활용한와인추천앱개발.pdf"
   ]
  },
  {
   "cell_type": "markdown",
   "id": "bca6b2e3",
   "metadata": {},
   "source": [
    "## 211126_인구그래프 프로그램 재시작\n",
    "### 기록의 이유\n",
    "- 서버 재부팅으로 플라스크 앱 기동방법을 잊음.\n",
    "\n",
    "### 프로그램 재시작 방법\n",
    "- screen 프로그램으로 2개의 스크린 만들기\n",
    "    - screen -S population   # 플라스크 앱 작동시킬 스크린\n",
    "    - screen -S fsk_ingu_graph  # ngrok 외부 프로그램 작동 스크린\n",
    "        \n",
    "    \n",
    "- 플라스크 앱 시작\n",
    "    - python server.py  # 파이선을 이용해서 서버파일 실행\n",
    "        - 192.168.10.115:8002\n",
    "        \n",
    "- ngrok를 이용한 외부에서 앱 접속 하기\n",
    "    -  cd ~ 홈화면으로 이동\n",
    "    - ./ngrok http 8002  # 8002번포트를 이용해서 외부에서 접속하기\n",
    "    \n",
    "### 할일\n",
    "- 인구데이터 받기 오류\n",
    "- 시군별 데이터 받기가 안됨.\n",
    "\n",
    "## 211119_인구그래프 유지보수\n",
    "\n",
    "- 인구그래프 플라스크 서버 실행하기\n",
    "    - export FLASK_APP = server.py # 플라스크로 실행시킬 파일명을 설정\n",
    "- 서버실행 되지 않음.\n",
    "    - 가상환경 생성\n",
    "        - pyenv virtualenv app_population\n",
    "    - 인구그래프 폴더를 가상환경으로 지정\n",
    "        - pyenv local app_population\n",
    "    - 라이브러리 설치\n",
    "    - flask\n",
    "    - pandas\n",
    "    - matplotlib\n",
    "- ngrok 서비스 이용해서 외부에서 접속 가능하도록 설정"
   ]
  },
  {
   "cell_type": "markdown",
   "id": "9b532259",
   "metadata": {},
   "source": [
    "## 211124_관련 패키지 삭제하는 방법\n",
    "\n",
    "- 관련 패키지 확인\n",
    "    - pip show [패키지 이름]\n",
    "    - pip show pdftopptx\n",
    "- 관련 패키지 복사하여 텍스트파일에 저장\n",
    "    - vim pkg.txt\n",
    "    - 패키지 저장하기\n",
    "- 관련 패키지 일괄 삭제\n",
    "    - pip uninstall -y -r pkg.txt"
   ]
  }
 ],
 "metadata": {
  "kernelspec": {
   "display_name": "Python 3 (ipykernel)",
   "language": "python",
   "name": "python3"
  },
  "language_info": {
   "codemirror_mode": {
    "name": "ipython",
    "version": 3
   },
   "file_extension": ".py",
   "mimetype": "text/x-python",
   "name": "python",
   "nbconvert_exporter": "python",
   "pygments_lexer": "ipython3",
   "version": "3.8.7"
  }
 },
 "nbformat": 4,
 "nbformat_minor": 5
}

{
 "cells": [
  {
   "cell_type": "markdown",
   "id": "55ebf350",
   "metadata": {},
   "source": [
    "# 2021년 코딩 노트"
   ]
  },
  {
   "cell_type": "markdown",
   "id": "9b532259",
   "metadata": {},
   "source": [
    "## 211124_관련 패키지 삭제하는 방법"
   ]
  },
  {
   "cell_type": "markdown",
   "id": "667118f2",
   "metadata": {},
   "source": [
    "- 관련 패키지 확인\n",
    "    - pip show [패키지 이름]\n",
    "    - pip show pdftopptx\n",
    "- 관련 패키지 복사하여 텍스트파일에 저장\n",
    "    - vim pkg.txt\n",
    "    - 패키지 저장하기\n",
    "- 관련 패키지 일괄 삭제\n",
    "    - pip uninstall -y -r pkg.txt"
   ]
  },
  {
   "cell_type": "markdown",
   "id": "dec4940f",
   "metadata": {},
   "source": [
    "## 211119_인구그래프 유지보수"
   ]
  },
  {
   "cell_type": "markdown",
   "id": "9a667527",
   "metadata": {},
   "source": [
    "- 인구그래프 플라스크 서버 실행하기\n",
    "    - export FLASK_APP = server.py # 플라스크로 실행시킬 파일명을 설정\n",
    "- 서버실행 되지 않음.\n",
    "    - 가상환경 생성\n",
    "        - pyenv virtualenv app_population\n",
    "    - 인구그래프 폴더를 가상환경으로 지정\n",
    "        - pyenv local app_population\n",
    "    - 라이브러리 설치\n",
    "    - flask\n",
    "    - pandas\n",
    "    - matplotlib\n",
    "- ngrok 서비스 이용해서 외부에서 접속 가능하도록 설정"
   ]
  },
  {
   "cell_type": "code",
   "execution_count": null,
   "id": "813d2223",
   "metadata": {},
   "outputs": [],
   "source": []
  }
 ],
 "metadata": {
  "kernelspec": {
   "display_name": "Python 3 (ipykernel)",
   "language": "python",
   "name": "python3"
  },
  "language_info": {
   "codemirror_mode": {
    "name": "ipython",
    "version": 3
   },
   "file_extension": ".py",
   "mimetype": "text/x-python",
   "name": "python",
   "nbconvert_exporter": "python",
   "pygments_lexer": "ipython3",
   "version": "3.8.7"
  }
 },
 "nbformat": 4,
 "nbformat_minor": 5
}

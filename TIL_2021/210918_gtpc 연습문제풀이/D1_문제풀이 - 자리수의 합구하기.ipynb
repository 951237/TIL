{
 "cells": [
  {
   "cell_type": "markdown",
   "id": "a35d9a7c",
   "metadata": {},
   "source": [
    "## D1 - 자리수의 합1\n",
    "- 숫자의 각 자릿수를 더한 합이 원하는 수 k가 되는 수 중 n번째 수 찾기\n",
    "- 예) 10 3 이라면, 자릿수의 합이 10인 3번째 수를 구해달라는 문제\n",
    "    - 19 / 28 / 37\n",
    "    - 정답은 37\n",
    "- 10 11 이라면?\n",
    "    - 19 28 37 46 55 64 73 82 91 109 118 127 136  \n",
    "- 11 11 이라면?\n",
    "    - 29 38 47 56 65 74 83 92 119 128 137 146 155 164 173 182 \n",
    "- 19 10 이라면?\n",
    "    - 199 298 369 379 388 397 469 478 487 496 "
   ]
  },
  {
   "cell_type": "code",
   "execution_count": 10,
   "id": "846f8c33",
   "metadata": {},
   "outputs": [
    {
     "name": "stdout",
     "output_type": "stream",
     "text": [
      "10 3\n"
     ]
    }
   ],
   "source": [
    "a, b = input().split()"
   ]
  },
  {
   "cell_type": "markdown",
   "id": "d40f58f0",
   "metadata": {},
   "source": [
    "### 시도1\n",
    "- 에러 : 시간초과"
   ]
  },
  {
   "cell_type": "code",
   "execution_count": 42,
   "id": "2bb942fa",
   "metadata": {},
   "outputs": [
    {
     "name": "stdout",
     "output_type": "stream",
     "text": [
      "10 500\n",
      "18010\n"
     ]
    }
   ],
   "source": [
    "# a = 10, b = 3\n",
    "# 목표값은 10, 리턴값은 3\n",
    "# a, b = 10, 3\n",
    "a, b = map(int, input().split())\n",
    "\n",
    "c = 0\n",
    "s = 10\n",
    "while True :\n",
    "    if len(str(s)) == 2:\n",
    "        if int(str(s)[0]) + int(str(s)[1]) == a:\n",
    "            c += 1\n",
    "            if c == b:\n",
    "                break\n",
    "            s += 1\n",
    "        else:\n",
    "            s += 1\n",
    "    if len(str(s)) == 3:\n",
    "        if int(str(s)[0]) + int(str(s)[1]) + int(str(s)[2]) == a:\n",
    "            c += 1\n",
    "            if c == b:\n",
    "                break\n",
    "            s += 1\n",
    "        else:\n",
    "            s += 1\n",
    "    if len(str(s)) == 4:\n",
    "        if int(str(s)[0]) + int(str(s)[1]) + int(str(s)[2]) + int(str(s)[3]) == a:\n",
    "            c += 1\n",
    "            if c == b:\n",
    "                break\n",
    "            s += 1\n",
    "        else:\n",
    "            s += 1\n",
    "    if len(str(s)) == 5:\n",
    "        if int(str(s)[0]) + int(str(s)[1]) + int(str(s)[2]) + int(str(s)[3]) + int(str(s)[4]) == a:\n",
    "            c += 1\n",
    "            if c == b:\n",
    "                break\n",
    "            s += 1\n",
    "        else:\n",
    "            s += 1\n",
    "print(s)\n",
    "            \n"
   ]
  },
  {
   "cell_type": "markdown",
   "id": "08f7e5e9",
   "metadata": {},
   "source": [
    "### 시도 2 - 함수를 작성하여 문제해결시도 → 시간초과"
   ]
  },
  {
   "cell_type": "code",
   "execution_count": 66,
   "id": "c0381a1e",
   "metadata": {},
   "outputs": [
    {
     "name": "stdout",
     "output_type": "stream",
     "text": [
      "11 1000\n",
      "35102\n"
     ]
    }
   ],
   "source": [
    "# a = 10, b = 3\n",
    "# 목표값은 10, 리턴값은 3\n",
    "# a, b = 10, 3\n",
    "a, b = map(int, input().split())\n",
    "\n",
    "c = 0\n",
    "s = 10\n",
    "dic_result = {}\n",
    "def plus_str(a):\n",
    "    result = 0\n",
    "    for i in range(len(str(a))):\n",
    "        temp = int(str(a)[i])\n",
    "        result += temp\n",
    "    return result\n",
    "\n",
    "while True :\n",
    "    if s \n",
    "    result = plus_str(s)\n",
    "    dic[s] = result\n",
    "    if result == a:\n",
    "        c += 1\n",
    "        if c == b:\n",
    "            break\n",
    "        s += 1\n",
    "    else:\n",
    "        s += 1\n",
    "print(s)\n",
    "    "
   ]
  },
  {
   "cell_type": "code",
   "execution_count": 58,
   "id": "987fc9e5",
   "metadata": {},
   "outputs": [
    {
     "data": {
      "text/plain": [
       "17"
      ]
     },
     "execution_count": 58,
     "metadata": {},
     "output_type": "execute_result"
    }
   ],
   "source": [
    "a, b = 10, 3\n",
    "def plus_str(a):\n",
    "    result = 0\n",
    "    for i in range(len(str(a))):\n",
    "        temp = int(str(a)[i])\n",
    "        result += temp\n",
    "    return result\n",
    "\n",
    "plus_str(1223144)"
   ]
  },
  {
   "cell_type": "markdown",
   "id": "66390daf",
   "metadata": {},
   "source": [
    "### 시도 3 - map 함수 "
   ]
  },
  {
   "cell_type": "code",
   "execution_count": 68,
   "id": "db718995",
   "metadata": {},
   "outputs": [
    {
     "data": {
      "text/plain": [
       "6"
      ]
     },
     "execution_count": 68,
     "metadata": {},
     "output_type": "execute_result"
    }
   ],
   "source": [
    "number = 123\n",
    "sum(map(int, str(number)))"
   ]
  },
  {
   "cell_type": "code",
   "execution_count": 75,
   "id": "2c3a7b31",
   "metadata": {},
   "outputs": [
    {
     "name": "stdout",
     "output_type": "stream",
     "text": [
      "10 5000\n",
      "2000008\n"
     ]
    }
   ],
   "source": [
    "# a = 10, b = 3\n",
    "# 목표값은 10, 리턴값은 3\n",
    "# a, b = 10, 3\n",
    "a, b = map(int, input().split())\n",
    "\n",
    "c = 0\n",
    "s = 10\n",
    "\n",
    "while True :\n",
    "    result = sum(map(int, str(s)))\n",
    "    if result == a:\n",
    "        c += 1\n",
    "        if c == b:\n",
    "            break\n",
    "        s += 1\n",
    "    else:\n",
    "        s += 1\n",
    "print(s)\n",
    "    "
   ]
  },
  {
   "cell_type": "markdown",
   "id": "131ea73a",
   "metadata": {},
   "source": [
    "### 시도 4 - 리스트의 합"
   ]
  },
  {
   "cell_type": "code",
   "execution_count": 86,
   "id": "a94aef6f",
   "metadata": {},
   "outputs": [
    {
     "name": "stdout",
     "output_type": "stream",
     "text": [
      "10 5000\n",
      "2000008\n"
     ]
    }
   ],
   "source": [
    "def lst_sum(num):\n",
    "    a = []\n",
    "    for i in str(num):\n",
    "        a.append(int(i))\n",
    "    return sum(a)\n",
    "\n",
    "a, b = map(int, input().split())\n",
    "\n",
    "c = 0\n",
    "s = 10\n",
    "\n",
    "while True :\n",
    "    result = lst_sum(s)\n",
    "    if result == a:\n",
    "        c += 1\n",
    "        if c == b:\n",
    "            break\n",
    "        s += 1\n",
    "    else:\n",
    "        s += 1\n",
    "print(s)"
   ]
  },
  {
   "cell_type": "markdown",
   "id": "280137cb",
   "metadata": {},
   "source": [
    "### 시도5 - 몫과 나머지를 이용하여 계산"
   ]
  },
  {
   "cell_type": "code",
   "execution_count": 95,
   "id": "62b8863a",
   "metadata": {},
   "outputs": [
    {
     "name": "stdout",
     "output_type": "stream",
     "text": [
      "11 500\n",
      "12431\n"
     ]
    }
   ],
   "source": [
    "def digit_sum(num):\n",
    "    sum = 0\n",
    "    while(num > 0):\n",
    "        remainder = num % 10\n",
    "        num = num // 10\n",
    "        sum =sum + remainder\n",
    "    return sum\n",
    "        \n",
    "\n",
    "a, b = map(int, input().split())\n",
    "\n",
    "c = 0\n",
    "s = 10\n",
    "\n",
    "while(c < b ):\n",
    "    result = digit_sum(s)\n",
    "    if result == a:\n",
    "        c += 1\n",
    "    s += 1\n",
    "print(s-1)"
   ]
  },
  {
   "cell_type": "markdown",
   "id": "f92156a3",
   "metadata": {},
   "source": [
    "### 해설 정답 - "
   ]
  },
  {
   "cell_type": "code",
   "execution_count": 96,
   "id": "7cc611e1",
   "metadata": {},
   "outputs": [
    {
     "name": "stdout",
     "output_type": "stream",
     "text": [
      "10 3\n",
      "37\n"
     ]
    }
   ],
   "source": [
    "def hap(a):\n",
    "    if a < 10:\n",
    "        return a\n",
    "    return hap(a//10)+a%10\n",
    "\n",
    "k, n = map(int, input().split())\n",
    "\n",
    "a, cnt = 1, 0\n",
    "\n",
    "while(cnt < n):\n",
    "    if hap(a) == k:\n",
    "        cnt += 1\n",
    "    a += 1\n",
    "print(a-1)"
   ]
  },
  {
   "cell_type": "code",
   "execution_count": null,
   "id": "de039186",
   "metadata": {},
   "outputs": [],
   "source": []
  }
 ],
 "metadata": {
  "kernelspec": {
   "display_name": "Python 3 (ipykernel)",
   "language": "python",
   "name": "python3"
  },
  "language_info": {
   "codemirror_mode": {
    "name": "ipython",
    "version": 3
   },
   "file_extension": ".py",
   "mimetype": "text/x-python",
   "name": "python",
   "nbconvert_exporter": "python",
   "pygments_lexer": "ipython3",
   "version": "3.8.7"
  }
 },
 "nbformat": 4,
 "nbformat_minor": 5
}

{
 "cells": [
  {
   "cell_type": "markdown",
   "id": "a6a5563d",
   "metadata": {},
   "source": [
    "## 바이러스 확산\n",
    "- 어떤 날 처음 n명의 감염자가 발생한 날 이후 k일 째의 총 감염자수를 출력\n",
    "- 입력예시\n",
    "    - 2 5  # 2 : 감염자 수 , 5 : 지난 일수\n",
    "    - 25  # 전체 감염자 수\n",
    "- 패턴\n",
    "    - 0일차 : 감염됨\n",
    "    - 1일차 : 잠복기\n",
    "    - 2일차 : 새로운 2명 감염\n",
    "    - 3일차 : 새로운 사람 1명 감염\n",
    "    - 4일차 : 감염시키지 못함. 치료되지 못하고 현재 유지"
   ]
  },
  {
   "cell_type": "code",
   "execution_count": 5,
   "id": "cb384a15",
   "metadata": {},
   "outputs": [
    {
     "data": {
      "text/plain": [
       "4"
      ]
     },
     "execution_count": 5,
     "metadata": {},
     "output_type": "execute_result"
    }
   ],
   "source": [
    "def virus(n):\n",
    "    for i in range(n):\n",
    "        if i == 0:\n",
    "            cnt = 1\n",
    "        elif i == 1:\n",
    "            continue\n",
    "        elif i == 2:\n",
    "            cnt += 2\n",
    "        elif i == 3:\n",
    "            cnt += 1\n",
    "        else:\n",
    "            continue\n",
    "    return cnt\n",
    "    \n",
    "a = virus(7)\n",
    "a\n",
    "    "
   ]
  },
  {
   "cell_type": "code",
   "execution_count": null,
   "id": "6882f2cd",
   "metadata": {},
   "outputs": [],
   "source": []
  }
 ],
 "metadata": {
  "kernelspec": {
   "display_name": "Python 3 (ipykernel)",
   "language": "python",
   "name": "python3"
  },
  "language_info": {
   "codemirror_mode": {
    "name": "ipython",
    "version": 3
   },
   "file_extension": ".py",
   "mimetype": "text/x-python",
   "name": "python",
   "nbconvert_exporter": "python",
   "pygments_lexer": "ipython3",
   "version": "3.8.7"
  }
 },
 "nbformat": 4,
 "nbformat_minor": 5
}

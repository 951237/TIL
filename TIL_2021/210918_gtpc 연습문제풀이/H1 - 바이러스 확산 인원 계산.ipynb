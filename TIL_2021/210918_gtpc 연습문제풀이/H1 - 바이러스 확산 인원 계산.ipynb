{
 "cells": [
  {
   "cell_type": "markdown",
   "id": "a6a5563d",
   "metadata": {},
   "source": [
    "## 바이러스 확산\n",
    "- 어떤 날 처음 n명의 감염자가 발생한 날 이후 k일 째의 총 감염자수를 출력\n",
    "- 입력예시\n",
    "    - 2 5  # 2 : 감염자 수 , 5 : 지난 일수\n",
    "    - 25  # 전체 감염자 수\n",
    "- 패턴\n",
    "    - 0일차 : 감염됨\n",
    "    - 1일차 : 잠복기\n",
    "    - 2일차 : 새로운 2명 감염\n",
    "    - 3일차 : 새로운 사람 1명 감염\n",
    "    - 4일차 : 감염시키지 못함. 치료되지 못하고 현재 유지"
   ]
  },
  {
   "cell_type": "code",
   "execution_count": 11,
   "id": "cb384a15",
   "metadata": {},
   "outputs": [
    {
     "data": {
      "text/plain": [
       "12"
      ]
     },
     "execution_count": 11,
     "metadata": {},
     "output_type": "execute_result"
    }
   ],
   "source": [
    "def virus(n):\n",
    "    if n == 0 or n == 1:\n",
    "        return 1\n",
    "    if n == 2:\n",
    "        return 3\n",
    "    return 1 + virus(n-2) + virus(n-2) + virus(n-3) \n",
    "\n",
    "a, b = map(int, input().split())\n",
    "print(a*virus(b))"
   ]
  },
  {
   "cell_type": "code",
   "execution_count": null,
   "id": "769f00af",
   "metadata": {},
   "outputs": [],
   "source": []
  }
 ],
 "metadata": {
  "kernelspec": {
   "display_name": "Python 3 (ipykernel)",
   "language": "python",
   "name": "python3"
  },
  "language_info": {
   "codemirror_mode": {
    "name": "ipython",
    "version": 3
   },
   "file_extension": ".py",
   "mimetype": "text/x-python",
   "name": "python",
   "nbconvert_exporter": "python",
   "pygments_lexer": "ipython3",
   "version": "3.8.7"
  }
 },
 "nbformat": 4,
 "nbformat_minor": 5
}

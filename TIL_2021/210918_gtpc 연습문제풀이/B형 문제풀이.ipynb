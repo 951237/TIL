{
 "cells": [
  {
   "cell_type": "markdown",
   "id": "e8b022b8",
   "metadata": {},
   "source": [
    "#  B0, B1 문제"
   ]
  },
  {
   "cell_type": "markdown",
   "id": "a921e8a4",
   "metadata": {},
   "source": [
    "## b0\n",
    "1 n 이상\t 이하\t범위에서\t임의의\t자연수를\t 개\t골라\t최소공배수를\t구한다고\t할\t때 만들\t수\t있는\t최소공배수의\t최댓값을\t계산해보자.\n",
    "예를\t들어\t 이\t 일\t때 부터\t 사이의\t수\t중 n 198 ,\t1 198\n",
    "- 5\t27를\t선택한\t경우\t최소공배수는\t 이다 135 .\n",
    "- 3\t9를\t선택한\t경우\t최소공배수는\t 이다 9 .\n",
    "- 50\t50을\t선택한\t경우\t최소공배수는\t 이다 50 .\n",
    "\n",
    "- 1 n 이상\t 이하의\t범위에서\t두\t수를\t선택하여\t만들\t수\t있는\t최소공배수의\t최대값은\t얼마일까?\n",
    "- n . 을\t입력받아\t만들\t수\t있는\t최대최소공배수를\t출력하여\t보자\n",
    "- 입력\t설명\n",
    "    - 첫\t번째\t줄에는\t자연수\t 이\t입력된다.(0<n<=100000)\n",
    "- 출력설명\n",
    "- 최대최소공배수를\t출력한다."
   ]
  },
  {
   "cell_type": "code",
   "execution_count": 1,
   "id": "e0cbfd26",
   "metadata": {},
   "outputs": [
    {
     "name": "stdout",
     "output_type": "stream",
     "text": [
      "39006\n"
     ]
    }
   ],
   "source": [
    "# 197 * 198 - 정답\n",
    "print(197 * 198)"
   ]
  },
  {
   "cell_type": "markdown",
   "id": "b4cae31e",
   "metadata": {},
   "source": [
    "## B1\n",
    "- 1 n 이상\t 이하\t범위에서\t임의의\t자연수를\t 개\t골라\t최소공배수를\t구한다고\t할\t때 만들 수 있는\t최소공배수의\t최댓값을\t계산해보자.\n",
    "- 예를\t들어\t 이\t 일\t때 부터\t 사이의\t수\t중 n 198 ,\t1 198\n",
    "    - 5\t27를\t선택한\t경우\t최소공배수는\t 이다 135 .\n",
    "    - 3\t9를\t선택한\t경우\t최소공배수는\t 이다 9 .\n",
    "    - 50\t50을\t선택한\t경우\t최소공배수는\t 이다 50 .\n",
    "\n",
    "- 1 n 이상\t 이하의\t범위에서\t두\t수를\t선택하여\t만들\t수\t있는\t최소공배수의\t최대값은\t얼마일까?"
   ]
  },
  {
   "cell_type": "code",
   "execution_count": 19,
   "id": "7c7c959a",
   "metadata": {},
   "outputs": [
    {
     "name": "stdout",
     "output_type": "stream",
     "text": [
      "두 수를 입력하시오 : 50\n",
      "2450\n"
     ]
    }
   ],
   "source": [
    "a = int(input(\"두 수를 입력하시오 : \"))\n",
    "\n",
    "# 두수의 크기를 비교\n",
    "\n",
    "print(a * (a - 1))"
   ]
  },
  {
   "cell_type": "code",
   "execution_count": 17,
   "id": "ab6ead92",
   "metadata": {},
   "outputs": [
    {
     "name": "stdout",
     "output_type": "stream",
     "text": [
      "두 수를 입력하시오 : 5 314\n",
      "1570\n"
     ]
    }
   ],
   "source": [
    "num1 = 12\n",
    "num2 = 16\n",
    "i  = num2\n",
    "while(True):\n",
    "    if i%num1 == 0 and i% num2 ==0:\n",
    "        print(i)\n",
    "        break\n",
    "    i +=1"
   ]
  },
  {
   "cell_type": "code",
   "execution_count": null,
   "id": "3e25e709",
   "metadata": {},
   "outputs": [],
   "source": []
  }
 ],
 "metadata": {
  "kernelspec": {
   "display_name": "Python 3 (ipykernel)",
   "language": "python",
   "name": "python3"
  },
  "language_info": {
   "codemirror_mode": {
    "name": "ipython",
    "version": 3
   },
   "file_extension": ".py",
   "mimetype": "text/x-python",
   "name": "python",
   "nbconvert_exporter": "python",
   "pygments_lexer": "ipython3",
   "version": "3.8.7"
  }
 },
 "nbformat": 4,
 "nbformat_minor": 5
}

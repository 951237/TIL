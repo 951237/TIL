{
 "cells": [
  {
   "cell_type": "code",
   "execution_count": 1,
   "id": "81e2b7e5",
   "metadata": {},
   "outputs": [
    {
     "data": {
      "text/plain": [
       "2"
      ]
     },
     "execution_count": 1,
     "metadata": {},
     "output_type": "execute_result"
    }
   ],
   "source": [
    "len('-1')"
   ]
  },
  {
   "cell_type": "markdown",
   "id": "bc360533",
   "metadata": {},
   "source": [
    "### 시도1 - 성공"
   ]
  },
  {
   "cell_type": "code",
   "execution_count": 2,
   "id": "36f970e3",
   "metadata": {},
   "outputs": [
    {
     "name": "stdout",
     "output_type": "stream",
     "text": [
      "10 950484354513\n",
      "13\n"
     ]
    }
   ],
   "source": [
    "a, b = map(int, input().split())\n",
    "\n",
    "t = a - b\n",
    "\n",
    "print(len(str(t)))"
   ]
  },
  {
   "cell_type": "code",
   "execution_count": null,
   "id": "546ac96a",
   "metadata": {},
   "outputs": [],
   "source": []
  }
 ],
 "metadata": {
  "kernelspec": {
   "display_name": "Python 3 (ipykernel)",
   "language": "python",
   "name": "python3"
  },
  "language_info": {
   "codemirror_mode": {
    "name": "ipython",
    "version": 3
   },
   "file_extension": ".py",
   "mimetype": "text/x-python",
   "name": "python",
   "nbconvert_exporter": "python",
   "pygments_lexer": "ipython3",
   "version": "3.8.7"
  }
 },
 "nbformat": 4,
 "nbformat_minor": 5
}

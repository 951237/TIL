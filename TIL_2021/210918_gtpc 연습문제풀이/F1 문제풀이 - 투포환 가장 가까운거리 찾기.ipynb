{
 "cells": [
  {
   "cell_type": "markdown",
   "id": "73345a4f",
   "metadata": {},
   "source": [
    "## 투포환 던지기 시합\n",
    "- 입력 설명\n",
    "    - 첫 번재 줄에 도전자 수\n",
    "    - 두번째 줄에 각각의 도전자 들이 던진 투포환의 위치 정보 n개\n",
    "    - 세번째 줄에 목표 위치 입력"
   ]
  },
  {
   "cell_type": "code",
   "execution_count": 5,
   "id": "4e767c48",
   "metadata": {},
   "outputs": [
    {
     "name": "stdout",
     "output_type": "stream",
     "text": [
      "1\n",
      "1 3 5 678\n",
      "5\n",
      "1 [1, 3, 5, 678] 5\n"
     ]
    }
   ],
   "source": [
    "n = int(input())\n",
    "# 입력값을 리스트로 받기\n",
    "lst = list(map(int, input().split()))\n",
    "t = int(input())\n",
    "\n",
    "print(n, lst, t)"
   ]
  },
  {
   "cell_type": "code",
   "execution_count": 9,
   "id": "d84c9cb0",
   "metadata": {},
   "outputs": [],
   "source": [
    "n = 5\n",
    "lst = [18.70, 26.17, 12.90, 24.75, 10.70]\n",
    "t = 15.01"
   ]
  },
  {
   "cell_type": "code",
   "execution_count": 18,
   "id": "bc1698e8",
   "metadata": {},
   "outputs": [
    {
     "name": "stdout",
     "output_type": "stream",
     "text": [
      "12.9\n"
     ]
    }
   ],
   "source": [
    "for i in range(n):\n",
    "    if i == 0:\n",
    "        min = abs(t-lst[i])\n",
    "    k = abs(t - lst[i])\n",
    "    if k < min:\n",
    "        min = k\n",
    "        result = lst[i]\n",
    "        \n",
    "print(result)"
   ]
  },
  {
   "cell_type": "markdown",
   "id": "6d00c5c4",
   "metadata": {},
   "source": [
    "### 시도 01 - 정답"
   ]
  },
  {
   "cell_type": "code",
   "execution_count": 22,
   "id": "efc829fb",
   "metadata": {},
   "outputs": [
    {
     "name": "stdout",
     "output_type": "stream",
     "text": [
      "5\n",
      "18.70 26.17 12.90 24.75 10.70\n",
      "15.01\n",
      "12.90\n"
     ]
    }
   ],
   "source": [
    "n = int(input())\n",
    "# 입력값을 리스트로 받기\n",
    "lst = list(map(float, input().split()))\n",
    "t = float(input())\n",
    "\n",
    "for i in range(n):\n",
    "    if i == 0:\n",
    "        min = abs(t-lst[i])\n",
    "    k = abs(t - lst[i])\n",
    "    if k < min:\n",
    "        min = k\n",
    "        result = lst[i]\n",
    "        \n",
    "print(\"{:.2f}\".format(result))"
   ]
  },
  {
   "cell_type": "code",
   "execution_count": null,
   "id": "0e17de7f",
   "metadata": {},
   "outputs": [],
   "source": []
  }
 ],
 "metadata": {
  "kernelspec": {
   "display_name": "Python 3 (ipykernel)",
   "language": "python",
   "name": "python3"
  },
  "language_info": {
   "codemirror_mode": {
    "name": "ipython",
    "version": 3
   },
   "file_extension": ".py",
   "mimetype": "text/x-python",
   "name": "python",
   "nbconvert_exporter": "python",
   "pygments_lexer": "ipython3",
   "version": "3.8.7"
  }
 },
 "nbformat": 4,
 "nbformat_minor": 5
}

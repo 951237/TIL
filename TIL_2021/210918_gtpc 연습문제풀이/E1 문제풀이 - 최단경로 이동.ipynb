{
 "cells": [
  {
   "cell_type": "markdown",
   "id": "f51d99d4",
   "metadata": {},
   "source": [
    "# E1 문제 풀이 - 최단 경로 이동"
   ]
  },
  {
   "cell_type": "markdown",
   "id": "2f76f7ad",
   "metadata": {},
   "source": [
    "## 입력설명\n",
    "- 첫번째 줄 월드의 크기(r, c), 집의 좌표 (tr, tc) 공백으로 구분\n",
    "    - 3 2 2 2\n",
    "- 두번째 줄 : 지나갈 수 없는 지점의 개수 n\n",
    "- 지나갈 수 없는 지점의 좌표 공백으로 구분되어 n개의 줄에 주어짐\n",
    "    - 1 2\n",
    "    - 3 1\n",
    "- 정답 : 2"
   ]
  },
  {
   "cell_type": "markdown",
   "id": "bb7c2a4a",
   "metadata": {},
   "source": [
    "- 3\t2\t2\t2\n",
    "- 2\n",
    "- 1\t2\n",
    "- 3\t1"
   ]
  },
  {
   "cell_type": "code",
   "execution_count": 32,
   "id": "ac2c9f0b",
   "metadata": {},
   "outputs": [
    {
     "data": {
      "text/plain": [
       "[[-1, -1, -1, -1],\n",
       " [-1, 1, -1, -1],\n",
       " [-1, 0, 0, -1],\n",
       " [-1, -1, 0, -1],\n",
       " [-1, -1, -1, -1]]"
      ]
     },
     "execution_count": 32,
     "metadata": {},
     "output_type": "execute_result"
    }
   ],
   "source": [
    "# 입력받기\n",
    "\n",
    "# 전체 월드 리스트로 입력\n",
    "map = [[0] * 4 for i in range(5)]\n",
    "\n",
    "# 갈 수 없는 위치 초기화\n",
    "for i in range(4):  # 첫줄 -1 입력\n",
    "    map[0][i] = -1\n",
    "    map[4][i] = -1\n",
    "\n",
    "for i in range(5):  # 각 줄의 0, -1 -1 입력\n",
    "    map[i][0] = -1\n",
    "    map[i][3] = -1\n",
    "\n",
    "# r1의 집의 좌표 : 1 입력\n",
    "map[1][1] = 1\n",
    "# 장애물 입력\n",
    "map[1][2] = -1\n",
    "map[3][1] = -1\n",
    "map"
   ]
  },
  {
   "cell_type": "markdown",
   "id": "1c16cacc",
   "metadata": {},
   "source": [
    "[0,  0,  0,  0], \n",
    "[0,  1, -1,  0], \n",
    "[0,  0,  0,  0], \n",
    "[0, -1,  0,  0], \n",
    "[0,  0,  0,  0]\n"
   ]
  },
  {
   "cell_type": "code",
   "execution_count": 31,
   "id": "f9010134",
   "metadata": {},
   "outputs": [
    {
     "data": {
      "text/plain": [
       "[[-1, -1, -1, -1],\n",
       " [-1, 1, -1, -1],\n",
       " [-1, 0, 0, -1],\n",
       " [-1, -1, 0, -1],\n",
       " [-1, -1, -1, -1]]"
      ]
     },
     "execution_count": 31,
     "metadata": {},
     "output_type": "execute_result"
    }
   ],
   "source": [
    "# 첫줄 -1 입력\n",
    "for i in range(4):\n",
    "    map[0][i] = -1\n",
    "    map[4][i] = -1\n",
    "# 각 줄의 0, -1 -1 입력\n",
    "for i in range(5):\n",
    "    map[i][0] = -1\n",
    "    map[i][3] = -1\n",
    "map\n",
    "# 마지막 줄 -1 입력\n",
    "\n"
   ]
  },
  {
   "cell_type": "code",
   "execution_count": null,
   "id": "b97d89aa",
   "metadata": {},
   "outputs": [],
   "source": []
  }
 ],
 "metadata": {
  "kernelspec": {
   "display_name": "Python 3 (ipykernel)",
   "language": "python",
   "name": "python3"
  },
  "language_info": {
   "codemirror_mode": {
    "name": "ipython",
    "version": 3
   },
   "file_extension": ".py",
   "mimetype": "text/x-python",
   "name": "python",
   "nbconvert_exporter": "python",
   "pygments_lexer": "ipython3",
   "version": "3.8.7"
  }
 },
 "nbformat": 4,
 "nbformat_minor": 5
}

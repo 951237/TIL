{
 "cells": [
  {
   "cell_type": "markdown",
   "id": "f51d99d4",
   "metadata": {},
   "source": [
    "# E1 문제 풀이 - 최단 경로 이동"
   ]
  },
  {
   "cell_type": "markdown",
   "id": "2f76f7ad",
   "metadata": {},
   "source": [
    "## 입력설명\n",
    "- 첫번째 줄 월드의 크기(r, c), 집의 좌표 (tr, tc) 공백으로 구분\n",
    "    - 3 2 2 2\n",
    "- 두번째 줄 : 지나갈 수 없는 지점의 개수 n\n",
    "- 지나갈 수 없는 지점의 좌표 공백으로 구분되어 n개의 줄에 주어짐\n",
    "    - 1 2\n",
    "    - 3 1\n",
    "- 정답 : 2"
   ]
  },
  {
   "cell_type": "markdown",
   "id": "bb7c2a4a",
   "metadata": {},
   "source": [
    "- 3\t2\t2\t2\n",
    "- 2\n",
    "- 1\t2\n",
    "- 3\t1"
   ]
  },
  {
   "cell_type": "markdown",
   "id": "48eff6c7",
   "metadata": {},
   "source": [
    "### 풀이 - 테스트"
   ]
  },
  {
   "cell_type": "code",
   "execution_count": null,
   "id": "ac2c9f0b",
   "metadata": {},
   "outputs": [],
   "source": [
    "# 전체 월드 리스트로 입력\n",
    "_map = [[0] * 4 for i in range(5)]\n",
    "\n",
    "# 갈 수 없는 위치 초기화\n",
    "for i in range(4):  # 첫줄 -1 입력\n",
    "    _map[0][i] = -1\n",
    "    _map[4][i] = -1\n",
    "\n",
    "for i in range(5):  # 각 줄의 0, -1 -1 입력\n",
    "    _map[i][0] = -1\n",
    "    _map[i][3] = -1\n",
    "\n",
    "# r1의 집의 좌표 : 1 입력\n",
    "_map[1][1] = 1\n",
    "# 장애물 입력\n",
    "_map[1][2] = -1\n",
    "_map[3][1] = -1\n",
    "_map\n",
    "\n",
    "[0,  0,  0,  0], \n",
    "[0,  1, -1,  0], \n",
    "[0,  0,  0,  0], \n",
    "[0, -1,  0,  0], \n",
    "[0,  0,  0,  0]\n"
   ]
  },
  {
   "cell_type": "code",
   "execution_count": null,
   "id": "2e5a51eb",
   "metadata": {},
   "outputs": [],
   "source": [
    "dx = [-1, 1, 0, 0]\n",
    "dy = [0, 0, -1, 1]\n",
    "while True:\n",
    "    step, cnt = 1, 0\n",
    "    for i in range(4):\n",
    "        for j in range(5):\n",
    "            if _map[i][j] == step:\n",
    "                for a in range(4):\n",
    "                    ni = i + dx[a]\n",
    "                    nj = j + dx[a]\n",
    "#                     print(ni, nj)\n",
    "                    if _map[ni][nj] == 0:\n",
    "                        _map[ni][nj] = step +1\n",
    "                        cnt += 1\n",
    "                        print(f'좌표 : {_map[ni][nj]}, 카운트 : {cnt}')\n",
    "    if cnt == 0 or _map[2][2]:\n",
    "        break\n",
    "\n",
    "if _map[2][2] == 0:\n",
    "    print(-1)\n",
    "print(_map[2][2]-1)\n",
    "        "
   ]
  },
  {
   "cell_type": "markdown",
   "id": "34d1bd8e",
   "metadata": {},
   "source": [
    "### 풀이 - 시도 1"
   ]
  },
  {
   "cell_type": "code",
   "execution_count": 17,
   "id": "f90ba97c",
   "metadata": {},
   "outputs": [
    {
     "name": "stdout",
     "output_type": "stream",
     "text": [
      "3 2 2 2\n",
      "2\n",
      "1 2\n",
      "3 1\n",
      "좌표위치 : (1,1), 좌표값 : 2, 카운트 : 1\n",
      "좌표위치 : (2,1), 좌표값 : 3, 카운트 : 2\n",
      "좌표위치 : (2,2), 좌표값 : 4, 카운트 : 3\n",
      "2\n"
     ]
    }
   ],
   "source": [
    "# 입력받기\n",
    "r, c, tr, tc = map(int, input().split())\n",
    "\n",
    "# 맵의 외곽에 -1을 입력하기 위해서 오른쪽 왼쪽에 각각 1줄씩\n",
    "# 아래위로 1줄식 더해줘야함. 그래서 입력값에 2씩 더함.\n",
    "r += 2\n",
    "c += 2\n",
    "\n",
    "# 전체 월드 리스트로 입력\n",
    "_map = [[0] * c for i in range(r)]\n",
    "# print(_map)\n",
    "\n",
    "# 갈 수 없는 위치 초기화\n",
    "for i in range(c):  # 첫줄 -1 입력\n",
    "    _map[0][i] = -1\n",
    "    _map[r-1][i] = -1   # 0부터 시작하므로 y값보다 1을 작게 설정\n",
    "\n",
    "for i in range(r):  # 각 줄의 0, -1 -1 입력\n",
    "    _map[i][0] = -1\n",
    "    _map[i][c-1] = -1   # 0부터 시작하므로 x값보다 1을 작게 설정\n",
    "\n",
    "n = int(input())   # 장애물의 갯수\n",
    "\n",
    "# 장애물 입력\n",
    "for i in range(n):\n",
    "    a, b = map(int, input().split())\n",
    "    _map[a][b] = -1\n",
    "\n",
    "# r1의 집의 좌표 : 1 입력\n",
    "_map[1][1] = 1\n",
    "\n",
    "dx = [-1, 1, 0, 0]\n",
    "dy = [0, 0, -1, 1]\n",
    "while True:\n",
    "    step = 1  # 시작값\n",
    "    cnt = 0  # 이동값\n",
    "    for i in range(1, r-1):\n",
    "        for j in range(1, c-1):\n",
    "            #             print(i,j)\n",
    "            if _map[i][j] == step:\n",
    "                for a in range(4):\n",
    "                    ni = i + dx[a]\n",
    "                    nj = j + dy[a]\n",
    "                    if _map[ni][nj] == 0:\n",
    "                        _map[ni][nj] = step + 1  # 시작값을 1 → 2 → 3. . . 으로\n",
    "                        cnt += 1\n",
    "#                         print(f'좌표위치 : ({i},{j}), 좌표값 : {_map[ni][nj]}, 카운트 : {cnt}')\n",
    "                        step += 1\n",
    "    if cnt == 0 or _map[tr][tc]:   # 움직일수 없거나 목표지점에 도착한 경우\n",
    "        break\n",
    "\n",
    "if _map[tr][tc] == 0:\n",
    "    print(-1)\n",
    "else:\n",
    "    print(_map[tr][tc] - 1)\n"
   ]
  }
 ],
 "metadata": {
  "kernelspec": {
   "display_name": "Python 3 (ipykernel)",
   "language": "python",
   "name": "python3"
  },
  "language_info": {
   "codemirror_mode": {
    "name": "ipython",
    "version": 3
   },
   "file_extension": ".py",
   "mimetype": "text/x-python",
   "name": "python",
   "nbconvert_exporter": "python",
   "pygments_lexer": "ipython3",
   "version": "3.8.7"
  }
 },
 "nbformat": 4,
 "nbformat_minor": 5
}

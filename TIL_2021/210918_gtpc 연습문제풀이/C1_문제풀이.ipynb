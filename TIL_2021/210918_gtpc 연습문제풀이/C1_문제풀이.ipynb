{
 "cells": [
  {
   "cell_type": "markdown",
   "id": "6bca62c5",
   "metadata": {},
   "source": [
    "# c1문제풀이\n",
    "## 길찾기 \n",
    "- (1,1) → (2,2)\n",
    "    - (1, 1) (2, 1) (2,2)\n",
    "    - (1, 1) (1, 2) (2,2)"
   ]
  },
  {
   "cell_type": "code",
   "execution_count": 6,
   "id": "5971cc89",
   "metadata": {},
   "outputs": [
    {
     "name": "stdout",
     "output_type": "stream",
     "text": [
      "1 1\n",
      "1 2\n",
      "2 1\n",
      "2 2\n"
     ]
    }
   ],
   "source": [
    "for i in range(1,3):\n",
    "    for j in range(1,3):\n",
    "        print(i, j)"
   ]
  },
  {
   "cell_type": "markdown",
   "id": "d609c1a9",
   "metadata": {},
   "source": [
    "### 최소거리 길찾기 식\n",
    "- 예시 : (1,1) → (4, 2)\n",
    "    - 5! / 2! 3!\n",
    "- 예시 : (1, 1) → (n, m)\n",
    "    - (n+1)! / m! * (n-1)!"
   ]
  },
  {
   "cell_type": "code",
   "execution_count": 46,
   "id": "41083ee7",
   "metadata": {},
   "outputs": [
    {
     "name": "stdout",
     "output_type": "stream",
     "text": [
      "팩토리얼 구할 숫자 입력하세요 : 3 3\n",
      "6\n"
     ]
    }
   ],
   "source": [
    "import math\n",
    "a, b = map(int, input(\"팩토리얼 구할 숫자 입력하세요 : \").split())\n",
    "\n",
    "# 두 수중에 큰 수가 n, 작은수는 m\n",
    "n = max(int(a), int(b)) - 1\n",
    "m = min(int(a), int(b)) - 1\n",
    "\n",
    "# print(n, m)\n",
    "\n",
    "result = math.factorial(n+m) / (math.factorial(m) * math.factorial(n))\n",
    "\n",
    "print(int(result))"
   ]
  },
  {
   "cell_type": "markdown",
   "id": "70e714e7",
   "metadata": {},
   "source": [
    "### 해설에 의한 코드작성"
   ]
  },
  {
   "cell_type": "code",
   "execution_count": 53,
   "id": "b807f116",
   "metadata": {},
   "outputs": [
    {
     "name": "stdout",
     "output_type": "stream",
     "text": [
      "5\n"
     ]
    }
   ],
   "source": [
    "n,m = map(int, (3,3))\n",
    "\n",
    "def f(n, m):\n",
    "    if n == 1:\n",
    "        return\n",
    "    coun\n",
    "\n",
    "    \n"
   ]
  },
  {
   "cell_type": "markdown",
   "id": "f4cd4082",
   "metadata": {},
   "source": [
    "### 재귀함수"
   ]
  },
  {
   "cell_type": "code",
   "execution_count": 50,
   "id": "7ed323fd",
   "metadata": {},
   "outputs": [],
   "source": [
    "def hello(count):\n",
    "    if count == 0:\n",
    "        return\n",
    "    print('hello, world', count)\n",
    "    \n",
    "    count -= 1\n",
    "    hello(count)\n"
   ]
  },
  {
   "cell_type": "code",
   "execution_count": 52,
   "id": "54edbc37",
   "metadata": {},
   "outputs": [
    {
     "name": "stdout",
     "output_type": "stream",
     "text": [
      "hello, world 10\n",
      "hello, world 9\n",
      "hello, world 8\n",
      "hello, world 7\n",
      "hello, world 6\n",
      "hello, world 5\n",
      "hello, world 4\n",
      "hello, world 3\n",
      "hello, world 2\n",
      "hello, world 1\n"
     ]
    }
   ],
   "source": [
    "hello(10)"
   ]
  },
  {
   "cell_type": "code",
   "execution_count": null,
   "id": "c477918b",
   "metadata": {},
   "outputs": [],
   "source": []
  }
 ],
 "metadata": {
  "kernelspec": {
   "display_name": "Python 3 (ipykernel)",
   "language": "python",
   "name": "python3"
  },
  "language_info": {
   "codemirror_mode": {
    "name": "ipython",
    "version": 3
   },
   "file_extension": ".py",
   "mimetype": "text/x-python",
   "name": "python",
   "nbconvert_exporter": "python",
   "pygments_lexer": "ipython3",
   "version": "3.8.7"
  }
 },
 "nbformat": 4,
 "nbformat_minor": 5
}

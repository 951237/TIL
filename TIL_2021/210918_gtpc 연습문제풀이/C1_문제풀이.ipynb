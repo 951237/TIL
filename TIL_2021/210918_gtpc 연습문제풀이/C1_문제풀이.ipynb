{
 "cells": [
  {
   "cell_type": "markdown",
   "id": "6bca62c5",
   "metadata": {},
   "source": [
    "# c1문제풀이\n",
    "## 길찾기 \n",
    "- (1,1) → (2,2)\n",
    "    - (1, 1) (2, 1) (2,2)\n",
    "    - (1, 1) (1, 2) (2,2)"
   ]
  },
  {
   "cell_type": "code",
   "execution_count": 6,
   "id": "5971cc89",
   "metadata": {},
   "outputs": [
    {
     "name": "stdout",
     "output_type": "stream",
     "text": [
      "1 1\n",
      "1 2\n",
      "2 1\n",
      "2 2\n"
     ]
    }
   ],
   "source": [
    "for i in range(1,3):\n",
    "    for j in range(1,3):\n",
    "        print(i, j)"
   ]
  },
  {
   "cell_type": "markdown",
   "id": "d609c1a9",
   "metadata": {},
   "source": [
    "### 최소거리 길찾기 식\n",
    "- 예시 : (1,1) → (4, 2)\n",
    "    - 5! / 2! 3!\n",
    "- 예시 : (1, 1) → (n, m)\n",
    "    - (n+1)! / m! * (n-1)!"
   ]
  },
  {
   "cell_type": "code",
   "execution_count": 28,
   "id": "41083ee7",
   "metadata": {},
   "outputs": [
    {
     "name": "stdout",
     "output_type": "stream",
     "text": [
      "팩토리얼 구할 숫자 입력하세요 : 2 3\n",
      "2 3\n",
      "3\n"
     ]
    }
   ],
   "source": [
    "import math\n",
    "n, m = input(\"팩토리얼 구할 숫자 입력하세요 : \").split()\n",
    "n = int(n)\n",
    "m = int(m)\n",
    "\n",
    "print(n, m)\n",
    "\n",
    "result = math.factorial(n+1) / (math.factorial(m-1) * math.factorial(n-1))\n",
    "\n",
    "print(int(result))"
   ]
  },
  {
   "cell_type": "code",
   "execution_count": null,
   "id": "b44b9310",
   "metadata": {},
   "outputs": [],
   "source": []
  }
 ],
 "metadata": {
  "kernelspec": {
   "display_name": "Python 3 (ipykernel)",
   "language": "python",
   "name": "python3"
  },
  "language_info": {
   "codemirror_mode": {
    "name": "ipython",
    "version": 3
   },
   "file_extension": ".py",
   "mimetype": "text/x-python",
   "name": "python",
   "nbconvert_exporter": "python",
   "pygments_lexer": "ipython3",
   "version": "3.8.7"
  }
 },
 "nbformat": 4,
 "nbformat_minor": 5
}

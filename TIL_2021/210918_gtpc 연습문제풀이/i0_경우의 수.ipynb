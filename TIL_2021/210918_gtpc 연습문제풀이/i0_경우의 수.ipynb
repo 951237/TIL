{
 "cells": [
  {
   "cell_type": "markdown",
   "id": "f7d0e36d",
   "metadata": {},
   "source": [
    "## I형 문제풀이 - 급식순서 정하기\n",
    "- 목표\n",
    "    - 줄을 세워 나올 수 있는 최대 친밀도 구하기\n",
    "- 입력예시\n",
    "    - 4 : 학급수\n",
    "    - 0 10 12 3 21 : 학급사이 친밀도\n",
    "    - ....\n",
    "    - 1 4 5 28\n"
   ]
  },
  {
   "cell_type": "markdown",
   "id": "3a86ecbb",
   "metadata": {},
   "source": [
    "### 시도 1"
   ]
  },
  {
   "cell_type": "code",
   "execution_count": 159,
   "id": "d6c93528",
   "metadata": {},
   "outputs": [
    {
     "name": "stdout",
     "output_type": "stream",
     "text": [
      "5\n",
      "0 1 1 1 100\n",
      "1 0 2 3 1\n",
      "1 2 0 10 5\n",
      "1 3 10 0 7\n",
      "100 1 5 7 0\n",
      "119\n"
     ]
    },
    {
     "data": {
      "text/plain": [
       "'\\n5\\n0 1 1 1 100\\n1 0 2 3 1\\n1 2 0 10 5\\n1 3 10 0 7\\n100 1 5 7 0\\n119\\n'"
      ]
     },
     "execution_count": 159,
     "metadata": {},
     "output_type": "execute_result"
    }
   ],
   "source": [
    "# main.py\n",
    "# 입력 받기\n",
    "c = int(input())\n",
    "lst = []\n",
    "for i in range(c):\n",
    "    temp = list(map(int, input().split()))\n",
    "    lst.append(temp)\n",
    "\n",
    "# 학급만큼 숫자 한줄로 남들기\n",
    "def make_class_line(n):\n",
    "    result = ''\n",
    "    for i in range(n):\n",
    "        result += str(i+1)\n",
    "    return result\n",
    "m = make_class_line(c)\n",
    "\n",
    "\n",
    "# 모든 경우 구하기\n",
    "import itertools\n",
    "case = list(itertools.permutations((m),c))\n",
    "\n",
    "# 각 반별 친밀도 구하기\n",
    "def make_dic(lst):\n",
    "    result = {}\n",
    "    for i in range(len(lst)):\n",
    "        for j in range(len(lst)):\n",
    "            k = str(i+1)+str(j+1)\n",
    "            result[k] = lst[i][j]\n",
    "    return result\n",
    "set_score = make_dic(lst)\n",
    "\n",
    "# 각 케이스별 조합 구하기\n",
    "def cal_score(c, case):\n",
    "    lst_t = []\n",
    "    if case[0] == '1':\n",
    "        for i in range(c-1):\n",
    "            temp = str(case[i]) + str(case[i+1])\n",
    "            lst_t.append(temp)\n",
    "    return lst_t\n",
    "\n",
    "# 각 조합에 따른 점수 구하기\n",
    "lst_sum = []\n",
    "for j in case:\n",
    "    sum = 0\n",
    "    for i in cal_score(c, j):\n",
    "        if i in set_score.keys():\n",
    "            sum += set_score[i]\n",
    "    lst_sum.append(sum)\n",
    "result = max(lst_sum)\n",
    "print(result)\n",
    "\n",
    "'''\n",
    "5\n",
    "0 1 1 1 100\n",
    "1 0 2 3 1\n",
    "1 2 0 10 5\n",
    "1 3 10 0 7\n",
    "100 1 5 7 0\n",
    "119\n",
    "'''"
   ]
  },
  {
   "cell_type": "markdown",
   "id": "c2a5e295",
   "metadata": {},
   "source": [
    "### 시도 2 \n",
    "- 친밀도값 딕서녀리 만들때 앞뒤가 같은 경우 제외하기"
   ]
  },
  {
   "cell_type": "code",
   "execution_count": null,
   "id": "4cf3011f",
   "metadata": {},
   "outputs": [],
   "source": [
    "# main.py\n",
    "# 입력 받기\n",
    "c = int(input())\n",
    "lst = []\n",
    "for i in range(c):\n",
    "    temp = list(map(int, input().split()))\n",
    "    lst.append(temp)\n",
    "\n",
    "# 학급만큼 숫자 한줄로 남들기\n",
    "def make_class_line(n):\n",
    "    result = ''\n",
    "    for i in range(n):\n",
    "        result += str(i+1)\n",
    "    return result\n",
    "m = make_class_line(c)\n",
    "\n",
    "\n",
    "# 모든 경우 구하기\n",
    "import itertools\n",
    "case = list(itertools.permutations((m),c))\n",
    "\n",
    "# 각 반별 친밀도 구하기\n",
    "def make_dic(lst):\n",
    "    result = {}\n",
    "    for i in range(len(lst)):\n",
    "        for j in range(len(lst)):\n",
    "            k = str(i+1)+str(j+1)\n",
    "            if k[1]+k[0] in result.keys():  # 12와 21은 같은 값임 그러므로 패스\n",
    "                continue\n",
    "            result[k] = lst[i][j]\n",
    "    return result\n",
    "set_score = make_dic(lst)\n",
    "\n",
    "# 각 케이스별 조합 구하기\n",
    "def cal_score(c, case):\n",
    "    lst_t = []\n",
    "    if case[0] == '1':\n",
    "        for i in range(c-1):\n",
    "            temp = str(case[i]) + str(case[i+1])\n",
    "            lst_t.append(temp)\n",
    "    return lst_t\n",
    "\n",
    "# 각 조합에 따른 점수 구하기\n",
    "lst_sum = []\n",
    "for j in case:\n",
    "    sum = 0\n",
    "    for i in cal_score(c, j):\n",
    "        if i in set_score.keys():\n",
    "            sum += set_score[i]\n",
    "        elif i[1]+i[0] in set_score.keys():\n",
    "            i = i[1]+i[0]\n",
    "            sum += set_score[i]\n",
    "    lst_sum.append(sum)\n",
    "result = max(lst_sum)\n",
    "print(result)"
   ]
  },
  {
   "cell_type": "code",
   "execution_count": 75,
   "id": "146674a9",
   "metadata": {},
   "outputs": [
    {
     "name": "stdout",
     "output_type": "stream",
     "text": [
      "**경우의 수 : 24개\n",
      "[('1', '2', '3', '4'), ('1', '2', '4', '3'), ('1', '3', '2', '4'), ('1', '3', '4', '2'), ('1', '4', '2', '3'), ('1', '4', '3', '2'), ('2', '1', '3', '4'), ('2', '1', '4', '3'), ('2', '3', '1', '4'), ('2', '3', '4', '1'), ('2', '4', '1', '3'), ('2', '4', '3', '1'), ('3', '1', '2', '4'), ('3', '1', '4', '2'), ('3', '2', '1', '4'), ('3', '2', '4', '1'), ('3', '4', '1', '2'), ('3', '4', '2', '1'), ('4', '1', '2', '3'), ('4', '1', '3', '2'), ('4', '2', '1', '3'), ('4', '2', '3', '1'), ('4', '3', '1', '2'), ('4', '3', '2', '1')]\n"
     ]
    }
   ],
   "source": [
    "import itertools\n",
    "\n",
    "case = list(itertools.permutations(('1234'),4))\n",
    "\n",
    "print(\"**경우의 수 : %s개\" % len(case))\n",
    "print(case)"
   ]
  },
  {
   "cell_type": "code",
   "execution_count": 84,
   "id": "f5512da5",
   "metadata": {},
   "outputs": [
    {
     "name": "stdout",
     "output_type": "stream",
     "text": [
      "20\n"
     ]
    }
   ],
   "source": [
    "sum = 0\n",
    "for i in cal_score(case[0]):\n",
    "    if i in set_score.keys():\n",
    "        sum += t[i]\n",
    "print(sum)"
   ]
  },
  {
   "cell_type": "code",
   "execution_count": 60,
   "id": "35a0cd32",
   "metadata": {},
   "outputs": [
    {
     "data": {
      "text/plain": [
       "['12', '23', '34']"
      ]
     },
     "execution_count": 60,
     "metadata": {},
     "output_type": "execute_result"
    }
   ],
   "source": [
    "# 테스트 - 리스트의 결과물의 조합을 합치기\n",
    "# todo : 조합의 값을 딕셔너리에서 찾기\n",
    "# 12 23 34\n",
    "def cal_score(case):\n",
    "    a1 = str(case[0])+str(case[1])\n",
    "    a2 = str(case[1])+str(case[2])\n",
    "    a3 = str(case[2])+str(case[3])\n",
    "    return [a1, a2, a3]\n",
    "\n",
    "cal_score(case[0])"
   ]
  },
  {
   "cell_type": "code",
   "execution_count": 53,
   "id": "2ce2ac26",
   "metadata": {},
   "outputs": [],
   "source": [
    "# 각 반별 친밀도 \n",
    "def make_dic(lst):\n",
    "    result = {}\n",
    "    for i in range(len(lst)):\n",
    "        for j in range(len(lst)):\n",
    "            k = str(i+1)+str(j+1)\n",
    "            result[k] = lst[i][j]\n",
    "    return result\n",
    "t = make_dic(lst)"
   ]
  },
  {
   "cell_type": "code",
   "execution_count": 65,
   "id": "859c9f63",
   "metadata": {},
   "outputs": [
    {
     "data": {
      "text/plain": [
       "20"
      ]
     },
     "execution_count": 65,
     "metadata": {},
     "output_type": "execute_result"
    }
   ],
   "source": [
    "# 딕셔너리 탐색하여 값 구하기\n",
    "sum = 0\n",
    "for i in cal_score(case[0]):\n",
    "    if i in t.keys():\n",
    "        sum += t[i]\n",
    "sum"
   ]
  }
 ],
 "metadata": {
  "kernelspec": {
   "display_name": "Python 3 (ipykernel)",
   "language": "python",
   "name": "python3"
  },
  "language_info": {
   "codemirror_mode": {
    "name": "ipython",
    "version": 3
   },
   "file_extension": ".py",
   "mimetype": "text/x-python",
   "name": "python",
   "nbconvert_exporter": "python",
   "pygments_lexer": "ipython3",
   "version": "3.8.7"
  }
 },
 "nbformat": 4,
 "nbformat_minor": 5
}

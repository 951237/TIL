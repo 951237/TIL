{
 "cells": [
  {
   "cell_type": "markdown",
   "id": "fb7c800f",
   "metadata": {},
   "source": [
    "# A0 챌린지 준비"
   ]
  },
  {
   "cell_type": "code",
   "execution_count": 9,
   "id": "b4f2f1f0",
   "metadata": {},
   "outputs": [],
   "source": [
    "num_team = 15\n",
    "num_teacher = 7"
   ]
  },
  {
   "cell_type": "code",
   "execution_count": 10,
   "id": "c3cf4b43",
   "metadata": {},
   "outputs": [
    {
     "data": {
      "text/plain": [
       "105"
      ]
     },
     "execution_count": 10,
     "metadata": {},
     "output_type": "execute_result"
    }
   ],
   "source": [
    "num_bread = num_team * num_teacher\n",
    "num_bread"
   ]
  },
  {
   "cell_type": "code",
   "execution_count": 11,
   "id": "89941eed",
   "metadata": {},
   "outputs": [],
   "source": [
    "set_bread = {30 : 9000, 50 : 15000}"
   ]
  },
  {
   "cell_type": "code",
   "execution_count": 20,
   "id": "16010989",
   "metadata": {},
   "outputs": [
    {
     "data": {
      "text/plain": [
       "33000"
      ]
     },
     "execution_count": 20,
     "metadata": {},
     "output_type": "execute_result"
    }
   ],
   "source": [
    "min_price = set_bread[30] *2 + set_bread[50]\n",
    "min_price"
   ]
  },
  {
   "cell_type": "markdown",
   "id": "183b9ff9",
   "metadata": {},
   "source": [
    "# A1 챌린지 준비1"
   ]
  },
  {
   "cell_type": "markdown",
   "id": "96989be1",
   "metadata": {},
   "source": [
    "핸드코딩 \n",
    "- 50*3 = 150\n",
    "- 50*2 + 30 = 130\n",
    "- 50 + 30*2 = 110"
   ]
  },
  {
   "cell_type": "code",
   "execution_count": 25,
   "id": "5a5039e0",
   "metadata": {},
   "outputs": [
    {
     "data": {
      "text/plain": [
       "[30, 50]"
      ]
     },
     "execution_count": 25,
     "metadata": {},
     "output_type": "execute_result"
    }
   ],
   "source": [
    "key_list = list(set_bread.keys())\n",
    "key_list"
   ]
  },
  {
   "cell_type": "code",
   "execution_count": 38,
   "id": "8e4c25f8",
   "metadata": {},
   "outputs": [
    {
     "data": {
      "text/plain": [
       "3"
      ]
     },
     "execution_count": 38,
     "metadata": {},
     "output_type": "execute_result"
    }
   ],
   "source": [
    "# 곱해야하는 숫자 구하기\n",
    "cnt = num_bread // 50 +1\n",
    "cnt"
   ]
  },
  {
   "cell_type": "code",
   "execution_count": 29,
   "id": "97f6c58b",
   "metadata": {},
   "outputs": [],
   "source": [
    "# 경우의 수와 가격 구하기"
   ]
  },
  {
   "cell_type": "code",
   "execution_count": 30,
   "id": "85416feb",
   "metadata": {},
   "outputs": [],
   "source": [
    "# 가장 근접한 수 찾기"
   ]
  },
  {
   "cell_type": "code",
   "execution_count": 36,
   "id": "196e464e",
   "metadata": {},
   "outputs": [
    {
     "data": {
      "text/plain": [
       "2"
      ]
     },
     "execution_count": 36,
     "metadata": {},
     "output_type": "execute_result"
    }
   ],
   "source": [
    "105 // 50"
   ]
  },
  {
   "cell_type": "code",
   "execution_count": null,
   "id": "2e1a1284",
   "metadata": {},
   "outputs": [],
   "source": []
  }
 ],
 "metadata": {
  "kernelspec": {
   "display_name": "Python 3 (ipykernel)",
   "language": "python",
   "name": "python3"
  },
  "language_info": {
   "codemirror_mode": {
    "name": "ipython",
    "version": 3
   },
   "file_extension": ".py",
   "mimetype": "text/x-python",
   "name": "python",
   "nbconvert_exporter": "python",
   "pygments_lexer": "ipython3",
   "version": "3.8.7"
  }
 },
 "nbformat": 4,
 "nbformat_minor": 5
}

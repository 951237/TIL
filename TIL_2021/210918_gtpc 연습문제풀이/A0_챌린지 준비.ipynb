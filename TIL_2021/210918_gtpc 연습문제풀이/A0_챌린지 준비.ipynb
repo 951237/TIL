{
 "cells": [
  {
   "cell_type": "markdown",
   "id": "3c2a58d6",
   "metadata": {},
   "source": [
    "# A0 챌린지 준비"
   ]
  },
  {
   "cell_type": "code",
   "execution_count": 9,
   "id": "a0c9f40c",
   "metadata": {},
   "outputs": [],
   "source": [
    "num_team = 15\n",
    "num_teacher = 7"
   ]
  },
  {
   "cell_type": "code",
   "execution_count": 10,
   "id": "2a3b522b",
   "metadata": {},
   "outputs": [
    {
     "data": {
      "text/plain": [
       "105"
      ]
     },
     "execution_count": 10,
     "metadata": {},
     "output_type": "execute_result"
    }
   ],
   "source": [
    "num_bread = num_team * num_teacher\n",
    "num_bread"
   ]
  },
  {
   "cell_type": "code",
   "execution_count": 11,
   "id": "367c5ea2",
   "metadata": {},
   "outputs": [],
   "source": [
    "set_bread = {30 : 9000, 50 : 15000}"
   ]
  },
  {
   "cell_type": "code",
   "execution_count": 20,
   "id": "5b71aab5",
   "metadata": {},
   "outputs": [
    {
     "data": {
      "text/plain": [
       "33000"
      ]
     },
     "execution_count": 20,
     "metadata": {},
     "output_type": "execute_result"
    }
   ],
   "source": [
    "min_price = set_bread[30] *2 + set_bread[50]\n",
    "min_price"
   ]
  },
  {
   "cell_type": "markdown",
   "id": "6f3a7c55",
   "metadata": {},
   "source": [
    "# A1 챌린지 준비1"
   ]
  },
  {
   "cell_type": "markdown",
   "id": "cd2cbbf5",
   "metadata": {},
   "source": [
    "핸드코딩 \n",
    "- 조건\n",
    "    - 30개 : 9000원 50개 : 15000원\n",
    "- 50*3 = 150\n",
    "- 50*2 + 30 = 130\n",
    "- 50 + 30*2 = 110"
   ]
  },
  {
   "cell_type": "code",
   "execution_count": 142,
   "id": "f8b4dd13",
   "metadata": {},
   "outputs": [
    {
     "name": "stdout",
     "output_type": "stream",
     "text": [
      "팀수와 인원을 입력하시오. : 10 10\n",
      "33000\n"
     ]
    }
   ],
   "source": [
    "# 곱해야하는 숫자 구하기\n",
    "n, m = input(\"팀수와 인원을 입력하시오. : \").split(\" \")\n",
    "num_bread = int(n) * int(m)\n",
    "# print(num_bread)\n",
    "cnt = num_bread // 50 + 1  # 몫구하기\n",
    "\n",
    "# 경우의 수와 가격 구하기\n",
    "_min = 1000000000000000000000000000000000000000000000000\n",
    "a, b = 0, 0\n",
    "for i in range(cnt+1):\n",
    "    temp = 50 * (cnt - i) + 30 * (i)\n",
    "#     print(temp)\n",
    "    if temp < num_bread:\n",
    "        continue\n",
    "    if temp < _min:\n",
    "        _min = temp\n",
    "        a, b = (cnt - i), i\n",
    "price = 15000 * a + 9000 * b\n",
    "print(price)"
   ]
  },
  {
   "cell_type": "code",
   "execution_count": 3,
   "id": "c8b77069",
   "metadata": {},
   "outputs": [
    {
     "name": "stdout",
     "output_type": "stream",
     "text": [
      "팀수와 인원을 입력하시오. : 11 6\n",
      "24000\n"
     ]
    }
   ],
   "source": [
    "# 곱해야하는 숫자 구하기\n",
    "n, m = map(int, input(\"팀수와 인원을 입력하시오. : \").split())\n",
    "num_bread = n * m  # 구매해야하는 빵의 개수구하기\n",
    "\n",
    "# 최소비용으로 빵 구매하기\n",
    "if num_bread < 30:\n",
    "    result = 9000\n",
    "    print(result)\n",
    "elif num_bread % 30 == 0:\n",
    "    result = num_bread // 30 * 9000\n",
    "    print(result)\n",
    "elif num_bread < 50:\n",
    "    result = 15000\n",
    "    print(result)\n",
    "elif num_bread % 50 == 0:\n",
    "    result = num_bread // 50 * 15000\n",
    "    print(result)\n",
    "else:\n",
    "    num_bread_spare = num_bread % 50\n",
    "    _50 = num_bread // 50\n",
    "    if num_bread_spare > 30:\n",
    "        result = (_50 * 15000) + 18000\n",
    "        print(result)\n",
    "    else:\n",
    "        result = (_50 * 15000) + 9000\n",
    "        print(result)"
   ]
  },
  {
   "cell_type": "code",
   "execution_count": 160,
   "id": "43a629dd",
   "metadata": {},
   "outputs": [
    {
     "data": {
      "text/plain": [
       "3"
      ]
     },
     "execution_count": 160,
     "metadata": {},
     "output_type": "execute_result"
    }
   ],
   "source": [
    "180 // 50"
   ]
  },
  {
   "cell_type": "code",
   "execution_count": 150,
   "id": "1dcac7ea",
   "metadata": {},
   "outputs": [
    {
     "data": {
      "text/plain": [
       "3"
      ]
     },
     "execution_count": 150,
     "metadata": {},
     "output_type": "execute_result"
    }
   ],
   "source": [
    "150 // 50"
   ]
  },
  {
   "cell_type": "code",
   "execution_count": 196,
   "id": "3e589920",
   "metadata": {},
   "outputs": [
    {
     "data": {
      "text/plain": [
       "7.5"
      ]
     },
     "execution_count": 196,
     "metadata": {},
     "output_type": "execute_result"
    }
   ],
   "source": [
    "(11*6+9)/10"
   ]
  },
  {
   "cell_type": "code",
   "execution_count": 197,
   "id": "efe226ce",
   "metadata": {},
   "outputs": [
    {
     "data": {
      "text/plain": [
       "22500.0"
      ]
     },
     "execution_count": 197,
     "metadata": {},
     "output_type": "execute_result"
    }
   ],
   "source": [
    "7.5*3000"
   ]
  },
  {
   "cell_type": "markdown",
   "id": "140e9bbb",
   "metadata": {},
   "source": [
    "### 해설에 의한 코딩"
   ]
  },
  {
   "cell_type": "code",
   "execution_count": 239,
   "id": "fa562f3a",
   "metadata": {},
   "outputs": [
    {
     "name": "stdout",
     "output_type": "stream",
     "text": [
      "팀수와 인원을 입력하시오. : 1 61\n",
      "24000\n"
     ]
    }
   ],
   "source": [
    "# 곱해야하는 숫자 구하기\n",
    "n, m = map(int, input(\"팀수와 인원을 입력하시오. : \").split(\",\"))  # 입력받은 수를 숫자형으로 변환\n",
    "k = ((n*m+9) // 10) # 9를 더해준 이유는 올림을 해주기 위함. \n",
    "\n",
    "if k <= 3:\n",
    "    print(9000)\n",
    "elif k <= 5:\n",
    "    print(15000)\n",
    "elif k==6:\n",
    "    print(18000)\n",
    "elif k==7:\n",
    "    print(24000)\n",
    "else:\n",
    "    print(\"%d\" %(k*3000))"
   ]
  }
 ],
 "metadata": {
  "kernelspec": {
   "display_name": "Python 3 (ipykernel)",
   "language": "python",
   "name": "python3"
  },
  "language_info": {
   "codemirror_mode": {
    "name": "ipython",
    "version": 3
   },
   "file_extension": ".py",
   "mimetype": "text/x-python",
   "name": "python",
   "nbconvert_exporter": "python",
   "pygments_lexer": "ipython3",
   "version": "3.8.7"
  }
 },
 "nbformat": 4,
 "nbformat_minor": 5
}

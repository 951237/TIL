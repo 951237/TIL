{
 "cells": [
  {
   "cell_type": "markdown",
   "id": "3c2a58d6",
   "metadata": {},
   "source": [
    "# A0 챌린지 준비"
   ]
  },
  {
   "cell_type": "code",
   "execution_count": 9,
   "id": "a0c9f40c",
   "metadata": {},
   "outputs": [],
   "source": [
    "num_team = 15\n",
    "num_teacher = 7"
   ]
  },
  {
   "cell_type": "code",
   "execution_count": 10,
   "id": "2a3b522b",
   "metadata": {},
   "outputs": [
    {
     "data": {
      "text/plain": [
       "105"
      ]
     },
     "execution_count": 10,
     "metadata": {},
     "output_type": "execute_result"
    }
   ],
   "source": [
    "num_bread = num_team * num_teacher\n",
    "num_bread"
   ]
  },
  {
   "cell_type": "code",
   "execution_count": 11,
   "id": "367c5ea2",
   "metadata": {},
   "outputs": [],
   "source": [
    "set_bread = {30 : 9000, 50 : 15000}"
   ]
  },
  {
   "cell_type": "code",
   "execution_count": 20,
   "id": "5b71aab5",
   "metadata": {},
   "outputs": [
    {
     "data": {
      "text/plain": [
       "33000"
      ]
     },
     "execution_count": 20,
     "metadata": {},
     "output_type": "execute_result"
    }
   ],
   "source": [
    "min_price = set_bread[30] *2 + set_bread[50]\n",
    "min_price"
   ]
  },
  {
   "cell_type": "markdown",
   "id": "6f3a7c55",
   "metadata": {},
   "source": [
    "# A1 챌린지 준비1"
   ]
  },
  {
   "cell_type": "markdown",
   "id": "cd2cbbf5",
   "metadata": {},
   "source": [
    "핸드코딩 \n",
    "- 50*3 = 150\n",
    "- 50*2 + 30 = 130\n",
    "- 50 + 30*2 = 110"
   ]
  },
  {
   "cell_type": "code",
   "execution_count": 139,
   "id": "f8b4dd13",
   "metadata": {},
   "outputs": [
    {
     "name": "stdout",
     "output_type": "stream",
     "text": [
      "팀수와 인원을 입력하시오. : 1 2\n",
      "2\n",
      "9000\n"
     ]
    }
   ],
   "source": [
    "# 곱해야하는 숫자 구하기\n",
    "n, m = input(\"팀수와 인원을 입력하시오. : \").split(\" \")\n",
    "num_bread = int(n) * int(m)\n",
    "print(num_bread)\n",
    "cnt = num_bread // 50 + 1  # 몫구하기\n",
    "\n",
    "# 경우의 수와 가격 구하기\n",
    "_min = 1000000000000000000000000000000000000000000000000\n",
    "a, b = 0, 0\n",
    "for i in range(cnt+1):\n",
    "    temp = 50 * (cnt - i) + 30 * (i)\n",
    "#     print(temp)\n",
    "    if temp < num_bread:\n",
    "        continue\n",
    "    if temp < _min:\n",
    "        _min = temp\n",
    "        a, b = (cnt - i), i\n",
    "price = 15000 * a + 9000 * b\n",
    "print(price)"
   ]
  },
  {
   "cell_type": "code",
   "execution_count": null,
   "id": "12370163",
   "metadata": {},
   "outputs": [],
   "source": []
  }
 ],
 "metadata": {
  "kernelspec": {
   "display_name": "Python 3 (ipykernel)",
   "language": "python",
   "name": "python3"
  },
  "language_info": {
   "codemirror_mode": {
    "name": "ipython",
    "version": 3
   },
   "file_extension": ".py",
   "mimetype": "text/x-python",
   "name": "python",
   "nbconvert_exporter": "python",
   "pygments_lexer": "ipython3",
   "version": "3.8.7"
  }
 },
 "nbformat": 4,
 "nbformat_minor": 5
}

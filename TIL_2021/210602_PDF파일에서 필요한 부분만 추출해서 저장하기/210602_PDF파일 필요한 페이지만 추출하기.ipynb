{
 "cells": [
  {
   "cell_type": "code",
   "execution_count": 1,
   "id": "hollywood-convert",
   "metadata": {},
   "outputs": [],
   "source": [
    "# pdf파일 중 필요한 페이지만 추출하여 파일 만들기\n",
    "# pdf 파일 불러오기\n",
    "# 필요한 페이지만 추출하기\n",
    "# 새로운 pdf 파일 만들기"
   ]
  },
  {
   "cell_type": "code",
   "execution_count": 34,
   "id": "intimate-holder",
   "metadata": {},
   "outputs": [],
   "source": [
    "import PyPDF2\n",
    "\n",
    "FILE = 'cctv.pdf'\n",
    "reader = PyPDF2.PdfFileReader(FILE)  # pdf파일 읽어오기\n",
    "num_of_pages = reader.numPages  # pdf파일 전체 쪽수 구하기\n",
    "\n",
    "writer = PyPDF2.PdfFileWriter()  # pdf 파일 쓰기 객체\n",
    "\n",
    "result = 'result.pdf'  # 결과물 파일 명\n",
    "\n",
    "for i in range(num_of_pages):\n",
    "    if i % 3 == 2: # 3, 6, 9, ... 페이지만 모으기\n",
    "        want_page = reader.getPage(i)  # 원하는 페이지 쪽수 저장하기\n",
    "        writer.addPage(want_page)  # 원하는 페이지 담기\n",
    "\n",
    "with open(result,'wb') as output:  # 모은 파일 결과파일로 만들기\n",
    "    writer.write(output)\n"
   ]
  },
  {
   "cell_type": "code",
   "execution_count": null,
   "id": "detailed-surname",
   "metadata": {},
   "outputs": [],
   "source": []
  }
 ],
 "metadata": {
  "kernelspec": {
   "display_name": "Python 3",
   "language": "python",
   "name": "python3"
  },
  "language_info": {
   "codemirror_mode": {
    "name": "ipython",
    "version": 3
   },
   "file_extension": ".py",
   "mimetype": "text/x-python",
   "name": "python",
   "nbconvert_exporter": "python",
   "pygments_lexer": "ipython3",
   "version": "3.8.7"
  }
 },
 "nbformat": 4,
 "nbformat_minor": 5
}

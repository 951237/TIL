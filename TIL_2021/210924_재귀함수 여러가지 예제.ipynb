{
 "cells": [
  {
   "cell_type": "markdown",
   "id": "631b64fe",
   "metadata": {},
   "source": [
    "## 재귀함수\n",
    "- 추천 1\n",
    "    - https://han-py.tistory.com/224?category=909310\n",
    "- 추천 2\n",
    "    - https://wayhome25.github.io/cs/2017/04/15/cs-16-1-recursion/"
   ]
  },
  {
   "cell_type": "markdown",
   "id": "b1e8fda9",
   "metadata": {},
   "source": [
    "### 재귀로 집합 A의 부분집합 만들기"
   ]
  },
  {
   "cell_type": "code",
   "execution_count": 9,
   "id": "a72cb954",
   "metadata": {},
   "outputs": [
    {
     "name": "stdout",
     "output_type": "stream",
     "text": [
      "\n",
      "3\n",
      "2\n",
      "23\n",
      "1\n",
      "13\n",
      "12\n",
      "123\n"
     ]
    }
   ],
   "source": [
    "def f(k, n):  # k는 호출단계 , n은 최종단계\n",
    "    if n==k: # b배열을 벗어나면\n",
    "        for i in range(n):\n",
    "            if b[i] == 1:\n",
    "                print(a[i], end='')\n",
    "        print()\n",
    "    else:\n",
    "        b[k]=0\n",
    "        f(k+1, n)\n",
    "        b[k]=1\n",
    "        f(k+1, n)\n",
    "\n",
    "a = [1, 2, 3]\n",
    "b = [0, 0, 0]\n",
    "f(0, 3)"
   ]
  },
  {
   "cell_type": "markdown",
   "id": "ffe00ecb",
   "metadata": {},
   "source": [
    "### 부분집합 원소의 합"
   ]
  },
  {
   "cell_type": "code",
   "execution_count": null,
   "id": "87e6d2d0",
   "metadata": {},
   "outputs": [],
   "source": []
  }
 ],
 "metadata": {
  "kernelspec": {
   "display_name": "Python 3 (ipykernel)",
   "language": "python",
   "name": "python3"
  },
  "language_info": {
   "codemirror_mode": {
    "name": "ipython",
    "version": 3
   },
   "file_extension": ".py",
   "mimetype": "text/x-python",
   "name": "python",
   "nbconvert_exporter": "python",
   "pygments_lexer": "ipython3",
   "version": "3.8.7"
  }
 },
 "nbformat": 4,
 "nbformat_minor": 5
}

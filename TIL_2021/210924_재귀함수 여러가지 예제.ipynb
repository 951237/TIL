{
 "cells": [
  {
   "cell_type": "markdown",
   "id": "631b64fe",
   "metadata": {},
   "source": [
    "## 재귀함수\n",
    "- 추천 1\n",
    "    - https://han-py.tistory.com/224?category=909310\n",
    "- 추천 2\n",
    "    - https://wayhome25.github.io/cs/2017/04/15/cs-16-1-recursion/"
   ]
  },
  {
   "cell_type": "markdown",
   "id": "b1e8fda9",
   "metadata": {},
   "source": [
    "### 재귀로 집합 A의 부분집합 만들기"
   ]
  },
  {
   "cell_type": "code",
   "execution_count": 9,
   "id": "a72cb954",
   "metadata": {},
   "outputs": [
    {
     "name": "stdout",
     "output_type": "stream",
     "text": [
      "\n",
      "3\n",
      "2\n",
      "23\n",
      "1\n",
      "13\n",
      "12\n",
      "123\n"
     ]
    }
   ],
   "source": [
    "def f(k, n):  # k는 호출단계 , n은 최종단계\n",
    "    if n==k: # b배열을 벗어나면\n",
    "        for i in range(n):\n",
    "            if b[i] == 1:\n",
    "                print(a[i], end='')\n",
    "        print()\n",
    "    else:\n",
    "        b[k]=0\n",
    "        f(k+1, n)\n",
    "        b[k]=1\n",
    "        f(k+1, n)\n",
    "\n",
    "a = [1, 2, 3]\n",
    "b = [0, 0, 0]\n",
    "f(0, 3)"
   ]
  },
  {
   "cell_type": "markdown",
   "id": "ffe00ecb",
   "metadata": {},
   "source": [
    "### 부분집합 원소의 합\n",
    "- 이해 안됨 ㅠㅠ"
   ]
  },
  {
   "cell_type": "code",
   "execution_count": 29,
   "id": "87e6d2d0",
   "metadata": {},
   "outputs": [
    {
     "name": "stdout",
     "output_type": "stream",
     "text": [
      "30\n"
     ]
    }
   ],
   "source": [
    "def f(k, n, s):\n",
    "    global maxV\n",
    "    if n==k:\n",
    "        if maxV < s:\n",
    "            maxV = s\n",
    "    else:\n",
    "        f(k+1, n, s+A[k])\n",
    "        f(k+1, n, s)\n",
    "\n",
    "maxV = 0\n",
    "f(0, 5, 0)\n",
    "A = [1, 14, 3, 2, 10]\n",
    "\n",
    "print(maxV)"
   ]
  },
  {
   "cell_type": "markdown",
   "id": "0d903dda",
   "metadata": {},
   "source": [
    "### 부분집합 원소의 합이 M인경우 구하기\n",
    "- 이해 안됨\n",
    "- k: 0부터 카운터를 위한 변수\n",
    "- n : A 집합의 개수\n",
    "- s : 부분집합의 합\n",
    "- M : 타깃값 (부분집합의 원소의 합으로 임의 값)"
   ]
  },
  {
   "cell_type": "code",
   "execution_count": 32,
   "id": "4b019dc9",
   "metadata": {},
   "outputs": [
    {
     "name": "stdout",
     "output_type": "stream",
     "text": [
      "3\n"
     ]
    }
   ],
   "source": [
    "def f(k, n, s, M):\n",
    "    global cnt\n",
    "    if s == M:\n",
    "        cnt += 1\n",
    "        return\n",
    "    elif n==k:\n",
    "        return\n",
    "    else:\n",
    "        f(k+1, n, s+A[k], M)  # k값을 1씩 올리면서 재귀함수 부르기\n",
    "        f(k+1, n, s, M)  # 이해안됨. 왜 이코드를 넣었을까?\n",
    "        \n",
    "A= [1, 2, 3, 4, 5, 6, 7, 8, 9, 10]\n",
    "cnt = 0\n",
    "f(0, 10, 0, 50)  # 초기값 0, 원소의 개수 10, 부분집합의 합 초기값 0, 목표값 0\n",
    "print(cnt)"
   ]
  },
  {
   "cell_type": "markdown",
   "id": "bf21cb23",
   "metadata": {},
   "source": [
    "### 순차탐색"
   ]
  },
  {
   "cell_type": "code",
   "execution_count": 40,
   "id": "a0d055b9",
   "metadata": {},
   "outputs": [
    {
     "data": {
      "text/plain": [
       "4"
      ]
     },
     "execution_count": 40,
     "metadata": {},
     "output_type": "execute_result"
    }
   ],
   "source": [
    "def search(li, begin, end, target):\n",
    "    if begin > end:\n",
    "        return -1  # return -1 ?\n",
    "    elif target == li[begin]:  # 5\n",
    "        return begin + 1\n",
    "    else:\n",
    "        return search(li, begin+1, end, target)\n",
    "\n",
    "li = [1, 6, 10, 7, 2, 5]\n",
    "target = 7\n",
    "search(li, 0, 5, target)"
   ]
  },
  {
   "cell_type": "markdown",
   "id": "fc7f2c19",
   "metadata": {},
   "source": [
    "### 2진수 변환"
   ]
  },
  {
   "cell_type": "code",
   "execution_count": 41,
   "id": "c3129b68",
   "metadata": {},
   "outputs": [
    {
     "name": "stdout",
     "output_type": "stream",
     "text": [
      "1111"
     ]
    }
   ],
   "source": [
    "def print_binary(n):\n",
    "    if n<2:\n",
    "        print(n, end='')\n",
    "    else:\n",
    "        print_binary(n // 2)\n",
    "        print(n%2, end='')\n",
    "        \n",
    "print_binary(15)"
   ]
  },
  {
   "cell_type": "markdown",
   "id": "3b2ae669",
   "metadata": {},
   "source": [
    "### 배열의 합\n",
    "- 이해 안됨"
   ]
  },
  {
   "cell_type": "code",
   "execution_count": 49,
   "id": "5849b91d",
   "metadata": {},
   "outputs": [
    {
     "data": {
      "text/plain": [
       "0"
      ]
     },
     "execution_count": 49,
     "metadata": {},
     "output_type": "execute_result"
    }
   ],
   "source": [
    "def sum(n, li): #n은 리스트 갯수, li는 리스트\n",
    "    if n <=0 or n>= len(li):  # n이 0보다 같거나 작ㅇ거나 n이 리스트의 갯수보다 같거나 많을 때\n",
    "        return 0\n",
    "    return li[n-1] + sum(n-1, li)\n",
    "\n",
    "a = [1, 2, 3, 4, 5]\n",
    "sum(5, a)"
   ]
  },
  {
   "cell_type": "markdown",
   "id": "6e585c51",
   "metadata": {},
   "source": [
    "### "
   ]
  },
  {
   "cell_type": "markdown",
   "id": "6cdb27c5",
   "metadata": {},
   "source": [
    "### 0~n 까지의 합계 구하기"
   ]
  },
  {
   "cell_type": "code",
   "execution_count": 53,
   "id": "860b6a1e",
   "metadata": {},
   "outputs": [
    {
     "data": {
      "text/plain": [
       "210"
      ]
     },
     "execution_count": 53,
     "metadata": {},
     "output_type": "execute_result"
    }
   ],
   "source": [
    "def sum(n):\n",
    "    if n == 0:\n",
    "        return 0\n",
    "    return n+ sum(n-1)\n",
    "\n",
    "sum(20)"
   ]
  },
  {
   "cell_type": "markdown",
   "id": "5654ae50",
   "metadata": {},
   "source": [
    "### 1~n까지의 곱 구하기"
   ]
  },
  {
   "cell_type": "code",
   "execution_count": 54,
   "id": "74663e4c",
   "metadata": {},
   "outputs": [
    {
     "data": {
      "text/plain": [
       "24"
      ]
     },
     "execution_count": 54,
     "metadata": {},
     "output_type": "execute_result"
    }
   ],
   "source": [
    "def factorial(n):\n",
    "    if n == 0:\n",
    "        return 1\n",
    "    return n * factorial(n-1)\n",
    "\n",
    "factorial(4)"
   ]
  },
  {
   "cell_type": "markdown",
   "id": "d68e4bee",
   "metadata": {},
   "source": [
    "### X^n구현"
   ]
  },
  {
   "cell_type": "code",
   "execution_count": 55,
   "id": "80069e83",
   "metadata": {},
   "outputs": [
    {
     "data": {
      "text/plain": [
       "1024"
      ]
     },
     "execution_count": 55,
     "metadata": {},
     "output_type": "execute_result"
    }
   ],
   "source": [
    "def power(x, n):\n",
    "    if n == 0:\n",
    "        return 1\n",
    "    return x * power(x, n-1)\n",
    "\n",
    "power(2, 10)"
   ]
  },
  {
   "cell_type": "markdown",
   "id": "2905df4c",
   "metadata": {},
   "source": [
    "### 피보나치 수열"
   ]
  },
  {
   "cell_type": "code",
   "execution_count": 56,
   "id": "c18d472e",
   "metadata": {},
   "outputs": [
    {
     "data": {
      "text/plain": [
       "8"
      ]
     },
     "execution_count": 56,
     "metadata": {},
     "output_type": "execute_result"
    }
   ],
   "source": [
    "# 피보나치 수열의 index n의 값을 리턴\n",
    "# 피보나치 수열 : 1, 1, 2, 3, 5, 8, 13, 21, 34 ...\n",
    "\n",
    "def fibo(n):\n",
    "    if n == 0 or n ==1:\n",
    "        return 1\n",
    "    return fibo(n-2) + fibo(n-1)\n",
    "\n",
    "fibo(5)"
   ]
  },
  {
   "cell_type": "code",
   "execution_count": 59,
   "id": "30b4da01",
   "metadata": {},
   "outputs": [
    {
     "name": "stdout",
     "output_type": "stream",
     "text": [
      "1 1 2 3 5 8 13 21 34 55 89 144 233 377 610 "
     ]
    }
   ],
   "source": [
    "# index n 까지의 피보나치 수열 구하기\n",
    "def fibo_list(n):\n",
    "    for i in range(n):\n",
    "        print(fibo(i), end = \" \")\n",
    "        \n",
    "fibo_list(15)"
   ]
  },
  {
   "cell_type": "markdown",
   "id": "f01698b1",
   "metadata": {},
   "source": [
    "###  최대공약수 - 유클리드 호제법\n",
    "- 두수의 곱을 최대공약수로 나누면 최소공배수가 된다. "
   ]
  },
  {
   "cell_type": "code",
   "execution_count": 60,
   "id": "c71abf29",
   "metadata": {},
   "outputs": [
    {
     "name": "stdout",
     "output_type": "stream",
     "text": [
      "12\n"
     ]
    }
   ],
   "source": [
    "def gcd(m, n):\n",
    "    if m < n:\n",
    "        m, n = n, m\n",
    "    if m % n == 0:  # 탈출 조건 m을 n으로 나눠서 나머지가 0일 경우\n",
    "        return n\n",
    "    else:\n",
    "        return gcd(n, m%n)\n",
    "\n",
    "print(gcd(48, 60))\n",
    "    "
   ]
  },
  {
   "cell_type": "code",
   "execution_count": null,
   "id": "57570d3a",
   "metadata": {},
   "outputs": [],
   "source": []
  }
 ],
 "metadata": {
  "kernelspec": {
   "display_name": "Python 3 (ipykernel)",
   "language": "python",
   "name": "python3"
  },
  "language_info": {
   "codemirror_mode": {
    "name": "ipython",
    "version": 3
   },
   "file_extension": ".py",
   "mimetype": "text/x-python",
   "name": "python",
   "nbconvert_exporter": "python",
   "pygments_lexer": "ipython3",
   "version": "3.8.7"
  }
 },
 "nbformat": 4,
 "nbformat_minor": 5
}

{
 "cells": [
  {
   "cell_type": "markdown",
   "id": "631b64fe",
   "metadata": {},
   "source": [
    "## 재귀함수\n",
    "- 추천 1\n",
    "    - https://han-py.tistory.com/224?category=909310\n",
    "- 추천 2\n",
    "    - https://wayhome25.github.io/cs/2017/04/15/cs-16-1-recursion/"
   ]
  },
  {
   "cell_type": "markdown",
   "id": "b1e8fda9",
   "metadata": {},
   "source": [
    "### 재귀로 집합 A의 부분집합 만들기"
   ]
  },
  {
   "cell_type": "code",
   "execution_count": 9,
   "id": "a72cb954",
   "metadata": {},
   "outputs": [
    {
     "name": "stdout",
     "output_type": "stream",
     "text": [
      "\n",
      "3\n",
      "2\n",
      "23\n",
      "1\n",
      "13\n",
      "12\n",
      "123\n"
     ]
    }
   ],
   "source": [
    "def f(k, n):  # k는 호출단계 , n은 최종단계\n",
    "    if n==k: # b배열을 벗어나면\n",
    "        for i in range(n):\n",
    "            if b[i] == 1:\n",
    "                print(a[i], end='')\n",
    "        print()\n",
    "    else:\n",
    "        b[k]=0\n",
    "        f(k+1, n)\n",
    "        b[k]=1\n",
    "        f(k+1, n)\n",
    "\n",
    "a = [1, 2, 3]\n",
    "b = [0, 0, 0]\n",
    "f(0, 3)"
   ]
  },
  {
   "cell_type": "markdown",
   "id": "ffe00ecb",
   "metadata": {},
   "source": [
    "### 부분집합 원소의 합\n",
    "- 이해 안됨 ㅠㅠ"
   ]
  },
  {
   "cell_type": "code",
   "execution_count": 29,
   "id": "87e6d2d0",
   "metadata": {},
   "outputs": [
    {
     "name": "stdout",
     "output_type": "stream",
     "text": [
      "30\n"
     ]
    }
   ],
   "source": [
    "def f(k, n, s):\n",
    "    global maxV\n",
    "    if n==k:\n",
    "        if maxV < s:\n",
    "            maxV = s\n",
    "    else:\n",
    "        f(k+1, n, s+A[k])\n",
    "        f(k+1, n, s)\n",
    "\n",
    "maxV = 0\n",
    "f(0, 5, 0)\n",
    "A = [1, 14, 3, 2, 10]\n",
    "\n",
    "print(maxV)"
   ]
  },
  {
   "cell_type": "markdown",
   "id": "0d903dda",
   "metadata": {},
   "source": [
    "### 부분집합 원소의 합이 M인경우 구하기\n",
    "- 이해 안됨\n",
    "- k: 0부터 카운터를 위한 변수\n",
    "- n : A 집합의 개수\n",
    "- s : 부분집합의 합\n",
    "- M : 타깃값 (부분집합의 원소의 합으로 임의 값)"
   ]
  },
  {
   "cell_type": "code",
   "execution_count": 32,
   "id": "4b019dc9",
   "metadata": {},
   "outputs": [
    {
     "name": "stdout",
     "output_type": "stream",
     "text": [
      "3\n"
     ]
    }
   ],
   "source": [
    "def f(k, n, s, M):\n",
    "    global cnt\n",
    "    if s == M:\n",
    "        cnt += 1\n",
    "        return\n",
    "    elif n==k:\n",
    "        return\n",
    "    else:\n",
    "        f(k+1, n, s+A[k], M)  # k값을 1씩 올리면서 재귀함수 부르기\n",
    "        f(k+1, n, s, M)  # 이해안됨. 왜 이코드를 넣었을까?\n",
    "        \n",
    "A= [1, 2, 3, 4, 5, 6, 7, 8, 9, 10]\n",
    "cnt = 0\n",
    "f(0, 10, 0, 50)  # 초기값 0, 원소의 개수 10, 부분집합의 합 초기값 0, 목표값 0\n",
    "print(cnt)"
   ]
  },
  {
   "cell_type": "markdown",
   "id": "bf21cb23",
   "metadata": {},
   "source": [
    "### 순차탐색"
   ]
  },
  {
   "cell_type": "code",
   "execution_count": 40,
   "id": "a0d055b9",
   "metadata": {},
   "outputs": [
    {
     "data": {
      "text/plain": [
       "4"
      ]
     },
     "execution_count": 40,
     "metadata": {},
     "output_type": "execute_result"
    }
   ],
   "source": [
    "def search(li, begin, end, target):\n",
    "    if begin > end:\n",
    "        return -1  # return -1 ?\n",
    "    elif target == li[begin]:  # 5\n",
    "        return begin + 1\n",
    "    else:\n",
    "        return search(li, begin+1, end, target)\n",
    "\n",
    "li = [1, 6, 10, 7, 2, 5]\n",
    "target = 7\n",
    "search(li, 0, 5, target)"
   ]
  },
  {
   "cell_type": "markdown",
   "id": "fc7f2c19",
   "metadata": {},
   "source": [
    "### 2진수 변환"
   ]
  },
  {
   "cell_type": "code",
   "execution_count": 41,
   "id": "c3129b68",
   "metadata": {},
   "outputs": [
    {
     "name": "stdout",
     "output_type": "stream",
     "text": [
      "1111"
     ]
    }
   ],
   "source": [
    "def print_binary(n):\n",
    "    if n<2:\n",
    "        print(n, end='')\n",
    "    else:\n",
    "        print_binary(n // 2)\n",
    "        print(n%2, end='')\n",
    "        \n",
    "print_binary(15)"
   ]
  },
  {
   "cell_type": "code",
   "execution_count": null,
   "id": "4b446322",
   "metadata": {},
   "outputs": [],
   "source": []
  }
 ],
 "metadata": {
  "kernelspec": {
   "display_name": "Python 3 (ipykernel)",
   "language": "python",
   "name": "python3"
  },
  "language_info": {
   "codemirror_mode": {
    "name": "ipython",
    "version": 3
   },
   "file_extension": ".py",
   "mimetype": "text/x-python",
   "name": "python",
   "nbconvert_exporter": "python",
   "pygments_lexer": "ipython3",
   "version": "3.8.7"
  }
 },
 "nbformat": 4,
 "nbformat_minor": 5
}

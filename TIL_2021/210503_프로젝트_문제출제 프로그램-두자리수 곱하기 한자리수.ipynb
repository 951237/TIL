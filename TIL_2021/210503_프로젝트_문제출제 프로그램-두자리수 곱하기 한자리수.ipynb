{
 "cells": [
  {
   "cell_type": "markdown",
   "id": "searching-porcelain",
   "metadata": {},
   "source": [
    "# 무작위 수학문제 만들기\n",
    "### 프로그램 할일\n",
    "- 30개의 서로다른 문제지 만들기\n",
    "- 30개의 텍스트 파일로 문제지를 저장한다\n",
    "- 30 개의 텍스트 파일에 대한 정답을 저장한다\n",
    "\n",
    "### 코드가 하는 일\n",
    "- 세 자리수 * 한 자리 문제 출제하기\n",
    "- 세 자리수 * 한 자리 문제 출제하기\n",
    "- 세자리 수 * 두 자리 문제 출제하기"
   ]
  },
  {
   "cell_type": "code",
   "execution_count": 9,
   "id": "behavioral-bulgaria",
   "metadata": {},
   "outputs": [],
   "source": [
    "# 두자리수 * 한자리 문제 출제 폼 바꾸기\n",
    "import random\n",
    "test_num = 14\n",
    "lst_up = list([random.randint(10, 99) for i in range(test_num)])\n",
    "lst_dn = list([random.randint(2, 9) for i in range(test_num)])\n",
    "lst_div = list(['-----' for i in range(test_num)])\n",
    "lst_asw = list(lst_up[i] * lst_dn[i] for i in range(len(lst_up)))\n",
    "\n",
    "# todo : 문제지 파일 작성하기\n",
    "quiz_file = open('두자리수_한자리수 곱셈_문제지.txt', 'w')\n",
    "\n",
    "# 문제지 헤더 작성하기\n",
    "quiz_file.write('__학년 ___반 이름 : _________\\n\\n날짜 : __월 __일 ___요일\\n\\n')\n",
    "quiz_file.write((' ' * 10) + '두 자리수 곱하기 한자리수 문제풀이\\n')\n",
    "quiz_file.write('\\n\\n')\n",
    "\n",
    "for i in range(0,len(lst_up),2):\n",
    "    str_count_format = '%10s.%28s.\\n'\n",
    "    str_up_format = '%15s%30s\\n'\n",
    "    str_dn_format = '%10s%5s%27s  %s\\n'\n",
    "    str_div_format = '%15s%30s\\n'\n",
    "    quiz_file.write(str_count_format % (i+1, i+2))\n",
    "    quiz_file.write(str_up_format % (lst_up[i], lst_up[i+1]))\n",
    "    quiz_file.write(str_dn_format % ('X',lst_dn[i],'X',lst_dn[i+1]))\n",
    "    quiz_file.write(str_div_format % (lst_div[i], lst_div[i+1]))\n",
    "    quiz_file.write('\\n\\n\\n')\n",
    "\n",
    "quiz_file.write('\\n' * 2)\n",
    "for c, i in enumerate(lst_asw):\n",
    "    quiz_file.write(f'{c+1}번. {i}\\t')\n",
    "    \n",
    "quiz_file.close()"
   ]
  },
  {
   "cell_type": "code",
   "execution_count": null,
   "id": "center-shopper",
   "metadata": {},
   "outputs": [],
   "source": []
  },
  {
   "cell_type": "code",
   "execution_count": 88,
   "id": "sunset-million",
   "metadata": {},
   "outputs": [],
   "source": [
    "# 두자리수 * 한자리 문제 출제 폼 바꾸기\n",
    "import random\n",
    "test_num = 15\n",
    "lst_up = list([random.randint(10, 99) for i in range(test_num)])\n",
    "lst_dn = list([random.randint(2, 9) for i in range(test_num)])\n",
    "lst_div = list(['-----' for i in range(test_num)])\n",
    "lst_asw = list(lst_up[i] * lst_dn[i] for i in range(len(lst_up)))\n",
    "\n",
    "# todo : 문제지 파일 작성하기\n",
    "quiz_file = open('두자리수_한자리수 곱셈_문제지.txt', 'w')\n",
    "\n",
    "# 문제지 헤더 작성하기\n",
    "quiz_file.write((' ' * 10) + '두 자리수 X 한자리 수 문제풀이 \\n\\n')\n",
    "quiz_file.write('+ __학년 ___반 이름 : _________\\n\\n+ 날짜 : __월 __일 ___요일\\n\\n')\n",
    "\n",
    "quiz_file.write('\\n\\n')\n",
    "\n",
    "for i in range(0,len(lst_up),3):  # 총 문제에서 3문제씩 \n",
    "    str_count_format = '%s.%20s.%20s.\\n' # 문제번호 위치 \n",
    "    str_up_format = '%5s%22s%21s\\n'  # 곱하기 위의 숫자 위치\n",
    "    str_dn_format = '%s%4s%18s%4s%17s%4s\\n'  # 곱하기와 아래 숫자 위치\n",
    "    str_div_format = '%s%22s%21s\\n'  # 구분자 위치\n",
    "    quiz_file.write(str_count_format % (i+1, i+2, i+3))\n",
    "    quiz_file.write(str_up_format % (lst_up[i], lst_up[i+1], lst_up[i+2]))\n",
    "    quiz_file.write(str_dn_format % ('X',lst_dn[i],'X',lst_dn[i+1],'X',lst_dn[i+2]))\n",
    "    quiz_file.write(str_div_format % (lst_div[i], lst_div[i+1], lst_div[i+2]))\n",
    "    quiz_file.write('\\n\\n\\n')\n",
    "\n",
    "quiz_file.write('\\n' * 2)\n",
    "quiz_file.write('-' * 30 + ' 정 답 ' + '-' * 30 + '\\n')\n",
    "for c, i in enumerate(lst_asw):\n",
    "    quiz_file.write(f'{c+1}번. {i}  ')\n",
    "    \n",
    "quiz_file.close()"
   ]
  },
  {
   "cell_type": "code",
   "execution_count": null,
   "id": "vertical-trailer",
   "metadata": {},
   "outputs": [],
   "source": []
  }
 ],
 "metadata": {
  "kernelspec": {
   "display_name": "Python 3",
   "language": "python",
   "name": "python3"
  },
  "language_info": {
   "codemirror_mode": {
    "name": "ipython",
    "version": 3
   },
   "file_extension": ".py",
   "mimetype": "text/x-python",
   "name": "python",
   "nbconvert_exporter": "python",
   "pygments_lexer": "ipython3",
   "version": "3.8.7"
  }
 },
 "nbformat": 4,
 "nbformat_minor": 5
}

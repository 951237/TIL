{
 "cells": [
  {
   "cell_type": "markdown",
   "id": "crude-cookbook",
   "metadata": {},
   "source": [
    "# 무작위 수학문제 만들기\n",
    "### 프로그램 할일\n",
    "- 30개의 서로다른 문제지 만들기\n",
    "- 30개의 텍스트 파일로 문제지를 저장한다\n",
    "- 30 개의 텍스트 파일에 대한 정답을 저장한다\n",
    "\n",
    "### 코드가 하는 일\n",
    "- 세 자리수 * 한 자리 문제 출제하기\n",
    "- 세 자리수 * 한 자리 문제 출제하기\n",
    "- 세자리 수 * 두 자리 문제 출제하기"
   ]
  },
  {
   "cell_type": "code",
   "execution_count": null,
   "id": "military-lyric",
   "metadata": {},
   "outputs": [],
   "source": [
    "# 두자리수 * 한 자리 문제 출제하기\n",
    "import random\n",
    "from datetime import datetime\n",
    "\n",
    "lst_qst = []\n",
    "lst_asw = []\n",
    "\n",
    "# 10문제 생성\n",
    "for i in range(15):\n",
    "    x = random.randint(10, 99)\n",
    "    y = random.randint(2, 9)\n",
    "    p = x * y\n",
    "    lst_qst.append(f'{i+1}번. {x} * {y} = _____')\n",
    "    lst_asw.append(f'{i+1}번. {p}')\n",
    "\n",
    "# todo : 문제지 파일 작성하기\n",
    "quiz_file = open('두자리수_한자리수 곱셈_문제지.txt', 'w')\n",
    "answer_file = open('두자리수_한자리수 곱셈_답안지.txt', 'w')\n",
    "\n",
    "# 문제지 헤더 작성하기\n",
    "quiz_file.write('__학년 ___반 이름 : _________\\n\\n날짜 : __월 __일 ___요일\\n\\n')\n",
    "quiz_file.write((' ' * 20) + '두 자리수 곱하기 한자리수 문제풀이')\n",
    "quiz_file.write('\\n\\n')\n",
    "\n",
    "for i in lst_qst:\n",
    "    quiz_file.write(f'{i}\\n\\n')\n",
    "\n",
    "for i in lst_asw:\n",
    "    answer_file.write(f'{i}\\n\\n')\n",
    "quiz_file.close()\n",
    "answer_file.close()"
   ]
  },
  {
   "cell_type": "code",
   "execution_count": null,
   "id": "explicit-vegetation",
   "metadata": {},
   "outputs": [],
   "source": [
    "# 문제 출제 폼 바꾸기\n",
    "import random\n",
    "lst_up = list([random.randint(10, 99) for i in range(10)])\n",
    "lst_dn = list([random.randint(2, 9) for i in range(10)])\n",
    "lst_div = list(['-----' for i in range(10)])\n",
    "lst_asw = list(lst_up[i] * lst_dn[i] for i in range(len(lst_up)))\n",
    "\n",
    "for i in range(0,len(lst_up),2):\n",
    "    str_up_format = '%5s%20s'\n",
    "    str_dn_format = 'X  %2s%17s  %s'\n",
    "    str_div_format = '%-10s%15s'\n",
    "    print(str_up_format % (lst_up[i], lst_up[i+1]))\n",
    "    print(str_dn_format % (lst_dn[i],'X',lst_dn[i+1]))\n",
    "    print(str_div_format % (lst_div[i], lst_div[i+1]))\n",
    "    print('\\n\\n\\n')"
   ]
  },
  {
   "cell_type": "code",
   "execution_count": 24,
   "id": "frequent-boards",
   "metadata": {},
   "outputs": [],
   "source": [
    "# 두자리수 * 두 자리 문제 출제하기\n",
    "import random\n",
    "from datetime import datetime\n",
    "\n",
    "lst_qst = []\n",
    "lst_asw = []\n",
    "\n",
    "# 10문제 생성\n",
    "for i in range(15):\n",
    "    x = random.randint(10, 99)\n",
    "    y = random.randint(10, 99)\n",
    "    p = x * y\n",
    "    lst_qst.append(f'{i+1}번. {x} * {y} = _____')\n",
    "    lst_asw.append(f'{i+1}번. {p}')\n",
    "\n",
    "# todo : 문제지 파일 작성하기\n",
    "quiz_file = open('두자리수_두자리수 곱셈_문제지.txt', 'w')\n",
    "answer_file = open('두자리수_두자리수 곱셈_답안지.txt', 'w')\n",
    "\n",
    "# 문제지 헤더 작성하기\n",
    "quiz_file.write('__학년 ___반 이름 : _________\\n\\n날짜 : __월 __일 ___요일\\n\\n')\n",
    "quiz_file.write((' ' * 20) + '두 자리수 곱하기 두 자리수 문제풀이')\n",
    "quiz_file.write('\\n\\n')\n",
    "\n",
    "for i in lst_qst:\n",
    "    quiz_file.write(f'{i}\\n\\n')\n",
    "\n",
    "for i in lst_asw:\n",
    "    answer_file.write(f'{i}\\n\\n')\n",
    "quiz_file.close()\n",
    "answer_file.close()"
   ]
  },
  {
   "cell_type": "code",
   "execution_count": null,
   "id": "confused-hearts",
   "metadata": {},
   "outputs": [],
   "source": []
  }
 ],
 "metadata": {
  "kernelspec": {
   "display_name": "Python 3",
   "language": "python",
   "name": "python3"
  },
  "language_info": {
   "codemirror_mode": {
    "name": "ipython",
    "version": 3
   },
   "file_extension": ".py",
   "mimetype": "text/x-python",
   "name": "python",
   "nbconvert_exporter": "python",
   "pygments_lexer": "ipython3",
   "version": "3.8.7"
  }
 },
 "nbformat": 4,
 "nbformat_minor": 5
}

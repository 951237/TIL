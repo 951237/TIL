{
  "nbformat": 4,
  "nbformat_minor": 0,
  "metadata": {
    "colab": {
      "name": "TIL 크롤링_네이버 블로그 검색결과 파일로 저장하기_191130.ipynb",
      "provenance": [],
      "collapsed_sections": [
        "JQpGoQaSJ4Y5",
        "DKE0XzdfKEYX",
        "cXBkebDnJShL",
        "_dNUAcQUQ30p"
      ],
      "toc_visible": true,
      "include_colab_link": true
    },
    "kernelspec": {
      "name": "python3",
      "display_name": "Python 3"
    }
  },
  "cells": [
    {
      "cell_type": "markdown",
      "metadata": {
        "id": "view-in-github",
        "colab_type": "text"
      },
      "source": [
        "<a href=\"https://colab.research.google.com/github/951237/TIL/blob/master/TIL_%ED%81%AC%EB%A1%A4%EB%A7%81_%EB%84%A4%EC%9D%B4%EB%B2%84_%EB%B8%94%EB%A1%9C%EA%B7%B8_%EA%B2%80%EC%83%89%EA%B2%B0%EA%B3%BC_%ED%8C%8C%EC%9D%BC%EB%A1%9C_%EC%A0%80%EC%9E%A5%ED%95%98%EA%B8%B0_191130.ipynb\" target=\"_parent\"><img src=\"https://colab.research.google.com/assets/colab-badge.svg\" alt=\"Open In Colab\"/></a>"
      ]
    },
    {
      "cell_type": "markdown",
      "metadata": {
        "id": "ZcTVKQTiJc-m",
        "colab_type": "text"
      },
      "source": [
        "# 파이선으로 크롤링하기 "
      ]
    },
    {
      "cell_type": "markdown",
      "metadata": {
        "id": "wm6Xnj7NJhrJ",
        "colab_type": "text"
      },
      "source": [
        "## 기초작업"
      ]
    },
    {
      "cell_type": "markdown",
      "metadata": {
        "id": "SQhPT6w2Jovo",
        "colab_type": "text"
      },
      "source": [
        "### 라이브러리 불러오기"
      ]
    },
    {
      "cell_type": "code",
      "metadata": {
        "id": "XixvdNLQ1XbZ",
        "colab_type": "code",
        "colab": {}
      },
      "source": [
        "import urllib.request\n",
        "from urllib.parse import quote_plus\n",
        "from bs4 import BeautifulSoup\n",
        "import pandas as pd\n",
        "from google.colab import files"
      ],
      "execution_count": 0,
      "outputs": []
    },
    {
      "cell_type": "markdown",
      "metadata": {
        "colab_type": "text",
        "id": "JQpGoQaSJ4Y5"
      },
      "source": [
        "## 과제수행하기"
      ]
    },
    {
      "cell_type": "markdown",
      "metadata": {
        "colab_type": "text",
        "id": "DKE0XzdfKEYX"
      },
      "source": [
        "### 191130_네이버 블로그 검색결과 크롤링 - 1차 : 순차 #191130 \n",
        "- url 설정하기\n",
        "- html 불러오기 및 파싱\n",
        "- 원하는 부분 추출하기"
      ]
    },
    {
      "cell_type": "markdown",
      "metadata": {
        "id": "OFUcjHTsJ_lw",
        "colab_type": "text"
      },
      "source": [
        "#### URL 설정하기"
      ]
    },
    {
      "cell_type": "code",
      "metadata": {
        "id": "OJ0kEWvL1kPs",
        "colab_type": "code",
        "colab": {}
      },
      "source": [
        "url = 'https://search.naver.com/search.naver?where=post&sm=tab_jum&query=%ED%8C%8C%EC%9D%B4%EC%8D%AC'"
      ],
      "execution_count": 0,
      "outputs": []
    },
    {
      "cell_type": "markdown",
      "metadata": {
        "id": "NMntFEzOKIKZ",
        "colab_type": "text"
      },
      "source": [
        "#### HTML 불러오기 및 파싱하기"
      ]
    },
    {
      "cell_type": "code",
      "metadata": {
        "id": "0u_myNPa1vid",
        "colab_type": "code",
        "colab": {}
      },
      "source": [
        "html = urllib.request.urlopen(url).read()\n",
        "soup = BeautifulSoup(html, 'html.parser')"
      ],
      "execution_count": 0,
      "outputs": []
    },
    {
      "cell_type": "markdown",
      "metadata": {
        "id": "CeIur8naKPpP",
        "colab_type": "text"
      },
      "source": [
        "#### 검색 결과 클래스 찾기"
      ]
    },
    {
      "cell_type": "code",
      "metadata": {
        "id": "KtGhxsLR2KE3",
        "colab_type": "code",
        "colab": {}
      },
      "source": [
        "titles = soup.find_all(class_= 'sh_blog_title _sp_each_url _sp_each_title')"
      ],
      "execution_count": 0,
      "outputs": []
    },
    {
      "cell_type": "markdown",
      "metadata": {
        "id": "QlAQD37SKnH1",
        "colab_type": "text"
      },
      "source": [
        "#### 반복문으로 타이틀과 링크 추출"
      ]
    },
    {
      "cell_type": "code",
      "metadata": {
        "id": "00CrWop32eWY",
        "colab_type": "code",
        "outputId": "37f54145-c992-4be6-f36d-50f1a2925563",
        "colab": {
          "base_uri": "https://localhost:8080/",
          "height": 533
        }
      },
      "source": [
        "for title in titles:\n",
        "    print(title.attrs['title'])\n",
        "    print(title.attrs['href'])\n",
        "    print()"
      ],
      "execution_count": 5,
      "outputs": [
        {
          "output_type": "stream",
          "text": [
            "파이썬학원 답은 하나다!\n",
            "https://blog.naver.com/nr_yeon?Redirect=Log&logNo=221707634731\n",
            "\n",
            "파이썬 : Pygame으로 Ping Pong 게임 만들기 따라하기\n",
            "https://cosmosjs.blog.me/221719238699\n",
            "\n",
            "한권으로 끝내는 파이썬 - 독학으로 Python 프로그램 코딩 공부하기\n",
            "https://blog.naver.com/since201109?Redirect=Log&logNo=221553965961\n",
            "\n",
            "파이썬 프로그래밍 - 개발 범위\n",
            "https://blog.naver.com/urmyver?Redirect=Log&logNo=221670828962\n",
            "\n",
            "파이썬학원 기초 문법부터 심화까지 1달완성 교육기관!\n",
            "https://blog.naver.com/ridesafe?Redirect=Log&logNo=221643768938\n",
            "\n",
            "[python]파이썬/GUI/tkinter/앱/계산기(1단계)\n",
            "https://blog.naver.com/scyan2011?Redirect=Log&logNo=221721102297\n",
            "\n",
            "파이썬 독학, 혼자 공부하면 어디까지 가능할까?\n",
            "https://blog.naver.com/designer_dh?Redirect=Log&logNo=221719131980\n",
            "\n",
            "[Python] 파이썬으로 와슨 AI 이용해보기\n",
            "http://mcchae.egloos.com/11336272\n",
            "\n",
            "코랩(Colab)을 이용하여 파이썬 공부와 머신러닝 공부를 해요!~\n",
            "https://chogar.blog.me/221665985078\n",
            "\n",
            "파이썬 아나콘다 설치하기 - Jupyter (쥬피터) 실행하기\n",
            "https://blog.naver.com/roboholic84?Redirect=Log&logNo=221626686511\n",
            "\n"
          ],
          "name": "stdout"
        }
      ]
    },
    {
      "cell_type": "markdown",
      "metadata": {
        "id": "cXBkebDnJShL",
        "colab_type": "text"
      },
      "source": [
        "### 191130_네이버 블로그 검색결과 크롤링 - 2차 : 입력값 받기"
      ]
    },
    {
      "cell_type": "markdown",
      "metadata": {
        "id": "8DQXI6AmLgC9",
        "colab_type": "text"
      },
      "source": [
        "#### URL 설정하기 : 입력값 받아서 url 완성하기\n",
        "- 베이스 url 설정하기\n",
        "- 한글입력값을 아스키코드로 변화하기"
      ]
    },
    {
      "cell_type": "code",
      "metadata": {
        "id": "AiD7NTZrLljV",
        "colab_type": "code",
        "outputId": "bf2ed8fd-fc69-4cb6-83ac-843163d54539",
        "colab": {
          "base_uri": "https://localhost:8080/",
          "height": 54
        }
      },
      "source": [
        "url = 'https://search.naver.com/search.naver?where=post&sm=tab_jum&query='\n",
        "v_input = urllib.parse.quote_plus(input('주인님, 검색어를 입력하세요 : '))"
      ],
      "execution_count": 6,
      "outputs": [
        {
          "output_type": "stream",
          "text": [
            "주인님, 검색어를 입력하세요 : 감자\n"
          ],
          "name": "stdout"
        }
      ]
    },
    {
      "cell_type": "markdown",
      "metadata": {
        "id": "5Byh_AXMNuds",
        "colab_type": "text"
      },
      "source": [
        "#### html 소스불러오기 및 뷰티플 솦으로 변환"
      ]
    },
    {
      "cell_type": "code",
      "metadata": {
        "id": "g4GYrJ-kL49Q",
        "colab_type": "code",
        "colab": {}
      },
      "source": [
        "html = urllib.request.urlopen('{},{}'.format(url,v_input)).read()\n",
        "soup = BeautifulSoup(html, 'html.parser')"
      ],
      "execution_count": 0,
      "outputs": []
    },
    {
      "cell_type": "markdown",
      "metadata": {
        "id": "Kj8ELMe9N06e",
        "colab_type": "text"
      },
      "source": [
        "#### 원하는 정보 찾기"
      ]
    },
    {
      "cell_type": "code",
      "metadata": {
        "id": "_joG_3-6NdzC",
        "colab_type": "code",
        "colab": {}
      },
      "source": [
        "titles = soup.find_all(class_='sh_blog_title _sp_each_url _sp_each_title')"
      ],
      "execution_count": 0,
      "outputs": []
    },
    {
      "cell_type": "markdown",
      "metadata": {
        "id": "Lxd8-W2TO7mW",
        "colab_type": "text"
      },
      "source": [
        "##### 화면에 출력하기"
      ]
    },
    {
      "cell_type": "code",
      "metadata": {
        "id": "XQlQ2lGZMLe2",
        "colab_type": "code",
        "colab": {
          "base_uri": "https://localhost:8080/",
          "height": 368
        },
        "outputId": "bd172afa-a0e6-4735-9757-1c20473ab3c9"
      },
      "source": [
        "for title in titles:\n",
        "    print(title.attrs['title'])\n",
        "    print(title.attrs['href'])"
      ],
      "execution_count": 9,
      "outputs": [
        {
          "output_type": "stream",
          "text": [
            "건강에 도움되는 자색돼지감자\n",
            "https://blog.naver.com/bluec927?Redirect=Log&logNo=221718816775\n",
            "초기이유식 감자소고기 미음\n",
            "https://tnwls0405.blog.me/221719818393\n",
            "포테이토 피자 만들기 리얼 감자 도우입니다\n",
            "https://leeeuncom.blog.me/221720180979\n",
            "일상다반사) 1130 돼지감자 수확하고 온 날\n",
            "https://airseli.blog.me/221723595944\n",
            "감자샐러드빵 만드는법 사라다빵\n",
            "https://blog.naver.com/cooklhj?Redirect=Log&logNo=221631972148\n",
            "감자샐러드 샌드위치 만드는 법\n",
            "https://peace8012.blog.me/221700137095\n",
            "강원도 속초 명물 감나무집 감자 옹심이\n",
            "https://blog.naver.com/ajung8904?Redirect=Log&logNo=221710060350\n",
            "수제비 감자수제비 쫄깃하게 만드는 법\n",
            "https://blog.naver.com/soso7869?Redirect=Log&logNo=221678516836\n",
            "오랜만에 간식 - 감자샐러드\n",
            "https://blog.naver.com/s_zan?Redirect=Log&logNo=221720311553\n",
            "건강 챙기는 돼지감자 효능\n",
            "https://blog.naver.com/miukitchen?Redirect=Log&logNo=221720933781\n"
          ],
          "name": "stdout"
        }
      ]
    },
    {
      "cell_type": "markdown",
      "metadata": {
        "id": "WCjV1KZKO_iA",
        "colab_type": "text"
      },
      "source": [
        "##### 원하는 정보 딕셔너리로 저장하기"
      ]
    },
    {
      "cell_type": "code",
      "metadata": {
        "id": "8F5M3M7IOF5U",
        "colab_type": "code",
        "colab": {
          "base_uri": "https://localhost:8080/",
          "height": 220
        },
        "outputId": "efda3367-195e-40fe-d8f7-c61d2447b1d2"
      },
      "source": [
        "result = []\n",
        "for title in titles:\n",
        "    lst_temp = {}\n",
        "    name = title.attrs['title']\n",
        "    herf = title.attrs['href']\n",
        "    lst_temp = {'name' : name, 'href' : herf}\n",
        "    print(lst_temp)\n",
        "    result.append(lst_temp)\n",
        "print(result)\n"
      ],
      "execution_count": 10,
      "outputs": [
        {
          "output_type": "stream",
          "text": [
            "{'name': '건강에 도움되는 자색돼지감자', 'href': 'https://blog.naver.com/bluec927?Redirect=Log&logNo=221718816775'}\n",
            "{'name': '초기이유식 감자소고기 미음', 'href': 'https://tnwls0405.blog.me/221719818393'}\n",
            "{'name': '포테이토 피자 만들기 리얼 감자 도우입니다', 'href': 'https://leeeuncom.blog.me/221720180979'}\n",
            "{'name': '일상다반사) 1130 돼지감자 수확하고 온 날', 'href': 'https://airseli.blog.me/221723595944'}\n",
            "{'name': '감자샐러드빵 만드는법 사라다빵', 'href': 'https://blog.naver.com/cooklhj?Redirect=Log&logNo=221631972148'}\n",
            "{'name': '감자샐러드 샌드위치 만드는 법', 'href': 'https://peace8012.blog.me/221700137095'}\n",
            "{'name': '강원도 속초 명물 감나무집 감자 옹심이', 'href': 'https://blog.naver.com/ajung8904?Redirect=Log&logNo=221710060350'}\n",
            "{'name': '수제비 감자수제비 쫄깃하게 만드는 법', 'href': 'https://blog.naver.com/soso7869?Redirect=Log&logNo=221678516836'}\n",
            "{'name': '오랜만에 간식 - 감자샐러드', 'href': 'https://blog.naver.com/s_zan?Redirect=Log&logNo=221720311553'}\n",
            "{'name': '건강 챙기는 돼지감자 효능', 'href': 'https://blog.naver.com/miukitchen?Redirect=Log&logNo=221720933781'}\n",
            "[{'name': '건강에 도움되는 자색돼지감자', 'href': 'https://blog.naver.com/bluec927?Redirect=Log&logNo=221718816775'}, {'name': '초기이유식 감자소고기 미음', 'href': 'https://tnwls0405.blog.me/221719818393'}, {'name': '포테이토 피자 만들기 리얼 감자 도우입니다', 'href': 'https://leeeuncom.blog.me/221720180979'}, {'name': '일상다반사) 1130 돼지감자 수확하고 온 날', 'href': 'https://airseli.blog.me/221723595944'}, {'name': '감자샐러드빵 만드는법 사라다빵', 'href': 'https://blog.naver.com/cooklhj?Redirect=Log&logNo=221631972148'}, {'name': '감자샐러드 샌드위치 만드는 법', 'href': 'https://peace8012.blog.me/221700137095'}, {'name': '강원도 속초 명물 감나무집 감자 옹심이', 'href': 'https://blog.naver.com/ajung8904?Redirect=Log&logNo=221710060350'}, {'name': '수제비 감자수제비 쫄깃하게 만드는 법', 'href': 'https://blog.naver.com/soso7869?Redirect=Log&logNo=221678516836'}, {'name': '오랜만에 간식 - 감자샐러드', 'href': 'https://blog.naver.com/s_zan?Redirect=Log&logNo=221720311553'}, {'name': '건강 챙기는 돼지감자 효능', 'href': 'https://blog.naver.com/miukitchen?Redirect=Log&logNo=221720933781'}]\n"
          ],
          "name": "stdout"
        }
      ]
    },
    {
      "cell_type": "markdown",
      "metadata": {
        "id": "_dNUAcQUQ30p",
        "colab_type": "text"
      },
      "source": [
        "### 191130 네이버 블로그 검색결과 크롤링 - 3차 : 리팩토링"
      ]
    },
    {
      "cell_type": "markdown",
      "metadata": {
        "id": "g8D0Y8bFRxE4",
        "colab_type": "text"
      },
      "source": [
        "#### 라이브러리 불러오기"
      ]
    },
    {
      "cell_type": "code",
      "metadata": {
        "id": "tCDiBZWnRXrq",
        "colab_type": "code",
        "colab": {}
      },
      "source": [
        "import urllib.request\n",
        "from urllib.parse import quote_plus\n",
        "from bs4 import BeautifulSoup"
      ],
      "execution_count": 0,
      "outputs": []
    },
    {
      "cell_type": "markdown",
      "metadata": {
        "id": "YGciFkwdR3Tu",
        "colab_type": "text"
      },
      "source": [
        "#### URL 만들기"
      ]
    },
    {
      "cell_type": "code",
      "metadata": {
        "id": "Ju6BSlpeR1Da",
        "colab_type": "code",
        "colab": {
          "base_uri": "https://localhost:8080/",
          "height": 71
        },
        "outputId": "eac65acf-6ffc-4eef-face-2f7b10d24f3a"
      },
      "source": [
        "baseurl = 'https://search.naver.com/search.naver?where=post&sm=tab_jum&query='\n",
        "v_input = input('주인님, 검색어를 입력하세요 : ')\n",
        "url = '{}{}'.format(baseurl, quote_plus(v_input))\n",
        "print(url)"
      ],
      "execution_count": 12,
      "outputs": [
        {
          "output_type": "stream",
          "text": [
            "주인님, 검색어를 입력하세요 : 파이선\n",
            "https://search.naver.com/search.naver?where=post&sm=tab_jum&query=%ED%8C%8C%EC%9D%B4%EC%84%A0\n"
          ],
          "name": "stdout"
        }
      ]
    },
    {
      "cell_type": "markdown",
      "metadata": {
        "id": "PpQWYE0MSK5t",
        "colab_type": "text"
      },
      "source": [
        "#### 함수만들기"
      ]
    },
    {
      "cell_type": "markdown",
      "metadata": {
        "id": "zijNT8pXSN7p",
        "colab_type": "text"
      },
      "source": [
        "##### html받아서 soup 리턴"
      ]
    },
    {
      "cell_type": "code",
      "metadata": {
        "id": "jQA-lfmoSGYL",
        "colab_type": "code",
        "colab": {}
      },
      "source": [
        "def make_soup(url):\n",
        "    html = urllib.request.urlopen(url).read()\n",
        "    soup = BeautifulSoup(html, 'html.parser')\n",
        "    titles = soup.find_all(class_='sh_blog_title _sp_each_url _sp_each_title')\n",
        "    return titles"
      ],
      "execution_count": 0,
      "outputs": []
    },
    {
      "cell_type": "markdown",
      "metadata": {
        "id": "jr2hLTHFfkfv",
        "colab_type": "text"
      },
      "source": [
        "##### 검색결과 제목과 링크 추출하기"
      ]
    },
    {
      "cell_type": "code",
      "metadata": {
        "id": "KdSt9QdNYeh-",
        "colab_type": "code",
        "colab": {}
      },
      "source": [
        "def get_info(item):\n",
        "    name = item.attrs['title']\n",
        "    href = item.attrs['href']\n",
        "    return {'name' : name, 'href' : href}"
      ],
      "execution_count": 0,
      "outputs": []
    },
    {
      "cell_type": "markdown",
      "metadata": {
        "id": "_FF7b7jIhYjD",
        "colab_type": "text"
      },
      "source": [
        "##### 검색결과 화면 출력하기"
      ]
    },
    {
      "cell_type": "code",
      "metadata": {
        "id": "nlHwcX8lSoOO",
        "colab_type": "code",
        "colab": {
          "base_uri": "https://localhost:8080/",
          "height": 220
        },
        "outputId": "38f51f82-ad17-4953-f115-eb75a0be2362"
      },
      "source": [
        "soup = make_soup(url)\n",
        "result = []\n",
        "for i in soup:\n",
        "    result_search = get_info(i)\n",
        "    print('{}, {}'.format(result_search['name'], result_search['href']))\n",
        "    result.append(result_search)\n",
        "print(result)"
      ],
      "execution_count": 15,
      "outputs": [
        {
          "output_type": "stream",
          "text": [
            "마이크로비트 파이선 강좌(7부) - 라디오 통신 사용하기, https://blog.naver.com/icbanq?Redirect=Log&logNo=221636439875\n",
            "초등코딩교육 모두의 엔트리 with 엔트리파이선, https://jinidag.blog.me/221171649826\n",
            "[엔트리파이선]<2>컴퓨터가 정보를 보여주는 방법, https://blog.naver.com/swedu_et?Redirect=Log&logNo=221389505365\n",
            "엔트리 파이선으로 배우는 수학 02 - 연산자로 숫자 계산하기, https://blog.naver.com/khrireg?Redirect=Log&logNo=221571152670\n",
            "[길벗] 모두의 엔트리 with 엔트리파이선 - 2018 S/W 교육 의무화, https://blog.naver.com/choi2k74?Redirect=Log&logNo=221168178948\n",
            "신간안내<러플과 함께하는 파이선&햄스터>, https://samyangmedia.blog.me/221345035198\n",
            "파이톤학원 파이선코딩 python 과목 1달만에 배울 수 있는 곳, https://blog.naver.com/hkm6?Redirect=Log&logNo=221713291934\n",
            "[맘스터디7기 다짐]모두의 엔트리With 엔트리파이선, https://blog.naver.com/yeonjin72?Redirect=Log&logNo=221206895035\n",
            "파이선 웹크롤링 초보 탈출기 1, https://blog.naver.com/dayani?Redirect=Log&logNo=221400362074\n",
            "[번역]몬티 파이선: 죽은 앵무새(애완동물점), https://dhnam0502.blog.me/221614363213\n",
            "[{'name': '마이크로비트 파이선 강좌(7부) - 라디오 통신 사용하기', 'href': 'https://blog.naver.com/icbanq?Redirect=Log&logNo=221636439875'}, {'name': '초등코딩교육 모두의 엔트리 with 엔트리파이선', 'href': 'https://jinidag.blog.me/221171649826'}, {'name': '[엔트리파이선]<2>컴퓨터가 정보를 보여주는 방법', 'href': 'https://blog.naver.com/swedu_et?Redirect=Log&logNo=221389505365'}, {'name': '엔트리 파이선으로 배우는 수학 02 - 연산자로 숫자 계산하기', 'href': 'https://blog.naver.com/khrireg?Redirect=Log&logNo=221571152670'}, {'name': '[길벗] 모두의 엔트리 with 엔트리파이선 - 2018 S/W 교육 의무화', 'href': 'https://blog.naver.com/choi2k74?Redirect=Log&logNo=221168178948'}, {'name': '신간안내<러플과 함께하는 파이선&햄스터>', 'href': 'https://samyangmedia.blog.me/221345035198'}, {'name': '파이톤학원 파이선코딩 python 과목 1달만에 배울 수 있는 곳', 'href': 'https://blog.naver.com/hkm6?Redirect=Log&logNo=221713291934'}, {'name': '[맘스터디7기 다짐]모두의 엔트리With 엔트리파이선', 'href': 'https://blog.naver.com/yeonjin72?Redirect=Log&logNo=221206895035'}, {'name': '파이선 웹크롤링 초보 탈출기 1', 'href': 'https://blog.naver.com/dayani?Redirect=Log&logNo=221400362074'}, {'name': '[번역]몬티 파이선: 죽은 앵무새(애완동물점)', 'href': 'https://dhnam0502.blog.me/221614363213'}]\n"
          ],
          "name": "stdout"
        }
      ]
    },
    {
      "cell_type": "markdown",
      "metadata": {
        "id": "nFuYyJcKhf92",
        "colab_type": "text"
      },
      "source": [
        "##### 검색결과 csv 파일로 저장하기"
      ]
    },
    {
      "cell_type": "code",
      "metadata": {
        "id": "X5BV4XVXhlGq",
        "colab_type": "code",
        "colab": {}
      },
      "source": [
        "df_result = pd.DataFrame(result) #데이터 프레임 만들기\n",
        "df_result.to_csv('result_{}.csv'.format(v_input)) # csv파일로 만들기"
      ],
      "execution_count": 0,
      "outputs": []
    },
    {
      "cell_type": "markdown",
      "metadata": {
        "id": "6-EzJS30laTX",
        "colab_type": "text"
      },
      "source": [
        "##### CSV파일 다운로드"
      ]
    },
    {
      "cell_type": "code",
      "metadata": {
        "id": "3FpI7eDIjacD",
        "colab_type": "code",
        "colab": {}
      },
      "source": [
        "files.download('result_{}.csv'.format(v_input))"
      ],
      "execution_count": 0,
      "outputs": []
    },
    {
      "cell_type": "markdown",
      "metadata": {
        "id": "2AOfzBlIQ54A",
        "colab_type": "text"
      },
      "source": [
        "### 191201 텔레그램봇으로 검색결과 전송하기"
      ]
    },
    {
      "cell_type": "markdown",
      "metadata": {
        "id": "r4scguSQS9M2",
        "colab_type": "text"
      },
      "source": [
        "#### 텔래그램 라이브러리 설치"
      ]
    },
    {
      "cell_type": "code",
      "metadata": {
        "id": "RQo4UBWvRu1O",
        "colab_type": "code",
        "colab": {
          "base_uri": "https://localhost:8080/",
          "height": 583
        },
        "outputId": "69082d8e-6418-4b07-af55-37562b99bdcf"
      },
      "source": [
        "!pip install python-telegram-bot"
      ],
      "execution_count": 36,
      "outputs": [
        {
          "output_type": "stream",
          "text": [
            "Collecting python-telegram-bot\n",
            "\u001b[?25l  Downloading https://files.pythonhosted.org/packages/26/aa/82dfedea526128a55429527ca5e43c023846e00cc3df30c8dbfebe94bbb2/python_telegram_bot-12.2.0-py2.py3-none-any.whl (349kB)\n",
            "\u001b[K     |████████████████████████████████| 358kB 2.8MB/s \n",
            "\u001b[?25hCollecting tornado>=5.1\n",
            "\u001b[?25l  Downloading https://files.pythonhosted.org/packages/30/78/2d2823598496127b21423baffaa186b668f73cd91887fcef78b6eade136b/tornado-6.0.3.tar.gz (482kB)\n",
            "\u001b[K     |████████████████████████████████| 491kB 43.4MB/s \n",
            "\u001b[?25hCollecting cryptography\n",
            "\u001b[?25l  Downloading https://files.pythonhosted.org/packages/ca/9a/7cece52c46546e214e10811b36b2da52ce1ea7fa203203a629b8dfadad53/cryptography-2.8-cp34-abi3-manylinux2010_x86_64.whl (2.3MB)\n",
            "\u001b[K     |████████████████████████████████| 2.3MB 44.9MB/s \n",
            "\u001b[?25hRequirement already satisfied: certifi in /usr/local/lib/python3.6/dist-packages (from python-telegram-bot) (2019.9.11)\n",
            "Requirement already satisfied: future>=0.16.0 in /usr/local/lib/python3.6/dist-packages (from python-telegram-bot) (0.16.0)\n",
            "Requirement already satisfied: six>=1.4.1 in /usr/local/lib/python3.6/dist-packages (from cryptography->python-telegram-bot) (1.12.0)\n",
            "Requirement already satisfied: cffi!=1.11.3,>=1.8 in /usr/local/lib/python3.6/dist-packages (from cryptography->python-telegram-bot) (1.13.2)\n",
            "Requirement already satisfied: pycparser in /usr/local/lib/python3.6/dist-packages (from cffi!=1.11.3,>=1.8->cryptography->python-telegram-bot) (2.19)\n",
            "Building wheels for collected packages: tornado\n",
            "  Building wheel for tornado (setup.py) ... \u001b[?25l\u001b[?25hdone\n",
            "  Created wheel for tornado: filename=tornado-6.0.3-cp36-cp36m-linux_x86_64.whl size=423200 sha256=3978c1bce3c341c4cd37a6708933d714fa4c5477b2cdb690ae1fc583e1688c6b\n",
            "  Stored in directory: /root/.cache/pip/wheels/84/bf/40/2f6ef700f48401ca40e5e3dd7d0e3c0a90e064897b7fe5fc08\n",
            "Successfully built tornado\n",
            "\u001b[31mERROR: google-colab 1.0.0 has requirement tornado~=4.5.0, but you'll have tornado 6.0.3 which is incompatible.\u001b[0m\n",
            "Installing collected packages: tornado, cryptography, python-telegram-bot\n",
            "  Found existing installation: tornado 4.5.3\n",
            "    Uninstalling tornado-4.5.3:\n",
            "      Successfully uninstalled tornado-4.5.3\n",
            "Successfully installed cryptography-2.8 python-telegram-bot-12.2.0 tornado-6.0.3\n"
          ],
          "name": "stdout"
        },
        {
          "output_type": "display_data",
          "data": {
            "application/vnd.colab-display-data+json": {
              "pip_warning": {
                "packages": [
                  "tornado"
                ]
              }
            }
          },
          "metadata": {
            "tags": []
          }
        }
      ]
    },
    {
      "cell_type": "markdown",
      "metadata": {
        "id": "iEenl-xXTERJ",
        "colab_type": "text"
      },
      "source": [
        "#### 텔레그램 라이브러리 불러오기"
      ]
    },
    {
      "cell_type": "code",
      "metadata": {
        "id": "DTpSQyPBSIWZ",
        "colab_type": "code",
        "colab": {}
      },
      "source": [
        "import telegram"
      ],
      "execution_count": 0,
      "outputs": []
    },
    {
      "cell_type": "markdown",
      "metadata": {
        "id": "0cZBVuLSTJIQ",
        "colab_type": "text"
      },
      "source": [
        "#### 텔레그램 봇 변수로 설정"
      ]
    },
    {
      "cell_type": "code",
      "metadata": {
        "id": "mSVL6Lc0SL83",
        "colab_type": "code",
        "colab": {}
      },
      "source": [
        "bot = telegram.Bot(token = '1023943892:AAG6zbXW2l9qCBV7d9w8HFYIvkfcTqz5s2k')"
      ],
      "execution_count": 0,
      "outputs": []
    },
    {
      "cell_type": "markdown",
      "metadata": {
        "id": "cmC3eYjoTP1J",
        "colab_type": "text"
      },
      "source": [
        "#### 반복문을 통한 나의 정보 알아보기"
      ]
    },
    {
      "cell_type": "code",
      "metadata": {
        "id": "141xXxDlSakJ",
        "colab_type": "code",
        "colab": {}
      },
      "source": [
        "result_bot =[]\n",
        "for i in bot.getUpdates():\n",
        "    msg = i.message\n",
        "    print(msg)"
      ],
      "execution_count": 0,
      "outputs": []
    },
    {
      "cell_type": "markdown",
      "metadata": {
        "id": "VGxg1dQghDx8",
        "colab_type": "text"
      },
      "source": [
        "## [완성]네이버 블로그 검색결과 크롤링 - 4차 : 5페이지 검색결과 저장하기\n"
      ]
    },
    {
      "cell_type": "code",
      "metadata": {
        "colab_type": "code",
        "id": "7JI6BMwf2Fty",
        "colab": {}
      },
      "source": [
        "import urllib.request\n",
        "from urllib.parse import quote_plus\n",
        "from bs4 import BeautifulSoup\n",
        "import pandas as pd\n",
        "from google.colab import files"
      ],
      "execution_count": 0,
      "outputs": []
    },
    {
      "cell_type": "markdown",
      "metadata": {
        "colab_type": "text",
        "id": "Zq9BuA6rriZh"
      },
      "source": [
        "#### URL 만들기"
      ]
    },
    {
      "cell_type": "code",
      "metadata": {
        "colab_type": "code",
        "id": "gG4YwcOsriZh",
        "outputId": "19269038-591c-4850-b3bf-fea176220472",
        "colab": {
          "base_uri": "https://localhost:8080/",
          "height": 54
        }
      },
      "source": [
        "v_input = input('주인님, 검색어를 입력하세요 : ')\n",
        "v_input_parser = quote_plus(v_input) #검색어 컴퓨터 인식문자로 파싱"
      ],
      "execution_count": 19,
      "outputs": [
        {
          "output_type": "stream",
          "text": [
            "주인님, 검색어를 입력하세요 : 파이선\n"
          ],
          "name": "stdout"
        }
      ]
    },
    {
      "cell_type": "markdown",
      "metadata": {
        "colab_type": "text",
        "id": "IqJj-u0SriZj"
      },
      "source": [
        "#### 함수만들기"
      ]
    },
    {
      "cell_type": "markdown",
      "metadata": {
        "id": "lfm1l_bQtiLU",
        "colab_type": "text"
      },
      "source": [
        "##### 반복문 이용하여 URL 목록 만들기\n",
        "- {}.format()"
      ]
    },
    {
      "cell_type": "code",
      "metadata": {
        "id": "9iElqVwWtop5",
        "colab_type": "code",
        "colab": {}
      },
      "source": [
        "def make_url_list(v_input_parser,v_int):\n",
        "    url_lst = []\n",
        "    for i in range(int(v_int)):\n",
        "        url = 'https://search.naver.com/search.naver?date_from=&date_option=0&date_to=&dup_remove=1&nso=&post_blogurl=&post_blogurl_without=&query={}&sm=tab_pge&srchby=all&st=sim&where=post&start={}1'.format(v_input_parser,str(i))\n",
        "        # print(url)\n",
        "        url_lst.append(url)\n",
        "    return url_lst"
      ],
      "execution_count": 0,
      "outputs": []
    },
    {
      "cell_type": "markdown",
      "metadata": {
        "colab_type": "text",
        "id": "qSmCjfH6riZj"
      },
      "source": [
        "##### html받아서 soup 리턴"
      ]
    },
    {
      "cell_type": "code",
      "metadata": {
        "colab_type": "code",
        "id": "p3vld_OlriZk",
        "colab": {}
      },
      "source": [
        "def make_soup(url):\n",
        "    html = urllib.request.urlopen(url).read()\n",
        "    soup = BeautifulSoup(html, 'html.parser')\n",
        "    titles = soup.find_all(class_='sh_blog_title _sp_each_url _sp_each_title')\n",
        "    return titles"
      ],
      "execution_count": 0,
      "outputs": []
    },
    {
      "cell_type": "markdown",
      "metadata": {
        "colab_type": "text",
        "id": "ipCvcHHdriZl"
      },
      "source": [
        "##### 검색결과 제목과 링크 추출하기\n",
        "- 딕셔너리로 리턴\n",
        "- 리턴된 값은 리스트에 포함될 예정"
      ]
    },
    {
      "cell_type": "code",
      "metadata": {
        "colab_type": "code",
        "id": "dno3bDWnriZl",
        "colab": {}
      },
      "source": [
        "def get_info(item):\n",
        "    name = item.attrs['title']\n",
        "    href = item.attrs['href']\n",
        "    return {'name' : name, 'href' : href}"
      ],
      "execution_count": 0,
      "outputs": []
    },
    {
      "cell_type": "markdown",
      "metadata": {
        "colab_type": "text",
        "id": "pAA1zGJDriZn"
      },
      "source": [
        "#### 검색결과 화면 출력하기"
      ]
    },
    {
      "cell_type": "code",
      "metadata": {
        "id": "H7uGJ1vePZBO",
        "colab_type": "code",
        "colab": {}
      },
      "source": [
        "def get_result(urls):\n",
        "    result = []\n",
        "    n = 1\n",
        "    for u in urls:\n",
        "        soup = make_soup(u)\n",
        "        print('검색결과의 {} / {}페이지를 내용 출력중...'.format(n, len(urls)))\n",
        "        for i in soup:\n",
        "            result_search = get_info(i)\n",
        "            # print('{} : {}'.format(result_search['name'], result_search['href']))\n",
        "            result.append(result_search)\n",
        "        n += 1\n",
        "    #     print()\n",
        "    # print('모두 {}개 검색결과 수집완료!'.format(len(result)))\n",
        "    return result\n"
      ],
      "execution_count": 0,
      "outputs": []
    },
    {
      "cell_type": "code",
      "metadata": {
        "colab_type": "code",
        "id": "XmY5oMDPriZn",
        "outputId": "d7669d28-c082-4eb1-ec85-72657b62dda0",
        "colab": {
          "base_uri": "https://localhost:8080/",
          "height": 87
        }
      },
      "source": [
        "urls = make_url_list(v_input_parser, 3) # 검색결과 갯수 조정하기\n",
        "result = get_result(urls)"
      ],
      "execution_count": 32,
      "outputs": [
        {
          "output_type": "stream",
          "text": [
            "검색결과의 1 / 3페이지를 내용 출력중...\n",
            "검색결과의 2 / 3페이지를 내용 출력중...\n",
            "검색결과의 3 / 3페이지를 내용 출력중...\n"
          ],
          "name": "stdout"
        }
      ]
    },
    {
      "cell_type": "markdown",
      "metadata": {
        "colab_type": "text",
        "id": "yHniAE_briZo"
      },
      "source": [
        "#### 검색결과 csv 파일로 저장하기"
      ]
    },
    {
      "cell_type": "code",
      "metadata": {
        "colab_type": "code",
        "id": "2yoLPuPXriZp",
        "outputId": "24de954e-5b9f-4445-9d1b-5af43fba0f36",
        "colab": {
          "base_uri": "https://localhost:8080/",
          "height": 1000
        }
      },
      "source": [
        "df_result = pd.DataFrame(result) #데이터 프레임 만들기\n",
        "df_result.to_csv('result_{}.csv'.format(v_input)) # csv파일로 만들기\n",
        "df_result"
      ],
      "execution_count": 34,
      "outputs": [
        {
          "output_type": "execute_result",
          "data": {
            "text/html": [
              "<div>\n",
              "<style scoped>\n",
              "    .dataframe tbody tr th:only-of-type {\n",
              "        vertical-align: middle;\n",
              "    }\n",
              "\n",
              "    .dataframe tbody tr th {\n",
              "        vertical-align: top;\n",
              "    }\n",
              "\n",
              "    .dataframe thead th {\n",
              "        text-align: right;\n",
              "    }\n",
              "</style>\n",
              "<table border=\"1\" class=\"dataframe\">\n",
              "  <thead>\n",
              "    <tr style=\"text-align: right;\">\n",
              "      <th></th>\n",
              "      <th>name</th>\n",
              "      <th>href</th>\n",
              "    </tr>\n",
              "  </thead>\n",
              "  <tbody>\n",
              "    <tr>\n",
              "      <th>0</th>\n",
              "      <td>마이크로비트 파이선 강좌(7부) - 라디오 통신 사용하기</td>\n",
              "      <td>https://blog.naver.com/icbanq?Redirect=Log&amp;log...</td>\n",
              "    </tr>\n",
              "    <tr>\n",
              "      <th>1</th>\n",
              "      <td>초등코딩교육 모두의 엔트리 with 엔트리파이선</td>\n",
              "      <td>https://jinidag.blog.me/221171649826</td>\n",
              "    </tr>\n",
              "    <tr>\n",
              "      <th>2</th>\n",
              "      <td>[엔트리파이선]&lt;2&gt;컴퓨터가 정보를 보여주는 방법</td>\n",
              "      <td>https://blog.naver.com/swedu_et?Redirect=Log&amp;l...</td>\n",
              "    </tr>\n",
              "    <tr>\n",
              "      <th>3</th>\n",
              "      <td>엔트리 파이선으로 배우는 수학 02 - 연산자로 숫자 계산하기</td>\n",
              "      <td>https://blog.naver.com/khrireg?Redirect=Log&amp;lo...</td>\n",
              "    </tr>\n",
              "    <tr>\n",
              "      <th>4</th>\n",
              "      <td>[길벗] 모두의 엔트리 with 엔트리파이선 - 2018 S/W 교육 의무화</td>\n",
              "      <td>https://blog.naver.com/choi2k74?Redirect=Log&amp;l...</td>\n",
              "    </tr>\n",
              "    <tr>\n",
              "      <th>5</th>\n",
              "      <td>신간안내&lt;러플과 함께하는 파이선&amp;햄스터&gt;</td>\n",
              "      <td>https://samyangmedia.blog.me/221345035198</td>\n",
              "    </tr>\n",
              "    <tr>\n",
              "      <th>6</th>\n",
              "      <td>파이톤학원 파이선코딩 python 과목 1달만에 배울 수 있는 곳</td>\n",
              "      <td>https://blog.naver.com/hkm6?Redirect=Log&amp;logNo...</td>\n",
              "    </tr>\n",
              "    <tr>\n",
              "      <th>7</th>\n",
              "      <td>[맘스터디7기 다짐]모두의 엔트리With 엔트리파이선</td>\n",
              "      <td>https://blog.naver.com/yeonjin72?Redirect=Log&amp;...</td>\n",
              "    </tr>\n",
              "    <tr>\n",
              "      <th>8</th>\n",
              "      <td>파이선 웹크롤링 초보 탈출기 1</td>\n",
              "      <td>https://blog.naver.com/dayani?Redirect=Log&amp;log...</td>\n",
              "    </tr>\n",
              "    <tr>\n",
              "      <th>9</th>\n",
              "      <td>[번역]몬티 파이선: 죽은 앵무새(애완동물점)</td>\n",
              "      <td>https://dhnam0502.blog.me/221614363213</td>\n",
              "    </tr>\n",
              "    <tr>\n",
              "      <th>10</th>\n",
              "      <td>파이선 (Python) 출고</td>\n",
              "      <td>https://blog.naver.com/wjhan1014?Redirect=Log&amp;...</td>\n",
              "    </tr>\n",
              "    <tr>\n",
              "      <th>11</th>\n",
              "      <td>+ 초등코딩 _ 모두의 엔트리 with 엔트리파이선</td>\n",
              "      <td>https://ever4860.blog.me/221182104983</td>\n",
              "    </tr>\n",
              "    <tr>\n",
              "      <th>12</th>\n",
              "      <td>마이크로비트 파이선 강좌(5부) - Music,Sound사용하기</td>\n",
              "      <td>https://blog.naver.com/icbanq?Redirect=Log&amp;log...</td>\n",
              "    </tr>\n",
              "    <tr>\n",
              "      <th>13</th>\n",
              "      <td>[패스트캠퍼스 학습일지] 파이선 웹개발 1주차 - 환경설정 및 Print함수의 이해</td>\n",
              "      <td>https://blog.naver.com/han_team?Redirect=Log&amp;l...</td>\n",
              "    </tr>\n",
              "    <tr>\n",
              "      <th>14</th>\n",
              "      <td>[엔트리파이선]&lt;1&gt;텍스트코딩 시작하기</td>\n",
              "      <td>https://blog.naver.com/swedu_et?Redirect=Log&amp;l...</td>\n",
              "    </tr>\n",
              "    <tr>\n",
              "      <th>15</th>\n",
              "      <td>엔트리 파이선으로 배우는 수학 03 - 자료 입력받기</td>\n",
              "      <td>https://blog.naver.com/khrireg?Redirect=Log&amp;lo...</td>\n",
              "    </tr>\n",
              "    <tr>\n",
              "      <th>16</th>\n",
              "      <td>[Python] 파이선 3.x 용 반복자(Iterator) 구현</td>\n",
              "      <td>https://blog.naver.com/resumet?Redirect=Log&amp;lo...</td>\n",
              "    </tr>\n",
              "    <tr>\n",
              "      <th>17</th>\n",
              "      <td>Python(파이선) 3.7.0 이용한 excel(액셀) 컨트롤, crawling(...</td>\n",
              "      <td>https://blog.naver.com/guja83?Redirect=Log&amp;log...</td>\n",
              "    </tr>\n",
              "    <tr>\n",
              "      <th>18</th>\n",
              "      <td>[서용원 교수님의 비즈니스 애널리스틱스 (9)] 추세선 최적값 파이선으로 찾기</td>\n",
              "      <td>https://wnsdn6007.blog.me/221692430543</td>\n",
              "    </tr>\n",
              "    <tr>\n",
              "      <th>19</th>\n",
              "      <td>[코딩교육]모두의 엔트리With 엔트리파이선</td>\n",
              "      <td>https://blog.naver.com/yeonjin72?Redirect=Log&amp;...</td>\n",
              "    </tr>\n",
              "    <tr>\n",
              "      <th>20</th>\n",
              "      <td>파이선 웹크롤링 초보 탈출기 2(cmd에서 파이선 열기)</td>\n",
              "      <td>https://blog.naver.com/dayani?Redirect=Log&amp;log...</td>\n",
              "    </tr>\n",
              "    <tr>\n",
              "      <th>21</th>\n",
              "      <td>파이선 배우기</td>\n",
              "      <td>https://blog.naver.com/daeik?Redirect=Log&amp;logN...</td>\n",
              "    </tr>\n",
              "    <tr>\n",
              "      <th>22</th>\n",
              "      <td>[191120/일상]/학교수업/파이선/bhc/역할맥/고사장술집</td>\n",
              "      <td>https://blog.naver.com/ddodin725?Redirect=Log&amp;...</td>\n",
              "    </tr>\n",
              "    <tr>\n",
              "      <th>23</th>\n",
              "      <td>마이크로비트 파이선 강좌(1부) - Micro:bit Python 구조 알아보기</td>\n",
              "      <td>https://blog.naver.com/icbanq?Redirect=Log&amp;log...</td>\n",
              "    </tr>\n",
              "    <tr>\n",
              "      <th>24</th>\n",
              "      <td>파이선강의 아주 힘들지 않게 배울수 있어요</td>\n",
              "      <td>https://blog.naver.com/befmr1006?Redirect=Log&amp;...</td>\n",
              "    </tr>\n",
              "    <tr>\n",
              "      <th>25</th>\n",
              "      <td>파이선 인강 질렀다.</td>\n",
              "      <td>https://blog.naver.com/wnwnwn0615?Redirect=Log...</td>\n",
              "    </tr>\n",
              "    <tr>\n",
              "      <th>26</th>\n",
              "      <td>[엔트리파이선]&lt;1&gt;텍스트코딩 시작하기</td>\n",
              "      <td>https://blog.naver.com/swedu_et?Redirect=Log&amp;l...</td>\n",
              "    </tr>\n",
              "    <tr>\n",
              "      <th>27</th>\n",
              "      <td>엔트리 파이선으로 배우는 수학 01 - 문자와 숫자 출력하기</td>\n",
              "      <td>https://blog.naver.com/khrireg?Redirect=Log&amp;lo...</td>\n",
              "    </tr>\n",
              "    <tr>\n",
              "      <th>28</th>\n",
              "      <td>잊어버릴까봐 쓰는 파이선 [3/4]</td>\n",
              "      <td>https://yepp4359.blog.me/221338646537</td>\n",
              "    </tr>\n",
              "    <tr>\n",
              "      <th>29</th>\n",
              "      <td>파이선 개발팁 : #MacOs 맥북 #PyGTK 3.0 설치방법</td>\n",
              "      <td>https://blog.naver.com/makepluscode?Redirect=L...</td>\n",
              "    </tr>\n",
              "  </tbody>\n",
              "</table>\n",
              "</div>"
            ],
            "text/plain": [
              "                                                 name                                               href\n",
              "0                     마이크로비트 파이선 강좌(7부) - 라디오 통신 사용하기  https://blog.naver.com/icbanq?Redirect=Log&log...\n",
              "1                          초등코딩교육 모두의 엔트리 with 엔트리파이선               https://jinidag.blog.me/221171649826\n",
              "2                         [엔트리파이선]<2>컴퓨터가 정보를 보여주는 방법  https://blog.naver.com/swedu_et?Redirect=Log&l...\n",
              "3                  엔트리 파이선으로 배우는 수학 02 - 연산자로 숫자 계산하기  https://blog.naver.com/khrireg?Redirect=Log&lo...\n",
              "4          [길벗] 모두의 엔트리 with 엔트리파이선 - 2018 S/W 교육 의무화  https://blog.naver.com/choi2k74?Redirect=Log&l...\n",
              "5                              신간안내<러플과 함께하는 파이선&햄스터>          https://samyangmedia.blog.me/221345035198\n",
              "6                파이톤학원 파이선코딩 python 과목 1달만에 배울 수 있는 곳  https://blog.naver.com/hkm6?Redirect=Log&logNo...\n",
              "7                       [맘스터디7기 다짐]모두의 엔트리With 엔트리파이선  https://blog.naver.com/yeonjin72?Redirect=Log&...\n",
              "8                                   파이선 웹크롤링 초보 탈출기 1  https://blog.naver.com/dayani?Redirect=Log&log...\n",
              "9                           [번역]몬티 파이선: 죽은 앵무새(애완동물점)             https://dhnam0502.blog.me/221614363213\n",
              "10                                    파이선 (Python) 출고  https://blog.naver.com/wjhan1014?Redirect=Log&...\n",
              "11                       + 초등코딩 _ 모두의 엔트리 with 엔트리파이선              https://ever4860.blog.me/221182104983\n",
              "12                마이크로비트 파이선 강좌(5부) - Music,Sound사용하기  https://blog.naver.com/icbanq?Redirect=Log&log...\n",
              "13     [패스트캠퍼스 학습일지] 파이선 웹개발 1주차 - 환경설정 및 Print함수의 이해  https://blog.naver.com/han_team?Redirect=Log&l...\n",
              "14                              [엔트리파이선]<1>텍스트코딩 시작하기  https://blog.naver.com/swedu_et?Redirect=Log&l...\n",
              "15                      엔트리 파이선으로 배우는 수학 03 - 자료 입력받기  https://blog.naver.com/khrireg?Redirect=Log&lo...\n",
              "16                [Python] 파이선 3.x 용 반복자(Iterator) 구현  https://blog.naver.com/resumet?Redirect=Log&lo...\n",
              "17  Python(파이선) 3.7.0 이용한 excel(액셀) 컨트롤, crawling(...  https://blog.naver.com/guja83?Redirect=Log&log...\n",
              "18        [서용원 교수님의 비즈니스 애널리스틱스 (9)] 추세선 최적값 파이선으로 찾기             https://wnsdn6007.blog.me/221692430543\n",
              "19                           [코딩교육]모두의 엔트리With 엔트리파이선  https://blog.naver.com/yeonjin72?Redirect=Log&...\n",
              "20                    파이선 웹크롤링 초보 탈출기 2(cmd에서 파이선 열기)  https://blog.naver.com/dayani?Redirect=Log&log...\n",
              "21                                            파이선 배우기  https://blog.naver.com/daeik?Redirect=Log&logN...\n",
              "22                 [191120/일상]/학교수업/파이선/bhc/역할맥/고사장술집  https://blog.naver.com/ddodin725?Redirect=Log&...\n",
              "23       마이크로비트 파이선 강좌(1부) - Micro:bit Python 구조 알아보기  https://blog.naver.com/icbanq?Redirect=Log&log...\n",
              "24                            파이선강의 아주 힘들지 않게 배울수 있어요  https://blog.naver.com/befmr1006?Redirect=Log&...\n",
              "25                                        파이선 인강 질렀다.  https://blog.naver.com/wnwnwn0615?Redirect=Log...\n",
              "26                              [엔트리파이선]<1>텍스트코딩 시작하기  https://blog.naver.com/swedu_et?Redirect=Log&l...\n",
              "27                  엔트리 파이선으로 배우는 수학 01 - 문자와 숫자 출력하기  https://blog.naver.com/khrireg?Redirect=Log&lo...\n",
              "28                                잊어버릴까봐 쓰는 파이선 [3/4]              https://yepp4359.blog.me/221338646537\n",
              "29                파이선 개발팁 : #MacOs 맥북 #PyGTK 3.0 설치방법  https://blog.naver.com/makepluscode?Redirect=L..."
            ]
          },
          "metadata": {
            "tags": []
          },
          "execution_count": 34
        }
      ]
    },
    {
      "cell_type": "markdown",
      "metadata": {
        "colab_type": "text",
        "id": "5NyQAI9griZq"
      },
      "source": [
        "#### CSV파일 다운로드"
      ]
    },
    {
      "cell_type": "code",
      "metadata": {
        "colab_type": "code",
        "id": "GAdoWu8PriZq",
        "colab": {}
      },
      "source": [
        "files.download('result_{}.csv'.format(v_input))"
      ],
      "execution_count": 0,
      "outputs": []
    }
  ]
}
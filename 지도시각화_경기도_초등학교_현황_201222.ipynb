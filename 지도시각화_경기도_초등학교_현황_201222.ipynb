{
  "nbformat": 4,
  "nbformat_minor": 0,
  "metadata": {
    "colab": {
      "name": "지도시각화_경기도 초등학교 현황_201222.ipynb",
      "provenance": [],
      "mount_file_id": "1xLbVIZez1ZjUBpfMNzelOSQjuw-6tpnQ",
      "authorship_tag": "ABX9TyObyCYm30mb/HlPgRwLmvtb",
      "include_colab_link": true
    },
    "kernelspec": {
      "name": "python3",
      "display_name": "Python 3"
    }
  },
  "cells": [
    {
      "cell_type": "markdown",
      "metadata": {
        "id": "view-in-github",
        "colab_type": "text"
      },
      "source": [
        "<a href=\"https://colab.research.google.com/github/951237/TIL/blob/master/%EC%A7%80%EB%8F%84%EC%8B%9C%EA%B0%81%ED%99%94_%EA%B2%BD%EA%B8%B0%EB%8F%84_%EC%B4%88%EB%93%B1%ED%95%99%EA%B5%90_%ED%98%84%ED%99%A9_201222.ipynb\" target=\"_parent\"><img src=\"https://colab.research.google.com/assets/colab-badge.svg\" alt=\"Open In Colab\"/></a>"
      ]
    },
    {
      "cell_type": "markdown",
      "metadata": {
        "id": "GF5VCTrRW9Fy"
      },
      "source": [
        "# 경기도 초등학교 지도로 시각화 하기\r\n",
        "- 통계지도 체험 : https://sgis.kostat.go.kr/statexp/view/index#\r\n",
        "- 사이트에 데이터 입력"
      ]
    },
    {
      "cell_type": "code",
      "metadata": {
        "id": "8mx4pk03L9v2"
      },
      "source": [
        "#라이브러리 호출\r\n",
        "import pandas as pd\r\n",
        "import warnings\r\n",
        "from openpyxl import load_workbook\r\n"
      ],
      "execution_count": 39,
      "outputs": []
    },
    {
      "cell_type": "code",
      "metadata": {
        "id": "os184vQYMS5q"
      },
      "source": [
        "warnings.filterwarnings(action='ignore')"
      ],
      "execution_count": 4,
      "outputs": []
    },
    {
      "cell_type": "code",
      "metadata": {
        "id": "DfWCxNtkLecR"
      },
      "source": [
        "# 파일 불러오기\r\n",
        "PATH_SRC = '/content/drive/MyDrive/data/크롤링_경기도 유초중고등학교 전체/경기_학교 전체목록_도교육청 제공_200121.xlsx'\r\n",
        "PATH_MAP_KYUNGGI = '/content/drive/MyDrive/data/지도시각화_통계청/form_kyungi_map.xlsx'"
      ],
      "execution_count": 32,
      "outputs": []
    },
    {
      "cell_type": "code",
      "metadata": {
        "id": "o0eB_1kBLwE7"
      },
      "source": [
        "# 데이터프레임 생성\r\n",
        "df = pd.read_excel(PATH_SRC)"
      ],
      "execution_count": 6,
      "outputs": []
    },
    {
      "cell_type": "code",
      "metadata": {
        "id": "y6_d1y60Od8Z"
      },
      "source": [
        "# 데이터 프레임 반복문으로 생성\r\n",
        "# 학교급별 딕셔너리\r\n",
        "lst_school_type = {'유치원' : 'df_kindergarden',\r\n",
        "                   '초등학교' : 'df_elementary',\r\n",
        "                   '중학교' : 'df_middle',\r\n",
        "                   '고등학교' : 'df_high',\r\n",
        "                   '특수학교' : 'df_special'}\r\n",
        "\r\n",
        "# 반복문으로 데이터프레임 딕셔너리 만들기\r\n",
        "lst_df_school_type = {}\r\n",
        "for k, v in lst_school_type.items():\r\n",
        "    v = df.loc[df['학교급별'] == k]\r\n",
        "    lst_df_school_type[k] = v"
      ],
      "execution_count": null,
      "outputs": []
    },
    {
      "cell_type": "code",
      "metadata": {
        "id": "5Ru_bg2jRkzY"
      },
      "source": [
        "# 지역별 학교급별 현황 딕셔너리 만들기\r\n",
        "# 반복문위한 딕셔너리 만들기\r\n",
        "dic_count_region = {'유치원' : 'region_kindergarden',\r\n",
        "                   '초등학교' : 'region_elementary',\r\n",
        "                   '중학교' : 'region_middle',\r\n",
        "                   '고등학교' : 'region_high',\r\n",
        "                   '특수학교' : 'region_special'}\r\n",
        "\r\n",
        "# 지역현황 정리해서 딕셔너리 만들기\r\n",
        "dic_dic_count_region = {}\r\n",
        "for k, v in dic_count_region.items():\r\n",
        "    v = pd.DataFrame(lst_df_school_type[k]['지역'].value_counts()).to_dict()\r\n",
        "    dic_dic_count_region[k] = v\r\n"
      ],
      "execution_count": 29,
      "outputs": []
    },
    {
      "cell_type": "code",
      "metadata": {
        "id": "I5tu3JjxUF_d"
      },
      "source": [
        "# 지도사이트에 올릴 엑셀파일 생성하기\r\n",
        "dic_df = {\r\n",
        "    '지역현황_유치원' : dic_dic_count_region['유치원']['지역'],\r\n",
        "    '지역현황_초등학교' : dic_dic_count_region['초등학교']['지역'],\r\n",
        "    '지역현황_중학교' : dic_dic_count_region['중학교']['지역'],\r\n",
        "    '지역현황_고등학교' : dic_dic_count_region['고등학교']['지역'],\r\n",
        "    '지역현황_특수학교' : dic_dic_count_region['특수학교']['지역']\r\n",
        "}"
      ],
      "execution_count": 49,
      "outputs": []
    },
    {
      "cell_type": "code",
      "metadata": {
        "id": "Rd0Ju-rpTPMr"
      },
      "source": [
        "# 딕셔너리 소스 엑셀파일에 저장하기\r\n",
        "def write_excel(p_dic, p_file_name):\r\n",
        "    for k, v in p_dic.items():    # 지역 딕셔너리 반복\r\n",
        "        for x in range(5, ws.max_row+1):    # \r\n",
        "            region = ws.cell(x,2)   # 변수에 지역이름 셀값 지정\r\n",
        "            val = ws.cell(x,3)      # 변수에 인원 셀값 지정\r\n",
        "            if region.value[:2] == k[:2]:   # 앞글자 2개가 일치할 경우\r\n",
        "                val.value = v       # 셀입력\r\n",
        "    wb.save(f\"{p_file_name}.xlsx\")"
      ],
      "execution_count": 48,
      "outputs": []
    },
    {
      "cell_type": "code",
      "metadata": {
        "id": "yG7lEibqTvH8"
      },
      "source": [
        "# 타입별 1희망 지역 데이터 추출\r\n",
        "for k, v in dic_df.items():\r\n",
        "    # 엑셀파일에 데이터 입력하기\r\n",
        "    wb = load_workbook(PATH_MAP_KYUNGGI)    # 엑셀파일 불러오기\r\n",
        "    ws = wb.active      # 시트 선택하기\r\n",
        "    write_excel(v, k)"
      ],
      "execution_count": 50,
      "outputs": []
    },
    {
      "cell_type": "code",
      "metadata": {
        "colab": {
          "base_uri": "https://localhost:8080/"
        },
        "id": "JP98ARpmMgL6",
        "outputId": "e90854db-2dcd-4731-ef7c-1cbd267ff0ca"
      },
      "source": [
        "# 데이터 프레임 정보\r\n",
        "df.info()"
      ],
      "execution_count": 8,
      "outputs": [
        {
          "output_type": "stream",
          "text": [
            "<class 'pandas.core.frame.DataFrame'>\n",
            "RangeIndex: 4712 entries, 0 to 4711\n",
            "Data columns (total 9 columns):\n",
            " #   Column  Non-Null Count  Dtype \n",
            "---  ------  --------------  ----- \n",
            " 0   지역      4712 non-null   object\n",
            " 1   학교급별    4709 non-null   object\n",
            " 2   설립      4712 non-null   object\n",
            " 3   학교명     4712 non-null   object\n",
            " 4   우편번호    4710 non-null   object\n",
            " 5   주소      4712 non-null   object\n",
            " 6   전화번호    4712 non-null   object\n",
            " 7   팩스      4709 non-null   object\n",
            " 8   홈페이지    4443 non-null   object\n",
            "dtypes: object(9)\n",
            "memory usage: 331.4+ KB\n"
          ],
          "name": "stdout"
        }
      ]
    },
    {
      "cell_type": "code",
      "metadata": {
        "colab": {
          "base_uri": "https://localhost:8080/"
        },
        "id": "BC8ZHqgSMkXb",
        "outputId": "62a7686a-a836-4b35-bac1-82aa19e86ef7"
      },
      "source": [
        "df['학교급별'].unique()"
      ],
      "execution_count": 10,
      "outputs": [
        {
          "output_type": "execute_result",
          "data": {
            "text/plain": [
              "array(['유치원', '초등학교', '중학교', '고등학교', '특수학교', '각종학교', nan, '고등공민학교'],\n",
              "      dtype=object)"
            ]
          },
          "metadata": {
            "tags": []
          },
          "execution_count": 10
        }
      ]
    },
    {
      "cell_type": "code",
      "metadata": {
        "colab": {
          "base_uri": "https://localhost:8080/"
        },
        "id": "BsmUrxX3PySr",
        "outputId": "8f7ff09b-c907-4b97-db27-4b828b7b9879"
      },
      "source": [
        "df['지역'].unique()"
      ],
      "execution_count": 24,
      "outputs": [
        {
          "output_type": "execute_result",
          "data": {
            "text/plain": [
              "array(['가평', '고양', '과천', '광명', '광주', '구리', '군포', '김포', '남양주', '동두천', '부천',\n",
              "       '성남', '수원', '시흥', '안산', '안성', '안양', '양주', '양평', '여주', '연천', '오산',\n",
              "       '용인', '의왕', '의정부', '이천', '파주', '평택', '포천', '하남', '화성'],\n",
              "      dtype=object)"
            ]
          },
          "metadata": {
            "tags": []
          },
          "execution_count": 24
        }
      ]
    },
    {
      "cell_type": "code",
      "metadata": {
        "colab": {
          "base_uri": "https://localhost:8080/",
          "height": 142
        },
        "id": "zirdLD5CMswM",
        "outputId": "a52541ab-b1e6-45b2-8db9-7bd1ce3fa76d"
      },
      "source": [
        "# 빈값 필터링\r\n",
        "df.loc[df['학교급별'].isnull()]"
      ],
      "execution_count": 15,
      "outputs": [
        {
          "output_type": "execute_result",
          "data": {
            "text/html": [
              "<div>\n",
              "<style scoped>\n",
              "    .dataframe tbody tr th:only-of-type {\n",
              "        vertical-align: middle;\n",
              "    }\n",
              "\n",
              "    .dataframe tbody tr th {\n",
              "        vertical-align: top;\n",
              "    }\n",
              "\n",
              "    .dataframe thead th {\n",
              "        text-align: right;\n",
              "    }\n",
              "</style>\n",
              "<table border=\"1\" class=\"dataframe\">\n",
              "  <thead>\n",
              "    <tr style=\"text-align: right;\">\n",
              "      <th></th>\n",
              "      <th>지역</th>\n",
              "      <th>학교급별</th>\n",
              "      <th>설립</th>\n",
              "      <th>학교명</th>\n",
              "      <th>우편번호</th>\n",
              "      <th>주소</th>\n",
              "      <th>전화번호</th>\n",
              "      <th>팩스</th>\n",
              "      <th>홈페이지</th>\n",
              "    </tr>\n",
              "  </thead>\n",
              "  <tbody>\n",
              "    <tr>\n",
              "      <th>1728</th>\n",
              "      <td>성남</td>\n",
              "      <td>NaN</td>\n",
              "      <td>사립</td>\n",
              "      <td>하늘꿈학교(고)</td>\n",
              "      <td>13113-</td>\n",
              "      <td>경기도 성남시 수정구 성남대로1518번길 11(복정동)</td>\n",
              "      <td>02-443-2072</td>\n",
              "      <td>02-443-2075</td>\n",
              "      <td>http://www.hdschool.org</td>\n",
              "    </tr>\n",
              "    <tr>\n",
              "      <th>3509</th>\n",
              "      <td>용인</td>\n",
              "      <td>NaN</td>\n",
              "      <td>사립</td>\n",
              "      <td>새나래학교</td>\n",
              "      <td>17170-</td>\n",
              "      <td>경기도 용인시 처인구 원삼면 후평로 135, 새나래학교 (원삼면, 해냄독학기숙학원)</td>\n",
              "      <td>031-249-0628</td>\n",
              "      <td>031-246-9999</td>\n",
              "      <td>NaN</td>\n",
              "    </tr>\n",
              "    <tr>\n",
              "      <th>3510</th>\n",
              "      <td>용인</td>\n",
              "      <td>NaN</td>\n",
              "      <td>사립</td>\n",
              "      <td>중앙예닮학교</td>\n",
              "      <td>16863-</td>\n",
              "      <td>경기도 용인시 수지구 포은대로 91-19(상현동, 중앙예닮학교)</td>\n",
              "      <td>031-217-1401</td>\n",
              "      <td>031-217-1402</td>\n",
              "      <td>http://ya.or.kr/</td>\n",
              "    </tr>\n",
              "  </tbody>\n",
              "</table>\n",
              "</div>"
            ],
            "text/plain": [
              "      지역 학교급별  설립  ...          전화번호            팩스                     홈페이지\n",
              "1728  성남  NaN  사립  ...   02-443-2072   02-443-2075  http://www.hdschool.org\n",
              "3509  용인  NaN  사립  ...  031-249-0628  031-246-9999                      NaN\n",
              "3510  용인  NaN  사립  ...  031-217-1401  031-217-1402         http://ya.or.kr/\n",
              "\n",
              "[3 rows x 9 columns]"
            ]
          },
          "metadata": {
            "tags": []
          },
          "execution_count": 15
        }
      ]
    },
    {
      "cell_type": "code",
      "metadata": {
        "id": "ejR9fQJkM_Yl"
      },
      "source": [
        ""
      ],
      "execution_count": null,
      "outputs": []
    }
  ]
}
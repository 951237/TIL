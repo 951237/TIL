{
  "nbformat": 4,
  "nbformat_minor": 0,
  "metadata": {
    "colab": {
      "name": "201109_GTPC_문제풀이.ipynb",
      "provenance": [],
      "authorship_tag": "ABX9TyPlHwN8WhB6ID6HKOpCqc+q",
      "include_colab_link": true
    },
    "kernelspec": {
      "name": "python3",
      "display_name": "Python 3"
    }
  },
  "cells": [
    {
      "cell_type": "markdown",
      "metadata": {
        "id": "view-in-github",
        "colab_type": "text"
      },
      "source": [
        "<a href=\"https://colab.research.google.com/github/951237/TIL/blob/master/201109_GTPC_%EB%AC%B8%EC%A0%9C%ED%92%80%EC%9D%B4.ipynb\" target=\"_parent\"><img src=\"https://colab.research.google.com/assets/colab-badge.svg\" alt=\"Open In Colab\"/></a>"
      ]
    },
    {
      "cell_type": "markdown",
      "metadata": {
        "id": "2c5d-V22mu9f"
      },
      "source": [
        "# D 문제 - 틀림\n",
        "- 알파벳으로 이루어진 문자열 S 와 한 자연수 N이 주어진다. \n",
        "- S의 각 문자에 대해서 알파벳 순으로 N개 이후의 문자로 치환한 문자열 T를 구하여 출력하는 프로그램을\n",
        "작성하시오. \n",
        "- 단, \"Z\" 다음 문자는 \"A\"로 정한다."
      ]
    },
    {
      "cell_type": "code",
      "metadata": {
        "id": "W6Uasqpoge7q",
        "outputId": "973bbb57-545d-4d94-e3aa-b4874c4a9248",
        "colab": {
          "base_uri": "https://localhost:8080/"
        }
      },
      "source": [
        "def after_2nd(n, char):\n",
        "    # char = char.upper()\n",
        "    t = (ord(char)-65 + int(n)) % 26\n",
        "    k = chr(65 + t)  # 문자를 숫자로\n",
        "    # print(chr(int(k))) # 숫자를 문자로 출력\n",
        "    return k\n",
        "\n",
        "\n",
        "alpabet = list(input().upper())\n",
        "n = input()\n",
        "result = []\n",
        "for char in alpabet:\n",
        "    t = (ord(char)-65 + int(n)) % 26\n",
        "    trans = chr(65 + t)  # 문자를 숫자로\n",
        "    result.append(trans)\n",
        "\n",
        "for i in result:\n",
        "    print(i, end=\"\")"
      ],
      "execution_count": 42,
      "outputs": [
        {
          "output_type": "stream",
          "text": [
            "ABCD\n",
            "2\n",
            "CDEF"
          ],
          "name": "stdout"
        }
      ]
    },
    {
      "cell_type": "markdown",
      "metadata": {
        "id": "nYxjYmCUv-eo"
      },
      "source": [
        "# E 문제 \n",
        "- 20개의 문자를 입력받아서 첫음을 알아맞히기\n",
        "- 검은색 건반의 위치로 음을 판별"
      ]
    },
    {
      "cell_type": "code",
      "metadata": {
        "id": "VcAe88_hwKAs",
        "outputId": "38ab953b-7dac-466a-bad1-30738869778f",
        "colab": {
          "base_uri": "https://localhost:8080/"
        }
      },
      "source": [
        "a = input(\"\")\n",
        "if a == 'WBWBWWBWBWBWWBWBWWBW':\n",
        "    print(\"C\")\n",
        "elif a[:10] == \"WBWWBWBWBW\":\n",
        "    print('D')\n",
        "elif a[:8] == \"WWBWBWBW\":\n",
        "    print(\"E\")\n",
        "elif a[:6] == 'WBWBWB':\n",
        "    print(\"F\")\n",
        "elif a[:8] == \"WBWBWWBWBWWB\":\n",
        "    print(\"G\")\n",
        "elif a[:6] == \"WBWWBWBWWB\":\n",
        "    print(\"A\")\n",
        "else:\n",
        "    print(\"B\")"
      ],
      "execution_count": null,
      "outputs": [
        {
          "output_type": "stream",
          "text": [
            "WBWBWWBWBWBWWBWBWWBW\n",
            "C\n"
          ],
          "name": "stdout"
        }
      ]
    },
    {
      "cell_type": "code",
      "metadata": {
        "id": "Kfrg1FLty0pA",
        "outputId": "36d424b2-1bc3-4488-b67e-d5dd815a17f3",
        "colab": {
          "base_uri": "https://localhost:8080/",
          "height": 37
        }
      },
      "source": [
        "a[:8]"
      ],
      "execution_count": null,
      "outputs": [
        {
          "output_type": "execute_result",
          "data": {
            "application/vnd.google.colaboratory.intrinsic+json": {
              "type": "string"
            },
            "text/plain": [
              "'WBWBWWBW'"
            ]
          },
          "metadata": {
            "tags": []
          },
          "execution_count": 78
        }
      ]
    },
    {
      "cell_type": "markdown",
      "metadata": {
        "id": "RFh63QztMVVz"
      },
      "source": [
        "# F문제\n",
        "- n행 m열의 문자열로 이루어진 가상 이미지 정보를 입력받아서 좌우를 반전시켜 출력하는 프로그램을 작\n",
        "성하시오\n",
        "\n",
        "```\n",
        "# 입력\n",
        "3 4\n",
        "abcd\n",
        "bbbb\n",
        "xyzq\n",
        "\n",
        "# 출력\n",
        "dcba\n",
        "bbbb\n",
        "qzyx\n",
        "```\n",
        "\n"
      ]
    },
    {
      "cell_type": "code",
      "metadata": {
        "id": "vHwNZUnaMcyD",
        "outputId": "f10fca32-1f22-475c-cae7-e1ab7d74969d",
        "colab": {
          "base_uri": "https://localhost:8080/"
        }
      },
      "source": [
        "# 입력 받기 / 숫자, 문장1, 문장2, 문장3\n",
        "k, v = input('행과 열 : ').split(' ')\n",
        "i_f = input('문장 1 : ')\n",
        "i_s = input('문장 2 : ')\n",
        "i_t = input('문장 3 : ')\n",
        "i_f = list(i_f)\n",
        "i_f.reverse()\n",
        "for i in i_f:\n",
        "    print(i, end='')\n",
        "print()\n",
        "\n",
        "i_s = list(i_s)\n",
        "i_s.reverse()\n",
        "for i in i_s:\n",
        "    print(i, end='')\n",
        "print()\n",
        "\n",
        "i_t = list(i_t)\n",
        "i_t.reverse()\n",
        "for i in i_t:\n",
        "    print(i, end='')\n",
        "print()"
      ],
      "execution_count": 23,
      "outputs": [
        {
          "output_type": "stream",
          "text": [
            "행과 열 : 3 4\n",
            "문장 1 : abcd\n",
            "문장 2 : efgh\n",
            "문장 3 : ishg\n",
            "dcba\n",
            "hgfe\n",
            "ghsi\n"
          ],
          "name": "stdout"
        }
      ]
    },
    {
      "cell_type": "code",
      "metadata": {
        "id": "-tPy4IkyQcVa"
      },
      "source": [
        "k, v = input().split(' ')\n",
        "i_list = []\n",
        "for i in range(int(k)):\n",
        "    i_f = input()\n",
        "    i_f = list(i_f)\n",
        "    i_f.reverse()\n",
        "    i_list.append(i_f)\n",
        "\n",
        "for ob in i_list:\n",
        "    for t in ob:\n",
        "        print(t, end='')\n",
        "    print()"
      ],
      "execution_count": null,
      "outputs": []
    },
    {
      "cell_type": "markdown",
      "metadata": {
        "id": "nT_W3zf1Xfat"
      },
      "source": [
        "# G문제 \n",
        "\n",
        "\n",
        "```\n",
        "첫 번째 줄에 테스트 케이스의 수를 나타내는 자연수 t가 입력된다. \n",
        "두 번째 줄부터 t줄에 걸쳐서 한 줄에 하나씩 테스트 케이스가 주어진다. \n",
        "각 테스트 케이스는 도어락 ID에 해당하는 a, b의 값이 공백으로 구분되어 입력된다.\n",
        "\n",
        "# 입력\n",
        "2\n",
        "10 10\n",
        "16 12\n",
        "\n",
        "# 출력\n",
        "4\n",
        "1 2 5 10\n",
        "3\n",
        "1 2 4\n",
        "```\n",
        "\n"
      ]
    },
    {
      "cell_type": "code",
      "metadata": {
        "id": "lDfbXNmAYOh_",
        "outputId": "d05abbdc-c78d-4767-b72b-4f3110943dec",
        "colab": {
          "base_uri": "https://localhost:8080/"
        }
      },
      "source": [
        "def solution(n, m):\n",
        "    #n의 약수\n",
        "    N = [i for i in range(1,n+1) if n%i==0]\n",
        "    M = [i for i in range(1,m+1) if m%i==0]\n",
        "\n",
        "    Max = max([i for i in N if i in M])\n",
        "    result = [i for i in range(1,Max + 1) if Max % i == 0]\n",
        "    answer = [len(result), result]\n",
        "    return answer\n",
        "\n",
        "solution(16, 12)"
      ],
      "execution_count": 28,
      "outputs": [
        {
          "output_type": "execute_result",
          "data": {
            "text/plain": [
              "[3, [1, 2, 4]]"
            ]
          },
          "metadata": {
            "tags": []
          },
          "execution_count": 28
        }
      ]
    },
    {
      "cell_type": "code",
      "metadata": {
        "id": "zb3tW2BqaMAJ",
        "outputId": "04ef3644-3612-4932-ec7a-4bf0e6f82786",
        "colab": {
          "base_uri": "https://localhost:8080/"
        }
      },
      "source": [
        "def solution(n, m):\n",
        "    #n의 약수\n",
        "    N = [i for i in range(1,n+1) if n%i==0]\n",
        "    M = [i for i in range(1,m+1) if m%i==0]\n",
        "\n",
        "    Max = max([i for i in N if i in M])\n",
        "    result = [i for i in range(1,Max + 1) if Max % i == 0]\n",
        "    print(len(result))\n",
        "    for k in result:\n",
        "        print(k, end=\" \")\n",
        "    print()\n",
        "\n",
        "k = int(input(\"횟수 : \"))\n",
        "\n",
        "for i in range(int(k)):\n",
        "    a, b = input(\"a, b : \").split(' ')\n",
        "    solution(int(a), int(b))\n",
        "\n"
      ],
      "execution_count": 36,
      "outputs": [
        {
          "output_type": "stream",
          "text": [
            "횟수 : 2\n",
            "a, b : 10 10\n",
            "4\n",
            "1 2 5 10 \n",
            "a, b : 16 12\n",
            "3\n",
            "1 2 4 \n"
          ],
          "name": "stdout"
        }
      ]
    },
    {
      "cell_type": "markdown",
      "metadata": {
        "id": "l9FEjgaeajZ_"
      },
      "source": [
        "# 코딩 연습장"
      ]
    },
    {
      "cell_type": "code",
      "metadata": {
        "id": "uE2j7OJsPW84",
        "outputId": "e7be1ef1-0342-40f9-c563-1464cd2102d3",
        "colab": {
          "base_uri": "https://localhost:8080/"
        }
      },
      "source": [
        "k, v = input('행과 열 : ').split(' ')\n",
        "print(k, v)"
      ],
      "execution_count": 17,
      "outputs": [
        {
          "output_type": "stream",
          "text": [
            "행과 열 : 4 5\n",
            "4 5\n"
          ],
          "name": "stdout"
        }
      ]
    },
    {
      "cell_type": "code",
      "metadata": {
        "id": "2eSG_ZtnOz-x",
        "outputId": "67c8f083-26b5-4cbc-b466-93ca3e844140",
        "colab": {
          "base_uri": "https://localhost:8080/"
        }
      },
      "source": [
        "i = 'a b'\n",
        "k = i.split(' ')\n",
        "type(k)"
      ],
      "execution_count": 14,
      "outputs": [
        {
          "output_type": "execute_result",
          "data": {
            "text/plain": [
              "list"
            ]
          },
          "metadata": {
            "tags": []
          },
          "execution_count": 14
        }
      ]
    },
    {
      "cell_type": "code",
      "metadata": {
        "id": "DoEX8iMDNLbf",
        "outputId": "e9b4c020-cf35-42a0-cec5-c29f0a08754b",
        "colab": {
          "base_uri": "https://localhost:8080/"
        }
      },
      "source": [
        "l = ['e', 'f', 'g']\n",
        "l.reverse()\n",
        "print(l)"
      ],
      "execution_count": 12,
      "outputs": [
        {
          "output_type": "stream",
          "text": [
            "['g', 'f', 'e']\n"
          ],
          "name": "stdout"
        }
      ]
    },
    {
      "cell_type": "code",
      "metadata": {
        "id": "9qD78c9_Nq8E"
      },
      "source": [
        "l.reverse()"
      ],
      "execution_count": 11,
      "outputs": []
    },
    {
      "cell_type": "code",
      "metadata": {
        "id": "_BNDK7h8cGm5",
        "outputId": "1b805341-8840-47a8-9e87-b354b27091b1",
        "colab": {
          "base_uri": "https://localhost:8080/"
        }
      },
      "source": [
        "# a의 숫자\n",
        "ord('A') % 122"
      ],
      "execution_count": null,
      "outputs": [
        {
          "output_type": "execute_result",
          "data": {
            "text/plain": [
              "97"
            ]
          },
          "metadata": {
            "tags": []
          },
          "execution_count": 20
        }
      ]
    },
    {
      "cell_type": "code",
      "metadata": {
        "id": "UM8dxyKYcnPO",
        "outputId": "4bec2792-abc8-44b4-f3f6-79d1baeea5dd",
        "colab": {
          "base_uri": "https://localhost:8080/"
        }
      },
      "source": [
        "(ord('z')-97 +2) % 25"
      ],
      "execution_count": null,
      "outputs": [
        {
          "output_type": "execute_result",
          "data": {
            "text/plain": [
              "2"
            ]
          },
          "metadata": {
            "tags": []
          },
          "execution_count": 32
        }
      ]
    },
    {
      "cell_type": "code",
      "metadata": {
        "id": "MORe0NtxdwDO",
        "outputId": "a243fc05-a1c6-4022-f970-c5b52d725ae0",
        "colab": {
          "base_uri": "https://localhost:8080/"
        }
      },
      "source": [
        "ord('A')"
      ],
      "execution_count": null,
      "outputs": [
        {
          "output_type": "execute_result",
          "data": {
            "text/plain": [
              "65"
            ]
          },
          "metadata": {
            "tags": []
          },
          "execution_count": 61
        }
      ]
    },
    {
      "cell_type": "code",
      "metadata": {
        "id": "Z2G2nKoccscU",
        "outputId": "274284d8-0a7f-4d93-ac01-43c91e73c544",
        "colab": {
          "base_uri": "https://localhost:8080/",
          "height": 71
        }
      },
      "source": [
        "n = input()\n",
        "i = input()\n",
        "after_2nd(n, i)"
      ],
      "execution_count": null,
      "outputs": [
        {
          "output_type": "stream",
          "text": [
            "3\n",
            "z\n"
          ],
          "name": "stdout"
        },
        {
          "output_type": "execute_result",
          "data": {
            "application/vnd.google.colaboratory.intrinsic+json": {
              "type": "string"
            },
            "text/plain": [
              "'c'"
            ]
          },
          "metadata": {
            "tags": []
          },
          "execution_count": 41
        }
      ]
    },
    {
      "cell_type": "code",
      "metadata": {
        "id": "C3i0mprbfKPB",
        "outputId": "105b00b1-4a8b-4d14-a96f-1c5f3fde2215",
        "colab": {
          "base_uri": "https://localhost:8080/",
          "height": 37
        }
      },
      "source": [
        "s = 'a'\n",
        "s.upper()"
      ],
      "execution_count": null,
      "outputs": [
        {
          "output_type": "execute_result",
          "data": {
            "application/vnd.google.colaboratory.intrinsic+json": {
              "type": "string"
            },
            "text/plain": [
              "'A'"
            ]
          },
          "metadata": {
            "tags": []
          },
          "execution_count": 60
        }
      ]
    },
    {
      "cell_type": "code",
      "metadata": {
        "id": "ikmDVEUvln8Q",
        "outputId": "fd2a770d-6808-48fa-c7df-2759cd1717cf",
        "colab": {
          "base_uri": "https://localhost:8080/"
        }
      },
      "source": [
        "\n",
        "print(input().upper())"
      ],
      "execution_count": null,
      "outputs": [
        {
          "output_type": "stream",
          "text": [
            "abcd\n",
            "ABCD\n"
          ],
          "name": "stdout"
        }
      ]
    },
    {
      "cell_type": "code",
      "metadata": {
        "id": "oArcOlqZmYyO"
      },
      "source": [
        ""
      ],
      "execution_count": null,
      "outputs": []
    }
  ]
}
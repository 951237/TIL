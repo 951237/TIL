{
  "nbformat": 4,
  "nbformat_minor": 0,
  "metadata": {
    "colab": {
      "name": "210612_수학_주사위 20번 돌렸을 때 나오는 숫자 결과.ipynb",
      "provenance": [],
      "authorship_tag": "ABX9TyM78E+yhitBKPgrveOD50u2",
      "include_colab_link": true
    },
    "kernelspec": {
      "name": "python3",
      "display_name": "Python 3"
    },
    "language_info": {
      "name": "python"
    }
  },
  "cells": [
    {
      "cell_type": "markdown",
      "metadata": {
        "id": "view-in-github",
        "colab_type": "text"
      },
      "source": [
        "<a href=\"https://colab.research.google.com/github/951237/TIL/blob/master/210612_%EC%88%98%ED%95%99_%EC%A3%BC%EC%82%AC%EC%9C%84_20%EB%B2%88_%EB%8F%8C%EB%A0%B8%EC%9D%84_%EB%95%8C_%EB%82%98%EC%98%A4%EB%8A%94_%EC%88%AB%EC%9E%90_%EA%B2%B0%EA%B3%BC.ipynb\" target=\"_parent\"><img src=\"https://colab.research.google.com/assets/colab-badge.svg\" alt=\"Open In Colab\"/></a>"
      ]
    },
    {
      "cell_type": "markdown",
      "metadata": {
        "id": "PRAUfoWI6YOT"
      },
      "source": [
        "### 주사위 굴려서 결과값 출력하기"
      ]
    },
    {
      "cell_type": "code",
      "metadata": {
        "id": "Tg6DZ0aT3SfN"
      },
      "source": [
        "# 주사위를 20번 굴린다\n",
        "# 나오는 숫자를 리스트에 모은다.\n",
        "# 리스트의 내용의 횟수를 출력"
      ],
      "execution_count": null,
      "outputs": []
    },
    {
      "cell_type": "code",
      "metadata": {
        "colab": {
          "base_uri": "https://localhost:8080/"
        },
        "id": "3pn8x57A3nja",
        "outputId": "70e1197c-a98d-4ed5-c022-9c26a80fcd19"
      },
      "source": [
        "import random\n",
        "result = []\n",
        "\n",
        "# 주사위 20번 굴리기\n",
        "for i in range(20):\n",
        "    d = random.randint(1,6)\n",
        "    result.append(d)\n",
        "count ={}\n",
        "\n",
        "\n",
        "for i in result:\n",
        "    try:count[i] += 1\n",
        "    except:count[i]=1\n",
        "print(count)"
      ],
      "execution_count": 39,
      "outputs": [
        {
          "output_type": "stream",
          "text": [
            "{4: 3, 1: 5, 6: 2, 2: 3, 3: 5, 5: 2}\n"
          ],
          "name": "stdout"
        }
      ]
    },
    {
      "cell_type": "markdown",
      "metadata": {
        "id": "7xRVNHd_6Tym"
      },
      "source": [
        "### 딕셔너리 정렬하기 "
      ]
    },
    {
      "cell_type": "code",
      "metadata": {
        "id": "vHnrMfxY3xcE"
      },
      "source": [
        "# 주사위 20번 : {4: 7, 2: 2, 5: 3, 1: 5, 6: 2, 3: 1}\n",
        "# 주사위 40번 : {3: 5, 1: 6, 6: 11, 5: 8, 2: 3, 4: 7}"
      ],
      "execution_count": null,
      "outputs": []
    },
    {
      "cell_type": "code",
      "metadata": {
        "colab": {
          "base_uri": "https://localhost:8080/"
        },
        "id": "V1jfkfEf5cwc",
        "outputId": "20fd3077-c7a0-48af-b86a-6578b136e3f7"
      },
      "source": [
        "lst_dict = [{4: 7, 2: 2, 5: 3, 1: 5, 6: 2, 3: 1}, {3: 5, 1: 6, 6: 11, 5: 8, 2: 3, 4: 7}]\n",
        "\n",
        "for i in lst_dict:\n",
        "    sdict = sorted(i.items())\n",
        "    print(sdict)"
      ],
      "execution_count": null,
      "outputs": [
        {
          "output_type": "stream",
          "text": [
            "[(1, 5), (2, 2), (3, 1), (4, 7), (5, 3), (6, 2)]\n",
            "[(1, 6), (2, 3), (3, 5), (4, 7), (5, 8), (6, 11)]\n"
          ],
          "name": "stdout"
        }
      ]
    },
    {
      "cell_type": "markdown",
      "metadata": {
        "id": "FE1SxCwIBEZM"
      },
      "source": [
        "### 판다스로 구현하기 \n",
        "- 딕셔너리 읽어오기\n",
        "- 시리즈 히스토그램으로 구현"
      ]
    },
    {
      "cell_type": "code",
      "metadata": {
        "id": "b0fPakAPBqyc"
      },
      "source": [
        "import pandas as pd"
      ],
      "execution_count": 23,
      "outputs": []
    },
    {
      "cell_type": "code",
      "metadata": {
        "colab": {
          "base_uri": "https://localhost:8080/",
          "height": 235
        },
        "id": "c7YGKwaYBtJe",
        "outputId": "a500fb67-51c6-4140-e5e5-3792df277125"
      },
      "source": [
        "list = [{4: 3, 1: 5, 6: 2, 2: 3, 3: 5, 5: 2},{3: 5, 1: 6, 6: 11, 5: 8, 2: 3, 4: 7}]\n",
        "df = pd.DataFrame(list, index=['20times', '40times'])\n"
      ],
      "execution_count": 44,
      "outputs": [
        {
          "output_type": "execute_result",
          "data": {
            "text/html": [
              "<div>\n",
              "<style scoped>\n",
              "    .dataframe tbody tr th:only-of-type {\n",
              "        vertical-align: middle;\n",
              "    }\n",
              "\n",
              "    .dataframe tbody tr th {\n",
              "        vertical-align: top;\n",
              "    }\n",
              "\n",
              "    .dataframe thead th {\n",
              "        text-align: right;\n",
              "    }\n",
              "</style>\n",
              "<table border=\"1\" class=\"dataframe\">\n",
              "  <thead>\n",
              "    <tr style=\"text-align: right;\">\n",
              "      <th></th>\n",
              "      <th>20times</th>\n",
              "      <th>40times</th>\n",
              "    </tr>\n",
              "  </thead>\n",
              "  <tbody>\n",
              "    <tr>\n",
              "      <th>4</th>\n",
              "      <td>3</td>\n",
              "      <td>7</td>\n",
              "    </tr>\n",
              "    <tr>\n",
              "      <th>1</th>\n",
              "      <td>5</td>\n",
              "      <td>6</td>\n",
              "    </tr>\n",
              "    <tr>\n",
              "      <th>6</th>\n",
              "      <td>2</td>\n",
              "      <td>11</td>\n",
              "    </tr>\n",
              "    <tr>\n",
              "      <th>2</th>\n",
              "      <td>3</td>\n",
              "      <td>3</td>\n",
              "    </tr>\n",
              "    <tr>\n",
              "      <th>3</th>\n",
              "      <td>5</td>\n",
              "      <td>5</td>\n",
              "    </tr>\n",
              "    <tr>\n",
              "      <th>5</th>\n",
              "      <td>2</td>\n",
              "      <td>8</td>\n",
              "    </tr>\n",
              "  </tbody>\n",
              "</table>\n",
              "</div>"
            ],
            "text/plain": [
              "   20times  40times\n",
              "4        3        7\n",
              "1        5        6\n",
              "6        2       11\n",
              "2        3        3\n",
              "3        5        5\n",
              "5        2        8"
            ]
          },
          "metadata": {
            "tags": []
          },
          "execution_count": 44
        }
      ]
    },
    {
      "cell_type": "code",
      "metadata": {
        "colab": {
          "base_uri": "https://localhost:8080/",
          "height": 313
        },
        "id": "L-cI9WPvEZQZ",
        "outputId": "452b7d5e-028d-43e7-9573-0ac49b93a0d5"
      },
      "source": [
        "# 데이터 프레임 행렬 바꾸기\n",
        "df = df.transpose()\n",
        "# 데이터 프레임 그래프 그리기\n",
        "ax = df.plot(kind='bar', title='dice', figsize=(12, 4), legend=True, fontsize=12)\n",
        "ax.set_xlabel('dice_num', fontsize=12)          # x축 정보 표시\n",
        "ax.set_ylabel('times', fontsize=12)     # y축 정보 표시\n",
        "ax.legend(['20times', '40times'], fontsize=12)    # 범례 지정"
      ],
      "execution_count": 45,
      "outputs": [
        {
          "output_type": "execute_result",
          "data": {
            "text/plain": [
              "<matplotlib.legend.Legend at 0x7f177df9ed50>"
            ]
          },
          "metadata": {
            "tags": []
          },
          "execution_count": 45
        },
        {
          "output_type": "display_data",
          "data": {
            "image/png": "[encoded data removed]",
            "text/plain": [
              "<Figure size 864x288 with 1 Axes>"
            ]
          },
          "metadata": {
            "tags": [],
            "needs_background": "light"
          }
        }
      ]
    },
    {
      "cell_type": "code",
      "metadata": {
        "id": "9MfbwksKB1Hy"
      },
      "source": [
        ""
      ],
      "execution_count": null,
      "outputs": []
    }
  ]
}
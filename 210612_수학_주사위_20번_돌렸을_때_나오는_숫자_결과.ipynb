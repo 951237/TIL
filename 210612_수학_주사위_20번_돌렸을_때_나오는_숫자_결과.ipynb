{
  "nbformat": 4,
  "nbformat_minor": 0,
  "metadata": {
    "colab": {
      "name": "210612_수학_주사위 20번 돌렸을 때 나오는 숫자 결과.ipynb",
      "provenance": [],
      "authorship_tag": "ABX9TyMBYE64IoVz+m8Wy4MEtyAz",
      "include_colab_link": true
    },
    "kernelspec": {
      "name": "python3",
      "display_name": "Python 3"
    },
    "language_info": {
      "name": "python"
    }
  },
  "cells": [
    {
      "cell_type": "markdown",
      "metadata": {
        "id": "view-in-github",
        "colab_type": "text"
      },
      "source": [
        "<a href=\"https://colab.research.google.com/github/951237/TIL/blob/master/210612_%EC%88%98%ED%95%99_%EC%A3%BC%EC%82%AC%EC%9C%84_20%EB%B2%88_%EB%8F%8C%EB%A0%B8%EC%9D%84_%EB%95%8C_%EB%82%98%EC%98%A4%EB%8A%94_%EC%88%AB%EC%9E%90_%EA%B2%B0%EA%B3%BC.ipynb\" target=\"_parent\"><img src=\"https://colab.research.google.com/assets/colab-badge.svg\" alt=\"Open In Colab\"/></a>"
      ]
    },
    {
      "cell_type": "markdown",
      "metadata": {
        "id": "PRAUfoWI6YOT"
      },
      "source": [
        "### 주사위 굴려서 결과값 출력하기"
      ]
    },
    {
      "cell_type": "code",
      "metadata": {
        "id": "Tg6DZ0aT3SfN"
      },
      "source": [
        "# 주사위를 20번 굴린다\n",
        "# 나오는 숫자를 리스트에 모은다.\n",
        "# 리스트의 내용의 횟수를 출력"
      ],
      "execution_count": 1,
      "outputs": []
    },
    {
      "cell_type": "code",
      "metadata": {
        "colab": {
          "base_uri": "https://localhost:8080/"
        },
        "id": "3pn8x57A3nja",
        "outputId": "2181d087-e80c-4905-c5b5-73e3b077da30"
      },
      "source": [
        "import random\n",
        "result = []\n",
        "\n",
        "# 주사위 20번 굴리기\n",
        "for i in range(40):\n",
        "    d = random.randint(1,6)\n",
        "    result.append(d)\n",
        "count ={}\n",
        "\n",
        "\n",
        "for i in result:\n",
        "    try:count[i] += 1\n",
        "    except:count[i]=1\n",
        "print(count)"
      ],
      "execution_count": 12,
      "outputs": [
        {
          "output_type": "stream",
          "text": [
            "{3: 5, 1: 6, 6: 11, 5: 8, 2: 3, 4: 7}\n"
          ],
          "name": "stdout"
        }
      ]
    },
    {
      "cell_type": "markdown",
      "metadata": {
        "id": "7xRVNHd_6Tym"
      },
      "source": [
        "### 딕셔너리 정렬하기 "
      ]
    },
    {
      "cell_type": "code",
      "metadata": {
        "id": "vHnrMfxY3xcE"
      },
      "source": [
        "# 주사위 20번 : {4: 7, 2: 2, 5: 3, 1: 5, 6: 2, 3: 1}\n",
        "# 주사위 40번 : {3: 5, 1: 6, 6: 11, 5: 8, 2: 3, 4: 7}"
      ],
      "execution_count": null,
      "outputs": []
    },
    {
      "cell_type": "code",
      "metadata": {
        "colab": {
          "base_uri": "https://localhost:8080/"
        },
        "id": "V1jfkfEf5cwc",
        "outputId": "20fd3077-c7a0-48af-b86a-6578b136e3f7"
      },
      "source": [
        "lst_dict = [{4: 7, 2: 2, 5: 3, 1: 5, 6: 2, 3: 1}, {3: 5, 1: 6, 6: 11, 5: 8, 2: 3, 4: 7}]\n",
        "\n",
        "for i in lst_dict:\n",
        "    sdict = sorted(i.items())\n",
        "    print(sdict)"
      ],
      "execution_count": 16,
      "outputs": [
        {
          "output_type": "stream",
          "text": [
            "[(1, 5), (2, 2), (3, 1), (4, 7), (5, 3), (6, 2)]\n",
            "[(1, 6), (2, 3), (3, 5), (4, 7), (5, 8), (6, 11)]\n"
          ],
          "name": "stdout"
        }
      ]
    }
  ]
}
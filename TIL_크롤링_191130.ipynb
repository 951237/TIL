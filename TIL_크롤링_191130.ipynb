{
  "nbformat": 4,
  "nbformat_minor": 0,
  "metadata": {
    "colab": {
      "name": "TIL 크롤링_191130.ipynb",
      "provenance": [],
      "toc_visible": true,
      "include_colab_link": true
    },
    "kernelspec": {
      "name": "python3",
      "display_name": "Python 3"
    }
  },
  "cells": [
    {
      "cell_type": "markdown",
      "metadata": {
        "id": "view-in-github",
        "colab_type": "text"
      },
      "source": [
        "<a href=\"https://colab.research.google.com/github/951237/TIL/blob/master/TIL_%ED%81%AC%EB%A1%A4%EB%A7%81_191130.ipynb\" target=\"_parent\"><img src=\"https://colab.research.google.com/assets/colab-badge.svg\" alt=\"Open In Colab\"/></a>"
      ]
    },
    {
      "cell_type": "markdown",
      "metadata": {
        "id": "ZcTVKQTiJc-m",
        "colab_type": "text"
      },
      "source": [
        "# 파이선으로 크롤링하기 "
      ]
    },
    {
      "cell_type": "markdown",
      "metadata": {
        "id": "wm6Xnj7NJhrJ",
        "colab_type": "text"
      },
      "source": [
        "## 기초작업"
      ]
    },
    {
      "cell_type": "markdown",
      "metadata": {
        "id": "SQhPT6w2Jovo",
        "colab_type": "text"
      },
      "source": [
        "### 라이브러리 불러오기"
      ]
    },
    {
      "cell_type": "code",
      "metadata": {
        "id": "XixvdNLQ1XbZ",
        "colab_type": "code",
        "colab": {}
      },
      "source": [
        "import urllib.request\n",
        "import urllib.parse\n",
        "from bs4 import BeautifulSoup\n",
        "import pandas as pd\n",
        "from google.colab import files"
      ],
      "execution_count": 0,
      "outputs": []
    },
    {
      "cell_type": "markdown",
      "metadata": {
        "colab_type": "text",
        "id": "JQpGoQaSJ4Y5"
      },
      "source": [
        "## 과제수행하기"
      ]
    },
    {
      "cell_type": "markdown",
      "metadata": {
        "colab_type": "text",
        "id": "DKE0XzdfKEYX"
      },
      "source": [
        "### 191130_네이버 블로그 검색결과 크롤링 - 1차 : 순차 #191130 \n",
        "- url 설정하기\n",
        "- html 불러오기 및 파싱\n",
        "- 원하는 부분 추출하기"
      ]
    },
    {
      "cell_type": "markdown",
      "metadata": {
        "id": "OFUcjHTsJ_lw",
        "colab_type": "text"
      },
      "source": [
        "#### URL 설정하기"
      ]
    },
    {
      "cell_type": "code",
      "metadata": {
        "id": "OJ0kEWvL1kPs",
        "colab_type": "code",
        "colab": {}
      },
      "source": [
        "url = 'https://search.naver.com/search.naver?where=post&sm=tab_jum&query=%ED%8C%8C%EC%9D%B4%EC%8D%AC'"
      ],
      "execution_count": 0,
      "outputs": []
    },
    {
      "cell_type": "markdown",
      "metadata": {
        "id": "NMntFEzOKIKZ",
        "colab_type": "text"
      },
      "source": [
        "#### HTML 불러오기 및 파싱하기"
      ]
    },
    {
      "cell_type": "code",
      "metadata": {
        "id": "0u_myNPa1vid",
        "colab_type": "code",
        "colab": {}
      },
      "source": [
        "html = urllib.request.urlopen(url).read()\n",
        "soup = BeautifulSoup(html, 'html.parser')"
      ],
      "execution_count": 0,
      "outputs": []
    },
    {
      "cell_type": "markdown",
      "metadata": {
        "id": "CeIur8naKPpP",
        "colab_type": "text"
      },
      "source": [
        "#### 검색 결과 클래스 찾기"
      ]
    },
    {
      "cell_type": "code",
      "metadata": {
        "id": "KtGhxsLR2KE3",
        "colab_type": "code",
        "colab": {}
      },
      "source": [
        "titles = soup.find_all(class_= 'sh_blog_title _sp_each_url _sp_each_title')"
      ],
      "execution_count": 0,
      "outputs": []
    },
    {
      "cell_type": "markdown",
      "metadata": {
        "id": "QlAQD37SKnH1",
        "colab_type": "text"
      },
      "source": [
        "#### 반복문으로 타이틀과 링크 추출"
      ]
    },
    {
      "cell_type": "code",
      "metadata": {
        "id": "00CrWop32eWY",
        "colab_type": "code",
        "colab": {
          "base_uri": "https://localhost:8080/",
          "height": 527
        },
        "outputId": "8658c04b-7335-43ad-de81-0fba7123071c"
      },
      "source": [
        "for title in titles:\n",
        "    print(title.attrs['title'])\n",
        "    print(title.attrs['href'])\n",
        "    print()"
      ],
      "execution_count": 5,
      "outputs": [
        {
          "output_type": "stream",
          "text": [
            "파이썬학원 답은 하나다!\n",
            "https://blog.naver.com/nr_yeon?Redirect=Log&logNo=221707634731\n",
            "\n",
            "파이썬 : Pygame으로 Ping Pong 게임 만들기 따라하기\n",
            "https://cosmosjs.blog.me/221719238699\n",
            "\n",
            "파이썬 프로그래밍 - 개발 범위\n",
            "https://blog.naver.com/urmyver?Redirect=Log&logNo=221670828962\n",
            "\n",
            "한권으로 끝내는 파이썬 - 독학으로 Python 프로그램 코딩 공부하기\n",
            "https://blog.naver.com/since201109?Redirect=Log&logNo=221553965961\n",
            "\n",
            "일취월장 파이썬 학원 달라진 경험!\n",
            "https://blog.naver.com/redrock27?Redirect=Log&logNo=221700209048\n",
            "\n",
            "코랩(Colab)을 이용하여 파이썬 공부와 머신러닝 공부를 해요!~\n",
            "https://chogar.blog.me/221665985078\n",
            "\n",
            "파이썬학원 기초 문법부터 심화까지 1달완성 교육기관!\n",
            "https://blog.naver.com/ridesafe?Redirect=Log&logNo=221643768938\n",
            "\n",
            "[python]파이썬/GUI/tkinter/앱/계산기(1단계)\n",
            "https://blog.naver.com/scyan2011?Redirect=Log&logNo=221721102297\n",
            "\n",
            "파이썬 독학, 혼자 공부하면 어디까지 가능할까?\n",
            "https://blog.naver.com/designer_dh?Redirect=Log&logNo=221719131980\n",
            "\n",
            "왕초보자를 위한 파이썬: 히스토그램 그리기(2)\n",
            "https://blog.naver.com/cni1577?Redirect=Log&logNo=221717837089\n",
            "\n"
          ],
          "name": "stdout"
        }
      ]
    },
    {
      "cell_type": "markdown",
      "metadata": {
        "id": "cXBkebDnJShL",
        "colab_type": "text"
      },
      "source": [
        "### 191130_네이버 블로그 검색결과 크롤링 - 2차 : 입력값 받기"
      ]
    },
    {
      "cell_type": "markdown",
      "metadata": {
        "id": "8DQXI6AmLgC9",
        "colab_type": "text"
      },
      "source": [
        "#### URL 설정하기 : 입력값 받아서 url 완성하기\n",
        "- 베이스 url 설정하기\n",
        "- 한글입력값을 아스키코드로 변화하기"
      ]
    },
    {
      "cell_type": "code",
      "metadata": {
        "id": "AiD7NTZrLljV",
        "colab_type": "code",
        "colab": {
          "base_uri": "https://localhost:8080/",
          "height": 34
        },
        "outputId": "8144667f-d96e-4355-b1b7-e966a3de046b"
      },
      "source": [
        "url = 'https://search.naver.com/search.naver?where=post&sm=tab_jum&query='\n",
        "v_input = urllib.parse.quote_plus(input('주인님, 검색어를 입력하세요 : '))"
      ],
      "execution_count": 6,
      "outputs": [
        {
          "output_type": "stream",
          "text": [
            "주인님, 검색어를 입력하세요 : 감자\n"
          ],
          "name": "stdout"
        }
      ]
    },
    {
      "cell_type": "markdown",
      "metadata": {
        "id": "5Byh_AXMNuds",
        "colab_type": "text"
      },
      "source": [
        "#### html 소스불러오기 및 뷰티플 솦으로 변환"
      ]
    },
    {
      "cell_type": "code",
      "metadata": {
        "id": "g4GYrJ-kL49Q",
        "colab_type": "code",
        "colab": {}
      },
      "source": [
        "html = urllib.request.urlopen('{},{}'.format(url,v_input)).read()\n",
        "soup = BeautifulSoup(html, 'html.parser')"
      ],
      "execution_count": 0,
      "outputs": []
    },
    {
      "cell_type": "markdown",
      "metadata": {
        "id": "Kj8ELMe9N06e",
        "colab_type": "text"
      },
      "source": [
        "#### 원하는 정보 찾기"
      ]
    },
    {
      "cell_type": "code",
      "metadata": {
        "id": "_joG_3-6NdzC",
        "colab_type": "code",
        "colab": {}
      },
      "source": [
        "titles = soup.find_all(class_='sh_blog_title _sp_each_url _sp_each_title')"
      ],
      "execution_count": 0,
      "outputs": []
    },
    {
      "cell_type": "markdown",
      "metadata": {
        "id": "Lxd8-W2TO7mW",
        "colab_type": "text"
      },
      "source": [
        "##### 화면에 출력하기"
      ]
    },
    {
      "cell_type": "code",
      "metadata": {
        "id": "XQlQ2lGZMLe2",
        "colab_type": "code",
        "colab": {
          "base_uri": "https://localhost:8080/",
          "height": 357
        },
        "outputId": "0a68667d-6b29-4887-d4d0-82e3b7271f4b"
      },
      "source": [
        "for title in titles:\n",
        "    print(title.attrs['title'])\n",
        "    print(title.attrs['href'])"
      ],
      "execution_count": 9,
      "outputs": [
        {
          "output_type": "stream",
          "text": [
            "건강에 도움되는 자색돼지감자\n",
            "https://blog.naver.com/bluec927?Redirect=Log&logNo=221718816775\n",
            "초기이유식 감자소고기 미음\n",
            "https://tnwls0405.blog.me/221719818393\n",
            "포테이토 피자 만들기 리얼 감자 도우입니다\n",
            "https://leeeuncom.blog.me/221720180979\n",
            "감자샐러드 샌드위치 만드는 법\n",
            "https://peace8012.blog.me/221700137095\n",
            "감자샐러드빵 만드는법 사라다빵\n",
            "https://blog.naver.com/cooklhj?Redirect=Log&logNo=221631972148\n",
            "강원도 속초 명물 감나무집 감자 옹심이\n",
            "https://blog.naver.com/ajung8904?Redirect=Log&logNo=221710060350\n",
            "오랜만에 간식 - 감자샐러드\n",
            "https://blog.naver.com/s_zan?Redirect=Log&logNo=221720311553\n",
            "수제비 감자수제비 쫄깃하게 만드는 법\n",
            "https://blog.naver.com/soso7869?Redirect=Log&logNo=221678516836\n",
            "건강 챙기는 돼지감자 효능\n",
            "https://blog.naver.com/miukitchen?Redirect=Log&logNo=221720933781\n",
            "초기이유식 (2) - 감자미음, 고구마미음\n",
            "https://blog.naver.com/dnwjd1?Redirect=Log&logNo=221715983698\n"
          ],
          "name": "stdout"
        }
      ]
    },
    {
      "cell_type": "markdown",
      "metadata": {
        "id": "WCjV1KZKO_iA",
        "colab_type": "text"
      },
      "source": [
        "##### 원하는 정보 딕셔너리로 저장하기"
      ]
    },
    {
      "cell_type": "code",
      "metadata": {
        "id": "8F5M3M7IOF5U",
        "colab_type": "code",
        "colab": {
          "base_uri": "https://localhost:8080/",
          "height": 241
        },
        "outputId": "9762ef07-85bc-4eab-c069-8b13f22648ef"
      },
      "source": [
        "result = []\n",
        "for title in titles:\n",
        "    lst_temp = {}\n",
        "    name = title.attrs['title']\n",
        "    herf = title.attrs['href']\n",
        "    lst_temp = {'name' : name, 'href' : herf}\n",
        "    print(lst_temp)\n",
        "    result.append(lst_temp)\n",
        "print(result)\n"
      ],
      "execution_count": 21,
      "outputs": [
        {
          "output_type": "stream",
          "text": [
            "<class 'list'>\n",
            "{'name': '건강에 도움되는 자색돼지감자', 'href': 'https://blog.naver.com/bluec927?Redirect=Log&logNo=221718816775'}\n",
            "{'name': '초기이유식 감자소고기 미음', 'href': 'https://tnwls0405.blog.me/221719818393'}\n",
            "{'name': '포테이토 피자 만들기 리얼 감자 도우입니다', 'href': 'https://leeeuncom.blog.me/221720180979'}\n",
            "{'name': '감자샐러드 샌드위치 만드는 법', 'href': 'https://peace8012.blog.me/221700137095'}\n",
            "{'name': '감자샐러드빵 만드는법 사라다빵', 'href': 'https://blog.naver.com/cooklhj?Redirect=Log&logNo=221631972148'}\n",
            "{'name': '강원도 속초 명물 감나무집 감자 옹심이', 'href': 'https://blog.naver.com/ajung8904?Redirect=Log&logNo=221710060350'}\n",
            "{'name': '오랜만에 간식 - 감자샐러드', 'href': 'https://blog.naver.com/s_zan?Redirect=Log&logNo=221720311553'}\n",
            "{'name': '수제비 감자수제비 쫄깃하게 만드는 법', 'href': 'https://blog.naver.com/soso7869?Redirect=Log&logNo=221678516836'}\n",
            "{'name': '건강 챙기는 돼지감자 효능', 'href': 'https://blog.naver.com/miukitchen?Redirect=Log&logNo=221720933781'}\n",
            "{'name': '초기이유식 (2) - 감자미음, 고구마미음', 'href': 'https://blog.naver.com/dnwjd1?Redirect=Log&logNo=221715983698'}\n",
            "[{'name': '건강에 도움되는 자색돼지감자', 'href': 'https://blog.naver.com/bluec927?Redirect=Log&logNo=221718816775'}, {'name': '초기이유식 감자소고기 미음', 'href': 'https://tnwls0405.blog.me/221719818393'}, {'name': '포테이토 피자 만들기 리얼 감자 도우입니다', 'href': 'https://leeeuncom.blog.me/221720180979'}, {'name': '감자샐러드 샌드위치 만드는 법', 'href': 'https://peace8012.blog.me/221700137095'}, {'name': '감자샐러드빵 만드는법 사라다빵', 'href': 'https://blog.naver.com/cooklhj?Redirect=Log&logNo=221631972148'}, {'name': '강원도 속초 명물 감나무집 감자 옹심이', 'href': 'https://blog.naver.com/ajung8904?Redirect=Log&logNo=221710060350'}, {'name': '오랜만에 간식 - 감자샐러드', 'href': 'https://blog.naver.com/s_zan?Redirect=Log&logNo=221720311553'}, {'name': '수제비 감자수제비 쫄깃하게 만드는 법', 'href': 'https://blog.naver.com/soso7869?Redirect=Log&logNo=221678516836'}, {'name': '건강 챙기는 돼지감자 효능', 'href': 'https://blog.naver.com/miukitchen?Redirect=Log&logNo=221720933781'}, {'name': '초기이유식 (2) - 감자미음, 고구마미음', 'href': 'https://blog.naver.com/dnwjd1?Redirect=Log&logNo=221715983698'}]\n"
          ],
          "name": "stdout"
        }
      ]
    },
    {
      "cell_type": "markdown",
      "metadata": {
        "id": "_dNUAcQUQ30p",
        "colab_type": "text"
      },
      "source": [
        "### 191130 네이버 블로그 검색결과 크롤링 - 3차 : 리팩토링"
      ]
    },
    {
      "cell_type": "markdown",
      "metadata": {
        "id": "g8D0Y8bFRxE4",
        "colab_type": "text"
      },
      "source": [
        "#### 라이브러리 불러오기"
      ]
    },
    {
      "cell_type": "code",
      "metadata": {
        "id": "tCDiBZWnRXrq",
        "colab_type": "code",
        "colab": {}
      },
      "source": [
        "import urllib.request\n",
        "from urllib.parse import quote_plus\n",
        "from bs4 import BeautifulSoup"
      ],
      "execution_count": 0,
      "outputs": []
    },
    {
      "cell_type": "markdown",
      "metadata": {
        "id": "YGciFkwdR3Tu",
        "colab_type": "text"
      },
      "source": [
        "#### URL 만들기"
      ]
    },
    {
      "cell_type": "code",
      "metadata": {
        "id": "Ju6BSlpeR1Da",
        "colab_type": "code",
        "colab": {
          "base_uri": "https://localhost:8080/",
          "height": 51
        },
        "outputId": "038b5038-2314-4d62-8771-dbdc7c37b92f"
      },
      "source": [
        "baseurl = 'https://search.naver.com/search.naver?where=post&sm=tab_jum&query='\n",
        "v_input = input('주인님, 검색어를 입력하세요 : ')\n",
        "url = '{}{}'.format(baseurl, quote_plus(v_input))\n",
        "print(url)"
      ],
      "execution_count": 66,
      "outputs": [
        {
          "output_type": "stream",
          "text": [
            "주인님, 검색어를 입력하세요 : 고구마\n",
            "https://search.naver.com/search.naver?where=post&sm=tab_jum&query=%EA%B3%A0%EA%B5%AC%EB%A7%88\n"
          ],
          "name": "stdout"
        }
      ]
    },
    {
      "cell_type": "markdown",
      "metadata": {
        "id": "PpQWYE0MSK5t",
        "colab_type": "text"
      },
      "source": [
        "#### 함수만들기"
      ]
    },
    {
      "cell_type": "markdown",
      "metadata": {
        "id": "zijNT8pXSN7p",
        "colab_type": "text"
      },
      "source": [
        "##### html받아서 soup 리턴"
      ]
    },
    {
      "cell_type": "code",
      "metadata": {
        "id": "jQA-lfmoSGYL",
        "colab_type": "code",
        "colab": {}
      },
      "source": [
        "def make_soup(url):\n",
        "    html = urllib.request.urlopen(url).read()\n",
        "    soup = BeautifulSoup(html, 'html.parser')\n",
        "    titles = soup.find_all(class_='sh_blog_title _sp_each_url _sp_each_title')\n",
        "    return titles"
      ],
      "execution_count": 0,
      "outputs": []
    },
    {
      "cell_type": "markdown",
      "metadata": {
        "id": "jr2hLTHFfkfv",
        "colab_type": "text"
      },
      "source": [
        "##### 검색결과 제목과 링크 추출하기"
      ]
    },
    {
      "cell_type": "code",
      "metadata": {
        "id": "KdSt9QdNYeh-",
        "colab_type": "code",
        "colab": {}
      },
      "source": [
        "def get_info(item):\n",
        "    name = item.attrs['title']\n",
        "    href = item.attrs['href']\n",
        "    return {'name' : name, 'href' : href}"
      ],
      "execution_count": 0,
      "outputs": []
    },
    {
      "cell_type": "markdown",
      "metadata": {
        "id": "_FF7b7jIhYjD",
        "colab_type": "text"
      },
      "source": [
        "##### 검색결과 화면 출력하기"
      ]
    },
    {
      "cell_type": "code",
      "metadata": {
        "id": "nlHwcX8lSoOO",
        "colab_type": "code",
        "colab": {
          "base_uri": "https://localhost:8080/",
          "height": 224
        },
        "outputId": "7e09d850-e577-41b9-bfb8-8e1c5b3a6f73"
      },
      "source": [
        "soup = make_soup(url)\n",
        "result = []\n",
        "for i in soup:\n",
        "    result_search = get_info(i)\n",
        "    print('{}, {}'.format(result_search['name'], result_search['href']))\n",
        "    result.append(result_search)\n",
        "print(result)"
      ],
      "execution_count": 80,
      "outputs": [
        {
          "output_type": "stream",
          "text": [
            "집에서 고구마 키우기, 드디어 수확! with 프로개 님, http://pukioz.com/221720197855\n",
            "고구마 효능 알고 먹어요~~, https://blog.naver.com/zkdlstkfkd?Redirect=Log&logNo=221719577809\n",
            "고구마큐브, 닭가슴살 빅볼 | 아임웰, 아임닭, https://bigchovy.blog.me/221722426078\n",
            "햇 고구마 보관방법 + 오븐에 굽는 온도와 시간, https://kika4865.blog.me/221715097602\n",
            "해남꿀고구마 판매 하길래 선이네 에서 구입, https://ssdria.blog.me/221722500815\n",
            "고구마조림, 설탕대신 건강하고 맛있게 만드는법, https://blog.naver.com/loveis8199?Redirect=Log&logNo=221719051559\n",
            "고구마보관법 찌기 맛있게 하는 방법 오래오래 먹을 수 있어요, https://blog.naver.com/cmsqwqw?Redirect=Log&logNo=221722125876\n",
            "소프트 쿠키~ 고구마 쿠키 만드는법, https://blog.naver.com/lafleur7?Redirect=Log&logNo=221723168529\n",
            "538-549 days : : 18개월진입, 발달상황, 고구마홀릭, 새장난감들 정비중ㅋㅋ, 별일없는 육아일상 :), https://blog.naver.com/hunjy87?Redirect=Log&logNo=221722238914\n",
            "고구마 카레 맛있게 만드는법, https://blog.naver.com/bongs1021?Redirect=Log&logNo=221714347012\n",
            "[{'name': '집에서 고구마 키우기, 드디어 수확! with 프로개 님', 'href': 'http://pukioz.com/221720197855'}, {'name': '고구마 효능 알고 먹어요~~', 'href': 'https://blog.naver.com/zkdlstkfkd?Redirect=Log&logNo=221719577809'}, {'name': '고구마큐브, 닭가슴살 빅볼 | 아임웰, 아임닭', 'href': 'https://bigchovy.blog.me/221722426078'}, {'name': '햇 고구마 보관방법 + 오븐에 굽는 온도와 시간', 'href': 'https://kika4865.blog.me/221715097602'}, {'name': '해남꿀고구마 판매 하길래 선이네 에서 구입', 'href': 'https://ssdria.blog.me/221722500815'}, {'name': '고구마조림, 설탕대신 건강하고 맛있게 만드는법', 'href': 'https://blog.naver.com/loveis8199?Redirect=Log&logNo=221719051559'}, {'name': '고구마보관법 찌기 맛있게 하는 방법 오래오래 먹을 수 있어요', 'href': 'https://blog.naver.com/cmsqwqw?Redirect=Log&logNo=221722125876'}, {'name': '소프트 쿠키~ 고구마 쿠키 만드는법', 'href': 'https://blog.naver.com/lafleur7?Redirect=Log&logNo=221723168529'}, {'name': '538-549 days : : 18개월진입, 발달상황, 고구마홀릭, 새장난감들 정비중ㅋㅋ, 별일없는 육아일상 :)', 'href': 'https://blog.naver.com/hunjy87?Redirect=Log&logNo=221722238914'}, {'name': '고구마 카레 맛있게 만드는법', 'href': 'https://blog.naver.com/bongs1021?Redirect=Log&logNo=221714347012'}]\n"
          ],
          "name": "stdout"
        }
      ]
    },
    {
      "cell_type": "markdown",
      "metadata": {
        "id": "nFuYyJcKhf92",
        "colab_type": "text"
      },
      "source": [
        "##### 검색결과 csv 파일로 저장하기"
      ]
    },
    {
      "cell_type": "code",
      "metadata": {
        "id": "X5BV4XVXhlGq",
        "colab_type": "code",
        "colab": {}
      },
      "source": [
        "df_result = pd.DataFrame(result) #데이터 프레임 만들기\n",
        "df_result.to_csv('result.csv') # csv파일로 만들기"
      ],
      "execution_count": 0,
      "outputs": []
    },
    {
      "cell_type": "markdown",
      "metadata": {
        "id": "6-EzJS30laTX",
        "colab_type": "text"
      },
      "source": [
        "##### CSV파일 다운로드"
      ]
    },
    {
      "cell_type": "code",
      "metadata": {
        "id": "3FpI7eDIjacD",
        "colab_type": "code",
        "colab": {}
      },
      "source": [
        "files.download('result.csv')"
      ],
      "execution_count": 0,
      "outputs": []
    },
    {
      "cell_type": "markdown",
      "metadata": {
        "id": "VGxg1dQghDx8",
        "colab_type": "text"
      },
      "source": [
        "### 191130 네이버 블로그 검색결과 크롤링 - 4차 : 5페이지 검색결과 저장하기"
      ]
    },
    {
      "cell_type": "markdown",
      "metadata": {
        "id": "UUPEao1jSsbz",
        "colab_type": "text"
      },
      "source": [
        "- 1페이지 : https://search.naver.com/search.naver?date_from=&date_option=0&date_to=&dup_remove=1&nso=&post_blogurl=&post_blogurl_without=&query=%EA%B0%90%EC%9E%90&sm=tab_pge&srchby=all&st=sim&where=post&start=1\n",
        "- 2페이지 : https://search.naver.com/search.naver?date_from=&date_option=0&date_to=&dup_remove=1&nso=&post_blogurl=&post_blogurl_without=&query=%EA%B0%90%EC%9E%90&sm=tab_pge&srchby=all&st=sim&where=post&start=11\n",
        "- 3페이지 : https://search.naver.com/search.naver?date_from=&date_option=0&date_to=&dup_remove=1&nso=&post_blogurl=&post_blogurl_without=&query=%EA%B0%90%EC%9E%90&sm=tab_pge&srchby=all&st=sim&where=post&start=21"
      ]
    }
  ]
}
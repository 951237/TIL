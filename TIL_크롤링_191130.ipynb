{
  "nbformat": 4,
  "nbformat_minor": 0,
  "metadata": {
    "colab": {
      "name": "TIL 크롤링_191130.ipynb",
      "provenance": [],
      "collapsed_sections": [
        "JQpGoQaSJ4Y5",
        "DKE0XzdfKEYX",
        "cXBkebDnJShL",
        "_dNUAcQUQ30p"
      ],
      "toc_visible": true,
      "include_colab_link": true
    },
    "kernelspec": {
      "name": "python3",
      "display_name": "Python 3"
    }
  },
  "cells": [
    {
      "cell_type": "markdown",
      "metadata": {
        "id": "view-in-github",
        "colab_type": "text"
      },
      "source": [
        "<a href=\"https://colab.research.google.com/github/951237/TIL/blob/master/TIL_%ED%81%AC%EB%A1%A4%EB%A7%81_191130.ipynb\" target=\"_parent\"><img src=\"https://colab.research.google.com/assets/colab-badge.svg\" alt=\"Open In Colab\"/></a>"
      ]
    },
    {
      "cell_type": "markdown",
      "metadata": {
        "id": "ZcTVKQTiJc-m",
        "colab_type": "text"
      },
      "source": [
        "# 파이선으로 크롤링하기 "
      ]
    },
    {
      "cell_type": "markdown",
      "metadata": {
        "id": "wm6Xnj7NJhrJ",
        "colab_type": "text"
      },
      "source": [
        "## 기초작업"
      ]
    },
    {
      "cell_type": "markdown",
      "metadata": {
        "id": "SQhPT6w2Jovo",
        "colab_type": "text"
      },
      "source": [
        "### 라이브러리 불러오기"
      ]
    },
    {
      "cell_type": "code",
      "metadata": {
        "id": "XixvdNLQ1XbZ",
        "colab_type": "code",
        "colab": {}
      },
      "source": [
        "import urllib.request\n",
        "from urllib.parse import quote_plus\n",
        "from bs4 import BeautifulSoup\n",
        "import pandas as pd\n",
        "from google.colab import files"
      ],
      "execution_count": 0,
      "outputs": []
    },
    {
      "cell_type": "markdown",
      "metadata": {
        "colab_type": "text",
        "id": "JQpGoQaSJ4Y5"
      },
      "source": [
        "## 과제수행하기"
      ]
    },
    {
      "cell_type": "markdown",
      "metadata": {
        "colab_type": "text",
        "id": "DKE0XzdfKEYX"
      },
      "source": [
        "### 191130_네이버 블로그 검색결과 크롤링 - 1차 : 순차 #191130 \n",
        "- url 설정하기\n",
        "- html 불러오기 및 파싱\n",
        "- 원하는 부분 추출하기"
      ]
    },
    {
      "cell_type": "markdown",
      "metadata": {
        "id": "OFUcjHTsJ_lw",
        "colab_type": "text"
      },
      "source": [
        "#### URL 설정하기"
      ]
    },
    {
      "cell_type": "code",
      "metadata": {
        "id": "OJ0kEWvL1kPs",
        "colab_type": "code",
        "colab": {}
      },
      "source": [
        "url = 'https://search.naver.com/search.naver?where=post&sm=tab_jum&query=%ED%8C%8C%EC%9D%B4%EC%8D%AC'"
      ],
      "execution_count": 0,
      "outputs": []
    },
    {
      "cell_type": "markdown",
      "metadata": {
        "id": "NMntFEzOKIKZ",
        "colab_type": "text"
      },
      "source": [
        "#### HTML 불러오기 및 파싱하기"
      ]
    },
    {
      "cell_type": "code",
      "metadata": {
        "id": "0u_myNPa1vid",
        "colab_type": "code",
        "colab": {}
      },
      "source": [
        "html = urllib.request.urlopen(url).read()\n",
        "soup = BeautifulSoup(html, 'html.parser')"
      ],
      "execution_count": 0,
      "outputs": []
    },
    {
      "cell_type": "markdown",
      "metadata": {
        "id": "CeIur8naKPpP",
        "colab_type": "text"
      },
      "source": [
        "#### 검색 결과 클래스 찾기"
      ]
    },
    {
      "cell_type": "code",
      "metadata": {
        "id": "KtGhxsLR2KE3",
        "colab_type": "code",
        "colab": {}
      },
      "source": [
        "titles = soup.find_all(class_= 'sh_blog_title _sp_each_url _sp_each_title')"
      ],
      "execution_count": 0,
      "outputs": []
    },
    {
      "cell_type": "markdown",
      "metadata": {
        "id": "QlAQD37SKnH1",
        "colab_type": "text"
      },
      "source": [
        "#### 반복문으로 타이틀과 링크 추출"
      ]
    },
    {
      "cell_type": "code",
      "metadata": {
        "id": "00CrWop32eWY",
        "colab_type": "code",
        "colab": {}
      },
      "source": [
        "for title in titles:\n",
        "    print(title.attrs['title'])\n",
        "    print(title.attrs['href'])\n",
        "    print()"
      ],
      "execution_count": 0,
      "outputs": []
    },
    {
      "cell_type": "markdown",
      "metadata": {
        "id": "cXBkebDnJShL",
        "colab_type": "text"
      },
      "source": [
        "### 191130_네이버 블로그 검색결과 크롤링 - 2차 : 입력값 받기"
      ]
    },
    {
      "cell_type": "markdown",
      "metadata": {
        "id": "8DQXI6AmLgC9",
        "colab_type": "text"
      },
      "source": [
        "#### URL 설정하기 : 입력값 받아서 url 완성하기\n",
        "- 베이스 url 설정하기\n",
        "- 한글입력값을 아스키코드로 변화하기"
      ]
    },
    {
      "cell_type": "code",
      "metadata": {
        "id": "AiD7NTZrLljV",
        "colab_type": "code",
        "colab": {}
      },
      "source": [
        "url = 'https://search.naver.com/search.naver?where=post&sm=tab_jum&query='\n",
        "v_input = urllib.parse.quote_plus(input('주인님, 검색어를 입력하세요 : '))"
      ],
      "execution_count": 0,
      "outputs": []
    },
    {
      "cell_type": "markdown",
      "metadata": {
        "id": "5Byh_AXMNuds",
        "colab_type": "text"
      },
      "source": [
        "#### html 소스불러오기 및 뷰티플 솦으로 변환"
      ]
    },
    {
      "cell_type": "code",
      "metadata": {
        "id": "g4GYrJ-kL49Q",
        "colab_type": "code",
        "colab": {}
      },
      "source": [
        "html = urllib.request.urlopen('{},{}'.format(url,v_input)).read()\n",
        "soup = BeautifulSoup(html, 'html.parser')"
      ],
      "execution_count": 0,
      "outputs": []
    },
    {
      "cell_type": "markdown",
      "metadata": {
        "id": "Kj8ELMe9N06e",
        "colab_type": "text"
      },
      "source": [
        "#### 원하는 정보 찾기"
      ]
    },
    {
      "cell_type": "code",
      "metadata": {
        "id": "_joG_3-6NdzC",
        "colab_type": "code",
        "colab": {}
      },
      "source": [
        "titles = soup.find_all(class_='sh_blog_title _sp_each_url _sp_each_title')"
      ],
      "execution_count": 0,
      "outputs": []
    },
    {
      "cell_type": "markdown",
      "metadata": {
        "id": "Lxd8-W2TO7mW",
        "colab_type": "text"
      },
      "source": [
        "##### 화면에 출력하기"
      ]
    },
    {
      "cell_type": "code",
      "metadata": {
        "id": "XQlQ2lGZMLe2",
        "colab_type": "code",
        "colab": {}
      },
      "source": [
        "for title in titles:\n",
        "    print(title.attrs['title'])\n",
        "    print(title.attrs['href'])"
      ],
      "execution_count": 0,
      "outputs": []
    },
    {
      "cell_type": "markdown",
      "metadata": {
        "id": "WCjV1KZKO_iA",
        "colab_type": "text"
      },
      "source": [
        "##### 원하는 정보 딕셔너리로 저장하기"
      ]
    },
    {
      "cell_type": "code",
      "metadata": {
        "id": "8F5M3M7IOF5U",
        "colab_type": "code",
        "colab": {}
      },
      "source": [
        "result = []\n",
        "for title in titles:\n",
        "    lst_temp = {}\n",
        "    name = title.attrs['title']\n",
        "    herf = title.attrs['href']\n",
        "    lst_temp = {'name' : name, 'href' : herf}\n",
        "    print(lst_temp)\n",
        "    result.append(lst_temp)\n",
        "print(result)\n"
      ],
      "execution_count": 0,
      "outputs": []
    },
    {
      "cell_type": "markdown",
      "metadata": {
        "id": "_dNUAcQUQ30p",
        "colab_type": "text"
      },
      "source": [
        "### 191130 네이버 블로그 검색결과 크롤링 - 3차 : 리팩토링"
      ]
    },
    {
      "cell_type": "markdown",
      "metadata": {
        "id": "g8D0Y8bFRxE4",
        "colab_type": "text"
      },
      "source": [
        "#### 라이브러리 불러오기"
      ]
    },
    {
      "cell_type": "code",
      "metadata": {
        "id": "tCDiBZWnRXrq",
        "colab_type": "code",
        "colab": {}
      },
      "source": [
        "import urllib.request\n",
        "from urllib.parse import quote_plus\n",
        "from bs4 import BeautifulSoup"
      ],
      "execution_count": 0,
      "outputs": []
    },
    {
      "cell_type": "markdown",
      "metadata": {
        "id": "YGciFkwdR3Tu",
        "colab_type": "text"
      },
      "source": [
        "#### URL 만들기"
      ]
    },
    {
      "cell_type": "code",
      "metadata": {
        "id": "Ju6BSlpeR1Da",
        "colab_type": "code",
        "colab": {
          "base_uri": "https://localhost:8080/",
          "height": 51
        },
        "outputId": "0d369e2c-dbf1-47a3-839a-7a13b71e2f90"
      },
      "source": [
        "baseurl = 'https://search.naver.com/search.naver?where=post&sm=tab_jum&query='\n",
        "v_input = input('주인님, 검색어를 입력하세요 : ')\n",
        "url = '{}{}'.format(baseurl, quote_plus(v_input))\n",
        "print(url)"
      ],
      "execution_count": 92,
      "outputs": [
        {
          "output_type": "stream",
          "text": [
            "주인님, 검색어를 입력하세요 : 파이썬\n",
            "https://search.naver.com/search.naver?where=post&sm=tab_jum&query=%ED%8C%8C%EC%9D%B4%EC%8D%AC\n"
          ],
          "name": "stdout"
        }
      ]
    },
    {
      "cell_type": "markdown",
      "metadata": {
        "id": "PpQWYE0MSK5t",
        "colab_type": "text"
      },
      "source": [
        "#### 함수만들기"
      ]
    },
    {
      "cell_type": "markdown",
      "metadata": {
        "id": "zijNT8pXSN7p",
        "colab_type": "text"
      },
      "source": [
        "##### html받아서 soup 리턴"
      ]
    },
    {
      "cell_type": "code",
      "metadata": {
        "id": "jQA-lfmoSGYL",
        "colab_type": "code",
        "colab": {}
      },
      "source": [
        "def make_soup(url):\n",
        "    html = urllib.request.urlopen(url).read()\n",
        "    soup = BeautifulSoup(html, 'html.parser')\n",
        "    titles = soup.find_all(class_='sh_blog_title _sp_each_url _sp_each_title')\n",
        "    return titles"
      ],
      "execution_count": 0,
      "outputs": []
    },
    {
      "cell_type": "markdown",
      "metadata": {
        "id": "jr2hLTHFfkfv",
        "colab_type": "text"
      },
      "source": [
        "##### 검색결과 제목과 링크 추출하기"
      ]
    },
    {
      "cell_type": "code",
      "metadata": {
        "id": "KdSt9QdNYeh-",
        "colab_type": "code",
        "colab": {}
      },
      "source": [
        "def get_info(item):\n",
        "    name = item.attrs['title']\n",
        "    href = item.attrs['href']\n",
        "    return {'name' : name, 'href' : href}"
      ],
      "execution_count": 0,
      "outputs": []
    },
    {
      "cell_type": "markdown",
      "metadata": {
        "id": "_FF7b7jIhYjD",
        "colab_type": "text"
      },
      "source": [
        "##### 검색결과 화면 출력하기"
      ]
    },
    {
      "cell_type": "code",
      "metadata": {
        "id": "nlHwcX8lSoOO",
        "colab_type": "code",
        "colab": {
          "base_uri": "https://localhost:8080/",
          "height": 224
        },
        "outputId": "5317d150-1319-49f3-8716-06ec8d09746f"
      },
      "source": [
        "soup = make_soup(url)\n",
        "result = []\n",
        "for i in soup:\n",
        "    result_search = get_info(i)\n",
        "    print('{}, {}'.format(result_search['name'], result_search['href']))\n",
        "    result.append(result_search)\n",
        "print(result)"
      ],
      "execution_count": 95,
      "outputs": [
        {
          "output_type": "stream",
          "text": [
            "파이썬학원 답은 하나다!, https://blog.naver.com/nr_yeon?Redirect=Log&logNo=221707634731\n",
            "파이썬 : Pygame으로 Ping Pong 게임 만들기 따라하기, https://cosmosjs.blog.me/221719238699\n",
            "파이썬 프로그래밍 - 개발 범위, https://blog.naver.com/urmyver?Redirect=Log&logNo=221670828962\n",
            "한권으로 끝내는 파이썬 - 독학으로 Python 프로그램 코딩 공부하기, https://blog.naver.com/since201109?Redirect=Log&logNo=221553965961\n",
            "일취월장 파이썬 학원 달라진 경험!, https://blog.naver.com/redrock27?Redirect=Log&logNo=221700209048\n",
            "코랩(Colab)을 이용하여 파이썬 공부와 머신러닝 공부를 해요!~, https://chogar.blog.me/221665985078\n",
            "파이썬학원 기초 문법부터 심화까지 1달완성 교육기관!, https://blog.naver.com/ridesafe?Redirect=Log&logNo=221643768938\n",
            "[python]파이썬/GUI/tkinter/앱/계산기(1단계), https://blog.naver.com/scyan2011?Redirect=Log&logNo=221721102297\n",
            "파이썬 독학, 혼자 공부하면 어디까지 가능할까?, https://blog.naver.com/designer_dh?Redirect=Log&logNo=221719131980\n",
            "왕초보자를 위한 파이썬: 히스토그램 그리기(2), https://blog.naver.com/cni1577?Redirect=Log&logNo=221717837089\n",
            "[{'name': '파이썬학원 답은 하나다!', 'href': 'https://blog.naver.com/nr_yeon?Redirect=Log&logNo=221707634731'}, {'name': '파이썬 : Pygame으로 Ping Pong 게임 만들기 따라하기', 'href': 'https://cosmosjs.blog.me/221719238699'}, {'name': '파이썬 프로그래밍 - 개발 범위', 'href': 'https://blog.naver.com/urmyver?Redirect=Log&logNo=221670828962'}, {'name': '한권으로 끝내는 파이썬 - 독학으로 Python 프로그램 코딩 공부하기', 'href': 'https://blog.naver.com/since201109?Redirect=Log&logNo=221553965961'}, {'name': '일취월장 파이썬 학원 달라진 경험!', 'href': 'https://blog.naver.com/redrock27?Redirect=Log&logNo=221700209048'}, {'name': '코랩(Colab)을 이용하여 파이썬 공부와 머신러닝 공부를 해요!~', 'href': 'https://chogar.blog.me/221665985078'}, {'name': '파이썬학원 기초 문법부터 심화까지 1달완성 교육기관!', 'href': 'https://blog.naver.com/ridesafe?Redirect=Log&logNo=221643768938'}, {'name': '[python]파이썬/GUI/tkinter/앱/계산기(1단계)', 'href': 'https://blog.naver.com/scyan2011?Redirect=Log&logNo=221721102297'}, {'name': '파이썬 독학, 혼자 공부하면 어디까지 가능할까?', 'href': 'https://blog.naver.com/designer_dh?Redirect=Log&logNo=221719131980'}, {'name': '왕초보자를 위한 파이썬: 히스토그램 그리기(2)', 'href': 'https://blog.naver.com/cni1577?Redirect=Log&logNo=221717837089'}]\n"
          ],
          "name": "stdout"
        }
      ]
    },
    {
      "cell_type": "markdown",
      "metadata": {
        "id": "nFuYyJcKhf92",
        "colab_type": "text"
      },
      "source": [
        "##### 검색결과 csv 파일로 저장하기"
      ]
    },
    {
      "cell_type": "code",
      "metadata": {
        "id": "X5BV4XVXhlGq",
        "colab_type": "code",
        "colab": {}
      },
      "source": [
        "df_result = pd.DataFrame(result) #데이터 프레임 만들기\n",
        "df_result.to_csv('result_{}.csv'.format(v_input)) # csv파일로 만들기"
      ],
      "execution_count": 0,
      "outputs": []
    },
    {
      "cell_type": "markdown",
      "metadata": {
        "id": "6-EzJS30laTX",
        "colab_type": "text"
      },
      "source": [
        "##### CSV파일 다운로드"
      ]
    },
    {
      "cell_type": "code",
      "metadata": {
        "id": "3FpI7eDIjacD",
        "colab_type": "code",
        "colab": {}
      },
      "source": [
        "files.download('result_{}.csv'.format(v_input))"
      ],
      "execution_count": 0,
      "outputs": []
    },
    {
      "cell_type": "markdown",
      "metadata": {
        "id": "VGxg1dQghDx8",
        "colab_type": "text"
      },
      "source": [
        "## [완성]네이버 블로그 검색결과 크롤링 - 4차 : 5페이지 검색결과 저장하기\n"
      ]
    },
    {
      "cell_type": "code",
      "metadata": {
        "colab_type": "code",
        "id": "7JI6BMwf2Fty",
        "colab": {}
      },
      "source": [
        "import urllib.request\n",
        "from urllib.parse import quote_plus\n",
        "from bs4 import BeautifulSoup\n",
        "import pandas as pd\n",
        "from google.colab import files"
      ],
      "execution_count": 0,
      "outputs": []
    },
    {
      "cell_type": "markdown",
      "metadata": {
        "colab_type": "text",
        "id": "Zq9BuA6rriZh"
      },
      "source": [
        "#### URL 만들기"
      ]
    },
    {
      "cell_type": "code",
      "metadata": {
        "colab_type": "code",
        "id": "gG4YwcOsriZh",
        "colab": {}
      },
      "source": [
        "v_input = input('주인님, 검색어를 입력하세요 : ')\n",
        "v_input_parser = quote_plus(v_input) #검색어 컴퓨터 인식문자로 파싱"
      ],
      "execution_count": 0,
      "outputs": []
    },
    {
      "cell_type": "markdown",
      "metadata": {
        "colab_type": "text",
        "id": "IqJj-u0SriZj"
      },
      "source": [
        "#### 함수만들기"
      ]
    },
    {
      "cell_type": "markdown",
      "metadata": {
        "id": "lfm1l_bQtiLU",
        "colab_type": "text"
      },
      "source": [
        "#### 반복문 이용하여 URL 목록 만들기"
      ]
    },
    {
      "cell_type": "code",
      "metadata": {
        "id": "9iElqVwWtop5",
        "colab_type": "code",
        "colab": {}
      },
      "source": [
        "def make_url_list(v_input_parser,v_int):\n",
        "    url_lst = []\n",
        "    for i in range(int(v_int)):\n",
        "        url = 'https://search.naver.com/search.naver?date_from=&date_option=0&date_to=&dup_remove=1&nso=&post_blogurl=&post_blogurl_without=&query={}&sm=tab_pge&srchby=all&st=sim&where=post&start={}1'.format(v_input_parser,str(i))\n",
        "        # print(url)\n",
        "        url_lst.append(url)\n",
        "    return url_lst"
      ],
      "execution_count": 0,
      "outputs": []
    },
    {
      "cell_type": "markdown",
      "metadata": {
        "colab_type": "text",
        "id": "qSmCjfH6riZj"
      },
      "source": [
        "##### html받아서 soup 리턴"
      ]
    },
    {
      "cell_type": "code",
      "metadata": {
        "colab_type": "code",
        "id": "p3vld_OlriZk",
        "colab": {}
      },
      "source": [
        "def make_soup(url):\n",
        "    html = urllib.request.urlopen(url).read()\n",
        "    soup = BeautifulSoup(html, 'html.parser')\n",
        "    titles = soup.find_all(class_='sh_blog_title _sp_each_url _sp_each_title')\n",
        "    return titles"
      ],
      "execution_count": 0,
      "outputs": []
    },
    {
      "cell_type": "markdown",
      "metadata": {
        "colab_type": "text",
        "id": "ipCvcHHdriZl"
      },
      "source": [
        "##### 검색결과 제목과 링크 추출하기"
      ]
    },
    {
      "cell_type": "code",
      "metadata": {
        "colab_type": "code",
        "id": "dno3bDWnriZl",
        "colab": {}
      },
      "source": [
        "def get_info(item):\n",
        "    name = item.attrs['title']\n",
        "    href = item.attrs['href']\n",
        "    return {'name' : name, 'href' : href}"
      ],
      "execution_count": 0,
      "outputs": []
    },
    {
      "cell_type": "markdown",
      "metadata": {
        "colab_type": "text",
        "id": "pAA1zGJDriZn"
      },
      "source": [
        "##### 검색결과 화면 출력하기"
      ]
    },
    {
      "cell_type": "code",
      "metadata": {
        "colab_type": "code",
        "id": "XmY5oMDPriZn",
        "colab": {}
      },
      "source": [
        "urls = make_url_list(v_input_parser, 10) # 검색결과 갯수 조정하기\n",
        "result = []\n",
        "n = 1\n",
        "for u in urls:\n",
        "    soup = make_soup(u)\n",
        "    print('검색결과의 {} / {}페이지를 내용 출력중...'.format(n, len(urls)))\n",
        "    for i in soup:\n",
        "        result_search = get_info(i)\n",
        "        print('{} : {}'.format(result_search['name'], result_search['href']))\n",
        "        result.append(result_search)\n",
        "    n += 1\n",
        "    print()\n",
        "print('모두 {}개 검색결과 수집완료!'.format(len(result)))"
      ],
      "execution_count": 0,
      "outputs": []
    },
    {
      "cell_type": "markdown",
      "metadata": {
        "colab_type": "text",
        "id": "yHniAE_briZo"
      },
      "source": [
        "##### 검색결과 csv 파일로 저장하기"
      ]
    },
    {
      "cell_type": "code",
      "metadata": {
        "colab_type": "code",
        "id": "2yoLPuPXriZp",
        "colab": {}
      },
      "source": [
        "df_result = pd.DataFrame(result) #데이터 프레임 만들기\n",
        "df_result.to_csv('result_{}.csv'.format(v_input)) # csv파일로 만들기\n",
        "df_result"
      ],
      "execution_count": 0,
      "outputs": []
    },
    {
      "cell_type": "markdown",
      "metadata": {
        "colab_type": "text",
        "id": "5NyQAI9griZq"
      },
      "source": [
        "##### CSV파일 다운로드"
      ]
    },
    {
      "cell_type": "code",
      "metadata": {
        "colab_type": "code",
        "id": "GAdoWu8PriZq",
        "colab": {}
      },
      "source": [
        "files.download('result_{}.csv'.format(v_input))"
      ],
      "execution_count": 0,
      "outputs": []
    }
  ]
}
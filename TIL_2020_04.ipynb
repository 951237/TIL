{
  "nbformat": 4,
  "nbformat_minor": 0,
  "metadata": {
    "colab": {
      "name": "TIL_2020_04.ipynb",
      "provenance": [],
      "authorship_tag": "ABX9TyOPQQO03CG6UEMQwC0plurr",
      "include_colab_link": true
    },
    "kernelspec": {
      "name": "python3",
      "display_name": "Python 3"
    }
  },
  "cells": [
    {
      "cell_type": "markdown",
      "metadata": {
        "id": "view-in-github",
        "colab_type": "text"
      },
      "source": [
        "<a href=\"https://colab.research.google.com/github/951237/TIL/blob/master/TIL_2020_04.ipynb\" target=\"_parent\"><img src=\"https://colab.research.google.com/assets/colab-badge.svg\" alt=\"Open In Colab\"/></a>"
      ]
    },
    {
      "cell_type": "markdown",
      "metadata": {
        "id": "GBtsMFKD_QDz",
        "colab_type": "text"
      },
      "source": [
        "# 파이썬"
      ]
    },
    {
      "cell_type": "markdown",
      "metadata": {
        "id": "kl5FNGbg_VXy",
        "colab_type": "text"
      },
      "source": [
        "## 200403_코랩에서 유투브 화면 나오게 하기\n",
        "        from IPython.display import YouTubeVideo  # 라이브러리 호출\n",
        "        YouTubeVideo('cf_M1oEnAxY') # 유투브 공유주소중 마지막 부분"
      ]
    },
    {
      "cell_type": "markdown",
      "metadata": {
        "id": "4Iv_rbzqK5TY",
        "colab_type": "text"
      },
      "source": [
        "## 200408_EBS 온라인 강좌 링크 수집\n",
        "\n"
      ]
    },
    {
      "cell_type": "markdown",
      "metadata": {
        "id": "W3Wk2HPNM_3C",
        "colab_type": "text"
      },
      "source": [
        "### 자주 쓰느 기능은 함수 생성\n",
        "- 셀레니엄 자바스크립트 실행 \n",
        "    - 페이지 불러오지 못할경우 1페이지 정지\n",
        "            def excute_script(script)\n",
        "                while True:\n",
        "                    try :\n",
        "                        driver.excute_script(script)\n",
        "                        break\n",
        "                    except Javascript Exception\n",
        "                        sleep(1)\n"
      ]
    },
    {
      "cell_type": "markdown",
      "metadata": {
        "id": "XGVtH8aKMLHw",
        "colab_type": "text"
      },
      "source": [
        "### 알고리즘\n",
        "- 크롬 드라이버 호출\n",
        "    - 로그인 및 목표 페이지 수동 이동\n",
        "- 소스코드 분석\n",
        "- 차시별 제목과 링크모으기\n",
        "    - 주소가 포함된 블럭 찾기\n",
        "            bs_obj.find('aside', {'class' : 'qmfmffkfk'})\n",
        "    - 주소 포함된 'a'태그 모두 찾기(slect)\n",
        "            lis = nav.select('nav > ul > li > a')\n",
        "        - 반복문으로 'a'태그에서 링크 수집\n",
        "                i.get('href').split(':')[-1]"
      ]
    },
    {
      "cell_type": "code",
      "metadata": {
        "id": "Pk7QY0IhNgVS",
        "colab_type": "code",
        "colab": {}
      },
      "source": [
        ""
      ],
      "execution_count": 0,
      "outputs": []
    }
  ]
}
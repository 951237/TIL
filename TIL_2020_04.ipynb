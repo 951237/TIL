{
  "nbformat": 4,
  "nbformat_minor": 0,
  "metadata": {
    "colab": {
      "name": "TIL_2020_04.ipynb",
      "provenance": [],
      "toc_visible": true,
      "authorship_tag": "ABX9TyPwaTsbcR0d7d+9d5dn8zRu",
      "include_colab_link": true
    },
    "kernelspec": {
      "name": "python3",
      "display_name": "Python 3"
    }
  },
  "cells": [
    {
      "cell_type": "markdown",
      "metadata": {
        "id": "view-in-github",
        "colab_type": "text"
      },
      "source": [
        "<a href=\"https://colab.research.google.com/github/951237/TIL/blob/master/TIL_2020_04.ipynb\" target=\"_parent\"><img src=\"https://colab.research.google.com/assets/colab-badge.svg\" alt=\"Open In Colab\"/></a>"
      ]
    },
    {
      "cell_type": "markdown",
      "metadata": {
        "id": "GBtsMFKD_QDz",
        "colab_type": "text"
      },
      "source": [
        "# 파이썬"
      ]
    },
    {
      "cell_type": "markdown",
      "metadata": {
        "id": "kl5FNGbg_VXy",
        "colab_type": "text"
      },
      "source": [
        "## 200403_코랩에서 유투브 화면 나오게 하기\n",
        "        from IPython.display import YouTubeVideo  # 라이브러리 호출\n",
        "        YouTubeVideo('cf_M1oEnAxY') # 유투브 공유주소중 마지막 부분"
      ]
    },
    {
      "cell_type": "markdown",
      "metadata": {
        "id": "4Iv_rbzqK5TY",
        "colab_type": "text"
      },
      "source": [
        "## 200408_EBS 온라인 강좌 링크 수집\n",
        "\n"
      ]
    },
    {
      "cell_type": "markdown",
      "metadata": {
        "id": "W3Wk2HPNM_3C",
        "colab_type": "text"
      },
      "source": [
        "### 자주 쓰느 기능은 함수 생성\n",
        "- 셀레니엄 자바스크립트 실행 \n",
        "    - 페이지 불러오지 못할경우 1페이지 정지\n",
        "            def excute_script(script)\n",
        "                while True:\n",
        "                    try :\n",
        "                        driver.excute_script(script)\n",
        "                        break\n",
        "                    except Javascript Exception\n",
        "                        sleep(1)\n"
      ]
    },
    {
      "cell_type": "markdown",
      "metadata": {
        "id": "XGVtH8aKMLHw",
        "colab_type": "text"
      },
      "source": [
        "### 알고리즘\n",
        "- 크롬 드라이버 호출\n",
        "    - 로그인 및 목표 페이지 수동 이동\n",
        "- 소스코드 분석\n",
        "- 차시별 제목과 링크모으기\n",
        "    - 주소가 포함된 블럭 찾기\n",
        "            bs_obj.find('aside', {'class' : 'qmfmffkfk'})\n",
        "    - 주소 포함된 'a'태그 모두 찾기(slect)\n",
        "            lis = nav.select('nav > ul > li > a')\n",
        "        - 반복문으로 'a'태그에서 링크 수집\n",
        "                i.get('href').split(':')[-1]"
      ]
    },
    {
      "cell_type": "markdown",
      "metadata": {
        "id": "Pk7QY0IhNgVS",
        "colab_type": "text"
      },
      "source": [
        "## 200408_EBS 라이브 특강 링크 수집"
      ]
    },
    {
      "cell_type": "markdown",
      "metadata": {
        "id": "3wEaeTbMN6ft",
        "colab_type": "text"
      },
      "source": [
        "### 작업 1. 단원명과 스크립트 링크 수집\n",
        "\n",
        "- 페이지 소스 읽기\n",
        "        html = driver.pate_source\n",
        "        bs_obj = soup(html, 'html.parser')\n",
        "- 블럭 선택 (find)\n",
        "- 제목 및 링크 수집\n",
        "    - 반복문\n",
        "        - 제목수집\n",
        "        - 링크 수집\n",
        "        \n",
        "                a = i.find('a)\n",
        "                link = a['onclick'] # 속성값 가져오기"
      ]
    },
    {
      "cell_type": "markdown",
      "metadata": {
        "id": "0rhUewtUOXHU",
        "colab_type": "text"
      },
      "source": [
        "### 작업 2. 영상 소스 가져오기\n",
        "- 스크립트 링크 클릭하여 페이지 이동\n",
        "- 페이지 소스 가져오기(find)\n",
        "- 블럭 잡기(select)\n",
        "- 영상링크 수집\n",
        "        video[0].get('src)\n",
        "        "
      ]
    },
    {
      "cell_type": "markdown",
      "metadata": {
        "id": "fc7usE6YPEOc",
        "colab_type": "text"
      },
      "source": [
        "### 작업 3. 코드 실행\n",
        "- 교과목 페이지 이동\n",
        "- 페이지 링크 수집(작업 1. 함수)\n",
        "        links_script = get_script()\n",
        "- 비디오 링크 수집(작업 2. 반복문)\n",
        "        for k, v in links_script.item(): # k : 제목, v : 링크\n",
        "            link = get_video_link(v)\n",
        "            print(k, v) # 제목과 링크 출력"
      ]
    },
    {
      "cell_type": "markdown",
      "metadata": {
        "id": "DmS8mq9ubW3w",
        "colab_type": "text"
      },
      "source": [
        "## 200409_아이스크림 학년별 교과목 주제 가져오기 "
      ]
    },
    {
      "cell_type": "markdown",
      "metadata": {
        "id": "F0vlpSgWdt9s",
        "colab_type": "text"
      },
      "source": [
        "### 알고리즘\n",
        "\n",
        "\n",
        "1.   셀레니엄 드라이버 구동 → 웹페이지 이동\n",
        "2.   로그인 - 수동으로 로그인하기\n",
        "3. 목표페이지 이동(교과활동 - 1학년 국어)\n",
        "4. 학년 선택 def get_soup()\n",
        "    - 학년 이동 아이콘 클릭(자바스크립트 클릭하기)\n",
        "    - 페이지 소스 가져오기\n",
        "        - 셀레니엄 driver.page_source\n",
        "    - soup 오브젝트 리턴\n",
        "5. 과목 주제 가져오기 / def get_subject_list(onclick)\n",
        "    - 큰 주제 선택(find)\n",
        "    - 단원명과 링크 포함된 소스 선택(select)\n",
        "    - 반복문 : 단원과 링크 가져오기\n",
        "            sub_link = {}\n",
        "            for li in lis:\n",
        "                a = li.text.strip() # 태그의 텍스트 가져와서 여백 삭제\n",
        "                onclick = li.get('href') # 태그의 링크 속성 가져오기\n",
        "                if onclick.split('.')[0] == 'wisLogCommon': # 특정한 문구가 들어있을 경우에만 딕셔너리에 담기\n",
        "                sub_link[a] = onclick\n",
        "\n",
        "\n",
        "\n"
      ]
    },
    {
      "cell_type": "markdown",
      "metadata": {
        "id": "-Wk4VxHTb8iF",
        "colab_type": "text"
      },
      "source": [
        "## 200410_csv파일 데이터 프레임으로 바꾸어 필터링 하기\n",
        "\n",
        "### 알고리즘\n",
        "- csv 파일 읽기\n",
        "\n",
        "- 작업 처리 (함수 submit)\n",
        "```\n",
        "def find_submit(payer_id, ins_com):\n",
        "\tresult = {} # 딕셔너리 보관함 생성\n",
        "\tresult[‘ins_com’] = ins_com\n",
        "\tdf_filtered = df[df[‘PayerID’] == payer_id]\n",
        "\tresult[‘Submission’] = df_filtered[’NET7’].sum()\n",
        "```\n",
        "\n",
        "    * 판다스 조건 필터 하는 방법\n",
        "             df_filtered = df[(df['payer_Id'] == a) & (조건 2)]\n",
        "\n",
        "- 결과 리스트에 담기\n",
        "        report = [] # 리스트 보관함 생성\n",
        "        report.append(find_submit(a, aa))\n",
        "        report.append(find_submit(b, bb))\n",
        "- 결과 데이터 프레임 만들기\n",
        "        df_result = pd.DataFrame(report) # 리스트를 데이터 프레임으로 변환, 리스트는 딕셔너리 형태임\n",
        "- 데이터 프레임을 엑셀로 바꾸기\n",
        "        df_result.to_excel(\"output.xlsx', sheet_name='sheet1')"
      ]
    },
    {
      "cell_type": "code",
      "metadata": {
        "id": "N4aIYfgKb-Gh",
        "colab_type": "code",
        "colab": {}
      },
      "source": [
        ""
      ],
      "execution_count": 0,
      "outputs": []
    }
  ]
}
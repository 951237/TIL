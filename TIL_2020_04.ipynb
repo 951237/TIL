{
  "nbformat": 4,
  "nbformat_minor": 0,
  "metadata": {
    "colab": {
      "name": "TIL_2020_04.ipynb",
      "provenance": [],
      "toc_visible": true,
      "authorship_tag": "ABX9TyO5ylfuH1KJXFPqUwJiwkkq",
      "include_colab_link": true
    },
    "kernelspec": {
      "name": "python3",
      "display_name": "Python 3"
    }
  },
  "cells": [
    {
      "cell_type": "markdown",
      "metadata": {
        "id": "view-in-github",
        "colab_type": "text"
      },
      "source": [
        "<a href=\"https://colab.research.google.com/github/951237/TIL/blob/master/TIL_2020_04.ipynb\" target=\"_parent\"><img src=\"https://colab.research.google.com/assets/colab-badge.svg\" alt=\"Open In Colab\"/></a>"
      ]
    },
    {
      "cell_type": "markdown",
      "metadata": {
        "id": "GBtsMFKD_QDz",
        "colab_type": "text"
      },
      "source": [
        "# 파이썬"
      ]
    },
    {
      "cell_type": "markdown",
      "metadata": {
        "id": "kl5FNGbg_VXy",
        "colab_type": "text"
      },
      "source": [
        "## 200403_코랩에서 유투브 화면 나오게 하기\n",
        "        from IPython.display import YouTubeVideo  # 라이브러리 호출\n",
        "        YouTubeVideo('cf_M1oEnAxY') # 유투브 공유주소중 마지막 부분"
      ]
    },
    {
      "cell_type": "markdown",
      "metadata": {
        "id": "4Iv_rbzqK5TY",
        "colab_type": "text"
      },
      "source": [
        "## 200408_EBS 온라인 강좌 링크 수집\n",
        "\n"
      ]
    },
    {
      "cell_type": "markdown",
      "metadata": {
        "id": "W3Wk2HPNM_3C",
        "colab_type": "text"
      },
      "source": [
        "### 자주 쓰느 기능은 함수 생성\n",
        "- 셀레니엄 자바스크립트 실행 \n",
        "    - 페이지 불러오지 못할경우 1페이지 정지\n",
        "            def excute_script(script)\n",
        "                while True:\n",
        "                    try :\n",
        "                        driver.excute_script(script)\n",
        "                        break\n",
        "                    except Javascript Exception\n",
        "                        sleep(1)\n"
      ]
    },
    {
      "cell_type": "markdown",
      "metadata": {
        "id": "XGVtH8aKMLHw",
        "colab_type": "text"
      },
      "source": [
        "### 알고리즘\n",
        "- 크롬 드라이버 호출\n",
        "    - 로그인 및 목표 페이지 수동 이동\n",
        "- 소스코드 분석\n",
        "- 차시별 제목과 링크모으기\n",
        "    - 주소가 포함된 블럭 찾기\n",
        "            bs_obj.find('aside', {'class' : 'qmfmffkfk'})\n",
        "    - 주소 포함된 'a'태그 모두 찾기(slect)\n",
        "            lis = nav.select('nav > ul > li > a')\n",
        "        - 반복문으로 'a'태그에서 링크 수집\n",
        "                i.get('href').split(':')[-1]"
      ]
    },
    {
      "cell_type": "markdown",
      "metadata": {
        "id": "Pk7QY0IhNgVS",
        "colab_type": "text"
      },
      "source": [
        "## 200408_EBS 라이브 특강 링크 수집"
      ]
    },
    {
      "cell_type": "markdown",
      "metadata": {
        "id": "3wEaeTbMN6ft",
        "colab_type": "text"
      },
      "source": [
        "### 작업 1. 단원명과 스크립트 링크 수집\n",
        "\n",
        "- 페이지 소스 읽기\n",
        "        html = driver.pate_source\n",
        "        bs_obj = soup(html, 'html.parser')\n",
        "- 블럭 선택 (find)\n",
        "- 제목 및 링크 수집\n",
        "    - 반복문\n",
        "        - 제목수집\n",
        "        - 링크 수집\n",
        "        \n",
        "                a = i.find('a)\n",
        "                link = a['onclick'] # 속성값 가져오기"
      ]
    },
    {
      "cell_type": "markdown",
      "metadata": {
        "id": "0rhUewtUOXHU",
        "colab_type": "text"
      },
      "source": [
        "### 작업 2. 영상 소스 가져오기\n",
        "- 스크립트 링크 클릭하여 페이지 이동\n",
        "- 페이지 소스 가져오기(find)\n",
        "- 블럭 잡기(select)\n",
        "- 영상링크 수집\n",
        "        video[0].get('src)\n",
        "        "
      ]
    },
    {
      "cell_type": "markdown",
      "metadata": {
        "id": "fc7usE6YPEOc",
        "colab_type": "text"
      },
      "source": [
        "### 작업 3. 코드 실행\n",
        "- 교과목 페이지 이동\n",
        "- 페이지 링크 수집(작업 1. 함수)\n",
        "        links_script = get_script()\n",
        "- 비디오 링크 수집(작업 2. 반복문)\n",
        "        for k, v in links_script.item(): # k : 제목, v : 링크\n",
        "            link = get_video_link(v)\n",
        "            print(k, v) # 제목과 링크 출력"
      ]
    },
    {
      "cell_type": "markdown",
      "metadata": {
        "id": "DmS8mq9ubW3w",
        "colab_type": "text"
      },
      "source": [
        "## 200409_아이스크림 학년별 교과목 주제 가져오기 "
      ]
    },
    {
      "cell_type": "markdown",
      "metadata": {
        "id": "F0vlpSgWdt9s",
        "colab_type": "text"
      },
      "source": [
        "### 알고리즘\n",
        "\n",
        "\n",
        "1.   셀레니엄 드라이버 구동 → 웹페이지 이동\n",
        "2.   로그인 - 수동으로 로그인하기\n",
        "3. 목표페이지 이동(교과활동 - 1학년 국어)\n",
        "4. 학년 선택 def get_soup()\n",
        "    - 학년 이동 아이콘 클릭(자바스크립트 클릭하기)\n",
        "    - 페이지 소스 가져오기\n",
        "        - 셀레니엄 driver.page_source\n",
        "    - soup 오브젝트 리턴\n",
        "5. 과목 주제 가져오기 / def get_subject_list(onclick)\n",
        "    - 큰 주제 선택(find)\n",
        "    - 단원명과 링크 포함된 소스 선택(select)\n",
        "    - 반복문 : 단원과 링크 가져오기\n",
        "            sub_link = {}\n",
        "            for li in lis:\n",
        "                a = li.text.strip() # 태그의 텍스트 가져와서 여백 삭제\n",
        "                onclick = li.get('href') # 태그의 링크 속성 가져오기\n",
        "                if onclick.split('.')[0] == 'wisLogCommon': # 특정한 문구가 들어있을 경우에만 딕셔너리에 담기\n",
        "                sub_link[a] = onclick\n",
        "\n",
        "\n",
        "\n"
      ]
    },
    {
      "cell_type": "markdown",
      "metadata": {
        "id": "-Wk4VxHTb8iF",
        "colab_type": "text"
      },
      "source": [
        "## 200410_csv파일 데이터 프레임으로 바꾸어 필터링 하기\n",
        "\n",
        "### 알고리즘\n",
        "- csv 파일 읽기\n",
        "\n",
        "- 작업 처리 (함수 submit)\n",
        "```\n",
        "def find_submit(payer_id, ins_com):\n",
        "\tresult = {} # 딕셔너리 보관함 생성\n",
        "\tresult[‘ins_com’] = ins_com\n",
        "\tdf_filtered = df[df[‘PayerID’] == payer_id]\n",
        "\tresult[‘Submission’] = df_filtered[’NET7’].sum()\n",
        "```\n",
        "\n",
        "    * 판다스 조건 필터 하는 방법\n",
        "             df_filtered = df[(df['payer_Id'] == a) & (조건 2)]\n",
        "\n",
        "- 결과 리스트에 담기\n",
        "        report = [] # 리스트 보관함 생성\n",
        "        report.append(find_submit(a, aa))\n",
        "        report.append(find_submit(b, bb))\n",
        "- 결과 데이터 프레임 만들기\n",
        "        df_result = pd.DataFrame(report) # 리스트를 데이터 프레임으로 변환, 리스트는 딕셔너리 형태임\n",
        "- 데이터 프레임을 엑셀로 바꾸기\n",
        "        df_result.to_excel(\"output.xlsx', sheet_name='sheet1')"
      ]
    },
    {
      "cell_type": "markdown",
      "metadata": {
        "id": "N4aIYfgKb-Gh",
        "colab_type": "text"
      },
      "source": [
        "## 200414_셀레니엄에서 수동작업을 넣는 방법\n",
        "- input 함수 이용\n",
        "- time() 함수 이용\n",
        "- autopygui.alert() 기능 이용\n",
        "    - gui 방식으로 창이 떠서 나름의 뽀대가 잇음. "
      ]
    },
    {
      "cell_type": "code",
      "metadata": {
        "id": "sXUQNeICL_Pl",
        "colab_type": "code",
        "colab": {}
      },
      "source": [
        ""
      ],
      "execution_count": 0,
      "outputs": []
    },
    {
      "cell_type": "markdown",
      "metadata": {
        "id": "Mi6PkucBBLf-",
        "colab_type": "text"
      },
      "source": [
        "# 인공지능"
      ]
    },
    {
      "cell_type": "markdown",
      "metadata": {
        "id": "74WhmThUBNNn",
        "colab_type": "text"
      },
      "source": [
        "## 200413_인공지능 교육대학원 지원\n",
        "- 희망교 : 경인교대(계절), 아주대학교(야간)\n",
        "        - 내가 희망한다고 뽑히는 것도 아니잖아.\n",
        "            - 실패 극복의 DNA를 훈련 시킬 수 있는 기회\n",
        "\n",
        "- 여러가지 생각 해야 할것들\n",
        "    - 교육비 "
      ]
    },
    {
      "cell_type": "markdown",
      "metadata": {
        "id": "TpPVaTcVZ4hy",
        "colab_type": "text"
      },
      "source": [
        "## 200421_구글 이미지 다운로드\n",
        "- 구글 이미지를 키워드를 넣으면 원하는 갯수만큼 다운로드 받을 수 있는 라이브러리\n",
        "    - 하지만 지금 이슈로 작동하지 않음.\n",
        "    - 해결책 찾기가 필요함\n",
        "- 예제\n",
        "        from google_images_download import google_images_download\n",
        "        response = google_images_download.googleimagesdownload()\n",
        "        arguments = {\n",
        "            \"keywords\" : \"bears, baloons,beaches\",\n",
        "            \"limit\" : 20, \n",
        "            \"print_urls\" : True\n",
        "        }\n",
        "        paths = response.download(arguments)\n",
        "        print(paths)"
      ]
    },
    {
      "cell_type": "markdown",
      "metadata": {
        "id": "PT_JawB_BWWG",
        "colab_type": "text"
      },
      "source": [
        "# 판다스"
      ]
    },
    {
      "cell_type": "markdown",
      "metadata": {
        "id": "0qGC7KEYMVHu",
        "colab_type": "text"
      },
      "source": [
        "## 200414_데이터 프레임 필터링의 원리\n",
        "- 기본\n",
        "    - 1단계 - 필터링\n",
        "            - df['분류'] == '조건1'\n",
        "    - 2단계 - 다중 조건\n",
        "            - (df['분류'] == '조건1') & df(['분류'] == '조건2')\n",
        "    - 3단계 - 데이터 프레임으로 출력\n",
        "            - df[(df['분류'] == '조건1') & df(['분류'] == '조건2')]\n",
        "    - 4단계 - 조건내의 칼럼의 갯수 세기\n",
        "            - df[(df['분류'] == '조건1') & df(['분류'] == '조건2')]['칼럼'].count_value()\n",
        "\n",
        "- loc 사용하기 : 속도가 더 빠름\n",
        "    - loc(행, 열) \n",
        "        - df.loc[(df['분류'] == '조건1') & df(['분류'] == '조건2'), '칼럼].count_value()\n"
      ]
    },
    {
      "cell_type": "markdown",
      "metadata": {
        "id": "eYGU5MfOzBYz",
        "colab_type": "text"
      },
      "source": [
        "## 200418_파일 처리 하기\n",
        "- 현재 디렉토리 경로 구하기\n",
        "        cwd = os.getcwd()\n",
        "        BASE_DIR = os.path.dirname(cwd)\n",
        "        DATA_DIR = os.path.join(BASE_DIR, 'data')\n",
        "        working_file = os.path.join(CACHE_DIR, 'test.csv')\n",
        "\n",
        "- 원하는 확장자 파일만 선택하기\n",
        "        csv_file = [ x for in os.listdir(DATA_DIR) if x.endswith('.csv')]\n",
        "\n",
        "- 디렉토리 만들기\n",
        "        CATCH_DIR = os.path.join(BASE_DIR, 'cache')  # 경로 만들기\n",
        "        os.makedirs(CATCH_DIR, exist_os = True)  # 디렉토리 생성하기 \n",
        "\n",
        "- 파일 저장하기\n",
        "        dataset = os.path.join(CATCH_DIR, 'test.csv')  # 파일 경로 설정하기\n",
        "        my_entire_dataframe.to_csv(dataset)  # csv파일 생성하기\n"
      ]
    },
    {
      "cell_type": "markdown",
      "metadata": {
        "id": "7H7Owutx81K0",
        "colab_type": "text"
      },
      "source": [
        "## 200419_CSV 파일들을 불러와서 리스트 만들기\n",
        "- CSV 파일들을 불러와서 리스트 만들기\n",
        "        my_dataframes = []  # 빈 리스트 생성하기\n",
        "        for filename in csv_file:\n",
        "            year = filename.replace('.csv', '')  # 파일이름에서 .csv를 샥제\n",
        "            csv_path = os.path.join(DATA_DIR, filename)  # csv파일 경로와 이름 합치기\n",
        "            this_df = pd.read_csv(csv_path)  # csv파일 읽어서 데이터 프레임 생성하기\n",
        "            this_df['year] = year  # year 칼럼 생성하기\n",
        "            this_df['filename'] = filename  # 파일이름 칼럼 생성하기\n",
        "            my_dataframes.append(this_df)  # 리스트에 데이터 프레임 합치기\n",
        "\n",
        "- 여러개의 CSV파일을 합친 리스트를 데이터 프레임으로 바꾸기\n",
        "        my_entire_dataframe = pd.Dataframe()  # 빈 데이터 프레임 생성하기\n",
        "        my_entire_dataframe = pd.concat(my_dataframe)  # 리스트를 합쳐서 하나의 데이터 프레임으로 만들기 \n",
        "\n",
        "- 칼럼 삭제하기\n",
        "        df = df.drop( ['a', 'b'], axis = 1 )  # a, b 칼럼 삭제하기 \n",
        "\n",
        "\n",
        "- 데이터 정제하기\n",
        "        to_clean_cols = ['Worldwide','Domestic', 'Foreign' ]  # 칼럼 이름 리스트로 만들기\n",
        "        \n",
        "        def currency_str_to_int(current_val):\n",
        "            currency_val = current_val.replace('$', '').repalce(',', '') # 칼럼의 $표시와, ','삭제하기\n",
        "            try:\n",
        "                currency_val = int(cyrrency_val)  # 값을 수치형 값으로 변환하기\n",
        "            except:\n",
        "                currency_val = 0  # 수치형으로 바꿀수 없는 값의 경우 0으로 바뀨기\n",
        "\n",
        "        def clean_col(row):\n",
        "            for col in to_clean_cols:\n",
        "                current_val = row[col]  # 칼럼 이름을 변수로 변환하기\n",
        "                row[col] = currency_str_to_int(current_val)  # 해당 칼럼의 값을 바꾸고 수치형으로 변환하기\n",
        "            return row\n",
        "        \n",
        "        df_cleaned = df.apply(clean_col, axis = 1)  # 데이터 프레임에 칼럼에 함수를 적용하기\n",
        "\n"
      ]
    },
    {
      "cell_type": "markdown",
      "metadata": {
        "id": "7EfPy6XtS3aO",
        "colab_type": "text"
      },
      "source": [
        "## 200421_오늘코딩 영상 시청후 기록\n",
        "- 판다스 옵션 설정하기(최대행, 최대 열)\n",
        "        pd.option.display.max_columns = 100 # 볼수 있는 최대 칼럼을 100으로 설정하기\n",
        "        pd.option.display.max_rows = 1000 # 볼 수 있는 최대 행을 1000으로 설정하기\n",
        "\n",
        "- 멜트\n",
        "    - 칼럼에 있던 데이터를 행으로 옮기기\n",
        "    - 데이터 프레임을 2개 합칠 때 데이터 프레임의 형식을 맞출 때 사용할 수 있음.\n",
        "    \n",
        "            df.melt(id_vars = \"지역\", var_name = \"기간\", value_name = \"평당분양가격\") "
      ]
    },
    {
      "cell_type": "markdown",
      "metadata": {
        "id": "xAvx1UOvN_1h",
        "colab_type": "text"
      },
      "source": [
        "# ETC"
      ]
    },
    {
      "cell_type": "markdown",
      "metadata": {
        "id": "g4cjP7PEpUMh",
        "colab_type": "text"
      },
      "source": [
        "## 200417_루마퓨전 음량 페이드 아웃\n",
        "- 소리 편집하기\n",
        "- 반복하기\n",
        "    - 키프레임\n",
        "    - 음악\n",
        "    - 음량 조절\n"
      ]
    },
    {
      "cell_type": "code",
      "metadata": {
        "id": "ZkulZYDtpiIl",
        "colab_type": "code",
        "colab": {}
      },
      "source": [
        ""
      ],
      "execution_count": 0,
      "outputs": []
    }
  ]
}
{
  "nbformat": 4,
  "nbformat_minor": 0,
  "metadata": {
    "colab": {
      "name": "TIL_2020_04.ipynb",
      "provenance": [],
      "authorship_tag": "ABX9TyMKobKRnCxdlNbRPZ2YGcmR",
      "include_colab_link": true
    },
    "kernelspec": {
      "name": "python3",
      "display_name": "Python 3"
    }
  },
  "cells": [
    {
      "cell_type": "markdown",
      "metadata": {
        "id": "view-in-github",
        "colab_type": "text"
      },
      "source": [
        "<a href=\"https://colab.research.google.com/github/951237/TIL/blob/master/TIL_2020_04.ipynb\" target=\"_parent\"><img src=\"https://colab.research.google.com/assets/colab-badge.svg\" alt=\"Open In Colab\"/></a>"
      ]
    },
    {
      "cell_type": "markdown",
      "metadata": {
        "id": "GBtsMFKD_QDz",
        "colab_type": "text"
      },
      "source": [
        "# 파이썬"
      ]
    },
    {
      "cell_type": "markdown",
      "metadata": {
        "id": "kl5FNGbg_VXy",
        "colab_type": "text"
      },
      "source": [
        "## 200403_코랩에서 유투브 화면 나오게 하기\n",
        "        from IPython.display import YouTubeVideo  # 라이브러리 호출\n",
        "        YouTubeVideo('cf_M1oEnAxY') # 유투브 공유주소중 마지막 부분"
      ]
    },
    {
      "cell_type": "code",
      "metadata": {
        "id": "4rmYy_WX_s5G",
        "colab_type": "code",
        "colab": {}
      },
      "source": [
        ""
      ],
      "execution_count": 0,
      "outputs": []
    }
  ]
}
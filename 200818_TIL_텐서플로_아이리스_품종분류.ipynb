{
  "nbformat": 4,
  "nbformat_minor": 0,
  "metadata": {
    "colab": {
      "name": "200818_TIL_텐서플로_아이리스 품종분류.ipynb",
      "provenance": [],
      "authorship_tag": "ABX9TyOC6t5h9p+CKzE5XhUCkqcg",
      "include_colab_link": true
    },
    "kernelspec": {
      "name": "python3",
      "display_name": "Python 3"
    }
  },
  "cells": [
    {
      "cell_type": "markdown",
      "metadata": {
        "id": "view-in-github",
        "colab_type": "text"
      },
      "source": [
        "<a href=\"https://colab.research.google.com/github/951237/TIL/blob/master/200818_TIL_%ED%85%90%EC%84%9C%ED%94%8C%EB%A1%9C_%EC%95%84%EC%9D%B4%EB%A6%AC%EC%8A%A4_%ED%92%88%EC%A2%85%EB%B6%84%EB%A5%98.ipynb\" target=\"_parent\"><img src=\"https://colab.research.google.com/assets/colab-badge.svg\" alt=\"Open In Colab\"/></a>"
      ]
    },
    {
      "cell_type": "markdown",
      "metadata": {
        "id": "ctsV2VcnO_DE",
        "colab_type": "text"
      },
      "source": [
        "# 코딩야학 - 텐서플로 아이리스 품종 분류"
      ]
    },
    {
      "cell_type": "markdown",
      "metadata": {
        "id": "LU3C7082PJB-",
        "colab_type": "text"
      },
      "source": [
        "## 0. 라이브러리 호출 및 변수 선언선언"
      ]
    },
    {
      "cell_type": "code",
      "metadata": {
        "id": "ATH3y0GfPiI_",
        "colab_type": "code",
        "colab": {}
      },
      "source": [
        "import tensorflow as tf\n",
        "import pandas as pd\n",
        "\n",
        "URL = 'https://raw.githubusercontent.com/blackdew/tensorflow1/master/csv/iris.csv'"
      ],
      "execution_count": 1,
      "outputs": []
    },
    {
      "cell_type": "markdown",
      "metadata": {
        "id": "lqj0Dqd9PO7W",
        "colab_type": "text"
      },
      "source": [
        "## 1. 과거의 데이터 준비준비"
      ]
    },
    {
      "cell_type": "code",
      "metadata": {
        "id": "9K4gXlvcP1kc",
        "colab_type": "code",
        "colab": {}
      },
      "source": [
        "iris = pd.read_csv(URL)\n",
        "iris"
      ],
      "execution_count": null,
      "outputs": []
    },
    {
      "cell_type": "code",
      "metadata": {
        "id": "bqAVjeE-QBLv",
        "colab_type": "code",
        "colab": {}
      },
      "source": [
        "iris = pd.get_dummies(iris) # 원핫 인코딩 - 분류값을 수치화 시켜줌."
      ],
      "execution_count": null,
      "outputs": []
    },
    {
      "cell_type": "code",
      "metadata": {
        "id": "b0XsuWC_VM72",
        "colab_type": "code",
        "colab": {
          "base_uri": "https://localhost:8080/",
          "height": 255
        },
        "outputId": "90cc1ae8-2b63-474c-eea0-dc7976a146f6"
      },
      "source": [
        "iris.info()"
      ],
      "execution_count": 21,
      "outputs": [
        {
          "output_type": "stream",
          "text": [
            "<class 'pandas.core.frame.DataFrame'>\n",
            "RangeIndex: 150 entries, 0 to 149\n",
            "Data columns (total 7 columns):\n",
            " #   Column         Non-Null Count  Dtype  \n",
            "---  ------         --------------  -----  \n",
            " 0   꽃잎길이           150 non-null    float64\n",
            " 1   꽃잎폭            150 non-null    float64\n",
            " 2   꽃받침길이          150 non-null    float64\n",
            " 3   꽃받침폭           150 non-null    float64\n",
            " 4   품종_setosa      150 non-null    uint8  \n",
            " 5   품종_versicolor  150 non-null    uint8  \n",
            " 6   품종_virginica   150 non-null    uint8  \n",
            "dtypes: float64(4), uint8(3)\n",
            "memory usage: 5.3 KB\n"
          ],
          "name": "stdout"
        }
      ]
    },
    {
      "cell_type": "code",
      "metadata": {
        "id": "l3m_rp7rQLlA",
        "colab_type": "code",
        "colab": {
          "base_uri": "https://localhost:8080/",
          "height": 68
        },
        "outputId": "5799b934-e3d8-4717-b27e-3fd7731a6198"
      },
      "source": [
        "iris.columns"
      ],
      "execution_count": 4,
      "outputs": [
        {
          "output_type": "execute_result",
          "data": {
            "text/plain": [
              "Index(['꽃잎길이', '꽃잎폭', '꽃받침길이', '꽃받침폭', '품종_setosa', '품종_versicolor',\n",
              "       '품종_virginica'],\n",
              "      dtype='object')"
            ]
          },
          "metadata": {
            "tags": []
          },
          "execution_count": 4
        }
      ]
    },
    {
      "cell_type": "code",
      "metadata": {
        "id": "1DSbFvC4QPmm",
        "colab_type": "code",
        "colab": {}
      },
      "source": [
        "i_val = iris[['꽃잎길이', '꽃잎폭', '꽃받침길이', '꽃받침폭']] # 독립변수 / 독립변수 만들때 데이터프레임 붙여주기\n",
        "d_val = iris[['품종_setosa', '품종_versicolor', '품종_virginica']] # 종속변수 / 종속변수 만들때 데이터 프레임 붙여주기"
      ],
      "execution_count": 28,
      "outputs": []
    },
    {
      "cell_type": "markdown",
      "metadata": {
        "id": "ftV9BzklPPCo",
        "colab_type": "text"
      },
      "source": [
        "## 2. 모델의 구조 만들기"
      ]
    },
    {
      "cell_type": "code",
      "metadata": {
        "id": "kK00e22-Pi6D",
        "colab_type": "code",
        "colab": {}
      },
      "source": [
        "X = tf.keras.layers.Input(shape=[4])\n",
        "Y = tf.keras.layers.Dense(3, activation='softmax')(X)\n",
        "model = tf.keras.models.Model(X, Y)\n",
        "model.compile(loss='categorical_crossentropy', metrics = 'accuracy')"
      ],
      "execution_count": 23,
      "outputs": []
    },
    {
      "cell_type": "markdown",
      "metadata": {
        "id": "QcrnfI7oPPFw",
        "colab_type": "text"
      },
      "source": [
        "## 3. 데이터로 모델 학습(FIT)"
      ]
    },
    {
      "cell_type": "code",
      "metadata": {
        "id": "cRqVI4UQRLh0",
        "colab_type": "code",
        "colab": {}
      },
      "source": [
        "model.fit(i_val, d_val, epochs=1000)"
      ],
      "execution_count": null,
      "outputs": []
    },
    {
      "cell_type": "markdown",
      "metadata": {
        "id": "WGVRaAOIPPKi",
        "colab_type": "text"
      },
      "source": [
        "## 4. 모델이용하기"
      ]
    },
    {
      "cell_type": "code",
      "metadata": {
        "id": "iCoiw0H9PPOe",
        "colab_type": "code",
        "colab": {
          "base_uri": "https://localhost:8080/",
          "height": 102
        },
        "outputId": "768d4a6f-0a11-4549-b4a8-05f5fef6be0c"
      },
      "source": [
        "print(\"예측하기 : \", model.predict(i_val[0:5])) # 예측 데이터는 독립변수에서 가져다 쓰기"
      ],
      "execution_count": 27,
      "outputs": [
        {
          "output_type": "stream",
          "text": [
            "예측하기 :  [[9.9913579e-01 8.6428539e-04 5.1399343e-08]\n",
            " [9.9644381e-01 3.5557006e-03 4.4359976e-07]\n",
            " [9.9837118e-01 1.6285523e-03 1.8155747e-07]\n",
            " [9.9538332e-01 4.6158275e-03 8.4581143e-07]\n",
            " [9.9929857e-01 7.0137350e-04 4.2282398e-08]]\n"
          ],
          "name": "stdout"
        }
      ]
    },
    {
      "cell_type": "code",
      "metadata": {
        "id": "8i06bKoyPPR6",
        "colab_type": "code",
        "colab": {}
      },
      "source": [
        ""
      ],
      "execution_count": null,
      "outputs": []
    }
  ]
}
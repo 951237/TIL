{
  "nbformat": 4,
  "nbformat_minor": 0,
  "metadata": {
    "colab": {
      "name": "200817_TIL_텐서플로_보스턴 집값예측하기.ipynb",
      "provenance": [],
      "authorship_tag": "ABX9TyNrnJkk53+KOSwW9WufRkAF",
      "include_colab_link": true
    },
    "kernelspec": {
      "name": "python3",
      "display_name": "Python 3"
    }
  },
  "cells": [
    {
      "cell_type": "markdown",
      "metadata": {
        "id": "view-in-github",
        "colab_type": "text"
      },
      "source": [
        "<a href=\"https://colab.research.google.com/github/951237/TIL/blob/master/200817_TIL_%ED%85%90%EC%84%9C%ED%94%8C%EB%A1%9C_%EB%B3%B4%EC%8A%A4%ED%84%B4_%EC%A7%91%EA%B0%92%EC%98%88%EC%B8%A1%ED%95%98%EA%B8%B0.ipynb\" target=\"_parent\"><img src=\"https://colab.research.google.com/assets/colab-badge.svg\" alt=\"Open In Colab\"/></a>"
      ]
    },
    {
      "cell_type": "markdown",
      "metadata": {
        "id": "pZ1iBBBka_fe",
        "colab_type": "text"
      },
      "source": [
        "# 보스턴 집값예측하기"
      ]
    },
    {
      "cell_type": "markdown",
      "metadata": {
        "id": "CGpmv4TsbJcK",
        "colab_type": "text"
      },
      "source": [
        "# 0. 라이브러리 및 변수 지정하기"
      ]
    },
    {
      "cell_type": "code",
      "metadata": {
        "id": "7Dfw7SlZbJjs",
        "colab_type": "code",
        "colab": {}
      },
      "source": [
        "import tensorflow as tf\n",
        "import pandas as pd"
      ],
      "execution_count": 1,
      "outputs": []
    },
    {
      "cell_type": "code",
      "metadata": {
        "id": "tSS3rKT8bJmP",
        "colab_type": "code",
        "colab": {}
      },
      "source": [
        "URL = \"https://raw.githubusercontent.com/blackdew/tensorflow1/master/csv/boston.csv\" #보스턴 데이터셋 링크"
      ],
      "execution_count": 2,
      "outputs": []
    },
    {
      "cell_type": "code",
      "metadata": {
        "id": "ARokmR55bJpA",
        "colab_type": "code",
        "colab": {}
      },
      "source": [
        "boston_house_price = pd.read_csv(URL)"
      ],
      "execution_count": 3,
      "outputs": []
    },
    {
      "cell_type": "code",
      "metadata": {
        "id": "mgDeVso4bJsT",
        "colab_type": "code",
        "colab": {
          "base_uri": "https://localhost:8080/",
          "height": 34
        },
        "outputId": "44adfda9-b4cc-4dab-8661-207851e47692"
      },
      "source": [
        "boston_house_price.shape"
      ],
      "execution_count": 6,
      "outputs": [
        {
          "output_type": "execute_result",
          "data": {
            "text/plain": [
              "(506, 14)"
            ]
          },
          "metadata": {
            "tags": []
          },
          "execution_count": 6
        }
      ]
    },
    {
      "cell_type": "code",
      "metadata": {
        "id": "7AxjMQPfcOal",
        "colab_type": "code",
        "colab": {
          "base_uri": "https://localhost:8080/",
          "height": 68
        },
        "outputId": "bc314b55-6eab-4916-8378-c38fc61f27e7"
      },
      "source": [
        "boston_house_price.columns"
      ],
      "execution_count": 8,
      "outputs": [
        {
          "output_type": "execute_result",
          "data": {
            "text/plain": [
              "Index(['crim', 'zn', 'indus', 'chas', 'nox', 'rm', 'age', 'dis', 'rad', 'tax',\n",
              "       'ptratio', 'b', 'lstat', 'medv'],\n",
              "      dtype='object')"
            ]
          },
          "metadata": {
            "tags": []
          },
          "execution_count": 8
        }
      ]
    },
    {
      "cell_type": "code",
      "metadata": {
        "id": "hcWsWwnZcTz0",
        "colab_type": "code",
        "colab": {}
      },
      "source": [
        "i_val = boston_house_price[['crim', 'zn', 'indus', 'chas', 'nox', 'rm', 'age', 'dis', 'rad', 'tax',\n",
        "       'ptratio', 'b', 'lstat']] # 집값에 영향을 미치는 독립변수\n",
        "d_val = boston_house_price[['medv']]"
      ],
      "execution_count": 10,
      "outputs": []
    },
    {
      "cell_type": "markdown",
      "metadata": {
        "id": "5RNDu86ybJu0",
        "colab_type": "text"
      },
      "source": [
        "## 2. 모델의 구조 만들기"
      ]
    },
    {
      "cell_type": "code",
      "metadata": {
        "id": "X9Cx1RlhbJxn",
        "colab_type": "code",
        "colab": {}
      },
      "source": [
        "X = tf.keras.layers.Input(shape=[13]) #\n",
        "Y = tf.keras.layers.Dense(1)(X)\n",
        "model = tf.keras.models.Model(X, Y)\n",
        "model.compile(loss=\"mse\")"
      ],
      "execution_count": 14,
      "outputs": []
    },
    {
      "cell_type": "markdown",
      "metadata": {
        "id": "WZOvkwlTbJ0c",
        "colab_type": "text"
      },
      "source": [
        "## 3. 모델 학습(FIT) 시키기"
      ]
    },
    {
      "cell_type": "code",
      "metadata": {
        "id": "DsDBOcQVbJ3S",
        "colab_type": "code",
        "colab": {
          "base_uri": "https://localhost:8080/",
          "height": 34
        },
        "outputId": "e70109b6-317f-4d1f-9308-a8ec07a6d646"
      },
      "source": [
        "model.fit(i_val, d_val, epochs=2000, verbose=0)"
      ],
      "execution_count": 18,
      "outputs": [
        {
          "output_type": "execute_result",
          "data": {
            "text/plain": [
              "<tensorflow.python.keras.callbacks.History at 0x7f654ed6c940>"
            ]
          },
          "metadata": {
            "tags": []
          },
          "execution_count": 18
        }
      ]
    },
    {
      "cell_type": "code",
      "metadata": {
        "id": "Cl8q85bzf7df",
        "colab_type": "code",
        "colab": {
          "base_uri": "https://localhost:8080/",
          "height": 374
        },
        "outputId": "00fc311c-7efd-43a9-d137-858bb6e63b9c"
      },
      "source": [
        "model.fit(i_val, d_val, epochs=10)"
      ],
      "execution_count": 19,
      "outputs": [
        {
          "output_type": "stream",
          "text": [
            "Epoch 1/10\n",
            "16/16 [==============================] - 0s 1ms/step - loss: 23.5985\n",
            "Epoch 2/10\n",
            "16/16 [==============================] - 0s 1ms/step - loss: 23.7519\n",
            "Epoch 3/10\n",
            "16/16 [==============================] - 0s 932us/step - loss: 23.7152\n",
            "Epoch 4/10\n",
            "16/16 [==============================] - 0s 891us/step - loss: 23.3573\n",
            "Epoch 5/10\n",
            "16/16 [==============================] - 0s 833us/step - loss: 23.5044\n",
            "Epoch 6/10\n",
            "16/16 [==============================] - 0s 904us/step - loss: 24.1415\n",
            "Epoch 7/10\n",
            "16/16 [==============================] - 0s 902us/step - loss: 23.3794\n",
            "Epoch 8/10\n",
            "16/16 [==============================] - 0s 843us/step - loss: 23.7903\n",
            "Epoch 9/10\n",
            "16/16 [==============================] - 0s 809us/step - loss: 23.7139\n",
            "Epoch 10/10\n",
            "16/16 [==============================] - 0s 905us/step - loss: 23.4731\n"
          ],
          "name": "stdout"
        },
        {
          "output_type": "execute_result",
          "data": {
            "text/plain": [
              "<tensorflow.python.keras.callbacks.History at 0x7f654ed2a5f8>"
            ]
          },
          "metadata": {
            "tags": []
          },
          "execution_count": 19
        }
      ]
    },
    {
      "cell_type": "markdown",
      "metadata": {
        "id": "ZJedBnm3bJ6G",
        "colab_type": "text"
      },
      "source": [
        "## 4. 모델 이용하기"
      ]
    },
    {
      "cell_type": "code",
      "metadata": {
        "id": "kHq9kna-fQRT",
        "colab_type": "code",
        "colab": {
          "base_uri": "https://localhost:8080/",
          "height": 102
        },
        "outputId": "88558d33-21f8-4299-fc62-530266edf9f8"
      },
      "source": [
        "print(\"예측하기 : \", model.predict(i_val[0:5]))"
      ],
      "execution_count": 20,
      "outputs": [
        {
          "output_type": "stream",
          "text": [
            "예측하기 :  [[29.880962]\n",
            " [24.73867 ]\n",
            " [31.180603]\n",
            " [29.718555]\n",
            " [29.326698]]\n"
          ],
          "name": "stdout"
        }
      ]
    }
  ]
}
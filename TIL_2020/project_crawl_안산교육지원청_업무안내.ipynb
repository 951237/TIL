{
  "nbformat": 4,
  "nbformat_minor": 0,
  "metadata": {
    "colab": {
      "name": "project_crawl_안산교육지원청_업무안내.ipynb",
      "provenance": [],
      "collapsed_sections": [],
      "toc_visible": true,
      "include_colab_link": true
    },
    "kernelspec": {
      "name": "python3",
      "display_name": "Python 3"
    }
  },
  "cells": [
    {
      "cell_type": "markdown",
      "metadata": {
        "id": "view-in-github",
        "colab_type": "text"
      },
      "source": [
        "<a href=\"https://colab.research.google.com/github/951237/TIL/blob/master/project_crawl_%EC%95%88%EC%82%B0%EA%B5%90%EC%9C%A1%EC%A7%80%EC%9B%90%EC%B2%AD_%EC%97%85%EB%AC%B4%EC%95%88%EB%82%B4.ipynb\" target=\"_parent\"><img src=\"https://colab.research.google.com/assets/colab-badge.svg\" alt=\"Open In Colab\"/></a>"
      ]
    },
    {
      "cell_type": "markdown",
      "metadata": {
        "id": "dgGfqMw-L_Zc",
        "colab_type": "text"
      },
      "source": [
        "# 안산교육지원청 업무 크롤링\n",
        "\n",
        "\n",
        "## 추가작업\n",
        "- 데이터 프레임에서 칼럼 고정하기"
      ]
    },
    {
      "cell_type": "markdown",
      "metadata": {
        "id": "E0TydfKzCWLN",
        "colab_type": "text"
      },
      "source": [
        "## 기초작업"
      ]
    },
    {
      "cell_type": "code",
      "metadata": {
        "id": "Shgh0qS2Fcti",
        "colab_type": "code",
        "colab": {
          "base_uri": "https://localhost:8080/",
          "height": 54
        },
        "outputId": "ad41cbaf-a9c3-4bf1-cbe6-e70f1725cb99"
      },
      "source": [
        "from google.colab import drive\n",
        "drive.mount('/content/drive')"
      ],
      "execution_count": 45,
      "outputs": [
        {
          "output_type": "stream",
          "text": [
            "Drive already mounted at /content/drive; to attempt to forcibly remount, call drive.mount(\"/content/drive\", force_remount=True).\n"
          ],
          "name": "stdout"
        }
      ]
    },
    {
      "cell_type": "markdown",
      "metadata": {
        "id": "k9Yue0_VCnWC",
        "colab_type": "text"
      },
      "source": [
        "### 라이브러리 불러오기"
      ]
    },
    {
      "cell_type": "code",
      "metadata": {
        "id": "yjtub30-c06v",
        "colab_type": "code",
        "colab": {}
      },
      "source": [
        "#!/usr/bin/env python3\n",
        "# -*- coding: utf-8 -*-\n",
        "# import requests\n",
        "import urllib.request\n",
        "from bs4 import BeautifulSoup\n",
        "import pandas as pd\n",
        "import openpyxl \n",
        "from google.colab import files \n",
        "import time"
      ],
      "execution_count": 0,
      "outputs": []
    },
    {
      "cell_type": "markdown",
      "metadata": {
        "id": "Sw_oFTl3CsJf",
        "colab_type": "text"
      },
      "source": [
        "## 함수만들기"
      ]
    },
    {
      "cell_type": "markdown",
      "metadata": {
        "id": "eRLRjoODCuh_",
        "colab_type": "text"
      },
      "source": [
        "### [함수]페이지 불러오기"
      ]
    },
    {
      "cell_type": "code",
      "metadata": {
        "id": "9blTY4mbdpRb",
        "colab_type": "code",
        "colab": {}
      },
      "source": [
        "def crawl(url):\n",
        "    html = urllib.request.urlopen(url)\n",
        "    print('html 페이지  요청 중...\\n')\n",
        "    return html"
      ],
      "execution_count": 0,
      "outputs": []
    },
    {
      "cell_type": "markdown",
      "metadata": {
        "id": "5qFgRH1NDA5h",
        "colab_type": "text"
      },
      "source": [
        "### [함수]담당자 리스트 만들기"
      ]
    },
    {
      "cell_type": "code",
      "metadata": {
        "id": "lcRbBVVOd2nj",
        "colab_type": "code",
        "colab": {}
      },
      "source": [
        "def get_person(office):\n",
        "    tds = office.findAll('td')\n",
        "    return {'tel' : tds[0].text, 'name' : tds[1].text, 'work' : tds[2].text.replace('\\t', '').replace('\\r', '').replace('\\n', ''), 'school' : tds[3].text.replace('\\t', '').replace('\\r', '').replace('\\n', ''), 'spair' : tds[4].text.replace('\\t', '').replace('\\r', '').replace('\\n', '')}"
      ],
      "execution_count": 0,
      "outputs": []
    },
    {
      "cell_type": "markdown",
      "metadata": {
        "id": "AVetnyKrC7y-",
        "colab_type": "text"
      },
      "source": [
        "### [함수]웹페이지 파싱하기"
      ]
    },
    {
      "cell_type": "code",
      "metadata": {
        "id": "8w8aYY6edu4H",
        "colab_type": "code",
        "colab": {}
      },
      "source": [
        "def parser(html):\n",
        "    bs_obj = BeautifulSoup(html, \"html.parser\")\n",
        "    print('html 페이지 파싱 중...\\n')\n",
        "    office = bs_obj.findAll('div', {'class' : 'office'})\n",
        "    persons = []\n",
        "    for td in office:\n",
        "        person = get_person(td)\n",
        "        persons.append(person)\n",
        "    print('데이터 추출 완료!')\n",
        "    return persons"
      ],
      "execution_count": 0,
      "outputs": []
    },
    {
      "cell_type": "markdown",
      "metadata": {
        "id": "rpay0gK-Db_-",
        "colab_type": "text"
      },
      "source": [
        "### [함수]페이지 크롤링하기"
      ]
    },
    {
      "cell_type": "code",
      "metadata": {
        "id": "d8jCB20Nd7Ss",
        "colab_type": "code",
        "colab": {}
      },
      "source": [
        "def crawl_page(no):\n",
        "    url = 'http://www.goeas.kr/USR/ORG/MNU6/OrgDetail.do?orgType={}'.format(no)\n",
        "    html = crawl(url)\n",
        "    persons = parser(html)\n",
        "    print('%s페이지 처리 완료!\\n' %(no))\n",
        "    return persons"
      ],
      "execution_count": 0,
      "outputs": []
    },
    {
      "cell_type": "markdown",
      "metadata": {
        "id": "QlWheVwNDoCu",
        "colab_type": "text"
      },
      "source": [
        "### [함수]파일 저장하기"
      ]
    },
    {
      "cell_type": "code",
      "metadata": {
        "id": "nvyZJMHiSkp3",
        "colab_type": "code",
        "colab": {}
      },
      "source": [
        "def save(df, filename):\n",
        "    writer = pd.ExcelWriter(filename)\n",
        "    df.to_excel(filename)\n",
        "    files.download(filename)"
      ],
      "execution_count": 0,
      "outputs": []
    },
    {
      "cell_type": "code",
      "metadata": {
        "id": "g6-8LdqATVBL",
        "colab_type": "code",
        "outputId": "4143b55f-6ffc-4c1c-e2a1-284e49ad7c96",
        "colab": {
          "base_uri": "https://localhost:8080/",
          "height": 566
        }
      },
      "source": [
        "timestr = time.strftime(\"%Y%m%d-%H%M%S\") #오늘\n",
        "result = []\n",
        "pages = ['A', 'B', 'C', 'D']\n",
        "\n",
        "for no in pages:\n",
        "    result = result + crawl_page(no)\n",
        "\n",
        "df = pd.DataFrame(result)\n",
        "\n",
        "save(df, '안산교육지원청_업무분장_{}.xlsx'.format(timestr))\n",
        "print('파일저장 완료...')"
      ],
      "execution_count": 52,
      "outputs": [
        {
          "output_type": "stream",
          "text": [
            "html 페이지  요청 중...\n",
            "\n"
          ],
          "name": "stdout"
        },
        {
          "output_type": "stream",
          "text": [
            "Some characters could not be decoded, and were replaced with REPLACEMENT CHARACTER.\n"
          ],
          "name": "stderr"
        },
        {
          "output_type": "stream",
          "text": [
            "html 페이지 파싱 중...\n",
            "\n",
            "데이터 추출 완료!\n",
            "A페이지 처리 완료!\n",
            "\n",
            "html 페이지  요청 중...\n",
            "\n"
          ],
          "name": "stdout"
        },
        {
          "output_type": "stream",
          "text": [
            "Some characters could not be decoded, and were replaced with REPLACEMENT CHARACTER.\n"
          ],
          "name": "stderr"
        },
        {
          "output_type": "stream",
          "text": [
            "html 페이지 파싱 중...\n",
            "\n",
            "데이터 추출 완료!\n",
            "B페이지 처리 완료!\n",
            "\n",
            "html 페이지  요청 중...\n",
            "\n"
          ],
          "name": "stdout"
        },
        {
          "output_type": "stream",
          "text": [
            "Some characters could not be decoded, and were replaced with REPLACEMENT CHARACTER.\n"
          ],
          "name": "stderr"
        },
        {
          "output_type": "stream",
          "text": [
            "html 페이지 파싱 중...\n",
            "\n",
            "데이터 추출 완료!\n",
            "C페이지 처리 완료!\n",
            "\n",
            "html 페이지  요청 중...\n",
            "\n"
          ],
          "name": "stdout"
        },
        {
          "output_type": "stream",
          "text": [
            "Some characters could not be decoded, and were replaced with REPLACEMENT CHARACTER.\n"
          ],
          "name": "stderr"
        },
        {
          "output_type": "stream",
          "text": [
            "html 페이지 파싱 중...\n",
            "\n",
            "데이터 추출 완료!\n",
            "D페이지 처리 완료!\n",
            "\n"
          ],
          "name": "stdout"
        }
      ]
    },
    {
      "cell_type": "markdown",
      "metadata": {
        "id": "RXD-S2D-8y9o",
        "colab_type": "text"
      },
      "source": [
        "## 과제수행하기"
      ]
    },
    {
      "cell_type": "markdown",
      "metadata": {
        "id": "E0qlPzkaGK-8",
        "colab_type": "text"
      },
      "source": [
        "### 저장파일에 오늘 날짜 달기"
      ]
    },
    {
      "cell_type": "code",
      "metadata": {
        "id": "OVw9m6h6G3W9",
        "colab_type": "code",
        "colab": {}
      },
      "source": [
        ""
      ],
      "execution_count": 0,
      "outputs": []
    }
  ]
}
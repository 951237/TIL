{
  "nbformat": 4,
  "nbformat_minor": 0,
  "metadata": {
    "colab": {
      "name": "TIL_ 200601_코로나 현황 스크래핑 feat 음성지원.ipynb",
      "provenance": [],
      "authorship_tag": "ABX9TyPh/MNbb4O0h+7+HZynbeAV",
      "include_colab_link": true
    },
    "kernelspec": {
      "name": "python3",
      "display_name": "Python 3"
    }
  },
  "cells": [
    {
      "cell_type": "markdown",
      "metadata": {
        "id": "view-in-github",
        "colab_type": "text"
      },
      "source": [
        "<a href=\"https://colab.research.google.com/github/951237/TIL/blob/master/TIL__200601_%EC%BD%94%EB%A1%9C%EB%82%98_%ED%98%84%ED%99%A9_%EC%8A%A4%ED%81%AC%EB%9E%98%ED%95%91_feat_%EC%9D%8C%EC%84%B1%EC%A7%80%EC%9B%90.ipynb\" target=\"_parent\"><img src=\"https://colab.research.google.com/assets/colab-badge.svg\" alt=\"Open In Colab\"/></a>"
      ]
    },
    {
      "cell_type": "code",
      "metadata": {
        "id": "v2XtMP2YZ381",
        "colab_type": "code",
        "outputId": "b0aaa7a9-0726-4992-bfd6-0a08d19b8183",
        "colab": {
          "base_uri": "https://localhost:8080/",
          "height": 190
        }
      },
      "source": [
        "!pip install pyttsx3\n",
        "!pip install SpeechRecognition"
      ],
      "execution_count": 0,
      "outputs": [
        {
          "output_type": "stream",
          "text": [
            "Collecting pyttsx3\n",
            "  Downloading https://files.pythonhosted.org/packages/fd/4b/4981cc11f1a288fa44fb906e07786eaa081b1b42da3f6dce38fe16af0d99/pyttsx3-2.87-py3-none-any.whl\n",
            "Installing collected packages: pyttsx3\n",
            "Successfully installed pyttsx3-2.87\n",
            "Collecting SpeechRecognition\n",
            "\u001b[?25l  Downloading https://files.pythonhosted.org/packages/26/e1/7f5678cd94ec1234269d23756dbdaa4c8cfaed973412f88ae8adf7893a50/SpeechRecognition-3.8.1-py2.py3-none-any.whl (32.8MB)\n",
            "\u001b[K     |████████████████████████████████| 32.8MB 123kB/s \n",
            "\u001b[?25hInstalling collected packages: SpeechRecognition\n",
            "Successfully installed SpeechRecognition-3.8.1\n"
          ],
          "name": "stdout"
        }
      ]
    },
    {
      "cell_type": "code",
      "metadata": {
        "id": "RYsrEAKiZw9u",
        "colab_type": "code",
        "colab": {}
      },
      "source": [
        "import requests, json       # \n",
        "import pyttsx3      # 음성 글씨로 나타냄\n",
        "import re, threading, time  # threading - 코드를 병렬로 실행시키기 위함.\n",
        "import speech_recognition as sr     # 음성인식 라이브러리"
      ],
      "execution_count": 0,
      "outputs": []
    },
    {
      "cell_type": "code",
      "metadata": {
        "id": "2bhmXUmKY2C3",
        "colab_type": "code",
        "colab": {}
      },
      "source": [
        "# api키 값 - parsehub.com 사이트 \n",
        "API_KEY = \" \"   \n",
        "PROJECT_TOKEN = \"\"\n",
        "RUN_TOKEN = \"\""
      ],
      "execution_count": 0,
      "outputs": []
    },
    {
      "cell_type": "code",
      "metadata": {
        "id": "-dw3CGi1Y4om",
        "colab_type": "code",
        "colab": {}
      },
      "source": [
        "# 클래스 생성\n",
        "class Data():\n",
        "    # 클래스 초기화\n",
        "    def __init__(self, api_key, project_token):\n",
        "        self.api_key = api_key      # api키\n",
        "        self.project_token = project_token  # 프로젝트 킥\n",
        "        self.param = {\n",
        "            \"api_key\" : self.api_key    # 파라미터 api키\n",
        "        }\n",
        "        self.data = self.get_data()     # 데이터 가져와서 데이터에 넣기. 함수가 아래에 정의 되어 있는데, 작동하네\n",
        "    \n",
        "    #  함수 - 데이터 가져오기\n",
        "    def get_data(self):\n",
        "        response = requests.get(f'https://www.parsehbu.com/api/v2/projects/{self.project_token}/last_ready_run/data', params=self.params)   # 리퀘스트로 내용가져오기\n",
        "        data = json.loads(response.text)    # 가져온 json 내용을 데이터 변수에 지정\n",
        "        return Data \n",
        "\n",
        "    # 함수 - 전체 확진자 데이터 얻기\n",
        "    def get_total_cases(self):\n",
        "        data = self.data['total']       # json파일에서 전체 값 가져오기\n",
        "\n",
        "        for content in data:        # 반복문\n",
        "            if content['name'] == 'Coronavirus Cases:':      # json에서 일치하는 값 가져오기\n",
        "                return content['value']     # 값 리턴\n",
        "\n",
        "    # 함수 - 전체 사망자 데이터 가져오기\n",
        "    def get_total_deaths(self):     \n",
        "        data = self.data['total']       # json에서 total 전체 가져오기\n",
        "\n",
        "        for content in data:        # 반복문\n",
        "            if content['name'] == 'Deaths:':    # 사망자 레이블 일치하는 경우\n",
        "                return content['value']     # 데이터 반환 숫자 반환\n",
        "\n",
        "        return \"0\"      # 해당없으면 0으로 반환\n",
        "\n",
        "    # 함수 나라가져오기\n",
        "    def get_country_data(self, country):\n",
        "        data = self.data['country']     # 나라 데이터 호출\n",
        "\n",
        "        for content in data:\n",
        "            if content['name'].lower() == country.lower():      # 파라미터의 나라를 찾으면 값을 반환\n",
        "                return content\n",
        "        return \"0\"\n",
        "\n",
        "    # 나라이름 리스트 만들기\n",
        "    def get_list_of_countries(self):        \n",
        "        countries = []      # 나라명을 담을 빈 리스트 생성\n",
        "\n",
        "        for country in self.data['country']:        # 나라데이터에서\n",
        "            countries.append(country['name'].lower())   #나라이름만 리스트에 담기\n",
        "\n",
        "    # 데이터 업데이트 하기\n",
        "    def update_data(self):  \n",
        "        response = requests.post(f'https://www.parsehbu.com/api/v2/projects/{self.project_token}/run', params=self.params)      # 토큰 이용하여 \n",
        "\n",
        "        def poll():\n",
        "            time.sleep(0.1)     # 0.1초 쉬고\n",
        "            old_data = self.data        # 기존데이터를 old데이터로 지정\n",
        "            while True:     # 항상 반복문\n",
        "                new_data = self.get_data()      # 가져온 데이터를 새 데이터로 지정하고\n",
        "                if new_data != old_data:        # 만약에 예전 데이터랑 새로가져온 데이터가 다르면\n",
        "                    self.data = new_data        # 새로운 데이터를 데이터로 지정\n",
        "                    print('Data updated')       # 업데이트 문구 출력\n",
        "                    break       # 반복문 빠져나가기\n",
        "            time.sleep(5)       # 5초간 쉬자\n",
        "\n",
        "        t = threading.Thread(target=poll)       # 타겟 지정시 함수의 '()'부분을 뺌. poll 함수를 병렬로 실행\n",
        "        t.start()       # 병렬로 실행 시작"
      ],
      "execution_count": 0,
      "outputs": []
    },
    {
      "cell_type": "code",
      "metadata": {
        "id": "qvskd1zhY8Oh",
        "colab_type": "code",
        "colab": {}
      },
      "source": [
        "# 말한 텍스트를 글자로 출력\n",
        "def speak(text):        \n",
        "    engine = pyttsx3.init()     # tts함수 초기화. engin 오브젝트 생성\n",
        "    engine.say(text)        # 텍스트를 문자로 출력 라이브러리에 담기\n",
        "    engine.runAndWait()\n",
        "\n",
        "# 음성인식 함수\n",
        "def get_audio():       \n",
        "    r = sr.Recognizer()     # 오브젝트 생성\n",
        "    with sr.Microphone() as source:     # 마이크로 듣는데\n",
        "        audio = r.listen(source)        # 들은 음성을 오디오로 지정\n",
        "        said = \"\"       # 말한것은 초기화\n",
        "\n",
        "    try:        \n",
        "        said = r.recognize_google(audio)        # 오디오를 구글 인식함수로 처리해서 said에 담기\n",
        "\n",
        "    except Exception as e:      # 혹시 모를 예외가 생기면\n",
        "        print(\"Exception:\", str(e))     # 오류 출력하기\n",
        "\n",
        "    return said.lower()     # 들은 것들을 소문자로 바꾸어서 반환"
      ],
      "execution_count": 0,
      "outputs": []
    },
    {
      "cell_type": "code",
      "metadata": {
        "id": "9v25tibrlz1G",
        "colab_type": "code",
        "colab": {}
      },
      "source": [
        "\n",
        "# 메인함수\n",
        "def main():\n",
        "    print(\"Started Programs\")       # 시작 문구 출력\n",
        "    data = Data(API_KEY, PROJECT_TOKEN)     # 데이터 오브젝트 생성하기\n",
        "    END_PHRASE = 'stop'     # 끝내기 변수 stop 저장\n",
        "    country_list = data.get_list_of_countries()     # 나라이름 리스트로 저장\n",
        "\n",
        "# 패턴인식\n",
        "    TOTAL_PATTERNS = {      # 음성인식 받은 부분은 키값, 함수부분은 밸류값으로 딕셔너리로 이용함.\n",
        "        re.compile(\"[\\w\\s] + total [\\w\\s] + cases\") : data.get_total_cases,     # 신기한거 함수에 ()가 없음. \\w\\s 는 어떤 단어가 오더라도. 전체 확진자 묻고 담하기 패턴\n",
        "        re.compile(\"[\\w\\s] + total cases\") : data.get_total_cases,      # 전체 확진자 묻고 담하기 패턴\n",
        "        re.compile(\"[\\w\\s] + total [\\w\\s] + deaths\") : data.get_total_deaths,       # 전체 사망자 물었을 때 값 반환\n",
        "        re.compile(\"[\\w\\s] + total deaths\") : data.get_total_deaths     # 전체 사망자 물었을 때 값 반환\n",
        "    }\n",
        "\n",
        "    COUNTRY_PATTERNS = {\n",
        "        re.compile(\"[\\w\\s] + cases [\\w\\s] + \") : lambda country : data.get_countries_data(country)['total_cases'],      # 해당 나라의 전체 확진자 반환\n",
        "        re.compile(\"[\\w\\s] + deaths [\\w\\s] + \") : lambda country : data.get_countries_data(country)['total_deaths']     # 해당 나라의 전체 사망자 반환\n",
        "    }\n",
        "\n",
        "    UPDATE_COMMAND = \"update\"       # 업데이트 명령 지정\n",
        "\n",
        "    while True:     # 계속 반복문\n",
        "        print(\"Listening...\")       # 시작문구 출력\n",
        "        text = get_audio()      # 음성으로 받아서 텍스트에 저장\n",
        "        print(text)     # 입력받은 텍스트 출력\n",
        "        result = None       # result값은 초기화\n",
        "\n",
        "        for pattern, func in COUNTRY_PATTERNS.items():      # 패턴 딕셔너리 호출 반복문\n",
        "            if pattern.match(text):     # 입력받은 문구가 패턴이랑 일치하면\n",
        "                words = set(text.split(\" \"))        # 텍스트를 공백으로 나눠서 word에 집합자료형으로 바꿈. 집합자료형은 중복을 허용하지 않음.\n",
        "                for country in country_list:        # 나라 이름 리스트를 반복문으로 돌리면서\n",
        "                    if country in words:        # word에 나라이름이 있으면\n",
        "                        result = func(country)      # 패턴에 맞게 함수의 값을 출력(사망자 혹은 확진자)\n",
        "                        break       # 나가자\n",
        "        \n",
        "        for pattern, func in TOTAL_PATTERNS.itmes():    # 전체 패턴 딕셔너리 호출 반복문\n",
        "            if pattern.match(text):     # 입력받은 텍스트가 패턴에 일치하면\n",
        "                result = func()     # 패턴에 해당하는 함수의 값을 반환\n",
        "                break\n",
        "\n",
        "    # 업데이트 하기\n",
        "        if text == UPDATE_COMMAND:      # 무한반복문에서 업데이트 명령이 들어오면\n",
        "            result = \"Data is being updated. This may take a moment.\"   # 얻데이트 문구 출력\n",
        "            data.update_data()      # 업데이트 하기\n",
        "\n",
        "        if result:      # 결과값이 있으면\n",
        "            speak(result)   # 결과를 음성으로 출력\n",
        "\n",
        "        if text.find(END_PHRASE) != -1:     # 끝내는 명령어를 찾으면\n",
        "            print(\"Exit\")       # 문구 출력하고\n",
        "            break       # 무한반복문 탈출하기\n"
      ],
      "execution_count": 0,
      "outputs": []
    }
  ]
}
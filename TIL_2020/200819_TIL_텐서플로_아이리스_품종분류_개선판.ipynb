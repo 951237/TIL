{
  "nbformat": 4,
  "nbformat_minor": 0,
  "metadata": {
    "colab": {
      "name": "200819_TIL_텐서플로_아이리스 품종분류_개선판.ipynb",
      "provenance": [],
      "authorship_tag": "ABX9TyOAd5FnKNVUL4X7AkRk0RjB",
      "include_colab_link": true
    },
    "kernelspec": {
      "name": "python3",
      "display_name": "Python 3"
    }
  },
  "cells": [
    {
      "cell_type": "markdown",
      "metadata": {
        "id": "view-in-github",
        "colab_type": "text"
      },
      "source": [
        "<a href=\"https://colab.research.google.com/github/951237/TIL/blob/master/200819_TIL_%ED%85%90%EC%84%9C%ED%94%8C%EB%A1%9C_%EC%95%84%EC%9D%B4%EB%A6%AC%EC%8A%A4_%ED%92%88%EC%A2%85%EB%B6%84%EB%A5%98_%EA%B0%9C%EC%84%A0%ED%8C%90.ipynb\" target=\"_parent\"><img src=\"https://colab.research.google.com/assets/colab-badge.svg\" alt=\"Open In Colab\"/></a>"
      ]
    },
    {
      "cell_type": "markdown",
      "metadata": {
        "id": "ctsV2VcnO_DE",
        "colab_type": "text"
      },
      "source": [
        "# 코딩야학 - 텐서플로 아이리스 품종 분류"
      ]
    },
    {
      "cell_type": "markdown",
      "metadata": {
        "id": "LU3C7082PJB-",
        "colab_type": "text"
      },
      "source": [
        "## 0. 라이브러리 호출 및 변수 선언선언"
      ]
    },
    {
      "cell_type": "code",
      "metadata": {
        "id": "ATH3y0GfPiI_",
        "colab_type": "code",
        "colab": {}
      },
      "source": [
        "import tensorflow as tf\n",
        "import pandas as pd\n",
        "\n",
        "URL = 'https://raw.githubusercontent.com/blackdew/tensorflow1/master/csv/iris.csv'"
      ],
      "execution_count": 3,
      "outputs": []
    },
    {
      "cell_type": "markdown",
      "metadata": {
        "id": "lqj0Dqd9PO7W",
        "colab_type": "text"
      },
      "source": [
        "## 1. 과거의 데이터 준비준비"
      ]
    },
    {
      "cell_type": "code",
      "metadata": {
        "id": "9K4gXlvcP1kc",
        "colab_type": "code",
        "colab": {}
      },
      "source": [
        "iris = pd.read_csv(URL)"
      ],
      "execution_count": 4,
      "outputs": []
    },
    {
      "cell_type": "code",
      "metadata": {
        "id": "bqAVjeE-QBLv",
        "colab_type": "code",
        "colab": {}
      },
      "source": [
        "iris = pd.get_dummies(iris) # 원핫 인코딩 - 분류값을 수치화 시켜줌."
      ],
      "execution_count": 5,
      "outputs": []
    },
    {
      "cell_type": "code",
      "metadata": {
        "id": "l3m_rp7rQLlA",
        "colab_type": "code",
        "colab": {
          "base_uri": "https://localhost:8080/",
          "height": 68
        },
        "outputId": "f0311ebd-c837-472d-92dd-27aeb3dcc2e2"
      },
      "source": [
        "iris.columns"
      ],
      "execution_count": 6,
      "outputs": [
        {
          "output_type": "execute_result",
          "data": {
            "text/plain": [
              "Index(['꽃잎길이', '꽃잎폭', '꽃받침길이', '꽃받침폭', '품종_setosa', '품종_versicolor',\n",
              "       '품종_virginica'],\n",
              "      dtype='object')"
            ]
          },
          "metadata": {
            "tags": []
          },
          "execution_count": 6
        }
      ]
    },
    {
      "cell_type": "code",
      "metadata": {
        "id": "1DSbFvC4QPmm",
        "colab_type": "code",
        "colab": {}
      },
      "source": [
        "i_val = iris[['꽃잎길이', '꽃잎폭', '꽃받침길이', '꽃받침폭']] # 독립변수 / 독립변수 만들때 데이터프레임 붙여주기\n",
        "d_val = iris[['품종_setosa', '품종_versicolor', '품종_virginica']] # 종속변수 / 종속변수 만들때 데이터 프레임 붙여주기"
      ],
      "execution_count": 7,
      "outputs": []
    },
    {
      "cell_type": "markdown",
      "metadata": {
        "id": "ftV9BzklPPCo",
        "colab_type": "text"
      },
      "source": [
        "## 2. 모델의 구조 만들기"
      ]
    },
    {
      "cell_type": "code",
      "metadata": {
        "id": "kK00e22-Pi6D",
        "colab_type": "code",
        "colab": {}
      },
      "source": [
        "X = tf.keras.layers.Input(shape=[4]) #독립변수가 4개\n",
        "\n",
        "H = tf.keras.layers.Dense(8)(X)\n",
        "H = tf.keras.layers.BatchNormalization()(H)\n",
        "H = tf.keras.layers.Activation('swish')(H)\n",
        "\n",
        "H = tf.keras.layers.Dense(8)(H)\n",
        "H = tf.keras.layers.BatchNormalization()(H)\n",
        "H = tf.keras.layers.Activation('swish')(H)\n",
        "\n",
        "H = tf.keras.layers.Dense(8)(H)\n",
        "H = tf.keras.layers.BatchNormalization()(H)\n",
        "H = tf.keras.layers.Activation('swish')(H)\n",
        "\n",
        "Y = tf.keras.layers.Dense(3, activation='softmax')(H)\n",
        "model = tf.keras.models.Model(X, Y)\n",
        "model.compile(loss='categorical_crossentropy', metrics = 'accuracy')"
      ],
      "execution_count": 25,
      "outputs": []
    },
    {
      "cell_type": "markdown",
      "metadata": {
        "id": "QcrnfI7oPPFw",
        "colab_type": "text"
      },
      "source": [
        "## 3. 데이터로 모델 학습(FIT)"
      ]
    },
    {
      "cell_type": "code",
      "metadata": {
        "id": "cRqVI4UQRLh0",
        "colab_type": "code",
        "colab": {
          "base_uri": "https://localhost:8080/",
          "height": 1000
        },
        "outputId": "6977f727-97b3-4e51-edf2-ba732b38de1c"
      },
      "source": [
        "history = model.fit(i_val, d_val, epochs=100, batch_size=32, validation_split=0.25, callbacks=[tf.keras.callbacks.EarlyStopping(patience=10, monitor='val_loss')])"
      ],
      "execution_count": 34,
      "outputs": [
        {
          "output_type": "stream",
          "text": [
            "Epoch 1/100\n",
            "4/4 [==============================] - 0s 15ms/step - loss: 0.2505 - accuracy: 0.9464 - val_loss: 0.1623 - val_accuracy: 1.0000\n",
            "Epoch 2/100\n",
            "4/4 [==============================] - 0s 5ms/step - loss: 0.2765 - accuracy: 0.9107 - val_loss: 0.1483 - val_accuracy: 1.0000\n",
            "Epoch 3/100\n",
            "4/4 [==============================] - 0s 5ms/step - loss: 0.2162 - accuracy: 0.9464 - val_loss: 0.1310 - val_accuracy: 1.0000\n",
            "Epoch 4/100\n",
            "4/4 [==============================] - 0s 5ms/step - loss: 0.2512 - accuracy: 0.9464 - val_loss: 0.1233 - val_accuracy: 1.0000\n",
            "Epoch 5/100\n",
            "4/4 [==============================] - 0s 5ms/step - loss: 0.2387 - accuracy: 0.9375 - val_loss: 0.1146 - val_accuracy: 1.0000\n",
            "Epoch 6/100\n",
            "4/4 [==============================] - 0s 5ms/step - loss: 0.2384 - accuracy: 0.9643 - val_loss: 0.1037 - val_accuracy: 1.0000\n",
            "Epoch 7/100\n",
            "4/4 [==============================] - 0s 5ms/step - loss: 0.2144 - accuracy: 0.9464 - val_loss: 0.1026 - val_accuracy: 1.0000\n",
            "Epoch 8/100\n",
            "4/4 [==============================] - 0s 5ms/step - loss: 0.2566 - accuracy: 0.9196 - val_loss: 0.0944 - val_accuracy: 1.0000\n",
            "Epoch 9/100\n",
            "4/4 [==============================] - 0s 5ms/step - loss: 0.2167 - accuracy: 0.9286 - val_loss: 0.0886 - val_accuracy: 1.0000\n",
            "Epoch 10/100\n",
            "4/4 [==============================] - 0s 5ms/step - loss: 0.1948 - accuracy: 0.9821 - val_loss: 0.0861 - val_accuracy: 1.0000\n",
            "Epoch 11/100\n",
            "4/4 [==============================] - 0s 5ms/step - loss: 0.1850 - accuracy: 0.9554 - val_loss: 0.0781 - val_accuracy: 1.0000\n",
            "Epoch 12/100\n",
            "4/4 [==============================] - 0s 5ms/step - loss: 0.1693 - accuracy: 0.9732 - val_loss: 0.0692 - val_accuracy: 1.0000\n",
            "Epoch 13/100\n",
            "4/4 [==============================] - 0s 6ms/step - loss: 0.1819 - accuracy: 0.9554 - val_loss: 0.0640 - val_accuracy: 1.0000\n",
            "Epoch 14/100\n",
            "4/4 [==============================] - 0s 6ms/step - loss: 0.2174 - accuracy: 0.9464 - val_loss: 0.0604 - val_accuracy: 1.0000\n",
            "Epoch 15/100\n",
            "4/4 [==============================] - 0s 5ms/step - loss: 0.2285 - accuracy: 0.9196 - val_loss: 0.0604 - val_accuracy: 1.0000\n",
            "Epoch 16/100\n",
            "4/4 [==============================] - 0s 5ms/step - loss: 0.1766 - accuracy: 0.9554 - val_loss: 0.0578 - val_accuracy: 1.0000\n",
            "Epoch 17/100\n",
            "4/4 [==============================] - 0s 5ms/step - loss: 0.1608 - accuracy: 0.9554 - val_loss: 0.0547 - val_accuracy: 1.0000\n",
            "Epoch 18/100\n",
            "4/4 [==============================] - 0s 5ms/step - loss: 0.1768 - accuracy: 0.9643 - val_loss: 0.0487 - val_accuracy: 1.0000\n",
            "Epoch 19/100\n",
            "4/4 [==============================] - 0s 5ms/step - loss: 0.1732 - accuracy: 0.9554 - val_loss: 0.0472 - val_accuracy: 1.0000\n",
            "Epoch 20/100\n",
            "4/4 [==============================] - 0s 5ms/step - loss: 0.1863 - accuracy: 0.9554 - val_loss: 0.0470 - val_accuracy: 1.0000\n",
            "Epoch 21/100\n",
            "4/4 [==============================] - 0s 5ms/step - loss: 0.1537 - accuracy: 0.9732 - val_loss: 0.0458 - val_accuracy: 1.0000\n",
            "Epoch 22/100\n",
            "4/4 [==============================] - 0s 5ms/step - loss: 0.1719 - accuracy: 0.9464 - val_loss: 0.0428 - val_accuracy: 1.0000\n",
            "Epoch 23/100\n",
            "4/4 [==============================] - 0s 5ms/step - loss: 0.1667 - accuracy: 0.9643 - val_loss: 0.0414 - val_accuracy: 1.0000\n",
            "Epoch 24/100\n",
            "4/4 [==============================] - 0s 5ms/step - loss: 0.1449 - accuracy: 0.9732 - val_loss: 0.0434 - val_accuracy: 1.0000\n",
            "Epoch 25/100\n",
            "4/4 [==============================] - 0s 5ms/step - loss: 0.1750 - accuracy: 0.9286 - val_loss: 0.0453 - val_accuracy: 1.0000\n",
            "Epoch 26/100\n",
            "4/4 [==============================] - 0s 5ms/step - loss: 0.1231 - accuracy: 0.9821 - val_loss: 0.0425 - val_accuracy: 1.0000\n",
            "Epoch 27/100\n",
            "4/4 [==============================] - 0s 5ms/step - loss: 0.1441 - accuracy: 0.9554 - val_loss: 0.0417 - val_accuracy: 1.0000\n",
            "Epoch 28/100\n",
            "4/4 [==============================] - 0s 5ms/step - loss: 0.1445 - accuracy: 0.9554 - val_loss: 0.0416 - val_accuracy: 1.0000\n",
            "Epoch 29/100\n",
            "4/4 [==============================] - 0s 5ms/step - loss: 0.1532 - accuracy: 0.9464 - val_loss: 0.0409 - val_accuracy: 1.0000\n",
            "Epoch 30/100\n",
            "4/4 [==============================] - 0s 5ms/step - loss: 0.1241 - accuracy: 0.9732 - val_loss: 0.0399 - val_accuracy: 1.0000\n",
            "Epoch 31/100\n",
            "4/4 [==============================] - 0s 6ms/step - loss: 0.1233 - accuracy: 0.9643 - val_loss: 0.0390 - val_accuracy: 1.0000\n",
            "Epoch 32/100\n",
            "4/4 [==============================] - 0s 5ms/step - loss: 0.1487 - accuracy: 0.9732 - val_loss: 0.0370 - val_accuracy: 1.0000\n",
            "Epoch 33/100\n",
            "4/4 [==============================] - 0s 5ms/step - loss: 0.1375 - accuracy: 0.9554 - val_loss: 0.0372 - val_accuracy: 1.0000\n",
            "Epoch 34/100\n",
            "4/4 [==============================] - 0s 5ms/step - loss: 0.1091 - accuracy: 0.9821 - val_loss: 0.0337 - val_accuracy: 1.0000\n",
            "Epoch 35/100\n",
            "4/4 [==============================] - 0s 5ms/step - loss: 0.1144 - accuracy: 0.9821 - val_loss: 0.0366 - val_accuracy: 1.0000\n",
            "Epoch 36/100\n",
            "4/4 [==============================] - 0s 5ms/step - loss: 0.1612 - accuracy: 0.9554 - val_loss: 0.0430 - val_accuracy: 1.0000\n",
            "Epoch 37/100\n",
            "4/4 [==============================] - 0s 5ms/step - loss: 0.1886 - accuracy: 0.9286 - val_loss: 0.0428 - val_accuracy: 1.0000\n",
            "Epoch 38/100\n",
            "4/4 [==============================] - 0s 5ms/step - loss: 0.1222 - accuracy: 0.9821 - val_loss: 0.0432 - val_accuracy: 1.0000\n",
            "Epoch 39/100\n",
            "4/4 [==============================] - 0s 5ms/step - loss: 0.1006 - accuracy: 0.9643 - val_loss: 0.0411 - val_accuracy: 1.0000\n",
            "Epoch 40/100\n",
            "4/4 [==============================] - 0s 5ms/step - loss: 0.1263 - accuracy: 0.9643 - val_loss: 0.0406 - val_accuracy: 1.0000\n",
            "Epoch 41/100\n",
            "4/4 [==============================] - 0s 5ms/step - loss: 0.1588 - accuracy: 0.9464 - val_loss: 0.0393 - val_accuracy: 1.0000\n",
            "Epoch 42/100\n",
            "4/4 [==============================] - 0s 5ms/step - loss: 0.1598 - accuracy: 0.9464 - val_loss: 0.0429 - val_accuracy: 1.0000\n",
            "Epoch 43/100\n",
            "4/4 [==============================] - 0s 5ms/step - loss: 0.1556 - accuracy: 0.9554 - val_loss: 0.0462 - val_accuracy: 1.0000\n",
            "Epoch 44/100\n",
            "4/4 [==============================] - 0s 5ms/step - loss: 0.1643 - accuracy: 0.9375 - val_loss: 0.0456 - val_accuracy: 1.0000\n"
          ],
          "name": "stdout"
        }
      ]
    },
    {
      "cell_type": "markdown",
      "metadata": {
        "id": "fqllgITatfUm",
        "colab_type": "text"
      },
      "source": [
        "## 그래프로 시각화 하기"
      ]
    },
    {
      "cell_type": "code",
      "metadata": {
        "id": "y7aztmrisFJ9",
        "colab_type": "code",
        "colab": {
          "base_uri": "https://localhost:8080/",
          "height": 279
        },
        "outputId": "03952b8d-7d95-40cd-b021-2791021e2905"
      },
      "source": [
        "import matplotlib.pyplot as plt\n",
        "plt.plot(history.history['loss'], 'b-', label='loss')\n",
        "plt.plot(history.history['val_loss'], 'r--', label='val_loss')\n",
        "plt.xlabel('Epoch')\n",
        "plt.legend()\n",
        "plt.show()"
      ],
      "execution_count": 35,
      "outputs": [
        {
          "output_type": "display_data",
          "data": {
            "image/png": "[encoded data removed]",
            "text/plain": [
              "<Figure size 432x288 with 1 Axes>"
            ]
          },
          "metadata": {
            "tags": [],
            "needs_background": "light"
          }
        }
      ]
    },
    {
      "cell_type": "markdown",
      "metadata": {
        "id": "WGVRaAOIPPKi",
        "colab_type": "text"
      },
      "source": [
        "## 4. 모델이용하기"
      ]
    },
    {
      "cell_type": "code",
      "metadata": {
        "id": "iCoiw0H9PPOe",
        "colab_type": "code",
        "colab": {
          "base_uri": "https://localhost:8080/",
          "height": 102
        },
        "outputId": "7cb8d38b-326d-4a29-9084-03903ca333ef"
      },
      "source": [
        "print(\"예측하기 : \", model.predict(i_val[0:5])) # 예측 데이터는 독립변수에서 가져다 쓰기"
      ],
      "execution_count": 36,
      "outputs": [
        {
          "output_type": "stream",
          "text": [
            "예측하기 :  [[0.99347395 0.00435137 0.00217459]\n",
            " [0.99107176 0.0057351  0.00319305]\n",
            " [0.994568   0.0036568  0.00177526]\n",
            " [0.9916157  0.00542129 0.00296288]\n",
            " [0.9939865  0.00397116 0.00204231]]\n"
          ],
          "name": "stdout"
        }
      ]
    },
    {
      "cell_type": "code",
      "metadata": {
        "id": "8i06bKoyPPR6",
        "colab_type": "code",
        "colab": {}
      },
      "source": [
        ""
      ],
      "execution_count": null,
      "outputs": []
    }
  ]
}
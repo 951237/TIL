{
  "nbformat": 4,
  "nbformat_minor": 0,
  "metadata": {
    "colab": {
      "name": "200606_TIL_엑셀파일 이용하여 차트 만들기.ipynb",
      "provenance": [],
      "authorship_tag": "ABX9TyOodqOjbum9kDCcTuCTq4eI",
      "include_colab_link": true
    },
    "kernelspec": {
      "name": "python3",
      "display_name": "Python 3"
    }
  },
  "cells": [
    {
      "cell_type": "markdown",
      "metadata": {
        "id": "view-in-github",
        "colab_type": "text"
      },
      "source": [
        "<a href=\"https://colab.research.google.com/github/951237/TIL/blob/master/200606_TIL_%EC%97%91%EC%85%80%ED%8C%8C%EC%9D%BC_%EC%9D%B4%EC%9A%A9%ED%95%98%EC%97%AC_%EC%B0%A8%ED%8A%B8_%EB%A7%8C%EB%93%A4%EA%B8%B0.ipynb\" target=\"_parent\"><img src=\"https://colab.research.google.com/assets/colab-badge.svg\" alt=\"Open In Colab\"/></a>"
      ]
    },
    {
      "cell_type": "markdown",
      "metadata": {
        "id": "XMxClFoEXYdS",
        "colab_type": "text"
      },
      "source": [
        "\n",
        "# 200606_TIL_파이썬 - 엑셀 파일 이용하여 차트 만들기\n",
        "* 라이브러리 \n",
        "\t* pandas / matplotlib\n",
        "* 차트만들기\n",
        "```\n",
        "\tput.bar(x,y)\t\t//bar chart\n",
        "\ty.plot \t\t// 꺽은선 그래프\n",
        "\tput.scatter(x, y) \t\t// 분산형 그래프\n",
        "```\n",
        "* 차트 그리기\n",
        "\t* 바차트 : plt.bar(df[‘날짜’], df[‘체결가’]\n",
        "\t* y축 범위 조절하기\n",
        "```\n",
        "\t\tput.ylim(1940, 2080)\n",
        "\t\tput.show() \t\t// 그래프 위 글자 없애기\n",
        "```\n",
        "\t* 인덱스 간격 조절하기\n",
        "```\n",
        "\t\tput.figure(fig size = (12, 6) \t// 틀정하기 , 가장 앞에 위치해야함.\n",
        "```\n",
        "* 꺽은선 그래프 \n",
        "```\n",
        "\tdf[‘체결가’].plot()\t\t// 인덱스가 x축의 역할을 하므로 인덱스 정하기\n",
        "\tdf.index = df[‘날짜’]\t\t// 날짜 칼럼을 인덱스로 지정\n",
        "```\n",
        "* 분포 나타내기\n",
        "```\n",
        "\tput.scatter(df[‘거래량’], df[‘’거래대금] \t\t// 추세선 추가하기\n",
        "```\n",
        "\n"
      ]
    }
  ]
}
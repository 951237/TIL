{
  "nbformat": 4,
  "nbformat_minor": 0,
  "metadata": {
    "colab": {
      "name": "TIL from_191115.ipynb",
      "provenance": [],
      "collapsed_sections": [],
      "toc_visible": true,
      "include_colab_link": true
    },
    "kernelspec": {
      "name": "python3",
      "display_name": "Python 3"
    }
  },
  "cells": [
    {
      "cell_type": "markdown",
      "metadata": {
        "id": "view-in-github",
        "colab_type": "text"
      },
      "source": [
        "<a href=\"https://colab.research.google.com/github/951237/TIL/blob/master/TIL_from_191115.ipynb\" target=\"_parent\"><img src=\"https://colab.research.google.com/assets/colab-badge.svg\" alt=\"Open In Colab\"/></a>"
      ]
    },
    {
      "cell_type": "markdown",
      "metadata": {
        "id": "ZEI-vEl7liBp",
        "colab_type": "text"
      },
      "source": [
        "# TIL : 깃허브 입문 191115 "
      ]
    },
    {
      "cell_type": "markdown",
      "metadata": {
        "id": "xORo2B3xs7mf",
        "colab_type": "text"
      },
      "source": [
        "## I. 깃허브로 취업하기\n",
        "- 링크 : https://sujinlee.me/professional-github/\n"
      ]
    },
    {
      "cell_type": "markdown",
      "metadata": {
        "id": "Z8II2xIqtqoa",
        "colab_type": "text"
      },
      "source": [
        "### 1. 매력적인 프로필 만들기\n",
        "- 사진\n",
        "    - 얼굴이 클로즈업 된 사진\n",
        "    - 500 * 500\n",
        "- 유저네임\n",
        "    - 본명을 영어로\n",
        "    - 숫자가 있다면 빼기\n",
        "- 이멜주소 : 실명으로 만들기\n",
        "- 프로젝트\n",
        "\n"
      ]
    },
    {
      "cell_type": "markdown",
      "metadata": {
        "id": "bvMmUqp-uzNr",
        "colab_type": "text"
      },
      "source": [
        "### 2. 1일 1커밋\n",
        "- 매일마다 새로운 것을 배우고 성장하기\n",
        "- 매일 조금씩이라도 코딩하고 꾸준히 커밋하는 습관 기르기\n"
      ]
    },
    {
      "cell_type": "markdown",
      "metadata": {
        "id": "oXuOqsqGvdMF",
        "colab_type": "text"
      },
      "source": [
        "### 3. 올바르게 커밋하기\n",
        "- 커밋 단위\n",
        "- 커밋 메시지 작성법\n"
      ]
    },
    {
      "cell_type": "markdown",
      "metadata": {
        "id": "sA5ZVnN4wC8o",
        "colab_type": "text"
      },
      "source": [
        "### 4. 프로젝트 소개 글 작성하기\n",
        "- 자세하게 작성. 음식레시피와 같음\n",
        "- 프로젝트명, 프로젝트 소개, 설치방법, 사용예제, 개발 환경 설정 방법, 기여방법, 변경로그, 라이센스 및 작성자 정보 기록\n",
        "\n"
      ]
    },
    {
      "cell_type": "markdown",
      "metadata": {
        "id": "JXuJ6NxCw7k6",
        "colab_type": "text"
      },
      "source": [
        "### 5. 오픈 소스 기여하기\n"
      ]
    },
    {
      "cell_type": "markdown",
      "metadata": {
        "id": "URG1wTUXxt5q",
        "colab_type": "text"
      },
      "source": [
        "### 6. 프로젝트 관리하기"
      ]
    },
    {
      "cell_type": "code",
      "metadata": {
        "id": "lMKvAD7Hw6cK",
        "colab_type": "code",
        "colab": {}
      },
      "source": [
        ""
      ],
      "execution_count": 0,
      "outputs": []
    },
    {
      "cell_type": "code",
      "metadata": {
        "id": "NBeCU52ex1Rc",
        "colab_type": "code",
        "colab": {}
      },
      "source": [
        ""
      ],
      "execution_count": 0,
      "outputs": []
    },
    {
      "cell_type": "markdown",
      "metadata": {
        "id": "dbVnLopjzOiv",
        "colab_type": "text"
      },
      "source": [
        "## II. 일일커밋 후기 "
      ]
    },
    {
      "cell_type": "markdown",
      "metadata": {
        "id": "TAfj94djzbdN",
        "colab_type": "text"
      },
      "source": [
        "### 어떻게 시작해야 하나?\n",
        "- 의미 없는 코드일지라도 일단 시작하기\n",
        "- 의미 없는 일로 의미 있는 일을 만들기\n",
        "- 매일 매일 무엇을 커밋할지 생각하기\n",
        "- Done is better than Perfect\n",
        "- 따라하기\n",
        "    - 따라할게 너무 많음.\n",
        "- 무엇을 커밋해야 될지 모른다면\n",
        "    - 마크다운부터 시작하기\n",
        "- 그날 공부했던것을 커밋하기\n",
        "    - 자기가 편한 방식으로 커밋하기\n",
        "- 스택오버플로 링크와 함께 복붙하지 않고 직접 타이핑\n",
        "    - 남의 코드를 따라하더라도 복붙하지 않고 직접타이핑을 해야 내것이 됨.\n",
        "- TIL 폴더 만들기\n",
        "- 캐글로 데이터 사이언스 공부\n",
        "- 캐글의 튜토리얼 따라하기\n",
        "- 자연어 처리 : bag of word meets bags of popcom\n",
        "- 튜토리얼 변형하기 / 번역하기 / 나만의 튜토리얼 만들기\n",
        "- 책에서 본 코드 따라하기\n",
        "- 간단한 튜토리얼 번역\n",
        "- 스프린트 참여\n",
        "- 정적 블로그 운영\n",
        "    - TIL로 정리했던 내용이나 블로그로 쓸만한 내용들\n",
        "    - 깃헙에 튜토리얼이 있음."
      ]
    },
    {
      "cell_type": "markdown",
      "metadata": {
        "id": "uMI-KRda4LtZ",
        "colab_type": "text"
      },
      "source": [
        "## III. 리퍼지토리 작성 실습"
      ]
    },
    {
      "cell_type": "markdown",
      "metadata": {
        "id": "PG2qVZ9S4THr",
        "colab_type": "text"
      },
      "source": [
        "### 리퍼지토리 생성하기\n",
        "- TIL 생성하기\n",
        "    - public \n",
        "\n"
      ]
    },
    {
      "cell_type": "markdown",
      "metadata": {
        "id": "HIGXsaMAIbDY",
        "colab_type": "text"
      },
      "source": [
        "# 판다스"
      ]
    },
    {
      "cell_type": "markdown",
      "metadata": {
        "id": "u8en79fOlnVy",
        "colab_type": "text"
      },
      "source": [
        "## TIL 191203 : apply 함수 이용하기\n",
        "- 발명반 원서 정렬시 기호를 글자로 바꾸기"
      ]
    },
    {
      "cell_type": "markdown",
      "metadata": {
        "colab_type": "text",
        "id": "vUGk2yJONnHV"
      },
      "source": [
        "## TIL 191204 : 학년에 맞게 학급으로 변환"
      ]
    },
    {
      "cell_type": "markdown",
      "metadata": {
        "id": "m6FeUpheexUN",
        "colab_type": "text"
      },
      "source": [
        "\n",
        "\n",
        "```\n",
        "def make_classIndex(row):\n",
        "    if str(row)[0] == '3':\n",
        "        k = '초급'\n",
        "    elif str(row)[0] == '4':\n",
        "        k = '중급'\n",
        "    else:\n",
        "        k = '심화'\n",
        "    return k\n",
        "```\n",
        "\n",
        "\n"
      ]
    },
    {
      "cell_type": "markdown",
      "metadata": {
        "id": "c1i8ZgDTfNSh",
        "colab_type": "text"
      },
      "source": [
        "\n",
        "\n",
        "```\n",
        "df_result['지원반'] = df_result['소속반(2019)'].apply(make_classIndex)\n",
        "df_result.head()\n",
        "```\n",
        "\n"
      ]
    },
    {
      "cell_type": "markdown",
      "metadata": {
        "colab_type": "text",
        "id": "4XAhPuwkONs7"
      },
      "source": [
        "## TIL 191211 나머지가 생기지 않게하는 수 찾기 "
      ]
    },
    {
      "cell_type": "markdown",
      "metadata": {
        "id": "8vE3nUTMOZlO",
        "colab_type": "text"
      },
      "source": [
        "\n",
        "\n",
        "```\n",
        "print( 11 % 4) # 나머지 구하기\n",
        "\n",
        "def div_zero(k, r):\n",
        "    for i in range(1, r, 1):\n",
        "        if int(k % i) == 0:\n",
        "            print(i)\n",
        "        else:\n",
        "            continue\n",
        "            \n",
        "div_zero(340, 15)\n",
        "```\n",
        "\n"
      ]
    },
    {
      "cell_type": "markdown",
      "metadata": {
        "id": "CHO7A7cpmORs",
        "colab_type": "text"
      },
      "source": [
        "## 191215 칼럼 값을 리스트와 비교해서 일치하는 행만 데이터프레임에 저장"
      ]
    },
    {
      "cell_type": "markdown",
      "metadata": {
        "id": "yqyoX4FIMEvV",
        "colab_type": "text"
      },
      "source": [
        "\n",
        "\n",
        "```\n",
        "df_hyuk = df[ df['소속'].isin(list_hyuk) \n",
        "```\n",
        "\n"
      ]
    },
    {
      "cell_type": "markdown",
      "metadata": {
        "id": "QT_fJO4zmtPL",
        "colab_type": "text"
      },
      "source": [
        "## 191215 함수 - Apply 함수 끝에서 2개의 값만 반환\n"
      ]
    },
    {
      "cell_type": "markdown",
      "metadata": {
        "id": "xNHOrjN4m4sT",
        "colab_type": "text"
      },
      "source": [
        "\n",
        "\n",
        "```\n",
        "def extract_day(row):\n",
        "    return row[-2:]\n",
        "df_hyuk['절상'] = df_hyuk['현임교_발령일자'].apply(extract_day)\n",
        "```\n",
        "\n"
      ]
    },
    {
      "cell_type": "markdown",
      "metadata": {
        "id": "GCVVeFjDm7iB",
        "colab_type": "text"
      },
      "source": [
        "## 191215 Apply 함수 - 값이 범위안에 있는 경우 텍스트를 반환\n",
        "- 텍스트를 숫자로 변환해서 비교"
      ]
    },
    {
      "cell_type": "markdown",
      "metadata": {
        "id": "W1oOmn3RnQNu",
        "colab_type": "text"
      },
      "source": [
        "\n",
        "\n",
        "```\n",
        "    def compare_day(row):\n",
        "        if int(row) > 2 and int(row) < 15:\n",
        "            return '절상'\n",
        "\n",
        "    df_hyuk['절상'] = df_hyuk['절상'].apply(compare_day)\n",
        "```\n",
        "\n"
      ]
    },
    {
      "cell_type": "markdown",
      "metadata": {
        "id": "N6bdPgCznYJJ",
        "colab_type": "text"
      },
      "source": [
        "## 191215 칼럼값이 일치하는 행들을 데이터 프레임으로 저장"
      ]
    },
    {
      "cell_type": "markdown",
      "metadata": {
        "id": "6Ake9kownjqx",
        "colab_type": "text"
      },
      "source": [
        "\n",
        "\n",
        "```\n",
        "df_hyuk_up = df_hyuk[ df_hyuk['절상'] == '절상' ]\n",
        "```\n",
        "\n",
        "    "
      ]
    },
    {
      "cell_type": "markdown",
      "metadata": {
        "id": "DokVUXE6ogqf",
        "colab_type": "text"
      },
      "source": [
        "## 191215 데이터 프레임 엑셀저장\n",
        "- 여러개의 데이터프레임을 시트이름을 정해서 저장하기"
      ]
    },
    {
      "cell_type": "markdown",
      "metadata": {
        "id": "mcSvRqlkorPK",
        "colab_type": "text"
      },
      "source": [
        "\n",
        "\n",
        "```\n",
        "def writer_excel(file_path):\n",
        "    writer = pd.ExcelWriter(file_path)\n",
        "    df_hyuk_up_gen.to_excel(writer, sheet_name='혁신학교 절상명단_일반', index=False)\n",
        "    df_hyuk_up_gap.to_excel(writer, sheet_name='혁신학교 절상명단_갑만기', index=False)\n",
        "    writer.save()\n",
        "```\n",
        "\n"
      ]
    },
    {
      "cell_type": "markdown",
      "metadata": {
        "id": "XqXACgmKJAe8",
        "colab_type": "text"
      },
      "source": [
        "## TIL - 191217"
      ]
    },
    {
      "cell_type": "markdown",
      "metadata": {
        "id": "eYTyPkRXIrjQ",
        "colab_type": "text"
      },
      "source": [
        "### 191217 여러개의 칼럼을 더해서 코드 만들기"
      ]
    },
    {
      "cell_type": "markdown",
      "metadata": {
        "id": "lWKFt3EzIuGM",
        "colab_type": "text"
      },
      "source": [
        "\n",
        "\n",
        "```\n",
        "df_all_real_cho['코드_동명이인'] = df_all_real_cho['지역'] + df_all_real_cho['소속'] + df_all_real_cho['이름']\n",
        "```\n",
        "\n"
      ]
    },
    {
      "cell_type": "markdown",
      "metadata": {
        "id": "fWlUDDdeIzFy",
        "colab_type": "text"
      },
      "source": [
        "### 동명이인 찾기 "
      ]
    },
    {
      "cell_type": "markdown",
      "metadata": {
        "id": "HuwpyskpJLk1",
        "colab_type": "text"
      },
      "source": [
        "\n",
        "\n",
        "```\n",
        "df_all_real_cho[ df_all_real_cho['코드_동명이인'].duplicated() ]\n",
        "```\n",
        "\n"
      ]
    },
    {
      "cell_type": "markdown",
      "metadata": {
        "id": "lH_moDwnJOb2",
        "colab_type": "text"
      },
      "source": [
        "### 원하는 값 필터링 하기"
      ]
    },
    {
      "cell_type": "markdown",
      "metadata": {
        "id": "nBnJZwVtJYFz",
        "colab_type": "text"
      },
      "source": [
        "\n",
        "\n",
        "```\n",
        "df_all_real_cho[ df_all_real_cho['이름'] == '김동현' ]\n",
        "```\n",
        "\n"
      ]
    },
    {
      "cell_type": "code",
      "metadata": {
        "id": "uJDY0Bj1JaC5",
        "colab_type": "code",
        "colab": {}
      },
      "source": [
        ""
      ],
      "execution_count": 0,
      "outputs": []
    }
  ]
}
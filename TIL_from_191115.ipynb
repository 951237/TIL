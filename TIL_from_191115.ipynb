{
  "nbformat": 4,
  "nbformat_minor": 0,
  "metadata": {
    "colab": {
      "name": "TIL from_191115.ipynb",
      "provenance": [],
      "collapsed_sections": [],
      "toc_visible": true,
      "include_colab_link": true
    },
    "kernelspec": {
      "name": "python3",
      "display_name": "Python 3"
    }
  },
  "cells": [
    {
      "cell_type": "markdown",
      "metadata": {
        "id": "view-in-github",
        "colab_type": "text"
      },
      "source": [
        "<a href=\"https://colab.research.google.com/github/951237/TIL/blob/master/TIL_from_191115.ipynb\" target=\"_parent\"><img src=\"https://colab.research.google.com/assets/colab-badge.svg\" alt=\"Open In Colab\"/></a>"
      ]
    },
    {
      "cell_type": "markdown",
      "metadata": {
        "id": "xORo2B3xs7mf",
        "colab_type": "text"
      },
      "source": [
        "## I. 깃허브로 취업하기\n",
        "- 링크 : https://sujinlee.me/professional-github/\n"
      ]
    },
    {
      "cell_type": "markdown",
      "metadata": {
        "id": "Z8II2xIqtqoa",
        "colab_type": "text"
      },
      "source": [
        "### 1. 매력적인 프로필 만들기\n",
        "- 사진\n",
        "    - 얼굴이 클로즈업 된 사진\n",
        "    - 500 * 500\n",
        "- 유저네임\n",
        "    - 본명을 영어로\n",
        "    - 숫자가 있다면 빼기\n",
        "- 이멜주소 : 실명으로 만들기\n",
        "- 프로젝트\n",
        "\n"
      ]
    },
    {
      "cell_type": "markdown",
      "metadata": {
        "id": "bvMmUqp-uzNr",
        "colab_type": "text"
      },
      "source": [
        "### 2. 1일 1커밋\n",
        "- 매일마다 새로운 것을 배우고 성장하기\n",
        "- 매일 조금씩이라도 코딩하고 꾸준히 커밋하는 습관 기르기\n"
      ]
    },
    {
      "cell_type": "markdown",
      "metadata": {
        "id": "oXuOqsqGvdMF",
        "colab_type": "text"
      },
      "source": [
        "### 3. 올바르게 커밋하기\n",
        "- 커밋 단위\n",
        "- 커밋 메시지 작성법\n"
      ]
    },
    {
      "cell_type": "markdown",
      "metadata": {
        "id": "sA5ZVnN4wC8o",
        "colab_type": "text"
      },
      "source": [
        "### 4. 프로젝트 소개 글 작성하기\n",
        "- 자세하게 작성. 음식레시피와 같음\n",
        "- 프로젝트명, 프로젝트 소개, 설치방법, 사용예제, 개발 환경 설정 방법, 기여방법, 변경로그, 라이센스 및 작성자 정보 기록\n",
        "\n"
      ]
    },
    {
      "cell_type": "markdown",
      "metadata": {
        "id": "JXuJ6NxCw7k6",
        "colab_type": "text"
      },
      "source": [
        "### 5. 오픈 소스 기여하기\n"
      ]
    },
    {
      "cell_type": "markdown",
      "metadata": {
        "id": "URG1wTUXxt5q",
        "colab_type": "text"
      },
      "source": [
        "### 6. 프로젝트 관리하기"
      ]
    },
    {
      "cell_type": "code",
      "metadata": {
        "id": "lMKvAD7Hw6cK",
        "colab_type": "code",
        "colab": {}
      },
      "source": [
        ""
      ],
      "execution_count": 0,
      "outputs": []
    },
    {
      "cell_type": "code",
      "metadata": {
        "id": "NBeCU52ex1Rc",
        "colab_type": "code",
        "colab": {}
      },
      "source": [
        ""
      ],
      "execution_count": 0,
      "outputs": []
    },
    {
      "cell_type": "markdown",
      "metadata": {
        "id": "dbVnLopjzOiv",
        "colab_type": "text"
      },
      "source": [
        "## II. 일일커밋 후기 "
      ]
    },
    {
      "cell_type": "markdown",
      "metadata": {
        "id": "TAfj94djzbdN",
        "colab_type": "text"
      },
      "source": [
        "### 어떻게 시작해야 하나?\n",
        "- 의미 없는 코드일지라도 일단 시작하기\n",
        "- 의미 없는 일로 의미 있는 일을 만들기\n",
        "- 매일 매일 무엇을 커밋할지 생각하기\n",
        "- Done is better than Perfect\n",
        "- 따라하기\n",
        "    - 따라할게 너무 많음.\n",
        "- 무엇을 커밋해야 될지 모른다면\n",
        "    - 마크다운부터 시작하기\n",
        "- 그날 공부했던것을 커밋하기\n",
        "    - 자기가 편한 방식으로 커밋하기\n",
        "- 스택오버플로 링크와 함께 복붙하지 않고 직접 타이핑\n",
        "    - 남의 코드를 따라하더라도 복붙하지 않고 직접타이핑을 해야 내것이 됨.\n",
        "- TIL 폴더 만들기\n",
        "- 캐글로 데이터 사이언스 공부\n",
        "- 캐글의 튜토리얼 따라하기\n",
        "- 자연어 처리 : bag of word meets bags of popcom\n",
        "- 튜토리얼 변형하기 / 번역하기 / 나만의 튜토리얼 만들기\n",
        "- 책에서 본 코드 따라하기\n",
        "- 간단한 튜토리얼 번역\n",
        "- 스프린트 참여\n",
        "- 정적 블로그 운영\n",
        "    - TIL로 정리했던 내용이나 블로그로 쓸만한 내용들\n",
        "    - 깃헙에 튜토리얼이 있음."
      ]
    },
    {
      "cell_type": "markdown",
      "metadata": {
        "id": "uMI-KRda4LtZ",
        "colab_type": "text"
      },
      "source": [
        "## III. 리퍼지토리 작성 실습"
      ]
    },
    {
      "cell_type": "markdown",
      "metadata": {
        "id": "PG2qVZ9S4THr",
        "colab_type": "text"
      },
      "source": [
        "### 리퍼지토리 생성하기\n",
        "- TIL 생성하기\n",
        "    - public \n",
        "\n"
      ]
    },
    {
      "cell_type": "markdown",
      "metadata": {
        "id": "HIGXsaMAIbDY",
        "colab_type": "text"
      },
      "source": [
        "# 판다스"
      ]
    },
    {
      "cell_type": "markdown",
      "metadata": {
        "id": "u8en79fOlnVy",
        "colab_type": "text"
      },
      "source": [
        "## TIL 191203 : apply 함수 이용하기\n",
        "- 발명반 원서 정렬시 기호를 글자로 바꾸기"
      ]
    },
    {
      "cell_type": "markdown",
      "metadata": {
        "colab_type": "text",
        "id": "vUGk2yJONnHV"
      },
      "source": [
        "## TIL 191204 : 학년에 맞게 학급으로 변환"
      ]
    },
    {
      "cell_type": "markdown",
      "metadata": {
        "id": "m6FeUpheexUN",
        "colab_type": "text"
      },
      "source": [
        "\n",
        "\n",
        "```\n",
        "def make_classIndex(row):\n",
        "    if str(row)[0] == '3':\n",
        "        k = '초급'\n",
        "    elif str(row)[0] == '4':\n",
        "        k = '중급'\n",
        "    else:\n",
        "        k = '심화'\n",
        "    return k\n",
        "```\n",
        "\n",
        "\n"
      ]
    },
    {
      "cell_type": "markdown",
      "metadata": {
        "id": "c1i8ZgDTfNSh",
        "colab_type": "text"
      },
      "source": [
        "\n",
        "\n",
        "```\n",
        "df_result['지원반'] = df_result['소속반(2019)'].apply(make_classIndex)\n",
        "df_result.head()\n",
        "```\n",
        "\n"
      ]
    },
    {
      "cell_type": "markdown",
      "metadata": {
        "colab_type": "text",
        "id": "4XAhPuwkONs7"
      },
      "source": [
        "## TIL 191211 나머지가 생기지 않게하는 수 찾기 "
      ]
    },
    {
      "cell_type": "markdown",
      "metadata": {
        "id": "8vE3nUTMOZlO",
        "colab_type": "text"
      },
      "source": [
        "\n",
        "\n",
        "```\n",
        "print( 11 % 4) # 나머지 구하기\n",
        "\n",
        "def div_zero(k, r):\n",
        "    for i in range(1, r, 1):\n",
        "        if int(k % i) == 0:\n",
        "            print(i)\n",
        "        else:\n",
        "            continue\n",
        "            \n",
        "div_zero(340, 15)\n",
        "```\n",
        "\n"
      ]
    },
    {
      "cell_type": "markdown",
      "metadata": {
        "id": "CHO7A7cpmORs",
        "colab_type": "text"
      },
      "source": [
        "## 191215 칼럼 값을 리스트와 비교해서 일치하는 행만 데이터프레임에 저장"
      ]
    },
    {
      "cell_type": "markdown",
      "metadata": {
        "id": "yqyoX4FIMEvV",
        "colab_type": "text"
      },
      "source": [
        "\n",
        "\n",
        "```\n",
        "df_hyuk = df[ df['소속'].isin(list_hyuk) \n",
        "```\n",
        "\n"
      ]
    },
    {
      "cell_type": "markdown",
      "metadata": {
        "id": "QT_fJO4zmtPL",
        "colab_type": "text"
      },
      "source": [
        "## 191215 함수 - Apply 함수 끝에서 2개의 값만 반환\n"
      ]
    },
    {
      "cell_type": "markdown",
      "metadata": {
        "id": "xNHOrjN4m4sT",
        "colab_type": "text"
      },
      "source": [
        "\n",
        "\n",
        "```\n",
        "def extract_day(row):\n",
        "    return row[-2:]\n",
        "df_hyuk['절상'] = df_hyuk['현임교_발령일자'].apply(extract_day)\n",
        "```\n",
        "\n"
      ]
    },
    {
      "cell_type": "markdown",
      "metadata": {
        "id": "GCVVeFjDm7iB",
        "colab_type": "text"
      },
      "source": [
        "## 191215 Apply 함수 - 값이 범위안에 있는 경우 텍스트를 반환\n",
        "- 텍스트를 숫자로 변환해서 비교"
      ]
    },
    {
      "cell_type": "markdown",
      "metadata": {
        "id": "W1oOmn3RnQNu",
        "colab_type": "text"
      },
      "source": [
        "\n",
        "\n",
        "```\n",
        "    def compare_day(row):\n",
        "        if int(row) > 2 and int(row) < 15:\n",
        "            return '절상'\n",
        "\n",
        "    df_hyuk['절상'] = df_hyuk['절상'].apply(compare_day)\n",
        "```\n",
        "\n"
      ]
    },
    {
      "cell_type": "markdown",
      "metadata": {
        "id": "N6bdPgCznYJJ",
        "colab_type": "text"
      },
      "source": [
        "## 191215 칼럼값이 일치하는 행들을 데이터 프레임으로 저장"
      ]
    },
    {
      "cell_type": "markdown",
      "metadata": {
        "id": "6Ake9kownjqx",
        "colab_type": "text"
      },
      "source": [
        "\n",
        "\n",
        "```\n",
        "df_hyuk_up = df_hyuk[ df_hyuk['절상'] == '절상' ]\n",
        "```\n",
        "\n",
        "    "
      ]
    },
    {
      "cell_type": "markdown",
      "metadata": {
        "id": "DokVUXE6ogqf",
        "colab_type": "text"
      },
      "source": [
        "## 191215 데이터 프레임 엑셀저장\n",
        "- 여러개의 데이터프레임을 시트이름을 정해서 저장하기"
      ]
    },
    {
      "cell_type": "markdown",
      "metadata": {
        "id": "mcSvRqlkorPK",
        "colab_type": "text"
      },
      "source": [
        "\n",
        "\n",
        "```\n",
        "def writer_excel(file_path):\n",
        "    writer = pd.ExcelWriter(file_path)\n",
        "    df_hyuk_up_gen.to_excel(writer, sheet_name='혁신학교 절상명단_일반', index=False)\n",
        "    df_hyuk_up_gap.to_excel(writer, sheet_name='혁신학교 절상명단_갑만기', index=False)\n",
        "    writer.save()\n",
        "```\n",
        "\n"
      ]
    },
    {
      "cell_type": "markdown",
      "metadata": {
        "id": "XqXACgmKJAe8",
        "colab_type": "text"
      },
      "source": [
        "## TIL - 191217"
      ]
    },
    {
      "cell_type": "markdown",
      "metadata": {
        "id": "eYTyPkRXIrjQ",
        "colab_type": "text"
      },
      "source": [
        "### 191217 여러개의 칼럼을 더해서 코드 만들기"
      ]
    },
    {
      "cell_type": "markdown",
      "metadata": {
        "id": "lWKFt3EzIuGM",
        "colab_type": "text"
      },
      "source": [
        "\n",
        "\n",
        "```\n",
        "df_all_real_cho['코드_동명이인'] = df_all_real_cho['지역'] + df_all_real_cho['소속'] + df_all_real_cho['이름']\n",
        "```\n",
        "\n"
      ]
    },
    {
      "cell_type": "markdown",
      "metadata": {
        "id": "fWlUDDdeIzFy",
        "colab_type": "text"
      },
      "source": [
        "### 동명이인 찾기 "
      ]
    },
    {
      "cell_type": "markdown",
      "metadata": {
        "id": "HuwpyskpJLk1",
        "colab_type": "text"
      },
      "source": [
        "\n",
        "\n",
        "```\n",
        "df_all_real_cho[ df_all_real_cho['코드_동명이인'].duplicated() ]\n",
        "```\n",
        "\n"
      ]
    },
    {
      "cell_type": "markdown",
      "metadata": {
        "id": "lH_moDwnJOb2",
        "colab_type": "text"
      },
      "source": [
        "### 원하는 값 필터링 하기"
      ]
    },
    {
      "cell_type": "markdown",
      "metadata": {
        "id": "nBnJZwVtJYFz",
        "colab_type": "text"
      },
      "source": [
        "\n",
        "\n",
        "```\n",
        "df_all_real_cho[ df_all_real_cho['이름'] == '김동현' ]\n",
        "```\n",
        "\n"
      ]
    },
    {
      "cell_type": "code",
      "metadata": {
        "id": "uJDY0Bj1JaC5",
        "colab_type": "code",
        "colab": {}
      },
      "source": [
        ""
      ],
      "execution_count": 0,
      "outputs": []
    },
    {
      "cell_type": "markdown",
      "metadata": {
        "id": "gv9m4Q2G2al_",
        "colab_type": "text"
      },
      "source": [
        "## TIL - 191219"
      ]
    },
    {
      "cell_type": "markdown",
      "metadata": {
        "id": "RsvQ4tbd2-bO",
        "colab_type": "text"
      },
      "source": [
        "### 데이터 전처리 - 엑셀파일 가져오기"
      ]
    },
    {
      "cell_type": "markdown",
      "metadata": {
        "id": "0S3Xo5xl2hGG",
        "colab_type": "text"
      },
      "source": [
        "\n",
        "\n",
        "```\n",
        "use_cols = (2, 3, 4, 5, 6, 8, 9, 10, 11, 12, 13, 14, 16, 17, 18, 19, 20, 21, 22, 23, 24, 25, 26)\n",
        "df_med = pd.read_excel(filepath, \n",
        "                header = None,  #헤더를 가져오지 않음.\n",
        "                usecols = use_cols # 사용할 칼럼들을 선택\n",
        "                 ).iloc[9:,:] #가져올 행을 선택\n",
        "```\n",
        "\n"
      ]
    },
    {
      "cell_type": "markdown",
      "metadata": {
        "id": "zNsoH2Ym2788",
        "colab_type": "text"
      },
      "source": [
        "### 데이터 전처리 - 인덱스 1부터 넘버링"
      ]
    },
    {
      "cell_type": "markdown",
      "metadata": {
        "id": "BO1jDMfP7AaY",
        "colab_type": "text"
      },
      "source": [
        "\n",
        "\n",
        "```\n",
        "df_med = df_med.reset_index(drop = True) # 인덱스 리셋\n",
        "df_med.index = df_med.index + 1 #인덱스에 1을 더하여 1부터 시작\n",
        "```\n",
        "\n"
      ]
    },
    {
      "cell_type": "markdown",
      "metadata": {
        "id": "m86fcbgL7I5r",
        "colab_type": "text"
      },
      "source": [
        "## TIL - 191220"
      ]
    },
    {
      "cell_type": "markdown",
      "metadata": {
        "id": "NhInGRhZyrZS",
        "colab_type": "text"
      },
      "source": [
        "### 발령데이터 프로젝트 계획\n",
        "- 카테고리 : 년도\n",
        "    - 인원변동\n",
        "    - 유형변동\n",
        "    - 성별변동\n",
        "- 카테고리 : 지역\n",
        "    - 발령인원 현황\n",
        "    - 지원현황\n",
        "    - 지원대비 발령 %"
      ]
    },
    {
      "cell_type": "markdown",
      "metadata": {
        "id": "fO9aJKyUzK5Q",
        "colab_type": "text"
      },
      "source": [
        "## TIL - 191221 판다스 데이터 전처리 함수 연습"
      ]
    },
    {
      "cell_type": "markdown",
      "metadata": {
        "id": "Z-x7kp4i7mFc",
        "colab_type": "text"
      },
      "source": [
        "### 컬럼 이름 바꾸기"
      ]
    },
    {
      "cell_type": "markdown",
      "metadata": {
        "id": "yvObSZjn7bdX",
        "colab_type": "text"
      },
      "source": [
        "\n",
        "\n",
        "```\n",
        "df.columns = [ 'a', 'b', 'c']\n",
        "```\n",
        "\n"
      ]
    },
    {
      "cell_type": "markdown",
      "metadata": {
        "id": "5EPzmpEy74-L",
        "colab_type": "text"
      },
      "source": [
        "### 빈값 찾기"
      ]
    },
    {
      "cell_type": "markdown",
      "metadata": {
        "id": "iua0p95I7lL6",
        "colab_type": "text"
      },
      "source": [
        "\n",
        "\n",
        "```\n",
        "pd.isnull()\n",
        "```\n",
        "\n"
      ]
    },
    {
      "cell_type": "markdown",
      "metadata": {
        "id": "d8BWeP8n8KDv",
        "colab_type": "text"
      },
      "source": [
        "### 빈값 아닌 것 찾기"
      ]
    },
    {
      "cell_type": "markdown",
      "metadata": {
        "id": "IiZ_NPhQ8EwW",
        "colab_type": "text"
      },
      "source": [
        "\n",
        "\n",
        "```\n",
        "pd.notnull()\n",
        "```\n",
        "\n"
      ]
    },
    {
      "cell_type": "markdown",
      "metadata": {
        "id": "LJzLJp3D8ZHQ",
        "colab_type": "text"
      },
      "source": [
        "### null 값을 포함한 행 삭제"
      ]
    },
    {
      "cell_type": "markdown",
      "metadata": {
        "id": "Nf7gz8Fs8Uz5",
        "colab_type": "text"
      },
      "source": [
        "\n",
        "\n",
        "```\n",
        "df.dropna()\n",
        "\n",
        "```\n",
        "\n"
      ]
    },
    {
      "cell_type": "markdown",
      "metadata": {
        "id": "f7uYsYqY94Fa",
        "colab_type": "text"
      },
      "source": [
        "### null 값을 포함한 칼럼 삭제"
      ]
    },
    {
      "cell_type": "markdown",
      "metadata": {
        "id": "A9WKuPK09885",
        "colab_type": "text"
      },
      "source": [
        "\n",
        "\n",
        "```\n",
        "df.dropna(axis = 1)\n",
        "```\n",
        "\n"
      ]
    },
    {
      "cell_type": "markdown",
      "metadata": {
        "id": "S3AKNVDuAu_D",
        "colab_type": "text"
      },
      "source": [
        "### n값보다 작은 값은 모두 삭제"
      ]
    },
    {
      "cell_type": "markdown",
      "metadata": {
        "id": "0L_4xfgo-CT0",
        "colab_type": "text"
      },
      "source": [
        "\n",
        "\n",
        "```\n",
        "df.dropna(axis = 1, thresh = n)\n",
        "```\n",
        "\n"
      ]
    },
    {
      "cell_type": "markdown",
      "metadata": {
        "id": "Tk_0eTWABF7I",
        "colab_type": "text"
      },
      "source": [
        "### q빈값을 x로 채우기"
      ]
    },
    {
      "cell_type": "markdown",
      "metadata": {
        "id": "GzlX-XM-A19K",
        "colab_type": "text"
      },
      "source": [
        "\n",
        "\n",
        "```\n",
        "df.fillna(x)\n",
        "```\n",
        "\n"
      ]
    },
    {
      "cell_type": "markdown",
      "metadata": {
        "id": "A-oDnhZCw_dd",
        "colab_type": "text"
      },
      "source": [
        "### 빈값을 평균으로 채우기"
      ]
    },
    {
      "cell_type": "markdown",
      "metadata": {
        "id": "4n8fQW7XCBW3",
        "colab_type": "text"
      },
      "source": [
        "\n",
        "```\n",
        "s.fillna(s.means())\n",
        "```"
      ]
    },
    {
      "cell_type": "markdown",
      "metadata": {
        "id": "SC-__ri6xapG",
        "colab_type": "text"
      },
      "source": [
        "### 시리즈 타입을 실수형으로 바꾸기"
      ]
    },
    {
      "cell_type": "markdown",
      "metadata": {
        "id": "tW1A41NJCCR8",
        "colab_type": "text"
      },
      "source": [
        "\n",
        "\n",
        "```\n",
        "s.astype(float)\n",
        "```"
      ]
    },
    {
      "cell_type": "markdown",
      "metadata": {
        "id": "8c2dmk81xn83",
        "colab_type": "text"
      },
      "source": [
        "### 시리즈의 1의 값을 'one'로 바꾸기"
      ]
    },
    {
      "cell_type": "markdown",
      "metadata": {
        "id": "5Mj3EjN9CElG",
        "colab_type": "text"
      },
      "source": [
        "\n",
        "\n",
        "```\n",
        "s.replace(1, 'one')\n",
        "```\n",
        "\n"
      ]
    },
    {
      "cell_type": "markdown",
      "metadata": {
        "id": "zHK3rCESxvYl",
        "colab_type": "text"
      },
      "source": [
        "### 다수의 값을 바꾸는 방법"
      ]
    },
    {
      "cell_type": "markdown",
      "metadata": {
        "id": "YRcxs97qCHuU",
        "colab_type": "text"
      },
      "source": [
        "\n",
        "\n",
        "```\n",
        "s.replace([1,3], ['one', 'three'])\n",
        "```\n",
        "\n"
      ]
    },
    {
      "cell_type": "markdown",
      "metadata": {
        "id": "Z-nQLovNx5av",
        "colab_type": "text"
      },
      "source": [
        "### 다수의 칼럼 이름 바꾸기"
      ]
    },
    {
      "cell_type": "markdown",
      "metadata": {
        "id": "uCPDXFS0CzLd",
        "colab_type": "text"
      },
      "source": [
        "\n",
        "\n",
        "```\n",
        "df.rename(columns = lamda x: x+ 1)\n",
        "```\n",
        "\n"
      ]
    },
    {
      "cell_type": "markdown",
      "metadata": {
        "id": "dXp5Lo5zyBsb",
        "colab_type": "text"
      },
      "source": [
        "### 칼럼 이름 바꾸기"
      ]
    },
    {
      "cell_type": "markdown",
      "metadata": {
        "id": "VN_uiWbYD9L1",
        "colab_type": "text"
      },
      "source": [
        "\n",
        "\n",
        "```\n",
        "df.rename( columns = {'old_name' : 'new_name'})\n",
        "```\n",
        "\n"
      ]
    },
    {
      "cell_type": "markdown",
      "metadata": {
        "id": "7AfA4aNTyJnB",
        "colab_type": "text"
      },
      "source": [
        "### 칼럼을 인덱스로 지정하기"
      ]
    },
    {
      "cell_type": "markdown",
      "metadata": {
        "id": "3ruWaRPKEGJE",
        "colab_type": "text"
      },
      "source": [
        "\n",
        "\n",
        "```\n",
        "df.set_index('colums one')\n",
        "```\n",
        "\n"
      ]
    },
    {
      "cell_type": "markdown",
      "metadata": {
        "id": "cBlF-7hTzMqN",
        "colab_type": "text"
      },
      "source": [
        "### 람다식을 이용하여 인덱스에 1씩 증가"
      ]
    },
    {
      "cell_type": "markdown",
      "metadata": {
        "id": "XuIIP3cZEWWY",
        "colab_type": "text"
      },
      "source": [
        "\n",
        "\n",
        "```\n",
        "df.rename(index = lamda x: x+1)\n",
        "```\n",
        "\n"
      ]
    },
    {
      "cell_type": "markdown",
      "metadata": {
        "id": "NMTjqkakNQms",
        "colab_type": "text"
      },
      "source": [
        "## TIL - 191223 - 필터링 / 소팅"
      ]
    },
    {
      "cell_type": "markdown",
      "metadata": {
        "id": "Ww5Ujb-xGyuK",
        "colab_type": "text"
      },
      "source": [
        "### 0.5 보다 큰 값들만 찾기"
      ]
    },
    {
      "cell_type": "markdown",
      "metadata": {
        "id": "HuLNfDyRHIxO",
        "colab_type": "text"
      },
      "source": [
        "\n",
        "\n",
        "```\n",
        "df[ df[col] > 0.5 ]\n",
        "```\n",
        "\n"
      ]
    },
    {
      "cell_type": "markdown",
      "metadata": {
        "id": "sErQlLwtIueI",
        "colab_type": "text"
      },
      "source": [
        "### 0.5 보다 크고 0.7보다 작은 값 필터링"
      ]
    },
    {
      "cell_type": "markdown",
      "metadata": {
        "id": "jBWXNe4VHmD3",
        "colab_type": "text"
      },
      "source": [
        "\n",
        "\n",
        "```\n",
        "df [ ( df[col] > 0.5 ) & ( df[col] < 0.7 ) ]\n",
        "```\n",
        "\n"
      ]
    },
    {
      "cell_type": "markdown",
      "metadata": {
        "id": "PApxYXPQI0ws",
        "colab_type": "text"
      },
      "source": [
        "### col1 칼럼 소팅하기"
      ]
    },
    {
      "cell_type": "markdown",
      "metadata": {
        "id": "qf3ZHPXiHygO",
        "colab_type": "text"
      },
      "source": [
        "\n",
        "\n",
        "```\n",
        "df.sort_values(col1)\n",
        "```\n",
        "\n"
      ]
    },
    {
      "cell_type": "markdown",
      "metadata": {
        "id": "GbAMmlZXI423",
        "colab_type": "text"
      },
      "source": [
        "### col2 내림차순으로 정렬"
      ]
    },
    {
      "cell_type": "markdown",
      "metadata": {
        "id": "W3CC8gS0IGZ1",
        "colab_type": "text"
      },
      "source": [
        "\n",
        "\n",
        "```\n",
        "df.sort_values(col2, ascending = False)\n",
        "```\n",
        "\n"
      ]
    },
    {
      "cell_type": "markdown",
      "metadata": {
        "id": "5F7DndHlI_p7",
        "colab_type": "text"
      },
      "source": [
        "### col1은 오름차순 정렬, col2 칼럼은 내림차순으로 정렬"
      ]
    },
    {
      "cell_type": "markdown",
      "metadata": {
        "id": "2X4_TzvJINMG",
        "colab_type": "text"
      },
      "source": [
        "\n",
        "\n",
        "```\n",
        "df.sort_values([col1, col2], ascending = [True, False])\n",
        "```\n",
        "\n"
      ]
    },
    {
      "cell_type": "markdown",
      "metadata": {
        "id": "nX7h2gVdSV7t",
        "colab_type": "text"
      },
      "source": [
        "## TIL - 191224 Groupby의 활용\n",
        "소스 : https://ponyozzang.tistory.com/291"
      ]
    },
    {
      "cell_type": "markdown",
      "metadata": {
        "id": "IrMyAetVraZv",
        "colab_type": "text"
      },
      "source": [
        "### 기초작업"
      ]
    },
    {
      "cell_type": "code",
      "metadata": {
        "id": "6GXaOQ8MSbpa",
        "colab_type": "code",
        "colab": {}
      },
      "source": [
        "import seaborn as sns\n",
        "import pandas as pd"
      ],
      "execution_count": 0,
      "outputs": []
    },
    {
      "cell_type": "code",
      "metadata": {
        "id": "cQ_f4dSWTAQQ",
        "colab_type": "code",
        "colab": {}
      },
      "source": [
        "df_titanic = sns.load_dataset('titanic')"
      ],
      "execution_count": 0,
      "outputs": []
    },
    {
      "cell_type": "code",
      "metadata": {
        "id": "h4LkU7hdTXcp",
        "colab_type": "code",
        "outputId": "c0aa880c-ba7d-4be7-f3f4-a4c4088e07b0",
        "colab": {
          "base_uri": "https://localhost:8080/",
          "height": 89
        }
      },
      "source": [
        "df_titanic.columns"
      ],
      "execution_count": 0,
      "outputs": [
        {
          "output_type": "execute_result",
          "data": {
            "text/plain": [
              "Index(['survived', 'pclass', 'sex', 'age', 'sibsp', 'parch', 'fare',\n",
              "       'embarked', 'class', 'who', 'adult_male', 'deck', 'embark_town',\n",
              "       'alive', 'alone'],\n",
              "      dtype='object')"
            ]
          },
          "metadata": {
            "tags": []
          },
          "execution_count": 3
        }
      ]
    },
    {
      "cell_type": "code",
      "metadata": {
        "id": "OuqF4Z6fIg7A",
        "colab_type": "code",
        "outputId": "457f4223-d7b8-4895-927b-b586d03df752",
        "colab": {
          "base_uri": "https://localhost:8080/",
          "height": 89
        }
      },
      "source": [
        "lst_titanic_keys = df_titanic.columns\n",
        "lst_titanic_keys"
      ],
      "execution_count": 0,
      "outputs": [
        {
          "output_type": "execute_result",
          "data": {
            "text/plain": [
              "Index(['survived', 'pclass', 'sex', 'age', 'sibsp', 'parch', 'fare',\n",
              "       'embarked', 'class', 'who', 'adult_male', 'deck', 'embark_town',\n",
              "       'alive', 'alone'],\n",
              "      dtype='object')"
            ]
          },
          "metadata": {
            "tags": []
          },
          "execution_count": 4
        }
      ]
    },
    {
      "cell_type": "code",
      "metadata": {
        "id": "jrkb5ZnsJqyN",
        "colab_type": "code",
        "colab": {}
      },
      "source": [
        "import seaborn as sns\n",
        "import matplotlib.pyplot as plt"
      ],
      "execution_count": 0,
      "outputs": []
    },
    {
      "cell_type": "markdown",
      "metadata": {
        "id": "FqPs0lGLrjaI",
        "colab_type": "text"
      },
      "source": [
        "### 칼럼별로 요약하여 화면 출력 - 반복문 이용"
      ]
    },
    {
      "cell_type": "code",
      "metadata": {
        "id": "AImav6gpI00V",
        "colab_type": "code",
        "outputId": "50395f66-9396-4af9-d12c-a76790c0d277",
        "colab": {
          "base_uri": "https://localhost:8080/",
          "height": 1000
        }
      },
      "source": [
        "for key in lst_titanic_keys:\n",
        "    print(df_titanic.groupby(key).size())\n",
        "    print(\"\\n\\n\")"
      ],
      "execution_count": 0,
      "outputs": [
        {
          "output_type": "stream",
          "text": [
            "survived\n",
            "0    549\n",
            "1    342\n",
            "dtype: int64\n",
            "\n",
            "\n",
            "\n",
            "pclass\n",
            "1    216\n",
            "2    184\n",
            "3    491\n",
            "dtype: int64\n",
            "\n",
            "\n",
            "\n",
            "sex\n",
            "female    314\n",
            "male      577\n",
            "dtype: int64\n",
            "\n",
            "\n",
            "\n",
            "age\n",
            "0.42     1\n",
            "0.67     1\n",
            "0.75     2\n",
            "0.83     2\n",
            "0.92     1\n",
            "        ..\n",
            "70.00    2\n",
            "70.50    1\n",
            "71.00    2\n",
            "74.00    1\n",
            "80.00    1\n",
            "Length: 88, dtype: int64\n",
            "\n",
            "\n",
            "\n",
            "sibsp\n",
            "0    608\n",
            "1    209\n",
            "2     28\n",
            "3     16\n",
            "4     18\n",
            "5      5\n",
            "8      7\n",
            "dtype: int64\n",
            "\n",
            "\n",
            "\n",
            "parch\n",
            "0    678\n",
            "1    118\n",
            "2     80\n",
            "3      5\n",
            "4      4\n",
            "5      5\n",
            "6      1\n",
            "dtype: int64\n",
            "\n",
            "\n",
            "\n",
            "fare\n",
            "0.0000      15\n",
            "4.0125       1\n",
            "5.0000       1\n",
            "6.2375       1\n",
            "6.4375       1\n",
            "            ..\n",
            "227.5250     4\n",
            "247.5208     2\n",
            "262.3750     2\n",
            "263.0000     4\n",
            "512.3292     3\n",
            "Length: 248, dtype: int64\n",
            "\n",
            "\n",
            "\n",
            "embarked\n",
            "C    168\n",
            "Q     77\n",
            "S    644\n",
            "dtype: int64\n",
            "\n",
            "\n",
            "\n",
            "class\n",
            "First     216\n",
            "Second    184\n",
            "Third     491\n",
            "dtype: int64\n",
            "\n",
            "\n",
            "\n",
            "who\n",
            "child     83\n",
            "man      537\n",
            "woman    271\n",
            "dtype: int64\n",
            "\n",
            "\n",
            "\n",
            "adult_male\n",
            "False    354\n",
            "True     537\n",
            "dtype: int64\n",
            "\n",
            "\n",
            "\n",
            "deck\n",
            "A    15\n",
            "B    47\n",
            "C    59\n",
            "D    33\n",
            "E    32\n",
            "F    13\n",
            "G     4\n",
            "dtype: int64\n",
            "\n",
            "\n",
            "\n",
            "embark_town\n",
            "Cherbourg      168\n",
            "Queenstown      77\n",
            "Southampton    644\n",
            "dtype: int64\n",
            "\n",
            "\n",
            "\n",
            "alive\n",
            "no     549\n",
            "yes    342\n",
            "dtype: int64\n",
            "\n",
            "\n",
            "\n",
            "alone\n",
            "False    354\n",
            "True     537\n",
            "dtype: int64\n",
            "\n",
            "\n",
            "\n"
          ],
          "name": "stdout"
        }
      ]
    },
    {
      "cell_type": "markdown",
      "metadata": {
        "id": "2t5seZx5rxIR",
        "colab_type": "text"
      },
      "source": [
        "### groupby 연습하기"
      ]
    },
    {
      "cell_type": "code",
      "metadata": {
        "id": "RwK7cD_BULdM",
        "colab_type": "code",
        "colab": {}
      },
      "source": [
        "g_sex = df_titanic.groupby('sex').size()"
      ],
      "execution_count": 0,
      "outputs": []
    },
    {
      "cell_type": "code",
      "metadata": {
        "id": "VmtTMgBSMUGQ",
        "colab_type": "code",
        "outputId": "086de4e5-074e-4f1f-da29-b81b17dc44ab",
        "colab": {
          "base_uri": "https://localhost:8080/",
          "height": 142
        }
      },
      "source": [
        "df_g_sex = pd.DataFrame(g_sex)\n",
        "df_g_sex "
      ],
      "execution_count": 0,
      "outputs": [
        {
          "output_type": "execute_result",
          "data": {
            "text/html": [
              "<div>\n",
              "<style scoped>\n",
              "    .dataframe tbody tr th:only-of-type {\n",
              "        vertical-align: middle;\n",
              "    }\n",
              "\n",
              "    .dataframe tbody tr th {\n",
              "        vertical-align: top;\n",
              "    }\n",
              "\n",
              "    .dataframe thead th {\n",
              "        text-align: right;\n",
              "    }\n",
              "</style>\n",
              "<table border=\"1\" class=\"dataframe\">\n",
              "  <thead>\n",
              "    <tr style=\"text-align: right;\">\n",
              "      <th></th>\n",
              "      <th>0</th>\n",
              "    </tr>\n",
              "    <tr>\n",
              "      <th>sex</th>\n",
              "      <th></th>\n",
              "    </tr>\n",
              "  </thead>\n",
              "  <tbody>\n",
              "    <tr>\n",
              "      <th>female</th>\n",
              "      <td>314</td>\n",
              "    </tr>\n",
              "    <tr>\n",
              "      <th>male</th>\n",
              "      <td>577</td>\n",
              "    </tr>\n",
              "  </tbody>\n",
              "</table>\n",
              "</div>"
            ],
            "text/plain": [
              "          0\n",
              "sex        \n",
              "female  314\n",
              "male    577"
            ]
          },
          "metadata": {
            "tags": []
          },
          "execution_count": 8
        }
      ]
    },
    {
      "cell_type": "code",
      "metadata": {
        "id": "ub7KU5QyM3tb",
        "colab_type": "code",
        "colab": {}
      },
      "source": [
        "df_g_sex.reset_index(inplace=True)"
      ],
      "execution_count": 0,
      "outputs": []
    },
    {
      "cell_type": "code",
      "metadata": {
        "id": "OYvAiIR-PhJh",
        "colab_type": "code",
        "outputId": "9481deef-d999-4f70-9b93-740690b089aa",
        "colab": {
          "base_uri": "https://localhost:8080/",
          "height": 35
        }
      },
      "source": [
        "df_g_sex.columns"
      ],
      "execution_count": 0,
      "outputs": [
        {
          "output_type": "execute_result",
          "data": {
            "text/plain": [
              "Index(['sex', 0], dtype='object')"
            ]
          },
          "metadata": {
            "tags": []
          },
          "execution_count": 10
        }
      ]
    },
    {
      "cell_type": "code",
      "metadata": {
        "id": "6wfDLXGrLZL0",
        "colab_type": "code",
        "outputId": "03d9c3d4-898d-4e09-af1e-63dbed14db08",
        "colab": {
          "base_uri": "https://localhost:8080/",
          "height": 89
        }
      },
      "source": [
        "for key, val in g_sex.iteritems():\n",
        "    print(key)\n",
        "    print(val)"
      ],
      "execution_count": 0,
      "outputs": [
        {
          "output_type": "stream",
          "text": [
            "female\n",
            "314\n",
            "male\n",
            "577\n"
          ],
          "name": "stdout"
        }
      ]
    },
    {
      "cell_type": "code",
      "metadata": {
        "id": "JGW17xjAUhYT",
        "colab_type": "code",
        "outputId": "a14eea1f-1ce6-4f07-bbe4-360e6df33ef2",
        "colab": {
          "base_uri": "https://localhost:8080/",
          "height": 142
        }
      },
      "source": [
        "df_titanic.groupby('survived').mean() #생존자 평균"
      ],
      "execution_count": 0,
      "outputs": [
        {
          "output_type": "execute_result",
          "data": {
            "text/html": [
              "<div>\n",
              "<style scoped>\n",
              "    .dataframe tbody tr th:only-of-type {\n",
              "        vertical-align: middle;\n",
              "    }\n",
              "\n",
              "    .dataframe tbody tr th {\n",
              "        vertical-align: top;\n",
              "    }\n",
              "\n",
              "    .dataframe thead th {\n",
              "        text-align: right;\n",
              "    }\n",
              "</style>\n",
              "<table border=\"1\" class=\"dataframe\">\n",
              "  <thead>\n",
              "    <tr style=\"text-align: right;\">\n",
              "      <th></th>\n",
              "      <th>pclass</th>\n",
              "      <th>age</th>\n",
              "      <th>sibsp</th>\n",
              "      <th>parch</th>\n",
              "      <th>fare</th>\n",
              "      <th>adult_male</th>\n",
              "      <th>alone</th>\n",
              "    </tr>\n",
              "    <tr>\n",
              "      <th>survived</th>\n",
              "      <th></th>\n",
              "      <th></th>\n",
              "      <th></th>\n",
              "      <th></th>\n",
              "      <th></th>\n",
              "      <th></th>\n",
              "      <th></th>\n",
              "    </tr>\n",
              "  </thead>\n",
              "  <tbody>\n",
              "    <tr>\n",
              "      <th>0</th>\n",
              "      <td>2.531876</td>\n",
              "      <td>30.626179</td>\n",
              "      <td>0.553734</td>\n",
              "      <td>0.329690</td>\n",
              "      <td>22.117887</td>\n",
              "      <td>0.817851</td>\n",
              "      <td>0.681239</td>\n",
              "    </tr>\n",
              "    <tr>\n",
              "      <th>1</th>\n",
              "      <td>1.950292</td>\n",
              "      <td>28.343690</td>\n",
              "      <td>0.473684</td>\n",
              "      <td>0.464912</td>\n",
              "      <td>48.395408</td>\n",
              "      <td>0.257310</td>\n",
              "      <td>0.476608</td>\n",
              "    </tr>\n",
              "  </tbody>\n",
              "</table>\n",
              "</div>"
            ],
            "text/plain": [
              "            pclass        age     sibsp  ...       fare  adult_male     alone\n",
              "survived                                 ...                                 \n",
              "0         2.531876  30.626179  0.553734  ...  22.117887    0.817851  0.681239\n",
              "1         1.950292  28.343690  0.473684  ...  48.395408    0.257310  0.476608\n",
              "\n",
              "[2 rows x 7 columns]"
            ]
          },
          "metadata": {
            "tags": []
          },
          "execution_count": 12
        }
      ]
    },
    {
      "cell_type": "code",
      "metadata": {
        "id": "h9A7BNd1Um93",
        "colab_type": "code",
        "outputId": "532efe93-4c8c-4c26-bd7c-58c2f26af459",
        "colab": {
          "base_uri": "https://localhost:8080/",
          "height": 35
        }
      },
      "source": [
        "g = df_titanic.groupby('class') #클래스별로 그룹짓기\n",
        "g"
      ],
      "execution_count": 0,
      "outputs": [
        {
          "output_type": "execute_result",
          "data": {
            "text/plain": [
              "<pandas.core.groupby.generic.DataFrameGroupBy object at 0x7f13eae68ba8>"
            ]
          },
          "metadata": {
            "tags": []
          },
          "execution_count": 13
        }
      ]
    },
    {
      "cell_type": "code",
      "metadata": {
        "id": "p7BGf_Fp31-2",
        "colab_type": "code",
        "outputId": "f80c356f-de9d-451a-8390-071b69a2fadb",
        "colab": {
          "base_uri": "https://localhost:8080/",
          "height": 439
        }
      },
      "source": [
        "g.get_group('First') # 1등석 그룹 데이터 가져오기"
      ],
      "execution_count": 0,
      "outputs": [
        {
          "output_type": "execute_result",
          "data": {
            "text/html": [
              "<div>\n",
              "<style scoped>\n",
              "    .dataframe tbody tr th:only-of-type {\n",
              "        vertical-align: middle;\n",
              "    }\n",
              "\n",
              "    .dataframe tbody tr th {\n",
              "        vertical-align: top;\n",
              "    }\n",
              "\n",
              "    .dataframe thead th {\n",
              "        text-align: right;\n",
              "    }\n",
              "</style>\n",
              "<table border=\"1\" class=\"dataframe\">\n",
              "  <thead>\n",
              "    <tr style=\"text-align: right;\">\n",
              "      <th></th>\n",
              "      <th>survived</th>\n",
              "      <th>pclass</th>\n",
              "      <th>sex</th>\n",
              "      <th>age</th>\n",
              "      <th>sibsp</th>\n",
              "      <th>parch</th>\n",
              "      <th>fare</th>\n",
              "      <th>embarked</th>\n",
              "      <th>class</th>\n",
              "      <th>who</th>\n",
              "      <th>adult_male</th>\n",
              "      <th>deck</th>\n",
              "      <th>embark_town</th>\n",
              "      <th>alive</th>\n",
              "      <th>alone</th>\n",
              "    </tr>\n",
              "  </thead>\n",
              "  <tbody>\n",
              "    <tr>\n",
              "      <th>1</th>\n",
              "      <td>1</td>\n",
              "      <td>1</td>\n",
              "      <td>female</td>\n",
              "      <td>38.0</td>\n",
              "      <td>1</td>\n",
              "      <td>0</td>\n",
              "      <td>71.2833</td>\n",
              "      <td>C</td>\n",
              "      <td>First</td>\n",
              "      <td>woman</td>\n",
              "      <td>False</td>\n",
              "      <td>C</td>\n",
              "      <td>Cherbourg</td>\n",
              "      <td>yes</td>\n",
              "      <td>False</td>\n",
              "    </tr>\n",
              "    <tr>\n",
              "      <th>3</th>\n",
              "      <td>1</td>\n",
              "      <td>1</td>\n",
              "      <td>female</td>\n",
              "      <td>35.0</td>\n",
              "      <td>1</td>\n",
              "      <td>0</td>\n",
              "      <td>53.1000</td>\n",
              "      <td>S</td>\n",
              "      <td>First</td>\n",
              "      <td>woman</td>\n",
              "      <td>False</td>\n",
              "      <td>C</td>\n",
              "      <td>Southampton</td>\n",
              "      <td>yes</td>\n",
              "      <td>False</td>\n",
              "    </tr>\n",
              "    <tr>\n",
              "      <th>6</th>\n",
              "      <td>0</td>\n",
              "      <td>1</td>\n",
              "      <td>male</td>\n",
              "      <td>54.0</td>\n",
              "      <td>0</td>\n",
              "      <td>0</td>\n",
              "      <td>51.8625</td>\n",
              "      <td>S</td>\n",
              "      <td>First</td>\n",
              "      <td>man</td>\n",
              "      <td>True</td>\n",
              "      <td>E</td>\n",
              "      <td>Southampton</td>\n",
              "      <td>no</td>\n",
              "      <td>True</td>\n",
              "    </tr>\n",
              "    <tr>\n",
              "      <th>11</th>\n",
              "      <td>1</td>\n",
              "      <td>1</td>\n",
              "      <td>female</td>\n",
              "      <td>58.0</td>\n",
              "      <td>0</td>\n",
              "      <td>0</td>\n",
              "      <td>26.5500</td>\n",
              "      <td>S</td>\n",
              "      <td>First</td>\n",
              "      <td>woman</td>\n",
              "      <td>False</td>\n",
              "      <td>C</td>\n",
              "      <td>Southampton</td>\n",
              "      <td>yes</td>\n",
              "      <td>True</td>\n",
              "    </tr>\n",
              "    <tr>\n",
              "      <th>23</th>\n",
              "      <td>1</td>\n",
              "      <td>1</td>\n",
              "      <td>male</td>\n",
              "      <td>28.0</td>\n",
              "      <td>0</td>\n",
              "      <td>0</td>\n",
              "      <td>35.5000</td>\n",
              "      <td>S</td>\n",
              "      <td>First</td>\n",
              "      <td>man</td>\n",
              "      <td>True</td>\n",
              "      <td>A</td>\n",
              "      <td>Southampton</td>\n",
              "      <td>yes</td>\n",
              "      <td>True</td>\n",
              "    </tr>\n",
              "    <tr>\n",
              "      <th>...</th>\n",
              "      <td>...</td>\n",
              "      <td>...</td>\n",
              "      <td>...</td>\n",
              "      <td>...</td>\n",
              "      <td>...</td>\n",
              "      <td>...</td>\n",
              "      <td>...</td>\n",
              "      <td>...</td>\n",
              "      <td>...</td>\n",
              "      <td>...</td>\n",
              "      <td>...</td>\n",
              "      <td>...</td>\n",
              "      <td>...</td>\n",
              "      <td>...</td>\n",
              "      <td>...</td>\n",
              "    </tr>\n",
              "    <tr>\n",
              "      <th>871</th>\n",
              "      <td>1</td>\n",
              "      <td>1</td>\n",
              "      <td>female</td>\n",
              "      <td>47.0</td>\n",
              "      <td>1</td>\n",
              "      <td>1</td>\n",
              "      <td>52.5542</td>\n",
              "      <td>S</td>\n",
              "      <td>First</td>\n",
              "      <td>woman</td>\n",
              "      <td>False</td>\n",
              "      <td>D</td>\n",
              "      <td>Southampton</td>\n",
              "      <td>yes</td>\n",
              "      <td>False</td>\n",
              "    </tr>\n",
              "    <tr>\n",
              "      <th>872</th>\n",
              "      <td>0</td>\n",
              "      <td>1</td>\n",
              "      <td>male</td>\n",
              "      <td>33.0</td>\n",
              "      <td>0</td>\n",
              "      <td>0</td>\n",
              "      <td>5.0000</td>\n",
              "      <td>S</td>\n",
              "      <td>First</td>\n",
              "      <td>man</td>\n",
              "      <td>True</td>\n",
              "      <td>B</td>\n",
              "      <td>Southampton</td>\n",
              "      <td>no</td>\n",
              "      <td>True</td>\n",
              "    </tr>\n",
              "    <tr>\n",
              "      <th>879</th>\n",
              "      <td>1</td>\n",
              "      <td>1</td>\n",
              "      <td>female</td>\n",
              "      <td>56.0</td>\n",
              "      <td>0</td>\n",
              "      <td>1</td>\n",
              "      <td>83.1583</td>\n",
              "      <td>C</td>\n",
              "      <td>First</td>\n",
              "      <td>woman</td>\n",
              "      <td>False</td>\n",
              "      <td>C</td>\n",
              "      <td>Cherbourg</td>\n",
              "      <td>yes</td>\n",
              "      <td>False</td>\n",
              "    </tr>\n",
              "    <tr>\n",
              "      <th>887</th>\n",
              "      <td>1</td>\n",
              "      <td>1</td>\n",
              "      <td>female</td>\n",
              "      <td>19.0</td>\n",
              "      <td>0</td>\n",
              "      <td>0</td>\n",
              "      <td>30.0000</td>\n",
              "      <td>S</td>\n",
              "      <td>First</td>\n",
              "      <td>woman</td>\n",
              "      <td>False</td>\n",
              "      <td>B</td>\n",
              "      <td>Southampton</td>\n",
              "      <td>yes</td>\n",
              "      <td>True</td>\n",
              "    </tr>\n",
              "    <tr>\n",
              "      <th>889</th>\n",
              "      <td>1</td>\n",
              "      <td>1</td>\n",
              "      <td>male</td>\n",
              "      <td>26.0</td>\n",
              "      <td>0</td>\n",
              "      <td>0</td>\n",
              "      <td>30.0000</td>\n",
              "      <td>C</td>\n",
              "      <td>First</td>\n",
              "      <td>man</td>\n",
              "      <td>True</td>\n",
              "      <td>C</td>\n",
              "      <td>Cherbourg</td>\n",
              "      <td>yes</td>\n",
              "      <td>True</td>\n",
              "    </tr>\n",
              "  </tbody>\n",
              "</table>\n",
              "<p>216 rows × 15 columns</p>\n",
              "</div>"
            ],
            "text/plain": [
              "     survived  pclass     sex   age  ...  deck  embark_town  alive  alone\n",
              "1           1       1  female  38.0  ...     C    Cherbourg    yes  False\n",
              "3           1       1  female  35.0  ...     C  Southampton    yes  False\n",
              "6           0       1    male  54.0  ...     E  Southampton     no   True\n",
              "11          1       1  female  58.0  ...     C  Southampton    yes   True\n",
              "23          1       1    male  28.0  ...     A  Southampton    yes   True\n",
              "..        ...     ...     ...   ...  ...   ...          ...    ...    ...\n",
              "871         1       1  female  47.0  ...     D  Southampton    yes  False\n",
              "872         0       1    male  33.0  ...     B  Southampton     no   True\n",
              "879         1       1  female  56.0  ...     C    Cherbourg    yes  False\n",
              "887         1       1  female  19.0  ...     B  Southampton    yes   True\n",
              "889         1       1    male  26.0  ...     C    Cherbourg    yes   True\n",
              "\n",
              "[216 rows x 15 columns]"
            ]
          },
          "metadata": {
            "tags": []
          },
          "execution_count": 14
        }
      ]
    },
    {
      "cell_type": "code",
      "metadata": {
        "id": "bGkfdP0Z6nU4",
        "colab_type": "code",
        "outputId": "9e5181bc-c94a-4ae9-91a0-df16d901add2",
        "colab": {
          "base_uri": "https://localhost:8080/",
          "height": 439
        }
      },
      "source": [
        "g.get_group('Second') # 2등석 그룹 데이터 가져오기 get_group()"
      ],
      "execution_count": 0,
      "outputs": [
        {
          "output_type": "execute_result",
          "data": {
            "text/html": [
              "<div>\n",
              "<style scoped>\n",
              "    .dataframe tbody tr th:only-of-type {\n",
              "        vertical-align: middle;\n",
              "    }\n",
              "\n",
              "    .dataframe tbody tr th {\n",
              "        vertical-align: top;\n",
              "    }\n",
              "\n",
              "    .dataframe thead th {\n",
              "        text-align: right;\n",
              "    }\n",
              "</style>\n",
              "<table border=\"1\" class=\"dataframe\">\n",
              "  <thead>\n",
              "    <tr style=\"text-align: right;\">\n",
              "      <th></th>\n",
              "      <th>survived</th>\n",
              "      <th>pclass</th>\n",
              "      <th>sex</th>\n",
              "      <th>age</th>\n",
              "      <th>sibsp</th>\n",
              "      <th>parch</th>\n",
              "      <th>fare</th>\n",
              "      <th>embarked</th>\n",
              "      <th>class</th>\n",
              "      <th>who</th>\n",
              "      <th>adult_male</th>\n",
              "      <th>deck</th>\n",
              "      <th>embark_town</th>\n",
              "      <th>alive</th>\n",
              "      <th>alone</th>\n",
              "    </tr>\n",
              "  </thead>\n",
              "  <tbody>\n",
              "    <tr>\n",
              "      <th>9</th>\n",
              "      <td>1</td>\n",
              "      <td>2</td>\n",
              "      <td>female</td>\n",
              "      <td>14.0</td>\n",
              "      <td>1</td>\n",
              "      <td>0</td>\n",
              "      <td>30.0708</td>\n",
              "      <td>C</td>\n",
              "      <td>Second</td>\n",
              "      <td>child</td>\n",
              "      <td>False</td>\n",
              "      <td>NaN</td>\n",
              "      <td>Cherbourg</td>\n",
              "      <td>yes</td>\n",
              "      <td>False</td>\n",
              "    </tr>\n",
              "    <tr>\n",
              "      <th>15</th>\n",
              "      <td>1</td>\n",
              "      <td>2</td>\n",
              "      <td>female</td>\n",
              "      <td>55.0</td>\n",
              "      <td>0</td>\n",
              "      <td>0</td>\n",
              "      <td>16.0000</td>\n",
              "      <td>S</td>\n",
              "      <td>Second</td>\n",
              "      <td>woman</td>\n",
              "      <td>False</td>\n",
              "      <td>NaN</td>\n",
              "      <td>Southampton</td>\n",
              "      <td>yes</td>\n",
              "      <td>True</td>\n",
              "    </tr>\n",
              "    <tr>\n",
              "      <th>17</th>\n",
              "      <td>1</td>\n",
              "      <td>2</td>\n",
              "      <td>male</td>\n",
              "      <td>NaN</td>\n",
              "      <td>0</td>\n",
              "      <td>0</td>\n",
              "      <td>13.0000</td>\n",
              "      <td>S</td>\n",
              "      <td>Second</td>\n",
              "      <td>man</td>\n",
              "      <td>True</td>\n",
              "      <td>NaN</td>\n",
              "      <td>Southampton</td>\n",
              "      <td>yes</td>\n",
              "      <td>True</td>\n",
              "    </tr>\n",
              "    <tr>\n",
              "      <th>20</th>\n",
              "      <td>0</td>\n",
              "      <td>2</td>\n",
              "      <td>male</td>\n",
              "      <td>35.0</td>\n",
              "      <td>0</td>\n",
              "      <td>0</td>\n",
              "      <td>26.0000</td>\n",
              "      <td>S</td>\n",
              "      <td>Second</td>\n",
              "      <td>man</td>\n",
              "      <td>True</td>\n",
              "      <td>NaN</td>\n",
              "      <td>Southampton</td>\n",
              "      <td>no</td>\n",
              "      <td>True</td>\n",
              "    </tr>\n",
              "    <tr>\n",
              "      <th>21</th>\n",
              "      <td>1</td>\n",
              "      <td>2</td>\n",
              "      <td>male</td>\n",
              "      <td>34.0</td>\n",
              "      <td>0</td>\n",
              "      <td>0</td>\n",
              "      <td>13.0000</td>\n",
              "      <td>S</td>\n",
              "      <td>Second</td>\n",
              "      <td>man</td>\n",
              "      <td>True</td>\n",
              "      <td>D</td>\n",
              "      <td>Southampton</td>\n",
              "      <td>yes</td>\n",
              "      <td>True</td>\n",
              "    </tr>\n",
              "    <tr>\n",
              "      <th>...</th>\n",
              "      <td>...</td>\n",
              "      <td>...</td>\n",
              "      <td>...</td>\n",
              "      <td>...</td>\n",
              "      <td>...</td>\n",
              "      <td>...</td>\n",
              "      <td>...</td>\n",
              "      <td>...</td>\n",
              "      <td>...</td>\n",
              "      <td>...</td>\n",
              "      <td>...</td>\n",
              "      <td>...</td>\n",
              "      <td>...</td>\n",
              "      <td>...</td>\n",
              "      <td>...</td>\n",
              "    </tr>\n",
              "    <tr>\n",
              "      <th>866</th>\n",
              "      <td>1</td>\n",
              "      <td>2</td>\n",
              "      <td>female</td>\n",
              "      <td>27.0</td>\n",
              "      <td>1</td>\n",
              "      <td>0</td>\n",
              "      <td>13.8583</td>\n",
              "      <td>C</td>\n",
              "      <td>Second</td>\n",
              "      <td>woman</td>\n",
              "      <td>False</td>\n",
              "      <td>NaN</td>\n",
              "      <td>Cherbourg</td>\n",
              "      <td>yes</td>\n",
              "      <td>False</td>\n",
              "    </tr>\n",
              "    <tr>\n",
              "      <th>874</th>\n",
              "      <td>1</td>\n",
              "      <td>2</td>\n",
              "      <td>female</td>\n",
              "      <td>28.0</td>\n",
              "      <td>1</td>\n",
              "      <td>0</td>\n",
              "      <td>24.0000</td>\n",
              "      <td>C</td>\n",
              "      <td>Second</td>\n",
              "      <td>woman</td>\n",
              "      <td>False</td>\n",
              "      <td>NaN</td>\n",
              "      <td>Cherbourg</td>\n",
              "      <td>yes</td>\n",
              "      <td>False</td>\n",
              "    </tr>\n",
              "    <tr>\n",
              "      <th>880</th>\n",
              "      <td>1</td>\n",
              "      <td>2</td>\n",
              "      <td>female</td>\n",
              "      <td>25.0</td>\n",
              "      <td>0</td>\n",
              "      <td>1</td>\n",
              "      <td>26.0000</td>\n",
              "      <td>S</td>\n",
              "      <td>Second</td>\n",
              "      <td>woman</td>\n",
              "      <td>False</td>\n",
              "      <td>NaN</td>\n",
              "      <td>Southampton</td>\n",
              "      <td>yes</td>\n",
              "      <td>False</td>\n",
              "    </tr>\n",
              "    <tr>\n",
              "      <th>883</th>\n",
              "      <td>0</td>\n",
              "      <td>2</td>\n",
              "      <td>male</td>\n",
              "      <td>28.0</td>\n",
              "      <td>0</td>\n",
              "      <td>0</td>\n",
              "      <td>10.5000</td>\n",
              "      <td>S</td>\n",
              "      <td>Second</td>\n",
              "      <td>man</td>\n",
              "      <td>True</td>\n",
              "      <td>NaN</td>\n",
              "      <td>Southampton</td>\n",
              "      <td>no</td>\n",
              "      <td>True</td>\n",
              "    </tr>\n",
              "    <tr>\n",
              "      <th>886</th>\n",
              "      <td>0</td>\n",
              "      <td>2</td>\n",
              "      <td>male</td>\n",
              "      <td>27.0</td>\n",
              "      <td>0</td>\n",
              "      <td>0</td>\n",
              "      <td>13.0000</td>\n",
              "      <td>S</td>\n",
              "      <td>Second</td>\n",
              "      <td>man</td>\n",
              "      <td>True</td>\n",
              "      <td>NaN</td>\n",
              "      <td>Southampton</td>\n",
              "      <td>no</td>\n",
              "      <td>True</td>\n",
              "    </tr>\n",
              "  </tbody>\n",
              "</table>\n",
              "<p>184 rows × 15 columns</p>\n",
              "</div>"
            ],
            "text/plain": [
              "     survived  pclass     sex   age  ...  deck  embark_town  alive  alone\n",
              "9           1       2  female  14.0  ...   NaN    Cherbourg    yes  False\n",
              "15          1       2  female  55.0  ...   NaN  Southampton    yes   True\n",
              "17          1       2    male   NaN  ...   NaN  Southampton    yes   True\n",
              "20          0       2    male  35.0  ...   NaN  Southampton     no   True\n",
              "21          1       2    male  34.0  ...     D  Southampton    yes   True\n",
              "..        ...     ...     ...   ...  ...   ...          ...    ...    ...\n",
              "866         1       2  female  27.0  ...   NaN    Cherbourg    yes  False\n",
              "874         1       2  female  28.0  ...   NaN    Cherbourg    yes  False\n",
              "880         1       2  female  25.0  ...   NaN  Southampton    yes  False\n",
              "883         0       2    male  28.0  ...   NaN  Southampton     no   True\n",
              "886         0       2    male  27.0  ...   NaN  Southampton     no   True\n",
              "\n",
              "[184 rows x 15 columns]"
            ]
          },
          "metadata": {
            "tags": []
          },
          "execution_count": 15
        }
      ]
    },
    {
      "cell_type": "code",
      "metadata": {
        "id": "Rd5tigtr42jB",
        "colab_type": "code",
        "outputId": "29ff72c9-39f7-4a82-b396-c1eb4a85d340",
        "colab": {
          "base_uri": "https://localhost:8080/",
          "height": 233
        }
      },
      "source": [
        "g.groups # 그룹내용 들여다 보기"
      ],
      "execution_count": 0,
      "outputs": [
        {
          "output_type": "execute_result",
          "data": {
            "text/plain": [
              "{'First': Int64Index([  1,   3,   6,  11,  23,  27,  30,  31,  34,  35,\n",
              "             ...\n",
              "             853, 856, 857, 862, 867, 871, 872, 879, 887, 889],\n",
              "            dtype='int64', length=216),\n",
              " 'Second': Int64Index([  9,  15,  17,  20,  21,  33,  41,  43,  53,  56,\n",
              "             ...\n",
              "             848, 854, 861, 864, 865, 866, 874, 880, 883, 886],\n",
              "            dtype='int64', length=184),\n",
              " 'Third': Int64Index([  0,   2,   4,   5,   7,   8,  10,  12,  13,  14,\n",
              "             ...\n",
              "             875, 876, 877, 878, 881, 882, 884, 885, 888, 890],\n",
              "            dtype='int64', length=491)}"
            ]
          },
          "metadata": {
            "tags": []
          },
          "execution_count": 16
        }
      ]
    },
    {
      "cell_type": "code",
      "metadata": {
        "id": "L85929Kh6teQ",
        "colab_type": "code",
        "outputId": "e38c686e-329c-4742-98f5-bc9ffe2f8194",
        "colab": {
          "base_uri": "https://localhost:8080/",
          "height": 935
        }
      },
      "source": [
        "for key, item in g:\n",
        "    print(key)\n",
        "    print(g.get_group(key), \"\\n\\n\")\n"
      ],
      "execution_count": 0,
      "outputs": [
        {
          "output_type": "stream",
          "text": [
            "First\n",
            "     survived  pclass     sex   age  ...  deck  embark_town  alive  alone\n",
            "1           1       1  female  38.0  ...     C    Cherbourg    yes  False\n",
            "3           1       1  female  35.0  ...     C  Southampton    yes  False\n",
            "6           0       1    male  54.0  ...     E  Southampton     no   True\n",
            "11          1       1  female  58.0  ...     C  Southampton    yes   True\n",
            "23          1       1    male  28.0  ...     A  Southampton    yes   True\n",
            "..        ...     ...     ...   ...  ...   ...          ...    ...    ...\n",
            "871         1       1  female  47.0  ...     D  Southampton    yes  False\n",
            "872         0       1    male  33.0  ...     B  Southampton     no   True\n",
            "879         1       1  female  56.0  ...     C    Cherbourg    yes  False\n",
            "887         1       1  female  19.0  ...     B  Southampton    yes   True\n",
            "889         1       1    male  26.0  ...     C    Cherbourg    yes   True\n",
            "\n",
            "[216 rows x 15 columns] \n",
            "\n",
            "\n",
            "Second\n",
            "     survived  pclass     sex   age  ...  deck  embark_town  alive  alone\n",
            "9           1       2  female  14.0  ...   NaN    Cherbourg    yes  False\n",
            "15          1       2  female  55.0  ...   NaN  Southampton    yes   True\n",
            "17          1       2    male   NaN  ...   NaN  Southampton    yes   True\n",
            "20          0       2    male  35.0  ...   NaN  Southampton     no   True\n",
            "21          1       2    male  34.0  ...     D  Southampton    yes   True\n",
            "..        ...     ...     ...   ...  ...   ...          ...    ...    ...\n",
            "866         1       2  female  27.0  ...   NaN    Cherbourg    yes  False\n",
            "874         1       2  female  28.0  ...   NaN    Cherbourg    yes  False\n",
            "880         1       2  female  25.0  ...   NaN  Southampton    yes  False\n",
            "883         0       2    male  28.0  ...   NaN  Southampton     no   True\n",
            "886         0       2    male  27.0  ...   NaN  Southampton     no   True\n",
            "\n",
            "[184 rows x 15 columns] \n",
            "\n",
            "\n",
            "Third\n",
            "     survived  pclass     sex   age  ...  deck  embark_town  alive  alone\n",
            "0           0       3    male  22.0  ...   NaN  Southampton     no  False\n",
            "2           1       3  female  26.0  ...   NaN  Southampton    yes   True\n",
            "4           0       3    male  35.0  ...   NaN  Southampton     no   True\n",
            "5           0       3    male   NaN  ...   NaN   Queenstown     no   True\n",
            "7           0       3    male   2.0  ...   NaN  Southampton     no  False\n",
            "..        ...     ...     ...   ...  ...   ...          ...    ...    ...\n",
            "882         0       3  female  22.0  ...   NaN  Southampton     no   True\n",
            "884         0       3    male  25.0  ...   NaN  Southampton     no   True\n",
            "885         0       3  female  39.0  ...   NaN   Queenstown     no  False\n",
            "888         0       3  female   NaN  ...   NaN  Southampton     no  False\n",
            "890         0       3    male  32.0  ...   NaN   Queenstown     no   True\n",
            "\n",
            "[491 rows x 15 columns] \n",
            "\n",
            "\n"
          ],
          "name": "stdout"
        }
      ]
    },
    {
      "cell_type": "code",
      "metadata": {
        "id": "x2SkpQl79CE1",
        "colab_type": "code",
        "outputId": "5baccb90-d2c3-4502-ca1f-c90add74c6db",
        "colab": {
          "base_uri": "https://localhost:8080/",
          "height": 287
        }
      },
      "source": [
        "for key, value in g.groups.items():\n",
        "    print(key)\n",
        "    print(value)"
      ],
      "execution_count": 0,
      "outputs": [
        {
          "output_type": "stream",
          "text": [
            "First\n",
            "Int64Index([  1,   3,   6,  11,  23,  27,  30,  31,  34,  35,\n",
            "            ...\n",
            "            853, 856, 857, 862, 867, 871, 872, 879, 887, 889],\n",
            "           dtype='int64', length=216)\n",
            "Second\n",
            "Int64Index([  9,  15,  17,  20,  21,  33,  41,  43,  53,  56,\n",
            "            ...\n",
            "            848, 854, 861, 864, 865, 866, 874, 880, 883, 886],\n",
            "           dtype='int64', length=184)\n",
            "Third\n",
            "Int64Index([  0,   2,   4,   5,   7,   8,  10,  12,  13,  14,\n",
            "            ...\n",
            "            875, 876, 877, 878, 881, 882, 884, 885, 888, 890],\n",
            "           dtype='int64', length=491)\n"
          ],
          "name": "stdout"
        }
      ]
    },
    {
      "cell_type": "code",
      "metadata": {
        "id": "B_zGL3JJ45RG",
        "colab_type": "code",
        "outputId": "d2508bb1-905d-44ff-e939-8079785020fe",
        "colab": {
          "base_uri": "https://localhost:8080/",
          "height": 1000
        }
      },
      "source": [
        "g.indices"
      ],
      "execution_count": 0,
      "outputs": [
        {
          "output_type": "execute_result",
          "data": {
            "text/plain": [
              "{'First': array([  1,   3,   6,  11,  23,  27,  30,  31,  34,  35,  52,  54,  55,\n",
              "         61,  62,  64,  83,  88,  92,  96,  97, 102, 110, 118, 124, 136,\n",
              "        137, 139, 151, 155, 166, 168, 170, 174, 177, 185, 187, 194, 195,\n",
              "        209, 215, 218, 224, 230, 245, 248, 252, 256, 257, 258, 262, 263,\n",
              "        268, 269, 270, 273, 275, 284, 290, 291, 295, 297, 298, 299, 305,\n",
              "        306, 307, 309, 310, 311, 318, 319, 325, 329, 331, 332, 334, 336,\n",
              "        337, 339, 341, 351, 356, 366, 369, 370, 373, 375, 377, 380, 383,\n",
              "        390, 393, 412, 430, 434, 435, 438, 445, 447, 449, 452, 453, 456,\n",
              "        457, 460, 462, 467, 475, 484, 486, 487, 492, 493, 496, 498, 504,\n",
              "        505, 507, 512, 513, 515, 520, 523, 527, 536, 537, 539, 540, 544,\n",
              "        545, 550, 555, 556, 557, 558, 571, 572, 577, 581, 583, 585, 587,\n",
              "        591, 599, 602, 604, 607, 609, 621, 625, 627, 630, 632, 633, 641,\n",
              "        645, 647, 659, 660, 662, 669, 671, 679, 681, 689, 690, 694, 698,\n",
              "        700, 701, 707, 708, 710, 711, 712, 716, 724, 730, 737, 740, 741,\n",
              "        742, 745, 748, 759, 763, 765, 766, 779, 781, 782, 789, 793, 796,\n",
              "        802, 806, 809, 815, 820, 822, 829, 835, 839, 842, 849, 853, 856,\n",
              "        857, 862, 867, 871, 872, 879, 887, 889]),\n",
              " 'Second': array([  9,  15,  17,  20,  21,  33,  41,  43,  53,  56,  58,  66,  70,\n",
              "         72,  78,  84,  98,  99, 117, 120, 122, 123, 133, 134, 135, 144,\n",
              "        145, 148, 149, 150, 161, 178, 181, 183, 190, 191, 193, 199, 211,\n",
              "        213, 217, 219, 221, 226, 228, 232, 234, 236, 237, 238, 239, 242,\n",
              "        247, 249, 259, 265, 272, 277, 288, 292, 303, 308, 312, 314, 316,\n",
              "        317, 322, 323, 327, 340, 342, 343, 344, 345, 346, 357, 361, 385,\n",
              "        387, 389, 397, 398, 399, 405, 407, 413, 416, 417, 418, 426, 427,\n",
              "        432, 437, 439, 440, 443, 446, 450, 458, 463, 466, 472, 473, 476,\n",
              "        481, 506, 516, 518, 526, 529, 530, 535, 543, 546, 547, 549, 551,\n",
              "        562, 570, 576, 580, 582, 586, 594, 596, 600, 608, 615, 618, 619,\n",
              "        626, 635, 637, 651, 655, 658, 665, 666, 670, 672, 673, 674, 684,\n",
              "        685, 695, 705, 706, 714, 717, 720, 722, 723, 726, 728, 732, 733,\n",
              "        734, 747, 750, 754, 755, 757, 772, 774, 791, 795, 800, 801, 808,\n",
              "        812, 817, 827, 831, 841, 848, 854, 861, 864, 865, 866, 874, 880,\n",
              "        883, 886]),\n",
              " 'Third': array([  0,   2,   4,   5,   7,   8,  10,  12,  13,  14,  16,  18,  19,\n",
              "         22,  24,  25,  26,  28,  29,  32,  36,  37,  38,  39,  40,  42,\n",
              "         44,  45,  46,  47,  48,  49,  50,  51,  57,  59,  60,  63,  65,\n",
              "         67,  68,  69,  71,  73,  74,  75,  76,  77,  79,  80,  81,  82,\n",
              "         85,  86,  87,  89,  90,  91,  93,  94,  95, 100, 101, 103, 104,\n",
              "        105, 106, 107, 108, 109, 111, 112, 113, 114, 115, 116, 119, 121,\n",
              "        125, 126, 127, 128, 129, 130, 131, 132, 138, 140, 141, 142, 143,\n",
              "        146, 147, 152, 153, 154, 156, 157, 158, 159, 160, 162, 163, 164,\n",
              "        165, 167, 169, 171, 172, 173, 175, 176, 179, 180, 182, 184, 186,\n",
              "        188, 189, 192, 196, 197, 198, 200, 201, 202, 203, 204, 205, 206,\n",
              "        207, 208, 210, 212, 214, 216, 220, 222, 223, 225, 227, 229, 231,\n",
              "        233, 235, 240, 241, 243, 244, 246, 250, 251, 253, 254, 255, 260,\n",
              "        261, 264, 266, 267, 271, 274, 276, 278, 279, 280, 281, 282, 283,\n",
              "        285, 286, 287, 289, 293, 294, 296, 300, 301, 302, 304, 313, 315,\n",
              "        320, 321, 324, 326, 328, 330, 333, 335, 338, 347, 348, 349, 350,\n",
              "        352, 353, 354, 355, 358, 359, 360, 362, 363, 364, 365, 367, 368,\n",
              "        371, 372, 374, 376, 378, 379, 381, 382, 384, 386, 388, 391, 392,\n",
              "        394, 395, 396, 400, 401, 402, 403, 404, 406, 408, 409, 410, 411,\n",
              "        414, 415, 419, 420, 421, 422, 423, 424, 425, 428, 429, 431, 433,\n",
              "        436, 441, 442, 444, 448, 451, 454, 455, 459, 461, 464, 465, 468,\n",
              "        469, 470, 471, 474, 477, 478, 479, 480, 482, 483, 485, 488, 489,\n",
              "        490, 491, 494, 495, 497, 499, 500, 501, 502, 503, 508, 509, 510,\n",
              "        511, 514, 517, 519, 521, 522, 524, 525, 528, 531, 532, 533, 534,\n",
              "        538, 541, 542, 548, 552, 553, 554, 559, 560, 561, 563, 564, 565,\n",
              "        566, 567, 568, 569, 573, 574, 575, 578, 579, 584, 588, 589, 590,\n",
              "        592, 593, 595, 597, 598, 601, 603, 605, 606, 610, 611, 612, 613,\n",
              "        614, 616, 617, 620, 622, 623, 624, 628, 629, 631, 634, 636, 638,\n",
              "        639, 640, 642, 643, 644, 646, 648, 649, 650, 652, 653, 654, 656,\n",
              "        657, 661, 663, 664, 667, 668, 675, 676, 677, 678, 680, 682, 683,\n",
              "        686, 687, 688, 691, 692, 693, 696, 697, 699, 702, 703, 704, 709,\n",
              "        713, 715, 718, 719, 721, 725, 727, 729, 731, 735, 736, 738, 739,\n",
              "        743, 744, 746, 749, 751, 752, 753, 756, 758, 760, 761, 762, 764,\n",
              "        767, 768, 769, 770, 771, 773, 775, 776, 777, 778, 780, 783, 784,\n",
              "        785, 786, 787, 788, 790, 792, 794, 797, 798, 799, 803, 804, 805,\n",
              "        807, 810, 811, 813, 814, 816, 818, 819, 821, 823, 824, 825, 826,\n",
              "        828, 830, 832, 833, 834, 836, 837, 838, 840, 843, 844, 845, 846,\n",
              "        847, 850, 851, 852, 855, 858, 859, 860, 863, 868, 869, 870, 873,\n",
              "        875, 876, 877, 878, 881, 882, 884, 885, 888, 890])}"
            ]
          },
          "metadata": {
            "tags": []
          },
          "execution_count": 19
        }
      ]
    },
    {
      "cell_type": "code",
      "metadata": {
        "id": "i5D0YvsV49qS",
        "colab_type": "code",
        "outputId": "1e8c2d3b-8b4d-407f-f5a0-8d2a8288960a",
        "colab": {
          "base_uri": "https://localhost:8080/",
          "height": 193
        }
      },
      "source": [
        "g.all()"
      ],
      "execution_count": 0,
      "outputs": [
        {
          "output_type": "execute_result",
          "data": {
            "text/html": [
              "<div>\n",
              "<style scoped>\n",
              "    .dataframe tbody tr th:only-of-type {\n",
              "        vertical-align: middle;\n",
              "    }\n",
              "\n",
              "    .dataframe tbody tr th {\n",
              "        vertical-align: top;\n",
              "    }\n",
              "\n",
              "    .dataframe thead th {\n",
              "        text-align: right;\n",
              "    }\n",
              "</style>\n",
              "<table border=\"1\" class=\"dataframe\">\n",
              "  <thead>\n",
              "    <tr style=\"text-align: right;\">\n",
              "      <th></th>\n",
              "      <th>survived</th>\n",
              "      <th>pclass</th>\n",
              "      <th>sex</th>\n",
              "      <th>age</th>\n",
              "      <th>sibsp</th>\n",
              "      <th>parch</th>\n",
              "      <th>fare</th>\n",
              "      <th>embarked</th>\n",
              "      <th>who</th>\n",
              "      <th>adult_male</th>\n",
              "      <th>deck</th>\n",
              "      <th>embark_town</th>\n",
              "      <th>alive</th>\n",
              "      <th>alone</th>\n",
              "    </tr>\n",
              "    <tr>\n",
              "      <th>class</th>\n",
              "      <th></th>\n",
              "      <th></th>\n",
              "      <th></th>\n",
              "      <th></th>\n",
              "      <th></th>\n",
              "      <th></th>\n",
              "      <th></th>\n",
              "      <th></th>\n",
              "      <th></th>\n",
              "      <th></th>\n",
              "      <th></th>\n",
              "      <th></th>\n",
              "      <th></th>\n",
              "      <th></th>\n",
              "    </tr>\n",
              "  </thead>\n",
              "  <tbody>\n",
              "    <tr>\n",
              "      <th>First</th>\n",
              "      <td>False</td>\n",
              "      <td>True</td>\n",
              "      <td>True</td>\n",
              "      <td>True</td>\n",
              "      <td>False</td>\n",
              "      <td>False</td>\n",
              "      <td>False</td>\n",
              "      <td>True</td>\n",
              "      <td>True</td>\n",
              "      <td>False</td>\n",
              "      <td>True</td>\n",
              "      <td>True</td>\n",
              "      <td>True</td>\n",
              "      <td>False</td>\n",
              "    </tr>\n",
              "    <tr>\n",
              "      <th>Second</th>\n",
              "      <td>False</td>\n",
              "      <td>True</td>\n",
              "      <td>True</td>\n",
              "      <td>True</td>\n",
              "      <td>False</td>\n",
              "      <td>False</td>\n",
              "      <td>False</td>\n",
              "      <td>True</td>\n",
              "      <td>True</td>\n",
              "      <td>False</td>\n",
              "      <td>True</td>\n",
              "      <td>True</td>\n",
              "      <td>True</td>\n",
              "      <td>False</td>\n",
              "    </tr>\n",
              "    <tr>\n",
              "      <th>Third</th>\n",
              "      <td>False</td>\n",
              "      <td>True</td>\n",
              "      <td>True</td>\n",
              "      <td>True</td>\n",
              "      <td>False</td>\n",
              "      <td>False</td>\n",
              "      <td>False</td>\n",
              "      <td>True</td>\n",
              "      <td>True</td>\n",
              "      <td>False</td>\n",
              "      <td>True</td>\n",
              "      <td>True</td>\n",
              "      <td>True</td>\n",
              "      <td>False</td>\n",
              "    </tr>\n",
              "  </tbody>\n",
              "</table>\n",
              "</div>"
            ],
            "text/plain": [
              "        survived  pclass   sex   age  ...  deck  embark_town  alive  alone\n",
              "class                                 ...                                 \n",
              "First      False    True  True  True  ...  True         True   True  False\n",
              "Second     False    True  True  True  ...  True         True   True  False\n",
              "Third      False    True  True  True  ...  True         True   True  False\n",
              "\n",
              "[3 rows x 14 columns]"
            ]
          },
          "metadata": {
            "tags": []
          },
          "execution_count": 20
        }
      ]
    },
    {
      "cell_type": "code",
      "metadata": {
        "id": "4vA8IbJP5IUj",
        "colab_type": "code",
        "outputId": "cc59571e-91a6-46c4-c362-7730455df40e",
        "colab": {
          "base_uri": "https://localhost:8080/",
          "height": 193
        }
      },
      "source": [
        "g.any()"
      ],
      "execution_count": 0,
      "outputs": [
        {
          "output_type": "execute_result",
          "data": {
            "text/html": [
              "<div>\n",
              "<style scoped>\n",
              "    .dataframe tbody tr th:only-of-type {\n",
              "        vertical-align: middle;\n",
              "    }\n",
              "\n",
              "    .dataframe tbody tr th {\n",
              "        vertical-align: top;\n",
              "    }\n",
              "\n",
              "    .dataframe thead th {\n",
              "        text-align: right;\n",
              "    }\n",
              "</style>\n",
              "<table border=\"1\" class=\"dataframe\">\n",
              "  <thead>\n",
              "    <tr style=\"text-align: right;\">\n",
              "      <th></th>\n",
              "      <th>survived</th>\n",
              "      <th>pclass</th>\n",
              "      <th>sex</th>\n",
              "      <th>age</th>\n",
              "      <th>sibsp</th>\n",
              "      <th>parch</th>\n",
              "      <th>fare</th>\n",
              "      <th>embarked</th>\n",
              "      <th>who</th>\n",
              "      <th>adult_male</th>\n",
              "      <th>deck</th>\n",
              "      <th>embark_town</th>\n",
              "      <th>alive</th>\n",
              "      <th>alone</th>\n",
              "    </tr>\n",
              "    <tr>\n",
              "      <th>class</th>\n",
              "      <th></th>\n",
              "      <th></th>\n",
              "      <th></th>\n",
              "      <th></th>\n",
              "      <th></th>\n",
              "      <th></th>\n",
              "      <th></th>\n",
              "      <th></th>\n",
              "      <th></th>\n",
              "      <th></th>\n",
              "      <th></th>\n",
              "      <th></th>\n",
              "      <th></th>\n",
              "      <th></th>\n",
              "    </tr>\n",
              "  </thead>\n",
              "  <tbody>\n",
              "    <tr>\n",
              "      <th>First</th>\n",
              "      <td>True</td>\n",
              "      <td>True</td>\n",
              "      <td>True</td>\n",
              "      <td>True</td>\n",
              "      <td>True</td>\n",
              "      <td>True</td>\n",
              "      <td>True</td>\n",
              "      <td>True</td>\n",
              "      <td>True</td>\n",
              "      <td>True</td>\n",
              "      <td>True</td>\n",
              "      <td>True</td>\n",
              "      <td>True</td>\n",
              "      <td>True</td>\n",
              "    </tr>\n",
              "    <tr>\n",
              "      <th>Second</th>\n",
              "      <td>True</td>\n",
              "      <td>True</td>\n",
              "      <td>True</td>\n",
              "      <td>True</td>\n",
              "      <td>True</td>\n",
              "      <td>True</td>\n",
              "      <td>True</td>\n",
              "      <td>True</td>\n",
              "      <td>True</td>\n",
              "      <td>True</td>\n",
              "      <td>True</td>\n",
              "      <td>True</td>\n",
              "      <td>True</td>\n",
              "      <td>True</td>\n",
              "    </tr>\n",
              "    <tr>\n",
              "      <th>Third</th>\n",
              "      <td>True</td>\n",
              "      <td>True</td>\n",
              "      <td>True</td>\n",
              "      <td>True</td>\n",
              "      <td>True</td>\n",
              "      <td>True</td>\n",
              "      <td>True</td>\n",
              "      <td>True</td>\n",
              "      <td>True</td>\n",
              "      <td>True</td>\n",
              "      <td>True</td>\n",
              "      <td>True</td>\n",
              "      <td>True</td>\n",
              "      <td>True</td>\n",
              "    </tr>\n",
              "  </tbody>\n",
              "</table>\n",
              "</div>"
            ],
            "text/plain": [
              "        survived  pclass   sex   age  ...  deck  embark_town  alive  alone\n",
              "class                                 ...                                 \n",
              "First       True    True  True  True  ...  True         True   True   True\n",
              "Second      True    True  True  True  ...  True         True   True   True\n",
              "Third       True    True  True  True  ...  True         True   True   True\n",
              "\n",
              "[3 rows x 14 columns]"
            ]
          },
          "metadata": {
            "tags": []
          },
          "execution_count": 21
        }
      ]
    },
    {
      "cell_type": "code",
      "metadata": {
        "id": "b5w8w2eE5N_t",
        "colab_type": "code",
        "outputId": "ec7ceaf4-d93d-430d-c622-39a98946bada",
        "colab": {
          "base_uri": "https://localhost:8080/",
          "height": 193
        }
      },
      "source": [
        "g.count()"
      ],
      "execution_count": 0,
      "outputs": [
        {
          "output_type": "execute_result",
          "data": {
            "text/html": [
              "<div>\n",
              "<style scoped>\n",
              "    .dataframe tbody tr th:only-of-type {\n",
              "        vertical-align: middle;\n",
              "    }\n",
              "\n",
              "    .dataframe tbody tr th {\n",
              "        vertical-align: top;\n",
              "    }\n",
              "\n",
              "    .dataframe thead th {\n",
              "        text-align: right;\n",
              "    }\n",
              "</style>\n",
              "<table border=\"1\" class=\"dataframe\">\n",
              "  <thead>\n",
              "    <tr style=\"text-align: right;\">\n",
              "      <th></th>\n",
              "      <th>survived</th>\n",
              "      <th>pclass</th>\n",
              "      <th>sex</th>\n",
              "      <th>age</th>\n",
              "      <th>sibsp</th>\n",
              "      <th>parch</th>\n",
              "      <th>fare</th>\n",
              "      <th>embarked</th>\n",
              "      <th>who</th>\n",
              "      <th>adult_male</th>\n",
              "      <th>deck</th>\n",
              "      <th>embark_town</th>\n",
              "      <th>alive</th>\n",
              "      <th>alone</th>\n",
              "    </tr>\n",
              "    <tr>\n",
              "      <th>class</th>\n",
              "      <th></th>\n",
              "      <th></th>\n",
              "      <th></th>\n",
              "      <th></th>\n",
              "      <th></th>\n",
              "      <th></th>\n",
              "      <th></th>\n",
              "      <th></th>\n",
              "      <th></th>\n",
              "      <th></th>\n",
              "      <th></th>\n",
              "      <th></th>\n",
              "      <th></th>\n",
              "      <th></th>\n",
              "    </tr>\n",
              "  </thead>\n",
              "  <tbody>\n",
              "    <tr>\n",
              "      <th>First</th>\n",
              "      <td>216</td>\n",
              "      <td>216</td>\n",
              "      <td>216</td>\n",
              "      <td>186</td>\n",
              "      <td>216</td>\n",
              "      <td>216</td>\n",
              "      <td>216</td>\n",
              "      <td>214</td>\n",
              "      <td>216</td>\n",
              "      <td>216</td>\n",
              "      <td>175</td>\n",
              "      <td>214</td>\n",
              "      <td>216</td>\n",
              "      <td>216</td>\n",
              "    </tr>\n",
              "    <tr>\n",
              "      <th>Second</th>\n",
              "      <td>184</td>\n",
              "      <td>184</td>\n",
              "      <td>184</td>\n",
              "      <td>173</td>\n",
              "      <td>184</td>\n",
              "      <td>184</td>\n",
              "      <td>184</td>\n",
              "      <td>184</td>\n",
              "      <td>184</td>\n",
              "      <td>184</td>\n",
              "      <td>16</td>\n",
              "      <td>184</td>\n",
              "      <td>184</td>\n",
              "      <td>184</td>\n",
              "    </tr>\n",
              "    <tr>\n",
              "      <th>Third</th>\n",
              "      <td>491</td>\n",
              "      <td>491</td>\n",
              "      <td>491</td>\n",
              "      <td>355</td>\n",
              "      <td>491</td>\n",
              "      <td>491</td>\n",
              "      <td>491</td>\n",
              "      <td>491</td>\n",
              "      <td>491</td>\n",
              "      <td>491</td>\n",
              "      <td>12</td>\n",
              "      <td>491</td>\n",
              "      <td>491</td>\n",
              "      <td>491</td>\n",
              "    </tr>\n",
              "  </tbody>\n",
              "</table>\n",
              "</div>"
            ],
            "text/plain": [
              "        survived  pclass  sex  age  ...  deck  embark_town  alive  alone\n",
              "class                               ...                                 \n",
              "First        216     216  216  186  ...   175          214    216    216\n",
              "Second       184     184  184  173  ...    16          184    184    184\n",
              "Third        491     491  491  355  ...    12          491    491    491\n",
              "\n",
              "[3 rows x 14 columns]"
            ]
          },
          "metadata": {
            "tags": []
          },
          "execution_count": 22
        }
      ]
    },
    {
      "cell_type": "code",
      "metadata": {
        "id": "leSAJDQM5R3J",
        "colab_type": "code",
        "outputId": "cdc77009-e71d-48a1-f957-7242310af3ed",
        "colab": {
          "base_uri": "https://localhost:8080/",
          "height": 233
        }
      },
      "source": [
        "g.cumcount()"
      ],
      "execution_count": 0,
      "outputs": [
        {
          "output_type": "execute_result",
          "data": {
            "text/plain": [
              "0        0\n",
              "1        0\n",
              "2        1\n",
              "3        1\n",
              "4        2\n",
              "      ... \n",
              "886    183\n",
              "887    214\n",
              "888    489\n",
              "889    215\n",
              "890    490\n",
              "Length: 891, dtype: int64"
            ]
          },
          "metadata": {
            "tags": []
          },
          "execution_count": 23
        }
      ]
    },
    {
      "cell_type": "code",
      "metadata": {
        "id": "H-xoi4BP5bPT",
        "colab_type": "code",
        "outputId": "ff5c9c58-ed76-4fdf-91c9-43482cc60670",
        "colab": {
          "base_uri": "https://localhost:8080/",
          "height": 419
        }
      },
      "source": [
        "g.cummax()"
      ],
      "execution_count": 0,
      "outputs": [
        {
          "output_type": "execute_result",
          "data": {
            "text/html": [
              "<div>\n",
              "<style scoped>\n",
              "    .dataframe tbody tr th:only-of-type {\n",
              "        vertical-align: middle;\n",
              "    }\n",
              "\n",
              "    .dataframe tbody tr th {\n",
              "        vertical-align: top;\n",
              "    }\n",
              "\n",
              "    .dataframe thead th {\n",
              "        text-align: right;\n",
              "    }\n",
              "</style>\n",
              "<table border=\"1\" class=\"dataframe\">\n",
              "  <thead>\n",
              "    <tr style=\"text-align: right;\">\n",
              "      <th></th>\n",
              "      <th>survived</th>\n",
              "      <th>pclass</th>\n",
              "      <th>age</th>\n",
              "      <th>sibsp</th>\n",
              "      <th>parch</th>\n",
              "      <th>fare</th>\n",
              "      <th>adult_male</th>\n",
              "      <th>alone</th>\n",
              "    </tr>\n",
              "  </thead>\n",
              "  <tbody>\n",
              "    <tr>\n",
              "      <th>0</th>\n",
              "      <td>0</td>\n",
              "      <td>3</td>\n",
              "      <td>22.0</td>\n",
              "      <td>1</td>\n",
              "      <td>0</td>\n",
              "      <td>7.2500</td>\n",
              "      <td>True</td>\n",
              "      <td>False</td>\n",
              "    </tr>\n",
              "    <tr>\n",
              "      <th>1</th>\n",
              "      <td>1</td>\n",
              "      <td>1</td>\n",
              "      <td>38.0</td>\n",
              "      <td>1</td>\n",
              "      <td>0</td>\n",
              "      <td>71.2833</td>\n",
              "      <td>False</td>\n",
              "      <td>False</td>\n",
              "    </tr>\n",
              "    <tr>\n",
              "      <th>2</th>\n",
              "      <td>1</td>\n",
              "      <td>3</td>\n",
              "      <td>26.0</td>\n",
              "      <td>1</td>\n",
              "      <td>0</td>\n",
              "      <td>7.9250</td>\n",
              "      <td>True</td>\n",
              "      <td>True</td>\n",
              "    </tr>\n",
              "    <tr>\n",
              "      <th>3</th>\n",
              "      <td>1</td>\n",
              "      <td>1</td>\n",
              "      <td>38.0</td>\n",
              "      <td>1</td>\n",
              "      <td>0</td>\n",
              "      <td>71.2833</td>\n",
              "      <td>False</td>\n",
              "      <td>False</td>\n",
              "    </tr>\n",
              "    <tr>\n",
              "      <th>4</th>\n",
              "      <td>1</td>\n",
              "      <td>3</td>\n",
              "      <td>35.0</td>\n",
              "      <td>1</td>\n",
              "      <td>0</td>\n",
              "      <td>8.0500</td>\n",
              "      <td>True</td>\n",
              "      <td>True</td>\n",
              "    </tr>\n",
              "    <tr>\n",
              "      <th>...</th>\n",
              "      <td>...</td>\n",
              "      <td>...</td>\n",
              "      <td>...</td>\n",
              "      <td>...</td>\n",
              "      <td>...</td>\n",
              "      <td>...</td>\n",
              "      <td>...</td>\n",
              "      <td>...</td>\n",
              "    </tr>\n",
              "    <tr>\n",
              "      <th>886</th>\n",
              "      <td>1</td>\n",
              "      <td>2</td>\n",
              "      <td>70.0</td>\n",
              "      <td>3</td>\n",
              "      <td>3</td>\n",
              "      <td>73.5000</td>\n",
              "      <td>True</td>\n",
              "      <td>True</td>\n",
              "    </tr>\n",
              "    <tr>\n",
              "      <th>887</th>\n",
              "      <td>1</td>\n",
              "      <td>1</td>\n",
              "      <td>80.0</td>\n",
              "      <td>3</td>\n",
              "      <td>4</td>\n",
              "      <td>512.3292</td>\n",
              "      <td>True</td>\n",
              "      <td>True</td>\n",
              "    </tr>\n",
              "    <tr>\n",
              "      <th>888</th>\n",
              "      <td>1</td>\n",
              "      <td>3</td>\n",
              "      <td>NaN</td>\n",
              "      <td>8</td>\n",
              "      <td>6</td>\n",
              "      <td>69.5500</td>\n",
              "      <td>True</td>\n",
              "      <td>True</td>\n",
              "    </tr>\n",
              "    <tr>\n",
              "      <th>889</th>\n",
              "      <td>1</td>\n",
              "      <td>1</td>\n",
              "      <td>80.0</td>\n",
              "      <td>3</td>\n",
              "      <td>4</td>\n",
              "      <td>512.3292</td>\n",
              "      <td>True</td>\n",
              "      <td>True</td>\n",
              "    </tr>\n",
              "    <tr>\n",
              "      <th>890</th>\n",
              "      <td>1</td>\n",
              "      <td>3</td>\n",
              "      <td>74.0</td>\n",
              "      <td>8</td>\n",
              "      <td>6</td>\n",
              "      <td>69.5500</td>\n",
              "      <td>True</td>\n",
              "      <td>True</td>\n",
              "    </tr>\n",
              "  </tbody>\n",
              "</table>\n",
              "<p>891 rows × 8 columns</p>\n",
              "</div>"
            ],
            "text/plain": [
              "     survived  pclass   age  sibsp  parch      fare  adult_male  alone\n",
              "0           0       3  22.0      1      0    7.2500        True  False\n",
              "1           1       1  38.0      1      0   71.2833       False  False\n",
              "2           1       3  26.0      1      0    7.9250        True   True\n",
              "3           1       1  38.0      1      0   71.2833       False  False\n",
              "4           1       3  35.0      1      0    8.0500        True   True\n",
              "..        ...     ...   ...    ...    ...       ...         ...    ...\n",
              "886         1       2  70.0      3      3   73.5000        True   True\n",
              "887         1       1  80.0      3      4  512.3292        True   True\n",
              "888         1       3   NaN      8      6   69.5500        True   True\n",
              "889         1       1  80.0      3      4  512.3292        True   True\n",
              "890         1       3  74.0      8      6   69.5500        True   True\n",
              "\n",
              "[891 rows x 8 columns]"
            ]
          },
          "metadata": {
            "tags": []
          },
          "execution_count": 24
        }
      ]
    },
    {
      "cell_type": "code",
      "metadata": {
        "id": "aWudfE3w5ppa",
        "colab_type": "code",
        "outputId": "8df4ef1a-5166-471d-d810-340f52d30cd4",
        "colab": {
          "base_uri": "https://localhost:8080/",
          "height": 534
        }
      },
      "source": [
        "g.head()"
      ],
      "execution_count": 0,
      "outputs": [
        {
          "output_type": "execute_result",
          "data": {
            "text/html": [
              "<div>\n",
              "<style scoped>\n",
              "    .dataframe tbody tr th:only-of-type {\n",
              "        vertical-align: middle;\n",
              "    }\n",
              "\n",
              "    .dataframe tbody tr th {\n",
              "        vertical-align: top;\n",
              "    }\n",
              "\n",
              "    .dataframe thead th {\n",
              "        text-align: right;\n",
              "    }\n",
              "</style>\n",
              "<table border=\"1\" class=\"dataframe\">\n",
              "  <thead>\n",
              "    <tr style=\"text-align: right;\">\n",
              "      <th></th>\n",
              "      <th>survived</th>\n",
              "      <th>pclass</th>\n",
              "      <th>sex</th>\n",
              "      <th>age</th>\n",
              "      <th>sibsp</th>\n",
              "      <th>parch</th>\n",
              "      <th>fare</th>\n",
              "      <th>embarked</th>\n",
              "      <th>class</th>\n",
              "      <th>who</th>\n",
              "      <th>adult_male</th>\n",
              "      <th>deck</th>\n",
              "      <th>embark_town</th>\n",
              "      <th>alive</th>\n",
              "      <th>alone</th>\n",
              "    </tr>\n",
              "  </thead>\n",
              "  <tbody>\n",
              "    <tr>\n",
              "      <th>0</th>\n",
              "      <td>0</td>\n",
              "      <td>3</td>\n",
              "      <td>male</td>\n",
              "      <td>22.0</td>\n",
              "      <td>1</td>\n",
              "      <td>0</td>\n",
              "      <td>7.2500</td>\n",
              "      <td>S</td>\n",
              "      <td>Third</td>\n",
              "      <td>man</td>\n",
              "      <td>True</td>\n",
              "      <td>NaN</td>\n",
              "      <td>Southampton</td>\n",
              "      <td>no</td>\n",
              "      <td>False</td>\n",
              "    </tr>\n",
              "    <tr>\n",
              "      <th>1</th>\n",
              "      <td>1</td>\n",
              "      <td>1</td>\n",
              "      <td>female</td>\n",
              "      <td>38.0</td>\n",
              "      <td>1</td>\n",
              "      <td>0</td>\n",
              "      <td>71.2833</td>\n",
              "      <td>C</td>\n",
              "      <td>First</td>\n",
              "      <td>woman</td>\n",
              "      <td>False</td>\n",
              "      <td>C</td>\n",
              "      <td>Cherbourg</td>\n",
              "      <td>yes</td>\n",
              "      <td>False</td>\n",
              "    </tr>\n",
              "    <tr>\n",
              "      <th>2</th>\n",
              "      <td>1</td>\n",
              "      <td>3</td>\n",
              "      <td>female</td>\n",
              "      <td>26.0</td>\n",
              "      <td>0</td>\n",
              "      <td>0</td>\n",
              "      <td>7.9250</td>\n",
              "      <td>S</td>\n",
              "      <td>Third</td>\n",
              "      <td>woman</td>\n",
              "      <td>False</td>\n",
              "      <td>NaN</td>\n",
              "      <td>Southampton</td>\n",
              "      <td>yes</td>\n",
              "      <td>True</td>\n",
              "    </tr>\n",
              "    <tr>\n",
              "      <th>3</th>\n",
              "      <td>1</td>\n",
              "      <td>1</td>\n",
              "      <td>female</td>\n",
              "      <td>35.0</td>\n",
              "      <td>1</td>\n",
              "      <td>0</td>\n",
              "      <td>53.1000</td>\n",
              "      <td>S</td>\n",
              "      <td>First</td>\n",
              "      <td>woman</td>\n",
              "      <td>False</td>\n",
              "      <td>C</td>\n",
              "      <td>Southampton</td>\n",
              "      <td>yes</td>\n",
              "      <td>False</td>\n",
              "    </tr>\n",
              "    <tr>\n",
              "      <th>4</th>\n",
              "      <td>0</td>\n",
              "      <td>3</td>\n",
              "      <td>male</td>\n",
              "      <td>35.0</td>\n",
              "      <td>0</td>\n",
              "      <td>0</td>\n",
              "      <td>8.0500</td>\n",
              "      <td>S</td>\n",
              "      <td>Third</td>\n",
              "      <td>man</td>\n",
              "      <td>True</td>\n",
              "      <td>NaN</td>\n",
              "      <td>Southampton</td>\n",
              "      <td>no</td>\n",
              "      <td>True</td>\n",
              "    </tr>\n",
              "    <tr>\n",
              "      <th>5</th>\n",
              "      <td>0</td>\n",
              "      <td>3</td>\n",
              "      <td>male</td>\n",
              "      <td>NaN</td>\n",
              "      <td>0</td>\n",
              "      <td>0</td>\n",
              "      <td>8.4583</td>\n",
              "      <td>Q</td>\n",
              "      <td>Third</td>\n",
              "      <td>man</td>\n",
              "      <td>True</td>\n",
              "      <td>NaN</td>\n",
              "      <td>Queenstown</td>\n",
              "      <td>no</td>\n",
              "      <td>True</td>\n",
              "    </tr>\n",
              "    <tr>\n",
              "      <th>6</th>\n",
              "      <td>0</td>\n",
              "      <td>1</td>\n",
              "      <td>male</td>\n",
              "      <td>54.0</td>\n",
              "      <td>0</td>\n",
              "      <td>0</td>\n",
              "      <td>51.8625</td>\n",
              "      <td>S</td>\n",
              "      <td>First</td>\n",
              "      <td>man</td>\n",
              "      <td>True</td>\n",
              "      <td>E</td>\n",
              "      <td>Southampton</td>\n",
              "      <td>no</td>\n",
              "      <td>True</td>\n",
              "    </tr>\n",
              "    <tr>\n",
              "      <th>7</th>\n",
              "      <td>0</td>\n",
              "      <td>3</td>\n",
              "      <td>male</td>\n",
              "      <td>2.0</td>\n",
              "      <td>3</td>\n",
              "      <td>1</td>\n",
              "      <td>21.0750</td>\n",
              "      <td>S</td>\n",
              "      <td>Third</td>\n",
              "      <td>child</td>\n",
              "      <td>False</td>\n",
              "      <td>NaN</td>\n",
              "      <td>Southampton</td>\n",
              "      <td>no</td>\n",
              "      <td>False</td>\n",
              "    </tr>\n",
              "    <tr>\n",
              "      <th>9</th>\n",
              "      <td>1</td>\n",
              "      <td>2</td>\n",
              "      <td>female</td>\n",
              "      <td>14.0</td>\n",
              "      <td>1</td>\n",
              "      <td>0</td>\n",
              "      <td>30.0708</td>\n",
              "      <td>C</td>\n",
              "      <td>Second</td>\n",
              "      <td>child</td>\n",
              "      <td>False</td>\n",
              "      <td>NaN</td>\n",
              "      <td>Cherbourg</td>\n",
              "      <td>yes</td>\n",
              "      <td>False</td>\n",
              "    </tr>\n",
              "    <tr>\n",
              "      <th>11</th>\n",
              "      <td>1</td>\n",
              "      <td>1</td>\n",
              "      <td>female</td>\n",
              "      <td>58.0</td>\n",
              "      <td>0</td>\n",
              "      <td>0</td>\n",
              "      <td>26.5500</td>\n",
              "      <td>S</td>\n",
              "      <td>First</td>\n",
              "      <td>woman</td>\n",
              "      <td>False</td>\n",
              "      <td>C</td>\n",
              "      <td>Southampton</td>\n",
              "      <td>yes</td>\n",
              "      <td>True</td>\n",
              "    </tr>\n",
              "    <tr>\n",
              "      <th>15</th>\n",
              "      <td>1</td>\n",
              "      <td>2</td>\n",
              "      <td>female</td>\n",
              "      <td>55.0</td>\n",
              "      <td>0</td>\n",
              "      <td>0</td>\n",
              "      <td>16.0000</td>\n",
              "      <td>S</td>\n",
              "      <td>Second</td>\n",
              "      <td>woman</td>\n",
              "      <td>False</td>\n",
              "      <td>NaN</td>\n",
              "      <td>Southampton</td>\n",
              "      <td>yes</td>\n",
              "      <td>True</td>\n",
              "    </tr>\n",
              "    <tr>\n",
              "      <th>17</th>\n",
              "      <td>1</td>\n",
              "      <td>2</td>\n",
              "      <td>male</td>\n",
              "      <td>NaN</td>\n",
              "      <td>0</td>\n",
              "      <td>0</td>\n",
              "      <td>13.0000</td>\n",
              "      <td>S</td>\n",
              "      <td>Second</td>\n",
              "      <td>man</td>\n",
              "      <td>True</td>\n",
              "      <td>NaN</td>\n",
              "      <td>Southampton</td>\n",
              "      <td>yes</td>\n",
              "      <td>True</td>\n",
              "    </tr>\n",
              "    <tr>\n",
              "      <th>20</th>\n",
              "      <td>0</td>\n",
              "      <td>2</td>\n",
              "      <td>male</td>\n",
              "      <td>35.0</td>\n",
              "      <td>0</td>\n",
              "      <td>0</td>\n",
              "      <td>26.0000</td>\n",
              "      <td>S</td>\n",
              "      <td>Second</td>\n",
              "      <td>man</td>\n",
              "      <td>True</td>\n",
              "      <td>NaN</td>\n",
              "      <td>Southampton</td>\n",
              "      <td>no</td>\n",
              "      <td>True</td>\n",
              "    </tr>\n",
              "    <tr>\n",
              "      <th>21</th>\n",
              "      <td>1</td>\n",
              "      <td>2</td>\n",
              "      <td>male</td>\n",
              "      <td>34.0</td>\n",
              "      <td>0</td>\n",
              "      <td>0</td>\n",
              "      <td>13.0000</td>\n",
              "      <td>S</td>\n",
              "      <td>Second</td>\n",
              "      <td>man</td>\n",
              "      <td>True</td>\n",
              "      <td>D</td>\n",
              "      <td>Southampton</td>\n",
              "      <td>yes</td>\n",
              "      <td>True</td>\n",
              "    </tr>\n",
              "    <tr>\n",
              "      <th>23</th>\n",
              "      <td>1</td>\n",
              "      <td>1</td>\n",
              "      <td>male</td>\n",
              "      <td>28.0</td>\n",
              "      <td>0</td>\n",
              "      <td>0</td>\n",
              "      <td>35.5000</td>\n",
              "      <td>S</td>\n",
              "      <td>First</td>\n",
              "      <td>man</td>\n",
              "      <td>True</td>\n",
              "      <td>A</td>\n",
              "      <td>Southampton</td>\n",
              "      <td>yes</td>\n",
              "      <td>True</td>\n",
              "    </tr>\n",
              "  </tbody>\n",
              "</table>\n",
              "</div>"
            ],
            "text/plain": [
              "    survived  pclass     sex   age  ...  deck  embark_town  alive  alone\n",
              "0          0       3    male  22.0  ...   NaN  Southampton     no  False\n",
              "1          1       1  female  38.0  ...     C    Cherbourg    yes  False\n",
              "2          1       3  female  26.0  ...   NaN  Southampton    yes   True\n",
              "3          1       1  female  35.0  ...     C  Southampton    yes  False\n",
              "4          0       3    male  35.0  ...   NaN  Southampton     no   True\n",
              "5          0       3    male   NaN  ...   NaN   Queenstown     no   True\n",
              "6          0       1    male  54.0  ...     E  Southampton     no   True\n",
              "7          0       3    male   2.0  ...   NaN  Southampton     no  False\n",
              "9          1       2  female  14.0  ...   NaN    Cherbourg    yes  False\n",
              "11         1       1  female  58.0  ...     C  Southampton    yes   True\n",
              "15         1       2  female  55.0  ...   NaN  Southampton    yes   True\n",
              "17         1       2    male   NaN  ...   NaN  Southampton    yes   True\n",
              "20         0       2    male  35.0  ...   NaN  Southampton     no   True\n",
              "21         1       2    male  34.0  ...     D  Southampton    yes   True\n",
              "23         1       1    male  28.0  ...     A  Southampton    yes   True\n",
              "\n",
              "[15 rows x 15 columns]"
            ]
          },
          "metadata": {
            "tags": []
          },
          "execution_count": 25
        }
      ]
    },
    {
      "cell_type": "code",
      "metadata": {
        "id": "jYlbd5IQ5qsn",
        "colab_type": "code",
        "outputId": "35d82214-80f6-4b08-e0d1-1b10c0f77c65",
        "colab": {
          "base_uri": "https://localhost:8080/",
          "height": 233
        }
      },
      "source": [
        "g.ngroup()"
      ],
      "execution_count": 0,
      "outputs": [
        {
          "output_type": "execute_result",
          "data": {
            "text/plain": [
              "0      2\n",
              "1      0\n",
              "2      2\n",
              "3      0\n",
              "4      2\n",
              "      ..\n",
              "886    1\n",
              "887    0\n",
              "888    2\n",
              "889    0\n",
              "890    2\n",
              "Length: 891, dtype: int64"
            ]
          },
          "metadata": {
            "tags": []
          },
          "execution_count": 26
        }
      ]
    },
    {
      "cell_type": "code",
      "metadata": {
        "id": "lxEGvlGj52Ho",
        "colab_type": "code",
        "outputId": "30b8af0b-8885-48ad-e611-8bc3f59d7792",
        "colab": {
          "base_uri": "https://localhost:8080/",
          "height": 55
        }
      },
      "source": [
        "g.rank"
      ],
      "execution_count": 0,
      "outputs": [
        {
          "output_type": "execute_result",
          "data": {
            "text/plain": [
              "<bound method GroupBy.rank of <pandas.core.groupby.generic.DataFrameGroupBy object at 0x7f13eae68ba8>>"
            ]
          },
          "metadata": {
            "tags": []
          },
          "execution_count": 27
        }
      ]
    },
    {
      "cell_type": "code",
      "metadata": {
        "id": "eep6C0Jc54r1",
        "colab_type": "code",
        "outputId": "255bbc2a-e877-4a8c-8491-7454631224e6",
        "colab": {
          "base_uri": "https://localhost:8080/",
          "height": 107
        }
      },
      "source": [
        "g.size()"
      ],
      "execution_count": 0,
      "outputs": [
        {
          "output_type": "execute_result",
          "data": {
            "text/plain": [
              "class\n",
              "First     216\n",
              "Second    184\n",
              "Third     491\n",
              "dtype: int64"
            ]
          },
          "metadata": {
            "tags": []
          },
          "execution_count": 28
        }
      ]
    },
    {
      "cell_type": "code",
      "metadata": {
        "id": "nPCm82ly58pD",
        "colab_type": "code",
        "outputId": "5f8c8416-8f8a-4f3b-874a-e89a81554fc0",
        "colab": {
          "base_uri": "https://localhost:8080/",
          "height": 173
        }
      },
      "source": [
        "g.sum()"
      ],
      "execution_count": 0,
      "outputs": [
        {
          "output_type": "execute_result",
          "data": {
            "text/html": [
              "<div>\n",
              "<style scoped>\n",
              "    .dataframe tbody tr th:only-of-type {\n",
              "        vertical-align: middle;\n",
              "    }\n",
              "\n",
              "    .dataframe tbody tr th {\n",
              "        vertical-align: top;\n",
              "    }\n",
              "\n",
              "    .dataframe thead th {\n",
              "        text-align: right;\n",
              "    }\n",
              "</style>\n",
              "<table border=\"1\" class=\"dataframe\">\n",
              "  <thead>\n",
              "    <tr style=\"text-align: right;\">\n",
              "      <th></th>\n",
              "      <th>survived</th>\n",
              "      <th>pclass</th>\n",
              "      <th>age</th>\n",
              "      <th>sibsp</th>\n",
              "      <th>parch</th>\n",
              "      <th>fare</th>\n",
              "      <th>adult_male</th>\n",
              "      <th>alone</th>\n",
              "    </tr>\n",
              "    <tr>\n",
              "      <th>class</th>\n",
              "      <th></th>\n",
              "      <th></th>\n",
              "      <th></th>\n",
              "      <th></th>\n",
              "      <th></th>\n",
              "      <th></th>\n",
              "      <th></th>\n",
              "      <th></th>\n",
              "    </tr>\n",
              "  </thead>\n",
              "  <tbody>\n",
              "    <tr>\n",
              "      <th>First</th>\n",
              "      <td>136</td>\n",
              "      <td>216</td>\n",
              "      <td>7111.42</td>\n",
              "      <td>90</td>\n",
              "      <td>77</td>\n",
              "      <td>18177.4125</td>\n",
              "      <td>119.0</td>\n",
              "      <td>109.0</td>\n",
              "    </tr>\n",
              "    <tr>\n",
              "      <th>Second</th>\n",
              "      <td>87</td>\n",
              "      <td>368</td>\n",
              "      <td>5168.83</td>\n",
              "      <td>74</td>\n",
              "      <td>70</td>\n",
              "      <td>3801.8417</td>\n",
              "      <td>99.0</td>\n",
              "      <td>104.0</td>\n",
              "    </tr>\n",
              "    <tr>\n",
              "      <th>Third</th>\n",
              "      <td>119</td>\n",
              "      <td>1473</td>\n",
              "      <td>8924.92</td>\n",
              "      <td>302</td>\n",
              "      <td>193</td>\n",
              "      <td>6714.6951</td>\n",
              "      <td>319.0</td>\n",
              "      <td>324.0</td>\n",
              "    </tr>\n",
              "  </tbody>\n",
              "</table>\n",
              "</div>"
            ],
            "text/plain": [
              "        survived  pclass      age  sibsp  parch        fare  adult_male  alone\n",
              "class                                                                         \n",
              "First        136     216  7111.42     90     77  18177.4125       119.0  109.0\n",
              "Second        87     368  5168.83     74     70   3801.8417        99.0  104.0\n",
              "Third        119    1473  8924.92    302    193   6714.6951       319.0  324.0"
            ]
          },
          "metadata": {
            "tags": []
          },
          "execution_count": 29
        }
      ]
    },
    {
      "cell_type": "code",
      "metadata": {
        "id": "xcSJHbnG6ALy",
        "colab_type": "code",
        "outputId": "3e815096-1565-4066-bf71-1dda3180e08d",
        "colab": {
          "base_uri": "https://localhost:8080/",
          "height": 193
        }
      },
      "source": [
        "g.var()"
      ],
      "execution_count": 0,
      "outputs": [
        {
          "output_type": "execute_result",
          "data": {
            "text/html": [
              "<div>\n",
              "<style scoped>\n",
              "    .dataframe tbody tr th:only-of-type {\n",
              "        vertical-align: middle;\n",
              "    }\n",
              "\n",
              "    .dataframe tbody tr th {\n",
              "        vertical-align: top;\n",
              "    }\n",
              "\n",
              "    .dataframe thead th {\n",
              "        text-align: right;\n",
              "    }\n",
              "</style>\n",
              "<table border=\"1\" class=\"dataframe\">\n",
              "  <thead>\n",
              "    <tr style=\"text-align: right;\">\n",
              "      <th></th>\n",
              "      <th>survived</th>\n",
              "      <th>pclass</th>\n",
              "      <th>age</th>\n",
              "      <th>sibsp</th>\n",
              "      <th>parch</th>\n",
              "      <th>fare</th>\n",
              "      <th>adult_male</th>\n",
              "      <th>alone</th>\n",
              "    </tr>\n",
              "    <tr>\n",
              "      <th>class</th>\n",
              "      <th></th>\n",
              "      <th></th>\n",
              "      <th></th>\n",
              "      <th></th>\n",
              "      <th></th>\n",
              "      <th></th>\n",
              "      <th></th>\n",
              "      <th></th>\n",
              "    </tr>\n",
              "  </thead>\n",
              "  <tbody>\n",
              "    <tr>\n",
              "      <th>First</th>\n",
              "      <td>0.234281</td>\n",
              "      <td>0.0</td>\n",
              "      <td>219.124543</td>\n",
              "      <td>0.374419</td>\n",
              "      <td>0.481632</td>\n",
              "      <td>6143.482816</td>\n",
              "      <td>0.248557</td>\n",
              "      <td>0.251141</td>\n",
              "    </tr>\n",
              "    <tr>\n",
              "      <th>Second</th>\n",
              "      <td>0.250624</td>\n",
              "      <td>0.0</td>\n",
              "      <td>196.030152</td>\n",
              "      <td>0.361962</td>\n",
              "      <td>0.477429</td>\n",
              "      <td>180.026589</td>\n",
              "      <td>0.249911</td>\n",
              "      <td>0.247090</td>\n",
              "    </tr>\n",
              "    <tr>\n",
              "      <th>Third</th>\n",
              "      <td>0.183998</td>\n",
              "      <td>0.0</td>\n",
              "      <td>156.134976</td>\n",
              "      <td>1.890303</td>\n",
              "      <td>0.790074</td>\n",
              "      <td>138.724622</td>\n",
              "      <td>0.228056</td>\n",
              "      <td>0.224897</td>\n",
              "    </tr>\n",
              "  </tbody>\n",
              "</table>\n",
              "</div>"
            ],
            "text/plain": [
              "        survived  pclass         age  ...         fare  adult_male     alone\n",
              "class                                 ...                                   \n",
              "First   0.234281     0.0  219.124543  ...  6143.482816    0.248557  0.251141\n",
              "Second  0.250624     0.0  196.030152  ...   180.026589    0.249911  0.247090\n",
              "Third   0.183998     0.0  156.134976  ...   138.724622    0.228056  0.224897\n",
              "\n",
              "[3 rows x 8 columns]"
            ]
          },
          "metadata": {
            "tags": []
          },
          "execution_count": 30
        }
      ]
    },
    {
      "cell_type": "code",
      "metadata": {
        "id": "dA2l1WQ46G7N",
        "colab_type": "code",
        "outputId": "1449a513-3996-45ac-ecdf-02174ab4f145",
        "colab": {
          "base_uri": "https://localhost:8080/",
          "height": 193
        }
      },
      "source": [
        "g.std()"
      ],
      "execution_count": 0,
      "outputs": [
        {
          "output_type": "execute_result",
          "data": {
            "text/html": [
              "<div>\n",
              "<style scoped>\n",
              "    .dataframe tbody tr th:only-of-type {\n",
              "        vertical-align: middle;\n",
              "    }\n",
              "\n",
              "    .dataframe tbody tr th {\n",
              "        vertical-align: top;\n",
              "    }\n",
              "\n",
              "    .dataframe thead th {\n",
              "        text-align: right;\n",
              "    }\n",
              "</style>\n",
              "<table border=\"1\" class=\"dataframe\">\n",
              "  <thead>\n",
              "    <tr style=\"text-align: right;\">\n",
              "      <th></th>\n",
              "      <th>survived</th>\n",
              "      <th>pclass</th>\n",
              "      <th>age</th>\n",
              "      <th>sibsp</th>\n",
              "      <th>parch</th>\n",
              "      <th>fare</th>\n",
              "      <th>adult_male</th>\n",
              "      <th>alone</th>\n",
              "    </tr>\n",
              "    <tr>\n",
              "      <th>class</th>\n",
              "      <th></th>\n",
              "      <th></th>\n",
              "      <th></th>\n",
              "      <th></th>\n",
              "      <th></th>\n",
              "      <th></th>\n",
              "      <th></th>\n",
              "      <th></th>\n",
              "    </tr>\n",
              "  </thead>\n",
              "  <tbody>\n",
              "    <tr>\n",
              "      <th>First</th>\n",
              "      <td>0.484026</td>\n",
              "      <td>0.0</td>\n",
              "      <td>14.802856</td>\n",
              "      <td>0.611898</td>\n",
              "      <td>0.693997</td>\n",
              "      <td>78.380373</td>\n",
              "      <td>0.498555</td>\n",
              "      <td>0.501140</td>\n",
              "    </tr>\n",
              "    <tr>\n",
              "      <th>Second</th>\n",
              "      <td>0.500623</td>\n",
              "      <td>0.0</td>\n",
              "      <td>14.001077</td>\n",
              "      <td>0.601633</td>\n",
              "      <td>0.690963</td>\n",
              "      <td>13.417399</td>\n",
              "      <td>0.499911</td>\n",
              "      <td>0.497081</td>\n",
              "    </tr>\n",
              "    <tr>\n",
              "      <th>Third</th>\n",
              "      <td>0.428949</td>\n",
              "      <td>0.0</td>\n",
              "      <td>12.495398</td>\n",
              "      <td>1.374883</td>\n",
              "      <td>0.888861</td>\n",
              "      <td>11.778142</td>\n",
              "      <td>0.477552</td>\n",
              "      <td>0.474233</td>\n",
              "    </tr>\n",
              "  </tbody>\n",
              "</table>\n",
              "</div>"
            ],
            "text/plain": [
              "        survived  pclass        age  ...       fare  adult_male     alone\n",
              "class                                ...                                 \n",
              "First   0.484026     0.0  14.802856  ...  78.380373    0.498555  0.501140\n",
              "Second  0.500623     0.0  14.001077  ...  13.417399    0.499911  0.497081\n",
              "Third   0.428949     0.0  12.495398  ...  11.778142    0.477552  0.474233\n",
              "\n",
              "[3 rows x 8 columns]"
            ]
          },
          "metadata": {
            "tags": []
          },
          "execution_count": 31
        }
      ]
    },
    {
      "cell_type": "markdown",
      "metadata": {
        "id": "55O6TlVX6MJH",
        "colab_type": "text"
      },
      "source": [
        "## TIL : 191227 - FacetGrid"
      ]
    },
    {
      "cell_type": "code",
      "metadata": {
        "id": "_29G9L0c0pcU",
        "colab_type": "code",
        "colab": {}
      },
      "source": [
        "import seaborn as sns\n",
        "import pandas as pd\n",
        "import numpy as np\n",
        "import matplotlib.pyplot as plt\n",
        "sns.set(style='darkgrid')"
      ],
      "execution_count": 0,
      "outputs": []
    },
    {
      "cell_type": "code",
      "metadata": {
        "id": "eSuudlTg0xsu",
        "colab_type": "code",
        "outputId": "57c13a20-914a-4faa-9ae0-4856a8f86e30",
        "colab": {
          "base_uri": "https://localhost:8080/",
          "height": 34
        }
      },
      "source": [
        "tips = sns.load_dataset('tips')\n",
        "tips.shape"
      ],
      "execution_count": 0,
      "outputs": [
        {
          "output_type": "execute_result",
          "data": {
            "text/plain": [
              "(244, 7)"
            ]
          },
          "metadata": {
            "tags": []
          },
          "execution_count": 2
        }
      ]
    },
    {
      "cell_type": "code",
      "metadata": {
        "id": "mD8uiKUV05hI",
        "colab_type": "code",
        "outputId": "941d1682-f4a5-4c7a-e5ba-1412cee7c134",
        "colab": {
          "base_uri": "https://localhost:8080/",
          "height": 221
        }
      },
      "source": [
        "tips.info()"
      ],
      "execution_count": 0,
      "outputs": [
        {
          "output_type": "stream",
          "text": [
            "<class 'pandas.core.frame.DataFrame'>\n",
            "RangeIndex: 244 entries, 0 to 243\n",
            "Data columns (total 7 columns):\n",
            "total_bill    244 non-null float64\n",
            "tip           244 non-null float64\n",
            "sex           244 non-null category\n",
            "smoker        244 non-null category\n",
            "day           244 non-null category\n",
            "time          244 non-null category\n",
            "size          244 non-null int64\n",
            "dtypes: category(4), float64(2), int64(1)\n",
            "memory usage: 7.3 KB\n"
          ],
          "name": "stdout"
        }
      ]
    },
    {
      "cell_type": "code",
      "metadata": {
        "id": "Whd87j_61R4w",
        "colab_type": "code",
        "outputId": "ce014837-da4a-4e77-9eb3-6c828568066c",
        "colab": {
          "base_uri": "https://localhost:8080/",
          "height": 111
        }
      },
      "source": [
        "tips.head(2)"
      ],
      "execution_count": 0,
      "outputs": [
        {
          "output_type": "execute_result",
          "data": {
            "text/html": [
              "<div>\n",
              "<style scoped>\n",
              "    .dataframe tbody tr th:only-of-type {\n",
              "        vertical-align: middle;\n",
              "    }\n",
              "\n",
              "    .dataframe tbody tr th {\n",
              "        vertical-align: top;\n",
              "    }\n",
              "\n",
              "    .dataframe thead th {\n",
              "        text-align: right;\n",
              "    }\n",
              "</style>\n",
              "<table border=\"1\" class=\"dataframe\">\n",
              "  <thead>\n",
              "    <tr style=\"text-align: right;\">\n",
              "      <th></th>\n",
              "      <th>total_bill</th>\n",
              "      <th>tip</th>\n",
              "      <th>sex</th>\n",
              "      <th>smoker</th>\n",
              "      <th>day</th>\n",
              "      <th>time</th>\n",
              "      <th>size</th>\n",
              "    </tr>\n",
              "  </thead>\n",
              "  <tbody>\n",
              "    <tr>\n",
              "      <th>0</th>\n",
              "      <td>16.99</td>\n",
              "      <td>1.01</td>\n",
              "      <td>Female</td>\n",
              "      <td>No</td>\n",
              "      <td>Sun</td>\n",
              "      <td>Dinner</td>\n",
              "      <td>2</td>\n",
              "    </tr>\n",
              "    <tr>\n",
              "      <th>1</th>\n",
              "      <td>10.34</td>\n",
              "      <td>1.66</td>\n",
              "      <td>Male</td>\n",
              "      <td>No</td>\n",
              "      <td>Sun</td>\n",
              "      <td>Dinner</td>\n",
              "      <td>3</td>\n",
              "    </tr>\n",
              "  </tbody>\n",
              "</table>\n",
              "</div>"
            ],
            "text/plain": [
              "   total_bill   tip     sex smoker  day    time  size\n",
              "0       16.99  1.01  Female     No  Sun  Dinner     2\n",
              "1       10.34  1.66    Male     No  Sun  Dinner     3"
            ]
          },
          "metadata": {
            "tags": []
          },
          "execution_count": 7
        }
      ]
    },
    {
      "cell_type": "code",
      "metadata": {
        "id": "K_xK8BhG1NvD",
        "colab_type": "code",
        "colab": {}
      },
      "source": [
        "sns.FacetGrid?"
      ],
      "execution_count": 0,
      "outputs": []
    },
    {
      "cell_type": "code",
      "metadata": {
        "id": "IaW8Vw-62gTB",
        "colab_type": "code",
        "outputId": "954abeb3-7dc7-4ba8-d312-51bf0a8a2f07",
        "colab": {
          "base_uri": "https://localhost:8080/",
          "height": 34
        }
      },
      "source": [
        "bins = np.linspace(0, 60, 13)\n",
        "bins"
      ],
      "execution_count": 0,
      "outputs": [
        {
          "output_type": "execute_result",
          "data": {
            "text/plain": [
              "array([ 0.,  5., 10., 15., 20., 25., 30., 35., 40., 45., 50., 55., 60.])"
            ]
          },
          "metadata": {
            "tags": []
          },
          "execution_count": 16
        }
      ]
    },
    {
      "cell_type": "markdown",
      "metadata": {
        "id": "5S5O-ZE-lC7m",
        "colab_type": "text"
      },
      "source": [
        "### 히스토그램 "
      ]
    },
    {
      "cell_type": "code",
      "metadata": {
        "id": "PSnXXR6c07OE",
        "colab_type": "code",
        "outputId": "043eaa09-9b32-407d-d0ba-9056961777e3",
        "colab": {
          "base_uri": "https://localhost:8080/",
          "height": 454
        }
      },
      "source": [
        "g = sns.FacetGrid(tips, row='sex', col='time', margin_titles=True)\n",
        "g.map(plt.hist, \"total_bill\", bins=bins)"
      ],
      "execution_count": 0,
      "outputs": [
        {
          "output_type": "execute_result",
          "data": {
            "text/plain": [
              "<seaborn.axisgrid.FacetGrid at 0x7fd71b7c5ba8>"
            ]
          },
          "metadata": {
            "tags": []
          },
          "execution_count": 17
        },
        {
          "output_type": "display_data",
          "data": {
            "image/png": "[encoded data removed]",
            "text/plain": [
              "<Figure size 432x432 with 4 Axes>"
            ]
          },
          "metadata": {
            "tags": []
          }
        }
      ]
    },
    {
      "cell_type": "markdown",
      "metadata": {
        "id": "n32pVSDAlLkT",
        "colab_type": "text"
      },
      "source": [
        "### 스캐터 그래프 "
      ]
    },
    {
      "cell_type": "code",
      "metadata": {
        "id": "gKzkz1SD1WWb",
        "colab_type": "code",
        "outputId": "c1638483-82d5-4b4a-f8e8-fca876088eff",
        "colab": {
          "base_uri": "https://localhost:8080/",
          "height": 454
        }
      },
      "source": [
        "g = sns.FacetGrid(tips, row='sex', col='time', margin_titles=True)\n",
        "g.map(plt.scatter, \"tip\", \"total_bill\")"
      ],
      "execution_count": 0,
      "outputs": [
        {
          "output_type": "execute_result",
          "data": {
            "text/plain": [
              "<seaborn.axisgrid.FacetGrid at 0x7fd71b4bfb38>"
            ]
          },
          "metadata": {
            "tags": []
          },
          "execution_count": 20
        },
        {
          "output_type": "display_data",
          "data": {
            "image/png": "[encoded data removed]",
            "text/plain": [
              "<Figure size 432x432 with 4 Axes>"
            ]
          },
          "metadata": {
            "tags": []
          }
        }
      ]
    },
    {
      "cell_type": "code",
      "metadata": {
        "id": "b8hjwQ213A5g",
        "colab_type": "code",
        "outputId": "d30d6643-2ede-4563-a2e2-e35b511bea21",
        "colab": {
          "base_uri": "https://localhost:8080/",
          "height": 454
        }
      },
      "source": [
        "g = sns.FacetGrid(tips, row='time', col='day', margin_titles=True)\n",
        "g.map(sns.scatterplot, \"total_bill\", 'tip')"
      ],
      "execution_count": 0,
      "outputs": [
        {
          "output_type": "execute_result",
          "data": {
            "text/plain": [
              "<seaborn.axisgrid.FacetGrid at 0x7fd71ae63b70>"
            ]
          },
          "metadata": {
            "tags": []
          },
          "execution_count": 23
        },
        {
          "output_type": "display_data",
          "data": {
            "image/png": "[encoded data removed]",
            "text/plain": [
              "<Figure size 864x432 with 8 Axes>"
            ]
          },
          "metadata": {
            "tags": []
          }
        }
      ]
    },
    {
      "cell_type": "markdown",
      "metadata": {
        "id": "f5Tq7dXIld4P",
        "colab_type": "text"
      },
      "source": [
        "### 레그 플롯"
      ]
    },
    {
      "cell_type": "code",
      "metadata": {
        "id": "Oo8fryKc3b18",
        "colab_type": "code",
        "outputId": "bed7f486-4e52-435e-c4da-de5c6428bb8e",
        "colab": {
          "base_uri": "https://localhost:8080/",
          "height": 454
        }
      },
      "source": [
        "g = sns.FacetGrid(tips, row='time', col='day', margin_titles=True)\n",
        "g.map(sns.regplot, \"total_bill\", 'tip')"
      ],
      "execution_count": 0,
      "outputs": [
        {
          "output_type": "execute_result",
          "data": {
            "text/plain": [
              "<seaborn.axisgrid.FacetGrid at 0x7fd71ae63978>"
            ]
          },
          "metadata": {
            "tags": []
          },
          "execution_count": 24
        },
        {
          "output_type": "display_data",
          "data": {
            "image/png": "[encoded data removed]",
            "text/plain": [
              "<Figure size 864x432 with 8 Axes>"
            ]
          },
          "metadata": {
            "tags": []
          }
        }
      ]
    },
    {
      "cell_type": "markdown",
      "metadata": {
        "id": "4HUKGB9Flgy6",
        "colab_type": "text"
      },
      "source": [
        "### 바 플롯"
      ]
    },
    {
      "cell_type": "code",
      "metadata": {
        "id": "D6XURDMH3yvx",
        "colab_type": "code",
        "outputId": "bffcadcc-f9d8-4af0-bfed-f74c105e8ca5",
        "colab": {
          "base_uri": "https://localhost:8080/",
          "height": 508
        }
      },
      "source": [
        "g = sns.FacetGrid(tips, row='time', col='day', margin_titles=True)\n",
        "g.map(sns.barplot, \"smoker\", 'tip')"
      ],
      "execution_count": 0,
      "outputs": [
        {
          "output_type": "stream",
          "text": [
            "/usr/local/lib/python3.6/dist-packages/seaborn/axisgrid.py:715: UserWarning: Using the barplot function without specifying `order` is likely to produce an incorrect plot.\n",
            "  warnings.warn(warning)\n"
          ],
          "name": "stderr"
        },
        {
          "output_type": "execute_result",
          "data": {
            "text/plain": [
              "<seaborn.axisgrid.FacetGrid at 0x7fd71a9a59b0>"
            ]
          },
          "metadata": {
            "tags": []
          },
          "execution_count": 25
        },
        {
          "output_type": "display_data",
          "data": {
            "image/png": "[encoded data removed]",
            "text/plain": [
              "<Figure size 864x432 with 8 Axes>"
            ]
          },
          "metadata": {
            "tags": []
          }
        }
      ]
    },
    {
      "cell_type": "markdown",
      "metadata": {
        "id": "dvFoUxNrllKQ",
        "colab_type": "text"
      },
      "source": [
        "### 스왐 플롯"
      ]
    },
    {
      "cell_type": "code",
      "metadata": {
        "id": "9yGohQ964BzK",
        "colab_type": "code",
        "outputId": "a78021bf-fbea-493f-ecca-217d26e9320d",
        "colab": {
          "base_uri": "https://localhost:8080/",
          "height": 508
        }
      },
      "source": [
        "g = sns.FacetGrid(tips, row='time', col='day', margin_titles=True)\n",
        "g.map(sns.swarmplot, \"smoker\", 'tip', palette='muted')"
      ],
      "execution_count": 0,
      "outputs": [
        {
          "output_type": "stream",
          "text": [
            "/usr/local/lib/python3.6/dist-packages/seaborn/axisgrid.py:715: UserWarning: Using the swarmplot function without specifying `order` is likely to produce an incorrect plot.\n",
            "  warnings.warn(warning)\n"
          ],
          "name": "stderr"
        },
        {
          "output_type": "execute_result",
          "data": {
            "text/plain": [
              "<seaborn.axisgrid.FacetGrid at 0x7fd71a548160>"
            ]
          },
          "metadata": {
            "tags": []
          },
          "execution_count": 27
        },
        {
          "output_type": "display_data",
          "data": {
            "image/png": "[encoded data removed]",
            "text/plain": [
              "<Figure size 864x432 with 8 Axes>"
            ]
          },
          "metadata": {
            "tags": []
          }
        }
      ]
    },
    {
      "cell_type": "markdown",
      "metadata": {
        "id": "UOQmgoaLloDy",
        "colab_type": "text"
      },
      "source": [
        "### 박스 플롯"
      ]
    },
    {
      "cell_type": "code",
      "metadata": {
        "id": "LvRKep4s4Glb",
        "colab_type": "code",
        "outputId": "554e1755-2c0f-4c3e-f0b4-204482d23ecc",
        "colab": {
          "base_uri": "https://localhost:8080/",
          "height": 508
        }
      },
      "source": [
        "g = sns.FacetGrid(tips, row='time', col='day', margin_titles=True)\n",
        "g.map(sns.boxplot, \"smoker\", 'tip', palette='muted')"
      ],
      "execution_count": 0,
      "outputs": [
        {
          "output_type": "stream",
          "text": [
            "/usr/local/lib/python3.6/dist-packages/seaborn/axisgrid.py:715: UserWarning: Using the boxplot function without specifying `order` is likely to produce an incorrect plot.\n",
            "  warnings.warn(warning)\n"
          ],
          "name": "stderr"
        },
        {
          "output_type": "execute_result",
          "data": {
            "text/plain": [
              "<seaborn.axisgrid.FacetGrid at 0x7fd719db9f98>"
            ]
          },
          "metadata": {
            "tags": []
          },
          "execution_count": 30
        },
        {
          "output_type": "display_data",
          "data": {
            "image/png": "[encoded data removed]",
            "text/plain": [
              "<Figure size 864x432 with 8 Axes>"
            ]
          },
          "metadata": {
            "tags": []
          }
        }
      ]
    },
    {
      "cell_type": "markdown",
      "metadata": {
        "id": "9wKxTy4KlqTL",
        "colab_type": "text"
      },
      "source": [
        "### 바이올린 플롯 "
      ]
    },
    {
      "cell_type": "code",
      "metadata": {
        "id": "xXlW0sC-4TBd",
        "colab_type": "code",
        "outputId": "1d6d7cab-1bc4-43f3-8bc9-78c1ac7a5eb2",
        "colab": {
          "base_uri": "https://localhost:8080/",
          "height": 508
        }
      },
      "source": [
        "g = sns.FacetGrid(tips, row='time', col='day', margin_titles=True)\n",
        "g.map(sns.violinplot, \"smoker\", 'tip', palette='muted')"
      ],
      "execution_count": 0,
      "outputs": [
        {
          "output_type": "stream",
          "text": [
            "/usr/local/lib/python3.6/dist-packages/seaborn/axisgrid.py:715: UserWarning: Using the violinplot function without specifying `order` is likely to produce an incorrect plot.\n",
            "  warnings.warn(warning)\n"
          ],
          "name": "stderr"
        },
        {
          "output_type": "execute_result",
          "data": {
            "text/plain": [
              "<seaborn.axisgrid.FacetGrid at 0x7fd71a0ca0f0>"
            ]
          },
          "metadata": {
            "tags": []
          },
          "execution_count": 31
        },
        {
          "output_type": "display_data",
          "data": {
            "image/png": "[encoded data removed]",
            "text/plain": [
              "<Figure size 864x432 with 8 Axes>"
            ]
          },
          "metadata": {
            "tags": []
          }
        }
      ]
    },
    {
      "cell_type": "code",
      "metadata": {
        "id": "oQVdIRa34fPv",
        "colab_type": "code",
        "outputId": "4a0d04dd-0d17-4419-e8ed-bc74e390edb7",
        "colab": {
          "base_uri": "https://localhost:8080/",
          "height": 419
        }
      },
      "source": [
        "tips"
      ],
      "execution_count": 0,
      "outputs": [
        {
          "output_type": "execute_result",
          "data": {
            "text/html": [
              "<div>\n",
              "<style scoped>\n",
              "    .dataframe tbody tr th:only-of-type {\n",
              "        vertical-align: middle;\n",
              "    }\n",
              "\n",
              "    .dataframe tbody tr th {\n",
              "        vertical-align: top;\n",
              "    }\n",
              "\n",
              "    .dataframe thead th {\n",
              "        text-align: right;\n",
              "    }\n",
              "</style>\n",
              "<table border=\"1\" class=\"dataframe\">\n",
              "  <thead>\n",
              "    <tr style=\"text-align: right;\">\n",
              "      <th></th>\n",
              "      <th>total_bill</th>\n",
              "      <th>tip</th>\n",
              "      <th>sex</th>\n",
              "      <th>smoker</th>\n",
              "      <th>day</th>\n",
              "      <th>time</th>\n",
              "      <th>size</th>\n",
              "    </tr>\n",
              "  </thead>\n",
              "  <tbody>\n",
              "    <tr>\n",
              "      <th>0</th>\n",
              "      <td>16.99</td>\n",
              "      <td>1.01</td>\n",
              "      <td>Female</td>\n",
              "      <td>No</td>\n",
              "      <td>Sun</td>\n",
              "      <td>Dinner</td>\n",
              "      <td>2</td>\n",
              "    </tr>\n",
              "    <tr>\n",
              "      <th>1</th>\n",
              "      <td>10.34</td>\n",
              "      <td>1.66</td>\n",
              "      <td>Male</td>\n",
              "      <td>No</td>\n",
              "      <td>Sun</td>\n",
              "      <td>Dinner</td>\n",
              "      <td>3</td>\n",
              "    </tr>\n",
              "    <tr>\n",
              "      <th>2</th>\n",
              "      <td>21.01</td>\n",
              "      <td>3.50</td>\n",
              "      <td>Male</td>\n",
              "      <td>No</td>\n",
              "      <td>Sun</td>\n",
              "      <td>Dinner</td>\n",
              "      <td>3</td>\n",
              "    </tr>\n",
              "    <tr>\n",
              "      <th>3</th>\n",
              "      <td>23.68</td>\n",
              "      <td>3.31</td>\n",
              "      <td>Male</td>\n",
              "      <td>No</td>\n",
              "      <td>Sun</td>\n",
              "      <td>Dinner</td>\n",
              "      <td>2</td>\n",
              "    </tr>\n",
              "    <tr>\n",
              "      <th>4</th>\n",
              "      <td>24.59</td>\n",
              "      <td>3.61</td>\n",
              "      <td>Female</td>\n",
              "      <td>No</td>\n",
              "      <td>Sun</td>\n",
              "      <td>Dinner</td>\n",
              "      <td>4</td>\n",
              "    </tr>\n",
              "    <tr>\n",
              "      <th>...</th>\n",
              "      <td>...</td>\n",
              "      <td>...</td>\n",
              "      <td>...</td>\n",
              "      <td>...</td>\n",
              "      <td>...</td>\n",
              "      <td>...</td>\n",
              "      <td>...</td>\n",
              "    </tr>\n",
              "    <tr>\n",
              "      <th>239</th>\n",
              "      <td>29.03</td>\n",
              "      <td>5.92</td>\n",
              "      <td>Male</td>\n",
              "      <td>No</td>\n",
              "      <td>Sat</td>\n",
              "      <td>Dinner</td>\n",
              "      <td>3</td>\n",
              "    </tr>\n",
              "    <tr>\n",
              "      <th>240</th>\n",
              "      <td>27.18</td>\n",
              "      <td>2.00</td>\n",
              "      <td>Female</td>\n",
              "      <td>Yes</td>\n",
              "      <td>Sat</td>\n",
              "      <td>Dinner</td>\n",
              "      <td>2</td>\n",
              "    </tr>\n",
              "    <tr>\n",
              "      <th>241</th>\n",
              "      <td>22.67</td>\n",
              "      <td>2.00</td>\n",
              "      <td>Male</td>\n",
              "      <td>Yes</td>\n",
              "      <td>Sat</td>\n",
              "      <td>Dinner</td>\n",
              "      <td>2</td>\n",
              "    </tr>\n",
              "    <tr>\n",
              "      <th>242</th>\n",
              "      <td>17.82</td>\n",
              "      <td>1.75</td>\n",
              "      <td>Male</td>\n",
              "      <td>No</td>\n",
              "      <td>Sat</td>\n",
              "      <td>Dinner</td>\n",
              "      <td>2</td>\n",
              "    </tr>\n",
              "    <tr>\n",
              "      <th>243</th>\n",
              "      <td>18.78</td>\n",
              "      <td>3.00</td>\n",
              "      <td>Female</td>\n",
              "      <td>No</td>\n",
              "      <td>Thur</td>\n",
              "      <td>Dinner</td>\n",
              "      <td>2</td>\n",
              "    </tr>\n",
              "  </tbody>\n",
              "</table>\n",
              "<p>244 rows × 7 columns</p>\n",
              "</div>"
            ],
            "text/plain": [
              "     total_bill   tip     sex smoker   day    time  size\n",
              "0         16.99  1.01  Female     No   Sun  Dinner     2\n",
              "1         10.34  1.66    Male     No   Sun  Dinner     3\n",
              "2         21.01  3.50    Male     No   Sun  Dinner     3\n",
              "3         23.68  3.31    Male     No   Sun  Dinner     2\n",
              "4         24.59  3.61  Female     No   Sun  Dinner     4\n",
              "..          ...   ...     ...    ...   ...     ...   ...\n",
              "239       29.03  5.92    Male     No   Sat  Dinner     3\n",
              "240       27.18  2.00  Female    Yes   Sat  Dinner     2\n",
              "241       22.67  2.00    Male    Yes   Sat  Dinner     2\n",
              "242       17.82  1.75    Male     No   Sat  Dinner     2\n",
              "243       18.78  3.00  Female     No  Thur  Dinner     2\n",
              "\n",
              "[244 rows x 7 columns]"
            ]
          },
          "metadata": {
            "tags": []
          },
          "execution_count": 32
        }
      ]
    },
    {
      "cell_type": "markdown",
      "metadata": {
        "id": "MnwTmYrSlvt0",
        "colab_type": "text"
      },
      "source": [
        "### 피벗 테이블 만들기"
      ]
    },
    {
      "cell_type": "code",
      "metadata": {
        "id": "sS5030DS4l8h",
        "colab_type": "code",
        "outputId": "4fefed3b-94e3-42e0-f5bb-2d589f5152fa",
        "colab": {
          "base_uri": "https://localhost:8080/",
          "height": 142
        }
      },
      "source": [
        "tips.pivot_table(index='time', columns='day', \n",
        "                 values='total_bill', aggfunc='count')"
      ],
      "execution_count": 0,
      "outputs": [
        {
          "output_type": "execute_result",
          "data": {
            "text/html": [
              "<div>\n",
              "<style scoped>\n",
              "    .dataframe tbody tr th:only-of-type {\n",
              "        vertical-align: middle;\n",
              "    }\n",
              "\n",
              "    .dataframe tbody tr th {\n",
              "        vertical-align: top;\n",
              "    }\n",
              "\n",
              "    .dataframe thead th {\n",
              "        text-align: right;\n",
              "    }\n",
              "</style>\n",
              "<table border=\"1\" class=\"dataframe\">\n",
              "  <thead>\n",
              "    <tr style=\"text-align: right;\">\n",
              "      <th>day</th>\n",
              "      <th>Thur</th>\n",
              "      <th>Fri</th>\n",
              "      <th>Sat</th>\n",
              "      <th>Sun</th>\n",
              "    </tr>\n",
              "    <tr>\n",
              "      <th>time</th>\n",
              "      <th></th>\n",
              "      <th></th>\n",
              "      <th></th>\n",
              "      <th></th>\n",
              "    </tr>\n",
              "  </thead>\n",
              "  <tbody>\n",
              "    <tr>\n",
              "      <th>Lunch</th>\n",
              "      <td>61.0</td>\n",
              "      <td>7.0</td>\n",
              "      <td>NaN</td>\n",
              "      <td>NaN</td>\n",
              "    </tr>\n",
              "    <tr>\n",
              "      <th>Dinner</th>\n",
              "      <td>1.0</td>\n",
              "      <td>12.0</td>\n",
              "      <td>87.0</td>\n",
              "      <td>76.0</td>\n",
              "    </tr>\n",
              "  </tbody>\n",
              "</table>\n",
              "</div>"
            ],
            "text/plain": [
              "day     Thur   Fri   Sat   Sun\n",
              "time                          \n",
              "Lunch   61.0   7.0   NaN   NaN\n",
              "Dinner   1.0  12.0  87.0  76.0"
            ]
          },
          "metadata": {
            "tags": []
          },
          "execution_count": 36
        }
      ]
    },
    {
      "cell_type": "markdown",
      "metadata": {
        "id": "1wlLbOVDlybW",
        "colab_type": "text"
      },
      "source": [
        "### 크로스탭 만들기"
      ]
    },
    {
      "cell_type": "code",
      "metadata": {
        "id": "fbw8bCIP4wbW",
        "colab_type": "code",
        "outputId": "15baf472-4aee-46d8-809b-fa1ac4f873fb",
        "colab": {
          "base_uri": "https://localhost:8080/",
          "height": 142
        }
      },
      "source": [
        "c = pd.crosstab(tips['time'], tips['day'])\n",
        "c"
      ],
      "execution_count": 0,
      "outputs": [
        {
          "output_type": "execute_result",
          "data": {
            "text/html": [
              "<div>\n",
              "<style scoped>\n",
              "    .dataframe tbody tr th:only-of-type {\n",
              "        vertical-align: middle;\n",
              "    }\n",
              "\n",
              "    .dataframe tbody tr th {\n",
              "        vertical-align: top;\n",
              "    }\n",
              "\n",
              "    .dataframe thead th {\n",
              "        text-align: right;\n",
              "    }\n",
              "</style>\n",
              "<table border=\"1\" class=\"dataframe\">\n",
              "  <thead>\n",
              "    <tr style=\"text-align: right;\">\n",
              "      <th>day</th>\n",
              "      <th>Thur</th>\n",
              "      <th>Fri</th>\n",
              "      <th>Sat</th>\n",
              "      <th>Sun</th>\n",
              "    </tr>\n",
              "    <tr>\n",
              "      <th>time</th>\n",
              "      <th></th>\n",
              "      <th></th>\n",
              "      <th></th>\n",
              "      <th></th>\n",
              "    </tr>\n",
              "  </thead>\n",
              "  <tbody>\n",
              "    <tr>\n",
              "      <th>Lunch</th>\n",
              "      <td>61</td>\n",
              "      <td>7</td>\n",
              "      <td>0</td>\n",
              "      <td>0</td>\n",
              "    </tr>\n",
              "    <tr>\n",
              "      <th>Dinner</th>\n",
              "      <td>1</td>\n",
              "      <td>12</td>\n",
              "      <td>87</td>\n",
              "      <td>76</td>\n",
              "    </tr>\n",
              "  </tbody>\n",
              "</table>\n",
              "</div>"
            ],
            "text/plain": [
              "day     Thur  Fri  Sat  Sun\n",
              "time                       \n",
              "Lunch     61    7    0    0\n",
              "Dinner     1   12   87   76"
            ]
          },
          "metadata": {
            "tags": []
          },
          "execution_count": 44
        }
      ]
    },
    {
      "cell_type": "code",
      "metadata": {
        "id": "bOzHzsfz5Joa",
        "colab_type": "code",
        "outputId": "e2bac1ca-1cb1-473e-9de9-36d23b8a7a60",
        "colab": {
          "base_uri": "https://localhost:8080/",
          "height": 142
        }
      },
      "source": [
        "n = pd.crosstab(tips['time'], tips['day'], normalize = True)\n",
        "n"
      ],
      "execution_count": 0,
      "outputs": [
        {
          "output_type": "execute_result",
          "data": {
            "text/html": [
              "<div>\n",
              "<style scoped>\n",
              "    .dataframe tbody tr th:only-of-type {\n",
              "        vertical-align: middle;\n",
              "    }\n",
              "\n",
              "    .dataframe tbody tr th {\n",
              "        vertical-align: top;\n",
              "    }\n",
              "\n",
              "    .dataframe thead th {\n",
              "        text-align: right;\n",
              "    }\n",
              "</style>\n",
              "<table border=\"1\" class=\"dataframe\">\n",
              "  <thead>\n",
              "    <tr style=\"text-align: right;\">\n",
              "      <th>day</th>\n",
              "      <th>Thur</th>\n",
              "      <th>Fri</th>\n",
              "      <th>Sat</th>\n",
              "      <th>Sun</th>\n",
              "    </tr>\n",
              "    <tr>\n",
              "      <th>time</th>\n",
              "      <th></th>\n",
              "      <th></th>\n",
              "      <th></th>\n",
              "      <th></th>\n",
              "    </tr>\n",
              "  </thead>\n",
              "  <tbody>\n",
              "    <tr>\n",
              "      <th>Lunch</th>\n",
              "      <td>0.250000</td>\n",
              "      <td>0.028689</td>\n",
              "      <td>0.000000</td>\n",
              "      <td>0.000000</td>\n",
              "    </tr>\n",
              "    <tr>\n",
              "      <th>Dinner</th>\n",
              "      <td>0.004098</td>\n",
              "      <td>0.049180</td>\n",
              "      <td>0.356557</td>\n",
              "      <td>0.311475</td>\n",
              "    </tr>\n",
              "  </tbody>\n",
              "</table>\n",
              "</div>"
            ],
            "text/plain": [
              "day         Thur       Fri       Sat       Sun\n",
              "time                                          \n",
              "Lunch   0.250000  0.028689  0.000000  0.000000\n",
              "Dinner  0.004098  0.049180  0.356557  0.311475"
            ]
          },
          "metadata": {
            "tags": []
          },
          "execution_count": 45
        }
      ]
    },
    {
      "cell_type": "markdown",
      "metadata": {
        "id": "MteZmh7-l1bt",
        "colab_type": "text"
      },
      "source": [
        "### 크로스 탭으로 히트맵 그리기"
      ]
    },
    {
      "cell_type": "code",
      "metadata": {
        "id": "8EH1Dy1i5Qor",
        "colab_type": "code",
        "outputId": "76c25110-fa41-4a64-f4bf-5ddbb089d1b8",
        "colab": {
          "base_uri": "https://localhost:8080/",
          "height": 302
        }
      },
      "source": [
        "sns.heatmap(c, annot=True, cmap='Blues')"
      ],
      "execution_count": 0,
      "outputs": [
        {
          "output_type": "execute_result",
          "data": {
            "text/plain": [
              "<matplotlib.axes._subplots.AxesSubplot at 0x7fd715d81f60>"
            ]
          },
          "metadata": {
            "tags": []
          },
          "execution_count": 46
        },
        {
          "output_type": "display_data",
          "data": {
            "image/png": "[encoded data removed]",
            "text/plain": [
              "<Figure size 432x288 with 2 Axes>"
            ]
          },
          "metadata": {
            "tags": []
          }
        }
      ]
    },
    {
      "cell_type": "code",
      "metadata": {
        "id": "Jm9S_Byp5V9t",
        "colab_type": "code",
        "outputId": "87fa331a-27be-42df-9853-e8e1fc26fcd8",
        "colab": {
          "base_uri": "https://localhost:8080/",
          "height": 302
        }
      },
      "source": [
        "sns.heatmap(n, annot=True, cmap='Blues')"
      ],
      "execution_count": 0,
      "outputs": [
        {
          "output_type": "execute_result",
          "data": {
            "text/plain": [
              "<matplotlib.axes._subplots.AxesSubplot at 0x7fd715d817b8>"
            ]
          },
          "metadata": {
            "tags": []
          },
          "execution_count": 47
        },
        {
          "output_type": "display_data",
          "data": {
            "image/png": "[encoded data removed]",
            "text/plain": [
              "<Figure size 432x288 with 2 Axes>"
            ]
          },
          "metadata": {
            "tags": []
          }
        }
      ]
    },
    {
      "cell_type": "markdown",
      "metadata": {
        "id": "ZmmZfBlNy7dB",
        "colab_type": "text"
      },
      "source": [
        "## TIL : 191230"
      ]
    },
    {
      "cell_type": "markdown",
      "metadata": {
        "id": "uuCQwit5zDME",
        "colab_type": "text"
      },
      "source": [
        "### 칼럼 재정렬 "
      ]
    },
    {
      "cell_type": "markdown",
      "metadata": {
        "id": "n3zdv9bszF2E",
        "colab_type": "text"
      },
      "source": [
        "\n",
        "\n",
        "```\n",
        "df  = df[ ['컬럼1', '컬럼2', '컬럼3', '컬럼4', '컬럼5'] ]\n",
        "```\n",
        "\n",
        "\n"
      ]
    },
    {
      "cell_type": "code",
      "metadata": {
        "id": "MrI3-8OZzxur",
        "colab_type": "code",
        "colab": {}
      },
      "source": [
        ""
      ],
      "execution_count": 0,
      "outputs": []
    }
  ]
}
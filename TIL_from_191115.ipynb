{
  "nbformat": 4,
  "nbformat_minor": 0,
  "metadata": {
    "colab": {
      "name": "TIL from_191115.ipynb",
      "provenance": [],
      "collapsed_sections": [],
      "toc_visible": true,
      "include_colab_link": true
    },
    "kernelspec": {
      "name": "python3",
      "display_name": "Python 3"
    }
  },
  "cells": [
    {
      "cell_type": "markdown",
      "metadata": {
        "id": "view-in-github",
        "colab_type": "text"
      },
      "source": [
        "<a href=\"https://colab.research.google.com/github/951237/TIL/blob/master/TIL_from_191115.ipynb\" target=\"_parent\"><img src=\"https://colab.research.google.com/assets/colab-badge.svg\" alt=\"Open In Colab\"/></a>"
      ]
    },
    {
      "cell_type": "markdown",
      "metadata": {
        "id": "ZEI-vEl7liBp",
        "colab_type": "text"
      },
      "source": [
        "# TIL : 깃허브 입문 191115 "
      ]
    },
    {
      "cell_type": "markdown",
      "metadata": {
        "id": "xORo2B3xs7mf",
        "colab_type": "text"
      },
      "source": [
        "## I. 깃허브로 취업하기\n",
        "- 링크 : https://sujinlee.me/professional-github/\n"
      ]
    },
    {
      "cell_type": "markdown",
      "metadata": {
        "id": "Z8II2xIqtqoa",
        "colab_type": "text"
      },
      "source": [
        "### 1. 매력적인 프로필 만들기\n",
        "- 사진\n",
        "    - 얼굴이 클로즈업 된 사진\n",
        "    - 500 * 500\n",
        "- 유저네임\n",
        "    - 본명을 영어로\n",
        "    - 숫자가 있다면 빼기\n",
        "- 이멜주소 : 실명으로 만들기\n",
        "- 프로젝트\n",
        "\n"
      ]
    },
    {
      "cell_type": "markdown",
      "metadata": {
        "id": "bvMmUqp-uzNr",
        "colab_type": "text"
      },
      "source": [
        "### 2. 1일 1커밋\n",
        "- 매일마다 새로운 것을 배우고 성장하기\n",
        "- 매일 조금씩이라도 코딩하고 꾸준히 커밋하는 습관 기르기\n"
      ]
    },
    {
      "cell_type": "markdown",
      "metadata": {
        "id": "oXuOqsqGvdMF",
        "colab_type": "text"
      },
      "source": [
        "### 3. 올바르게 커밋하기\n",
        "- 커밋 단위\n",
        "- 커밋 메시지 작성법\n"
      ]
    },
    {
      "cell_type": "markdown",
      "metadata": {
        "id": "sA5ZVnN4wC8o",
        "colab_type": "text"
      },
      "source": [
        "### 4. 프로젝트 소개 글 작성하기\n",
        "- 자세하게 작성. 음식레시피와 같음\n",
        "- 프로젝트명, 프로젝트 소개, 설치방법, 사용예제, 개발 환경 설정 방법, 기여방법, 변경로그, 라이센스 및 작성자 정보 기록\n",
        "\n"
      ]
    },
    {
      "cell_type": "markdown",
      "metadata": {
        "id": "JXuJ6NxCw7k6",
        "colab_type": "text"
      },
      "source": [
        "### 5. 오픈 소스 기여하기\n"
      ]
    },
    {
      "cell_type": "markdown",
      "metadata": {
        "id": "URG1wTUXxt5q",
        "colab_type": "text"
      },
      "source": [
        "### 6. 프로젝트 관리하기"
      ]
    },
    {
      "cell_type": "code",
      "metadata": {
        "id": "lMKvAD7Hw6cK",
        "colab_type": "code",
        "colab": {}
      },
      "source": [
        ""
      ],
      "execution_count": 0,
      "outputs": []
    },
    {
      "cell_type": "code",
      "metadata": {
        "id": "NBeCU52ex1Rc",
        "colab_type": "code",
        "colab": {}
      },
      "source": [
        ""
      ],
      "execution_count": 0,
      "outputs": []
    },
    {
      "cell_type": "markdown",
      "metadata": {
        "id": "dbVnLopjzOiv",
        "colab_type": "text"
      },
      "source": [
        "## II. 일일커밋 후기 "
      ]
    },
    {
      "cell_type": "markdown",
      "metadata": {
        "id": "TAfj94djzbdN",
        "colab_type": "text"
      },
      "source": [
        "### 어떻게 시작해야 하나?\n",
        "- 의미 없는 코드일지라도 일단 시작하기\n",
        "- 의미 없는 일로 의미 있는 일을 만들기\n",
        "- 매일 매일 무엇을 커밋할지 생각하기\n",
        "- Done is better than Perfect\n",
        "- 따라하기\n",
        "    - 따라할게 너무 많음.\n",
        "- 무엇을 커밋해야 될지 모른다면\n",
        "    - 마크다운부터 시작하기\n",
        "- 그날 공부했던것을 커밋하기\n",
        "    - 자기가 편한 방식으로 커밋하기\n",
        "- 스택오버플로 링크와 함께 복붙하지 않고 직접 타이핑\n",
        "    - 남의 코드를 따라하더라도 복붙하지 않고 직접타이핑을 해야 내것이 됨.\n",
        "- TIL 폴더 만들기\n",
        "- 캐글로 데이터 사이언스 공부\n",
        "- 캐글의 튜토리얼 따라하기\n",
        "- 자연어 처리 : bag of word meets bags of popcom\n",
        "- 튜토리얼 변형하기 / 번역하기 / 나만의 튜토리얼 만들기\n",
        "- 책에서 본 코드 따라하기\n",
        "- 간단한 튜토리얼 번역\n",
        "- 스프린트 참여\n",
        "- 정적 블로그 운영\n",
        "    - TIL로 정리했던 내용이나 블로그로 쓸만한 내용들\n",
        "    - 깃헙에 튜토리얼이 있음."
      ]
    },
    {
      "cell_type": "markdown",
      "metadata": {
        "id": "uMI-KRda4LtZ",
        "colab_type": "text"
      },
      "source": [
        "## III. 리퍼지토리 작성 실습"
      ]
    },
    {
      "cell_type": "markdown",
      "metadata": {
        "id": "PG2qVZ9S4THr",
        "colab_type": "text"
      },
      "source": [
        "### 리퍼지토리 생성하기\n",
        "- TIL 생성하기\n",
        "    - public \n",
        "\n"
      ]
    },
    {
      "cell_type": "markdown",
      "metadata": {
        "id": "HIGXsaMAIbDY",
        "colab_type": "text"
      },
      "source": [
        "# 판다스"
      ]
    },
    {
      "cell_type": "markdown",
      "metadata": {
        "id": "u8en79fOlnVy",
        "colab_type": "text"
      },
      "source": [
        "## TIL 191203 : apply 함수 이용하기\n",
        "- 발명반 원서 정렬시 기호를 글자로 바꾸기"
      ]
    },
    {
      "cell_type": "markdown",
      "metadata": {
        "colab_type": "text",
        "id": "vUGk2yJONnHV"
      },
      "source": [
        "## TIL 191204 : 학년에 맞게 학급으로 변환"
      ]
    },
    {
      "cell_type": "markdown",
      "metadata": {
        "id": "m6FeUpheexUN",
        "colab_type": "text"
      },
      "source": [
        "\n",
        "\n",
        "```\n",
        "def make_classIndex(row):\n",
        "    if str(row)[0] == '3':\n",
        "        k = '초급'\n",
        "    elif str(row)[0] == '4':\n",
        "        k = '중급'\n",
        "    else:\n",
        "        k = '심화'\n",
        "    return k\n",
        "```\n",
        "\n",
        "\n"
      ]
    },
    {
      "cell_type": "markdown",
      "metadata": {
        "id": "c1i8ZgDTfNSh",
        "colab_type": "text"
      },
      "source": [
        "\n",
        "\n",
        "```\n",
        "df_result['지원반'] = df_result['소속반(2019)'].apply(make_classIndex)\n",
        "df_result.head()\n",
        "```\n",
        "\n"
      ]
    },
    {
      "cell_type": "markdown",
      "metadata": {
        "colab_type": "text",
        "id": "4XAhPuwkONs7"
      },
      "source": [
        "## TIL 191211 나머지가 생기지 않게하는 수 찾기 "
      ]
    },
    {
      "cell_type": "markdown",
      "metadata": {
        "id": "8vE3nUTMOZlO",
        "colab_type": "text"
      },
      "source": [
        "\n",
        "\n",
        "```\n",
        "print( 11 % 4) # 나머지 구하기\n",
        "\n",
        "def div_zero(k, r):\n",
        "    for i in range(1, r, 1):\n",
        "        if int(k % i) == 0:\n",
        "            print(i)\n",
        "        else:\n",
        "            continue\n",
        "            \n",
        "div_zero(340, 15)\n",
        "```\n",
        "\n"
      ]
    },
    {
      "cell_type": "markdown",
      "metadata": {
        "id": "CHO7A7cpmORs",
        "colab_type": "text"
      },
      "source": [
        "## 191215 칼럼 값을 리스트와 비교해서 일치하는 행만 데이터프레임에 저장"
      ]
    },
    {
      "cell_type": "markdown",
      "metadata": {
        "id": "yqyoX4FIMEvV",
        "colab_type": "text"
      },
      "source": [
        "\n",
        "\n",
        "```\n",
        "df_hyuk = df[ df['소속'].isin(list_hyuk) \n",
        "```\n",
        "\n"
      ]
    },
    {
      "cell_type": "markdown",
      "metadata": {
        "id": "QT_fJO4zmtPL",
        "colab_type": "text"
      },
      "source": [
        "## 191215 함수 - Apply 함수 끝에서 2개의 값만 반환\n"
      ]
    },
    {
      "cell_type": "markdown",
      "metadata": {
        "id": "xNHOrjN4m4sT",
        "colab_type": "text"
      },
      "source": [
        "\n",
        "\n",
        "```\n",
        "def extract_day(row):\n",
        "    return row[-2:]\n",
        "df_hyuk['절상'] = df_hyuk['현임교_발령일자'].apply(extract_day)\n",
        "```\n",
        "\n"
      ]
    },
    {
      "cell_type": "markdown",
      "metadata": {
        "id": "GCVVeFjDm7iB",
        "colab_type": "text"
      },
      "source": [
        "## 191215 Apply 함수 - 값이 범위안에 있는 경우 텍스트를 반환\n",
        "- 텍스트를 숫자로 변환해서 비교"
      ]
    },
    {
      "cell_type": "markdown",
      "metadata": {
        "id": "W1oOmn3RnQNu",
        "colab_type": "text"
      },
      "source": [
        "\n",
        "\n",
        "```\n",
        "    def compare_day(row):\n",
        "        if int(row) > 2 and int(row) < 15:\n",
        "            return '절상'\n",
        "\n",
        "    df_hyuk['절상'] = df_hyuk['절상'].apply(compare_day)\n",
        "```\n",
        "\n"
      ]
    },
    {
      "cell_type": "markdown",
      "metadata": {
        "id": "N6bdPgCznYJJ",
        "colab_type": "text"
      },
      "source": [
        "## 191215 칼럼값이 일치하는 행들을 데이터 프레임으로 저장"
      ]
    },
    {
      "cell_type": "markdown",
      "metadata": {
        "id": "6Ake9kownjqx",
        "colab_type": "text"
      },
      "source": [
        "\n",
        "\n",
        "```\n",
        "df_hyuk_up = df_hyuk[ df_hyuk['절상'] == '절상' ]\n",
        "```\n",
        "\n",
        "    "
      ]
    },
    {
      "cell_type": "markdown",
      "metadata": {
        "id": "DokVUXE6ogqf",
        "colab_type": "text"
      },
      "source": [
        "## 191215 데이터 프레임 엑셀저장\n",
        "- 여러개의 데이터프레임을 시트이름을 정해서 저장하기"
      ]
    },
    {
      "cell_type": "markdown",
      "metadata": {
        "id": "mcSvRqlkorPK",
        "colab_type": "text"
      },
      "source": [
        "\n",
        "\n",
        "```\n",
        "def writer_excel(file_path):\n",
        "    writer = pd.ExcelWriter(file_path)\n",
        "    df_hyuk_up_gen.to_excel(writer, sheet_name='혁신학교 절상명단_일반', index=False)\n",
        "    df_hyuk_up_gap.to_excel(writer, sheet_name='혁신학교 절상명단_갑만기', index=False)\n",
        "    writer.save()\n",
        "```\n",
        "\n"
      ]
    },
    {
      "cell_type": "markdown",
      "metadata": {
        "id": "XqXACgmKJAe8",
        "colab_type": "text"
      },
      "source": [
        "## TIL - 191217"
      ]
    },
    {
      "cell_type": "markdown",
      "metadata": {
        "id": "eYTyPkRXIrjQ",
        "colab_type": "text"
      },
      "source": [
        "### 191217 여러개의 칼럼을 더해서 코드 만들기"
      ]
    },
    {
      "cell_type": "markdown",
      "metadata": {
        "id": "lWKFt3EzIuGM",
        "colab_type": "text"
      },
      "source": [
        "\n",
        "\n",
        "```\n",
        "df_all_real_cho['코드_동명이인'] = df_all_real_cho['지역'] + df_all_real_cho['소속'] + df_all_real_cho['이름']\n",
        "```\n",
        "\n"
      ]
    },
    {
      "cell_type": "markdown",
      "metadata": {
        "id": "fWlUDDdeIzFy",
        "colab_type": "text"
      },
      "source": [
        "### 동명이인 찾기 "
      ]
    },
    {
      "cell_type": "markdown",
      "metadata": {
        "id": "HuwpyskpJLk1",
        "colab_type": "text"
      },
      "source": [
        "\n",
        "\n",
        "```\n",
        "df_all_real_cho[ df_all_real_cho['코드_동명이인'].duplicated() ]\n",
        "```\n",
        "\n"
      ]
    },
    {
      "cell_type": "markdown",
      "metadata": {
        "id": "lH_moDwnJOb2",
        "colab_type": "text"
      },
      "source": [
        "### 원하는 값 필터링 하기"
      ]
    },
    {
      "cell_type": "markdown",
      "metadata": {
        "id": "nBnJZwVtJYFz",
        "colab_type": "text"
      },
      "source": [
        "\n",
        "\n",
        "```\n",
        "df_all_real_cho[ df_all_real_cho['이름'] == '김동현' ]\n",
        "```\n",
        "\n"
      ]
    },
    {
      "cell_type": "code",
      "metadata": {
        "id": "uJDY0Bj1JaC5",
        "colab_type": "code",
        "colab": {}
      },
      "source": [
        ""
      ],
      "execution_count": 0,
      "outputs": []
    },
    {
      "cell_type": "markdown",
      "metadata": {
        "id": "gv9m4Q2G2al_",
        "colab_type": "text"
      },
      "source": [
        "## TIL - 191219"
      ]
    },
    {
      "cell_type": "markdown",
      "metadata": {
        "id": "RsvQ4tbd2-bO",
        "colab_type": "text"
      },
      "source": [
        "### 데이터 전처리 - 엑셀파일 가져오기"
      ]
    },
    {
      "cell_type": "markdown",
      "metadata": {
        "id": "0S3Xo5xl2hGG",
        "colab_type": "text"
      },
      "source": [
        "\n",
        "\n",
        "```\n",
        "use_cols = (2, 3, 4, 5, 6, 8, 9, 10, 11, 12, 13, 14, 16, 17, 18, 19, 20, 21, 22, 23, 24, 25, 26)\n",
        "df_med = pd.read_excel(filepath, \n",
        "                header = None,  #헤더를 가져오지 않음.\n",
        "                usecols = use_cols # 사용할 칼럼들을 선택\n",
        "                 ).iloc[9:,:] #가져올 행을 선택\n",
        "```\n",
        "\n"
      ]
    },
    {
      "cell_type": "markdown",
      "metadata": {
        "id": "zNsoH2Ym2788",
        "colab_type": "text"
      },
      "source": [
        "### 데이터 전처리 - 인덱스 1부터 넘버링"
      ]
    },
    {
      "cell_type": "markdown",
      "metadata": {
        "id": "BO1jDMfP7AaY",
        "colab_type": "text"
      },
      "source": [
        "\n",
        "\n",
        "```\n",
        "df_med = df_med.reset_index(drop = True) # 인덱스 리셋\n",
        "df_med.index = df_med.index + 1 #인덱스에 1을 더하여 1부터 시작\n",
        "```\n",
        "\n"
      ]
    },
    {
      "cell_type": "markdown",
      "metadata": {
        "id": "m86fcbgL7I5r",
        "colab_type": "text"
      },
      "source": [
        "## TIL - 191220"
      ]
    },
    {
      "cell_type": "markdown",
      "metadata": {
        "id": "NhInGRhZyrZS",
        "colab_type": "text"
      },
      "source": [
        "### 발령데이터 프로젝트 계획\n",
        "- 카테고리 : 년도\n",
        "    - 인원변동\n",
        "    - 유형변동\n",
        "    - 성별변동\n",
        "- 카테고리 : 지역\n",
        "    - 발령인원 현황\n",
        "    - 지원현황\n",
        "    - 지원대비 발령 %"
      ]
    },
    {
      "cell_type": "markdown",
      "metadata": {
        "id": "fO9aJKyUzK5Q",
        "colab_type": "text"
      },
      "source": [
        "## TIL - 191221 판다스 데이터 전처리 함수 연습"
      ]
    },
    {
      "cell_type": "markdown",
      "metadata": {
        "id": "Z-x7kp4i7mFc",
        "colab_type": "text"
      },
      "source": [
        "### 컬럼 이름 바꾸기"
      ]
    },
    {
      "cell_type": "markdown",
      "metadata": {
        "id": "yvObSZjn7bdX",
        "colab_type": "text"
      },
      "source": [
        "\n",
        "\n",
        "```\n",
        "df.columns = [ 'a', 'b', 'c']\n",
        "```\n",
        "\n"
      ]
    },
    {
      "cell_type": "markdown",
      "metadata": {
        "id": "5EPzmpEy74-L",
        "colab_type": "text"
      },
      "source": [
        "### 빈값 찾기"
      ]
    },
    {
      "cell_type": "markdown",
      "metadata": {
        "id": "iua0p95I7lL6",
        "colab_type": "text"
      },
      "source": [
        "\n",
        "\n",
        "```\n",
        "pd.isnull()\n",
        "```\n",
        "\n"
      ]
    },
    {
      "cell_type": "markdown",
      "metadata": {
        "id": "d8BWeP8n8KDv",
        "colab_type": "text"
      },
      "source": [
        "### 빈값 아닌 것 찾기"
      ]
    },
    {
      "cell_type": "markdown",
      "metadata": {
        "id": "IiZ_NPhQ8EwW",
        "colab_type": "text"
      },
      "source": [
        "\n",
        "\n",
        "```\n",
        "pd.notnull()\n",
        "```\n",
        "\n"
      ]
    },
    {
      "cell_type": "markdown",
      "metadata": {
        "id": "LJzLJp3D8ZHQ",
        "colab_type": "text"
      },
      "source": [
        "### null 값을 포함한 행 삭제"
      ]
    },
    {
      "cell_type": "markdown",
      "metadata": {
        "id": "Nf7gz8Fs8Uz5",
        "colab_type": "text"
      },
      "source": [
        "\n",
        "\n",
        "```\n",
        "df.dropna()\n",
        "\n",
        "```\n",
        "\n"
      ]
    },
    {
      "cell_type": "markdown",
      "metadata": {
        "id": "f7uYsYqY94Fa",
        "colab_type": "text"
      },
      "source": [
        "### null 값을 포함한 칼럼 삭제"
      ]
    },
    {
      "cell_type": "markdown",
      "metadata": {
        "id": "A9WKuPK09885",
        "colab_type": "text"
      },
      "source": [
        "\n",
        "\n",
        "```\n",
        "df.dropna(axis = 1)\n",
        "```\n",
        "\n"
      ]
    },
    {
      "cell_type": "markdown",
      "metadata": {
        "id": "S3AKNVDuAu_D",
        "colab_type": "text"
      },
      "source": [
        "### n값보다 작은 값은 모두 삭제"
      ]
    },
    {
      "cell_type": "markdown",
      "metadata": {
        "id": "0L_4xfgo-CT0",
        "colab_type": "text"
      },
      "source": [
        "\n",
        "\n",
        "```\n",
        "df.dropna(axis = 1, thresh = n)\n",
        "```\n",
        "\n"
      ]
    },
    {
      "cell_type": "markdown",
      "metadata": {
        "id": "Tk_0eTWABF7I",
        "colab_type": "text"
      },
      "source": [
        "### q빈값을 x로 채우기"
      ]
    },
    {
      "cell_type": "markdown",
      "metadata": {
        "id": "GzlX-XM-A19K",
        "colab_type": "text"
      },
      "source": [
        "\n",
        "\n",
        "```\n",
        "df.fillna(x)\n",
        "```\n",
        "\n"
      ]
    },
    {
      "cell_type": "markdown",
      "metadata": {
        "id": "A-oDnhZCw_dd",
        "colab_type": "text"
      },
      "source": [
        "### 빈값을 평균으로 채우기"
      ]
    },
    {
      "cell_type": "markdown",
      "metadata": {
        "id": "4n8fQW7XCBW3",
        "colab_type": "text"
      },
      "source": [
        "\n",
        "```\n",
        "s.fillna(s.means())\n",
        "```"
      ]
    },
    {
      "cell_type": "markdown",
      "metadata": {
        "id": "SC-__ri6xapG",
        "colab_type": "text"
      },
      "source": [
        "### 시리즈 타입을 실수형으로 바꾸기"
      ]
    },
    {
      "cell_type": "markdown",
      "metadata": {
        "id": "tW1A41NJCCR8",
        "colab_type": "text"
      },
      "source": [
        "\n",
        "\n",
        "```\n",
        "s.astype(float)\n",
        "```"
      ]
    },
    {
      "cell_type": "markdown",
      "metadata": {
        "id": "8c2dmk81xn83",
        "colab_type": "text"
      },
      "source": [
        "### 시리즈의 1의 값을 'one'로 바꾸기"
      ]
    },
    {
      "cell_type": "markdown",
      "metadata": {
        "id": "5Mj3EjN9CElG",
        "colab_type": "text"
      },
      "source": [
        "\n",
        "\n",
        "```\n",
        "s.replace(1, 'one')\n",
        "```\n",
        "\n"
      ]
    },
    {
      "cell_type": "markdown",
      "metadata": {
        "id": "zHK3rCESxvYl",
        "colab_type": "text"
      },
      "source": [
        "### 다수의 값을 바꾸는 방법"
      ]
    },
    {
      "cell_type": "markdown",
      "metadata": {
        "id": "YRcxs97qCHuU",
        "colab_type": "text"
      },
      "source": [
        "\n",
        "\n",
        "```\n",
        "s.replace([1,3], ['one', 'three'])\n",
        "```\n",
        "\n"
      ]
    },
    {
      "cell_type": "markdown",
      "metadata": {
        "id": "Z-nQLovNx5av",
        "colab_type": "text"
      },
      "source": [
        "### 다수의 칼럼 이름 바꾸기"
      ]
    },
    {
      "cell_type": "markdown",
      "metadata": {
        "id": "uCPDXFS0CzLd",
        "colab_type": "text"
      },
      "source": [
        "\n",
        "\n",
        "```\n",
        "df.rename(columns = lamda x: x+ 1)\n",
        "```\n",
        "\n"
      ]
    },
    {
      "cell_type": "markdown",
      "metadata": {
        "id": "dXp5Lo5zyBsb",
        "colab_type": "text"
      },
      "source": [
        "### 칼럼 이름 바꾸기"
      ]
    },
    {
      "cell_type": "markdown",
      "metadata": {
        "id": "VN_uiWbYD9L1",
        "colab_type": "text"
      },
      "source": [
        "\n",
        "\n",
        "```\n",
        "df.rename( columns = {'old_name' : 'new_name'})\n",
        "```\n",
        "\n"
      ]
    },
    {
      "cell_type": "markdown",
      "metadata": {
        "id": "7AfA4aNTyJnB",
        "colab_type": "text"
      },
      "source": [
        "### 칼럼을 인덱스로 지정하기"
      ]
    },
    {
      "cell_type": "markdown",
      "metadata": {
        "id": "3ruWaRPKEGJE",
        "colab_type": "text"
      },
      "source": [
        "\n",
        "\n",
        "```\n",
        "df.set_index('colums one')\n",
        "```\n",
        "\n"
      ]
    },
    {
      "cell_type": "markdown",
      "metadata": {
        "id": "cBlF-7hTzMqN",
        "colab_type": "text"
      },
      "source": [
        "### 람다식을 이용하여 인덱스에 1씩 증가"
      ]
    },
    {
      "cell_type": "markdown",
      "metadata": {
        "id": "XuIIP3cZEWWY",
        "colab_type": "text"
      },
      "source": [
        "\n",
        "\n",
        "```\n",
        "df.rename(index = lamda x: x+1)\n",
        "```\n",
        "\n"
      ]
    },
    {
      "cell_type": "markdown",
      "metadata": {
        "id": "NMTjqkakNQms",
        "colab_type": "text"
      },
      "source": [
        "## TIL - 191223 - 필터링 / 소팅"
      ]
    },
    {
      "cell_type": "markdown",
      "metadata": {
        "id": "Ww5Ujb-xGyuK",
        "colab_type": "text"
      },
      "source": [
        "### 0.5 보다 큰 값들만 찾기"
      ]
    },
    {
      "cell_type": "markdown",
      "metadata": {
        "id": "HuLNfDyRHIxO",
        "colab_type": "text"
      },
      "source": [
        "\n",
        "\n",
        "```\n",
        "df[ df[col] > 0.5 ]\n",
        "```\n",
        "\n"
      ]
    },
    {
      "cell_type": "markdown",
      "metadata": {
        "id": "sErQlLwtIueI",
        "colab_type": "text"
      },
      "source": [
        "### 0.5 보다 크고 0.7보다 작은 값 필터링"
      ]
    },
    {
      "cell_type": "markdown",
      "metadata": {
        "id": "jBWXNe4VHmD3",
        "colab_type": "text"
      },
      "source": [
        "\n",
        "\n",
        "```\n",
        "df [ ( df[col] > 0.5 ) & ( df[col] < 0.7 ) ]\n",
        "```\n",
        "\n"
      ]
    },
    {
      "cell_type": "markdown",
      "metadata": {
        "id": "PApxYXPQI0ws",
        "colab_type": "text"
      },
      "source": [
        "### col1 칼럼 소팅하기"
      ]
    },
    {
      "cell_type": "markdown",
      "metadata": {
        "id": "qf3ZHPXiHygO",
        "colab_type": "text"
      },
      "source": [
        "\n",
        "\n",
        "```\n",
        "df.sort_values(col1)\n",
        "```\n",
        "\n"
      ]
    },
    {
      "cell_type": "markdown",
      "metadata": {
        "id": "GbAMmlZXI423",
        "colab_type": "text"
      },
      "source": [
        "### col2 내림차순으로 정렬"
      ]
    },
    {
      "cell_type": "markdown",
      "metadata": {
        "id": "W3CC8gS0IGZ1",
        "colab_type": "text"
      },
      "source": [
        "\n",
        "\n",
        "```\n",
        "df.sort_values(col2, ascending = False)\n",
        "```\n",
        "\n"
      ]
    },
    {
      "cell_type": "markdown",
      "metadata": {
        "id": "5F7DndHlI_p7",
        "colab_type": "text"
      },
      "source": [
        "### col1은 오름차순 정렬, col2 칼럼은 내림차순으로 정렬"
      ]
    },
    {
      "cell_type": "markdown",
      "metadata": {
        "id": "2X4_TzvJINMG",
        "colab_type": "text"
      },
      "source": [
        "\n",
        "\n",
        "```\n",
        "df.sort_values([col1, col2], ascending = [True, False])\n",
        "```\n",
        "\n"
      ]
    },
    {
      "cell_type": "markdown",
      "metadata": {
        "id": "nX7h2gVdSV7t",
        "colab_type": "text"
      },
      "source": [
        "## TIL - 191224 Groupby의 활용\n",
        "소스 : https://ponyozzang.tistory.com/291"
      ]
    },
    {
      "cell_type": "code",
      "metadata": {
        "id": "6GXaOQ8MSbpa",
        "colab_type": "code",
        "colab": {}
      },
      "source": [
        "import seaborn as sns\n",
        "import pandas as pd"
      ],
      "execution_count": 0,
      "outputs": []
    },
    {
      "cell_type": "code",
      "metadata": {
        "id": "cQ_f4dSWTAQQ",
        "colab_type": "code",
        "colab": {}
      },
      "source": [
        "df_titanic = sns.load_dataset('titanic')"
      ],
      "execution_count": 0,
      "outputs": []
    },
    {
      "cell_type": "code",
      "metadata": {
        "id": "h4LkU7hdTXcp",
        "colab_type": "code",
        "colab": {
          "base_uri": "https://localhost:8080/",
          "height": 85
        },
        "outputId": "6050272c-3a95-4fbc-ff4e-b7786aa532c6"
      },
      "source": [
        "df_titanic.columns"
      ],
      "execution_count": 20,
      "outputs": [
        {
          "output_type": "execute_result",
          "data": {
            "text/plain": [
              "Index(['survived', 'pclass', 'sex', 'age', 'sibsp', 'parch', 'fare',\n",
              "       'embarked', 'class', 'who', 'adult_male', 'deck', 'embark_town',\n",
              "       'alive', 'alone'],\n",
              "      dtype='object')"
            ]
          },
          "metadata": {
            "tags": []
          },
          "execution_count": 20
        }
      ]
    },
    {
      "cell_type": "code",
      "metadata": {
        "id": "RwK7cD_BULdM",
        "colab_type": "code",
        "colab": {
          "base_uri": "https://localhost:8080/",
          "height": 142
        },
        "outputId": "dbbc7aad-6dc1-443f-8c0f-acdc381dd3b1"
      },
      "source": [
        "df_titanic.groupby('sex').mean()"
      ],
      "execution_count": 22,
      "outputs": [
        {
          "output_type": "execute_result",
          "data": {
            "text/html": [
              "<div>\n",
              "<style scoped>\n",
              "    .dataframe tbody tr th:only-of-type {\n",
              "        vertical-align: middle;\n",
              "    }\n",
              "\n",
              "    .dataframe tbody tr th {\n",
              "        vertical-align: top;\n",
              "    }\n",
              "\n",
              "    .dataframe thead th {\n",
              "        text-align: right;\n",
              "    }\n",
              "</style>\n",
              "<table border=\"1\" class=\"dataframe\">\n",
              "  <thead>\n",
              "    <tr style=\"text-align: right;\">\n",
              "      <th></th>\n",
              "      <th>survived</th>\n",
              "      <th>pclass</th>\n",
              "      <th>age</th>\n",
              "      <th>sibsp</th>\n",
              "      <th>parch</th>\n",
              "      <th>fare</th>\n",
              "      <th>adult_male</th>\n",
              "      <th>alone</th>\n",
              "    </tr>\n",
              "    <tr>\n",
              "      <th>sex</th>\n",
              "      <th></th>\n",
              "      <th></th>\n",
              "      <th></th>\n",
              "      <th></th>\n",
              "      <th></th>\n",
              "      <th></th>\n",
              "      <th></th>\n",
              "      <th></th>\n",
              "    </tr>\n",
              "  </thead>\n",
              "  <tbody>\n",
              "    <tr>\n",
              "      <th>female</th>\n",
              "      <td>0.742038</td>\n",
              "      <td>2.159236</td>\n",
              "      <td>27.915709</td>\n",
              "      <td>0.694268</td>\n",
              "      <td>0.649682</td>\n",
              "      <td>44.479818</td>\n",
              "      <td>0.000000</td>\n",
              "      <td>0.401274</td>\n",
              "    </tr>\n",
              "    <tr>\n",
              "      <th>male</th>\n",
              "      <td>0.188908</td>\n",
              "      <td>2.389948</td>\n",
              "      <td>30.726645</td>\n",
              "      <td>0.429809</td>\n",
              "      <td>0.235702</td>\n",
              "      <td>25.523893</td>\n",
              "      <td>0.930676</td>\n",
              "      <td>0.712305</td>\n",
              "    </tr>\n",
              "  </tbody>\n",
              "</table>\n",
              "</div>"
            ],
            "text/plain": [
              "        survived    pclass        age  ...       fare  adult_male     alone\n",
              "sex                                    ...                                 \n",
              "female  0.742038  2.159236  27.915709  ...  44.479818    0.000000  0.401274\n",
              "male    0.188908  2.389948  30.726645  ...  25.523893    0.930676  0.712305\n",
              "\n",
              "[2 rows x 8 columns]"
            ]
          },
          "metadata": {
            "tags": []
          },
          "execution_count": 22
        }
      ]
    },
    {
      "cell_type": "code",
      "metadata": {
        "id": "JGW17xjAUhYT",
        "colab_type": "code",
        "colab": {
          "base_uri": "https://localhost:8080/",
          "height": 142
        },
        "outputId": "4de31965-dfa2-40aa-c738-08c3fa6125e6"
      },
      "source": [
        "df_titanic.groupby('survived').mean()"
      ],
      "execution_count": 23,
      "outputs": [
        {
          "output_type": "execute_result",
          "data": {
            "text/html": [
              "<div>\n",
              "<style scoped>\n",
              "    .dataframe tbody tr th:only-of-type {\n",
              "        vertical-align: middle;\n",
              "    }\n",
              "\n",
              "    .dataframe tbody tr th {\n",
              "        vertical-align: top;\n",
              "    }\n",
              "\n",
              "    .dataframe thead th {\n",
              "        text-align: right;\n",
              "    }\n",
              "</style>\n",
              "<table border=\"1\" class=\"dataframe\">\n",
              "  <thead>\n",
              "    <tr style=\"text-align: right;\">\n",
              "      <th></th>\n",
              "      <th>pclass</th>\n",
              "      <th>age</th>\n",
              "      <th>sibsp</th>\n",
              "      <th>parch</th>\n",
              "      <th>fare</th>\n",
              "      <th>adult_male</th>\n",
              "      <th>alone</th>\n",
              "    </tr>\n",
              "    <tr>\n",
              "      <th>survived</th>\n",
              "      <th></th>\n",
              "      <th></th>\n",
              "      <th></th>\n",
              "      <th></th>\n",
              "      <th></th>\n",
              "      <th></th>\n",
              "      <th></th>\n",
              "    </tr>\n",
              "  </thead>\n",
              "  <tbody>\n",
              "    <tr>\n",
              "      <th>0</th>\n",
              "      <td>2.531876</td>\n",
              "      <td>30.626179</td>\n",
              "      <td>0.553734</td>\n",
              "      <td>0.329690</td>\n",
              "      <td>22.117887</td>\n",
              "      <td>0.817851</td>\n",
              "      <td>0.681239</td>\n",
              "    </tr>\n",
              "    <tr>\n",
              "      <th>1</th>\n",
              "      <td>1.950292</td>\n",
              "      <td>28.343690</td>\n",
              "      <td>0.473684</td>\n",
              "      <td>0.464912</td>\n",
              "      <td>48.395408</td>\n",
              "      <td>0.257310</td>\n",
              "      <td>0.476608</td>\n",
              "    </tr>\n",
              "  </tbody>\n",
              "</table>\n",
              "</div>"
            ],
            "text/plain": [
              "            pclass        age     sibsp  ...       fare  adult_male     alone\n",
              "survived                                 ...                                 \n",
              "0         2.531876  30.626179  0.553734  ...  22.117887    0.817851  0.681239\n",
              "1         1.950292  28.343690  0.473684  ...  48.395408    0.257310  0.476608\n",
              "\n",
              "[2 rows x 7 columns]"
            ]
          },
          "metadata": {
            "tags": []
          },
          "execution_count": 23
        }
      ]
    },
    {
      "cell_type": "code",
      "metadata": {
        "id": "h9A7BNd1Um93",
        "colab_type": "code",
        "colab": {}
      },
      "source": [
        ""
      ],
      "execution_count": 0,
      "outputs": []
    }
  ]
}
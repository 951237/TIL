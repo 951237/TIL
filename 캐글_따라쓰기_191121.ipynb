{
  "nbformat": 4,
  "nbformat_minor": 0,
  "metadata": {
    "colab": {
      "name": "캐글 따라쓰기_191121.ipynb",
      "provenance": [],
      "include_colab_link": true
    },
    "kernelspec": {
      "name": "python3",
      "display_name": "Python 3"
    }
  },
  "cells": [
    {
      "cell_type": "markdown",
      "metadata": {
        "id": "view-in-github",
        "colab_type": "text"
      },
      "source": [
        "<a href=\"https://colab.research.google.com/github/951237/TIL/blob/master/%EC%BA%90%EA%B8%80_%EB%94%B0%EB%9D%BC%EC%93%B0%EA%B8%B0_191121.ipynb\" target=\"_parent\"><img src=\"https://colab.research.google.com/assets/colab-badge.svg\" alt=\"Open In Colab\"/></a>"
      ]
    },
    {
      "cell_type": "markdown",
      "metadata": {
        "id": "KuyvXaI4ULWH",
        "colab_type": "text"
      },
      "source": [
        "# 캐글 실습으로 배우는 데이터 사이언스\n",
        "- 영상링크 : https://www.inflearn.com/course/데이터-사이언스-kaggle#"
      ]
    },
    {
      "cell_type": "code",
      "metadata": {
        "id": "aQtqacqGUJ5O",
        "colab_type": "code",
        "colab": {}
      },
      "source": [
        ""
      ],
      "execution_count": 0,
      "outputs": []
    }
  ]
}
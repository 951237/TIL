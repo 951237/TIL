{
  "nbformat": 4,
  "nbformat_minor": 0,
  "metadata": {
    "colab": {
      "name": "이음터_업무자동화 파이선 연수(2/4)_191120.ipynb",
      "provenance": [],
      "include_colab_link": true
    },
    "kernelspec": {
      "name": "python3",
      "display_name": "Python 3"
    }
  },
  "cells": [
    {
      "cell_type": "markdown",
      "metadata": {
        "id": "view-in-github",
        "colab_type": "text"
      },
      "source": [
        "<a href=\"https://colab.research.google.com/github/951237/TIL/blob/master/%EC%9D%B4%EC%9D%8C%ED%84%B0_%EC%97%85%EB%AC%B4%EC%9E%90%EB%8F%99%ED%99%94_%ED%8C%8C%EC%9D%B4%EC%84%A0_%EC%97%B0%EC%88%98(2_4)_191120.ipynb\" target=\"_parent\"><img src=\"https://colab.research.google.com/assets/colab-badge.svg\" alt=\"Open In Colab\"/></a>"
      ]
    },
    {
      "cell_type": "markdown",
      "metadata": {
        "id": "ifZ26aaAUH_R",
        "colab_type": "text"
      },
      "source": [
        "### 딕셔너리\n"
      ]
    },
    {
      "cell_type": "code",
      "metadata": {
        "id": "A3wNmhVAUHfz",
        "colab_type": "code",
        "outputId": "e6454e80-7751-4239-9e2b-1d72cff23a1d",
        "colab": {
          "base_uri": "https://localhost:8080/",
          "height": 35
        }
      },
      "source": [
        "dict1 = {'이름' : '이동규', '나이' : 28}\n",
        "print(dict1['이름'])"
      ],
      "execution_count": 0,
      "outputs": [
        {
          "output_type": "stream",
          "text": [
            "이동규\n"
          ],
          "name": "stdout"
        }
      ]
    },
    {
      "cell_type": "markdown",
      "metadata": {
        "id": "tBzv4LE_VGNC",
        "colab_type": "text"
      },
      "source": [
        "### 조건문"
      ]
    },
    {
      "cell_type": "code",
      "metadata": {
        "id": "ul4poRvoTCsC",
        "colab_type": "code",
        "outputId": "58529e50-9c5f-4cdd-ae21-22e2d8a9c583",
        "colab": {
          "base_uri": "https://localhost:8080/",
          "height": 71
        }
      },
      "source": [
        "print('-' * 10) # #은 주석달기에 사용하기\n",
        "\n",
        "'''\n",
        "원하는 주석을 \n",
        "여러줄로 작성\n",
        "'''\n",
        "\n",
        "a = int(input())\n",
        "\n",
        "if a > 10:\n",
        "    print('10보다 크다')"
      ],
      "execution_count": 0,
      "outputs": [
        {
          "output_type": "stream",
          "text": [
            "----------\n",
            "20\n",
            "10보다 크다\n"
          ],
          "name": "stdout"
        }
      ]
    },
    {
      "cell_type": "markdown",
      "metadata": {
        "colab_type": "text",
        "id": "ocAkJSTSXZoo"
      },
      "source": [
        "### 함수"
      ]
    },
    {
      "cell_type": "code",
      "metadata": {
        "id": "7RKZQiVsVg2T",
        "colab_type": "code",
        "colab": {}
      },
      "source": [
        "def subtract(first, second):\n",
        "    result = first - second\n",
        "    return print(result)\n",
        "    \n",
        "subtract(5, 4)"
      ],
      "execution_count": 0,
      "outputs": []
    },
    {
      "cell_type": "code",
      "metadata": {
        "colab_type": "code",
        "outputId": "4101b66a-bfac-44e1-e02e-5f9c0765617a",
        "id": "mtBnkd6ZXWx4",
        "colab": {
          "base_uri": "https://localhost:8080/",
          "height": 35
        }
      },
      "source": [
        "subtract(5, 4)"
      ],
      "execution_count": 0,
      "outputs": [
        {
          "output_type": "stream",
          "text": [
            "1\n"
          ],
          "name": "stdout"
        }
      ]
    },
    {
      "cell_type": "markdown",
      "metadata": {
        "colab_type": "text",
        "id": "NZixOp3ufe0c"
      },
      "source": [
        "### 파이선으로 메일 보내기 기초\n",
        "- SMPT(simple Mail Transfer Protocol) : 1980s\n"
      ]
    },
    {
      "cell_type": "code",
      "metadata": {
        "id": "P6VSj8bZXFjw",
        "colab_type": "code",
        "colab": {}
      },
      "source": [
        "# 코랩에서는 실행이 안되지만, 에디터에서는 실행됨.\n",
        "import smtplib #smtplib = smtp library를 가져오기\n",
        "from email.mime.text import MIMEText #email이라는 파이선 내장 라이브러리에서 mime -> text, 결과적으로 MIMEtext를 가져옴\n",
        "# MIME는 메일에서 상자 혹은 봉투로 이해하기\n",
        "\n",
        "s = smtplib.SMTP('smtp.gmail.com',587) #import 해온 smtplib에서 SMTP객체를 만드는 과정\n",
        "\n",
        "# s.starttls() #tls -> 보안\n",
        "\n",
        "id = input('아이디 : ')\n",
        "pw = input('패스워드 : ')\n",
        "Title = input('제목 : ')\n",
        "message = input('내용을 입력하시오.')\n",
        "\n",
        "s.login(id, pw) #smtp 서버에 로그인\n",
        "\n",
        "msg = MIMEText(message) #MIMEtex 상자안에 본문 내용 입력\n",
        "msg['Subject'] = Title #msg라는 이름의 MIMEText 상자에 제목 입력\n",
        "\n",
        "s.sendmail('951237@gmail.com', 'drive1@naver.com', msg.as_string())\n",
        "s.quit()"
      ],
      "execution_count": 0,
      "outputs": []
    },
    {
      "cell_type": "code",
      "metadata": {
        "id": "-spxCd7Ib7-8",
        "colab_type": "code",
        "colab": {}
      },
      "source": [
        ""
      ],
      "execution_count": 0,
      "outputs": []
    },
    {
      "cell_type": "markdown",
      "metadata": {
        "id": "A0elqY_xmtut",
        "colab_type": "text"
      },
      "source": [
        "### 파이선으로 이메일 보내기 응용"
      ]
    },
    {
      "cell_type": "code",
      "metadata": {
        "id": "4NJzt6tVmwl-",
        "colab_type": "code",
        "colab": {}
      },
      "source": [
        "from email.mime.text import MIMEText\n",
        "from email.mime.multipart import MIMEMultipart\n",
        "from smtplib import SMTP_SSL"
      ],
      "execution_count": 0,
      "outputs": []
    },
    {
      "cell_type": "code",
      "metadata": {
        "id": "EG3mZh_anSkM",
        "colab_type": "code",
        "colab": {}
      },
      "source": [
        "SMTP_SERVER = 'smtp.gmail.com'\n",
        "SMTP_PORT = 465\n",
        "SMTP_USER = input('아이디 : ')\n",
        "SMTP_PASSWORD = input('암호 : ')"
      ],
      "execution_count": 0,
      "outputs": []
    },
    {
      "cell_type": "code",
      "metadata": {
        "id": "580rcFOanPvO",
        "colab_type": "code",
        "colab": {}
      },
      "source": [
        "def send_mail(name, addr, contents, attachment = False):\n",
        "    msg = MIMEMultipart('alternative')\n",
        "\n",
        "    if attachment:\n",
        "        msg = MIMEMultipart('mixed')\n",
        "\n",
        "    msg['From'] = '951237@gmail.com <%s>' % SMTP_USER\n",
        "    msg['To'] = addr\n",
        "    msg['Subject'] = name + '님에게 메일이 도착했습니다.'\n",
        "\n",
        "    text = MIMEText(contents)\n",
        "    msg.attach(text)\n",
        "\n",
        "    if attachment:\n",
        "        from email.mime.base import MIMEBase\n",
        "        from email import encoders\n",
        "\n",
        "        file_data = MIMEBase('application', 'octet-stream')\n",
        "        f = open(attachment,'rb')\n",
        "        file_contents = f.read()\n",
        "        file_data.set_payload(file_contents)\n",
        "        encoders.encode_base64(file_data)\n",
        "\n",
        "        from os.path import basename\n",
        "        filename = basename(attachment)\n",
        "        file_data.add_header('content-Disposition', 'attachment', filename = filename)\n",
        "        msg.attach(file_data)\n",
        "\n",
        "        smtp = SMTP_SSL(SMTP_SERVER,SMTP_PORT)\n",
        "        smtp.login(SMTP_USER, SMTP_PASSWORD)\n",
        "        smtp.sendmail('951237@gmail.com', addr, msg.as_string())\n",
        "        smtp.close()\n",
        "\n"
      ],
      "execution_count": 0,
      "outputs": []
    },
    {
      "cell_type": "code",
      "metadata": {
        "id": "wqQbXWYIrBqP",
        "colab_type": "code",
        "colab": {}
      },
      "source": [
        ""
      ],
      "execution_count": 0,
      "outputs": []
    }
  ]
}
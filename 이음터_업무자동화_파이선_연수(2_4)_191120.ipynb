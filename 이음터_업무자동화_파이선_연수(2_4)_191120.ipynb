{
  "nbformat": 4,
  "nbformat_minor": 0,
  "metadata": {
    "colab": {
      "name": "이음터_업무자동화 파이선 연수(2/4)_191120.ipynb",
      "provenance": [],
      "toc_visible": true,
      "include_colab_link": true
    },
    "kernelspec": {
      "name": "python3",
      "display_name": "Python 3"
    }
  },
  "cells": [
    {
      "cell_type": "markdown",
      "metadata": {
        "id": "view-in-github",
        "colab_type": "text"
      },
      "source": [
        "<a href=\"https://colab.research.google.com/github/951237/TIL/blob/master/%EC%9D%B4%EC%9D%8C%ED%84%B0_%EC%97%85%EB%AC%B4%EC%9E%90%EB%8F%99%ED%99%94_%ED%8C%8C%EC%9D%B4%EC%84%A0_%EC%97%B0%EC%88%98(2_4)_191120.ipynb\" target=\"_parent\"><img src=\"https://colab.research.google.com/assets/colab-badge.svg\" alt=\"Open In Colab\"/></a>"
      ]
    },
    {
      "cell_type": "markdown",
      "metadata": {
        "id": "4G15pH75Uitk",
        "colab_type": "text"
      },
      "source": [
        "# 기본 설정"
      ]
    },
    {
      "cell_type": "code",
      "metadata": {
        "id": "qdVfyUOzUnBD",
        "colab_type": "code",
        "outputId": "29625543-6ac3-404a-ced2-cf04bffdcae8",
        "colab": {
          "base_uri": "https://localhost:8080/",
          "height": 127
        }
      },
      "source": [
        "from google.colab import drive\n",
        "drive.mount('/content/drive')"
      ],
      "execution_count": 0,
      "outputs": [
        {
          "output_type": "stream",
          "text": [
            "Go to this URL in a browser: https://accounts.google.com/o/oauth2/auth?client_id=947318989803-6bn6qk8qdgf4n4g3pfee6491hc0brc4i.apps.googleusercontent.com&redirect_uri=urn%3aietf%3awg%3aoauth%3a2.0%3aoob&response_type=code&scope=email%20https%3a%2f%2fwww.googleapis.com%2fauth%2fdocs.test%20https%3a%2f%2fwww.googleapis.com%2fauth%2fdrive%20https%3a%2f%2fwww.googleapis.com%2fauth%2fdrive.photos.readonly%20https%3a%2f%2fwww.googleapis.com%2fauth%2fpeopleapi.readonly\n",
            "\n",
            "Enter your authorization code:\n",
            "··········\n",
            "Mounted at /content/drive\n"
          ],
          "name": "stdout"
        }
      ]
    },
    {
      "cell_type": "markdown",
      "metadata": {
        "id": "MgONm1LVRqRW",
        "colab_type": "text"
      },
      "source": [
        "#191120 파이선으로 메일보내기"
      ]
    },
    {
      "cell_type": "markdown",
      "metadata": {
        "id": "ifZ26aaAUH_R",
        "colab_type": "text"
      },
      "source": [
        "### 딕셔너리\n"
      ]
    },
    {
      "cell_type": "code",
      "metadata": {
        "id": "A3wNmhVAUHfz",
        "colab_type": "code",
        "outputId": "e6454e80-7751-4239-9e2b-1d72cff23a1d",
        "colab": {
          "base_uri": "https://localhost:8080/",
          "height": 35
        }
      },
      "source": [
        "dict1 = {'이름' : '이동규', '나이' : 28}\n",
        "print(dict1['이름'])"
      ],
      "execution_count": 0,
      "outputs": [
        {
          "output_type": "stream",
          "text": [
            "이동규\n"
          ],
          "name": "stdout"
        }
      ]
    },
    {
      "cell_type": "markdown",
      "metadata": {
        "id": "tBzv4LE_VGNC",
        "colab_type": "text"
      },
      "source": [
        "### 조건문"
      ]
    },
    {
      "cell_type": "code",
      "metadata": {
        "id": "ul4poRvoTCsC",
        "colab_type": "code",
        "outputId": "58529e50-9c5f-4cdd-ae21-22e2d8a9c583",
        "colab": {
          "base_uri": "https://localhost:8080/",
          "height": 71
        }
      },
      "source": [
        "print('-' * 10) # #은 주석달기에 사용하기\n",
        "\n",
        "'''\n",
        "원하는 주석을 \n",
        "여러줄로 작성\n",
        "'''\n",
        "\n",
        "a = int(input())\n",
        "\n",
        "if a > 10:\n",
        "    print('10보다 크다')"
      ],
      "execution_count": 0,
      "outputs": [
        {
          "output_type": "stream",
          "text": [
            "----------\n",
            "20\n",
            "10보다 크다\n"
          ],
          "name": "stdout"
        }
      ]
    },
    {
      "cell_type": "markdown",
      "metadata": {
        "colab_type": "text",
        "id": "ocAkJSTSXZoo"
      },
      "source": [
        "### 함수"
      ]
    },
    {
      "cell_type": "code",
      "metadata": {
        "id": "7RKZQiVsVg2T",
        "colab_type": "code",
        "colab": {}
      },
      "source": [
        "def subtract(first, second):\n",
        "    result = first - second\n",
        "    return print(result)\n",
        "    \n",
        "subtract(5, 4)"
      ],
      "execution_count": 0,
      "outputs": []
    },
    {
      "cell_type": "code",
      "metadata": {
        "colab_type": "code",
        "outputId": "4101b66a-bfac-44e1-e02e-5f9c0765617a",
        "id": "mtBnkd6ZXWx4",
        "colab": {
          "base_uri": "https://localhost:8080/",
          "height": 35
        }
      },
      "source": [
        "subtract(5, 4)"
      ],
      "execution_count": 0,
      "outputs": [
        {
          "output_type": "stream",
          "text": [
            "1\n"
          ],
          "name": "stdout"
        }
      ]
    },
    {
      "cell_type": "markdown",
      "metadata": {
        "colab_type": "text",
        "id": "NZixOp3ufe0c"
      },
      "source": [
        "### 파이선으로 메일 보내기 기초\n",
        "- SMPT(simple Mail Transfer Protocol) : 1980s\n"
      ]
    },
    {
      "cell_type": "code",
      "metadata": {
        "id": "P6VSj8bZXFjw",
        "colab_type": "code",
        "colab": {}
      },
      "source": [
        "# 코랩에서는 실행이 안되지만, 에디터에서는 실행됨.\n",
        "import smtplib #smtplib = smtp library를 가져오기\n",
        "from email.mime.text import MIMEText #email이라는 파이선 내장 라이브러리에서 mime -> text, 결과적으로 MIMEtext를 가져옴\n",
        "# MIME는 메일에서 상자 혹은 봉투로 이해하기\n",
        "\n",
        "s = smtplib.SMTP('smtp.gmail.com',587) #import 해온 smtplib에서 SMTP객체를 만드는 과정\n",
        "\n",
        "# s.starttls() #tls -> 보안\n",
        "\n",
        "id = input('아이디 : ')\n",
        "pw = input('패스워드 : ')\n",
        "Title = input('제목 : ')\n",
        "message = input('내용을 입력하시오.')\n",
        "\n",
        "s.login(id, pw) #smtp 서버에 로그인\n",
        "\n",
        "msg = MIMEText(message) #MIMEtex 상자안에 본문 내용 입력\n",
        "msg['Subject'] = Title #msg라는 이름의 MIMEText 상자에 제목 입력\n",
        "\n",
        "s.sendmail('951237@gmail.com', 'drive1@naver.com', msg.as_string())\n",
        "s.quit()"
      ],
      "execution_count": 0,
      "outputs": []
    },
    {
      "cell_type": "markdown",
      "metadata": {
        "id": "A0elqY_xmtut",
        "colab_type": "text"
      },
      "source": [
        "### 파이선으로 이메일 보내기 응용"
      ]
    },
    {
      "cell_type": "code",
      "metadata": {
        "id": "4NJzt6tVmwl-",
        "colab_type": "code",
        "colab": {}
      },
      "source": [
        "from email.mime.text import MIMEText\n",
        "from email.mime.multipart import MIMEMultipart\n",
        "from smtplib import SMTP_SSL"
      ],
      "execution_count": 0,
      "outputs": []
    },
    {
      "cell_type": "code",
      "metadata": {
        "id": "EG3mZh_anSkM",
        "colab_type": "code",
        "colab": {}
      },
      "source": [
        "SMTP_SERVER = 'smtp.gmail.com'\n",
        "SMTP_PORT = 465\n",
        "SMTP_USER = input('아이디 : ')\n",
        "SMTP_PASSWORD = input('암호 : ')"
      ],
      "execution_count": 0,
      "outputs": []
    },
    {
      "cell_type": "code",
      "metadata": {
        "id": "580rcFOanPvO",
        "colab_type": "code",
        "colab": {}
      },
      "source": [
        "def send_mail(name, addr, contents, attachment = False):\n",
        "    msg = MIMEMultipart('alternative')\n",
        "\n",
        "    if attachment:\n",
        "        msg = MIMEMultipart('mixed')\n",
        "\n",
        "    msg['From'] = '951237@gmail.com <%s>' % SMTP_USER\n",
        "    msg['To'] = addr\n",
        "    msg['Subject'] = name + '님에게 메일이 도착했습니다.'\n",
        "\n",
        "    text = MIMEText(contents)\n",
        "    msg.attach(text)\n",
        "\n",
        "    if attachment:\n",
        "        from email.mime.base import MIMEBase\n",
        "        from email import encoders\n",
        "\n",
        "        file_data = MIMEBase('application', 'octet-stream')\n",
        "        f = open(attachment,'rb')\n",
        "        file_contents = f.read()\n",
        "        file_data.set_payload(file_contents)\n",
        "        encoders.encode_base64(file_data)\n",
        "\n",
        "        from os.path import basename\n",
        "        filename = basename(attachment)\n",
        "        file_data.add_header('content-Disposition', 'attachment', filename = filename)\n",
        "        msg.attach(file_data)\n",
        "\n",
        "        smtp = SMTP_SSL(SMTP_SERVER,SMTP_PORT)\n",
        "        smtp.login(SMTP_USER, SMTP_PASSWORD)\n",
        "        smtp.sendmail('951237@gmail.com', addr, msg.as_string())\n",
        "        smtp.close()\n",
        "\n"
      ],
      "execution_count": 0,
      "outputs": []
    },
    {
      "cell_type": "code",
      "metadata": {
        "id": "wqQbXWYIrBqP",
        "colab_type": "code",
        "colab": {}
      },
      "source": [
        ""
      ],
      "execution_count": 0,
      "outputs": []
    },
    {
      "cell_type": "markdown",
      "metadata": {
        "id": "SYKdDPeMR8Oa",
        "colab_type": "text"
      },
      "source": [
        "# 191127 파이선으로 엑셀다루기\n",
        "- 복습\n",
        "- 엑셀 다루기 기본\n",
        "- 여러 개의 엑셀 파일 하나로 합치기\n",
        "- 엑셀 정보 확인하여 메일 보내기"
      ]
    },
    {
      "cell_type": "markdown",
      "metadata": {
        "id": "8jJYTv5oSDCu",
        "colab_type": "text"
      },
      "source": [
        "## 복습"
      ]
    },
    {
      "cell_type": "markdown",
      "metadata": {
        "id": "HaLqDaGBXCAq",
        "colab_type": "text"
      },
      "source": [
        "### 리스트 출력"
      ]
    },
    {
      "cell_type": "code",
      "metadata": {
        "id": "e37G-SIFTZW4",
        "colab_type": "code",
        "colab": {}
      },
      "source": [
        "list1 = [1,2,3,4,5]"
      ],
      "execution_count": 0,
      "outputs": []
    },
    {
      "cell_type": "code",
      "metadata": {
        "colab_type": "code",
        "outputId": "e7bdd9b0-1477-45fe-b08e-542dbc7f4230",
        "id": "3PbB_PAQW7GO",
        "colab": {
          "base_uri": "https://localhost:8080/",
          "height": 35
        }
      },
      "source": [
        "print(list1)"
      ],
      "execution_count": 0,
      "outputs": [
        {
          "output_type": "stream",
          "text": [
            "[1, 2, 3, 4, 5]\n"
          ],
          "name": "stdout"
        }
      ]
    },
    {
      "cell_type": "markdown",
      "metadata": {
        "id": "3YEtT3HSW9na",
        "colab_type": "text"
      },
      "source": [
        "### 리스트 추가하기"
      ]
    },
    {
      "cell_type": "code",
      "metadata": {
        "id": "vljvlqd3VDNi",
        "colab_type": "code",
        "outputId": "24afb9db-6bae-49c4-960e-adb4260c85b8",
        "colab": {
          "base_uri": "https://localhost:8080/",
          "height": 35
        }
      },
      "source": [
        "print(list1)\n",
        "list1.append(6)\n",
        "print(list1)"
      ],
      "execution_count": 0,
      "outputs": [
        {
          "output_type": "stream",
          "text": [
            "[1, 2, 3, 4, 5, 6]\n"
          ],
          "name": "stdout"
        }
      ]
    },
    {
      "cell_type": "code",
      "metadata": {
        "id": "XnhtMdgGVYYq",
        "colab_type": "code",
        "outputId": "30d33497-7f7b-4168-dc3a-34dad350f6f5",
        "colab": {
          "base_uri": "https://localhost:8080/",
          "height": 125
        }
      },
      "source": [
        "for i in list1:\n",
        "    print(i)"
      ],
      "execution_count": 0,
      "outputs": [
        {
          "output_type": "stream",
          "text": [
            "1\n",
            "2\n",
            "3\n",
            "4\n",
            "5\n",
            "6\n"
          ],
          "name": "stdout"
        }
      ]
    },
    {
      "cell_type": "markdown",
      "metadata": {
        "id": "BgElhMhTWy-X",
        "colab_type": "text"
      },
      "source": [
        "### 반복문 - 이중리스트 출력"
      ]
    },
    {
      "cell_type": "code",
      "metadata": {
        "id": "8XPuJQSjVkO6",
        "colab_type": "code",
        "colab": {}
      },
      "source": [
        "list2 = [ [1,2], [3,4], [5, 6] ] #이중 리스트"
      ],
      "execution_count": 0,
      "outputs": []
    },
    {
      "cell_type": "code",
      "metadata": {
        "id": "qAoVXNWKWMd5",
        "colab_type": "code",
        "outputId": "024d27cb-9a45-45e5-c4cc-64d20b20e020",
        "colab": {
          "base_uri": "https://localhost:8080/",
          "height": 179
        }
      },
      "source": [
        "for lst in list2:\n",
        "    for i in lst:\n",
        "        print(i) \n",
        "    print( '-' * 10)"
      ],
      "execution_count": 0,
      "outputs": [
        {
          "output_type": "stream",
          "text": [
            "1\n",
            "2\n",
            "----------\n",
            "3\n",
            "4\n",
            "----------\n",
            "5\n",
            "6\n",
            "----------\n"
          ],
          "name": "stdout"
        }
      ]
    },
    {
      "cell_type": "markdown",
      "metadata": {
        "id": "7pOT4yDTWP_5",
        "colab_type": "text"
      },
      "source": [
        "### continue"
      ]
    },
    {
      "cell_type": "code",
      "metadata": {
        "id": "FMREj--XXGRG",
        "colab_type": "code",
        "outputId": "0f4cf6f9-f669-4533-abcf-f078c5e52a92",
        "colab": {
          "base_uri": "https://localhost:8080/",
          "height": 107
        }
      },
      "source": [
        "list1 = [1, 2, 3, 4, 5, 6]\n",
        "\n",
        "for num in list1:\n",
        "    if num/2 == 1:\n",
        "        continue\n",
        "    print(num)"
      ],
      "execution_count": 0,
      "outputs": [
        {
          "output_type": "stream",
          "text": [
            "1\n",
            "3\n",
            "4\n",
            "5\n",
            "6\n"
          ],
          "name": "stdout"
        }
      ]
    },
    {
      "cell_type": "code",
      "metadata": {
        "id": "9J-gepRMXVNK",
        "colab_type": "code",
        "colab": {}
      },
      "source": [
        ""
      ],
      "execution_count": 0,
      "outputs": []
    },
    {
      "cell_type": "markdown",
      "metadata": {
        "id": "LGXV0ytQXjuR",
        "colab_type": "text"
      },
      "source": [
        "### 객체란 무엇인가?\n",
        "- 강아지 100개를 만든다고 가정했을 때, 100마리를 모두 코딩할 수는 없음.\n",
        "- 이때 설계도를 만들면 쉽게 생성가능한데 이때, 설계도를 클래스\n",
        "- 설계도를 이용해서 강아지를 만드는 것을 '인스턴스화'\n",
        "- 강아지를 만들었다면 그 강아지는 '객체'\n",
        "- 객체의 값 가져오기\n",
        "    - bobby.eyecolor\n",
        "    - bobby.bodycolor\n",
        "- 객체의 실행\n",
        "    - bobby.sit()\n",
        "    - bobby.laydown()"
      ]
    },
    {
      "cell_type": "markdown",
      "metadata": {
        "id": "Pgt01_4YXlkh",
        "colab_type": "text"
      },
      "source": [
        "## 엑셀 다루기\n",
        "- 특정셀 가져오기\n"
      ]
    },
    {
      "cell_type": "markdown",
      "metadata": {
        "id": "4qN5bhLWZCf1",
        "colab_type": "text"
      },
      "source": [
        "#### 라이브러리 가져오기"
      ]
    },
    {
      "cell_type": "code",
      "metadata": {
        "id": "UMhqZOTLaTHu",
        "colab_type": "code",
        "colab": {}
      },
      "source": [
        "from openpyxl import load_workbook"
      ],
      "execution_count": 0,
      "outputs": []
    },
    {
      "cell_type": "markdown",
      "metadata": {
        "id": "0aXK4K0ec9Sx",
        "colab_type": "text"
      },
      "source": [
        "### 엑셀파일 불러오기"
      ]
    },
    {
      "cell_type": "markdown",
      "metadata": {
        "id": "kyv7vrM9dC55",
        "colab_type": "text"
      },
      "source": [
        "#### 파일 패스설정"
      ]
    },
    {
      "cell_type": "code",
      "metadata": {
        "id": "QlyV8CyqaXx5",
        "colab_type": "code",
        "colab": {}
      },
      "source": [
        "filepath = '/content/drive/My Drive/data/songpy/수강생_결제정보.xlsx'"
      ],
      "execution_count": 0,
      "outputs": []
    },
    {
      "cell_type": "markdown",
      "metadata": {
        "id": "dv5GPpzDdGgp",
        "colab_type": "text"
      },
      "source": [
        "#### 워크북 설정하기"
      ]
    },
    {
      "cell_type": "code",
      "metadata": {
        "id": "9g3i0uhBa2Mc",
        "colab_type": "code",
        "colab": {}
      },
      "source": [
        "workbook = load_workbook(filepath, read_only= False)"
      ],
      "execution_count": 0,
      "outputs": []
    },
    {
      "cell_type": "markdown",
      "metadata": {
        "id": "2hbmGXoPdLjx",
        "colab_type": "text"
      },
      "source": [
        "#### 시트 활성화"
      ]
    },
    {
      "cell_type": "code",
      "metadata": {
        "id": "mWtxroNNbAda",
        "colab_type": "code",
        "colab": {}
      },
      "source": [
        "sheet = workbook.active"
      ],
      "execution_count": 0,
      "outputs": []
    },
    {
      "cell_type": "markdown",
      "metadata": {
        "id": "YTiOa40SdONZ",
        "colab_type": "text"
      },
      "source": [
        "### 엑셀 값 가져오기"
      ]
    },
    {
      "cell_type": "markdown",
      "metadata": {
        "id": "v52JSYgFdWRx",
        "colab_type": "text"
      },
      "source": [
        "#### 특정 셀값 불러오기"
      ]
    },
    {
      "cell_type": "code",
      "metadata": {
        "id": "F7rZGQdMbGSp",
        "colab_type": "code",
        "outputId": "dd8b5ece-8815-4ab9-ce1a-35fc42b922bf",
        "colab": {
          "base_uri": "https://localhost:8080/",
          "height": 35
        }
      },
      "source": [
        "print(sheet['A10'].value)"
      ],
      "execution_count": 0,
      "outputs": [
        {
          "output_type": "stream",
          "text": [
            "김종호\n"
          ],
          "name": "stdout"
        }
      ]
    },
    {
      "cell_type": "markdown",
      "metadata": {
        "id": "Q-1YYongbJMp",
        "colab_type": "text"
      },
      "source": [
        "#### 반복문 이용하여 모든 셀값 가져오기"
      ]
    },
    {
      "cell_type": "code",
      "metadata": {
        "id": "5TQpVJtid4II",
        "colab_type": "code",
        "outputId": "909a0791-8b1b-409a-a70e-f8fac80aacd9",
        "colab": {
          "base_uri": "https://localhost:8080/",
          "height": 1000
        }
      },
      "source": [
        "for row in sheet.iter_rows(): #iter_row()는 시트의 모든 값을 설정한다는 의미\n",
        "    for cell in row:\n",
        "        print(cell.value)"
      ],
      "execution_count": 0,
      "outputs": [
        {
          "output_type": "stream",
          "text": [
            "수강생 이름\n",
            "이메일\n",
            "수강신청일\n",
            "결제여부\n",
            "결제일\n",
            "이태화\n",
            "951237@gmail.com\n",
            "2017-10-12 00:00:00\n",
            "결제완료\n",
            "2017-10-12 00:00:00\n",
            "이정은\n",
            "951237@gmail.com\n",
            "2017-10-12 00:00:00\n",
            "결제완료\n",
            "2017-10-13 00:00:00\n",
            "김용성\n",
            "951237@gmail.com\n",
            "2017-10-12 00:00:00\n",
            "결제완료\n",
            "2017-10-13 00:00:00\n",
            "이은혜\n",
            "951237@gmail.com\n",
            "2017-10-12 00:00:00\n",
            "결제완료\n",
            "2017-10-12 00:00:00\n",
            "한웅희\n",
            "951237@gmail.com\n",
            "2017-10-12 00:00:00\n",
            "결제완료\n",
            "2017-10-15 00:00:00\n",
            "조윤장\n",
            "951237@gmail.com\n",
            "2017-10-13 00:00:00\n",
            "결제완료\n",
            "2017-10-20 00:00:00\n",
            "정성수\n",
            "951237@gmail.com\n",
            "2017-10-09 00:00:00\n",
            "미결제\n",
            "김기태\n",
            "951237@gmail.com\n",
            "2017-10-30 00:00:00\n",
            "미결제\n",
            "김종호\n",
            "951237@gmail.com\n",
            "2017-10-01 00:00:00\n",
            "미결제\n",
            "이하니\n",
            "951237@gmail.com\n",
            "2017-10-04 00:00:00\n",
            "결제완료\n",
            "2017-10-05 00:00:00\n",
            "황지혜\n",
            "951237@gmail.com\n",
            "2017-10-05 00:00:00\n",
            "미결제\n",
            "김해인\n",
            "951237@gmail.com\n",
            "2017-10-05 00:00:00\n",
            "결제완료\n",
            "2017-10-05 00:00:00\n",
            "이지영\n",
            "951237@gmail.com\n",
            "2017-10-21 00:00:00\n",
            "결제완료\n",
            "2017-10-22 00:00:00\n",
            "권진영\n",
            "951237@gmail.com\n",
            "2017-10-22 00:00:00\n",
            "미결제\n",
            "권민재\n",
            "951237@gmail.com\n",
            "2017-10-20 00:00:00\n",
            "미결제\n",
            "최두성\n",
            "951237@gmail.com\n",
            "2017-10-10 00:00:00\n",
            "결제완료\n",
            "2017-10-10 00:00:00\n"
          ],
          "name": "stdout"
        }
      ]
    },
    {
      "cell_type": "markdown",
      "metadata": {
        "id": "sD82DSYvfFPG",
        "colab_type": "text"
      },
      "source": [
        "#### 8행의 값을 출력"
      ]
    },
    {
      "cell_type": "code",
      "metadata": {
        "id": "XZjQIA_KeGYR",
        "colab_type": "code",
        "outputId": "34e40275-c33f-46a6-c240-a514b4b50b13",
        "colab": {
          "base_uri": "https://localhost:8080/",
          "height": 89
        }
      },
      "source": [
        "row_8 = sheet[8]\n",
        "\n",
        "for cell in row_8:\n",
        "    print(cell.value)"
      ],
      "execution_count": 0,
      "outputs": [
        {
          "output_type": "stream",
          "text": [
            "정성수\n",
            "951237@gmail.com\n",
            "2017-10-09 00:00:00\n",
            "미결제\n"
          ],
          "name": "stdout"
        }
      ]
    },
    {
      "cell_type": "markdown",
      "metadata": {
        "id": "Peyvt5IFe_tK",
        "colab_type": "text"
      },
      "source": [
        "#### 4행부터 8행까지 출력"
      ]
    },
    {
      "cell_type": "code",
      "metadata": {
        "id": "Hr5sY5GFfSfJ",
        "colab_type": "code",
        "outputId": "e61b2729-e735-4a69-c3ac-4528d8d381db",
        "colab": {
          "base_uri": "https://localhost:8080/",
          "height": 557
        }
      },
      "source": [
        "row_4_8 = sheet[4:8]\n",
        "\n",
        "for row in row_4_8:\n",
        "    print('-' * 20)\n",
        "    for cell in row:\n",
        "        print(cell.value)"
      ],
      "execution_count": 0,
      "outputs": [
        {
          "output_type": "stream",
          "text": [
            "--------------------\n",
            "김용성\n",
            "951237@gmail.com\n",
            "2017-10-12 00:00:00\n",
            "결제완료\n",
            "2017-10-13 00:00:00\n",
            "--------------------\n",
            "이은혜\n",
            "951237@gmail.com\n",
            "2017-10-12 00:00:00\n",
            "결제완료\n",
            "2017-10-12 00:00:00\n",
            "--------------------\n",
            "한웅희\n",
            "951237@gmail.com\n",
            "2017-10-12 00:00:00\n",
            "결제완료\n",
            "2017-10-15 00:00:00\n",
            "--------------------\n",
            "조윤장\n",
            "951237@gmail.com\n",
            "2017-10-13 00:00:00\n",
            "결제완료\n",
            "2017-10-20 00:00:00\n",
            "--------------------\n",
            "정성수\n",
            "951237@gmail.com\n",
            "2017-10-09 00:00:00\n",
            "미결제\n",
            "None\n"
          ],
          "name": "stdout"
        }
      ]
    },
    {
      "cell_type": "markdown",
      "metadata": {
        "id": "RCcV9jdBfj75",
        "colab_type": "text"
      },
      "source": [
        "#### 열을 출력"
      ]
    },
    {
      "cell_type": "code",
      "metadata": {
        "id": "QtjMtAGtf_FB",
        "colab_type": "code",
        "outputId": "1136ae7c-3ec0-46b8-8377-8cbc4098aec0",
        "colab": {
          "base_uri": "https://localhost:8080/",
          "height": 323
        }
      },
      "source": [
        "workbook = load_workbook(filepath, read_only= False)\n",
        "sheet = workbook.active\n",
        "\n",
        "col_a = sheet['A']\n",
        "\n",
        "for cell in col_a:\n",
        "    print(cell.value)"
      ],
      "execution_count": 0,
      "outputs": [
        {
          "output_type": "stream",
          "text": [
            "수강생 이름\n",
            "이태화\n",
            "이정은\n",
            "김용성\n",
            "이은혜\n",
            "한웅희\n",
            "조윤장\n",
            "정성수\n",
            "김기태\n",
            "김종호\n",
            "이하니\n",
            "황지혜\n",
            "김해인\n",
            "이지영\n",
            "권진영\n",
            "권민재\n",
            "최두성\n"
          ],
          "name": "stdout"
        }
      ]
    },
    {
      "cell_type": "markdown",
      "metadata": {
        "id": "61salQQbhnN6",
        "colab_type": "text"
      },
      "source": [
        "### 엑셀 값 쓰기"
      ]
    },
    {
      "cell_type": "code",
      "metadata": {
        "id": "mftNE4uvhq3Q",
        "colab_type": "code",
        "colab": {}
      },
      "source": [
        "from openpyxl import Workbook, load_workbook"
      ],
      "execution_count": 0,
      "outputs": []
    },
    {
      "cell_type": "markdown",
      "metadata": {
        "id": "2G1S7IePi4yq",
        "colab_type": "text"
      },
      "source": [
        "#### 워크북(엑셀파일) 만들기"
      ]
    },
    {
      "cell_type": "code",
      "metadata": {
        "id": "_G6lX06NhxNR",
        "colab_type": "code",
        "colab": {}
      },
      "source": [
        "workbook = Workbook()"
      ],
      "execution_count": 0,
      "outputs": []
    },
    {
      "cell_type": "markdown",
      "metadata": {
        "id": "tdjoc7_Zi-fo",
        "colab_type": "text"
      },
      "source": [
        "#### 엑셀파일에서 시트 생성하기"
      ]
    },
    {
      "cell_type": "code",
      "metadata": {
        "id": "gVodzbtph4IB",
        "colab_type": "code",
        "colab": {}
      },
      "source": [
        "sheet = workbook.create_sheet()"
      ],
      "execution_count": 0,
      "outputs": []
    },
    {
      "cell_type": "markdown",
      "metadata": {
        "id": "s9q1l7yajDtx",
        "colab_type": "text"
      },
      "source": [
        "#### 시트에 값을 쓰기"
      ]
    },
    {
      "cell_type": "code",
      "metadata": {
        "id": "PYryVtIKiAuB",
        "colab_type": "code",
        "colab": {}
      },
      "source": [
        "sheet['A1'] = '첫번째 값'"
      ],
      "execution_count": 0,
      "outputs": []
    },
    {
      "cell_type": "markdown",
      "metadata": {
        "id": "CnxB6hwqjNOg",
        "colab_type": "text"
      },
      "source": [
        "#### 파일 저장하기"
      ]
    },
    {
      "cell_type": "code",
      "metadata": {
        "id": "wjX8AGmtiFWZ",
        "colab_type": "code",
        "colab": {}
      },
      "source": [
        "workbook.save('/content/drive/My Drive/data/songpy/first_workbook01.xlsx')"
      ],
      "execution_count": 0,
      "outputs": []
    },
    {
      "cell_type": "markdown",
      "metadata": {
        "id": "hcjSnI_PiOpb",
        "colab_type": "text"
      },
      "source": [
        "#### 값 추가하기"
      ]
    },
    {
      "cell_type": "code",
      "metadata": {
        "id": "wYcDR8F8lIFt",
        "colab_type": "code",
        "colab": {}
      },
      "source": [
        "filepath = '/content/drive/My Drive/data/songpy/first_workbook01.xlsx'\n",
        "workbook = load_workbook(filepath, read_only=False)\n",
        "sheet = workbook.active\n",
        "\n",
        "sheet.append(['하나', '둘', '셋', '넷'])\n",
        "\n",
        "workbook.save(filepath)"
      ],
      "execution_count": 0,
      "outputs": []
    },
    {
      "cell_type": "code",
      "metadata": {
        "id": "FyKpxyuClrXA",
        "colab_type": "code",
        "colab": {}
      },
      "source": [
        "filepath = '/content/drive/My Drive/data/songpy/first_workbook01.xlsx'\n",
        "workbook = load_workbook(filepath, read_only=False)\n",
        "sheet = workbook.active\n",
        "\n",
        "for i in range(1,6):\n",
        "    sheet.append(['하나', '둘', '셋', '넷'])\n",
        "\n",
        "workbook.save(filepath)"
      ],
      "execution_count": 0,
      "outputs": []
    },
    {
      "cell_type": "code",
      "metadata": {
        "id": "y0B8mrmKl4L4",
        "colab_type": "code",
        "colab": {}
      },
      "source": [
        ""
      ],
      "execution_count": 0,
      "outputs": []
    },
    {
      "cell_type": "markdown",
      "metadata": {
        "id": "loPSQzrhmMd5",
        "colab_type": "text"
      },
      "source": [
        "### 미션 - 엑셀의 파일을 하나의 파일로 모으기"
      ]
    },
    {
      "cell_type": "markdown",
      "metadata": {
        "id": "G59xcL9-mpMg",
        "colab_type": "text"
      },
      "source": [
        "##### 라이브러리 가져오기"
      ]
    },
    {
      "cell_type": "code",
      "metadata": {
        "id": "mzwsXNqImU9N",
        "colab_type": "code",
        "colab": {}
      },
      "source": [
        "from os import listdir #경로의 파일을 가져오기 라이브러리\n",
        "from openpyxl import load_workbook, Workbook"
      ],
      "execution_count": 0,
      "outputs": []
    },
    {
      "cell_type": "markdown",
      "metadata": {
        "id": "LygYQY-gnNlR",
        "colab_type": "text"
      },
      "source": [
        "#### 현재경로 설정 / 파일 생성하기 및 시트 활성화"
      ]
    },
    {
      "cell_type": "code",
      "metadata": {
        "id": "uGeVvjICmiug",
        "colab_type": "code",
        "colab": {}
      },
      "source": [
        "files = listdir('/content/drive/My Drive/data/songpy/worklist/')\n",
        "result_workbook = Workbook()\n",
        "result_sheet = result_workbook.active\n"
      ],
      "execution_count": 0,
      "outputs": []
    },
    {
      "cell_type": "markdown",
      "metadata": {
        "id": "lpRVG6N8ng7w",
        "colab_type": "text"
      },
      "source": [
        "#### 가져올 파일 조건설정하기"
      ]
    },
    {
      "cell_type": "code",
      "metadata": {
        "id": "hpcGfIgznDqo",
        "colab_type": "code",
        "colab": {}
      },
      "source": [
        "for myfile in files:\n",
        "    if myfile[-4:] != 'xlsx':\n",
        "        continue\n",
        "\n",
        "    tg_workbook = load_workbook('/content/drive/My Drive/data/songpy/worklist/{}'.format(myfile), read_only=True)\n",
        "    tg_sheet = tg_workbook.active\n",
        "\n",
        "    for row in tg_sheet.iter_rows():\n",
        "        row_data = []\n",
        "        for cell in row:\n",
        "            row_data.append(cell.value)\n",
        "        result_sheet.append(row_data)\n",
        "\n",
        "result_workbook.save('/content/drive/My Drive/data/songpy/worklist/result.xlsx')\n"
      ],
      "execution_count": 0,
      "outputs": []
    },
    {
      "cell_type": "code",
      "metadata": {
        "id": "xBjUboHvpYqf",
        "colab_type": "code",
        "colab": {}
      },
      "source": [
        ""
      ],
      "execution_count": 0,
      "outputs": []
    }
  ]
}
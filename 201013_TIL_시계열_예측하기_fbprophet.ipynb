{
  "nbformat": 4,
  "nbformat_minor": 0,
  "metadata": {
    "colab": {
      "name": "201013_TIL_시계열 예측하기 fbprophet.ipynb",
      "provenance": [],
      "mount_file_id": "1zjSrUzc1xZa31SmnO3mxGtAZ3zIuXFpZ",
      "authorship_tag": "ABX9TyPWN2/SlrzB3me2cQqGj7FO",
      "include_colab_link": true
    },
    "kernelspec": {
      "name": "python3",
      "display_name": "Python 3"
    }
  },
  "cells": [
    {
      "cell_type": "markdown",
      "metadata": {
        "id": "view-in-github",
        "colab_type": "text"
      },
      "source": [
        "<a href=\"https://colab.research.google.com/github/951237/TIL/blob/master/201013_TIL_%EC%8B%9C%EA%B3%84%EC%97%B4_%EC%98%88%EC%B8%A1%ED%95%98%EA%B8%B0_fbprophet.ipynb\" target=\"_parent\"><img src=\"https://colab.research.google.com/assets/colab-badge.svg\" alt=\"Open In Colab\"/></a>"
      ]
    },
    {
      "cell_type": "markdown",
      "metadata": {
        "id": "cU3C4dosOJgK"
      },
      "source": [
        "# 배추가격 예상하기 feat fbprophet \n",
        "- 배추가격의 주기를 이용하여 데이터 예측\n"
      ]
    },
    {
      "cell_type": "code",
      "metadata": {
        "id": "fUex5N7QObcm"
      },
      "source": [
        "import pandas as pd\n",
        "from fbprophet import Prophet\n",
        "import numpy as np\n",
        "import matplotlib.pyplot as plt"
      ],
      "execution_count": 37,
      "outputs": []
    },
    {
      "cell_type": "code",
      "metadata": {
        "id": "qalilkxXQihC"
      },
      "source": [
        "# 데이터 프레임 기본 정보 출력\n",
        "def get_info(df):\n",
        "    print(df.shape, '\\n')\n",
        "    print(df.head(), '\\n')\n",
        "    print(df.tail(), '\\n')\n",
        "    print(df.dtypes)"
      ],
      "execution_count": 51,
      "outputs": []
    },
    {
      "cell_type": "code",
      "metadata": {
        "id": "g388L0TGVF49"
      },
      "source": [
        "PATH_FILE = \"/content/drive/My Drive/data/배추가격예측하기_배추가격 및 기온정보/배추가격_데이터_예제_price data.csv의 사본\"\n",
        "\n",
        "# 데이터 불러오기\n",
        "df = pd.read_csv(PATH_FILE)\n",
        "\n",
        "# 날짜로 선언하기\n",
        "df['year'] = pd.to_datetime(df['year'], format='%Y%m%d')"
      ],
      "execution_count": 66,
      "outputs": []
    },
    {
      "cell_type": "code",
      "metadata": {
        "id": "upRwt1v6RSQx"
      },
      "source": [
        "# 데이터 프레임에서 날짜와 가격정보만으로 데이터 프레임 생성\n",
        "# df_fc = pd.DataFrame({'ds' : df['year'], 'y' : df['avgPrice']})\n",
        "df_trunc = df[['year', 'avgPrice']]"
      ],
      "execution_count": 92,
      "outputs": []
    },
    {
      "cell_type": "code",
      "metadata": {
        "id": "vLFSnyKCcdgQ",
        "outputId": "f9e80519-c1c9-4970-db5a-47e6e1e59cea",
        "colab": {
          "base_uri": "https://localhost:8080/",
          "height": 130
        }
      },
      "source": [
        "df_trunc['year'][:16-05-31]"
      ],
      "execution_count": 97,
      "outputs": [
        {
          "output_type": "error",
          "ename": "SyntaxError",
          "evalue": "ignored",
          "traceback": [
            "\u001b[0;36m  File \u001b[0;32m\"<ipython-input-97-c304b7ad5138>\"\u001b[0;36m, line \u001b[0;32m1\u001b[0m\n\u001b[0;31m    df_trunc['year'][:16-05-31]\u001b[0m\n\u001b[0m                          ^\u001b[0m\n\u001b[0;31mSyntaxError\u001b[0m\u001b[0;31m:\u001b[0m invalid token\n"
          ]
        }
      ]
    },
    {
      "cell_type": "code",
      "metadata": {
        "id": "qcxzqDT8ZHt3",
        "outputId": "f53c4905-9c5e-419e-f484-5015698f0660",
        "colab": {
          "base_uri": "https://localhost:8080/",
          "height": 221
        }
      },
      "source": [
        "# 훈련데이터 생성하기\n",
        "df_fc['ds'][:2014-6-31]"
      ],
      "execution_count": 93,
      "outputs": [
        {
          "output_type": "execute_result",
          "data": {
            "text/plain": [
              "0      2010-01-01\n",
              "1      2010-01-02\n",
              "2      2010-01-03\n",
              "3      2010-01-04\n",
              "4      2010-01-05\n",
              "          ...    \n",
              "1972   2015-05-27\n",
              "1973   2015-05-28\n",
              "1974   2015-05-29\n",
              "1975   2015-05-30\n",
              "1976   2015-05-31\n",
              "Name: ds, Length: 1977, dtype: datetime64[ns]"
            ]
          },
          "metadata": {
            "tags": []
          },
          "execution_count": 93
        }
      ]
    },
    {
      "cell_type": "code",
      "metadata": {
        "id": "-xQkKZkSWnYY",
        "outputId": "7f5e3186-78d5-4829-9f05-b44bb8bd3954",
        "colab": {
          "base_uri": "https://localhost:8080/",
          "height": 71
        }
      },
      "source": [
        "# 주기를 1년으로 알림.\n",
        "m = Prophet(yearly_seasonality=True)\n",
        "m.fit(df_fc); # 훈련시키기"
      ],
      "execution_count": 40,
      "outputs": [
        {
          "output_type": "stream",
          "text": [
            "INFO:numexpr.utils:NumExpr defaulting to 2 threads.\n",
            "INFO:fbprophet:Disabling daily seasonality. Run prophet with daily_seasonality=True to override this.\n"
          ],
          "name": "stderr"
        }
      ]
    },
    {
      "cell_type": "code",
      "metadata": {
        "id": "h8gAank4W_mF"
      },
      "source": [
        "# 예측하기 \n",
        "future = m.make_future_dataframe(periods = 360) # 기간설정하기\n",
        "forecast = m.predict(future) # 예측 실행하기 "
      ],
      "execution_count": 47,
      "outputs": []
    },
    {
      "cell_type": "code",
      "metadata": {
        "id": "xgZmRk22XNjQ"
      },
      "source": [
        "# 결과 그래프로 표시하기\n",
        "m.plot(forecast)"
      ],
      "execution_count": null,
      "outputs": []
    },
    {
      "cell_type": "code",
      "metadata": {
        "id": "dBYMR4bTXjzC"
      },
      "source": [
        "# 세부항목 그래프로 표시\n",
        "m.plot_components(forecast)"
      ],
      "execution_count": null,
      "outputs": []
    },
    {
      "cell_type": "markdown",
      "metadata": {
        "id": "2l1dQ4voQn6U"
      },
      "source": [
        "# 코딩 연습장"
      ]
    },
    {
      "cell_type": "code",
      "metadata": {
        "id": "uz3b32XyQ2X5",
        "outputId": "11299608-b414-490c-ab5b-b7c08b12feb0",
        "colab": {
          "base_uri": "https://localhost:8080/",
          "height": 306
        }
      },
      "source": [
        "get_info(df_test)"
      ],
      "execution_count": 71,
      "outputs": [
        {
          "output_type": "stream",
          "text": [
            "(1973,) \n",
            "\n",
            "0   2010-01-01\n",
            "1   2010-01-02\n",
            "2   2010-01-03\n",
            "3   2010-01-04\n",
            "4   2010-01-05\n",
            "Name: ds, dtype: datetime64[ns] \n",
            "\n",
            "1968   2015-05-23\n",
            "1969   2015-05-24\n",
            "1970   2015-05-25\n",
            "1971   2015-05-26\n",
            "1972   2015-05-27\n",
            "Name: ds, dtype: datetime64[ns] \n",
            "\n",
            "datetime64[ns]\n"
          ],
          "name": "stdout"
        }
      ]
    },
    {
      "cell_type": "code",
      "metadata": {
        "id": "1_zI4BmLbVkj"
      },
      "source": [
        "df_trunc = df[['year', 'avgPrice']]"
      ],
      "execution_count": 91,
      "outputs": []
    },
    {
      "cell_type": "code",
      "metadata": {
        "id": "Jlu5fIlQcP2r",
        "outputId": "14c07cf8-1b64-4d3f-f547-0f4ed4e76455",
        "colab": {
          "base_uri": "https://localhost:8080/",
          "height": 408
        }
      },
      "source": [
        "get_info(df)"
      ],
      "execution_count": 90,
      "outputs": [
        {
          "output_type": "stream",
          "text": [
            "(2922, 6) \n",
            "\n",
            "        year  avgTemp  minTemp  maxTemp  rainFall  avgPrice\n",
            "0 2010-01-01     -4.9    -11.0      0.9       0.0      2123\n",
            "1 2010-01-02     -3.1     -5.5      5.5       0.8      2123\n",
            "2 2010-01-03     -2.9     -6.9      1.4       0.0      2123\n",
            "3 2010-01-04     -1.8     -5.1      2.2       5.9      2020\n",
            "4 2010-01-05     -5.2     -8.7     -1.8       0.7      2060 \n",
            "\n",
            "           year  avgTemp  minTemp  maxTemp  rainFall  avgPrice\n",
            "2917 2017-12-27     -3.9     -8.0      0.7       0.0      2865\n",
            "2918 2017-12-28     -1.5     -6.9      3.7       0.0      2884\n",
            "2919 2017-12-29      2.9     -2.1      8.0       0.0      2901\n",
            "2920 2017-12-30      2.9     -1.6      7.1       0.6      2901\n",
            "2921 2017-12-31      2.1     -2.0      5.8       0.4      2901 \n",
            "\n",
            "year        datetime64[ns]\n",
            "avgTemp            float64\n",
            "minTemp            float64\n",
            "maxTemp            float64\n",
            "rainFall           float64\n",
            "avgPrice             int64\n",
            "dtype: object\n"
          ],
          "name": "stdout"
        }
      ]
    },
    {
      "cell_type": "code",
      "metadata": {
        "id": "8PX07hTZRPw2"
      },
      "source": [
        "time = np.arange(0, len(df))\n",
        "price = df['avgPrice'].values\n",
        "\n",
        "fx = np.linspace(0, time[-1], 1000)"
      ],
      "execution_count": 19,
      "outputs": []
    },
    {
      "cell_type": "code",
      "metadata": {
        "id": "mXBvQLAiScDF"
      },
      "source": [
        "def error(f, x, y):\n",
        "    return np.sqrt(np.mean((f(x)-y)**2))"
      ],
      "execution_count": 21,
      "outputs": []
    },
    {
      "cell_type": "code",
      "metadata": {
        "id": "EdHq3-D_Sw93",
        "outputId": "e8fef9d2-67ae-4797-d118-85ac1263a504",
        "colab": {
          "base_uri": "https://localhost:8080/",
          "height": 85
        }
      },
      "source": [
        "fp1 = np.polyfit(time, price, 1)\n",
        "f1 = np.poly1d(fp1)\n",
        "\n",
        "fp2 = np.polyfit(time, price, 2)\n",
        "f2 = np.poly1d(fp2)\n",
        "\n",
        "fp3 = np.polyfit(time, price, 3)\n",
        "f3 = np.poly1d(fp3)\n",
        "\n",
        "fp15 = np.polyfit(time, price, 15)\n",
        "f15 = np.poly1d(fp15)\n",
        "\n",
        "print(error(f1, time, price))\n",
        "print(error(f2, time, price))\n",
        "print(error(f3, time, price))\n",
        "print(error(f15, time, price))"
      ],
      "execution_count": 22,
      "outputs": [
        {
          "output_type": "stream",
          "text": [
            "1368.1063021406999\n",
            "1265.96445037655\n",
            "1265.3260005179134\n",
            "1015.208082282136\n"
          ],
          "name": "stdout"
        }
      ]
    },
    {
      "cell_type": "code",
      "metadata": {
        "id": "Hp8TLQ5gTcLe",
        "outputId": "3b868f4b-489d-4156-e6bf-f9363e6e9291",
        "colab": {
          "base_uri": "https://localhost:8080/",
          "height": 374
        }
      },
      "source": [
        "plt.figure(figsize=(10,6))\n",
        "plt.scatter(time, price, s=10)\n",
        "\n",
        "plt.plot(fx, f1(fx), lw = 4, label='f1')\n",
        "plt.plot(fx, f2(fx), lw = 4, label='f2')\n",
        "plt.plot(fx, f3(fx), lw = 4, label='f3')\n",
        "plt.plot(fx, f15(fx), lw = 4, label='f15')\n",
        "\n",
        "plt.grid(True, linestyle='-', color = '0.75')\n",
        "plt.legend(loc=2)\n",
        "plt.show()"
      ],
      "execution_count": 25,
      "outputs": [
        {
          "output_type": "display_data",
          "data": {
            "image/png": "[encoded data removed]",
            "text/plain": [
              "<Figure size 720x432 with 1 Axes>"
            ]
          },
          "metadata": {
            "tags": [],
            "needs_background": "light"
          }
        }
      ]
    },
    {
      "cell_type": "code",
      "metadata": {
        "id": "HKblsggRUJd7"
      },
      "source": [
        ""
      ],
      "execution_count": null,
      "outputs": []
    }
  ]
}
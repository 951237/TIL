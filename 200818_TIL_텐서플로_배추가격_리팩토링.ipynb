{
  "nbformat": 4,
  "nbformat_minor": 0,
  "metadata": {
    "colab": {
      "name": "200818_TIL_텐서플로_배추가격 리팩토링",
      "provenance": [],
      "collapsed_sections": [],
      "toc_visible": true,
      "mount_file_id": "1MmMeAV4ccGT2LQWhQqjldM6ycpQBNuVc",
      "authorship_tag": "ABX9TyNi2T1dSOmieKATG9eT8hxy",
      "include_colab_link": true
    },
    "kernelspec": {
      "name": "python3",
      "display_name": "Python 3"
    },
    "accelerator": "TPU"
  },
  "cells": [
    {
      "cell_type": "markdown",
      "metadata": {
        "id": "view-in-github",
        "colab_type": "text"
      },
      "source": [
        "<a href=\"https://colab.research.google.com/github/951237/TIL/blob/master/200818_TIL_%ED%85%90%EC%84%9C%ED%94%8C%EB%A1%9C_%EB%B0%B0%EC%B6%94%EA%B0%80%EA%B2%A9_%EB%A6%AC%ED%8C%A9%ED%86%A0%EB%A7%81.ipynb\" target=\"_parent\"><img src=\"https://colab.research.google.com/assets/colab-badge.svg\" alt=\"Open In Colab\"/></a>"
      ]
    },
    {
      "cell_type": "markdown",
      "metadata": {
        "id": "gtfubOpu1JSl",
        "colab_type": "text"
      },
      "source": [
        "# 배추가격 예상하기_리팩토링 200818"
      ]
    },
    {
      "cell_type": "markdown",
      "metadata": {
        "id": "9LuqYf6BYQJ7",
        "colab_type": "text"
      },
      "source": [
        "## 0. 라이브러리 호출"
      ]
    },
    {
      "cell_type": "code",
      "metadata": {
        "id": "aVmho5_4YmOt",
        "colab_type": "code",
        "colab": {}
      },
      "source": [
        "import tensorflow as tf\n",
        "import pandas as pd\n",
        "\n",
        "URL = \"/content/drive/My Drive/data/ML/배추가격_데이터_예제_price data.csv\""
      ],
      "execution_count": 3,
      "outputs": []
    },
    {
      "cell_type": "markdown",
      "metadata": {
        "id": "EGKp55cuYSi5",
        "colab_type": "text"
      },
      "source": [
        "## 1. 과거데이터 가져오기"
      ]
    },
    {
      "cell_type": "code",
      "metadata": {
        "id": "85hTmYAkYwc8",
        "colab_type": "code",
        "colab": {
          "base_uri": "https://localhost:8080/",
          "height": 204
        },
        "outputId": "7461612a-dadb-44ab-d6e5-d2c6f59f00b2"
      },
      "source": [
        "배추가격 = pd.read_csv(URL)\n",
        "배추가격.head()"
      ],
      "execution_count": 4,
      "outputs": [
        {
          "output_type": "execute_result",
          "data": {
            "text/html": [
              "<div>\n",
              "<style scoped>\n",
              "    .dataframe tbody tr th:only-of-type {\n",
              "        vertical-align: middle;\n",
              "    }\n",
              "\n",
              "    .dataframe tbody tr th {\n",
              "        vertical-align: top;\n",
              "    }\n",
              "\n",
              "    .dataframe thead th {\n",
              "        text-align: right;\n",
              "    }\n",
              "</style>\n",
              "<table border=\"1\" class=\"dataframe\">\n",
              "  <thead>\n",
              "    <tr style=\"text-align: right;\">\n",
              "      <th></th>\n",
              "      <th>year</th>\n",
              "      <th>avgTemp</th>\n",
              "      <th>minTemp</th>\n",
              "      <th>maxTemp</th>\n",
              "      <th>rainFall</th>\n",
              "      <th>avgPrice</th>\n",
              "    </tr>\n",
              "  </thead>\n",
              "  <tbody>\n",
              "    <tr>\n",
              "      <th>0</th>\n",
              "      <td>20100101</td>\n",
              "      <td>-4.9</td>\n",
              "      <td>-11.0</td>\n",
              "      <td>0.9</td>\n",
              "      <td>0.0</td>\n",
              "      <td>2123</td>\n",
              "    </tr>\n",
              "    <tr>\n",
              "      <th>1</th>\n",
              "      <td>20100102</td>\n",
              "      <td>-3.1</td>\n",
              "      <td>-5.5</td>\n",
              "      <td>5.5</td>\n",
              "      <td>0.8</td>\n",
              "      <td>2123</td>\n",
              "    </tr>\n",
              "    <tr>\n",
              "      <th>2</th>\n",
              "      <td>20100103</td>\n",
              "      <td>-2.9</td>\n",
              "      <td>-6.9</td>\n",
              "      <td>1.4</td>\n",
              "      <td>0.0</td>\n",
              "      <td>2123</td>\n",
              "    </tr>\n",
              "    <tr>\n",
              "      <th>3</th>\n",
              "      <td>20100104</td>\n",
              "      <td>-1.8</td>\n",
              "      <td>-5.1</td>\n",
              "      <td>2.2</td>\n",
              "      <td>5.9</td>\n",
              "      <td>2020</td>\n",
              "    </tr>\n",
              "    <tr>\n",
              "      <th>4</th>\n",
              "      <td>20100105</td>\n",
              "      <td>-5.2</td>\n",
              "      <td>-8.7</td>\n",
              "      <td>-1.8</td>\n",
              "      <td>0.7</td>\n",
              "      <td>2060</td>\n",
              "    </tr>\n",
              "  </tbody>\n",
              "</table>\n",
              "</div>"
            ],
            "text/plain": [
              "       year  avgTemp  minTemp  maxTemp  rainFall  avgPrice\n",
              "0  20100101     -4.9    -11.0      0.9       0.0      2123\n",
              "1  20100102     -3.1     -5.5      5.5       0.8      2123\n",
              "2  20100103     -2.9     -6.9      1.4       0.0      2123\n",
              "3  20100104     -1.8     -5.1      2.2       5.9      2020\n",
              "4  20100105     -5.2     -8.7     -1.8       0.7      2060"
            ]
          },
          "metadata": {
            "tags": []
          },
          "execution_count": 4
        }
      ]
    },
    {
      "cell_type": "code",
      "metadata": {
        "id": "tU_c4rw9ZJmw",
        "colab_type": "code",
        "colab": {
          "base_uri": "https://localhost:8080/",
          "height": 34
        },
        "outputId": "4064c4c5-4485-44e7-e110-a7c38c5865dd"
      },
      "source": [
        "배추가격.columns"
      ],
      "execution_count": 5,
      "outputs": [
        {
          "output_type": "execute_result",
          "data": {
            "text/plain": [
              "Index(['year', 'avgTemp', 'minTemp', 'maxTemp', 'rainFall', 'avgPrice'], dtype='object')"
            ]
          },
          "metadata": {
            "tags": []
          },
          "execution_count": 5
        }
      ]
    },
    {
      "cell_type": "code",
      "metadata": {
        "id": "bvdnze6WZMsS",
        "colab_type": "code",
        "colab": {}
      },
      "source": [
        "i_val = 배추가격[['avgTemp', 'minTemp', 'maxTemp', 'rainFall']]\n",
        "d_val = 배추가격[['avgPrice']]"
      ],
      "execution_count": 6,
      "outputs": []
    },
    {
      "cell_type": "markdown",
      "metadata": {
        "id": "OXz5QwMAYS8d",
        "colab_type": "text"
      },
      "source": [
        "## 2. 모델 만들기"
      ]
    },
    {
      "cell_type": "code",
      "metadata": {
        "id": "Lq9Q4MJMZZnl",
        "colab_type": "code",
        "colab": {}
      },
      "source": [
        "X = tf.keras.layers.Input(shape=[4])\n",
        "Y = tf.keras.layers.Dense(1)(X)\n",
        "model = tf.keras.models.Model(X, Y)\n",
        "model.compile(loss=\"mse\", metrics=\"accuracy\")"
      ],
      "execution_count": 46,
      "outputs": []
    },
    {
      "cell_type": "markdown",
      "metadata": {
        "id": "6NAow8mBYTE5",
        "colab_type": "text"
      },
      "source": [
        "## 3. 모델 훈련하기(FIT)"
      ]
    },
    {
      "cell_type": "code",
      "metadata": {
        "id": "yv_x85k6Z_Tl",
        "colab_type": "code",
        "colab": {
          "base_uri": "https://localhost:8080/",
          "height": 34
        },
        "outputId": "ac13a5d9-3de9-4851-c17d-dde9f737a604"
      },
      "source": [
        "model.fit(i_val, d_val, epochs=5000, verbose=0)"
      ],
      "execution_count": 53,
      "outputs": [
        {
          "output_type": "execute_result",
          "data": {
            "text/plain": [
              "<tensorflow.python.keras.callbacks.History at 0x7fb268ceada0>"
            ]
          },
          "metadata": {
            "tags": []
          },
          "execution_count": 53
        }
      ]
    },
    {
      "cell_type": "markdown",
      "metadata": {
        "id": "H3T54BMXYTOU",
        "colab_type": "text"
      },
      "source": [
        "## 4. 모델 이용하기"
      ]
    },
    {
      "cell_type": "code",
      "metadata": {
        "id": "RzRKaSMuj0oH",
        "colab_type": "code",
        "colab": {
          "base_uri": "https://localhost:8080/",
          "height": 102
        },
        "outputId": "b7e576df-373a-4e5c-8d10-8ad2acf3b520"
      },
      "source": [
        "print(\"예측하기 : \", model.predict(i_val[0:5]))"
      ],
      "execution_count": 56,
      "outputs": [
        {
          "output_type": "stream",
          "text": [
            "예측하기 :  [[2732.7017]\n",
            " [2722.679 ]\n",
            " [2166.9175]\n",
            " [2223.0056]\n",
            " [1852.6792]]\n"
          ],
          "name": "stdout"
        }
      ]
    },
    {
      "cell_type": "code",
      "metadata": {
        "id": "PMnB93Ddj8Qr",
        "colab_type": "code",
        "colab": {
          "base_uri": "https://localhost:8080/",
          "height": 204
        },
        "outputId": "a4d3f433-f8ed-4bde-849d-bbf5b082f465"
      },
      "source": [
        "d_val[0:5]"
      ],
      "execution_count": 57,
      "outputs": [
        {
          "output_type": "execute_result",
          "data": {
            "text/html": [
              "<div>\n",
              "<style scoped>\n",
              "    .dataframe tbody tr th:only-of-type {\n",
              "        vertical-align: middle;\n",
              "    }\n",
              "\n",
              "    .dataframe tbody tr th {\n",
              "        vertical-align: top;\n",
              "    }\n",
              "\n",
              "    .dataframe thead th {\n",
              "        text-align: right;\n",
              "    }\n",
              "</style>\n",
              "<table border=\"1\" class=\"dataframe\">\n",
              "  <thead>\n",
              "    <tr style=\"text-align: right;\">\n",
              "      <th></th>\n",
              "      <th>avgPrice</th>\n",
              "    </tr>\n",
              "  </thead>\n",
              "  <tbody>\n",
              "    <tr>\n",
              "      <th>0</th>\n",
              "      <td>2123</td>\n",
              "    </tr>\n",
              "    <tr>\n",
              "      <th>1</th>\n",
              "      <td>2123</td>\n",
              "    </tr>\n",
              "    <tr>\n",
              "      <th>2</th>\n",
              "      <td>2123</td>\n",
              "    </tr>\n",
              "    <tr>\n",
              "      <th>3</th>\n",
              "      <td>2020</td>\n",
              "    </tr>\n",
              "    <tr>\n",
              "      <th>4</th>\n",
              "      <td>2060</td>\n",
              "    </tr>\n",
              "  </tbody>\n",
              "</table>\n",
              "</div>"
            ],
            "text/plain": [
              "   avgPrice\n",
              "0      2123\n",
              "1      2123\n",
              "2      2123\n",
              "3      2020\n",
              "4      2060"
            ]
          },
          "metadata": {
            "tags": []
          },
          "execution_count": 57
        }
      ]
    },
    {
      "cell_type": "markdown",
      "metadata": {
        "id": "oqhR-c9RyK5j",
        "colab_type": "text"
      },
      "source": [
        "### 결과 예측하기"
      ]
    },
    {
      "cell_type": "code",
      "metadata": {
        "id": "8HzJkHDh1buY",
        "colab_type": "code",
        "colab": {
          "base_uri": "https://localhost:8080/",
          "height": 34
        },
        "outputId": "b3c684e8-db7c-4c88-8e29-ce827d887ae6"
      },
      "source": [
        "data = [20, 5, 30, 4]\n",
        "avg_temp, min_temp, max_temp, rain_fall = data\n",
        "print(f\"평균온도 {avg_temp} / 최저온도 {min_temp} / 최고온도 {max_temp} / 강수량 {rain_fall}의 배추가격=\",model.predict(np.array(data).reshape(1,4)))\n"
      ],
      "execution_count": null,
      "outputs": [
        {
          "output_type": "stream",
          "text": [
            "평균온도 20 / 최저온도 5 / 최고온도 30 / 강수량 4의 배추가격= [[3896.393]]\n"
          ],
          "name": "stdout"
        }
      ]
    },
    {
      "cell_type": "markdown",
      "metadata": {
        "id": "cWvXbbbf333z",
        "colab_type": "text"
      },
      "source": [
        "### 모델 저장하기"
      ]
    },
    {
      "cell_type": "code",
      "metadata": {
        "id": "YRZFfG0i38ps",
        "colab_type": "code",
        "colab": {}
      },
      "source": [
        "model.save('/content/drive/My Drive/data/ML/배추가격예상하기/predic_cabbage.h5')"
      ],
      "execution_count": null,
      "outputs": []
    },
    {
      "cell_type": "markdown",
      "metadata": {
        "id": "NQQ_psVK9OO7",
        "colab_type": "text"
      },
      "source": [
        "### tensorflowjs변환\n",
        "참고 : https://www.tensorflow.org/js/tutorials/conversion/import_keras"
      ]
    },
    {
      "cell_type": "code",
      "metadata": {
        "id": "Apw3j3kC4JUu",
        "colab_type": "code",
        "colab": {}
      },
      "source": [
        "!pip install tensorflowjs"
      ],
      "execution_count": null,
      "outputs": []
    },
    {
      "cell_type": "code",
      "metadata": {
        "id": "3UP7cG0b8uiN",
        "colab_type": "code",
        "colab": {}
      },
      "source": [
        "import tensorflowjs as tfjs"
      ],
      "execution_count": null,
      "outputs": []
    },
    {
      "cell_type": "code",
      "metadata": {
        "id": "PMGgz8rF75c8",
        "colab_type": "code",
        "colab": {
          "base_uri": "https://localhost:8080/",
          "height": 71
        },
        "outputId": "221dd2b7-ed6f-4c91-f756-73322ed12cfd"
      },
      "source": [
        "\n",
        "tfjs.converters.save_keras_model(model, '/content/drive/My Drive/data/ML/배추가격예상하기_200507')"
      ],
      "execution_count": null,
      "outputs": [
        {
          "output_type": "stream",
          "text": [
            "/usr/local/lib/python3.6/dist-packages/tensorflowjs/converters/keras_h5_conversion.py:122: H5pyDeprecationWarning: The default file mode will change to 'r' (read-only) in h5py 3.0. To suppress this warning, pass the mode you need to h5py.File(), or set the global default h5.get_config().default_file_mode, or set the environment variable H5PY_DEFAULT_READONLY=1. Available modes are: 'r', 'r+', 'w', 'w-'/'x', 'a'. See the docs for details.\n",
            "  return h5py.File(h5file)\n"
          ],
          "name": "stderr"
        }
      ]
    },
    {
      "cell_type": "markdown",
      "metadata": {
        "id": "X4k5k7688S2D",
        "colab_type": "text"
      },
      "source": [
        "### 모델 불러오기\n",
        "참고 : https://www.tensorflow.org/tutorials/keras/save_and_load"
      ]
    },
    {
      "cell_type": "code",
      "metadata": {
        "id": "v-hYogWKB1qO",
        "colab_type": "code",
        "colab": {
          "base_uri": "https://localhost:8080/",
          "height": 204
        },
        "outputId": "fe739518-787d-417e-af0e-6bb1ed471017"
      },
      "source": [
        "from tensorflow.keras.models import Sequential\n",
        "from tensorflow.keras.layers import Dense\n",
        "from tensorflow import keras\n",
        "\n",
        "import tensorflow as tf\n",
        "import numpy as np\n",
        "import pandas as pd\n",
        "\n",
        "model = Sequential()\n",
        "model.add(Dense(1, input_dim = 4))\n",
        "\n",
        "# 가중치와 옵티마이저를 포함하여 정확히 동일한 모델을 다시 생성합니다\n",
        "new_model = keras.models.load_model('/content/drive/My Drive/data/ML/배추가격예상하기/predic_cabbage.h5')\n",
        "new_model.summary()\n",
        "\n",
        "data = [20, 5, 30, 4]\n",
        "avg_temp, min_temp, max_temp, rain_fall = data\n",
        "print(f\"평균온도 {avg_temp} / 최저온도 {min_temp} / 최고온도 {max_temp} / 강수량 {rain_fall}의 배추가격=\",model.predict(np.array(data).reshape(1,4)))\n"
      ],
      "execution_count": null,
      "outputs": [
        {
          "output_type": "stream",
          "text": [
            "Model: \"sequential_3\"\n",
            "_________________________________________________________________\n",
            "Layer (type)                 Output Shape              Param #   \n",
            "=================================================================\n",
            "dense_3 (Dense)              (None, 1)                 5         \n",
            "=================================================================\n",
            "Total params: 5\n",
            "Trainable params: 5\n",
            "Non-trainable params: 0\n",
            "_________________________________________________________________\n",
            "평균온도 20 / 최저온도 5 / 최고온도 30 / 강수량 4의 배추가격= [[-16.917898]]\n"
          ],
          "name": "stdout"
        }
      ]
    },
    {
      "cell_type": "code",
      "metadata": {
        "id": "fFXfNRafqce4",
        "colab_type": "code",
        "colab": {}
      },
      "source": [
        ""
      ],
      "execution_count": null,
      "outputs": []
    }
  ]
}
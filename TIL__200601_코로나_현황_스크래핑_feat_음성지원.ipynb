{
  "nbformat": 4,
  "nbformat_minor": 0,
  "metadata": {
    "colab": {
      "name": "TIL_ 200601_코로나 현황 스크래핑 feat 음성지원.ipynb",
      "provenance": [],
      "authorship_tag": "ABX9TyO3Z9YdKR3PVGNtArh9wlrs",
      "include_colab_link": true
    },
    "kernelspec": {
      "name": "python3",
      "display_name": "Python 3"
    }
  },
  "cells": [
    {
      "cell_type": "markdown",
      "metadata": {
        "id": "view-in-github",
        "colab_type": "text"
      },
      "source": [
        "<a href=\"https://colab.research.google.com/github/951237/TIL/blob/master/TIL__200601_%EC%BD%94%EB%A1%9C%EB%82%98_%ED%98%84%ED%99%A9_%EC%8A%A4%ED%81%AC%EB%9E%98%ED%95%91_feat_%EC%9D%8C%EC%84%B1%EC%A7%80%EC%9B%90.ipynb\" target=\"_parent\"><img src=\"https://colab.research.google.com/assets/colab-badge.svg\" alt=\"Open In Colab\"/></a>"
      ]
    },
    {
      "cell_type": "code",
      "metadata": {
        "id": "v2XtMP2YZ381",
        "colab_type": "code",
        "outputId": "b0aaa7a9-0726-4992-bfd6-0a08d19b8183",
        "colab": {
          "base_uri": "https://localhost:8080/",
          "height": 190
        }
      },
      "source": [
        "!pip install pyttsx3\n",
        "!pip install SpeechRecognition"
      ],
      "execution_count": 0,
      "outputs": [
        {
          "output_type": "stream",
          "text": [
            "Collecting pyttsx3\n",
            "  Downloading https://files.pythonhosted.org/packages/fd/4b/4981cc11f1a288fa44fb906e07786eaa081b1b42da3f6dce38fe16af0d99/pyttsx3-2.87-py3-none-any.whl\n",
            "Installing collected packages: pyttsx3\n",
            "Successfully installed pyttsx3-2.87\n",
            "Collecting SpeechRecognition\n",
            "\u001b[?25l  Downloading https://files.pythonhosted.org/packages/26/e1/7f5678cd94ec1234269d23756dbdaa4c8cfaed973412f88ae8adf7893a50/SpeechRecognition-3.8.1-py2.py3-none-any.whl (32.8MB)\n",
            "\u001b[K     |████████████████████████████████| 32.8MB 123kB/s \n",
            "\u001b[?25hInstalling collected packages: SpeechRecognition\n",
            "Successfully installed SpeechRecognition-3.8.1\n"
          ],
          "name": "stdout"
        }
      ]
    },
    {
      "cell_type": "code",
      "metadata": {
        "id": "RYsrEAKiZw9u",
        "colab_type": "code",
        "colab": {}
      },
      "source": [
        "import requests, json       # \n",
        "import pyttsx3      # 음성 글씨로 나타냄\n",
        "import re, threading, time  # threading 조사하기\n",
        "import speech_recognition as sr     # 음성인식 라이브러리"
      ],
      "execution_count": 0,
      "outputs": []
    },
    {
      "cell_type": "code",
      "metadata": {
        "id": "2bhmXUmKY2C3",
        "colab_type": "code",
        "colab": {}
      },
      "source": [
        "# api키 값 - parsehub.com 사이트 \n",
        "API_KEY = \" \"   \n",
        "PROJECT_TOKEN = \"\"\n",
        "RUN_TOKEN = \"\""
      ],
      "execution_count": 0,
      "outputs": []
    },
    {
      "cell_type": "code",
      "metadata": {
        "id": "-dw3CGi1Y4om",
        "colab_type": "code",
        "colab": {}
      },
      "source": [
        "# 클래스 생성\n",
        "class Data():\n",
        "    # 클래스 초기화\n",
        "    def __init__(self, api_key, project_token):\n",
        "        self.api_key = api_key      # api키\n",
        "        self.project_token = project_token  # 프로젝트 킥\n",
        "        self.param = {\n",
        "            \"api_key\" : self.api_key    # 파라미터 api키\n",
        "        }\n",
        "        self.data = self.get_data()     # 데이터 가져와서 데이터에 넣기. 함수가 아래에 정의 되어 있는데, 작동하네\n",
        "    \n",
        "    #  함수 - 데이터 가져오기\n",
        "    def get_data(self):\n",
        "        response = requests.get(f'https://www.parsehbu.com/api/v2/projects/{self.project_token}/last_ready_run/data', params=self.params)   # 리퀘스트로 내용가져오기\n",
        "        data = json.loads(response.text)    # 가져온 json 내용을 데이터 변수에 지정\n",
        "        return Data \n",
        "\n",
        "    # 함수 - 전체 확진자 데이터 얻기\n",
        "    def get_total_cases(self):\n",
        "        data = self.data['total']       # json파일에서 전체 값 가져오기\n",
        "\n",
        "        for content in data:        # 반복문\n",
        "            if content['name'] == 'Coronavirus Cases:':      # json에서 일치하는 값 가져오기\n",
        "                return content['value']     # 값 리턴\n",
        "\n",
        "    # 함수 - 전체 사망자 데이터 가져오기\n",
        "    def get_total_deaths(self):     \n",
        "        data = self.data['total']       # json에서 total 전체 가져오기\n",
        "\n",
        "        for content in data:        # 반복문\n",
        "            if content['name'] == 'Deaths:':    # 사망자 레이블 일치하는 경우\n",
        "                return content['value']     # 데이터 반환 숫자 반환\n",
        "\n",
        "        return \"0\"      # 해당없으면 0으로 반환\n",
        "\n",
        "    # 함수 나라가져오기\n",
        "    def get_country_data(self, country):\n",
        "        data = self.data['country']\n",
        "\n",
        "        for content in data:\n",
        "            if content['name'].lower() == country.lower():\n",
        "                return content\n",
        "        return \"0\"\n",
        "\n",
        "    def get_list_of_countries(self):\n",
        "        countries = []\n",
        "\n",
        "        for country in self.data['country']:\n",
        "            countries.append(country['name'].lower())\n",
        "\n",
        "    def update_data(self):\n",
        "        response = requests.post(f'https://www.parsehbu.com/api/v2/projects/{self.project_token}/run', params=self.params)\n",
        "\n",
        "        def poll():\n",
        "            time.sleep(0.1)\n",
        "            old_data = self.data\n",
        "            while True:\n",
        "                new_data = self.get_data()\n",
        "                if new_data != old_data:\n",
        "                    self.data = new_data\n",
        "                    print('Data updated')\n",
        "                    break\n",
        "            time.sleep(5)\n",
        "\n",
        "        t = threading.Thread(target=poll)\n",
        "        t.start()"
      ],
      "execution_count": 0,
      "outputs": []
    },
    {
      "cell_type": "code",
      "metadata": {
        "id": "qvskd1zhY8Oh",
        "colab_type": "code",
        "colab": {}
      },
      "source": [
        "def speak(text):\n",
        "    engine = pyttsx3.init()\n",
        "    engine.say(text)\n",
        "    engine.runAndWait()\n",
        "\n",
        "def get_audio():\n",
        "    r = sr.Recognizer()\n",
        "    with sr.Microphone() as source:\n",
        "        audio = r.listen(source)\n",
        "        said = \"\"\n",
        "\n",
        "    try:\n",
        "        said = r.recognize_google(audio)\n",
        "\n",
        "    except Exception as e:\n",
        "        print(\"Exception:\", str(e))\n",
        "\n",
        "    return said.lower()"
      ],
      "execution_count": 0,
      "outputs": []
    },
    {
      "cell_type": "code",
      "metadata": {
        "id": "9v25tibrlz1G",
        "colab_type": "code",
        "colab": {}
      },
      "source": [
        "def main():\n",
        "    print(\"Started Programs\")\n",
        "    data = Data(API_KEY, PROJECT_TOKEN)\n",
        "    END_PHRASE = 'stop'\n",
        "    country_list = data.get_list_of_countries()\n",
        "\n",
        "    TOTAL_PATTERNS = {\n",
        "        re.compile(\"[\\w\\s] + total [\\w\\s] + cases\") : data.get_total_cases,\n",
        "        re.compile(\"[\\w\\s] + total cases\") : data.get_total_cases,\n",
        "        re.compile(\"[\\w\\s] + total [\\w\\s] + deaths\") : data.get_total_deaths,\n",
        "        re.compile(\"[\\w\\s] + total deaths\") : data.get_total_deaths\n",
        "    }\n",
        "\n",
        "    COUNTRY_PATTERNS = {\n",
        "        re.compile(\"[\\w\\s] + cases [\\w\\s] + \") : lambda country : data.get_countries_data(country)['total_cases'],\n",
        "        re.compile(\"[\\w\\s] + deaths [\\w\\s] + \") : lambda country : data.get_countries_data(country)['total_deaths']\n",
        "    }\n",
        "\n",
        "    UPDATE_COMMAND = \"update\"\n",
        "\n",
        "    while True:\n",
        "        print(\"Listening...\")\n",
        "        text = get_audio()\n",
        "        print(text)\n",
        "        result = None\n",
        "\n",
        "        for pattern, func in COUNTRY_PATTERNS.items():\n",
        "            if pattern.match(text):\n",
        "                words = set(text.split(\" \"))\n",
        "                for country in country_list:\n",
        "                    if country in words:\n",
        "                        result = func(country)\n",
        "                        break\n",
        "        \n",
        "        for pattern, func in TOTAL_PATTERNS.itmes():\n",
        "            if pattern.match(text):\n",
        "                result = func()\n",
        "                break\n",
        "\n",
        "        if text == UPDATE_COMMAND:\n",
        "            result = \"Data is being updated. This may take a moment.\"\n",
        "            data.update_data()\n",
        "\n",
        "        if result:\n",
        "            speak(result)\n",
        "\n",
        "        if text.find(END_PHRASE) != -1:\n",
        "            print(\"Exit\")\n",
        "            break\n"
      ],
      "execution_count": 0,
      "outputs": []
    },
    {
      "cell_type": "code",
      "metadata": {
        "id": "vbShXzQHzqmN",
        "colab_type": "code",
        "colab": {}
      },
      "source": [
        ""
      ],
      "execution_count": 0,
      "outputs": []
    }
  ]
}
{
  "nbformat": 4,
  "nbformat_minor": 0,
  "metadata": {
    "colab": {
      "name": "TIL_ 200601_코로나 현황 스크래핑 feat 음성지원.ipynb",
      "provenance": [],
      "authorship_tag": "ABX9TyOqYjKt3x2Q0QVXUGFV7Y69",
      "include_colab_link": true
    },
    "kernelspec": {
      "name": "python3",
      "display_name": "Python 3"
    }
  },
  "cells": [
    {
      "cell_type": "markdown",
      "metadata": {
        "id": "view-in-github",
        "colab_type": "text"
      },
      "source": [
        "<a href=\"https://colab.research.google.com/github/951237/TIL/blob/master/TIL__200601_%EC%BD%94%EB%A1%9C%EB%82%98_%ED%98%84%ED%99%A9_%EC%8A%A4%ED%81%AC%EB%9E%98%ED%95%91_feat_%EC%9D%8C%EC%84%B1%EC%A7%80%EC%9B%90.ipynb\" target=\"_parent\"><img src=\"https://colab.research.google.com/assets/colab-badge.svg\" alt=\"Open In Colab\"/></a>"
      ]
    },
    {
      "cell_type": "code",
      "metadata": {
        "id": "v2XtMP2YZ381",
        "colab_type": "code",
        "colab": {
          "base_uri": "https://localhost:8080/",
          "height": 122
        },
        "outputId": "57570438-7d4a-4680-fb50-72272b4d2b9e"
      },
      "source": [
        "!pip install pyttsx3\n",
        "!pip install SpeechRecognition"
      ],
      "execution_count": 15,
      "outputs": [
        {
          "output_type": "stream",
          "text": [
            "Collecting SpeechRecognition\n",
            "\u001b[?25l  Downloading https://files.pythonhosted.org/packages/26/e1/7f5678cd94ec1234269d23756dbdaa4c8cfaed973412f88ae8adf7893a50/SpeechRecognition-3.8.1-py2.py3-none-any.whl (32.8MB)\n",
            "\u001b[K     |████████████████████████████████| 32.8MB 125kB/s \n",
            "\u001b[?25hInstalling collected packages: SpeechRecognition\n",
            "Successfully installed SpeechRecognition-3.8.1\n"
          ],
          "name": "stdout"
        }
      ]
    },
    {
      "cell_type": "code",
      "metadata": {
        "id": "RYsrEAKiZw9u",
        "colab_type": "code",
        "colab": {}
      },
      "source": [
        "import requests, json\n",
        "import pyttsx3\n",
        "import re, threading, time\n",
        "import speech_recognition as sr"
      ],
      "execution_count": 0,
      "outputs": []
    },
    {
      "cell_type": "code",
      "metadata": {
        "id": "2bhmXUmKY2C3",
        "colab_type": "code",
        "colab": {}
      },
      "source": [
        "API_KEY = \" \"\n",
        "PROJECT_TOKEN = \"\"\n",
        "RUN_TOKEN = \"\""
      ],
      "execution_count": 0,
      "outputs": []
    },
    {
      "cell_type": "code",
      "metadata": {
        "id": "-dw3CGi1Y4om",
        "colab_type": "code",
        "colab": {}
      },
      "source": [
        "class Data():\n",
        "    # 클래스 초기화\n",
        "    def __init__(self, api_key, project_token):\n",
        "        self.api_key = api_key      # api키\n",
        "        self.project_token = project_token  # 프로젝트 킥\n",
        "        self.param = {\n",
        "            \"api_key\" : self.api_key    # 파라미터 api키\n",
        "        }\n",
        "        self.data = self.get_data()     # 데이터 가져와서 데이터에 넣기. 함수가 아래에 정의 되어 있는데, 작동하네\n",
        "    \n",
        "    #  함수 - 데이터 가져오기\n",
        "    def get_data(self):\n",
        "        response = requests.get(f'https://www.parsehbu.com/api/v2/projects/{self.project_token}/last_ready_run/data', params=self.params)   # 리퀘스트로 내용가져오기\n",
        "        data = json.loads(response.text)    # 가져온 json 내용을 데이터 변수에 지정\n",
        "        return Data \n",
        "\n",
        "    # 함수 - 전체 확진자 데이터 얻기\n",
        "    def get_total_case(self):\n",
        "        data = self.data['total']\n",
        "\n",
        "        for content in data:\n",
        "            if content['name'] == 'Coronavirus Cases:':      # json에 들어있는 이름\n",
        "                return content['value']\n",
        "\n",
        "    # 함수 - 전체 사망자 데이터 가져오기\n",
        "    def get_total_deaths(self):     \n",
        "        data = self.data['total']\n",
        "\n",
        "        for content in data:\n",
        "            if content['name'] == 'Deaths:':    # 일치하는 경\n",
        "                return content['value']     # 숫자 반환\n",
        "\n",
        "        return \"0\"\n",
        "\n",
        "    # 함수 나라가져오기\n",
        "    def get_country_data(self, country):\n",
        "        data = self.data['country']\n",
        "\n",
        "        for content in data:\n",
        "            if content['name'].lower() == country.lower():\n",
        "                return content\n",
        "        return \"0\"\n",
        "\n",
        "    def get_list_of_countries(self):\n",
        "        countries = []\n",
        "\n",
        "        for country in self.data['country']:\n",
        "            countries.append(country['name'].lower())\n",
        "\n",
        "    \n",
        "\n",
        "\n",
        "    "
      ],
      "execution_count": 0,
      "outputs": []
    },
    {
      "cell_type": "code",
      "metadata": {
        "id": "qvskd1zhY8Oh",
        "colab_type": "code",
        "colab": {}
      },
      "source": [
        ""
      ],
      "execution_count": 0,
      "outputs": []
    }
  ]
}
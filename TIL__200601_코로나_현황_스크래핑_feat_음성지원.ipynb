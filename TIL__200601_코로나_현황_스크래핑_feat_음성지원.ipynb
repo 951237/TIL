{
  "nbformat": 4,
  "nbformat_minor": 0,
  "metadata": {
    "colab": {
      "name": "TIL_ 200601_코로나 현황 스크래핑 feat 음성지원.ipynb",
      "provenance": [],
      "authorship_tag": "ABX9TyP7HDi9/gGzy22F7QP7dDX3",
      "include_colab_link": true
    },
    "kernelspec": {
      "name": "python3",
      "display_name": "Python 3"
    }
  },
  "cells": [
    {
      "cell_type": "markdown",
      "metadata": {
        "id": "view-in-github",
        "colab_type": "text"
      },
      "source": [
        "<a href=\"https://colab.research.google.com/github/951237/TIL/blob/master/TIL__200601_%EC%BD%94%EB%A1%9C%EB%82%98_%ED%98%84%ED%99%A9_%EC%8A%A4%ED%81%AC%EB%9E%98%ED%95%91_feat_%EC%9D%8C%EC%84%B1%EC%A7%80%EC%9B%90.ipynb\" target=\"_parent\"><img src=\"https://colab.research.google.com/assets/colab-badge.svg\" alt=\"Open In Colab\"/></a>"
      ]
    },
    {
      "cell_type": "code",
      "metadata": {
        "id": "YtnrhoLbYn_j",
        "colab_type": "code",
        "colab": {
          "base_uri": "https://localhost:8080/",
          "height": 85
        },
        "outputId": "07b9dd35-4fee-4c1e-b302-4c57c7ad937b"
      },
      "source": [
        "!pip install pyttsx3"
      ],
      "execution_count": 5,
      "outputs": [
        {
          "output_type": "stream",
          "text": [
            "Collecting pyttsx3\n",
            "  Downloading https://files.pythonhosted.org/packages/fd/4b/4981cc11f1a288fa44fb906e07786eaa081b1b42da3f6dce38fe16af0d99/pyttsx3-2.87-py3-none-any.whl\n",
            "Installing collected packages: pyttsx3\n",
            "Successfully installed pyttsx3-2.87\n"
          ],
          "name": "stdout"
        }
      ]
    },
    {
      "cell_type": "code",
      "metadata": {
        "id": "QpG4XPL4Ygwl",
        "colab_type": "code",
        "colab": {}
      },
      "source": [
        "import requests, json\n",
        "import pyttsx3\n",
        "import re, threading, time"
      ],
      "execution_count": 0,
      "outputs": []
    },
    {
      "cell_type": "code",
      "metadata": {
        "id": "1SRiSJscYme3",
        "colab_type": "code",
        "colab": {}
      },
      "source": [
        "API_KEY = \" \""
      ],
      "execution_count": 0,
      "outputs": []
    },
    {
      "cell_type": "code",
      "metadata": {
        "id": "RaFXWws6YzBD",
        "colab_type": "code",
        "colab": {}
      },
      "source": [
        "PROJECT_TOKEN = \"\""
      ],
      "execution_count": 0,
      "outputs": []
    },
    {
      "cell_type": "code",
      "metadata": {
        "id": "2bhmXUmKY2C3",
        "colab_type": "code",
        "colab": {}
      },
      "source": [
        "RUN_TOKEN = \"\""
      ],
      "execution_count": 0,
      "outputs": []
    },
    {
      "cell_type": "code",
      "metadata": {
        "id": "-dw3CGi1Y4om",
        "colab_type": "code",
        "colab": {}
      },
      "source": [
        "class Data():\n",
        "    def __init__(self, api_key, project_token):\n",
        "        self.api_key = api_key\n",
        "        self.project_token = project_token\n",
        "        self.param = {\n",
        "            \"api_key\" : self.api_key\n",
        "        }\n",
        "        self.data = self.get_data()\n",
        "    \n",
        "    def get_data(self):\n",
        "        response = requests.get(f'https://')"
      ],
      "execution_count": 0,
      "outputs": []
    },
    {
      "cell_type": "code",
      "metadata": {
        "id": "qvskd1zhY8Oh",
        "colab_type": "code",
        "colab": {}
      },
      "source": [
        ""
      ],
      "execution_count": 0,
      "outputs": []
    }
  ]
}
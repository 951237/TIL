{
 "cells": [
  {
   "cell_type": "markdown",
   "id": "5387c387",
   "metadata": {},
   "source": [
    "# 221113_람다"
   ]
  },
  {
   "cell_type": "code",
   "execution_count": 6,
   "id": "9994ba28",
   "metadata": {},
   "outputs": [
    {
     "data": {
      "text/plain": [
       "[1, 2, 3, 4, 5, 6, 7, 8, 9, 10]"
      ]
     },
     "execution_count": 6,
     "metadata": {},
     "output_type": "execute_result"
    }
   ],
   "source": [
    "# 1부터 10까지 리스트 만들기\n",
    "\n",
    "lst_num = []\n",
    "\n",
    "for i in range(1,11):\n",
    "    lst_num.append(i)\n",
    "lst_num"
   ]
  },
  {
   "cell_type": "code",
   "execution_count": 7,
   "id": "2058ca6d",
   "metadata": {},
   "outputs": [
    {
     "data": {
      "text/plain": [
       "[1, 2, 3, 4, 5, 6, 7, 8, 9, 10]"
      ]
     },
     "execution_count": 7,
     "metadata": {},
     "output_type": "execute_result"
    }
   ],
   "source": [
    "lst_num = [i for i in range(1,11)]\n",
    "lst_num"
   ]
  },
  {
   "cell_type": "code",
   "execution_count": null,
   "id": "97e2f718",
   "metadata": {},
   "outputs": [],
   "source": []
  }
 ],
 "metadata": {
  "kernelspec": {
   "display_name": "Python 3 (ipykernel)",
   "language": "python",
   "name": "python3"
  },
  "language_info": {
   "codemirror_mode": {
    "name": "ipython",
    "version": 3
   },
   "file_extension": ".py",
   "mimetype": "text/x-python",
   "name": "python",
   "nbconvert_exporter": "python",
   "pygments_lexer": "ipython3",
   "version": "3.10.8"
  }
 },
 "nbformat": 4,
 "nbformat_minor": 5
}

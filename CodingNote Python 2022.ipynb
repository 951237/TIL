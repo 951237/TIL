{
 "cells": [
  {
   "cell_type": "markdown",
   "id": "217554bf",
   "metadata": {},
   "source": [
    "# 221115_알고리즘"
   ]
  },
  {
   "cell_type": "code",
   "execution_count": 22,
   "id": "07a690ff",
   "metadata": {},
   "outputs": [
    {
     "name": "stdout",
     "output_type": "stream",
     "text": [
      "7\n",
      "7000000\n",
      "7\n"
     ]
    }
   ],
   "source": [
    "# 숫자의 합 구하기\n",
    "# 숫자의 개수\n",
    "n = input()\n",
    "\n",
    "# 공백 없이 주어진 N개의 숫자\n",
    "m = input()\n",
    "\n",
    "# 입력으로 주어진 숫자 N개의 합 구하기\n",
    "\n",
    "# 반복문을 이용하여 입력값을 숫자료 변환하여 더하기\n",
    "lst_num = []\n",
    "for i in range(int(n)):\n",
    "    lst_num.append(int(m[i]))\n",
    "\n",
    "print(sum(lst_num))"
   ]
  },
  {
   "cell_type": "code",
   "execution_count": 18,
   "id": "5e6d4216",
   "metadata": {},
   "outputs": [
    {
     "data": {
      "text/plain": [
       "'1'"
      ]
     },
     "execution_count": 18,
     "metadata": {},
     "output_type": "execute_result"
    }
   ],
   "source": [
    "m[0]"
   ]
  },
  {
   "cell_type": "markdown",
   "id": "f2e63328",
   "metadata": {},
   "source": [
    "# 221113_람다"
   ]
  },
  {
   "cell_type": "code",
   "execution_count": 6,
   "id": "29655224",
   "metadata": {},
   "outputs": [
    {
     "data": {
      "text/plain": [
       "[1, 2, 3, 4, 5, 6, 7, 8, 9, 10]"
      ]
     },
     "execution_count": 6,
     "metadata": {},
     "output_type": "execute_result"
    }
   ],
   "source": [
    "# 1부터 10까지 리스트 만들기\n",
    "\n",
    "lst_num = []\n",
    "\n",
    "for i in range(1,11):\n",
    "    lst_num.append(i)\n",
    "lst_num"
   ]
  },
  {
   "cell_type": "code",
   "execution_count": 7,
   "id": "7cadb773",
   "metadata": {},
   "outputs": [
    {
     "data": {
      "text/plain": [
       "[1, 2, 3, 4, 5, 6, 7, 8, 9, 10]"
      ]
     },
     "execution_count": 7,
     "metadata": {},
     "output_type": "execute_result"
    }
   ],
   "source": [
    "lst_num = [i for i in range(1,11)]\n",
    "lst_num"
   ]
  },
  {
   "cell_type": "code",
   "execution_count": null,
   "id": "d935462e",
   "metadata": {},
   "outputs": [],
   "source": []
  }
 ],
 "metadata": {
  "kernelspec": {
   "display_name": "Python 3 (ipykernel)",
   "language": "python",
   "name": "python3"
  },
  "language_info": {
   "codemirror_mode": {
    "name": "ipython",
    "version": 3
   },
   "file_extension": ".py",
   "mimetype": "text/x-python",
   "name": "python",
   "nbconvert_exporter": "python",
   "pygments_lexer": "ipython3",
   "version": "3.10.8"
  }
 },
 "nbformat": 4,
 "nbformat_minor": 5
}

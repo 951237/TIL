{
  "nbformat": 4,
  "nbformat_minor": 0,
  "metadata": {
    "colab": {
      "name": "project_pandas로 안산교육지원청 업무 크롤링.ipynb",
      "provenance": [],
      "collapsed_sections": [],
      "toc_visible": true,
      "include_colab_link": true
    },
    "kernelspec": {
      "name": "python3",
      "display_name": "Python 3"
    }
  },
  "cells": [
    {
      "cell_type": "markdown",
      "metadata": {
        "id": "view-in-github",
        "colab_type": "text"
      },
      "source": [
        "<a href=\"https://colab.research.google.com/github/951237/TIL/blob/master/project_pandas%EB%A1%9C_%EC%95%88%EC%82%B0%EA%B5%90%EC%9C%A1%EC%A7%80%EC%9B%90%EC%B2%AD_%EC%97%85%EB%AC%B4_%ED%81%AC%EB%A1%A4%EB%A7%81.ipynb\" target=\"_parent\"><img src=\"https://colab.research.google.com/assets/colab-badge.svg\" alt=\"Open In Colab\"/></a>"
      ]
    },
    {
      "cell_type": "markdown",
      "metadata": {
        "id": "VpOPvJ1WOGsi",
        "colab_type": "text"
      },
      "source": [
        "# 판다스로 웹크롤링 - 안산교육지원청"
      ]
    },
    {
      "cell_type": "markdown",
      "metadata": {
        "id": "0bCfxNbWHYKX",
        "colab_type": "text"
      },
      "source": [
        "## 안산교육지원청 조직업무 - 초등교육과\n",
        "- 웹페이지 불러들여서 데이터 프레임로 만들기\n",
        "    - 머리글행 및 인덱스 처리 생각하기\n",
        "- 데이터프레임 수만큼 데이터 프레임 이어서 붙이기\n",
        "\n",
        "- 추가작업\n",
        "    - 안산교육지원청 각 과별로 모두 파일 다운로드 하기\n",
        "    - A, B, C, D, E, F로 변함.\n",
        "    - 파일명 바꾸기\n",
        "    - 딕셔너리로 생각하기\n",
        "    - 함수로 처리하기"
      ]
    },
    {
      "cell_type": "markdown",
      "metadata": {
        "id": "COC94OJuOUUd",
        "colab_type": "text"
      },
      "source": [
        "## 기초작업 하기"
      ]
    },
    {
      "cell_type": "markdown",
      "metadata": {
        "id": "cVhJgPdAho8i",
        "colab_type": "text"
      },
      "source": [
        "### 구글드라이브 마운트"
      ]
    },
    {
      "cell_type": "code",
      "metadata": {
        "id": "UpZ9ae7mheF8",
        "colab_type": "code",
        "colab": {
          "base_uri": "https://localhost:8080/",
          "height": 120
        },
        "outputId": "7f16b2ab-65b8-472b-ff04-a430940defff"
      },
      "source": [
        "from google.colab import drive\n",
        "drive.mount('/content/drive')"
      ],
      "execution_count": 55,
      "outputs": [
        {
          "output_type": "stream",
          "text": [
            "Go to this URL in a browser: https://accounts.google.com/o/oauth2/auth?client_id=947318989803-6bn6qk8qdgf4n4g3pfee6491hc0brc4i.apps.googleusercontent.com&redirect_uri=urn%3aietf%3awg%3aoauth%3a2.0%3aoob&response_type=code&scope=email%20https%3a%2f%2fwww.googleapis.com%2fauth%2fdocs.test%20https%3a%2f%2fwww.googleapis.com%2fauth%2fdrive%20https%3a%2f%2fwww.googleapis.com%2fauth%2fdrive.photos.readonly%20https%3a%2f%2fwww.googleapis.com%2fauth%2fpeopleapi.readonly\n",
            "\n",
            "Enter your authorization code:\n",
            "··········\n",
            "Mounted at /content/drive\n"
          ],
          "name": "stdout"
        }
      ]
    },
    {
      "cell_type": "markdown",
      "metadata": {
        "id": "GFhwcbyBOdEl",
        "colab_type": "text"
      },
      "source": [
        "### 라이브러리 호출"
      ]
    },
    {
      "cell_type": "code",
      "metadata": {
        "id": "2lreCkB7OgwH",
        "colab_type": "code",
        "colab": {}
      },
      "source": [
        "import pandas as pd\n",
        "from google.colab import files\n",
        "import time"
      ],
      "execution_count": 0,
      "outputs": []
    },
    {
      "cell_type": "markdown",
      "metadata": {
        "id": "eeFvE6WyOsQb",
        "colab_type": "text"
      },
      "source": [
        "### URL 및 변수 설정"
      ]
    },
    {
      "cell_type": "code",
      "metadata": {
        "id": "o9rLdx97Ow5E",
        "colab_type": "code",
        "colab": {}
      },
      "source": [
        "url = 'http://www.goeas.kr/USR/ORG/MNU6/OrgDetail.do?orgType=A'\n",
        "timestr = time.strftime('%Y%m%d - %H%M%S')"
      ],
      "execution_count": 0,
      "outputs": []
    },
    {
      "cell_type": "markdown",
      "metadata": {
        "id": "mnh_6qtsPOOc",
        "colab_type": "text"
      },
      "source": [
        "### 데이터프레임 생성 : 웹페이지"
      ]
    },
    {
      "cell_type": "code",
      "metadata": {
        "id": "ShkW9myrFM7_",
        "colab_type": "code",
        "colab": {}
      },
      "source": [
        "df_html = pd.read_html(url, encoding='cp959') # 헤더를 첫행으로, 인덱스는 0번째 열로 정하기"
      ],
      "execution_count": 0,
      "outputs": []
    },
    {
      "cell_type": "code",
      "metadata": {
        "id": "fhU2R1ZZRxu0",
        "colab_type": "code",
        "colab": {}
      },
      "source": [
        "df_result = pd.DataFrame()"
      ],
      "execution_count": 0,
      "outputs": []
    },
    {
      "cell_type": "code",
      "metadata": {
        "id": "HxGrVhmMPdVE",
        "colab_type": "code",
        "colab": {
          "base_uri": "https://localhost:8080/",
          "height": 170
        },
        "outputId": "9b7f47dd-b07e-4e01-8535-f3aa3c0a8772"
      },
      "source": [
        "for i in range(0,len(df_html)):\n",
        "    df_result = df_result.append(df_html[i])\n"
      ],
      "execution_count": 45,
      "outputs": [
        {
          "output_type": "stream",
          "text": [
            "/usr/local/lib/python3.6/dist-packages/pandas/core/frame.py:7138: FutureWarning: Sorting because non-concatenation axis is not aligned. A future version\n",
            "of pandas will change to not sort by default.\n",
            "\n",
            "To accept the future behavior, pass 'sort=False'.\n",
            "\n",
            "To retain the current behavior and silence the warning, pass 'sort=True'.\n",
            "\n",
            "  sort=sort,\n"
          ],
          "name": "stderr"
        }
      ]
    },
    {
      "cell_type": "markdown",
      "metadata": {
        "id": "izVU0l6ncK_h",
        "colab_type": "text"
      },
      "source": [
        "### 원하는 칼럼만 추출하기"
      ]
    },
    {
      "cell_type": "code",
      "metadata": {
        "id": "KG0oBx3nQs3y",
        "colab_type": "code",
        "colab": {
          "base_uri": "https://localhost:8080/",
          "height": 403
        },
        "outputId": "ed81bd60-8961-41db-b11a-af83f4b9ff2f"
      },
      "source": [
        "df_result = df_result[['성명', '직위', '담당업무', '담당교']]\n",
        "df_result.head()"
      ],
      "execution_count": 47,
      "outputs": [
        {
          "output_type": "execute_result",
          "data": {
            "text/html": [
              "<div>\n",
              "<style scoped>\n",
              "    .dataframe tbody tr th:only-of-type {\n",
              "        vertical-align: middle;\n",
              "    }\n",
              "\n",
              "    .dataframe tbody tr th {\n",
              "        vertical-align: top;\n",
              "    }\n",
              "\n",
              "    .dataframe thead th {\n",
              "        text-align: right;\n",
              "    }\n",
              "</style>\n",
              "<table border=\"1\" class=\"dataframe\">\n",
              "  <thead>\n",
              "    <tr style=\"text-align: right;\">\n",
              "      <th></th>\n",
              "      <th>성명</th>\n",
              "      <th>직위</th>\n",
              "      <th>담당업무</th>\n",
              "      <th>담당교</th>\n",
              "    </tr>\n",
              "  </thead>\n",
              "  <tbody>\n",
              "    <tr>\n",
              "      <th>0</th>\n",
              "      <td>정영숙</td>\n",
              "      <td>초등교육지원과장(412-4510)</td>\n",
              "      <td>초등교육지원과 업무 총괄</td>\n",
              "      <td>NaN</td>\n",
              "    </tr>\n",
              "    <tr>\n",
              "      <th>0</th>\n",
              "      <td>이인선</td>\n",
              "      <td>장학사(412-4511)</td>\n",
              "      <td>- 초등 업무 기획 및 조정- 안산교육 기본계획 수립- 기관 평가 업무 • 교육지원...</td>\n",
              "      <td>&lt;호수지구&gt;별망초성안초송호초슬기초안산양지초안산진흥초안산청석초안산해양초안산호원초초지초...</td>\n",
              "    </tr>\n",
              "    <tr>\n",
              "      <th>0</th>\n",
              "      <td>임미선</td>\n",
              "      <td>주무관(412-4512)</td>\n",
              "      <td>- 초등과 공통회계 집행- 초등 혁신교육 운영 지원 • 초등 혁신(공감)학교 지정 ...</td>\n",
              "      <td>NaN</td>\n",
              "    </tr>\n",
              "    <tr>\n",
              "      <th>0</th>\n",
              "      <td>전은진</td>\n",
              "      <td>장학사(412-4516)</td>\n",
              "      <td>- 초등 전문직 인사 - 초등 교원 인사(보건, 전문상담교사 포함) • 초등 교사 ...</td>\n",
              "      <td>NaN</td>\n",
              "    </tr>\n",
              "    <tr>\n",
              "      <th>0</th>\n",
              "      <td>송지희</td>\n",
              "      <td>주무관(412-4517)</td>\n",
              "      <td>- 초등 인사 • 타시도 교류 • 초, 중등 영양교사 전보 • 파견, 휴․복직 관리...</td>\n",
              "      <td>NaN</td>\n",
              "    </tr>\n",
              "  </tbody>\n",
              "</table>\n",
              "</div>"
            ],
            "text/plain": [
              "    성명  ...                                                담당교\n",
              "0  정영숙  ...                                                NaN\n",
              "0  이인선  ...  <호수지구>별망초성안초송호초슬기초안산양지초안산진흥초안산청석초안산해양초안산호원초초지초...\n",
              "0  임미선  ...                                                NaN\n",
              "0  전은진  ...                                                NaN\n",
              "0  송지희  ...                                                NaN\n",
              "\n",
              "[5 rows x 4 columns]"
            ]
          },
          "metadata": {
            "tags": []
          },
          "execution_count": 47
        }
      ]
    },
    {
      "cell_type": "markdown",
      "metadata": {
        "id": "IKOE9ckEcSKi",
        "colab_type": "text"
      },
      "source": [
        "### 인덱스 재설정하기"
      ]
    },
    {
      "cell_type": "code",
      "metadata": {
        "id": "bUwDd6L7aQc9",
        "colab_type": "code",
        "colab": {
          "base_uri": "https://localhost:8080/",
          "height": 1000
        },
        "outputId": "6c1a205e-634e-4042-f3dd-0d7a64d49ff2"
      },
      "source": [
        "df_result = df_result.reset_index(drop='index')"
      ],
      "execution_count": 48,
      "outputs": [
        {
          "output_type": "execute_result",
          "data": {
            "text/html": [
              "<div>\n",
              "<style scoped>\n",
              "    .dataframe tbody tr th:only-of-type {\n",
              "        vertical-align: middle;\n",
              "    }\n",
              "\n",
              "    .dataframe tbody tr th {\n",
              "        vertical-align: top;\n",
              "    }\n",
              "\n",
              "    .dataframe thead th {\n",
              "        text-align: right;\n",
              "    }\n",
              "</style>\n",
              "<table border=\"1\" class=\"dataframe\">\n",
              "  <thead>\n",
              "    <tr style=\"text-align: right;\">\n",
              "      <th></th>\n",
              "      <th>성명</th>\n",
              "      <th>직위</th>\n",
              "      <th>담당업무</th>\n",
              "      <th>담당교</th>\n",
              "    </tr>\n",
              "  </thead>\n",
              "  <tbody>\n",
              "    <tr>\n",
              "      <th>0</th>\n",
              "      <td>정영숙</td>\n",
              "      <td>초등교육지원과장(412-4510)</td>\n",
              "      <td>초등교육지원과 업무 총괄</td>\n",
              "      <td>NaN</td>\n",
              "    </tr>\n",
              "    <tr>\n",
              "      <th>1</th>\n",
              "      <td>이인선</td>\n",
              "      <td>장학사(412-4511)</td>\n",
              "      <td>- 초등 업무 기획 및 조정- 안산교육 기본계획 수립- 기관 평가 업무 • 교육지원...</td>\n",
              "      <td>&lt;호수지구&gt;별망초성안초송호초슬기초안산양지초안산진흥초안산청석초안산해양초안산호원초초지초...</td>\n",
              "    </tr>\n",
              "    <tr>\n",
              "      <th>2</th>\n",
              "      <td>임미선</td>\n",
              "      <td>주무관(412-4512)</td>\n",
              "      <td>- 초등과 공통회계 집행- 초등 혁신교육 운영 지원 • 초등 혁신(공감)학교 지정 ...</td>\n",
              "      <td>NaN</td>\n",
              "    </tr>\n",
              "    <tr>\n",
              "      <th>3</th>\n",
              "      <td>전은진</td>\n",
              "      <td>장학사(412-4516)</td>\n",
              "      <td>- 초등 전문직 인사 - 초등 교원 인사(보건, 전문상담교사 포함) • 초등 교사 ...</td>\n",
              "      <td>NaN</td>\n",
              "    </tr>\n",
              "    <tr>\n",
              "      <th>4</th>\n",
              "      <td>송지희</td>\n",
              "      <td>주무관(412-4517)</td>\n",
              "      <td>- 초등 인사 • 타시도 교류 • 초, 중등 영양교사 전보 • 파견, 휴․복직 관리...</td>\n",
              "      <td>NaN</td>\n",
              "    </tr>\n",
              "    <tr>\n",
              "      <th>5</th>\n",
              "      <td>노수실</td>\n",
              "      <td>장학사(412-4513)</td>\n",
              "      <td>- 초등 학교교육과정 편성·운영 • 학교교육과정 편성·운영 연수, 장학, 컨설팅 •...</td>\n",
              "      <td>&lt;본오지구&gt;각골초반월초본오초본원초상록초석호초시곡초안산창촌초이호초초당초팔곡초(11교)</td>\n",
              "    </tr>\n",
              "    <tr>\n",
              "      <th>6</th>\n",
              "      <td>정세희</td>\n",
              "      <td>주무관(412-4515)</td>\n",
              "      <td>- 초등교육지원과 회계 관리 • 예산 편성 및 집행, 결산 등- 초등 교육과정팀 예...</td>\n",
              "      <td>NaN</td>\n",
              "    </tr>\n",
              "    <tr>\n",
              "      <th>7</th>\n",
              "      <td>이대오</td>\n",
              "      <td>장학사(412-4535)</td>\n",
              "      <td>- 혁신교육지구 시즌Ⅱ 사업 계획 수립 및 운영 총괄 • Eco-문화예술행복학교 운...</td>\n",
              "      <td>&lt;고잔지구&gt;고잔초관산초대남초대동초대부초덕성초덕인초안산중앙초와동초화랑초(10교)</td>\n",
              "    </tr>\n",
              "    <tr>\n",
              "      <th>8</th>\n",
              "      <td>유진성</td>\n",
              "      <td>주무관(412-4524)</td>\n",
              "      <td>- 혁신교육지구 시즌Ⅱ 사업 운영 지원 • Eco-문화예술행복학교 운영 지원 (어울...</td>\n",
              "      <td>NaN</td>\n",
              "    </tr>\n",
              "    <tr>\n",
              "      <th>9</th>\n",
              "      <td>김현식</td>\n",
              "      <td>장학사(412-4518)</td>\n",
              "      <td>- 민주시민교육 • 관리자 민주적 리더십 관련 업무 • 지역사회연계 민주시민교육 프...</td>\n",
              "      <td>&lt;화정지구&gt;능길초선부초선일초신길초안산대월초안산서초안산석수초안산원곡초안산화정초원일초정...</td>\n",
              "    </tr>\n",
              "    <tr>\n",
              "      <th>10</th>\n",
              "      <td>김나니</td>\n",
              "      <td>주무관(412-4519)</td>\n",
              "      <td>- 초등교육지원과 공문서 접수 및 배부- 민주시민교육 일반 업무 및 지원, 자료취합...</td>\n",
              "      <td>NaN</td>\n",
              "    </tr>\n",
              "    <tr>\n",
              "      <th>11</th>\n",
              "      <td>김지현</td>\n",
              "      <td>장학사(412-4520)</td>\n",
              "      <td>- 혁신공감학교 기본계획 수립 • 혁신공감학교 컨설팅 • 혁신공감학교 리더 육성 연...</td>\n",
              "      <td>호수지구협력장학</td>\n",
              "    </tr>\n",
              "    <tr>\n",
              "      <th>12</th>\n",
              "      <td>백귀경</td>\n",
              "      <td>주무관(412-4514)</td>\n",
              "      <td>- 초등교육지원과 총무 • 초등과 공통물품 관리 및 집행 • 초등교육지원과 업무 중...</td>\n",
              "      <td>NaN</td>\n",
              "    </tr>\n",
              "    <tr>\n",
              "      <th>13</th>\n",
              "      <td>최미숙</td>\n",
              "      <td>방과후교육전문가(412-4526)</td>\n",
              "      <td>- 안산 방과후학교지원센터 운영 및 예산 계획 수립- 초·중 방과후학교 운영 • 점...</td>\n",
              "      <td>초등돌봄교실방과후학교운영교</td>\n",
              "    </tr>\n",
              "    <tr>\n",
              "      <th>14</th>\n",
              "      <td>신민채</td>\n",
              "      <td>주무관(412-4528)</td>\n",
              "      <td>- 고등 방과후학교 운영 • 업무담당자 연수, 점검 및 컨설팅 • 방과후학교 마을사...</td>\n",
              "      <td>초등돌봄교실방과후학교운영교</td>\n",
              "    </tr>\n",
              "    <tr>\n",
              "      <th>15</th>\n",
              "      <td>양인명</td>\n",
              "      <td>주무관(412-4527)</td>\n",
              "      <td>- 방과후학교지원센터 예산 집행 및 정산- 초·중·고 자유수강권 예산 교부 및 정산...</td>\n",
              "      <td>초등돌봄교실방과후학교운영교</td>\n",
              "    </tr>\n",
              "    <tr>\n",
              "      <th>16</th>\n",
              "      <td>허인영</td>\n",
              "      <td>장학사(412-4521)</td>\n",
              "      <td>- 유아교육 기본계획 수립 운영- 유치원 교육과정(누리과정) 운영- 유치원 장학 기...</td>\n",
              "      <td>공·사립유치원(93개원)</td>\n",
              "    </tr>\n",
              "    <tr>\n",
              "      <th>17</th>\n",
              "      <td>김선혜</td>\n",
              "      <td>주무관(412-4522)</td>\n",
              "      <td>- 유치원 교원능력개발평가 - 유치원 운영위원회 운영 - 유치원 업무(행정, 연수)...</td>\n",
              "      <td>공·사립유치원(93개원)</td>\n",
              "    </tr>\n",
              "    <tr>\n",
              "      <th>18</th>\n",
              "      <td>김수현</td>\n",
              "      <td>장학사(412-4523)</td>\n",
              "      <td>- 특수교육 기획 및 운영 총괄 • 특수교육 기본 계획 수립 • 특수교육과정 점검 ...</td>\n",
              "      <td>유·초·중·고특수학급설치교</td>\n",
              "    </tr>\n",
              "    <tr>\n",
              "      <th>19</th>\n",
              "      <td>김유희</td>\n",
              "      <td>팀장(414-2240)</td>\n",
              "      <td>- 특수교육지원센터 업무 총괄- 순회교육 지원 및 컨설팅- 특수교육대상자 진단평가 ...</td>\n",
              "      <td>NaN</td>\n",
              "    </tr>\n",
              "    <tr>\n",
              "      <th>20</th>\n",
              "      <td>김보미</td>\n",
              "      <td>순회교사(414-2243)</td>\n",
              "      <td>- 순회교육지원 및 컨설팅 - 특수교육대상자 진단평가 업무- 2019 유, 초, 중...</td>\n",
              "      <td>NaN</td>\n",
              "    </tr>\n",
              "    <tr>\n",
              "      <th>21</th>\n",
              "      <td>지경호</td>\n",
              "      <td>순회교사(414-2242)</td>\n",
              "      <td>- 특수교육 연수 기획 및 운영- 순회교육 지원 및 컨설팅- 건강장애학생 지원 - ...</td>\n",
              "      <td>NaN</td>\n",
              "    </tr>\n",
              "    <tr>\n",
              "      <th>22</th>\n",
              "      <td>정원경</td>\n",
              "      <td>순회교사(414-2246)</td>\n",
              "      <td>- 순회교육 지원 및 컨설팅- 특수교육 방과후학교(교내 방과후교실, 종일반) 운영 ...</td>\n",
              "      <td>NaN</td>\n",
              "    </tr>\n",
              "    <tr>\n",
              "      <th>23</th>\n",
              "      <td>조성훈</td>\n",
              "      <td>순회교사(414-0644)</td>\n",
              "      <td>- 순회교육계획 수립 및 지원, 순회학급 운영비 지원 - 주간업무 및 월중행사 취합...</td>\n",
              "      <td>NaN</td>\n",
              "    </tr>\n",
              "    <tr>\n",
              "      <th>24</th>\n",
              "      <td>김민정</td>\n",
              "      <td>장애영아교사(414-0647)</td>\n",
              "      <td>- 장애영아교육 운영계획 수립 및 영아교육 지원- 장애영유아 무상교육비 지원- 장애...</td>\n",
              "      <td>NaN</td>\n",
              "    </tr>\n",
              "    <tr>\n",
              "      <th>25</th>\n",
              "      <td>이소영</td>\n",
              "      <td>사회복지사(414-0645)</td>\n",
              "      <td>- 특수교육 방과후학교(늘해랑학교)운영- 특수교육대상자 진단평가 일정관리- 학부모 ...</td>\n",
              "      <td>NaN</td>\n",
              "    </tr>\n",
              "    <tr>\n",
              "      <th>26</th>\n",
              "      <td>우지연</td>\n",
              "      <td>언어치료사(410-0649)</td>\n",
              "      <td>- 치료지원 운영계획 및 치료지원- 언어 및 청각장애 진단평가 및 상담- 꿈e든 카...</td>\n",
              "      <td>NaN</td>\n",
              "    </tr>\n",
              "    <tr>\n",
              "      <th>27</th>\n",
              "      <td>박진아</td>\n",
              "      <td>직업코디네이터(410-0648)</td>\n",
              "      <td>- 진로·직업교육 연수 기획 및 운영 - 진로·직업교육 관련 지원 및 협조체제 구축...</td>\n",
              "      <td>NaN</td>\n",
              "    </tr>\n",
              "    <tr>\n",
              "      <th>28</th>\n",
              "      <td>김남일</td>\n",
              "      <td>주무관(414-0648)</td>\n",
              "      <td>- 특수교육지원센터 사업비 지출 (원인행위, 지출)- 특수교육지원센터 출장비 및 교...</td>\n",
              "      <td>NaN</td>\n",
              "    </tr>\n",
              "  </tbody>\n",
              "</table>\n",
              "</div>"
            ],
            "text/plain": [
              "     성명  ...                                                담당교\n",
              "0   정영숙  ...                                                NaN\n",
              "1   이인선  ...  <호수지구>별망초성안초송호초슬기초안산양지초안산진흥초안산청석초안산해양초안산호원초초지초...\n",
              "2   임미선  ...                                                NaN\n",
              "3   전은진  ...                                                NaN\n",
              "4   송지희  ...                                                NaN\n",
              "5   노수실  ...     <본오지구>각골초반월초본오초본원초상록초석호초시곡초안산창촌초이호초초당초팔곡초(11교)\n",
              "6   정세희  ...                                                NaN\n",
              "7   이대오  ...        <고잔지구>고잔초관산초대남초대동초대부초덕성초덕인초안산중앙초와동초화랑초(10교)\n",
              "8   유진성  ...                                                NaN\n",
              "9   김현식  ...  <화정지구>능길초선부초선일초신길초안산대월초안산서초안산석수초안산원곡초안산화정초원일초정...\n",
              "10  김나니  ...                                                NaN\n",
              "11  김지현  ...                                           호수지구협력장학\n",
              "12  백귀경  ...                                                NaN\n",
              "13  최미숙  ...                                     초등돌봄교실방과후학교운영교\n",
              "14  신민채  ...                                     초등돌봄교실방과후학교운영교\n",
              "15  양인명  ...                                     초등돌봄교실방과후학교운영교\n",
              "16  허인영  ...                                      공·사립유치원(93개원)\n",
              "17  김선혜  ...                                      공·사립유치원(93개원)\n",
              "18  김수현  ...                                     유·초·중·고특수학급설치교\n",
              "19  김유희  ...                                                NaN\n",
              "20  김보미  ...                                                NaN\n",
              "21  지경호  ...                                                NaN\n",
              "22  정원경  ...                                                NaN\n",
              "23  조성훈  ...                                                NaN\n",
              "24  김민정  ...                                                NaN\n",
              "25  이소영  ...                                                NaN\n",
              "26  우지연  ...                                                NaN\n",
              "27  박진아  ...                                                NaN\n",
              "28  김남일  ...                                                NaN\n",
              "\n",
              "[29 rows x 4 columns]"
            ]
          },
          "metadata": {
            "tags": []
          },
          "execution_count": 48
        }
      ]
    },
    {
      "cell_type": "markdown",
      "metadata": {
        "id": "FKFZlbEgcbfv",
        "colab_type": "text"
      },
      "source": [
        "### Nan값 '-'로 채우기"
      ]
    },
    {
      "cell_type": "code",
      "metadata": {
        "id": "kZpISp1daobB",
        "colab_type": "code",
        "colab": {
          "base_uri": "https://localhost:8080/",
          "height": 1000
        },
        "outputId": "fecfc6a1-9cc1-4dde-e7fd-c3d7c3f57b27"
      },
      "source": [
        "df_result = df_result.fillna('-')\n",
        "df_result"
      ],
      "execution_count": 49,
      "outputs": [
        {
          "output_type": "execute_result",
          "data": {
            "text/html": [
              "<div>\n",
              "<style scoped>\n",
              "    .dataframe tbody tr th:only-of-type {\n",
              "        vertical-align: middle;\n",
              "    }\n",
              "\n",
              "    .dataframe tbody tr th {\n",
              "        vertical-align: top;\n",
              "    }\n",
              "\n",
              "    .dataframe thead th {\n",
              "        text-align: right;\n",
              "    }\n",
              "</style>\n",
              "<table border=\"1\" class=\"dataframe\">\n",
              "  <thead>\n",
              "    <tr style=\"text-align: right;\">\n",
              "      <th></th>\n",
              "      <th>성명</th>\n",
              "      <th>직위</th>\n",
              "      <th>담당업무</th>\n",
              "      <th>담당교</th>\n",
              "    </tr>\n",
              "  </thead>\n",
              "  <tbody>\n",
              "    <tr>\n",
              "      <th>0</th>\n",
              "      <td>정영숙</td>\n",
              "      <td>초등교육지원과장(412-4510)</td>\n",
              "      <td>초등교육지원과 업무 총괄</td>\n",
              "      <td>-</td>\n",
              "    </tr>\n",
              "    <tr>\n",
              "      <th>1</th>\n",
              "      <td>이인선</td>\n",
              "      <td>장학사(412-4511)</td>\n",
              "      <td>- 초등 업무 기획 및 조정- 안산교육 기본계획 수립- 기관 평가 업무 • 교육지원...</td>\n",
              "      <td>&lt;호수지구&gt;별망초성안초송호초슬기초안산양지초안산진흥초안산청석초안산해양초안산호원초초지초...</td>\n",
              "    </tr>\n",
              "    <tr>\n",
              "      <th>2</th>\n",
              "      <td>임미선</td>\n",
              "      <td>주무관(412-4512)</td>\n",
              "      <td>- 초등과 공통회계 집행- 초등 혁신교육 운영 지원 • 초등 혁신(공감)학교 지정 ...</td>\n",
              "      <td>-</td>\n",
              "    </tr>\n",
              "    <tr>\n",
              "      <th>3</th>\n",
              "      <td>전은진</td>\n",
              "      <td>장학사(412-4516)</td>\n",
              "      <td>- 초등 전문직 인사 - 초등 교원 인사(보건, 전문상담교사 포함) • 초등 교사 ...</td>\n",
              "      <td>-</td>\n",
              "    </tr>\n",
              "    <tr>\n",
              "      <th>4</th>\n",
              "      <td>송지희</td>\n",
              "      <td>주무관(412-4517)</td>\n",
              "      <td>- 초등 인사 • 타시도 교류 • 초, 중등 영양교사 전보 • 파견, 휴․복직 관리...</td>\n",
              "      <td>-</td>\n",
              "    </tr>\n",
              "    <tr>\n",
              "      <th>5</th>\n",
              "      <td>노수실</td>\n",
              "      <td>장학사(412-4513)</td>\n",
              "      <td>- 초등 학교교육과정 편성·운영 • 학교교육과정 편성·운영 연수, 장학, 컨설팅 •...</td>\n",
              "      <td>&lt;본오지구&gt;각골초반월초본오초본원초상록초석호초시곡초안산창촌초이호초초당초팔곡초(11교)</td>\n",
              "    </tr>\n",
              "    <tr>\n",
              "      <th>6</th>\n",
              "      <td>정세희</td>\n",
              "      <td>주무관(412-4515)</td>\n",
              "      <td>- 초등교육지원과 회계 관리 • 예산 편성 및 집행, 결산 등- 초등 교육과정팀 예...</td>\n",
              "      <td>-</td>\n",
              "    </tr>\n",
              "    <tr>\n",
              "      <th>7</th>\n",
              "      <td>이대오</td>\n",
              "      <td>장학사(412-4535)</td>\n",
              "      <td>- 혁신교육지구 시즌Ⅱ 사업 계획 수립 및 운영 총괄 • Eco-문화예술행복학교 운...</td>\n",
              "      <td>&lt;고잔지구&gt;고잔초관산초대남초대동초대부초덕성초덕인초안산중앙초와동초화랑초(10교)</td>\n",
              "    </tr>\n",
              "    <tr>\n",
              "      <th>8</th>\n",
              "      <td>유진성</td>\n",
              "      <td>주무관(412-4524)</td>\n",
              "      <td>- 혁신교육지구 시즌Ⅱ 사업 운영 지원 • Eco-문화예술행복학교 운영 지원 (어울...</td>\n",
              "      <td>-</td>\n",
              "    </tr>\n",
              "    <tr>\n",
              "      <th>9</th>\n",
              "      <td>김현식</td>\n",
              "      <td>장학사(412-4518)</td>\n",
              "      <td>- 민주시민교육 • 관리자 민주적 리더십 관련 업무 • 지역사회연계 민주시민교육 프...</td>\n",
              "      <td>&lt;화정지구&gt;능길초선부초선일초신길초안산대월초안산서초안산석수초안산원곡초안산화정초원일초정...</td>\n",
              "    </tr>\n",
              "    <tr>\n",
              "      <th>10</th>\n",
              "      <td>김나니</td>\n",
              "      <td>주무관(412-4519)</td>\n",
              "      <td>- 초등교육지원과 공문서 접수 및 배부- 민주시민교육 일반 업무 및 지원, 자료취합...</td>\n",
              "      <td>-</td>\n",
              "    </tr>\n",
              "    <tr>\n",
              "      <th>11</th>\n",
              "      <td>김지현</td>\n",
              "      <td>장학사(412-4520)</td>\n",
              "      <td>- 혁신공감학교 기본계획 수립 • 혁신공감학교 컨설팅 • 혁신공감학교 리더 육성 연...</td>\n",
              "      <td>호수지구협력장학</td>\n",
              "    </tr>\n",
              "    <tr>\n",
              "      <th>12</th>\n",
              "      <td>백귀경</td>\n",
              "      <td>주무관(412-4514)</td>\n",
              "      <td>- 초등교육지원과 총무 • 초등과 공통물품 관리 및 집행 • 초등교육지원과 업무 중...</td>\n",
              "      <td>-</td>\n",
              "    </tr>\n",
              "    <tr>\n",
              "      <th>13</th>\n",
              "      <td>최미숙</td>\n",
              "      <td>방과후교육전문가(412-4526)</td>\n",
              "      <td>- 안산 방과후학교지원센터 운영 및 예산 계획 수립- 초·중 방과후학교 운영 • 점...</td>\n",
              "      <td>초등돌봄교실방과후학교운영교</td>\n",
              "    </tr>\n",
              "    <tr>\n",
              "      <th>14</th>\n",
              "      <td>신민채</td>\n",
              "      <td>주무관(412-4528)</td>\n",
              "      <td>- 고등 방과후학교 운영 • 업무담당자 연수, 점검 및 컨설팅 • 방과후학교 마을사...</td>\n",
              "      <td>초등돌봄교실방과후학교운영교</td>\n",
              "    </tr>\n",
              "    <tr>\n",
              "      <th>15</th>\n",
              "      <td>양인명</td>\n",
              "      <td>주무관(412-4527)</td>\n",
              "      <td>- 방과후학교지원센터 예산 집행 및 정산- 초·중·고 자유수강권 예산 교부 및 정산...</td>\n",
              "      <td>초등돌봄교실방과후학교운영교</td>\n",
              "    </tr>\n",
              "    <tr>\n",
              "      <th>16</th>\n",
              "      <td>허인영</td>\n",
              "      <td>장학사(412-4521)</td>\n",
              "      <td>- 유아교육 기본계획 수립 운영- 유치원 교육과정(누리과정) 운영- 유치원 장학 기...</td>\n",
              "      <td>공·사립유치원(93개원)</td>\n",
              "    </tr>\n",
              "    <tr>\n",
              "      <th>17</th>\n",
              "      <td>김선혜</td>\n",
              "      <td>주무관(412-4522)</td>\n",
              "      <td>- 유치원 교원능력개발평가 - 유치원 운영위원회 운영 - 유치원 업무(행정, 연수)...</td>\n",
              "      <td>공·사립유치원(93개원)</td>\n",
              "    </tr>\n",
              "    <tr>\n",
              "      <th>18</th>\n",
              "      <td>김수현</td>\n",
              "      <td>장학사(412-4523)</td>\n",
              "      <td>- 특수교육 기획 및 운영 총괄 • 특수교육 기본 계획 수립 • 특수교육과정 점검 ...</td>\n",
              "      <td>유·초·중·고특수학급설치교</td>\n",
              "    </tr>\n",
              "    <tr>\n",
              "      <th>19</th>\n",
              "      <td>김유희</td>\n",
              "      <td>팀장(414-2240)</td>\n",
              "      <td>- 특수교육지원센터 업무 총괄- 순회교육 지원 및 컨설팅- 특수교육대상자 진단평가 ...</td>\n",
              "      <td>-</td>\n",
              "    </tr>\n",
              "    <tr>\n",
              "      <th>20</th>\n",
              "      <td>김보미</td>\n",
              "      <td>순회교사(414-2243)</td>\n",
              "      <td>- 순회교육지원 및 컨설팅 - 특수교육대상자 진단평가 업무- 2019 유, 초, 중...</td>\n",
              "      <td>-</td>\n",
              "    </tr>\n",
              "    <tr>\n",
              "      <th>21</th>\n",
              "      <td>지경호</td>\n",
              "      <td>순회교사(414-2242)</td>\n",
              "      <td>- 특수교육 연수 기획 및 운영- 순회교육 지원 및 컨설팅- 건강장애학생 지원 - ...</td>\n",
              "      <td>-</td>\n",
              "    </tr>\n",
              "    <tr>\n",
              "      <th>22</th>\n",
              "      <td>정원경</td>\n",
              "      <td>순회교사(414-2246)</td>\n",
              "      <td>- 순회교육 지원 및 컨설팅- 특수교육 방과후학교(교내 방과후교실, 종일반) 운영 ...</td>\n",
              "      <td>-</td>\n",
              "    </tr>\n",
              "    <tr>\n",
              "      <th>23</th>\n",
              "      <td>조성훈</td>\n",
              "      <td>순회교사(414-0644)</td>\n",
              "      <td>- 순회교육계획 수립 및 지원, 순회학급 운영비 지원 - 주간업무 및 월중행사 취합...</td>\n",
              "      <td>-</td>\n",
              "    </tr>\n",
              "    <tr>\n",
              "      <th>24</th>\n",
              "      <td>김민정</td>\n",
              "      <td>장애영아교사(414-0647)</td>\n",
              "      <td>- 장애영아교육 운영계획 수립 및 영아교육 지원- 장애영유아 무상교육비 지원- 장애...</td>\n",
              "      <td>-</td>\n",
              "    </tr>\n",
              "    <tr>\n",
              "      <th>25</th>\n",
              "      <td>이소영</td>\n",
              "      <td>사회복지사(414-0645)</td>\n",
              "      <td>- 특수교육 방과후학교(늘해랑학교)운영- 특수교육대상자 진단평가 일정관리- 학부모 ...</td>\n",
              "      <td>-</td>\n",
              "    </tr>\n",
              "    <tr>\n",
              "      <th>26</th>\n",
              "      <td>우지연</td>\n",
              "      <td>언어치료사(410-0649)</td>\n",
              "      <td>- 치료지원 운영계획 및 치료지원- 언어 및 청각장애 진단평가 및 상담- 꿈e든 카...</td>\n",
              "      <td>-</td>\n",
              "    </tr>\n",
              "    <tr>\n",
              "      <th>27</th>\n",
              "      <td>박진아</td>\n",
              "      <td>직업코디네이터(410-0648)</td>\n",
              "      <td>- 진로·직업교육 연수 기획 및 운영 - 진로·직업교육 관련 지원 및 협조체제 구축...</td>\n",
              "      <td>-</td>\n",
              "    </tr>\n",
              "    <tr>\n",
              "      <th>28</th>\n",
              "      <td>김남일</td>\n",
              "      <td>주무관(414-0648)</td>\n",
              "      <td>- 특수교육지원센터 사업비 지출 (원인행위, 지출)- 특수교육지원센터 출장비 및 교...</td>\n",
              "      <td>-</td>\n",
              "    </tr>\n",
              "  </tbody>\n",
              "</table>\n",
              "</div>"
            ],
            "text/plain": [
              "     성명  ...                                                담당교\n",
              "0   정영숙  ...                                                  -\n",
              "1   이인선  ...  <호수지구>별망초성안초송호초슬기초안산양지초안산진흥초안산청석초안산해양초안산호원초초지초...\n",
              "2   임미선  ...                                                  -\n",
              "3   전은진  ...                                                  -\n",
              "4   송지희  ...                                                  -\n",
              "5   노수실  ...     <본오지구>각골초반월초본오초본원초상록초석호초시곡초안산창촌초이호초초당초팔곡초(11교)\n",
              "6   정세희  ...                                                  -\n",
              "7   이대오  ...        <고잔지구>고잔초관산초대남초대동초대부초덕성초덕인초안산중앙초와동초화랑초(10교)\n",
              "8   유진성  ...                                                  -\n",
              "9   김현식  ...  <화정지구>능길초선부초선일초신길초안산대월초안산서초안산석수초안산원곡초안산화정초원일초정...\n",
              "10  김나니  ...                                                  -\n",
              "11  김지현  ...                                           호수지구협력장학\n",
              "12  백귀경  ...                                                  -\n",
              "13  최미숙  ...                                     초등돌봄교실방과후학교운영교\n",
              "14  신민채  ...                                     초등돌봄교실방과후학교운영교\n",
              "15  양인명  ...                                     초등돌봄교실방과후학교운영교\n",
              "16  허인영  ...                                      공·사립유치원(93개원)\n",
              "17  김선혜  ...                                      공·사립유치원(93개원)\n",
              "18  김수현  ...                                     유·초·중·고특수학급설치교\n",
              "19  김유희  ...                                                  -\n",
              "20  김보미  ...                                                  -\n",
              "21  지경호  ...                                                  -\n",
              "22  정원경  ...                                                  -\n",
              "23  조성훈  ...                                                  -\n",
              "24  김민정  ...                                                  -\n",
              "25  이소영  ...                                                  -\n",
              "26  우지연  ...                                                  -\n",
              "27  박진아  ...                                                  -\n",
              "28  김남일  ...                                                  -\n",
              "\n",
              "[29 rows x 4 columns]"
            ]
          },
          "metadata": {
            "tags": []
          },
          "execution_count": 49
        }
      ]
    },
    {
      "cell_type": "markdown",
      "metadata": {
        "id": "rHQn51hpchwH",
        "colab_type": "text"
      },
      "source": [
        "### 엑셀파일 저장하기"
      ]
    },
    {
      "cell_type": "code",
      "metadata": {
        "id": "Ywj9KVGePJp2",
        "colab_type": "code",
        "colab": {}
      },
      "source": [
        "df_result.to_excel('/content/drive/My Drive/data/result/안산교육지원청_업무조직_{}.xlsx'.format(timestr)) #데이터 프레임 엑셀파일 변환\n",
        "files.download('안산교육지원청_업무조직_{}.xlsx'.format(timestr)) # 엑셀파일 다운로드"
      ],
      "execution_count": 0,
      "outputs": []
    },
    {
      "cell_type": "code",
      "metadata": {
        "id": "GA0MWR6Sby_6",
        "colab_type": "code",
        "colab": {}
      },
      "source": [
        ""
      ],
      "execution_count": 0,
      "outputs": []
    }
  ]
}
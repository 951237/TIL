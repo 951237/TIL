{
  "nbformat": 4,
  "nbformat_minor": 0,
  "metadata": {
    "colab": {
      "name": "TIL_2020_02.ipynb",
      "provenance": [],
      "collapsed_sections": [
        "fa_cF2crhZ2D",
        "-e9aRlmvjThx",
        "TRoO0gDqk87D",
        "VJhSJ0PMoHyz",
        "bJxFvdlwvUNS",
        "a8rJ6L-Z2p0R",
        "X4Vqjjvn4vMm",
        "ACREn5ukKG5o",
        "USesWvwzKJx_",
        "PQTP-ZbiKet4",
        "NVsx_E89Khnf",
        "hSP5_-CKKjbF",
        "S5LZBov-Knml",
        "XWpfhd3iKqKi",
        "AYaUjlb_KsbD",
        "lUC-aiLDKCUH",
        "Gl0bT6MdJpce",
        "VOW9cg8kM3EE",
        "J9BnIrepou4T",
        "rtHwqYKQ-atP",
        "f-xQAVw9-10D"
      ],
      "toc_visible": true,
      "mount_file_id": "1gpCo6_mLQFWfncMN303yL-1ee9OKiCkg",
      "authorship_tag": "ABX9TyP2eU02X3YJp5f/8VisPHzy",
      "include_colab_link": true
    },
    "kernelspec": {
      "name": "python3",
      "display_name": "Python 3"
    },
    "accelerator": "TPU"
  },
  "cells": [
    {
      "cell_type": "markdown",
      "metadata": {
        "id": "view-in-github",
        "colab_type": "text"
      },
      "source": [
        "<a href=\"https://colab.research.google.com/github/951237/TIL/blob/master/TIL_2020_02.ipynb\" target=\"_parent\"><img src=\"https://colab.research.google.com/assets/colab-badge.svg\" alt=\"Open In Colab\"/></a>"
      ]
    },
    {
      "cell_type": "markdown",
      "metadata": {
        "id": "9Ex-ltZEYF0W",
        "colab_type": "text"
      },
      "source": [
        "# 인공지능"
      ]
    },
    {
      "cell_type": "markdown",
      "metadata": {
        "id": "yvDpBBejYOz3",
        "colab_type": "text"
      },
      "source": [
        "## TIL - 200209 텐서플로 따라하기(안경잡이 개발자)\n",
        "- x축은 시간 \n",
        "- y축은 임금\n",
        "- 데이터를 기반으로 추후 임금 구하기"
      ]
    },
    {
      "cell_type": "markdown",
      "metadata": {
        "id": "7CRgpuM8fk_T",
        "colab_type": "text"
      },
      "source": [
        "### 선형회귀를 이용한 임금 예상하기"
      ]
    },
    {
      "cell_type": "code",
      "metadata": {
        "id": "dwwlRuhbYX5f",
        "colab_type": "code",
        "colab": {}
      },
      "source": [
        "import tensorflow as tf"
      ],
      "execution_count": 0,
      "outputs": []
    },
    {
      "cell_type": "code",
      "metadata": {
        "id": "-Vcl8IrCZNTu",
        "colab_type": "code",
        "colab": {}
      },
      "source": [
        "xData = [1, 2, 3, 4, 5, 6, 7]\n",
        "yData = [25000, 55000, 75000, 110000, 128000, 155000, 180000]"
      ],
      "execution_count": 0,
      "outputs": []
    },
    {
      "cell_type": "code",
      "metadata": {
        "id": "y0isthpgaiYo",
        "colab_type": "code",
        "colab": {}
      },
      "source": [
        "w = tf.Variable(tf.random_uniform([1], -100, 100)) #기울기\n",
        "b = tf.Variable(tf.random_uniform([1], -100, 100)) # 값"
      ],
      "execution_count": 0,
      "outputs": []
    },
    {
      "cell_type": "code",
      "metadata": {
        "id": "XTcH4zHma5kX",
        "colab_type": "code",
        "colab": {}
      },
      "source": [
        "X = tf.placeholder(tf.float32)  # x축 설정하기\n",
        "Y = tf.placeholder(tf.float32)  # y축 설정하기\n",
        "H = w * X + b # 회귀선 "
      ],
      "execution_count": 0,
      "outputs": []
    },
    {
      "cell_type": "code",
      "metadata": {
        "id": "s21UN-N3b3Rr",
        "colab_type": "code",
        "colab": {}
      },
      "source": [
        "cost = tf.reduce_mean(tf.square(H-Y)) # 절대값을 구하여 평균값을 구함\n",
        "a = tf.Variable(0.01)   # 점프값을 0.01로 정함.\n",
        "optimizer = tf.train.GradientDescentOptimizer(a)    # 경사하강법을 라이브러리 이용하여 훈련하기\n",
        "train = optimizer.minimize(cost)    # 무슨뜻?\n",
        "init = tf.global_variables_initializer()    # 초기화?\n",
        "sess = tf.Session()     # 세선을 선언\n",
        "sess.run(init)"
      ],
      "execution_count": 0,
      "outputs": []
    },
    {
      "cell_type": "code",
      "metadata": {
        "id": "h7el5Ivyb7ZQ",
        "colab_type": "code",
        "outputId": "8a726c02-67cc-4e4b-c68e-40be790f5701",
        "colab": {
          "base_uri": "https://localhost:8080/",
          "height": 221
        }
      },
      "source": [
        "for i in range(5001):\n",
        "    sess.run(train, feed_dict={X : xData, Y : yData})\n",
        "    if i % 500 == 0:    # 500 번 마다 1번씩\n",
        "        print(i, sess.run(cost, feed_dict={X : xData, Y : yData}), sess.run(w), sess.run(b))\n",
        "print(sess.run(H, feed_dict={X : [2]})) # 8시간 일할 때 값을 구하기"
      ],
      "execution_count": 0,
      "outputs": [
        {
          "output_type": "stream",
          "text": [
            "0 8632657.0 [25642.848] [1428.6133]\n",
            "500 8632657.0 [25642.848] [1428.6133]\n",
            "1000 8632657.0 [25642.848] [1428.6133]\n",
            "1500 8632657.0 [25642.848] [1428.6133]\n",
            "2000 8632657.0 [25642.848] [1428.6133]\n",
            "2500 8632657.0 [25642.848] [1428.6133]\n",
            "3000 8632657.0 [25642.848] [1428.6133]\n",
            "3500 8632657.0 [25642.848] [1428.6133]\n",
            "4000 8632657.0 [25642.848] [1428.6133]\n",
            "4500 8632657.0 [25642.848] [1428.6133]\n",
            "5000 8632657.0 [25642.848] [1428.6133]\n",
            "[52714.31]\n"
          ],
          "name": "stdout"
        }
      ]
    },
    {
      "cell_type": "markdown",
      "metadata": {
        "id": "bjOCWrsiczFv",
        "colab_type": "text"
      },
      "source": [
        "### 텐서플로 - 상수"
      ]
    },
    {
      "cell_type": "code",
      "metadata": {
        "id": "iJ1zO_dNfzz7",
        "colab_type": "code",
        "colab": {}
      },
      "source": [
        "import tensorflow as tf\n"
      ],
      "execution_count": 0,
      "outputs": []
    },
    {
      "cell_type": "code",
      "metadata": {
        "id": "AH42kcdxf4W5",
        "colab_type": "code",
        "outputId": "139b0ac9-4cc7-43b7-cc3b-2b16733bd9aa",
        "colab": {
          "base_uri": "https://localhost:8080/",
          "height": 34
        }
      },
      "source": [
        "a = tf.constant(1)  # 상수 선언\n",
        "b = tf.constant(2)\n",
        "c = tf.add(a, b)    # 연산식\n",
        "sess = tf.Session() # 세션만들기\n",
        "sess.run(c)     # 연산을 수행"
      ],
      "execution_count": 0,
      "outputs": [
        {
          "output_type": "execute_result",
          "data": {
            "text/plain": [
              "3"
            ]
          },
          "metadata": {
            "tags": []
          },
          "execution_count": 52
        }
      ]
    },
    {
      "cell_type": "markdown",
      "metadata": {
        "id": "ChkJNU4DgkyO",
        "colab_type": "text"
      },
      "source": [
        "### 텐서플로 - 변수\n",
        "- 변수를 바꿔줘야 할경우\n",
        "- 계산할 때 마다 초기화를 다시 해줘야 함. "
      ]
    },
    {
      "cell_type": "code",
      "metadata": {
        "id": "bDfCSJbIg0W_",
        "colab_type": "code",
        "colab": {}
      },
      "source": [
        "import tensorflow as tf"
      ],
      "execution_count": 0,
      "outputs": []
    },
    {
      "cell_type": "code",
      "metadata": {
        "id": "JVUcbEq_hF90",
        "colab_type": "code",
        "outputId": "70fd7dc9-06e1-4713-e510-699c6190be8a",
        "colab": {
          "base_uri": "https://localhost:8080/",
          "height": 34
        }
      },
      "source": [
        "a = tf.Variable(5)\n",
        "b = tf.Variable(6)\n",
        "c = tf.multiply(a, b)   # a, b의 곱하기 식\n",
        "init = tf.global_variables_initializer()    # ★변수를 선언시 사용할 수 있도록 초기화 하기\n",
        "sess = tf.Session()\n",
        "sess.run(init)\n",
        "sess.run(c)"
      ],
      "execution_count": 0,
      "outputs": [
        {
          "output_type": "execute_result",
          "data": {
            "text/plain": [
              "30"
            ]
          },
          "metadata": {
            "tags": []
          },
          "execution_count": 56
        }
      ]
    },
    {
      "cell_type": "markdown",
      "metadata": {
        "id": "fa_cF2crhZ2D",
        "colab_type": "text"
      },
      "source": [
        "### 텐서플로 - 플레이스 홀더(Placeholder)\n",
        "- 다른 텐서를 할당함.\n",
        "- 학습데이터를 포함하는 변수"
      ]
    },
    {
      "cell_type": "code",
      "metadata": {
        "id": "3NDsCzWeiLH6",
        "colab_type": "code",
        "colab": {}
      },
      "source": [
        "import tensorflow as tf\n"
      ],
      "execution_count": 0,
      "outputs": []
    },
    {
      "cell_type": "code",
      "metadata": {
        "id": "oD6inZzIi-fo",
        "colab_type": "code",
        "colab": {}
      },
      "source": [
        "input = [1, 2, 3, 4, 5]\n",
        "x = tf.placeholder(dtype=tf.float32)    # 학습데이터를 포함하는 변수를 선언\n",
        "y = x + 5       # y 식을 선언"
      ],
      "execution_count": 0,
      "outputs": []
    },
    {
      "cell_type": "code",
      "metadata": {
        "id": "G6apWDPdjKPJ",
        "colab_type": "code",
        "outputId": "b09b634d-1551-48cf-8f50-9939fcd77d90",
        "colab": {
          "base_uri": "https://localhost:8080/",
          "height": 34
        }
      },
      "source": [
        "sess = tf.Session()\n",
        "sess.run(y, feed_dict={x : input})  # 학습데이터를 이용하여 y 값을 구하기"
      ],
      "execution_count": 0,
      "outputs": [
        {
          "output_type": "execute_result",
          "data": {
            "text/plain": [
              "array([ 6.,  7.,  8.,  9., 10.], dtype=float32)"
            ]
          },
          "metadata": {
            "tags": []
          },
          "execution_count": 62
        }
      ]
    },
    {
      "cell_type": "markdown",
      "metadata": {
        "id": "-e9aRlmvjThx",
        "colab_type": "text"
      },
      "source": [
        "#### 예제 - 평균값 구하기"
      ]
    },
    {
      "cell_type": "code",
      "metadata": {
        "id": "_XUHK6skkdDW",
        "colab_type": "code",
        "colab": {}
      },
      "source": [
        "import tensorflow as tf\n"
      ],
      "execution_count": 0,
      "outputs": []
    },
    {
      "cell_type": "code",
      "metadata": {
        "id": "vwHjZxjikfW6",
        "colab_type": "code",
        "colab": {}
      },
      "source": [
        "math_score = [90, 87, 57, 98, 83]   # 수학점수\n",
        "english_socre = [88, 89, 78, 99, 68]    # 영어점수"
      ],
      "execution_count": 0,
      "outputs": []
    },
    {
      "cell_type": "code",
      "metadata": {
        "id": "fLl27r5Hkoyg",
        "colab_type": "code",
        "colab": {}
      },
      "source": [
        "a = tf.placeholder(dtype=tf.float32)    # 수학점수 플레이스홀더\n",
        "b = tf.placeholder(dtype=tf.float32)    # 영어점수 플레이스홀더\n",
        "y = (a + b) / 2     # 평균 값 구하는 식"
      ],
      "execution_count": 0,
      "outputs": []
    },
    {
      "cell_type": "code",
      "metadata": {
        "id": "HqRspux7kzsr",
        "colab_type": "code",
        "outputId": "5afbb687-4d99-47e3-9471-2a62722e9576",
        "colab": {
          "base_uri": "https://localhost:8080/",
          "height": 34
        }
      },
      "source": [
        "sess = tf.Session()     # 세선선언\n",
        "sess.run(y, feed_dict={a : math_score, b : english_socre})  #세션값 구하기"
      ],
      "execution_count": 0,
      "outputs": [
        {
          "output_type": "execute_result",
          "data": {
            "text/plain": [
              "array([89. , 88. , 67.5, 98.5, 75.5], dtype=float32)"
            ]
          },
          "metadata": {
            "tags": []
          },
          "execution_count": 70
        }
      ]
    },
    {
      "cell_type": "markdown",
      "metadata": {
        "id": "TRoO0gDqk87D",
        "colab_type": "text"
      },
      "source": [
        "### 텐서플로 주요함수 실습하기\n",
        "- 함수를 모두 배울 필요는 없으며, 필요할 때 알아보기"
      ]
    },
    {
      "cell_type": "code",
      "metadata": {
        "id": "MVRUWqSyllIx",
        "colab_type": "code",
        "colab": {}
      },
      "source": [
        "import tensorflow as tf\n"
      ],
      "execution_count": 0,
      "outputs": []
    },
    {
      "cell_type": "code",
      "metadata": {
        "id": "71GO7DVunJl7",
        "colab_type": "code",
        "colab": {}
      },
      "source": [
        "a = tf.constant(15)\n",
        "b = tf.constant(6)"
      ],
      "execution_count": 0,
      "outputs": []
    },
    {
      "cell_type": "code",
      "metadata": {
        "id": "2BnWWVbFnQnq",
        "colab_type": "code",
        "outputId": "d351b2c0-b3a2-4c1e-cea8-cdf7258aae28",
        "colab": {
          "base_uri": "https://localhost:8080/",
          "height": 34
        }
      },
      "source": [
        "sess = tf.Session()\n",
        "# add\n",
        "c = tf.add(a,b)\n",
        "sess.run(c)"
      ],
      "execution_count": 0,
      "outputs": [
        {
          "output_type": "execute_result",
          "data": {
            "text/plain": [
              "21"
            ]
          },
          "metadata": {
            "tags": []
          },
          "execution_count": 81
        }
      ]
    },
    {
      "cell_type": "code",
      "metadata": {
        "id": "JFORaIzLnXKm",
        "colab_type": "code",
        "outputId": "daca1a99-087b-4871-bdea-868cad3d7887",
        "colab": {
          "base_uri": "https://localhost:8080/",
          "height": 34
        }
      },
      "source": [
        "# 빼기\n",
        "c = tf.subtract(a, b)\n",
        "sess.run(c)"
      ],
      "execution_count": 0,
      "outputs": [
        {
          "output_type": "execute_result",
          "data": {
            "text/plain": [
              "9"
            ]
          },
          "metadata": {
            "tags": []
          },
          "execution_count": 83
        }
      ]
    },
    {
      "cell_type": "code",
      "metadata": {
        "id": "2gaid-z2nyk5",
        "colab_type": "code",
        "outputId": "8e74e66f-9e39-4bf4-fc5c-78486fa5fa7b",
        "colab": {
          "base_uri": "https://localhost:8080/",
          "height": 34
        }
      },
      "source": [
        "# 곱하기\n",
        "c = tf.multiply(a, b)\n",
        "sess.run(c)"
      ],
      "execution_count": 0,
      "outputs": [
        {
          "output_type": "execute_result",
          "data": {
            "text/plain": [
              "90"
            ]
          },
          "metadata": {
            "tags": []
          },
          "execution_count": 84
        }
      ]
    },
    {
      "cell_type": "code",
      "metadata": {
        "id": "1Ga8M5RWoA7U",
        "colab_type": "code",
        "outputId": "2677630b-4585-4a00-9a5c-7c1ea894a977",
        "colab": {
          "base_uri": "https://localhost:8080/",
          "height": 34
        }
      },
      "source": [
        "# 나누기\n",
        "c = tf.truediv(a,b)\n",
        "sess.run(c)"
      ],
      "execution_count": 0,
      "outputs": [
        {
          "output_type": "execute_result",
          "data": {
            "text/plain": [
              "2.5"
            ]
          },
          "metadata": {
            "tags": []
          },
          "execution_count": 85
        }
      ]
    },
    {
      "cell_type": "markdown",
      "metadata": {
        "id": "VJhSJ0PMoHyz",
        "colab_type": "text"
      },
      "source": [
        "### 빅데이터 k-means\n",
        "- 비지도학습\n",
        "- 사전준비\n",
        "    - 학생들의 성적에 따라 반을 나눈다\n",
        "    - 얼마나 많은 반?(초급, 중급, 고급)\n",
        "    - 데이터 준비\n",
        "    - 수행하기 위한 방법 선택\n",
        "- 수행과정\n",
        "    - 중심에 가까운 데이터를 클러스터에 포함\n",
        "    - 중심을 클러스터의 중앙으로 이동\n",
        "    - 위의 과정을 반복\n",
        "\n",
        "- k-means ++ \n",
        "    - 클러스터의 중심점을 자동으로 설정"
      ]
    },
    {
      "cell_type": "markdown",
      "metadata": {
        "id": "bJxFvdlwvUNS",
        "colab_type": "text"
      },
      "source": [
        "#### 예제 - 클러스터링"
      ]
    },
    {
      "cell_type": "code",
      "metadata": {
        "id": "PIVJFZ52rMP9",
        "colab_type": "code",
        "colab": {}
      },
      "source": [
        "from sklearn.cluster import KMeans  # kmean 라이브러리 호출\n",
        "import numpy as np\n",
        "import pandas as pd\n",
        "import seaborn as sns\n",
        "import matplotlib.pyplot as plt"
      ],
      "execution_count": 0,
      "outputs": []
    },
    {
      "cell_type": "markdown",
      "metadata": {
        "id": "lS0KVvnPxxoa",
        "colab_type": "text"
      },
      "source": [
        "##### 데이터프레임 만들기"
      ]
    },
    {
      "cell_type": "code",
      "metadata": {
        "id": "uT-6zblzveuc",
        "colab_type": "code",
        "colab": {}
      },
      "source": [
        "df = pd.read_csv('/content/drive/My Drive/data/ML/kmean_example.csv', header=None)\n",
        "df.columns = ['x', 'y']\n"
      ],
      "execution_count": 0,
      "outputs": []
    },
    {
      "cell_type": "markdown",
      "metadata": {
        "id": "KlpOzpxIw8Fe",
        "colab_type": "text"
      },
      "source": [
        "##### 그래프 그리기"
      ]
    },
    {
      "cell_type": "code",
      "metadata": {
        "id": "086odnSCx5xY",
        "colab_type": "code",
        "outputId": "7b39e082-f53d-429f-d0e1-6dbc055a419b",
        "colab": {
          "base_uri": "https://localhost:8080/",
          "height": 419
        }
      },
      "source": [
        "plt.figure(figsize=(14, 8))     # 그래프의 크기 설정하기. 현재 시본에서 작동 안함.\n",
        "sns.lmplot('x', 'y', data=df,\n",
        "           fit_reg=False,\n",
        "           scatter_kws={\"s\" : 100} # 점의 크기를 100으로 설정하\n",
        "           )\n",
        "plt.title('K-means Example')\n",
        "plt.xlabel('X')\n",
        "plt.ylabel('Y')"
      ],
      "execution_count": 0,
      "outputs": [
        {
          "output_type": "execute_result",
          "data": {
            "text/plain": [
              "Text(0.29999999999999716, 0.5, 'Y')"
            ]
          },
          "metadata": {
            "tags": []
          },
          "execution_count": 103
        },
        {
          "output_type": "display_data",
          "data": {
            "text/plain": [
              "<Figure size 1008x576 with 0 Axes>"
            ]
          },
          "metadata": {
            "tags": []
          }
        },
        {
          "output_type": "display_data",
          "data": {
            "image/png": "[encoded data removed]",
            "text/plain": [
              "<Figure size 360x360 with 1 Axes>"
            ]
          },
          "metadata": {
            "tags": []
          }
        }
      ]
    },
    {
      "cell_type": "markdown",
      "metadata": {
        "id": "zbzlc9nnyLQJ",
        "colab_type": "text"
      },
      "source": [
        "##### 군집화 하기"
      ]
    },
    {
      "cell_type": "code",
      "metadata": {
        "id": "9As4xmQV0okq",
        "colab_type": "code",
        "colab": {}
      },
      "source": [
        "points = df.values\n",
        "kmeans = KMeans(n_clusters=4).fit(points)   # kmeans 중심점 4개를 설정하기\n",
        "kmeans.cluster_centers_ #중심점 찾기\n",
        "kmeans.labels_  # 클러스터링 라벨 표시하기\n",
        "df['cluster'] = kmeans.labels_ # 클러스터한 것을 칼럼으로 넣기\n"
      ],
      "execution_count": 0,
      "outputs": []
    },
    {
      "cell_type": "markdown",
      "metadata": {
        "id": "7xSjby231Q5J",
        "colab_type": "text"
      },
      "source": [
        "##### 클러스터링 한것을 그래프로 표현하기"
      ]
    },
    {
      "cell_type": "code",
      "metadata": {
        "id": "MsPlBTzs0vw1",
        "colab_type": "code",
        "outputId": "2c4f49cc-4b0c-43a8-b9b8-bcee19ebfba2",
        "colab": {
          "base_uri": "https://localhost:8080/",
          "height": 402
        }
      },
      "source": [
        "sns.lmplot('x', 'y', data=df,\n",
        "           fit_reg=False,\n",
        "           scatter_kws={\"s\" : 100}, # 점의 크기를 100으로 설정하\n",
        "           hue = 'cluster')\n",
        "plt.title('K-means Example')\n",
        "plt.xlabel('X')\n",
        "plt.ylabel('Y')"
      ],
      "execution_count": 0,
      "outputs": [
        {
          "output_type": "execute_result",
          "data": {
            "text/plain": [
              "Text(27.176848958333338, 0.5, 'Y')"
            ]
          },
          "metadata": {
            "tags": []
          },
          "execution_count": 127
        },
        {
          "output_type": "display_data",
          "data": {
            "image/png": "[encoded data removed]",
            "text/plain": [
              "<Figure size 402.375x360 with 1 Axes>"
            ]
          },
          "metadata": {
            "tags": []
          }
        }
      ]
    },
    {
      "cell_type": "markdown",
      "metadata": {
        "id": "gtfubOpu1JSl",
        "colab_type": "text"
      },
      "source": [
        "## TIL - 200210 : 배추가격 예측 AI로봇 \n",
        "- 링크 : https://youtu.be/wZvhBVqitn8"
      ]
    },
    {
      "cell_type": "markdown",
      "metadata": {
        "id": "a8rJ6L-Z2p0R",
        "colab_type": "text"
      },
      "source": [
        "### 데이터 수집\n",
        "- 기상자료개방포털 \n",
        "    - 기온 : https://data.kma.go.kr/stcs/grnd/grndTaList.do?pgmNo=70\n",
        "    - 강수량 : https://data.kma.go.kr/stcs/grnd/grndRnList.do?pgmNo=69\n",
        "- 농산물 유통정보 / 채소류 / 배추 / 전체품종\n",
        "    - 소매가격 / 최소가격\n",
        "\n",
        "### 데이터 정제\n",
        "- 평균기온, 최저기온, 최고기온, 강수량, 가격"
      ]
    },
    {
      "cell_type": "markdown",
      "metadata": {
        "id": "X4Vqjjvn4vMm",
        "colab_type": "text"
      },
      "source": [
        "### 텐서플로 다변인 선형 모델 계발하기\n",
        "- 변수가 여러가지 인경우 다변인 선형 회귀모델 적용\n",
        "    - 식 : H(x1, x2, x3, x4) = x1w1 + x2w2 + x3w3 + x4w4 \n",
        "        - 모든 변인이 가격에 영향을 미친다고 감안. 가중치를 고려하여 식을 세움.\n",
        "        - 행렬의 곱을 이요한 식 : H(X) = XW\n",
        "    - 학습률 : 0.000005"
      ]
    },
    {
      "cell_type": "markdown",
      "metadata": {
        "id": "ACREn5ukKG5o",
        "colab_type": "text"
      },
      "source": [
        "#### 라이브러리 호출"
      ]
    },
    {
      "cell_type": "code",
      "metadata": {
        "id": "XgzeoXBF8aeg",
        "colab_type": "code",
        "colab": {}
      },
      "source": [
        "import tensorflow as tf\n",
        "import numpy as np\n",
        "import pandas as pd"
      ],
      "execution_count": 0,
      "outputs": []
    },
    {
      "cell_type": "markdown",
      "metadata": {
        "id": "USesWvwzKJx_",
        "colab_type": "text"
      },
      "source": [
        "#### 데이터 불러오기"
      ]
    },
    {
      "cell_type": "code",
      "metadata": {
        "id": "kDP4nx0S8umT",
        "colab_type": "code",
        "colab": {}
      },
      "source": [
        "data = pd.read_csv('/content/drive/My Drive/data/ML/배추가격_데이터_예제_price data.csv')   # 데이터 파일 불러오기"
      ],
      "execution_count": 0,
      "outputs": []
    },
    {
      "cell_type": "markdown",
      "metadata": {
        "id": "PQTP-ZbiKet4",
        "colab_type": "text"
      },
      "source": [
        "#### 학습데이터 준비하기"
      ]
    },
    {
      "cell_type": "code",
      "metadata": {
        "id": "AH_mV5O19jGw",
        "colab_type": "code",
        "colab": {}
      },
      "source": [
        "model = tf.global_variables_initializer()   # 텐서플로 변수 초기화 하기\n",
        "xy = np.array(data, dtype=np.float32)       # 데이터를 넘파이 값으로 담기 \n",
        "x_data = xy[:, 1:-1]    # 모든행을 선택, 열은 2번째 부터 끝에서 2번째 열까지 선택(변수 4가지)\n",
        "y_data = xy[:, [-1]]    # 모든행, 마지막 열 선택(가격)"
      ],
      "execution_count": 0,
      "outputs": []
    },
    {
      "cell_type": "code",
      "metadata": {
        "id": "9s9zBzhZ-7o5",
        "colab_type": "code",
        "colab": {}
      },
      "source": [
        "x = tf.placeholder(tf.float32, shape=[None, 4])     # x 축에 들어갈 학습데이터 선언\n",
        "y = tf.placeholder(tf.float32, shape=[None, 1])     # y 축에 들어갈 학습데이터 선언\n",
        "w = tf.Variable(tf.random_normal([4,1]), name = 'weight') # 가중치의 변수를 랜덤으로 선언 [4,1]의 의미는 변수의 모양 4개 1행\n",
        "b = tf.Variable(tf.random_normal([1]), name='bias')       # 바이어스의 변수를 랜덤으로 선언 [1]의 의미는 변수의 형태임 1개 1행"
      ],
      "execution_count": 0,
      "outputs": []
    },
    {
      "cell_type": "markdown",
      "metadata": {
        "id": "NVsx_E89Khnf",
        "colab_type": "text"
      },
      "source": [
        "#### 가설식 세우기"
      ]
    },
    {
      "cell_type": "code",
      "metadata": {
        "id": "P-by1pAxEMsz",
        "colab_type": "code",
        "colab": {}
      },
      "source": [
        "hypothesis = tf.matmul(x,w) + b     # 가설식 세우기. 행열의 곱을 이용하여 식 세우기"
      ],
      "execution_count": 0,
      "outputs": []
    },
    {
      "cell_type": "markdown",
      "metadata": {
        "id": "hSP5_-CKKjbF",
        "colab_type": "text"
      },
      "source": [
        "#### 계산식 세우기"
      ]
    },
    {
      "cell_type": "code",
      "metadata": {
        "id": "36K_7yWDEtIw",
        "colab_type": "code",
        "colab": {}
      },
      "source": [
        "cost = tf.reduce_mean(tf.square(hypothesis - y))    # 계산식 세우기"
      ],
      "execution_count": 0,
      "outputs": []
    },
    {
      "cell_type": "markdown",
      "metadata": {
        "id": "S5LZBov-Knml",
        "colab_type": "text"
      },
      "source": [
        "#### 최적화 함수 선언"
      ]
    },
    {
      "cell_type": "code",
      "metadata": {
        "id": "g4DaG7GTE4EW",
        "colab_type": "code",
        "colab": {}
      },
      "source": [
        "optimizer = tf.train.GradientDescentOptimizer(learning_rate=0.000005) # 최적화 함수 선언 및 학습율 설정하기\n",
        "train = optimizer.minimize(cost)"
      ],
      "execution_count": 0,
      "outputs": []
    },
    {
      "cell_type": "markdown",
      "metadata": {
        "id": "XWpfhd3iKqKi",
        "colab_type": "text"
      },
      "source": [
        "#### 세선 만들기"
      ]
    },
    {
      "cell_type": "code",
      "metadata": {
        "id": "dPj2BdmDFI8a",
        "colab_type": "code",
        "colab": {}
      },
      "source": [
        "sess = tf.Session() # 세션 만들기\n",
        "sess.run(tf.global_variables_initializer())   # 변수값 초기화"
      ],
      "execution_count": 0,
      "outputs": []
    },
    {
      "cell_type": "markdown",
      "metadata": {
        "id": "AYaUjlb_KsbD",
        "colab_type": "text"
      },
      "source": [
        "#### 학습시키기"
      ]
    },
    {
      "cell_type": "code",
      "metadata": {
        "id": "CY5pK46SFX0q",
        "colab_type": "code",
        "colab": {}
      },
      "source": [
        "for step in range(100001):\n",
        "    cost_, hypo_, _ = sess.run([cost, hypothesis, train], feed_dict={x : x_data, y : y_data})\n",
        "    if step % 500 == 0:\n",
        "        print('#', step, \"손실비용 : \", cost_)\n",
        "        print(\"- 배추가격 : \", hypo_[0])\n"
      ],
      "execution_count": 0,
      "outputs": []
    },
    {
      "cell_type": "markdown",
      "metadata": {
        "id": "lUC-aiLDKCUH",
        "colab_type": "text"
      },
      "source": [
        "#### 학습모델 저장하기 "
      ]
    },
    {
      "cell_type": "code",
      "metadata": {
        "id": "qUJzhTSCGUyN",
        "colab_type": "code",
        "outputId": "715c0450-3e23-45ec-ad80-966408b2bea5",
        "colab": {
          "base_uri": "https://localhost:8080/",
          "height": 34
        }
      },
      "source": [
        "saver = tf.train.Saver()\n",
        "save_path = saver.save(sess, '/content/drive/My Drive/data/ML/배추가격예상하기/saved.cpkt')\n",
        "print(\"학습된 모델을 저장햇습니다.\")"
      ],
      "execution_count": 0,
      "outputs": [
        {
          "output_type": "stream",
          "text": [
            "학습된 모델을 저장햇습니다.\n"
          ],
          "name": "stdout"
        }
      ]
    },
    {
      "cell_type": "markdown",
      "metadata": {
        "id": "Gl0bT6MdJpce",
        "colab_type": "text"
      },
      "source": [
        "### 배추가격 예측하기 테스트 코드 작성하기\n",
        "- 학습모델 저장하는 이유 : 한번 계산후 배추가격을 예상하면 시간이 절약됨.\n",
        "- 저장된 학습모델을 이용하여 변수를 입력하여 실시간으로 배추가격을 계산하기"
      ]
    },
    {
      "cell_type": "code",
      "metadata": {
        "id": "8hyx-s-ZLTIP",
        "colab_type": "code",
        "colab": {}
      },
      "source": [
        "import tensorflow as tf\n",
        "import numpy as np\n"
      ],
      "execution_count": 0,
      "outputs": []
    },
    {
      "cell_type": "code",
      "metadata": {
        "id": "PZbKpDq_MP2n",
        "colab_type": "code",
        "colab": {}
      },
      "source": [
        "x = tf.placeholder(tf.float32, shape = [None, 4])\n",
        "y = tf.placeholder(tf.float32, shape=[None, 1])\n",
        "w = tf.Variable(tf.random_normal([4,1], name = 'weight'))\n",
        "b = tf.Variable(tf.random_normal([1]), name = 'bias')"
      ],
      "execution_count": 0,
      "outputs": []
    },
    {
      "cell_type": "markdown",
      "metadata": {
        "id": "VOW9cg8kM3EE",
        "colab_type": "text"
      },
      "source": [
        "#### 계산식 세우기"
      ]
    },
    {
      "cell_type": "code",
      "metadata": {
        "id": "eWrR5ltUMzGS",
        "colab_type": "code",
        "colab": {}
      },
      "source": [
        "hyo"
      ],
      "execution_count": 0,
      "outputs": []
    },
    {
      "cell_type": "markdown",
      "metadata": {
        "id": "Ahzmjk97gkyA",
        "colab_type": "text"
      },
      "source": [
        "## TIL - 200216 : 배추가격 예상 AI 웹페이지로 구현하기 도전 후기"
      ]
    },
    {
      "cell_type": "markdown",
      "metadata": {
        "id": "gZuhJPeMgsws",
        "colab_type": "text"
      },
      "source": [
        "- 안경잡이개발자 동영상을 따라 구현하려고 함.\n",
        "- 문제점 발생\n",
        "    - 텐서프롤가 2.0으로 업그레이드가 되면서 placeholder매서드가 작동하지 않음.\n",
        "    - 텐서프로 1.X 버전을 2.0d으로 올려주는 라이브러리를 호출하여 적용하였으나 실패함.\n",
        "- 향후 방향\n",
        "    - 텐서프로 2.0을 학습하여 적용할 필요가 있음."
      ]
    },
    {
      "cell_type": "markdown",
      "metadata": {
        "id": "OibkaC_Vn-l4",
        "colab_type": "text"
      },
      "source": [
        "## TIL - 200217 : 다이얼로그 플로우 알아보기\n",
        "- 링크 : https://dialogflow.com\n",
        "- 강의링크 : https://www.youtube.com/playlist?list=PLRx0vPvlEmdCb33sBZGXzVOMY_seqnWJT"
      ]
    },
    {
      "cell_type": "markdown",
      "metadata": {
        "id": "J9BnIrepou4T",
        "colab_type": "text"
      },
      "source": [
        "### 강의 내용\n",
        "- 1. 다이얼로그 플로우의 개요\n",
        "    - AI를 이용하여 대화를 주고 받을 수 있는 서비스를 생성할 수 있음.\n",
        "- 2. Intent를 생성해 단순 질의\n",
        "    - 예상가능한 질문을 입력하면, 구문을 분석하여 알맞은 대답을 함.\n",
        "- 3. Follow-up Intent를 이용하기\n",
        "    - 연속적인 대화를 가능하게 함.\n",
        "    - 질문 → 답변 → 질문 → 답변 등등\n",
        "    - 입력을 해야함.\n",
        "- 4. Entity로 단어 분리 인식하기\n",
        "    - 특정단어를 따로 인식하게 하여 질문에 대한 답변을 정교하게 함.\n",
        "    - 예시) \n",
        "        - python강의를 듣고 싶어. \n",
        "            - python 강의를 듣고 싶으시다고요?\n",
        "        - 응 \n",
        "            - python 강의를 신청하였습니다.\n",
        "    - 위의 예시처럼 강의 명을 인식하게 하여 대답을 정교하게 함.\n",
        "- 5. 엑셀파일 등을 이용하여 데이터를 만들고 json파일을 생성하여 업로드\n",
        "    - 엑셀에 대량의 데이터를 미리 입력하여, 서버에서 받아들일 수 있는 json형태로 바꾸어 업로드 할 수 있음.\n",
        "    - 엑셀의 데이터를 json형태로 바꾸는 것은 python등을 이용하여 자동화 할 수 있음.\n",
        "    - ★★★ 더 공부하고 싶은점.\n",
        "        - 클래스를 만들어서 손쉽게 데이터를 저장함.\n",
        "        - 데이터 셋을 만들 때 클래스를 이용하면 코드의 양을 줄일 수 있음.\n",
        "- 6. 플라스크 연동하기\n",
        "    - API를 이용하여 웹앱을 만들 때 플라스크를 이용하면 손쉽게(?) 구현할 수 있음.\n",
        "- 7. 카카오 챗봇 개발하기\n",
        "    - 다이얼로그 플로우를 개발한 서버에서 구현하고 서버의 API를 카카오 챗봇에 연결하여 챗봇을 구현할 수 있음.\n",
        "    - 서버를 구현하는 것은 구름 서비스를 이용하면 교육용으로 사용가능\n",
        "    - 항상 가능한 서비스를 이용하기 위해서는 AWS와 같은 상용 서버 서비스를 이용해야함."
      ]
    },
    {
      "cell_type": "code",
      "metadata": {
        "id": "Qst9CS24MELF",
        "colab_type": "code",
        "colab": {}
      },
      "source": [
        ""
      ],
      "execution_count": 0,
      "outputs": []
    },
    {
      "cell_type": "markdown",
      "metadata": {
        "id": "tqFWkyQ7owqc",
        "colab_type": "text"
      },
      "source": [
        "## TIL - 200221 : 따라하기 - 타이타닉 생존예측하기\n",
        "- 깃허브 링크 : https://github.com/minsuk-heo/kaggle-titanic/blob/master/titanic-solution.ipynb"
      ]
    },
    {
      "cell_type": "markdown",
      "metadata": {
        "id": "tzd96zk7uaqc",
        "colab_type": "text"
      },
      "source": [
        "### 데이터 프레임 로딩"
      ]
    },
    {
      "cell_type": "code",
      "metadata": {
        "id": "cSG6-VdCubJJ",
        "colab_type": "code",
        "colab": {}
      },
      "source": [
        "import pandas as pd\n",
        "train = pd.read_csv('/content/drive/My Drive/data/ML/타이타닉_생존에측/train.csv')\n",
        "test = pd.read_csv('/content/drive/My Drive/data/ML/타이타닉_생존에측/test.csv')"
      ],
      "execution_count": 0,
      "outputs": []
    },
    {
      "cell_type": "markdown",
      "metadata": {
        "id": "bUlK2lD0ubT8",
        "colab_type": "text"
      },
      "source": [
        "### 데이터 확인하기"
      ]
    },
    {
      "cell_type": "code",
      "metadata": {
        "id": "KCHyaG1qRcA1",
        "colab_type": "code",
        "outputId": "03de9d29-0403-4fd6-db31-f0e48885fe1e",
        "colab": {
          "base_uri": "https://localhost:8080/",
          "height": 255
        }
      },
      "source": [
        "train.head(5)"
      ],
      "execution_count": 3,
      "outputs": [
        {
          "output_type": "execute_result",
          "data": {
            "text/html": [
              "<div>\n",
              "<style scoped>\n",
              "    .dataframe tbody tr th:only-of-type {\n",
              "        vertical-align: middle;\n",
              "    }\n",
              "\n",
              "    .dataframe tbody tr th {\n",
              "        vertical-align: top;\n",
              "    }\n",
              "\n",
              "    .dataframe thead th {\n",
              "        text-align: right;\n",
              "    }\n",
              "</style>\n",
              "<table border=\"1\" class=\"dataframe\">\n",
              "  <thead>\n",
              "    <tr style=\"text-align: right;\">\n",
              "      <th></th>\n",
              "      <th>PassengerId</th>\n",
              "      <th>Survived</th>\n",
              "      <th>Pclass</th>\n",
              "      <th>Name</th>\n",
              "      <th>Sex</th>\n",
              "      <th>Age</th>\n",
              "      <th>SibSp</th>\n",
              "      <th>Parch</th>\n",
              "      <th>Ticket</th>\n",
              "      <th>Fare</th>\n",
              "      <th>Cabin</th>\n",
              "      <th>Embarked</th>\n",
              "    </tr>\n",
              "  </thead>\n",
              "  <tbody>\n",
              "    <tr>\n",
              "      <th>0</th>\n",
              "      <td>1</td>\n",
              "      <td>0</td>\n",
              "      <td>3</td>\n",
              "      <td>Braund, Mr. Owen Harris</td>\n",
              "      <td>male</td>\n",
              "      <td>22.0</td>\n",
              "      <td>1</td>\n",
              "      <td>0</td>\n",
              "      <td>A/5 21171</td>\n",
              "      <td>7.2500</td>\n",
              "      <td>NaN</td>\n",
              "      <td>S</td>\n",
              "    </tr>\n",
              "    <tr>\n",
              "      <th>1</th>\n",
              "      <td>2</td>\n",
              "      <td>1</td>\n",
              "      <td>1</td>\n",
              "      <td>Cumings, Mrs. John Bradley (Florence Briggs Th...</td>\n",
              "      <td>female</td>\n",
              "      <td>38.0</td>\n",
              "      <td>1</td>\n",
              "      <td>0</td>\n",
              "      <td>PC 17599</td>\n",
              "      <td>71.2833</td>\n",
              "      <td>C85</td>\n",
              "      <td>C</td>\n",
              "    </tr>\n",
              "    <tr>\n",
              "      <th>2</th>\n",
              "      <td>3</td>\n",
              "      <td>1</td>\n",
              "      <td>3</td>\n",
              "      <td>Heikkinen, Miss. Laina</td>\n",
              "      <td>female</td>\n",
              "      <td>26.0</td>\n",
              "      <td>0</td>\n",
              "      <td>0</td>\n",
              "      <td>STON/O2. 3101282</td>\n",
              "      <td>7.9250</td>\n",
              "      <td>NaN</td>\n",
              "      <td>S</td>\n",
              "    </tr>\n",
              "    <tr>\n",
              "      <th>3</th>\n",
              "      <td>4</td>\n",
              "      <td>1</td>\n",
              "      <td>1</td>\n",
              "      <td>Futrelle, Mrs. Jacques Heath (Lily May Peel)</td>\n",
              "      <td>female</td>\n",
              "      <td>35.0</td>\n",
              "      <td>1</td>\n",
              "      <td>0</td>\n",
              "      <td>113803</td>\n",
              "      <td>53.1000</td>\n",
              "      <td>C123</td>\n",
              "      <td>S</td>\n",
              "    </tr>\n",
              "    <tr>\n",
              "      <th>4</th>\n",
              "      <td>5</td>\n",
              "      <td>0</td>\n",
              "      <td>3</td>\n",
              "      <td>Allen, Mr. William Henry</td>\n",
              "      <td>male</td>\n",
              "      <td>35.0</td>\n",
              "      <td>0</td>\n",
              "      <td>0</td>\n",
              "      <td>373450</td>\n",
              "      <td>8.0500</td>\n",
              "      <td>NaN</td>\n",
              "      <td>S</td>\n",
              "    </tr>\n",
              "  </tbody>\n",
              "</table>\n",
              "</div>"
            ],
            "text/plain": [
              "   PassengerId  Survived  Pclass  ...     Fare Cabin  Embarked\n",
              "0            1         0       3  ...   7.2500   NaN         S\n",
              "1            2         1       1  ...  71.2833   C85         C\n",
              "2            3         1       3  ...   7.9250   NaN         S\n",
              "3            4         1       1  ...  53.1000  C123         S\n",
              "4            5         0       3  ...   8.0500   NaN         S\n",
              "\n",
              "[5 rows x 12 columns]"
            ]
          },
          "metadata": {
            "tags": []
          },
          "execution_count": 3
        }
      ]
    },
    {
      "cell_type": "code",
      "metadata": {
        "id": "9PjYZ8_xowzy",
        "colab_type": "code",
        "outputId": "c436fb3d-b427-49c8-aa76-b32ff67c771c",
        "colab": {
          "base_uri": "https://localhost:8080/",
          "height": 204
        }
      },
      "source": [
        "test.head(5)"
      ],
      "execution_count": 4,
      "outputs": [
        {
          "output_type": "execute_result",
          "data": {
            "text/html": [
              "<div>\n",
              "<style scoped>\n",
              "    .dataframe tbody tr th:only-of-type {\n",
              "        vertical-align: middle;\n",
              "    }\n",
              "\n",
              "    .dataframe tbody tr th {\n",
              "        vertical-align: top;\n",
              "    }\n",
              "\n",
              "    .dataframe thead th {\n",
              "        text-align: right;\n",
              "    }\n",
              "</style>\n",
              "<table border=\"1\" class=\"dataframe\">\n",
              "  <thead>\n",
              "    <tr style=\"text-align: right;\">\n",
              "      <th></th>\n",
              "      <th>PassengerId</th>\n",
              "      <th>Pclass</th>\n",
              "      <th>Name</th>\n",
              "      <th>Sex</th>\n",
              "      <th>Age</th>\n",
              "      <th>SibSp</th>\n",
              "      <th>Parch</th>\n",
              "      <th>Ticket</th>\n",
              "      <th>Fare</th>\n",
              "      <th>Cabin</th>\n",
              "      <th>Embarked</th>\n",
              "    </tr>\n",
              "  </thead>\n",
              "  <tbody>\n",
              "    <tr>\n",
              "      <th>0</th>\n",
              "      <td>892</td>\n",
              "      <td>3</td>\n",
              "      <td>Kelly, Mr. James</td>\n",
              "      <td>male</td>\n",
              "      <td>34.5</td>\n",
              "      <td>0</td>\n",
              "      <td>0</td>\n",
              "      <td>330911</td>\n",
              "      <td>7.8292</td>\n",
              "      <td>NaN</td>\n",
              "      <td>Q</td>\n",
              "    </tr>\n",
              "    <tr>\n",
              "      <th>1</th>\n",
              "      <td>893</td>\n",
              "      <td>3</td>\n",
              "      <td>Wilkes, Mrs. James (Ellen Needs)</td>\n",
              "      <td>female</td>\n",
              "      <td>47.0</td>\n",
              "      <td>1</td>\n",
              "      <td>0</td>\n",
              "      <td>363272</td>\n",
              "      <td>7.0000</td>\n",
              "      <td>NaN</td>\n",
              "      <td>S</td>\n",
              "    </tr>\n",
              "    <tr>\n",
              "      <th>2</th>\n",
              "      <td>894</td>\n",
              "      <td>2</td>\n",
              "      <td>Myles, Mr. Thomas Francis</td>\n",
              "      <td>male</td>\n",
              "      <td>62.0</td>\n",
              "      <td>0</td>\n",
              "      <td>0</td>\n",
              "      <td>240276</td>\n",
              "      <td>9.6875</td>\n",
              "      <td>NaN</td>\n",
              "      <td>Q</td>\n",
              "    </tr>\n",
              "    <tr>\n",
              "      <th>3</th>\n",
              "      <td>895</td>\n",
              "      <td>3</td>\n",
              "      <td>Wirz, Mr. Albert</td>\n",
              "      <td>male</td>\n",
              "      <td>27.0</td>\n",
              "      <td>0</td>\n",
              "      <td>0</td>\n",
              "      <td>315154</td>\n",
              "      <td>8.6625</td>\n",
              "      <td>NaN</td>\n",
              "      <td>S</td>\n",
              "    </tr>\n",
              "    <tr>\n",
              "      <th>4</th>\n",
              "      <td>896</td>\n",
              "      <td>3</td>\n",
              "      <td>Hirvonen, Mrs. Alexander (Helga E Lindqvist)</td>\n",
              "      <td>female</td>\n",
              "      <td>22.0</td>\n",
              "      <td>1</td>\n",
              "      <td>1</td>\n",
              "      <td>3101298</td>\n",
              "      <td>12.2875</td>\n",
              "      <td>NaN</td>\n",
              "      <td>S</td>\n",
              "    </tr>\n",
              "  </tbody>\n",
              "</table>\n",
              "</div>"
            ],
            "text/plain": [
              "   PassengerId  Pclass  ... Cabin Embarked\n",
              "0          892       3  ...   NaN        Q\n",
              "1          893       3  ...   NaN        S\n",
              "2          894       2  ...   NaN        Q\n",
              "3          895       3  ...   NaN        S\n",
              "4          896       3  ...   NaN        S\n",
              "\n",
              "[5 rows x 11 columns]"
            ]
          },
          "metadata": {
            "tags": []
          },
          "execution_count": 4
        }
      ]
    },
    {
      "cell_type": "markdown",
      "metadata": {
        "id": "RuhotSQRow8r",
        "colab_type": "text"
      },
      "source": [
        "### 데이터 딕셔너리\n",
        "- 생존 : 0 = No, 1 = Yes\n",
        "- pclass : 티켓클래스 1 = 1st, 2 = 2nd, 3 = 3rd\n",
        "- shbsp : 형제자매 수\n",
        "- parch : 부모, 자녀 동승\n",
        "- ticket : 티켓 번호\n",
        "- cabin : 숙소\n",
        "- embarked : 탑승장소  C = Cherbourg, Q = Queenstown, S = Southampton"
      ]
    },
    {
      "cell_type": "code",
      "metadata": {
        "id": "4BpPaywUSkc9",
        "colab_type": "code",
        "outputId": "27f474e7-f61b-494a-d913-782e6f8b84ac",
        "colab": {
          "base_uri": "https://localhost:8080/",
          "height": 34
        }
      },
      "source": [
        "train.shape"
      ],
      "execution_count": 5,
      "outputs": [
        {
          "output_type": "execute_result",
          "data": {
            "text/plain": [
              "(891, 12)"
            ]
          },
          "metadata": {
            "tags": []
          },
          "execution_count": 5
        }
      ]
    },
    {
      "cell_type": "markdown",
      "metadata": {
        "id": "VJw1cRwbTEfO",
        "colab_type": "text"
      },
      "source": [
        "- 891행과 12개의 칼럼을 가지고 있음."
      ]
    },
    {
      "cell_type": "code",
      "metadata": {
        "id": "kW_DLTnpSqAU",
        "colab_type": "code",
        "outputId": "226c7993-25c0-4799-a2ba-64a942bce8d7",
        "colab": {
          "base_uri": "https://localhost:8080/",
          "height": 306
        }
      },
      "source": [
        "train.info()"
      ],
      "execution_count": 6,
      "outputs": [
        {
          "output_type": "stream",
          "text": [
            "<class 'pandas.core.frame.DataFrame'>\n",
            "RangeIndex: 891 entries, 0 to 890\n",
            "Data columns (total 12 columns):\n",
            "PassengerId    891 non-null int64\n",
            "Survived       891 non-null int64\n",
            "Pclass         891 non-null int64\n",
            "Name           891 non-null object\n",
            "Sex            891 non-null object\n",
            "Age            714 non-null float64\n",
            "SibSp          891 non-null int64\n",
            "Parch          891 non-null int64\n",
            "Ticket         891 non-null object\n",
            "Fare           891 non-null float64\n",
            "Cabin          204 non-null object\n",
            "Embarked       889 non-null object\n",
            "dtypes: float64(2), int64(5), object(5)\n",
            "memory usage: 83.7+ KB\n"
          ],
          "name": "stdout"
        }
      ]
    },
    {
      "cell_type": "markdown",
      "metadata": {
        "id": "iSg-Q4Z4TKIf",
        "colab_type": "text"
      },
      "source": [
        "- 나이정보, 숙소, 탑승지에서 에서 결측치가 보임 "
      ]
    },
    {
      "cell_type": "code",
      "metadata": {
        "id": "2SZO18YDTsfJ",
        "colab_type": "code",
        "outputId": "704fcf56-81c3-4a5d-fff8-5422b73bb3f8",
        "colab": {
          "base_uri": "https://localhost:8080/",
          "height": 238
        }
      },
      "source": [
        "train.isnull().sum()"
      ],
      "execution_count": 7,
      "outputs": [
        {
          "output_type": "execute_result",
          "data": {
            "text/plain": [
              "PassengerId      0\n",
              "Survived         0\n",
              "Pclass           0\n",
              "Name             0\n",
              "Sex              0\n",
              "Age            177\n",
              "SibSp            0\n",
              "Parch            0\n",
              "Ticket           0\n",
              "Fare             0\n",
              "Cabin          687\n",
              "Embarked         2\n",
              "dtype: int64"
            ]
          },
          "metadata": {
            "tags": []
          },
          "execution_count": 7
        }
      ]
    },
    {
      "cell_type": "markdown",
      "metadata": {
        "id": "saawssCSTwk6",
        "colab_type": "text"
      },
      "source": [
        "결측 값\n",
        "- 나이 177개\n",
        "- 숙소 687개\n",
        "- 탑승지 2개"
      ]
    },
    {
      "cell_type": "code",
      "metadata": {
        "id": "5G0idUpxSt8f",
        "colab_type": "code",
        "outputId": "e80b8656-da7e-4264-b6c2-ce71c22cc422",
        "colab": {
          "base_uri": "https://localhost:8080/",
          "height": 34
        }
      },
      "source": [
        "test.shape"
      ],
      "execution_count": 8,
      "outputs": [
        {
          "output_type": "execute_result",
          "data": {
            "text/plain": [
              "(418, 11)"
            ]
          },
          "metadata": {
            "tags": []
          },
          "execution_count": 8
        }
      ]
    },
    {
      "cell_type": "markdown",
      "metadata": {
        "id": "m6acLgv7TWDK",
        "colab_type": "text"
      },
      "source": [
        "- 418행 11칼럼 "
      ]
    },
    {
      "cell_type": "code",
      "metadata": {
        "id": "0d3uCghFSxUL",
        "colab_type": "code",
        "outputId": "daceefff-0b2e-4dba-988a-1431cc152c4a",
        "colab": {
          "base_uri": "https://localhost:8080/",
          "height": 289
        }
      },
      "source": [
        "test.info()"
      ],
      "execution_count": 9,
      "outputs": [
        {
          "output_type": "stream",
          "text": [
            "<class 'pandas.core.frame.DataFrame'>\n",
            "RangeIndex: 418 entries, 0 to 417\n",
            "Data columns (total 11 columns):\n",
            "PassengerId    418 non-null int64\n",
            "Pclass         418 non-null int64\n",
            "Name           418 non-null object\n",
            "Sex            418 non-null object\n",
            "Age            332 non-null float64\n",
            "SibSp          418 non-null int64\n",
            "Parch          418 non-null int64\n",
            "Ticket         418 non-null object\n",
            "Fare           417 non-null float64\n",
            "Cabin          91 non-null object\n",
            "Embarked       418 non-null object\n",
            "dtypes: float64(2), int64(4), object(5)\n",
            "memory usage: 36.0+ KB\n"
          ],
          "name": "stdout"
        }
      ]
    },
    {
      "cell_type": "markdown",
      "metadata": {
        "id": "5MtpfU4ySyt8",
        "colab_type": "text"
      },
      "source": [
        "- 나이, 숙소, 경비에서 결측값이 있음."
      ]
    },
    {
      "cell_type": "code",
      "metadata": {
        "id": "Pv22vIinoxHL",
        "colab_type": "code",
        "outputId": "7652582a-8c82-47fd-9b4b-d7fd057f2b0c",
        "colab": {
          "base_uri": "https://localhost:8080/",
          "height": 221
        }
      },
      "source": [
        "test.isnull().sum()"
      ],
      "execution_count": 10,
      "outputs": [
        {
          "output_type": "execute_result",
          "data": {
            "text/plain": [
              "PassengerId      0\n",
              "Pclass           0\n",
              "Name             0\n",
              "Sex              0\n",
              "Age             86\n",
              "SibSp            0\n",
              "Parch            0\n",
              "Ticket           0\n",
              "Fare             1\n",
              "Cabin          327\n",
              "Embarked         0\n",
              "dtype: int64"
            ]
          },
          "metadata": {
            "tags": []
          },
          "execution_count": 10
        }
      ]
    },
    {
      "cell_type": "markdown",
      "metadata": {
        "id": "iGYjzLFTT-10",
        "colab_type": "text"
      },
      "source": [
        "결측값\n",
        "- 나이 : 86개\n",
        "- 탑승비 : 1개\n",
        "- 숙소 : 327개"
      ]
    },
    {
      "cell_type": "markdown",
      "metadata": {
        "id": "Omj_oekCoxRC",
        "colab_type": "text"
      },
      "source": [
        "### 시각화 도구 라이브러리 호출"
      ]
    },
    {
      "cell_type": "code",
      "metadata": {
        "id": "XRkK4UjpUOAW",
        "colab_type": "code",
        "colab": {}
      },
      "source": [
        "import matplotlib.pyplot as plt\n",
        "import seaborn as sns\n",
        "sns.set()   # 시각화 도구로 시본을 기본값으로 설정"
      ],
      "execution_count": 0,
      "outputs": []
    },
    {
      "cell_type": "markdown",
      "metadata": {
        "id": "SBa8_cbOUOaI",
        "colab_type": "text"
      },
      "source": [
        "### 카테고리 피처 bar chart로 나타내기\n",
        "- pclass\n",
        "- sex\n",
        "- sibsp\n",
        "- parch\n",
        "- Embarked\n",
        "- cabin"
      ]
    },
    {
      "cell_type": "markdown",
      "metadata": {
        "id": "NChz2x1zYtHV",
        "colab_type": "text"
      },
      "source": [
        "#### Bar Chart 함수 만들기"
      ]
    },
    {
      "cell_type": "code",
      "metadata": {
        "id": "etkmhBJ8UOhC",
        "colab_type": "code",
        "colab": {}
      },
      "source": [
        "def bar_chart(feature):\n",
        "    survived = train[ train['Survived'] == 1 ][feature].value_counts() # 생존자 중에서 피처에 해당하는 인원을 시리즈로 생성\n",
        "    dead = train[train['Survived'] == 0][feature].value_counts()    # 사망자 중에서 피처에 해당하는 인원을 시리즈로 생성\n",
        "    df = pd.DataFrame([survived, dead])     # 시리즈 2개를 묶어서 데이터 프레임으로 생성\n",
        "    df.index = ['Survived', 'Dead']         # 인덱스 'Sex'를 'Survived', 'Dead'로 바꿔줌\n",
        "    df.plot(kind = 'bar', stacked = True, figsize = (10, 5))  # stacked는 1개의 그래프에 누적하여 나타냄\n"
      ],
      "execution_count": 0,
      "outputs": []
    },
    {
      "cell_type": "code",
      "metadata": {
        "id": "cSfZQPvtUOoG",
        "colab_type": "code",
        "outputId": "36e9e043-cb63-484e-d931-5e4d2ea14eb2",
        "colab": {
          "base_uri": "https://localhost:8080/",
          "height": 361
        }
      },
      "source": [
        "bar_chart('Sex')"
      ],
      "execution_count": 13,
      "outputs": [
        {
          "output_type": "display_data",
          "data": {
            "image/png": "[encoded data removed]",
            "text/plain": [
              "<Figure size 720x360 with 1 Axes>"
            ]
          },
          "metadata": {
            "tags": []
          }
        }
      ]
    },
    {
      "cell_type": "markdown",
      "metadata": {
        "id": "DH8VMPI5YIpE",
        "colab_type": "text"
      },
      "source": [
        "- 생존자는 여성의 비율이 높음\n",
        "- 사망자는 남성의 비율이 높음.\n",
        "- ★ 성별과 생존률과는 연관성이 있음."
      ]
    },
    {
      "cell_type": "code",
      "metadata": {
        "id": "633pznhZUOwD",
        "colab_type": "code",
        "outputId": "04bad1eb-f510-4cc5-9cc3-af2caa16d714",
        "colab": {
          "base_uri": "https://localhost:8080/",
          "height": 361
        }
      },
      "source": [
        "bar_chart('Pclass')"
      ],
      "execution_count": 14,
      "outputs": [
        {
          "output_type": "display_data",
          "data": {
            "image/png": "[encoded data removed]",
            "text/plain": [
              "<Figure size 720x360 with 1 Axes>"
            ]
          },
          "metadata": {
            "tags": []
          }
        }
      ]
    },
    {
      "cell_type": "markdown",
      "metadata": {
        "id": "LFO5Xl-RUO26",
        "colab_type": "text"
      },
      "source": [
        "- 생존자중에 1등급이 많음.\n",
        "- 사망자 중에 3등급 비율이 높음.\n",
        "- ★생존률과는 클래스와 연관성이 있음."
      ]
    },
    {
      "cell_type": "code",
      "metadata": {
        "id": "SexulJeFZGs7",
        "colab_type": "code",
        "outputId": "7335d6eb-567c-463c-f996-1511ede01b95",
        "colab": {
          "base_uri": "https://localhost:8080/",
          "height": 361
        }
      },
      "source": [
        "bar_chart('SibSp')"
      ],
      "execution_count": 15,
      "outputs": [
        {
          "output_type": "display_data",
          "data": {
            "image/png": "[encoded data removed]",
            "text/plain": [
              "<Figure size 720x360 with 1 Axes>"
            ]
          },
          "metadata": {
            "tags": []
          }
        }
      ]
    },
    {
      "cell_type": "markdown",
      "metadata": {
        "id": "ClqhjZXuZG6J",
        "colab_type": "text"
      },
      "source": [
        "- 사망자에서 혼자인 경우 비율이 높음.\n",
        "- 가족이 있는 경우 생존률이 높음.\n"
      ]
    },
    {
      "cell_type": "code",
      "metadata": {
        "id": "UZAFrNZIZiD3",
        "colab_type": "code",
        "outputId": "0d6bd7d2-2898-4237-fd45-4f85d19a10c1",
        "colab": {
          "base_uri": "https://localhost:8080/",
          "height": 361
        }
      },
      "source": [
        "bar_chart('Parch')"
      ],
      "execution_count": 16,
      "outputs": [
        {
          "output_type": "display_data",
          "data": {
            "image/png": "[encoded data removed]",
            "text/plain": [
              "<Figure size 720x360 with 1 Axes>"
            ]
          },
          "metadata": {
            "tags": []
          }
        }
      ]
    },
    {
      "cell_type": "markdown",
      "metadata": {
        "id": "nzFlfTPYZnrV",
        "colab_type": "text"
      },
      "source": [
        "- 혼자인경우 사망률이 높음\n",
        "- 부모 자식이 있는 경우 생존률이 높음."
      ]
    },
    {
      "cell_type": "code",
      "metadata": {
        "id": "jn8Lewy4ZHAc",
        "colab_type": "code",
        "outputId": "d316cbeb-6831-4ad4-e46b-5b6b2db20bee",
        "colab": {
          "base_uri": "https://localhost:8080/",
          "height": 361
        }
      },
      "source": [
        "bar_chart('Embarked')"
      ],
      "execution_count": 17,
      "outputs": [
        {
          "output_type": "display_data",
          "data": {
            "image/png": "[encoded data removed]",
            "text/plain": [
              "<Figure size 720x360 with 1 Axes>"
            ]
          },
          "metadata": {
            "tags": []
          }
        }
      ]
    },
    {
      "cell_type": "markdown",
      "metadata": {
        "id": "L3B273fHaBFF",
        "colab_type": "text"
      },
      "source": [
        "- C인 경우 생존률이 좀 높음.\n",
        "- S, Q의 경우 사망률이 좀 높음."
      ]
    },
    {
      "cell_type": "markdown",
      "metadata": {
        "id": "kuZ4hbBQZHGO",
        "colab_type": "text"
      },
      "source": [
        "### 피처 엔지니어링"
      ]
    },
    {
      "cell_type": "code",
      "metadata": {
        "id": "pclyzER7ZHL5",
        "colab_type": "code",
        "colab": {
          "base_uri": "https://localhost:8080/",
          "height": 255
        },
        "outputId": "e8526904-94ed-4bad-c52c-bd6aba2106a3"
      },
      "source": [
        "train.head()"
      ],
      "execution_count": 18,
      "outputs": [
        {
          "output_type": "execute_result",
          "data": {
            "text/html": [
              "<div>\n",
              "<style scoped>\n",
              "    .dataframe tbody tr th:only-of-type {\n",
              "        vertical-align: middle;\n",
              "    }\n",
              "\n",
              "    .dataframe tbody tr th {\n",
              "        vertical-align: top;\n",
              "    }\n",
              "\n",
              "    .dataframe thead th {\n",
              "        text-align: right;\n",
              "    }\n",
              "</style>\n",
              "<table border=\"1\" class=\"dataframe\">\n",
              "  <thead>\n",
              "    <tr style=\"text-align: right;\">\n",
              "      <th></th>\n",
              "      <th>PassengerId</th>\n",
              "      <th>Survived</th>\n",
              "      <th>Pclass</th>\n",
              "      <th>Name</th>\n",
              "      <th>Sex</th>\n",
              "      <th>Age</th>\n",
              "      <th>SibSp</th>\n",
              "      <th>Parch</th>\n",
              "      <th>Ticket</th>\n",
              "      <th>Fare</th>\n",
              "      <th>Cabin</th>\n",
              "      <th>Embarked</th>\n",
              "    </tr>\n",
              "  </thead>\n",
              "  <tbody>\n",
              "    <tr>\n",
              "      <th>0</th>\n",
              "      <td>1</td>\n",
              "      <td>0</td>\n",
              "      <td>3</td>\n",
              "      <td>Braund, Mr. Owen Harris</td>\n",
              "      <td>male</td>\n",
              "      <td>22.0</td>\n",
              "      <td>1</td>\n",
              "      <td>0</td>\n",
              "      <td>A/5 21171</td>\n",
              "      <td>7.2500</td>\n",
              "      <td>NaN</td>\n",
              "      <td>S</td>\n",
              "    </tr>\n",
              "    <tr>\n",
              "      <th>1</th>\n",
              "      <td>2</td>\n",
              "      <td>1</td>\n",
              "      <td>1</td>\n",
              "      <td>Cumings, Mrs. John Bradley (Florence Briggs Th...</td>\n",
              "      <td>female</td>\n",
              "      <td>38.0</td>\n",
              "      <td>1</td>\n",
              "      <td>0</td>\n",
              "      <td>PC 17599</td>\n",
              "      <td>71.2833</td>\n",
              "      <td>C85</td>\n",
              "      <td>C</td>\n",
              "    </tr>\n",
              "    <tr>\n",
              "      <th>2</th>\n",
              "      <td>3</td>\n",
              "      <td>1</td>\n",
              "      <td>3</td>\n",
              "      <td>Heikkinen, Miss. Laina</td>\n",
              "      <td>female</td>\n",
              "      <td>26.0</td>\n",
              "      <td>0</td>\n",
              "      <td>0</td>\n",
              "      <td>STON/O2. 3101282</td>\n",
              "      <td>7.9250</td>\n",
              "      <td>NaN</td>\n",
              "      <td>S</td>\n",
              "    </tr>\n",
              "    <tr>\n",
              "      <th>3</th>\n",
              "      <td>4</td>\n",
              "      <td>1</td>\n",
              "      <td>1</td>\n",
              "      <td>Futrelle, Mrs. Jacques Heath (Lily May Peel)</td>\n",
              "      <td>female</td>\n",
              "      <td>35.0</td>\n",
              "      <td>1</td>\n",
              "      <td>0</td>\n",
              "      <td>113803</td>\n",
              "      <td>53.1000</td>\n",
              "      <td>C123</td>\n",
              "      <td>S</td>\n",
              "    </tr>\n",
              "    <tr>\n",
              "      <th>4</th>\n",
              "      <td>5</td>\n",
              "      <td>0</td>\n",
              "      <td>3</td>\n",
              "      <td>Allen, Mr. William Henry</td>\n",
              "      <td>male</td>\n",
              "      <td>35.0</td>\n",
              "      <td>0</td>\n",
              "      <td>0</td>\n",
              "      <td>373450</td>\n",
              "      <td>8.0500</td>\n",
              "      <td>NaN</td>\n",
              "      <td>S</td>\n",
              "    </tr>\n",
              "  </tbody>\n",
              "</table>\n",
              "</div>"
            ],
            "text/plain": [
              "   PassengerId  Survived  Pclass  ...     Fare Cabin  Embarked\n",
              "0            1         0       3  ...   7.2500   NaN         S\n",
              "1            2         1       1  ...  71.2833   C85         C\n",
              "2            3         1       3  ...   7.9250   NaN         S\n",
              "3            4         1       1  ...  53.1000  C123         S\n",
              "4            5         0       3  ...   8.0500   NaN         S\n",
              "\n",
              "[5 rows x 12 columns]"
            ]
          },
          "metadata": {
            "tags": []
          },
          "execution_count": 18
        }
      ]
    },
    {
      "cell_type": "markdown",
      "metadata": {
        "id": "N8pzl444ZHRw",
        "colab_type": "text"
      },
      "source": [
        "#### 이름\n",
        "- 이름에서 데이터 추출\n",
        "- 정규식 사용"
      ]
    },
    {
      "cell_type": "code",
      "metadata": {
        "id": "oIxwmUYRZHX7",
        "colab_type": "code",
        "colab": {
          "base_uri": "https://localhost:8080/",
          "height": 34
        },
        "outputId": "0269f7cc-c66e-4aa8-d460-a9e714f98609"
      },
      "source": [
        "train_test_data = [train, test]\n",
        "type(train_test_data)"
      ],
      "execution_count": 19,
      "outputs": [
        {
          "output_type": "execute_result",
          "data": {
            "text/plain": [
              "list"
            ]
          },
          "metadata": {
            "tags": []
          },
          "execution_count": 19
        }
      ]
    },
    {
      "cell_type": "code",
      "metadata": {
        "id": "8UPwq4V5ZHeF",
        "colab_type": "code",
        "colab": {}
      },
      "source": [
        "for dataset in train_test_data:\n",
        "    dataset['Title'] = dataset['Name'].str.extract(' ([A-Za-z]+)\\.', expand = False) # 이름에서 Mr, Miss 추출"
      ],
      "execution_count": 0,
      "outputs": []
    },
    {
      "cell_type": "code",
      "metadata": {
        "id": "FDZq8ZsxZHlE",
        "colab_type": "code",
        "colab": {
          "base_uri": "https://localhost:8080/",
          "height": 272
        },
        "outputId": "4472dcd3-c096-4db0-d69f-bac6e21e22d5"
      },
      "source": [
        "train.head()"
      ],
      "execution_count": 22,
      "outputs": [
        {
          "output_type": "execute_result",
          "data": {
            "text/html": [
              "<div>\n",
              "<style scoped>\n",
              "    .dataframe tbody tr th:only-of-type {\n",
              "        vertical-align: middle;\n",
              "    }\n",
              "\n",
              "    .dataframe tbody tr th {\n",
              "        vertical-align: top;\n",
              "    }\n",
              "\n",
              "    .dataframe thead th {\n",
              "        text-align: right;\n",
              "    }\n",
              "</style>\n",
              "<table border=\"1\" class=\"dataframe\">\n",
              "  <thead>\n",
              "    <tr style=\"text-align: right;\">\n",
              "      <th></th>\n",
              "      <th>PassengerId</th>\n",
              "      <th>Survived</th>\n",
              "      <th>Pclass</th>\n",
              "      <th>Name</th>\n",
              "      <th>Sex</th>\n",
              "      <th>Age</th>\n",
              "      <th>SibSp</th>\n",
              "      <th>Parch</th>\n",
              "      <th>Ticket</th>\n",
              "      <th>Fare</th>\n",
              "      <th>Cabin</th>\n",
              "      <th>Embarked</th>\n",
              "      <th>Title</th>\n",
              "    </tr>\n",
              "  </thead>\n",
              "  <tbody>\n",
              "    <tr>\n",
              "      <th>0</th>\n",
              "      <td>1</td>\n",
              "      <td>0</td>\n",
              "      <td>3</td>\n",
              "      <td>Braund, Mr. Owen Harris</td>\n",
              "      <td>male</td>\n",
              "      <td>22.0</td>\n",
              "      <td>1</td>\n",
              "      <td>0</td>\n",
              "      <td>A/5 21171</td>\n",
              "      <td>7.2500</td>\n",
              "      <td>NaN</td>\n",
              "      <td>S</td>\n",
              "      <td>Mr</td>\n",
              "    </tr>\n",
              "    <tr>\n",
              "      <th>1</th>\n",
              "      <td>2</td>\n",
              "      <td>1</td>\n",
              "      <td>1</td>\n",
              "      <td>Cumings, Mrs. John Bradley (Florence Briggs Th...</td>\n",
              "      <td>female</td>\n",
              "      <td>38.0</td>\n",
              "      <td>1</td>\n",
              "      <td>0</td>\n",
              "      <td>PC 17599</td>\n",
              "      <td>71.2833</td>\n",
              "      <td>C85</td>\n",
              "      <td>C</td>\n",
              "      <td>Mrs</td>\n",
              "    </tr>\n",
              "    <tr>\n",
              "      <th>2</th>\n",
              "      <td>3</td>\n",
              "      <td>1</td>\n",
              "      <td>3</td>\n",
              "      <td>Heikkinen, Miss. Laina</td>\n",
              "      <td>female</td>\n",
              "      <td>26.0</td>\n",
              "      <td>0</td>\n",
              "      <td>0</td>\n",
              "      <td>STON/O2. 3101282</td>\n",
              "      <td>7.9250</td>\n",
              "      <td>NaN</td>\n",
              "      <td>S</td>\n",
              "      <td>Miss</td>\n",
              "    </tr>\n",
              "    <tr>\n",
              "      <th>3</th>\n",
              "      <td>4</td>\n",
              "      <td>1</td>\n",
              "      <td>1</td>\n",
              "      <td>Futrelle, Mrs. Jacques Heath (Lily May Peel)</td>\n",
              "      <td>female</td>\n",
              "      <td>35.0</td>\n",
              "      <td>1</td>\n",
              "      <td>0</td>\n",
              "      <td>113803</td>\n",
              "      <td>53.1000</td>\n",
              "      <td>C123</td>\n",
              "      <td>S</td>\n",
              "      <td>Mrs</td>\n",
              "    </tr>\n",
              "    <tr>\n",
              "      <th>4</th>\n",
              "      <td>5</td>\n",
              "      <td>0</td>\n",
              "      <td>3</td>\n",
              "      <td>Allen, Mr. William Henry</td>\n",
              "      <td>male</td>\n",
              "      <td>35.0</td>\n",
              "      <td>0</td>\n",
              "      <td>0</td>\n",
              "      <td>373450</td>\n",
              "      <td>8.0500</td>\n",
              "      <td>NaN</td>\n",
              "      <td>S</td>\n",
              "      <td>Mr</td>\n",
              "    </tr>\n",
              "  </tbody>\n",
              "</table>\n",
              "</div>"
            ],
            "text/plain": [
              "   PassengerId  Survived  Pclass  ... Cabin Embarked  Title\n",
              "0            1         0       3  ...   NaN        S     Mr\n",
              "1            2         1       1  ...   C85        C    Mrs\n",
              "2            3         1       3  ...   NaN        S   Miss\n",
              "3            4         1       1  ...  C123        S    Mrs\n",
              "4            5         0       3  ...   NaN        S     Mr\n",
              "\n",
              "[5 rows x 13 columns]"
            ]
          },
          "metadata": {
            "tags": []
          },
          "execution_count": 22
        }
      ]
    },
    {
      "cell_type": "code",
      "metadata": {
        "id": "-TKfpJSh_c_m",
        "colab_type": "code",
        "colab": {
          "base_uri": "https://localhost:8080/",
          "height": 323
        },
        "outputId": "518e3396-f4e3-4ded-f224-e6f16356b1ba"
      },
      "source": [
        "train['Title'].value_counts()"
      ],
      "execution_count": 24,
      "outputs": [
        {
          "output_type": "execute_result",
          "data": {
            "text/plain": [
              "Mr          517\n",
              "Miss        182\n",
              "Mrs         125\n",
              "Master       40\n",
              "Dr            7\n",
              "Rev           6\n",
              "Mlle          2\n",
              "Major         2\n",
              "Col           2\n",
              "Lady          1\n",
              "Don           1\n",
              "Jonkheer      1\n",
              "Ms            1\n",
              "Sir           1\n",
              "Countess      1\n",
              "Mme           1\n",
              "Capt          1\n",
              "Name: Title, dtype: int64"
            ]
          },
          "metadata": {
            "tags": []
          },
          "execution_count": 24
        }
      ]
    },
    {
      "cell_type": "code",
      "metadata": {
        "id": "gGSejSOaZHs0",
        "colab_type": "code",
        "colab": {
          "base_uri": "https://localhost:8080/",
          "height": 187
        },
        "outputId": "a821e332-157a-45b9-82e6-9d804c1e4ab3"
      },
      "source": [
        "test['Title'].value_counts()"
      ],
      "execution_count": 27,
      "outputs": [
        {
          "output_type": "execute_result",
          "data": {
            "text/plain": [
              "Mr        240\n",
              "Miss       78\n",
              "Mrs        72\n",
              "Master     21\n",
              "Col         2\n",
              "Rev         2\n",
              "Ms          1\n",
              "Dona        1\n",
              "Dr          1\n",
              "Name: Title, dtype: int64"
            ]
          },
          "metadata": {
            "tags": []
          },
          "execution_count": 27
        }
      ]
    },
    {
      "cell_type": "markdown",
      "metadata": {
        "id": "B_fq-2C7_4Uq",
        "colab_type": "text"
      },
      "source": [
        "##### 타이틀 - 코드로 맵핑하기\n",
        "- Mr : 0\n",
        "- Miss : 1\n",
        "- Mrs : 2\n",
        "- Others : 3"
      ]
    },
    {
      "cell_type": "code",
      "metadata": {
        "id": "9zHJyWoAAtVc",
        "colab_type": "code",
        "colab": {
          "base_uri": "https://localhost:8080/",
          "height": 68
        },
        "outputId": "c7421d0b-e30c-4f2e-c96d-c4dee93cb103"
      },
      "source": [
        "train['Title'].unique()"
      ],
      "execution_count": 29,
      "outputs": [
        {
          "output_type": "execute_result",
          "data": {
            "text/plain": [
              "array(['Mr', 'Mrs', 'Miss', 'Master', 'Don', 'Rev', 'Dr', 'Mme', 'Ms',\n",
              "       'Major', 'Lady', 'Sir', 'Mlle', 'Col', 'Capt', 'Countess',\n",
              "       'Jonkheer'], dtype=object)"
            ]
          },
          "metadata": {
            "tags": []
          },
          "execution_count": 29
        }
      ]
    },
    {
      "cell_type": "code",
      "metadata": {
        "id": "TECPzVEzBLf0",
        "colab_type": "code",
        "colab": {
          "base_uri": "https://localhost:8080/",
          "height": 51
        },
        "outputId": "ecd76ec9-0e40-460a-9d4c-6475f00d920d"
      },
      "source": [
        "test['Title'].unique()"
      ],
      "execution_count": 30,
      "outputs": [
        {
          "output_type": "execute_result",
          "data": {
            "text/plain": [
              "array(['Mr', 'Mrs', 'Miss', 'Master', 'Ms', 'Col', 'Rev', 'Dr', 'Dona'],\n",
              "      dtype=object)"
            ]
          },
          "metadata": {
            "tags": []
          },
          "execution_count": 30
        }
      ]
    },
    {
      "cell_type": "code",
      "metadata": {
        "id": "0vYwLJfe_4pJ",
        "colab_type": "code",
        "colab": {}
      },
      "source": [
        "title_mapping = {\n",
        "    'Mr' : 0, 'Mrs' : 1, 'Miss' : 2, 'Master' : 3, 'Don' : 3, 'Rev' : 3, 'Dr' : 3, 'Mme' : 3, 'Ms' : 3,\n",
        "       'Major' : 3, 'Lady' : 3, 'Sir' : 3, 'Mlle' : 3, 'Col' : 3, 'Capt' : 3, 'Countess' : 3,\n",
        "       'Jonkheer' : 3, 'Rev' : 3, 'Dona' : 3\n",
        "}"
      ],
      "execution_count": 0,
      "outputs": []
    },
    {
      "cell_type": "markdown",
      "metadata": {
        "id": "loxr3wwD_4v6",
        "colab_type": "text"
      },
      "source": [
        "- uinque()를 이용해서 변수를 복사해서 입력하면 보다 쉬움."
      ]
    },
    {
      "cell_type": "code",
      "metadata": {
        "id": "CNF259q6_42C",
        "colab_type": "code",
        "colab": {}
      },
      "source": [
        "for dataset in train_test_data:\n",
        "    dataset['Title'] = dataset['Title'].map(title_mapping)  # 딕셔너리를 이용하여 데이터 일괄 변환"
      ],
      "execution_count": 0,
      "outputs": []
    },
    {
      "cell_type": "code",
      "metadata": {
        "id": "uGRu5Y2P_44I",
        "colab_type": "code",
        "colab": {
          "base_uri": "https://localhost:8080/",
          "height": 221
        },
        "outputId": "d1b217cd-9745-4aea-b701-45ce635376c7"
      },
      "source": [
        "for dataset in train_test_data:\n",
        "    print(dataset['Title'].value_counts())\n",
        "    print()"
      ],
      "execution_count": 38,
      "outputs": [
        {
          "output_type": "stream",
          "text": [
            "0    517\n",
            "2    182\n",
            "1    125\n",
            "3     67\n",
            "Name: Title, dtype: int64\n",
            "\n",
            "0    240\n",
            "2     78\n",
            "1     72\n",
            "3     28\n",
            "Name: Title, dtype: int64\n",
            "\n"
          ],
          "name": "stdout"
        }
      ]
    },
    {
      "cell_type": "code",
      "metadata": {
        "id": "Q_dT3Hqg_5Dk",
        "colab_type": "code",
        "colab": {
          "base_uri": "https://localhost:8080/",
          "height": 361
        },
        "outputId": "f88f52b1-3416-4575-ec52-6de6eef8d711"
      },
      "source": [
        "bar_chart('Title')"
      ],
      "execution_count": 39,
      "outputs": [
        {
          "output_type": "display_data",
          "data": {
            "image/png": "[encoded data removed]",
            "text/plain": [
              "<Figure size 720x360 with 1 Axes>"
            ]
          },
          "metadata": {
            "tags": []
          }
        }
      ]
    },
    {
      "cell_type": "markdown",
      "metadata": {
        "id": "d5gtolWY_5J4",
        "colab_type": "text"
      },
      "source": [
        "- Miss의 생존률이 높음.\n",
        "- Mr의 생존률이 낮음"
      ]
    },
    {
      "cell_type": "code",
      "metadata": {
        "id": "B3jDRdqg_5Vj",
        "colab_type": "code",
        "colab": {}
      },
      "source": [
        "for dataset in train_test_data:\n",
        "    dataset.drop('Name', axis = 1, inplace = True)"
      ],
      "execution_count": 0,
      "outputs": []
    },
    {
      "cell_type": "markdown",
      "metadata": {
        "id": "U7LMAmIfEWM5",
        "colab_type": "text"
      },
      "source": [
        "- 반복문을 이용해서 이름 컬럼을 삭제함."
      ]
    },
    {
      "cell_type": "code",
      "metadata": {
        "id": "X1zCPx6Y_5c4",
        "colab_type": "code",
        "colab": {
          "base_uri": "https://localhost:8080/",
          "height": 204
        },
        "outputId": "5849c99a-94ff-47c4-fe12-0c9b49020ec7"
      },
      "source": [
        "train.head()"
      ],
      "execution_count": 43,
      "outputs": [
        {
          "output_type": "execute_result",
          "data": {
            "text/html": [
              "<div>\n",
              "<style scoped>\n",
              "    .dataframe tbody tr th:only-of-type {\n",
              "        vertical-align: middle;\n",
              "    }\n",
              "\n",
              "    .dataframe tbody tr th {\n",
              "        vertical-align: top;\n",
              "    }\n",
              "\n",
              "    .dataframe thead th {\n",
              "        text-align: right;\n",
              "    }\n",
              "</style>\n",
              "<table border=\"1\" class=\"dataframe\">\n",
              "  <thead>\n",
              "    <tr style=\"text-align: right;\">\n",
              "      <th></th>\n",
              "      <th>PassengerId</th>\n",
              "      <th>Survived</th>\n",
              "      <th>Pclass</th>\n",
              "      <th>Sex</th>\n",
              "      <th>Age</th>\n",
              "      <th>SibSp</th>\n",
              "      <th>Parch</th>\n",
              "      <th>Ticket</th>\n",
              "      <th>Fare</th>\n",
              "      <th>Cabin</th>\n",
              "      <th>Embarked</th>\n",
              "      <th>Title</th>\n",
              "    </tr>\n",
              "  </thead>\n",
              "  <tbody>\n",
              "    <tr>\n",
              "      <th>0</th>\n",
              "      <td>1</td>\n",
              "      <td>0</td>\n",
              "      <td>3</td>\n",
              "      <td>male</td>\n",
              "      <td>22.0</td>\n",
              "      <td>1</td>\n",
              "      <td>0</td>\n",
              "      <td>A/5 21171</td>\n",
              "      <td>7.2500</td>\n",
              "      <td>NaN</td>\n",
              "      <td>S</td>\n",
              "      <td>0</td>\n",
              "    </tr>\n",
              "    <tr>\n",
              "      <th>1</th>\n",
              "      <td>2</td>\n",
              "      <td>1</td>\n",
              "      <td>1</td>\n",
              "      <td>female</td>\n",
              "      <td>38.0</td>\n",
              "      <td>1</td>\n",
              "      <td>0</td>\n",
              "      <td>PC 17599</td>\n",
              "      <td>71.2833</td>\n",
              "      <td>C85</td>\n",
              "      <td>C</td>\n",
              "      <td>1</td>\n",
              "    </tr>\n",
              "    <tr>\n",
              "      <th>2</th>\n",
              "      <td>3</td>\n",
              "      <td>1</td>\n",
              "      <td>3</td>\n",
              "      <td>female</td>\n",
              "      <td>26.0</td>\n",
              "      <td>0</td>\n",
              "      <td>0</td>\n",
              "      <td>STON/O2. 3101282</td>\n",
              "      <td>7.9250</td>\n",
              "      <td>NaN</td>\n",
              "      <td>S</td>\n",
              "      <td>2</td>\n",
              "    </tr>\n",
              "    <tr>\n",
              "      <th>3</th>\n",
              "      <td>4</td>\n",
              "      <td>1</td>\n",
              "      <td>1</td>\n",
              "      <td>female</td>\n",
              "      <td>35.0</td>\n",
              "      <td>1</td>\n",
              "      <td>0</td>\n",
              "      <td>113803</td>\n",
              "      <td>53.1000</td>\n",
              "      <td>C123</td>\n",
              "      <td>S</td>\n",
              "      <td>1</td>\n",
              "    </tr>\n",
              "    <tr>\n",
              "      <th>4</th>\n",
              "      <td>5</td>\n",
              "      <td>0</td>\n",
              "      <td>3</td>\n",
              "      <td>male</td>\n",
              "      <td>35.0</td>\n",
              "      <td>0</td>\n",
              "      <td>0</td>\n",
              "      <td>373450</td>\n",
              "      <td>8.0500</td>\n",
              "      <td>NaN</td>\n",
              "      <td>S</td>\n",
              "      <td>0</td>\n",
              "    </tr>\n",
              "  </tbody>\n",
              "</table>\n",
              "</div>"
            ],
            "text/plain": [
              "   PassengerId  Survived  Pclass     Sex  ...     Fare  Cabin  Embarked Title\n",
              "0            1         0       3    male  ...   7.2500    NaN         S     0\n",
              "1            2         1       1  female  ...  71.2833    C85         C     1\n",
              "2            3         1       3  female  ...   7.9250    NaN         S     2\n",
              "3            4         1       1  female  ...  53.1000   C123         S     1\n",
              "4            5         0       3    male  ...   8.0500    NaN         S     0\n",
              "\n",
              "[5 rows x 12 columns]"
            ]
          },
          "metadata": {
            "tags": []
          },
          "execution_count": 43
        }
      ]
    },
    {
      "cell_type": "markdown",
      "metadata": {
        "id": "bh3BuSDR_5fu",
        "colab_type": "text"
      },
      "source": [
        "#### 성별 \n",
        "- male : 0\n",
        "- femaile : 1"
      ]
    },
    {
      "cell_type": "code",
      "metadata": {
        "id": "USE1D2EH_5rb",
        "colab_type": "code",
        "colab": {}
      },
      "source": [
        "sex_mapping = {\n",
        "    \"male\" : 0,\n",
        "    \"female\" : 1\n",
        "}"
      ],
      "execution_count": 0,
      "outputs": []
    },
    {
      "cell_type": "code",
      "metadata": {
        "id": "Txe8y33vEhXA",
        "colab_type": "code",
        "colab": {}
      },
      "source": [
        "for dataset in train_test_data:\n",
        "    dataset['Sex'] = dataset['Sex'].map(sex_mapping)"
      ],
      "execution_count": 0,
      "outputs": []
    },
    {
      "cell_type": "code",
      "metadata": {
        "id": "A30shPGEEhf5",
        "colab_type": "code",
        "colab": {
          "base_uri": "https://localhost:8080/",
          "height": 361
        },
        "outputId": "19750180-6560-4ff3-d05d-8151cafb3da9"
      },
      "source": [
        "bar_chart('Sex')"
      ],
      "execution_count": 46,
      "outputs": [
        {
          "output_type": "display_data",
          "data": {
            "image/png": "[encoded data removed]",
            "text/plain": [
              "<Figure size 720x360 with 1 Axes>"
            ]
          },
          "metadata": {
            "tags": []
          }
        }
      ]
    },
    {
      "cell_type": "markdown",
      "metadata": {
        "id": "c0Qo8Gk6Ehoy",
        "colab_type": "text"
      },
      "source": [
        "#### 나이 "
      ]
    },
    {
      "cell_type": "code",
      "metadata": {
        "id": "dFhDR6tjEhxR",
        "colab_type": "code",
        "colab": {}
      },
      "source": [
        ""
      ],
      "execution_count": 0,
      "outputs": []
    },
    {
      "cell_type": "code",
      "metadata": {
        "id": "RejBY0HQEh66",
        "colab_type": "code",
        "colab": {}
      },
      "source": [
        ""
      ],
      "execution_count": 0,
      "outputs": []
    },
    {
      "cell_type": "code",
      "metadata": {
        "id": "zx4Fzl5sEh8o",
        "colab_type": "code",
        "colab": {}
      },
      "source": [
        ""
      ],
      "execution_count": 0,
      "outputs": []
    },
    {
      "cell_type": "code",
      "metadata": {
        "id": "XC56OEf0EiKm",
        "colab_type": "code",
        "colab": {}
      },
      "source": [
        ""
      ],
      "execution_count": 0,
      "outputs": []
    },
    {
      "cell_type": "code",
      "metadata": {
        "id": "mM-9lqSJEiTt",
        "colab_type": "code",
        "colab": {}
      },
      "source": [
        ""
      ],
      "execution_count": 0,
      "outputs": []
    },
    {
      "cell_type": "code",
      "metadata": {
        "id": "u-EVQTcNEict",
        "colab_type": "code",
        "colab": {}
      },
      "source": [
        ""
      ],
      "execution_count": 0,
      "outputs": []
    },
    {
      "cell_type": "code",
      "metadata": {
        "id": "VBySn0GkEikN",
        "colab_type": "code",
        "colab": {}
      },
      "source": [
        ""
      ],
      "execution_count": 0,
      "outputs": []
    },
    {
      "cell_type": "code",
      "metadata": {
        "id": "b5ZtlNJzEisK",
        "colab_type": "code",
        "colab": {}
      },
      "source": [
        ""
      ],
      "execution_count": 0,
      "outputs": []
    },
    {
      "cell_type": "code",
      "metadata": {
        "id": "z1HeHidhEi0F",
        "colab_type": "code",
        "colab": {}
      },
      "source": [
        ""
      ],
      "execution_count": 0,
      "outputs": []
    },
    {
      "cell_type": "code",
      "metadata": {
        "id": "H0U5l9lxEjIZ",
        "colab_type": "code",
        "colab": {}
      },
      "source": [
        ""
      ],
      "execution_count": 0,
      "outputs": []
    },
    {
      "cell_type": "code",
      "metadata": {
        "id": "7v9QSsOe_5zS",
        "colab_type": "code",
        "colab": {}
      },
      "source": [
        ""
      ],
      "execution_count": 0,
      "outputs": []
    },
    {
      "cell_type": "code",
      "metadata": {
        "id": "70tgde3Z_5_3",
        "colab_type": "code",
        "colab": {}
      },
      "source": [
        ""
      ],
      "execution_count": 0,
      "outputs": []
    },
    {
      "cell_type": "markdown",
      "metadata": {
        "id": "ziQs51YjZH0H",
        "colab_type": "text"
      },
      "source": [
        "## TIL - 청간전보 머신러닝을 이용하여 이동여부 예측하기 "
      ]
    },
    {
      "cell_type": "markdown",
      "metadata": {
        "id": "XEUCUb6XX3Yn",
        "colab_type": "text"
      },
      "source": [
        "# HTML / JS / Etc"
      ]
    },
    {
      "cell_type": "markdown",
      "metadata": {
        "id": "0p4TxglcX-HN",
        "colab_type": "text"
      },
      "source": [
        "## TIL - javascript 200216"
      ]
    },
    {
      "cell_type": "markdown",
      "metadata": {
        "id": "yXJVjNY5ey4m",
        "colab_type": "text"
      },
      "source": [
        "- 자바스크립트는 자바와는 완전히 다른 언어.\n",
        "    - 햄과 햄스터 처럼 햄글자만 겹치는 것과 비슷함.\n",
        "- 하나의 완전한 코딩언어이므로 학습할 양이 많음.\n",
        "    - 필요한 부분을 프로젝트에 적용하면서 배우는 것이 효과적\n",
        "- 참고 사이트\n",
        "    - jquery : https://jquery.com\n",
        "        - 자바스크립트 코드 라이브러리 사이트\n",
        "        - 내가 생각하는 기능들은 이미 함수형태로 구현되어 있음. \n",
        "        - 사용방법\n",
        "            - jquery파일을 다운받아서 사용가능\n",
        "            - 웹페이지 내에 링크형태로 삽입하여 사용가능 (CDN)\n",
        "    - jqueryui : https://jqueryui.com\n",
        "        - 자바스크립트 사용자 환경을 구현한 것을 모아 놓음. "
      ]
    },
    {
      "cell_type": "code",
      "metadata": {
        "id": "j4dq2ImVgGuH",
        "colab_type": "code",
        "colab": {}
      },
      "source": [
        ""
      ],
      "execution_count": 0,
      "outputs": []
    },
    {
      "cell_type": "markdown",
      "metadata": {
        "id": "KWxAz6a1uYNr",
        "colab_type": "text"
      },
      "source": [
        "# 파이썬 공부하기"
      ]
    },
    {
      "cell_type": "markdown",
      "metadata": {
        "id": "3wJUTuxluYQ-",
        "colab_type": "text"
      },
      "source": [
        "## TIL - 200218 : 무작위 문구 만들기 feat 영민도와주기\n",
        "- 글자를 무작위로 조합하여 단어만들기\n",
        "- 알고리즘\n",
        "    - 글자를 조합할 수 있는 모든 단어들을 생성\n",
        "    - 각 글자가 1개인 경우만 다른 리스트에 담기\n",
        "        - 글자가 2번 들어가지 않는 경우.\n",
        "- 글자가 2개일때\n",
        "    - 2 * 1 = 2개\n",
        "- 글자가 3개일 때\n",
        "    - 3 * 2 * 1 = 6\n",
        "- 글자가 4개일 때\n",
        "    - 4 * 3 * 2 * 1 = 24\n",
        "- 글자가 4개일 때\n",
        "    - 5 * 4 * 3 * 2 * 1 = 120"
      ]
    },
    {
      "cell_type": "markdown",
      "metadata": {
        "id": "rtHwqYKQ-atP",
        "colab_type": "text"
      },
      "source": [
        "### 버전 1"
      ]
    },
    {
      "cell_type": "code",
      "metadata": {
        "id": "_D-8MXwmuYXe",
        "colab_type": "code",
        "outputId": "7ce70bfd-cd2f-4a94-9ac1-ef9c67670caf",
        "colab": {
          "base_uri": "https://localhost:8080/",
          "height": 513
        }
      },
      "source": [
        "word = ['브', '쯔', '렙', '뎅']\n",
        "new_word = []\n",
        "for i in word:\n",
        "    for l in word:\n",
        "        for k in word:\n",
        "            for n in word:\n",
        "                a = i + l + k + n\n",
        "                new_word.append(a)\n",
        "print(len(new_word), new_word)\n",
        "print()\n",
        "\n",
        "lst = []\n",
        "for k in new_word:\n",
        "    if k.count(word[0]) == 1 and k.count(word[1]) == 1 \\\n",
        "       and k.count(word[2]) == 1 and k.count(word[3]) == 1:\n",
        "        lst.append(k)\n",
        "print(len(lst), lst)\n",
        "print()\n",
        "\n",
        "for k in lst:\n",
        "    print(k)\n",
        "\n",
        "\n"
      ],
      "execution_count": 0,
      "outputs": [
        {
          "output_type": "stream",
          "text": [
            "256 ['브브브브', '브브브쯔', '브브브렙', '브브브뎅', '브브쯔브', '브브쯔쯔', '브브쯔렙', '브브쯔뎅', '브브렙브', '브브렙쯔', '브브렙렙', '브브렙뎅', '브브뎅브', '브브뎅쯔', '브브뎅렙', '브브뎅뎅', '브쯔브브', '브쯔브쯔', '브쯔브렙', '브쯔브뎅', '브쯔쯔브', '브쯔쯔쯔', '브쯔쯔렙', '브쯔쯔뎅', '브쯔렙브', '브쯔렙쯔', '브쯔렙렙', '브쯔렙뎅', '브쯔뎅브', '브쯔뎅쯔', '브쯔뎅렙', '브쯔뎅뎅', '브렙브브', '브렙브쯔', '브렙브렙', '브렙브뎅', '브렙쯔브', '브렙쯔쯔', '브렙쯔렙', '브렙쯔뎅', '브렙렙브', '브렙렙쯔', '브렙렙렙', '브렙렙뎅', '브렙뎅브', '브렙뎅쯔', '브렙뎅렙', '브렙뎅뎅', '브뎅브브', '브뎅브쯔', '브뎅브렙', '브뎅브뎅', '브뎅쯔브', '브뎅쯔쯔', '브뎅쯔렙', '브뎅쯔뎅', '브뎅렙브', '브뎅렙쯔', '브뎅렙렙', '브뎅렙뎅', '브뎅뎅브', '브뎅뎅쯔', '브뎅뎅렙', '브뎅뎅뎅', '쯔브브브', '쯔브브쯔', '쯔브브렙', '쯔브브뎅', '쯔브쯔브', '쯔브쯔쯔', '쯔브쯔렙', '쯔브쯔뎅', '쯔브렙브', '쯔브렙쯔', '쯔브렙렙', '쯔브렙뎅', '쯔브뎅브', '쯔브뎅쯔', '쯔브뎅렙', '쯔브뎅뎅', '쯔쯔브브', '쯔쯔브쯔', '쯔쯔브렙', '쯔쯔브뎅', '쯔쯔쯔브', '쯔쯔쯔쯔', '쯔쯔쯔렙', '쯔쯔쯔뎅', '쯔쯔렙브', '쯔쯔렙쯔', '쯔쯔렙렙', '쯔쯔렙뎅', '쯔쯔뎅브', '쯔쯔뎅쯔', '쯔쯔뎅렙', '쯔쯔뎅뎅', '쯔렙브브', '쯔렙브쯔', '쯔렙브렙', '쯔렙브뎅', '쯔렙쯔브', '쯔렙쯔쯔', '쯔렙쯔렙', '쯔렙쯔뎅', '쯔렙렙브', '쯔렙렙쯔', '쯔렙렙렙', '쯔렙렙뎅', '쯔렙뎅브', '쯔렙뎅쯔', '쯔렙뎅렙', '쯔렙뎅뎅', '쯔뎅브브', '쯔뎅브쯔', '쯔뎅브렙', '쯔뎅브뎅', '쯔뎅쯔브', '쯔뎅쯔쯔', '쯔뎅쯔렙', '쯔뎅쯔뎅', '쯔뎅렙브', '쯔뎅렙쯔', '쯔뎅렙렙', '쯔뎅렙뎅', '쯔뎅뎅브', '쯔뎅뎅쯔', '쯔뎅뎅렙', '쯔뎅뎅뎅', '렙브브브', '렙브브쯔', '렙브브렙', '렙브브뎅', '렙브쯔브', '렙브쯔쯔', '렙브쯔렙', '렙브쯔뎅', '렙브렙브', '렙브렙쯔', '렙브렙렙', '렙브렙뎅', '렙브뎅브', '렙브뎅쯔', '렙브뎅렙', '렙브뎅뎅', '렙쯔브브', '렙쯔브쯔', '렙쯔브렙', '렙쯔브뎅', '렙쯔쯔브', '렙쯔쯔쯔', '렙쯔쯔렙', '렙쯔쯔뎅', '렙쯔렙브', '렙쯔렙쯔', '렙쯔렙렙', '렙쯔렙뎅', '렙쯔뎅브', '렙쯔뎅쯔', '렙쯔뎅렙', '렙쯔뎅뎅', '렙렙브브', '렙렙브쯔', '렙렙브렙', '렙렙브뎅', '렙렙쯔브', '렙렙쯔쯔', '렙렙쯔렙', '렙렙쯔뎅', '렙렙렙브', '렙렙렙쯔', '렙렙렙렙', '렙렙렙뎅', '렙렙뎅브', '렙렙뎅쯔', '렙렙뎅렙', '렙렙뎅뎅', '렙뎅브브', '렙뎅브쯔', '렙뎅브렙', '렙뎅브뎅', '렙뎅쯔브', '렙뎅쯔쯔', '렙뎅쯔렙', '렙뎅쯔뎅', '렙뎅렙브', '렙뎅렙쯔', '렙뎅렙렙', '렙뎅렙뎅', '렙뎅뎅브', '렙뎅뎅쯔', '렙뎅뎅렙', '렙뎅뎅뎅', '뎅브브브', '뎅브브쯔', '뎅브브렙', '뎅브브뎅', '뎅브쯔브', '뎅브쯔쯔', '뎅브쯔렙', '뎅브쯔뎅', '뎅브렙브', '뎅브렙쯔', '뎅브렙렙', '뎅브렙뎅', '뎅브뎅브', '뎅브뎅쯔', '뎅브뎅렙', '뎅브뎅뎅', '뎅쯔브브', '뎅쯔브쯔', '뎅쯔브렙', '뎅쯔브뎅', '뎅쯔쯔브', '뎅쯔쯔쯔', '뎅쯔쯔렙', '뎅쯔쯔뎅', '뎅쯔렙브', '뎅쯔렙쯔', '뎅쯔렙렙', '뎅쯔렙뎅', '뎅쯔뎅브', '뎅쯔뎅쯔', '뎅쯔뎅렙', '뎅쯔뎅뎅', '뎅렙브브', '뎅렙브쯔', '뎅렙브렙', '뎅렙브뎅', '뎅렙쯔브', '뎅렙쯔쯔', '뎅렙쯔렙', '뎅렙쯔뎅', '뎅렙렙브', '뎅렙렙쯔', '뎅렙렙렙', '뎅렙렙뎅', '뎅렙뎅브', '뎅렙뎅쯔', '뎅렙뎅렙', '뎅렙뎅뎅', '뎅뎅브브', '뎅뎅브쯔', '뎅뎅브렙', '뎅뎅브뎅', '뎅뎅쯔브', '뎅뎅쯔쯔', '뎅뎅쯔렙', '뎅뎅쯔뎅', '뎅뎅렙브', '뎅뎅렙쯔', '뎅뎅렙렙', '뎅뎅렙뎅', '뎅뎅뎅브', '뎅뎅뎅쯔', '뎅뎅뎅렙', '뎅뎅뎅뎅']\n",
            "\n",
            "24 ['브쯔렙뎅', '브쯔뎅렙', '브렙쯔뎅', '브렙뎅쯔', '브뎅쯔렙', '브뎅렙쯔', '쯔브렙뎅', '쯔브뎅렙', '쯔렙브뎅', '쯔렙뎅브', '쯔뎅브렙', '쯔뎅렙브', '렙브쯔뎅', '렙브뎅쯔', '렙쯔브뎅', '렙쯔뎅브', '렙뎅브쯔', '렙뎅쯔브', '뎅브쯔렙', '뎅브렙쯔', '뎅쯔브렙', '뎅쯔렙브', '뎅렙브쯔', '뎅렙쯔브']\n",
            "\n",
            "브쯔렙뎅\n",
            "브쯔뎅렙\n",
            "브렙쯔뎅\n",
            "브렙뎅쯔\n",
            "브뎅쯔렙\n",
            "브뎅렙쯔\n",
            "쯔브렙뎅\n",
            "쯔브뎅렙\n",
            "쯔렙브뎅\n",
            "쯔렙뎅브\n",
            "쯔뎅브렙\n",
            "쯔뎅렙브\n",
            "렙브쯔뎅\n",
            "렙브뎅쯔\n",
            "렙쯔브뎅\n",
            "렙쯔뎅브\n",
            "렙뎅브쯔\n",
            "렙뎅쯔브\n",
            "뎅브쯔렙\n",
            "뎅브렙쯔\n",
            "뎅쯔브렙\n",
            "뎅쯔렙브\n",
            "뎅렙브쯔\n",
            "뎅렙쯔브\n"
          ],
          "name": "stdout"
        }
      ]
    },
    {
      "cell_type": "markdown",
      "metadata": {
        "id": "f-xQAVw9-10D",
        "colab_type": "text"
      },
      "source": [
        "### 버전 2\n",
        "- 글자를 추가할 때, 반복문이 자동으로 추가 되었으면 좋겠다.\n",
        "- 글자에 맞게 조건이 자동으로 추가 되었으면 좋겠다."
      ]
    },
    {
      "cell_type": "code",
      "metadata": {
        "id": "RrrXYSxHuYap",
        "colab_type": "code",
        "outputId": "2707d6b1-4895-41b6-9a65-4921fc0ea05c",
        "colab": {
          "base_uri": "https://localhost:8080/",
          "height": 1000
        }
      },
      "source": [
        "word = ['브', '쯔', '렙', '뎅', '신']\n",
        "\n",
        "new_word = []   # 단어 생성하기\n",
        "for i in word:\n",
        "    for l in word:\n",
        "        for k in word:\n",
        "            for n in word:\n",
        "                for m in word:\n",
        "                    a = i + l + k + n + m\n",
        "                    new_word.append(a)\n",
        "print(len(new_word), new_word)\n",
        "print()\n",
        "\n",
        "lst = []\n",
        "for k in new_word:  \n",
        "    if k.count(word[0]) == 1 and k.count(word[1]) == 1 \\    # 단어에 각 글자가 1개씩 포함되어 있는 조건을 만족한다면.\n",
        "       and k.count(word[2]) == 1 and k.count(word[3]) == 1 \\\n",
        "       and k.count(word[4]) == 1:\n",
        "        lst.append(k)       # 리스트에 포함시키기\n",
        "print(len(lst), lst)\n",
        "print()\n",
        "\n",
        "for k in lst:\n",
        "    print(k)"
      ],
      "execution_count": 0,
      "outputs": [
        {
          "output_type": "stream",
          "text": [
            "3125 ['브브브브브', '브브브브쯔', '브브브브렙', '브브브브뎅', '브브브브신', '브브브쯔브', '브브브쯔쯔', '브브브쯔렙', '브브브쯔뎅', '브브브쯔신', '브브브렙브', '브브브렙쯔', '브브브렙렙', '브브브렙뎅', '브브브렙신', '브브브뎅브', '브브브뎅쯔', '브브브뎅렙', '브브브뎅뎅', '브브브뎅신', '브브브신브', '브브브신쯔', '브브브신렙', '브브브신뎅', '브브브신신', '브브쯔브브', '브브쯔브쯔', '브브쯔브렙', '브브쯔브뎅', '브브쯔브신', '브브쯔쯔브', '브브쯔쯔쯔', '브브쯔쯔렙', '브브쯔쯔뎅', '브브쯔쯔신', '브브쯔렙브', '브브쯔렙쯔', '브브쯔렙렙', '브브쯔렙뎅', '브브쯔렙신', '브브쯔뎅브', '브브쯔뎅쯔', '브브쯔뎅렙', '브브쯔뎅뎅', '브브쯔뎅신', '브브쯔신브', '브브쯔신쯔', '브브쯔신렙', '브브쯔신뎅', '브브쯔신신', '브브렙브브', '브브렙브쯔', '브브렙브렙', '브브렙브뎅', '브브렙브신', '브브렙쯔브', '브브렙쯔쯔', '브브렙쯔렙', '브브렙쯔뎅', '브브렙쯔신', '브브렙렙브', '브브렙렙쯔', '브브렙렙렙', '브브렙렙뎅', '브브렙렙신', '브브렙뎅브', '브브렙뎅쯔', '브브렙뎅렙', '브브렙뎅뎅', '브브렙뎅신', '브브렙신브', '브브렙신쯔', '브브렙신렙', '브브렙신뎅', '브브렙신신', '브브뎅브브', '브브뎅브쯔', '브브뎅브렙', '브브뎅브뎅', '브브뎅브신', '브브뎅쯔브', '브브뎅쯔쯔', '브브뎅쯔렙', '브브뎅쯔뎅', '브브뎅쯔신', '브브뎅렙브', '브브뎅렙쯔', '브브뎅렙렙', '브브뎅렙뎅', '브브뎅렙신', '브브뎅뎅브', '브브뎅뎅쯔', '브브뎅뎅렙', '브브뎅뎅뎅', '브브뎅뎅신', '브브뎅신브', '브브뎅신쯔', '브브뎅신렙', '브브뎅신뎅', '브브뎅신신', '브브신브브', '브브신브쯔', '브브신브렙', '브브신브뎅', '브브신브신', '브브신쯔브', '브브신쯔쯔', '브브신쯔렙', '브브신쯔뎅', '브브신쯔신', '브브신렙브', '브브신렙쯔', '브브신렙렙', '브브신렙뎅', '브브신렙신', '브브신뎅브', '브브신뎅쯔', '브브신뎅렙', '브브신뎅뎅', '브브신뎅신', '브브신신브', '브브신신쯔', '브브신신렙', '브브신신뎅', '브브신신신', '브쯔브브브', '브쯔브브쯔', '브쯔브브렙', '브쯔브브뎅', '브쯔브브신', '브쯔브쯔브', '브쯔브쯔쯔', '브쯔브쯔렙', '브쯔브쯔뎅', '브쯔브쯔신', '브쯔브렙브', '브쯔브렙쯔', '브쯔브렙렙', '브쯔브렙뎅', '브쯔브렙신', '브쯔브뎅브', '브쯔브뎅쯔', '브쯔브뎅렙', '브쯔브뎅뎅', '브쯔브뎅신', '브쯔브신브', '브쯔브신쯔', '브쯔브신렙', '브쯔브신뎅', '브쯔브신신', '브쯔쯔브브', '브쯔쯔브쯔', '브쯔쯔브렙', '브쯔쯔브뎅', '브쯔쯔브신', '브쯔쯔쯔브', '브쯔쯔쯔쯔', '브쯔쯔쯔렙', '브쯔쯔쯔뎅', '브쯔쯔쯔신', '브쯔쯔렙브', '브쯔쯔렙쯔', '브쯔쯔렙렙', '브쯔쯔렙뎅', '브쯔쯔렙신', '브쯔쯔뎅브', '브쯔쯔뎅쯔', '브쯔쯔뎅렙', '브쯔쯔뎅뎅', '브쯔쯔뎅신', '브쯔쯔신브', '브쯔쯔신쯔', '브쯔쯔신렙', '브쯔쯔신뎅', '브쯔쯔신신', '브쯔렙브브', '브쯔렙브쯔', '브쯔렙브렙', '브쯔렙브뎅', '브쯔렙브신', '브쯔렙쯔브', '브쯔렙쯔쯔', '브쯔렙쯔렙', '브쯔렙쯔뎅', '브쯔렙쯔신', '브쯔렙렙브', '브쯔렙렙쯔', '브쯔렙렙렙', '브쯔렙렙뎅', '브쯔렙렙신', '브쯔렙뎅브', '브쯔렙뎅쯔', '브쯔렙뎅렙', '브쯔렙뎅뎅', '브쯔렙뎅신', '브쯔렙신브', '브쯔렙신쯔', '브쯔렙신렙', '브쯔렙신뎅', '브쯔렙신신', '브쯔뎅브브', '브쯔뎅브쯔', '브쯔뎅브렙', '브쯔뎅브뎅', '브쯔뎅브신', '브쯔뎅쯔브', '브쯔뎅쯔쯔', '브쯔뎅쯔렙', '브쯔뎅쯔뎅', '브쯔뎅쯔신', '브쯔뎅렙브', '브쯔뎅렙쯔', '브쯔뎅렙렙', '브쯔뎅렙뎅', '브쯔뎅렙신', '브쯔뎅뎅브', '브쯔뎅뎅쯔', '브쯔뎅뎅렙', '브쯔뎅뎅뎅', '브쯔뎅뎅신', '브쯔뎅신브', '브쯔뎅신쯔', '브쯔뎅신렙', '브쯔뎅신뎅', '브쯔뎅신신', '브쯔신브브', '브쯔신브쯔', '브쯔신브렙', '브쯔신브뎅', '브쯔신브신', '브쯔신쯔브', '브쯔신쯔쯔', '브쯔신쯔렙', '브쯔신쯔뎅', '브쯔신쯔신', '브쯔신렙브', '브쯔신렙쯔', '브쯔신렙렙', '브쯔신렙뎅', '브쯔신렙신', '브쯔신뎅브', '브쯔신뎅쯔', '브쯔신뎅렙', '브쯔신뎅뎅', '브쯔신뎅신', '브쯔신신브', '브쯔신신쯔', '브쯔신신렙', '브쯔신신뎅', '브쯔신신신', '브렙브브브', '브렙브브쯔', '브렙브브렙', '브렙브브뎅', '브렙브브신', '브렙브쯔브', '브렙브쯔쯔', '브렙브쯔렙', '브렙브쯔뎅', '브렙브쯔신', '브렙브렙브', '브렙브렙쯔', '브렙브렙렙', '브렙브렙뎅', '브렙브렙신', '브렙브뎅브', '브렙브뎅쯔', '브렙브뎅렙', '브렙브뎅뎅', '브렙브뎅신', '브렙브신브', '브렙브신쯔', '브렙브신렙', '브렙브신뎅', '브렙브신신', '브렙쯔브브', '브렙쯔브쯔', '브렙쯔브렙', '브렙쯔브뎅', '브렙쯔브신', '브렙쯔쯔브', '브렙쯔쯔쯔', '브렙쯔쯔렙', '브렙쯔쯔뎅', '브렙쯔쯔신', '브렙쯔렙브', '브렙쯔렙쯔', '브렙쯔렙렙', '브렙쯔렙뎅', '브렙쯔렙신', '브렙쯔뎅브', '브렙쯔뎅쯔', '브렙쯔뎅렙', '브렙쯔뎅뎅', '브렙쯔뎅신', '브렙쯔신브', '브렙쯔신쯔', '브렙쯔신렙', '브렙쯔신뎅', '브렙쯔신신', '브렙렙브브', '브렙렙브쯔', '브렙렙브렙', '브렙렙브뎅', '브렙렙브신', '브렙렙쯔브', '브렙렙쯔쯔', '브렙렙쯔렙', '브렙렙쯔뎅', '브렙렙쯔신', '브렙렙렙브', '브렙렙렙쯔', '브렙렙렙렙', '브렙렙렙뎅', '브렙렙렙신', '브렙렙뎅브', '브렙렙뎅쯔', '브렙렙뎅렙', '브렙렙뎅뎅', '브렙렙뎅신', '브렙렙신브', '브렙렙신쯔', '브렙렙신렙', '브렙렙신뎅', '브렙렙신신', '브렙뎅브브', '브렙뎅브쯔', '브렙뎅브렙', '브렙뎅브뎅', '브렙뎅브신', '브렙뎅쯔브', '브렙뎅쯔쯔', '브렙뎅쯔렙', '브렙뎅쯔뎅', '브렙뎅쯔신', '브렙뎅렙브', '브렙뎅렙쯔', '브렙뎅렙렙', '브렙뎅렙뎅', '브렙뎅렙신', '브렙뎅뎅브', '브렙뎅뎅쯔', '브렙뎅뎅렙', '브렙뎅뎅뎅', '브렙뎅뎅신', '브렙뎅신브', '브렙뎅신쯔', '브렙뎅신렙', '브렙뎅신뎅', '브렙뎅신신', '브렙신브브', '브렙신브쯔', '브렙신브렙', '브렙신브뎅', '브렙신브신', '브렙신쯔브', '브렙신쯔쯔', '브렙신쯔렙', '브렙신쯔뎅', '브렙신쯔신', '브렙신렙브', '브렙신렙쯔', '브렙신렙렙', '브렙신렙뎅', '브렙신렙신', '브렙신뎅브', '브렙신뎅쯔', '브렙신뎅렙', '브렙신뎅뎅', '브렙신뎅신', '브렙신신브', '브렙신신쯔', '브렙신신렙', '브렙신신뎅', '브렙신신신', '브뎅브브브', '브뎅브브쯔', '브뎅브브렙', '브뎅브브뎅', '브뎅브브신', '브뎅브쯔브', '브뎅브쯔쯔', '브뎅브쯔렙', '브뎅브쯔뎅', '브뎅브쯔신', '브뎅브렙브', '브뎅브렙쯔', '브뎅브렙렙', '브뎅브렙뎅', '브뎅브렙신', '브뎅브뎅브', '브뎅브뎅쯔', '브뎅브뎅렙', '브뎅브뎅뎅', '브뎅브뎅신', '브뎅브신브', '브뎅브신쯔', '브뎅브신렙', '브뎅브신뎅', '브뎅브신신', '브뎅쯔브브', '브뎅쯔브쯔', '브뎅쯔브렙', '브뎅쯔브뎅', '브뎅쯔브신', '브뎅쯔쯔브', '브뎅쯔쯔쯔', '브뎅쯔쯔렙', '브뎅쯔쯔뎅', '브뎅쯔쯔신', '브뎅쯔렙브', '브뎅쯔렙쯔', '브뎅쯔렙렙', '브뎅쯔렙뎅', '브뎅쯔렙신', '브뎅쯔뎅브', '브뎅쯔뎅쯔', '브뎅쯔뎅렙', '브뎅쯔뎅뎅', '브뎅쯔뎅신', '브뎅쯔신브', '브뎅쯔신쯔', '브뎅쯔신렙', '브뎅쯔신뎅', '브뎅쯔신신', '브뎅렙브브', '브뎅렙브쯔', '브뎅렙브렙', '브뎅렙브뎅', '브뎅렙브신', '브뎅렙쯔브', '브뎅렙쯔쯔', '브뎅렙쯔렙', '브뎅렙쯔뎅', '브뎅렙쯔신', '브뎅렙렙브', '브뎅렙렙쯔', '브뎅렙렙렙', '브뎅렙렙뎅', '브뎅렙렙신', '브뎅렙뎅브', '브뎅렙뎅쯔', '브뎅렙뎅렙', '브뎅렙뎅뎅', '브뎅렙뎅신', '브뎅렙신브', '브뎅렙신쯔', '브뎅렙신렙', '브뎅렙신뎅', '브뎅렙신신', '브뎅뎅브브', '브뎅뎅브쯔', '브뎅뎅브렙', '브뎅뎅브뎅', '브뎅뎅브신', '브뎅뎅쯔브', '브뎅뎅쯔쯔', '브뎅뎅쯔렙', '브뎅뎅쯔뎅', '브뎅뎅쯔신', '브뎅뎅렙브', '브뎅뎅렙쯔', '브뎅뎅렙렙', '브뎅뎅렙뎅', '브뎅뎅렙신', '브뎅뎅뎅브', '브뎅뎅뎅쯔', '브뎅뎅뎅렙', '브뎅뎅뎅뎅', '브뎅뎅뎅신', '브뎅뎅신브', '브뎅뎅신쯔', '브뎅뎅신렙', '브뎅뎅신뎅', '브뎅뎅신신', '브뎅신브브', '브뎅신브쯔', '브뎅신브렙', '브뎅신브뎅', '브뎅신브신', '브뎅신쯔브', '브뎅신쯔쯔', '브뎅신쯔렙', '브뎅신쯔뎅', '브뎅신쯔신', '브뎅신렙브', '브뎅신렙쯔', '브뎅신렙렙', '브뎅신렙뎅', '브뎅신렙신', '브뎅신뎅브', '브뎅신뎅쯔', '브뎅신뎅렙', '브뎅신뎅뎅', '브뎅신뎅신', '브뎅신신브', '브뎅신신쯔', '브뎅신신렙', '브뎅신신뎅', '브뎅신신신', '브신브브브', '브신브브쯔', '브신브브렙', '브신브브뎅', '브신브브신', '브신브쯔브', '브신브쯔쯔', '브신브쯔렙', '브신브쯔뎅', '브신브쯔신', '브신브렙브', '브신브렙쯔', '브신브렙렙', '브신브렙뎅', '브신브렙신', '브신브뎅브', '브신브뎅쯔', '브신브뎅렙', '브신브뎅뎅', '브신브뎅신', '브신브신브', '브신브신쯔', '브신브신렙', '브신브신뎅', '브신브신신', '브신쯔브브', '브신쯔브쯔', '브신쯔브렙', '브신쯔브뎅', '브신쯔브신', '브신쯔쯔브', '브신쯔쯔쯔', '브신쯔쯔렙', '브신쯔쯔뎅', '브신쯔쯔신', '브신쯔렙브', '브신쯔렙쯔', '브신쯔렙렙', '브신쯔렙뎅', '브신쯔렙신', '브신쯔뎅브', '브신쯔뎅쯔', '브신쯔뎅렙', '브신쯔뎅뎅', '브신쯔뎅신', '브신쯔신브', '브신쯔신쯔', '브신쯔신렙', '브신쯔신뎅', '브신쯔신신', '브신렙브브', '브신렙브쯔', '브신렙브렙', '브신렙브뎅', '브신렙브신', '브신렙쯔브', '브신렙쯔쯔', '브신렙쯔렙', '브신렙쯔뎅', '브신렙쯔신', '브신렙렙브', '브신렙렙쯔', '브신렙렙렙', '브신렙렙뎅', '브신렙렙신', '브신렙뎅브', '브신렙뎅쯔', '브신렙뎅렙', '브신렙뎅뎅', '브신렙뎅신', '브신렙신브', '브신렙신쯔', '브신렙신렙', '브신렙신뎅', '브신렙신신', '브신뎅브브', '브신뎅브쯔', '브신뎅브렙', '브신뎅브뎅', '브신뎅브신', '브신뎅쯔브', '브신뎅쯔쯔', '브신뎅쯔렙', '브신뎅쯔뎅', '브신뎅쯔신', '브신뎅렙브', '브신뎅렙쯔', '브신뎅렙렙', '브신뎅렙뎅', '브신뎅렙신', '브신뎅뎅브', '브신뎅뎅쯔', '브신뎅뎅렙', '브신뎅뎅뎅', '브신뎅뎅신', '브신뎅신브', '브신뎅신쯔', '브신뎅신렙', '브신뎅신뎅', '브신뎅신신', '브신신브브', '브신신브쯔', '브신신브렙', '브신신브뎅', '브신신브신', '브신신쯔브', '브신신쯔쯔', '브신신쯔렙', '브신신쯔뎅', '브신신쯔신', '브신신렙브', '브신신렙쯔', '브신신렙렙', '브신신렙뎅', '브신신렙신', '브신신뎅브', '브신신뎅쯔', '브신신뎅렙', '브신신뎅뎅', '브신신뎅신', '브신신신브', '브신신신쯔', '브신신신렙', '브신신신뎅', '브신신신신', '쯔브브브브', '쯔브브브쯔', '쯔브브브렙', '쯔브브브뎅', '쯔브브브신', '쯔브브쯔브', '쯔브브쯔쯔', '쯔브브쯔렙', '쯔브브쯔뎅', '쯔브브쯔신', '쯔브브렙브', '쯔브브렙쯔', '쯔브브렙렙', '쯔브브렙뎅', '쯔브브렙신', '쯔브브뎅브', '쯔브브뎅쯔', '쯔브브뎅렙', '쯔브브뎅뎅', '쯔브브뎅신', '쯔브브신브', '쯔브브신쯔', '쯔브브신렙', '쯔브브신뎅', '쯔브브신신', '쯔브쯔브브', '쯔브쯔브쯔', '쯔브쯔브렙', '쯔브쯔브뎅', '쯔브쯔브신', '쯔브쯔쯔브', '쯔브쯔쯔쯔', '쯔브쯔쯔렙', '쯔브쯔쯔뎅', '쯔브쯔쯔신', '쯔브쯔렙브', '쯔브쯔렙쯔', '쯔브쯔렙렙', '쯔브쯔렙뎅', '쯔브쯔렙신', '쯔브쯔뎅브', '쯔브쯔뎅쯔', '쯔브쯔뎅렙', '쯔브쯔뎅뎅', '쯔브쯔뎅신', '쯔브쯔신브', '쯔브쯔신쯔', '쯔브쯔신렙', '쯔브쯔신뎅', '쯔브쯔신신', '쯔브렙브브', '쯔브렙브쯔', '쯔브렙브렙', '쯔브렙브뎅', '쯔브렙브신', '쯔브렙쯔브', '쯔브렙쯔쯔', '쯔브렙쯔렙', '쯔브렙쯔뎅', '쯔브렙쯔신', '쯔브렙렙브', '쯔브렙렙쯔', '쯔브렙렙렙', '쯔브렙렙뎅', '쯔브렙렙신', '쯔브렙뎅브', '쯔브렙뎅쯔', '쯔브렙뎅렙', '쯔브렙뎅뎅', '쯔브렙뎅신', '쯔브렙신브', '쯔브렙신쯔', '쯔브렙신렙', '쯔브렙신뎅', '쯔브렙신신', '쯔브뎅브브', '쯔브뎅브쯔', '쯔브뎅브렙', '쯔브뎅브뎅', '쯔브뎅브신', '쯔브뎅쯔브', '쯔브뎅쯔쯔', '쯔브뎅쯔렙', '쯔브뎅쯔뎅', '쯔브뎅쯔신', '쯔브뎅렙브', '쯔브뎅렙쯔', '쯔브뎅렙렙', '쯔브뎅렙뎅', '쯔브뎅렙신', '쯔브뎅뎅브', '쯔브뎅뎅쯔', '쯔브뎅뎅렙', '쯔브뎅뎅뎅', '쯔브뎅뎅신', '쯔브뎅신브', '쯔브뎅신쯔', '쯔브뎅신렙', '쯔브뎅신뎅', '쯔브뎅신신', '쯔브신브브', '쯔브신브쯔', '쯔브신브렙', '쯔브신브뎅', '쯔브신브신', '쯔브신쯔브', '쯔브신쯔쯔', '쯔브신쯔렙', '쯔브신쯔뎅', '쯔브신쯔신', '쯔브신렙브', '쯔브신렙쯔', '쯔브신렙렙', '쯔브신렙뎅', '쯔브신렙신', '쯔브신뎅브', '쯔브신뎅쯔', '쯔브신뎅렙', '쯔브신뎅뎅', '쯔브신뎅신', '쯔브신신브', '쯔브신신쯔', '쯔브신신렙', '쯔브신신뎅', '쯔브신신신', '쯔쯔브브브', '쯔쯔브브쯔', '쯔쯔브브렙', '쯔쯔브브뎅', '쯔쯔브브신', '쯔쯔브쯔브', '쯔쯔브쯔쯔', '쯔쯔브쯔렙', '쯔쯔브쯔뎅', '쯔쯔브쯔신', '쯔쯔브렙브', '쯔쯔브렙쯔', '쯔쯔브렙렙', '쯔쯔브렙뎅', '쯔쯔브렙신', '쯔쯔브뎅브', '쯔쯔브뎅쯔', '쯔쯔브뎅렙', '쯔쯔브뎅뎅', '쯔쯔브뎅신', '쯔쯔브신브', '쯔쯔브신쯔', '쯔쯔브신렙', '쯔쯔브신뎅', '쯔쯔브신신', '쯔쯔쯔브브', '쯔쯔쯔브쯔', '쯔쯔쯔브렙', '쯔쯔쯔브뎅', '쯔쯔쯔브신', '쯔쯔쯔쯔브', '쯔쯔쯔쯔쯔', '쯔쯔쯔쯔렙', '쯔쯔쯔쯔뎅', '쯔쯔쯔쯔신', '쯔쯔쯔렙브', '쯔쯔쯔렙쯔', '쯔쯔쯔렙렙', '쯔쯔쯔렙뎅', '쯔쯔쯔렙신', '쯔쯔쯔뎅브', '쯔쯔쯔뎅쯔', '쯔쯔쯔뎅렙', '쯔쯔쯔뎅뎅', '쯔쯔쯔뎅신', '쯔쯔쯔신브', '쯔쯔쯔신쯔', '쯔쯔쯔신렙', '쯔쯔쯔신뎅', '쯔쯔쯔신신', '쯔쯔렙브브', '쯔쯔렙브쯔', '쯔쯔렙브렙', '쯔쯔렙브뎅', '쯔쯔렙브신', '쯔쯔렙쯔브', '쯔쯔렙쯔쯔', '쯔쯔렙쯔렙', '쯔쯔렙쯔뎅', '쯔쯔렙쯔신', '쯔쯔렙렙브', '쯔쯔렙렙쯔', '쯔쯔렙렙렙', '쯔쯔렙렙뎅', '쯔쯔렙렙신', '쯔쯔렙뎅브', '쯔쯔렙뎅쯔', '쯔쯔렙뎅렙', '쯔쯔렙뎅뎅', '쯔쯔렙뎅신', '쯔쯔렙신브', '쯔쯔렙신쯔', '쯔쯔렙신렙', '쯔쯔렙신뎅', '쯔쯔렙신신', '쯔쯔뎅브브', '쯔쯔뎅브쯔', '쯔쯔뎅브렙', '쯔쯔뎅브뎅', '쯔쯔뎅브신', '쯔쯔뎅쯔브', '쯔쯔뎅쯔쯔', '쯔쯔뎅쯔렙', '쯔쯔뎅쯔뎅', '쯔쯔뎅쯔신', '쯔쯔뎅렙브', '쯔쯔뎅렙쯔', '쯔쯔뎅렙렙', '쯔쯔뎅렙뎅', '쯔쯔뎅렙신', '쯔쯔뎅뎅브', '쯔쯔뎅뎅쯔', '쯔쯔뎅뎅렙', '쯔쯔뎅뎅뎅', '쯔쯔뎅뎅신', '쯔쯔뎅신브', '쯔쯔뎅신쯔', '쯔쯔뎅신렙', '쯔쯔뎅신뎅', '쯔쯔뎅신신', '쯔쯔신브브', '쯔쯔신브쯔', '쯔쯔신브렙', '쯔쯔신브뎅', '쯔쯔신브신', '쯔쯔신쯔브', '쯔쯔신쯔쯔', '쯔쯔신쯔렙', '쯔쯔신쯔뎅', '쯔쯔신쯔신', '쯔쯔신렙브', '쯔쯔신렙쯔', '쯔쯔신렙렙', '쯔쯔신렙뎅', '쯔쯔신렙신', '쯔쯔신뎅브', '쯔쯔신뎅쯔', '쯔쯔신뎅렙', '쯔쯔신뎅뎅', '쯔쯔신뎅신', '쯔쯔신신브', '쯔쯔신신쯔', '쯔쯔신신렙', '쯔쯔신신뎅', '쯔쯔신신신', '쯔렙브브브', '쯔렙브브쯔', '쯔렙브브렙', '쯔렙브브뎅', '쯔렙브브신', '쯔렙브쯔브', '쯔렙브쯔쯔', '쯔렙브쯔렙', '쯔렙브쯔뎅', '쯔렙브쯔신', '쯔렙브렙브', '쯔렙브렙쯔', '쯔렙브렙렙', '쯔렙브렙뎅', '쯔렙브렙신', '쯔렙브뎅브', '쯔렙브뎅쯔', '쯔렙브뎅렙', '쯔렙브뎅뎅', '쯔렙브뎅신', '쯔렙브신브', '쯔렙브신쯔', '쯔렙브신렙', '쯔렙브신뎅', '쯔렙브신신', '쯔렙쯔브브', '쯔렙쯔브쯔', '쯔렙쯔브렙', '쯔렙쯔브뎅', '쯔렙쯔브신', '쯔렙쯔쯔브', '쯔렙쯔쯔쯔', '쯔렙쯔쯔렙', '쯔렙쯔쯔뎅', '쯔렙쯔쯔신', '쯔렙쯔렙브', '쯔렙쯔렙쯔', '쯔렙쯔렙렙', '쯔렙쯔렙뎅', '쯔렙쯔렙신', '쯔렙쯔뎅브', '쯔렙쯔뎅쯔', '쯔렙쯔뎅렙', '쯔렙쯔뎅뎅', '쯔렙쯔뎅신', '쯔렙쯔신브', '쯔렙쯔신쯔', '쯔렙쯔신렙', '쯔렙쯔신뎅', '쯔렙쯔신신', '쯔렙렙브브', '쯔렙렙브쯔', '쯔렙렙브렙', '쯔렙렙브뎅', '쯔렙렙브신', '쯔렙렙쯔브', '쯔렙렙쯔쯔', '쯔렙렙쯔렙', '쯔렙렙쯔뎅', '쯔렙렙쯔신', '쯔렙렙렙브', '쯔렙렙렙쯔', '쯔렙렙렙렙', '쯔렙렙렙뎅', '쯔렙렙렙신', '쯔렙렙뎅브', '쯔렙렙뎅쯔', '쯔렙렙뎅렙', '쯔렙렙뎅뎅', '쯔렙렙뎅신', '쯔렙렙신브', '쯔렙렙신쯔', '쯔렙렙신렙', '쯔렙렙신뎅', '쯔렙렙신신', '쯔렙뎅브브', '쯔렙뎅브쯔', '쯔렙뎅브렙', '쯔렙뎅브뎅', '쯔렙뎅브신', '쯔렙뎅쯔브', '쯔렙뎅쯔쯔', '쯔렙뎅쯔렙', '쯔렙뎅쯔뎅', '쯔렙뎅쯔신', '쯔렙뎅렙브', '쯔렙뎅렙쯔', '쯔렙뎅렙렙', '쯔렙뎅렙뎅', '쯔렙뎅렙신', '쯔렙뎅뎅브', '쯔렙뎅뎅쯔', '쯔렙뎅뎅렙', '쯔렙뎅뎅뎅', '쯔렙뎅뎅신', '쯔렙뎅신브', '쯔렙뎅신쯔', '쯔렙뎅신렙', '쯔렙뎅신뎅', '쯔렙뎅신신', '쯔렙신브브', '쯔렙신브쯔', '쯔렙신브렙', '쯔렙신브뎅', '쯔렙신브신', '쯔렙신쯔브', '쯔렙신쯔쯔', '쯔렙신쯔렙', '쯔렙신쯔뎅', '쯔렙신쯔신', '쯔렙신렙브', '쯔렙신렙쯔', '쯔렙신렙렙', '쯔렙신렙뎅', '쯔렙신렙신', '쯔렙신뎅브', '쯔렙신뎅쯔', '쯔렙신뎅렙', '쯔렙신뎅뎅', '쯔렙신뎅신', '쯔렙신신브', '쯔렙신신쯔', '쯔렙신신렙', '쯔렙신신뎅', '쯔렙신신신', '쯔뎅브브브', '쯔뎅브브쯔', '쯔뎅브브렙', '쯔뎅브브뎅', '쯔뎅브브신', '쯔뎅브쯔브', '쯔뎅브쯔쯔', '쯔뎅브쯔렙', '쯔뎅브쯔뎅', '쯔뎅브쯔신', '쯔뎅브렙브', '쯔뎅브렙쯔', '쯔뎅브렙렙', '쯔뎅브렙뎅', '쯔뎅브렙신', '쯔뎅브뎅브', '쯔뎅브뎅쯔', '쯔뎅브뎅렙', '쯔뎅브뎅뎅', '쯔뎅브뎅신', '쯔뎅브신브', '쯔뎅브신쯔', '쯔뎅브신렙', '쯔뎅브신뎅', '쯔뎅브신신', '쯔뎅쯔브브', '쯔뎅쯔브쯔', '쯔뎅쯔브렙', '쯔뎅쯔브뎅', '쯔뎅쯔브신', '쯔뎅쯔쯔브', '쯔뎅쯔쯔쯔', '쯔뎅쯔쯔렙', '쯔뎅쯔쯔뎅', '쯔뎅쯔쯔신', '쯔뎅쯔렙브', '쯔뎅쯔렙쯔', '쯔뎅쯔렙렙', '쯔뎅쯔렙뎅', '쯔뎅쯔렙신', '쯔뎅쯔뎅브', '쯔뎅쯔뎅쯔', '쯔뎅쯔뎅렙', '쯔뎅쯔뎅뎅', '쯔뎅쯔뎅신', '쯔뎅쯔신브', '쯔뎅쯔신쯔', '쯔뎅쯔신렙', '쯔뎅쯔신뎅', '쯔뎅쯔신신', '쯔뎅렙브브', '쯔뎅렙브쯔', '쯔뎅렙브렙', '쯔뎅렙브뎅', '쯔뎅렙브신', '쯔뎅렙쯔브', '쯔뎅렙쯔쯔', '쯔뎅렙쯔렙', '쯔뎅렙쯔뎅', '쯔뎅렙쯔신', '쯔뎅렙렙브', '쯔뎅렙렙쯔', '쯔뎅렙렙렙', '쯔뎅렙렙뎅', '쯔뎅렙렙신', '쯔뎅렙뎅브', '쯔뎅렙뎅쯔', '쯔뎅렙뎅렙', '쯔뎅렙뎅뎅', '쯔뎅렙뎅신', '쯔뎅렙신브', '쯔뎅렙신쯔', '쯔뎅렙신렙', '쯔뎅렙신뎅', '쯔뎅렙신신', '쯔뎅뎅브브', '쯔뎅뎅브쯔', '쯔뎅뎅브렙', '쯔뎅뎅브뎅', '쯔뎅뎅브신', '쯔뎅뎅쯔브', '쯔뎅뎅쯔쯔', '쯔뎅뎅쯔렙', '쯔뎅뎅쯔뎅', '쯔뎅뎅쯔신', '쯔뎅뎅렙브', '쯔뎅뎅렙쯔', '쯔뎅뎅렙렙', '쯔뎅뎅렙뎅', '쯔뎅뎅렙신', '쯔뎅뎅뎅브', '쯔뎅뎅뎅쯔', '쯔뎅뎅뎅렙', '쯔뎅뎅뎅뎅', '쯔뎅뎅뎅신', '쯔뎅뎅신브', '쯔뎅뎅신쯔', '쯔뎅뎅신렙', '쯔뎅뎅신뎅', '쯔뎅뎅신신', '쯔뎅신브브', '쯔뎅신브쯔', '쯔뎅신브렙', '쯔뎅신브뎅', '쯔뎅신브신', '쯔뎅신쯔브', '쯔뎅신쯔쯔', '쯔뎅신쯔렙', '쯔뎅신쯔뎅', '쯔뎅신쯔신', '쯔뎅신렙브', '쯔뎅신렙쯔', '쯔뎅신렙렙', '쯔뎅신렙뎅', '쯔뎅신렙신', '쯔뎅신뎅브', '쯔뎅신뎅쯔', '쯔뎅신뎅렙', '쯔뎅신뎅뎅', '쯔뎅신뎅신', '쯔뎅신신브', '쯔뎅신신쯔', '쯔뎅신신렙', '쯔뎅신신뎅', '쯔뎅신신신', '쯔신브브브', '쯔신브브쯔', '쯔신브브렙', '쯔신브브뎅', '쯔신브브신', '쯔신브쯔브', '쯔신브쯔쯔', '쯔신브쯔렙', '쯔신브쯔뎅', '쯔신브쯔신', '쯔신브렙브', '쯔신브렙쯔', '쯔신브렙렙', '쯔신브렙뎅', '쯔신브렙신', '쯔신브뎅브', '쯔신브뎅쯔', '쯔신브뎅렙', '쯔신브뎅뎅', '쯔신브뎅신', '쯔신브신브', '쯔신브신쯔', '쯔신브신렙', '쯔신브신뎅', '쯔신브신신', '쯔신쯔브브', '쯔신쯔브쯔', '쯔신쯔브렙', '쯔신쯔브뎅', '쯔신쯔브신', '쯔신쯔쯔브', '쯔신쯔쯔쯔', '쯔신쯔쯔렙', '쯔신쯔쯔뎅', '쯔신쯔쯔신', '쯔신쯔렙브', '쯔신쯔렙쯔', '쯔신쯔렙렙', '쯔신쯔렙뎅', '쯔신쯔렙신', '쯔신쯔뎅브', '쯔신쯔뎅쯔', '쯔신쯔뎅렙', '쯔신쯔뎅뎅', '쯔신쯔뎅신', '쯔신쯔신브', '쯔신쯔신쯔', '쯔신쯔신렙', '쯔신쯔신뎅', '쯔신쯔신신', '쯔신렙브브', '쯔신렙브쯔', '쯔신렙브렙', '쯔신렙브뎅', '쯔신렙브신', '쯔신렙쯔브', '쯔신렙쯔쯔', '쯔신렙쯔렙', '쯔신렙쯔뎅', '쯔신렙쯔신', '쯔신렙렙브', '쯔신렙렙쯔', '쯔신렙렙렙', '쯔신렙렙뎅', '쯔신렙렙신', '쯔신렙뎅브', '쯔신렙뎅쯔', '쯔신렙뎅렙', '쯔신렙뎅뎅', '쯔신렙뎅신', '쯔신렙신브', '쯔신렙신쯔', '쯔신렙신렙', '쯔신렙신뎅', '쯔신렙신신', '쯔신뎅브브', '쯔신뎅브쯔', '쯔신뎅브렙', '쯔신뎅브뎅', '쯔신뎅브신', '쯔신뎅쯔브', '쯔신뎅쯔쯔', '쯔신뎅쯔렙', '쯔신뎅쯔뎅', '쯔신뎅쯔신', '쯔신뎅렙브', '쯔신뎅렙쯔', '쯔신뎅렙렙', '쯔신뎅렙뎅', '쯔신뎅렙신', '쯔신뎅뎅브', '쯔신뎅뎅쯔', '쯔신뎅뎅렙', '쯔신뎅뎅뎅', '쯔신뎅뎅신', '쯔신뎅신브', '쯔신뎅신쯔', '쯔신뎅신렙', '쯔신뎅신뎅', '쯔신뎅신신', '쯔신신브브', '쯔신신브쯔', '쯔신신브렙', '쯔신신브뎅', '쯔신신브신', '쯔신신쯔브', '쯔신신쯔쯔', '쯔신신쯔렙', '쯔신신쯔뎅', '쯔신신쯔신', '쯔신신렙브', '쯔신신렙쯔', '쯔신신렙렙', '쯔신신렙뎅', '쯔신신렙신', '쯔신신뎅브', '쯔신신뎅쯔', '쯔신신뎅렙', '쯔신신뎅뎅', '쯔신신뎅신', '쯔신신신브', '쯔신신신쯔', '쯔신신신렙', '쯔신신신뎅', '쯔신신신신', '렙브브브브', '렙브브브쯔', '렙브브브렙', '렙브브브뎅', '렙브브브신', '렙브브쯔브', '렙브브쯔쯔', '렙브브쯔렙', '렙브브쯔뎅', '렙브브쯔신', '렙브브렙브', '렙브브렙쯔', '렙브브렙렙', '렙브브렙뎅', '렙브브렙신', '렙브브뎅브', '렙브브뎅쯔', '렙브브뎅렙', '렙브브뎅뎅', '렙브브뎅신', '렙브브신브', '렙브브신쯔', '렙브브신렙', '렙브브신뎅', '렙브브신신', '렙브쯔브브', '렙브쯔브쯔', '렙브쯔브렙', '렙브쯔브뎅', '렙브쯔브신', '렙브쯔쯔브', '렙브쯔쯔쯔', '렙브쯔쯔렙', '렙브쯔쯔뎅', '렙브쯔쯔신', '렙브쯔렙브', '렙브쯔렙쯔', '렙브쯔렙렙', '렙브쯔렙뎅', '렙브쯔렙신', '렙브쯔뎅브', '렙브쯔뎅쯔', '렙브쯔뎅렙', '렙브쯔뎅뎅', '렙브쯔뎅신', '렙브쯔신브', '렙브쯔신쯔', '렙브쯔신렙', '렙브쯔신뎅', '렙브쯔신신', '렙브렙브브', '렙브렙브쯔', '렙브렙브렙', '렙브렙브뎅', '렙브렙브신', '렙브렙쯔브', '렙브렙쯔쯔', '렙브렙쯔렙', '렙브렙쯔뎅', '렙브렙쯔신', '렙브렙렙브', '렙브렙렙쯔', '렙브렙렙렙', '렙브렙렙뎅', '렙브렙렙신', '렙브렙뎅브', '렙브렙뎅쯔', '렙브렙뎅렙', '렙브렙뎅뎅', '렙브렙뎅신', '렙브렙신브', '렙브렙신쯔', '렙브렙신렙', '렙브렙신뎅', '렙브렙신신', '렙브뎅브브', '렙브뎅브쯔', '렙브뎅브렙', '렙브뎅브뎅', '렙브뎅브신', '렙브뎅쯔브', '렙브뎅쯔쯔', '렙브뎅쯔렙', '렙브뎅쯔뎅', '렙브뎅쯔신', '렙브뎅렙브', '렙브뎅렙쯔', '렙브뎅렙렙', '렙브뎅렙뎅', '렙브뎅렙신', '렙브뎅뎅브', '렙브뎅뎅쯔', '렙브뎅뎅렙', '렙브뎅뎅뎅', '렙브뎅뎅신', '렙브뎅신브', '렙브뎅신쯔', '렙브뎅신렙', '렙브뎅신뎅', '렙브뎅신신', '렙브신브브', '렙브신브쯔', '렙브신브렙', '렙브신브뎅', '렙브신브신', '렙브신쯔브', '렙브신쯔쯔', '렙브신쯔렙', '렙브신쯔뎅', '렙브신쯔신', '렙브신렙브', '렙브신렙쯔', '렙브신렙렙', '렙브신렙뎅', '렙브신렙신', '렙브신뎅브', '렙브신뎅쯔', '렙브신뎅렙', '렙브신뎅뎅', '렙브신뎅신', '렙브신신브', '렙브신신쯔', '렙브신신렙', '렙브신신뎅', '렙브신신신', '렙쯔브브브', '렙쯔브브쯔', '렙쯔브브렙', '렙쯔브브뎅', '렙쯔브브신', '렙쯔브쯔브', '렙쯔브쯔쯔', '렙쯔브쯔렙', '렙쯔브쯔뎅', '렙쯔브쯔신', '렙쯔브렙브', '렙쯔브렙쯔', '렙쯔브렙렙', '렙쯔브렙뎅', '렙쯔브렙신', '렙쯔브뎅브', '렙쯔브뎅쯔', '렙쯔브뎅렙', '렙쯔브뎅뎅', '렙쯔브뎅신', '렙쯔브신브', '렙쯔브신쯔', '렙쯔브신렙', '렙쯔브신뎅', '렙쯔브신신', '렙쯔쯔브브', '렙쯔쯔브쯔', '렙쯔쯔브렙', '렙쯔쯔브뎅', '렙쯔쯔브신', '렙쯔쯔쯔브', '렙쯔쯔쯔쯔', '렙쯔쯔쯔렙', '렙쯔쯔쯔뎅', '렙쯔쯔쯔신', '렙쯔쯔렙브', '렙쯔쯔렙쯔', '렙쯔쯔렙렙', '렙쯔쯔렙뎅', '렙쯔쯔렙신', '렙쯔쯔뎅브', '렙쯔쯔뎅쯔', '렙쯔쯔뎅렙', '렙쯔쯔뎅뎅', '렙쯔쯔뎅신', '렙쯔쯔신브', '렙쯔쯔신쯔', '렙쯔쯔신렙', '렙쯔쯔신뎅', '렙쯔쯔신신', '렙쯔렙브브', '렙쯔렙브쯔', '렙쯔렙브렙', '렙쯔렙브뎅', '렙쯔렙브신', '렙쯔렙쯔브', '렙쯔렙쯔쯔', '렙쯔렙쯔렙', '렙쯔렙쯔뎅', '렙쯔렙쯔신', '렙쯔렙렙브', '렙쯔렙렙쯔', '렙쯔렙렙렙', '렙쯔렙렙뎅', '렙쯔렙렙신', '렙쯔렙뎅브', '렙쯔렙뎅쯔', '렙쯔렙뎅렙', '렙쯔렙뎅뎅', '렙쯔렙뎅신', '렙쯔렙신브', '렙쯔렙신쯔', '렙쯔렙신렙', '렙쯔렙신뎅', '렙쯔렙신신', '렙쯔뎅브브', '렙쯔뎅브쯔', '렙쯔뎅브렙', '렙쯔뎅브뎅', '렙쯔뎅브신', '렙쯔뎅쯔브', '렙쯔뎅쯔쯔', '렙쯔뎅쯔렙', '렙쯔뎅쯔뎅', '렙쯔뎅쯔신', '렙쯔뎅렙브', '렙쯔뎅렙쯔', '렙쯔뎅렙렙', '렙쯔뎅렙뎅', '렙쯔뎅렙신', '렙쯔뎅뎅브', '렙쯔뎅뎅쯔', '렙쯔뎅뎅렙', '렙쯔뎅뎅뎅', '렙쯔뎅뎅신', '렙쯔뎅신브', '렙쯔뎅신쯔', '렙쯔뎅신렙', '렙쯔뎅신뎅', '렙쯔뎅신신', '렙쯔신브브', '렙쯔신브쯔', '렙쯔신브렙', '렙쯔신브뎅', '렙쯔신브신', '렙쯔신쯔브', '렙쯔신쯔쯔', '렙쯔신쯔렙', '렙쯔신쯔뎅', '렙쯔신쯔신', '렙쯔신렙브', '렙쯔신렙쯔', '렙쯔신렙렙', '렙쯔신렙뎅', '렙쯔신렙신', '렙쯔신뎅브', '렙쯔신뎅쯔', '렙쯔신뎅렙', '렙쯔신뎅뎅', '렙쯔신뎅신', '렙쯔신신브', '렙쯔신신쯔', '렙쯔신신렙', '렙쯔신신뎅', '렙쯔신신신', '렙렙브브브', '렙렙브브쯔', '렙렙브브렙', '렙렙브브뎅', '렙렙브브신', '렙렙브쯔브', '렙렙브쯔쯔', '렙렙브쯔렙', '렙렙브쯔뎅', '렙렙브쯔신', '렙렙브렙브', '렙렙브렙쯔', '렙렙브렙렙', '렙렙브렙뎅', '렙렙브렙신', '렙렙브뎅브', '렙렙브뎅쯔', '렙렙브뎅렙', '렙렙브뎅뎅', '렙렙브뎅신', '렙렙브신브', '렙렙브신쯔', '렙렙브신렙', '렙렙브신뎅', '렙렙브신신', '렙렙쯔브브', '렙렙쯔브쯔', '렙렙쯔브렙', '렙렙쯔브뎅', '렙렙쯔브신', '렙렙쯔쯔브', '렙렙쯔쯔쯔', '렙렙쯔쯔렙', '렙렙쯔쯔뎅', '렙렙쯔쯔신', '렙렙쯔렙브', '렙렙쯔렙쯔', '렙렙쯔렙렙', '렙렙쯔렙뎅', '렙렙쯔렙신', '렙렙쯔뎅브', '렙렙쯔뎅쯔', '렙렙쯔뎅렙', '렙렙쯔뎅뎅', '렙렙쯔뎅신', '렙렙쯔신브', '렙렙쯔신쯔', '렙렙쯔신렙', '렙렙쯔신뎅', '렙렙쯔신신', '렙렙렙브브', '렙렙렙브쯔', '렙렙렙브렙', '렙렙렙브뎅', '렙렙렙브신', '렙렙렙쯔브', '렙렙렙쯔쯔', '렙렙렙쯔렙', '렙렙렙쯔뎅', '렙렙렙쯔신', '렙렙렙렙브', '렙렙렙렙쯔', '렙렙렙렙렙', '렙렙렙렙뎅', '렙렙렙렙신', '렙렙렙뎅브', '렙렙렙뎅쯔', '렙렙렙뎅렙', '렙렙렙뎅뎅', '렙렙렙뎅신', '렙렙렙신브', '렙렙렙신쯔', '렙렙렙신렙', '렙렙렙신뎅', '렙렙렙신신', '렙렙뎅브브', '렙렙뎅브쯔', '렙렙뎅브렙', '렙렙뎅브뎅', '렙렙뎅브신', '렙렙뎅쯔브', '렙렙뎅쯔쯔', '렙렙뎅쯔렙', '렙렙뎅쯔뎅', '렙렙뎅쯔신', '렙렙뎅렙브', '렙렙뎅렙쯔', '렙렙뎅렙렙', '렙렙뎅렙뎅', '렙렙뎅렙신', '렙렙뎅뎅브', '렙렙뎅뎅쯔', '렙렙뎅뎅렙', '렙렙뎅뎅뎅', '렙렙뎅뎅신', '렙렙뎅신브', '렙렙뎅신쯔', '렙렙뎅신렙', '렙렙뎅신뎅', '렙렙뎅신신', '렙렙신브브', '렙렙신브쯔', '렙렙신브렙', '렙렙신브뎅', '렙렙신브신', '렙렙신쯔브', '렙렙신쯔쯔', '렙렙신쯔렙', '렙렙신쯔뎅', '렙렙신쯔신', '렙렙신렙브', '렙렙신렙쯔', '렙렙신렙렙', '렙렙신렙뎅', '렙렙신렙신', '렙렙신뎅브', '렙렙신뎅쯔', '렙렙신뎅렙', '렙렙신뎅뎅', '렙렙신뎅신', '렙렙신신브', '렙렙신신쯔', '렙렙신신렙', '렙렙신신뎅', '렙렙신신신', '렙뎅브브브', '렙뎅브브쯔', '렙뎅브브렙', '렙뎅브브뎅', '렙뎅브브신', '렙뎅브쯔브', '렙뎅브쯔쯔', '렙뎅브쯔렙', '렙뎅브쯔뎅', '렙뎅브쯔신', '렙뎅브렙브', '렙뎅브렙쯔', '렙뎅브렙렙', '렙뎅브렙뎅', '렙뎅브렙신', '렙뎅브뎅브', '렙뎅브뎅쯔', '렙뎅브뎅렙', '렙뎅브뎅뎅', '렙뎅브뎅신', '렙뎅브신브', '렙뎅브신쯔', '렙뎅브신렙', '렙뎅브신뎅', '렙뎅브신신', '렙뎅쯔브브', '렙뎅쯔브쯔', '렙뎅쯔브렙', '렙뎅쯔브뎅', '렙뎅쯔브신', '렙뎅쯔쯔브', '렙뎅쯔쯔쯔', '렙뎅쯔쯔렙', '렙뎅쯔쯔뎅', '렙뎅쯔쯔신', '렙뎅쯔렙브', '렙뎅쯔렙쯔', '렙뎅쯔렙렙', '렙뎅쯔렙뎅', '렙뎅쯔렙신', '렙뎅쯔뎅브', '렙뎅쯔뎅쯔', '렙뎅쯔뎅렙', '렙뎅쯔뎅뎅', '렙뎅쯔뎅신', '렙뎅쯔신브', '렙뎅쯔신쯔', '렙뎅쯔신렙', '렙뎅쯔신뎅', '렙뎅쯔신신', '렙뎅렙브브', '렙뎅렙브쯔', '렙뎅렙브렙', '렙뎅렙브뎅', '렙뎅렙브신', '렙뎅렙쯔브', '렙뎅렙쯔쯔', '렙뎅렙쯔렙', '렙뎅렙쯔뎅', '렙뎅렙쯔신', '렙뎅렙렙브', '렙뎅렙렙쯔', '렙뎅렙렙렙', '렙뎅렙렙뎅', '렙뎅렙렙신', '렙뎅렙뎅브', '렙뎅렙뎅쯔', '렙뎅렙뎅렙', '렙뎅렙뎅뎅', '렙뎅렙뎅신', '렙뎅렙신브', '렙뎅렙신쯔', '렙뎅렙신렙', '렙뎅렙신뎅', '렙뎅렙신신', '렙뎅뎅브브', '렙뎅뎅브쯔', '렙뎅뎅브렙', '렙뎅뎅브뎅', '렙뎅뎅브신', '렙뎅뎅쯔브', '렙뎅뎅쯔쯔', '렙뎅뎅쯔렙', '렙뎅뎅쯔뎅', '렙뎅뎅쯔신', '렙뎅뎅렙브', '렙뎅뎅렙쯔', '렙뎅뎅렙렙', '렙뎅뎅렙뎅', '렙뎅뎅렙신', '렙뎅뎅뎅브', '렙뎅뎅뎅쯔', '렙뎅뎅뎅렙', '렙뎅뎅뎅뎅', '렙뎅뎅뎅신', '렙뎅뎅신브', '렙뎅뎅신쯔', '렙뎅뎅신렙', '렙뎅뎅신뎅', '렙뎅뎅신신', '렙뎅신브브', '렙뎅신브쯔', '렙뎅신브렙', '렙뎅신브뎅', '렙뎅신브신', '렙뎅신쯔브', '렙뎅신쯔쯔', '렙뎅신쯔렙', '렙뎅신쯔뎅', '렙뎅신쯔신', '렙뎅신렙브', '렙뎅신렙쯔', '렙뎅신렙렙', '렙뎅신렙뎅', '렙뎅신렙신', '렙뎅신뎅브', '렙뎅신뎅쯔', '렙뎅신뎅렙', '렙뎅신뎅뎅', '렙뎅신뎅신', '렙뎅신신브', '렙뎅신신쯔', '렙뎅신신렙', '렙뎅신신뎅', '렙뎅신신신', '렙신브브브', '렙신브브쯔', '렙신브브렙', '렙신브브뎅', '렙신브브신', '렙신브쯔브', '렙신브쯔쯔', '렙신브쯔렙', '렙신브쯔뎅', '렙신브쯔신', '렙신브렙브', '렙신브렙쯔', '렙신브렙렙', '렙신브렙뎅', '렙신브렙신', '렙신브뎅브', '렙신브뎅쯔', '렙신브뎅렙', '렙신브뎅뎅', '렙신브뎅신', '렙신브신브', '렙신브신쯔', '렙신브신렙', '렙신브신뎅', '렙신브신신', '렙신쯔브브', '렙신쯔브쯔', '렙신쯔브렙', '렙신쯔브뎅', '렙신쯔브신', '렙신쯔쯔브', '렙신쯔쯔쯔', '렙신쯔쯔렙', '렙신쯔쯔뎅', '렙신쯔쯔신', '렙신쯔렙브', '렙신쯔렙쯔', '렙신쯔렙렙', '렙신쯔렙뎅', '렙신쯔렙신', '렙신쯔뎅브', '렙신쯔뎅쯔', '렙신쯔뎅렙', '렙신쯔뎅뎅', '렙신쯔뎅신', '렙신쯔신브', '렙신쯔신쯔', '렙신쯔신렙', '렙신쯔신뎅', '렙신쯔신신', '렙신렙브브', '렙신렙브쯔', '렙신렙브렙', '렙신렙브뎅', '렙신렙브신', '렙신렙쯔브', '렙신렙쯔쯔', '렙신렙쯔렙', '렙신렙쯔뎅', '렙신렙쯔신', '렙신렙렙브', '렙신렙렙쯔', '렙신렙렙렙', '렙신렙렙뎅', '렙신렙렙신', '렙신렙뎅브', '렙신렙뎅쯔', '렙신렙뎅렙', '렙신렙뎅뎅', '렙신렙뎅신', '렙신렙신브', '렙신렙신쯔', '렙신렙신렙', '렙신렙신뎅', '렙신렙신신', '렙신뎅브브', '렙신뎅브쯔', '렙신뎅브렙', '렙신뎅브뎅', '렙신뎅브신', '렙신뎅쯔브', '렙신뎅쯔쯔', '렙신뎅쯔렙', '렙신뎅쯔뎅', '렙신뎅쯔신', '렙신뎅렙브', '렙신뎅렙쯔', '렙신뎅렙렙', '렙신뎅렙뎅', '렙신뎅렙신', '렙신뎅뎅브', '렙신뎅뎅쯔', '렙신뎅뎅렙', '렙신뎅뎅뎅', '렙신뎅뎅신', '렙신뎅신브', '렙신뎅신쯔', '렙신뎅신렙', '렙신뎅신뎅', '렙신뎅신신', '렙신신브브', '렙신신브쯔', '렙신신브렙', '렙신신브뎅', '렙신신브신', '렙신신쯔브', '렙신신쯔쯔', '렙신신쯔렙', '렙신신쯔뎅', '렙신신쯔신', '렙신신렙브', '렙신신렙쯔', '렙신신렙렙', '렙신신렙뎅', '렙신신렙신', '렙신신뎅브', '렙신신뎅쯔', '렙신신뎅렙', '렙신신뎅뎅', '렙신신뎅신', '렙신신신브', '렙신신신쯔', '렙신신신렙', '렙신신신뎅', '렙신신신신', '뎅브브브브', '뎅브브브쯔', '뎅브브브렙', '뎅브브브뎅', '뎅브브브신', '뎅브브쯔브', '뎅브브쯔쯔', '뎅브브쯔렙', '뎅브브쯔뎅', '뎅브브쯔신', '뎅브브렙브', '뎅브브렙쯔', '뎅브브렙렙', '뎅브브렙뎅', '뎅브브렙신', '뎅브브뎅브', '뎅브브뎅쯔', '뎅브브뎅렙', '뎅브브뎅뎅', '뎅브브뎅신', '뎅브브신브', '뎅브브신쯔', '뎅브브신렙', '뎅브브신뎅', '뎅브브신신', '뎅브쯔브브', '뎅브쯔브쯔', '뎅브쯔브렙', '뎅브쯔브뎅', '뎅브쯔브신', '뎅브쯔쯔브', '뎅브쯔쯔쯔', '뎅브쯔쯔렙', '뎅브쯔쯔뎅', '뎅브쯔쯔신', '뎅브쯔렙브', '뎅브쯔렙쯔', '뎅브쯔렙렙', '뎅브쯔렙뎅', '뎅브쯔렙신', '뎅브쯔뎅브', '뎅브쯔뎅쯔', '뎅브쯔뎅렙', '뎅브쯔뎅뎅', '뎅브쯔뎅신', '뎅브쯔신브', '뎅브쯔신쯔', '뎅브쯔신렙', '뎅브쯔신뎅', '뎅브쯔신신', '뎅브렙브브', '뎅브렙브쯔', '뎅브렙브렙', '뎅브렙브뎅', '뎅브렙브신', '뎅브렙쯔브', '뎅브렙쯔쯔', '뎅브렙쯔렙', '뎅브렙쯔뎅', '뎅브렙쯔신', '뎅브렙렙브', '뎅브렙렙쯔', '뎅브렙렙렙', '뎅브렙렙뎅', '뎅브렙렙신', '뎅브렙뎅브', '뎅브렙뎅쯔', '뎅브렙뎅렙', '뎅브렙뎅뎅', '뎅브렙뎅신', '뎅브렙신브', '뎅브렙신쯔', '뎅브렙신렙', '뎅브렙신뎅', '뎅브렙신신', '뎅브뎅브브', '뎅브뎅브쯔', '뎅브뎅브렙', '뎅브뎅브뎅', '뎅브뎅브신', '뎅브뎅쯔브', '뎅브뎅쯔쯔', '뎅브뎅쯔렙', '뎅브뎅쯔뎅', '뎅브뎅쯔신', '뎅브뎅렙브', '뎅브뎅렙쯔', '뎅브뎅렙렙', '뎅브뎅렙뎅', '뎅브뎅렙신', '뎅브뎅뎅브', '뎅브뎅뎅쯔', '뎅브뎅뎅렙', '뎅브뎅뎅뎅', '뎅브뎅뎅신', '뎅브뎅신브', '뎅브뎅신쯔', '뎅브뎅신렙', '뎅브뎅신뎅', '뎅브뎅신신', '뎅브신브브', '뎅브신브쯔', '뎅브신브렙', '뎅브신브뎅', '뎅브신브신', '뎅브신쯔브', '뎅브신쯔쯔', '뎅브신쯔렙', '뎅브신쯔뎅', '뎅브신쯔신', '뎅브신렙브', '뎅브신렙쯔', '뎅브신렙렙', '뎅브신렙뎅', '뎅브신렙신', '뎅브신뎅브', '뎅브신뎅쯔', '뎅브신뎅렙', '뎅브신뎅뎅', '뎅브신뎅신', '뎅브신신브', '뎅브신신쯔', '뎅브신신렙', '뎅브신신뎅', '뎅브신신신', '뎅쯔브브브', '뎅쯔브브쯔', '뎅쯔브브렙', '뎅쯔브브뎅', '뎅쯔브브신', '뎅쯔브쯔브', '뎅쯔브쯔쯔', '뎅쯔브쯔렙', '뎅쯔브쯔뎅', '뎅쯔브쯔신', '뎅쯔브렙브', '뎅쯔브렙쯔', '뎅쯔브렙렙', '뎅쯔브렙뎅', '뎅쯔브렙신', '뎅쯔브뎅브', '뎅쯔브뎅쯔', '뎅쯔브뎅렙', '뎅쯔브뎅뎅', '뎅쯔브뎅신', '뎅쯔브신브', '뎅쯔브신쯔', '뎅쯔브신렙', '뎅쯔브신뎅', '뎅쯔브신신', '뎅쯔쯔브브', '뎅쯔쯔브쯔', '뎅쯔쯔브렙', '뎅쯔쯔브뎅', '뎅쯔쯔브신', '뎅쯔쯔쯔브', '뎅쯔쯔쯔쯔', '뎅쯔쯔쯔렙', '뎅쯔쯔쯔뎅', '뎅쯔쯔쯔신', '뎅쯔쯔렙브', '뎅쯔쯔렙쯔', '뎅쯔쯔렙렙', '뎅쯔쯔렙뎅', '뎅쯔쯔렙신', '뎅쯔쯔뎅브', '뎅쯔쯔뎅쯔', '뎅쯔쯔뎅렙', '뎅쯔쯔뎅뎅', '뎅쯔쯔뎅신', '뎅쯔쯔신브', '뎅쯔쯔신쯔', '뎅쯔쯔신렙', '뎅쯔쯔신뎅', '뎅쯔쯔신신', '뎅쯔렙브브', '뎅쯔렙브쯔', '뎅쯔렙브렙', '뎅쯔렙브뎅', '뎅쯔렙브신', '뎅쯔렙쯔브', '뎅쯔렙쯔쯔', '뎅쯔렙쯔렙', '뎅쯔렙쯔뎅', '뎅쯔렙쯔신', '뎅쯔렙렙브', '뎅쯔렙렙쯔', '뎅쯔렙렙렙', '뎅쯔렙렙뎅', '뎅쯔렙렙신', '뎅쯔렙뎅브', '뎅쯔렙뎅쯔', '뎅쯔렙뎅렙', '뎅쯔렙뎅뎅', '뎅쯔렙뎅신', '뎅쯔렙신브', '뎅쯔렙신쯔', '뎅쯔렙신렙', '뎅쯔렙신뎅', '뎅쯔렙신신', '뎅쯔뎅브브', '뎅쯔뎅브쯔', '뎅쯔뎅브렙', '뎅쯔뎅브뎅', '뎅쯔뎅브신', '뎅쯔뎅쯔브', '뎅쯔뎅쯔쯔', '뎅쯔뎅쯔렙', '뎅쯔뎅쯔뎅', '뎅쯔뎅쯔신', '뎅쯔뎅렙브', '뎅쯔뎅렙쯔', '뎅쯔뎅렙렙', '뎅쯔뎅렙뎅', '뎅쯔뎅렙신', '뎅쯔뎅뎅브', '뎅쯔뎅뎅쯔', '뎅쯔뎅뎅렙', '뎅쯔뎅뎅뎅', '뎅쯔뎅뎅신', '뎅쯔뎅신브', '뎅쯔뎅신쯔', '뎅쯔뎅신렙', '뎅쯔뎅신뎅', '뎅쯔뎅신신', '뎅쯔신브브', '뎅쯔신브쯔', '뎅쯔신브렙', '뎅쯔신브뎅', '뎅쯔신브신', '뎅쯔신쯔브', '뎅쯔신쯔쯔', '뎅쯔신쯔렙', '뎅쯔신쯔뎅', '뎅쯔신쯔신', '뎅쯔신렙브', '뎅쯔신렙쯔', '뎅쯔신렙렙', '뎅쯔신렙뎅', '뎅쯔신렙신', '뎅쯔신뎅브', '뎅쯔신뎅쯔', '뎅쯔신뎅렙', '뎅쯔신뎅뎅', '뎅쯔신뎅신', '뎅쯔신신브', '뎅쯔신신쯔', '뎅쯔신신렙', '뎅쯔신신뎅', '뎅쯔신신신', '뎅렙브브브', '뎅렙브브쯔', '뎅렙브브렙', '뎅렙브브뎅', '뎅렙브브신', '뎅렙브쯔브', '뎅렙브쯔쯔', '뎅렙브쯔렙', '뎅렙브쯔뎅', '뎅렙브쯔신', '뎅렙브렙브', '뎅렙브렙쯔', '뎅렙브렙렙', '뎅렙브렙뎅', '뎅렙브렙신', '뎅렙브뎅브', '뎅렙브뎅쯔', '뎅렙브뎅렙', '뎅렙브뎅뎅', '뎅렙브뎅신', '뎅렙브신브', '뎅렙브신쯔', '뎅렙브신렙', '뎅렙브신뎅', '뎅렙브신신', '뎅렙쯔브브', '뎅렙쯔브쯔', '뎅렙쯔브렙', '뎅렙쯔브뎅', '뎅렙쯔브신', '뎅렙쯔쯔브', '뎅렙쯔쯔쯔', '뎅렙쯔쯔렙', '뎅렙쯔쯔뎅', '뎅렙쯔쯔신', '뎅렙쯔렙브', '뎅렙쯔렙쯔', '뎅렙쯔렙렙', '뎅렙쯔렙뎅', '뎅렙쯔렙신', '뎅렙쯔뎅브', '뎅렙쯔뎅쯔', '뎅렙쯔뎅렙', '뎅렙쯔뎅뎅', '뎅렙쯔뎅신', '뎅렙쯔신브', '뎅렙쯔신쯔', '뎅렙쯔신렙', '뎅렙쯔신뎅', '뎅렙쯔신신', '뎅렙렙브브', '뎅렙렙브쯔', '뎅렙렙브렙', '뎅렙렙브뎅', '뎅렙렙브신', '뎅렙렙쯔브', '뎅렙렙쯔쯔', '뎅렙렙쯔렙', '뎅렙렙쯔뎅', '뎅렙렙쯔신', '뎅렙렙렙브', '뎅렙렙렙쯔', '뎅렙렙렙렙', '뎅렙렙렙뎅', '뎅렙렙렙신', '뎅렙렙뎅브', '뎅렙렙뎅쯔', '뎅렙렙뎅렙', '뎅렙렙뎅뎅', '뎅렙렙뎅신', '뎅렙렙신브', '뎅렙렙신쯔', '뎅렙렙신렙', '뎅렙렙신뎅', '뎅렙렙신신', '뎅렙뎅브브', '뎅렙뎅브쯔', '뎅렙뎅브렙', '뎅렙뎅브뎅', '뎅렙뎅브신', '뎅렙뎅쯔브', '뎅렙뎅쯔쯔', '뎅렙뎅쯔렙', '뎅렙뎅쯔뎅', '뎅렙뎅쯔신', '뎅렙뎅렙브', '뎅렙뎅렙쯔', '뎅렙뎅렙렙', '뎅렙뎅렙뎅', '뎅렙뎅렙신', '뎅렙뎅뎅브', '뎅렙뎅뎅쯔', '뎅렙뎅뎅렙', '뎅렙뎅뎅뎅', '뎅렙뎅뎅신', '뎅렙뎅신브', '뎅렙뎅신쯔', '뎅렙뎅신렙', '뎅렙뎅신뎅', '뎅렙뎅신신', '뎅렙신브브', '뎅렙신브쯔', '뎅렙신브렙', '뎅렙신브뎅', '뎅렙신브신', '뎅렙신쯔브', '뎅렙신쯔쯔', '뎅렙신쯔렙', '뎅렙신쯔뎅', '뎅렙신쯔신', '뎅렙신렙브', '뎅렙신렙쯔', '뎅렙신렙렙', '뎅렙신렙뎅', '뎅렙신렙신', '뎅렙신뎅브', '뎅렙신뎅쯔', '뎅렙신뎅렙', '뎅렙신뎅뎅', '뎅렙신뎅신', '뎅렙신신브', '뎅렙신신쯔', '뎅렙신신렙', '뎅렙신신뎅', '뎅렙신신신', '뎅뎅브브브', '뎅뎅브브쯔', '뎅뎅브브렙', '뎅뎅브브뎅', '뎅뎅브브신', '뎅뎅브쯔브', '뎅뎅브쯔쯔', '뎅뎅브쯔렙', '뎅뎅브쯔뎅', '뎅뎅브쯔신', '뎅뎅브렙브', '뎅뎅브렙쯔', '뎅뎅브렙렙', '뎅뎅브렙뎅', '뎅뎅브렙신', '뎅뎅브뎅브', '뎅뎅브뎅쯔', '뎅뎅브뎅렙', '뎅뎅브뎅뎅', '뎅뎅브뎅신', '뎅뎅브신브', '뎅뎅브신쯔', '뎅뎅브신렙', '뎅뎅브신뎅', '뎅뎅브신신', '뎅뎅쯔브브', '뎅뎅쯔브쯔', '뎅뎅쯔브렙', '뎅뎅쯔브뎅', '뎅뎅쯔브신', '뎅뎅쯔쯔브', '뎅뎅쯔쯔쯔', '뎅뎅쯔쯔렙', '뎅뎅쯔쯔뎅', '뎅뎅쯔쯔신', '뎅뎅쯔렙브', '뎅뎅쯔렙쯔', '뎅뎅쯔렙렙', '뎅뎅쯔렙뎅', '뎅뎅쯔렙신', '뎅뎅쯔뎅브', '뎅뎅쯔뎅쯔', '뎅뎅쯔뎅렙', '뎅뎅쯔뎅뎅', '뎅뎅쯔뎅신', '뎅뎅쯔신브', '뎅뎅쯔신쯔', '뎅뎅쯔신렙', '뎅뎅쯔신뎅', '뎅뎅쯔신신', '뎅뎅렙브브', '뎅뎅렙브쯔', '뎅뎅렙브렙', '뎅뎅렙브뎅', '뎅뎅렙브신', '뎅뎅렙쯔브', '뎅뎅렙쯔쯔', '뎅뎅렙쯔렙', '뎅뎅렙쯔뎅', '뎅뎅렙쯔신', '뎅뎅렙렙브', '뎅뎅렙렙쯔', '뎅뎅렙렙렙', '뎅뎅렙렙뎅', '뎅뎅렙렙신', '뎅뎅렙뎅브', '뎅뎅렙뎅쯔', '뎅뎅렙뎅렙', '뎅뎅렙뎅뎅', '뎅뎅렙뎅신', '뎅뎅렙신브', '뎅뎅렙신쯔', '뎅뎅렙신렙', '뎅뎅렙신뎅', '뎅뎅렙신신', '뎅뎅뎅브브', '뎅뎅뎅브쯔', '뎅뎅뎅브렙', '뎅뎅뎅브뎅', '뎅뎅뎅브신', '뎅뎅뎅쯔브', '뎅뎅뎅쯔쯔', '뎅뎅뎅쯔렙', '뎅뎅뎅쯔뎅', '뎅뎅뎅쯔신', '뎅뎅뎅렙브', '뎅뎅뎅렙쯔', '뎅뎅뎅렙렙', '뎅뎅뎅렙뎅', '뎅뎅뎅렙신', '뎅뎅뎅뎅브', '뎅뎅뎅뎅쯔', '뎅뎅뎅뎅렙', '뎅뎅뎅뎅뎅', '뎅뎅뎅뎅신', '뎅뎅뎅신브', '뎅뎅뎅신쯔', '뎅뎅뎅신렙', '뎅뎅뎅신뎅', '뎅뎅뎅신신', '뎅뎅신브브', '뎅뎅신브쯔', '뎅뎅신브렙', '뎅뎅신브뎅', '뎅뎅신브신', '뎅뎅신쯔브', '뎅뎅신쯔쯔', '뎅뎅신쯔렙', '뎅뎅신쯔뎅', '뎅뎅신쯔신', '뎅뎅신렙브', '뎅뎅신렙쯔', '뎅뎅신렙렙', '뎅뎅신렙뎅', '뎅뎅신렙신', '뎅뎅신뎅브', '뎅뎅신뎅쯔', '뎅뎅신뎅렙', '뎅뎅신뎅뎅', '뎅뎅신뎅신', '뎅뎅신신브', '뎅뎅신신쯔', '뎅뎅신신렙', '뎅뎅신신뎅', '뎅뎅신신신', '뎅신브브브', '뎅신브브쯔', '뎅신브브렙', '뎅신브브뎅', '뎅신브브신', '뎅신브쯔브', '뎅신브쯔쯔', '뎅신브쯔렙', '뎅신브쯔뎅', '뎅신브쯔신', '뎅신브렙브', '뎅신브렙쯔', '뎅신브렙렙', '뎅신브렙뎅', '뎅신브렙신', '뎅신브뎅브', '뎅신브뎅쯔', '뎅신브뎅렙', '뎅신브뎅뎅', '뎅신브뎅신', '뎅신브신브', '뎅신브신쯔', '뎅신브신렙', '뎅신브신뎅', '뎅신브신신', '뎅신쯔브브', '뎅신쯔브쯔', '뎅신쯔브렙', '뎅신쯔브뎅', '뎅신쯔브신', '뎅신쯔쯔브', '뎅신쯔쯔쯔', '뎅신쯔쯔렙', '뎅신쯔쯔뎅', '뎅신쯔쯔신', '뎅신쯔렙브', '뎅신쯔렙쯔', '뎅신쯔렙렙', '뎅신쯔렙뎅', '뎅신쯔렙신', '뎅신쯔뎅브', '뎅신쯔뎅쯔', '뎅신쯔뎅렙', '뎅신쯔뎅뎅', '뎅신쯔뎅신', '뎅신쯔신브', '뎅신쯔신쯔', '뎅신쯔신렙', '뎅신쯔신뎅', '뎅신쯔신신', '뎅신렙브브', '뎅신렙브쯔', '뎅신렙브렙', '뎅신렙브뎅', '뎅신렙브신', '뎅신렙쯔브', '뎅신렙쯔쯔', '뎅신렙쯔렙', '뎅신렙쯔뎅', '뎅신렙쯔신', '뎅신렙렙브', '뎅신렙렙쯔', '뎅신렙렙렙', '뎅신렙렙뎅', '뎅신렙렙신', '뎅신렙뎅브', '뎅신렙뎅쯔', '뎅신렙뎅렙', '뎅신렙뎅뎅', '뎅신렙뎅신', '뎅신렙신브', '뎅신렙신쯔', '뎅신렙신렙', '뎅신렙신뎅', '뎅신렙신신', '뎅신뎅브브', '뎅신뎅브쯔', '뎅신뎅브렙', '뎅신뎅브뎅', '뎅신뎅브신', '뎅신뎅쯔브', '뎅신뎅쯔쯔', '뎅신뎅쯔렙', '뎅신뎅쯔뎅', '뎅신뎅쯔신', '뎅신뎅렙브', '뎅신뎅렙쯔', '뎅신뎅렙렙', '뎅신뎅렙뎅', '뎅신뎅렙신', '뎅신뎅뎅브', '뎅신뎅뎅쯔', '뎅신뎅뎅렙', '뎅신뎅뎅뎅', '뎅신뎅뎅신', '뎅신뎅신브', '뎅신뎅신쯔', '뎅신뎅신렙', '뎅신뎅신뎅', '뎅신뎅신신', '뎅신신브브', '뎅신신브쯔', '뎅신신브렙', '뎅신신브뎅', '뎅신신브신', '뎅신신쯔브', '뎅신신쯔쯔', '뎅신신쯔렙', '뎅신신쯔뎅', '뎅신신쯔신', '뎅신신렙브', '뎅신신렙쯔', '뎅신신렙렙', '뎅신신렙뎅', '뎅신신렙신', '뎅신신뎅브', '뎅신신뎅쯔', '뎅신신뎅렙', '뎅신신뎅뎅', '뎅신신뎅신', '뎅신신신브', '뎅신신신쯔', '뎅신신신렙', '뎅신신신뎅', '뎅신신신신', '신브브브브', '신브브브쯔', '신브브브렙', '신브브브뎅', '신브브브신', '신브브쯔브', '신브브쯔쯔', '신브브쯔렙', '신브브쯔뎅', '신브브쯔신', '신브브렙브', '신브브렙쯔', '신브브렙렙', '신브브렙뎅', '신브브렙신', '신브브뎅브', '신브브뎅쯔', '신브브뎅렙', '신브브뎅뎅', '신브브뎅신', '신브브신브', '신브브신쯔', '신브브신렙', '신브브신뎅', '신브브신신', '신브쯔브브', '신브쯔브쯔', '신브쯔브렙', '신브쯔브뎅', '신브쯔브신', '신브쯔쯔브', '신브쯔쯔쯔', '신브쯔쯔렙', '신브쯔쯔뎅', '신브쯔쯔신', '신브쯔렙브', '신브쯔렙쯔', '신브쯔렙렙', '신브쯔렙뎅', '신브쯔렙신', '신브쯔뎅브', '신브쯔뎅쯔', '신브쯔뎅렙', '신브쯔뎅뎅', '신브쯔뎅신', '신브쯔신브', '신브쯔신쯔', '신브쯔신렙', '신브쯔신뎅', '신브쯔신신', '신브렙브브', '신브렙브쯔', '신브렙브렙', '신브렙브뎅', '신브렙브신', '신브렙쯔브', '신브렙쯔쯔', '신브렙쯔렙', '신브렙쯔뎅', '신브렙쯔신', '신브렙렙브', '신브렙렙쯔', '신브렙렙렙', '신브렙렙뎅', '신브렙렙신', '신브렙뎅브', '신브렙뎅쯔', '신브렙뎅렙', '신브렙뎅뎅', '신브렙뎅신', '신브렙신브', '신브렙신쯔', '신브렙신렙', '신브렙신뎅', '신브렙신신', '신브뎅브브', '신브뎅브쯔', '신브뎅브렙', '신브뎅브뎅', '신브뎅브신', '신브뎅쯔브', '신브뎅쯔쯔', '신브뎅쯔렙', '신브뎅쯔뎅', '신브뎅쯔신', '신브뎅렙브', '신브뎅렙쯔', '신브뎅렙렙', '신브뎅렙뎅', '신브뎅렙신', '신브뎅뎅브', '신브뎅뎅쯔', '신브뎅뎅렙', '신브뎅뎅뎅', '신브뎅뎅신', '신브뎅신브', '신브뎅신쯔', '신브뎅신렙', '신브뎅신뎅', '신브뎅신신', '신브신브브', '신브신브쯔', '신브신브렙', '신브신브뎅', '신브신브신', '신브신쯔브', '신브신쯔쯔', '신브신쯔렙', '신브신쯔뎅', '신브신쯔신', '신브신렙브', '신브신렙쯔', '신브신렙렙', '신브신렙뎅', '신브신렙신', '신브신뎅브', '신브신뎅쯔', '신브신뎅렙', '신브신뎅뎅', '신브신뎅신', '신브신신브', '신브신신쯔', '신브신신렙', '신브신신뎅', '신브신신신', '신쯔브브브', '신쯔브브쯔', '신쯔브브렙', '신쯔브브뎅', '신쯔브브신', '신쯔브쯔브', '신쯔브쯔쯔', '신쯔브쯔렙', '신쯔브쯔뎅', '신쯔브쯔신', '신쯔브렙브', '신쯔브렙쯔', '신쯔브렙렙', '신쯔브렙뎅', '신쯔브렙신', '신쯔브뎅브', '신쯔브뎅쯔', '신쯔브뎅렙', '신쯔브뎅뎅', '신쯔브뎅신', '신쯔브신브', '신쯔브신쯔', '신쯔브신렙', '신쯔브신뎅', '신쯔브신신', '신쯔쯔브브', '신쯔쯔브쯔', '신쯔쯔브렙', '신쯔쯔브뎅', '신쯔쯔브신', '신쯔쯔쯔브', '신쯔쯔쯔쯔', '신쯔쯔쯔렙', '신쯔쯔쯔뎅', '신쯔쯔쯔신', '신쯔쯔렙브', '신쯔쯔렙쯔', '신쯔쯔렙렙', '신쯔쯔렙뎅', '신쯔쯔렙신', '신쯔쯔뎅브', '신쯔쯔뎅쯔', '신쯔쯔뎅렙', '신쯔쯔뎅뎅', '신쯔쯔뎅신', '신쯔쯔신브', '신쯔쯔신쯔', '신쯔쯔신렙', '신쯔쯔신뎅', '신쯔쯔신신', '신쯔렙브브', '신쯔렙브쯔', '신쯔렙브렙', '신쯔렙브뎅', '신쯔렙브신', '신쯔렙쯔브', '신쯔렙쯔쯔', '신쯔렙쯔렙', '신쯔렙쯔뎅', '신쯔렙쯔신', '신쯔렙렙브', '신쯔렙렙쯔', '신쯔렙렙렙', '신쯔렙렙뎅', '신쯔렙렙신', '신쯔렙뎅브', '신쯔렙뎅쯔', '신쯔렙뎅렙', '신쯔렙뎅뎅', '신쯔렙뎅신', '신쯔렙신브', '신쯔렙신쯔', '신쯔렙신렙', '신쯔렙신뎅', '신쯔렙신신', '신쯔뎅브브', '신쯔뎅브쯔', '신쯔뎅브렙', '신쯔뎅브뎅', '신쯔뎅브신', '신쯔뎅쯔브', '신쯔뎅쯔쯔', '신쯔뎅쯔렙', '신쯔뎅쯔뎅', '신쯔뎅쯔신', '신쯔뎅렙브', '신쯔뎅렙쯔', '신쯔뎅렙렙', '신쯔뎅렙뎅', '신쯔뎅렙신', '신쯔뎅뎅브', '신쯔뎅뎅쯔', '신쯔뎅뎅렙', '신쯔뎅뎅뎅', '신쯔뎅뎅신', '신쯔뎅신브', '신쯔뎅신쯔', '신쯔뎅신렙', '신쯔뎅신뎅', '신쯔뎅신신', '신쯔신브브', '신쯔신브쯔', '신쯔신브렙', '신쯔신브뎅', '신쯔신브신', '신쯔신쯔브', '신쯔신쯔쯔', '신쯔신쯔렙', '신쯔신쯔뎅', '신쯔신쯔신', '신쯔신렙브', '신쯔신렙쯔', '신쯔신렙렙', '신쯔신렙뎅', '신쯔신렙신', '신쯔신뎅브', '신쯔신뎅쯔', '신쯔신뎅렙', '신쯔신뎅뎅', '신쯔신뎅신', '신쯔신신브', '신쯔신신쯔', '신쯔신신렙', '신쯔신신뎅', '신쯔신신신', '신렙브브브', '신렙브브쯔', '신렙브브렙', '신렙브브뎅', '신렙브브신', '신렙브쯔브', '신렙브쯔쯔', '신렙브쯔렙', '신렙브쯔뎅', '신렙브쯔신', '신렙브렙브', '신렙브렙쯔', '신렙브렙렙', '신렙브렙뎅', '신렙브렙신', '신렙브뎅브', '신렙브뎅쯔', '신렙브뎅렙', '신렙브뎅뎅', '신렙브뎅신', '신렙브신브', '신렙브신쯔', '신렙브신렙', '신렙브신뎅', '신렙브신신', '신렙쯔브브', '신렙쯔브쯔', '신렙쯔브렙', '신렙쯔브뎅', '신렙쯔브신', '신렙쯔쯔브', '신렙쯔쯔쯔', '신렙쯔쯔렙', '신렙쯔쯔뎅', '신렙쯔쯔신', '신렙쯔렙브', '신렙쯔렙쯔', '신렙쯔렙렙', '신렙쯔렙뎅', '신렙쯔렙신', '신렙쯔뎅브', '신렙쯔뎅쯔', '신렙쯔뎅렙', '신렙쯔뎅뎅', '신렙쯔뎅신', '신렙쯔신브', '신렙쯔신쯔', '신렙쯔신렙', '신렙쯔신뎅', '신렙쯔신신', '신렙렙브브', '신렙렙브쯔', '신렙렙브렙', '신렙렙브뎅', '신렙렙브신', '신렙렙쯔브', '신렙렙쯔쯔', '신렙렙쯔렙', '신렙렙쯔뎅', '신렙렙쯔신', '신렙렙렙브', '신렙렙렙쯔', '신렙렙렙렙', '신렙렙렙뎅', '신렙렙렙신', '신렙렙뎅브', '신렙렙뎅쯔', '신렙렙뎅렙', '신렙렙뎅뎅', '신렙렙뎅신', '신렙렙신브', '신렙렙신쯔', '신렙렙신렙', '신렙렙신뎅', '신렙렙신신', '신렙뎅브브', '신렙뎅브쯔', '신렙뎅브렙', '신렙뎅브뎅', '신렙뎅브신', '신렙뎅쯔브', '신렙뎅쯔쯔', '신렙뎅쯔렙', '신렙뎅쯔뎅', '신렙뎅쯔신', '신렙뎅렙브', '신렙뎅렙쯔', '신렙뎅렙렙', '신렙뎅렙뎅', '신렙뎅렙신', '신렙뎅뎅브', '신렙뎅뎅쯔', '신렙뎅뎅렙', '신렙뎅뎅뎅', '신렙뎅뎅신', '신렙뎅신브', '신렙뎅신쯔', '신렙뎅신렙', '신렙뎅신뎅', '신렙뎅신신', '신렙신브브', '신렙신브쯔', '신렙신브렙', '신렙신브뎅', '신렙신브신', '신렙신쯔브', '신렙신쯔쯔', '신렙신쯔렙', '신렙신쯔뎅', '신렙신쯔신', '신렙신렙브', '신렙신렙쯔', '신렙신렙렙', '신렙신렙뎅', '신렙신렙신', '신렙신뎅브', '신렙신뎅쯔', '신렙신뎅렙', '신렙신뎅뎅', '신렙신뎅신', '신렙신신브', '신렙신신쯔', '신렙신신렙', '신렙신신뎅', '신렙신신신', '신뎅브브브', '신뎅브브쯔', '신뎅브브렙', '신뎅브브뎅', '신뎅브브신', '신뎅브쯔브', '신뎅브쯔쯔', '신뎅브쯔렙', '신뎅브쯔뎅', '신뎅브쯔신', '신뎅브렙브', '신뎅브렙쯔', '신뎅브렙렙', '신뎅브렙뎅', '신뎅브렙신', '신뎅브뎅브', '신뎅브뎅쯔', '신뎅브뎅렙', '신뎅브뎅뎅', '신뎅브뎅신', '신뎅브신브', '신뎅브신쯔', '신뎅브신렙', '신뎅브신뎅', '신뎅브신신', '신뎅쯔브브', '신뎅쯔브쯔', '신뎅쯔브렙', '신뎅쯔브뎅', '신뎅쯔브신', '신뎅쯔쯔브', '신뎅쯔쯔쯔', '신뎅쯔쯔렙', '신뎅쯔쯔뎅', '신뎅쯔쯔신', '신뎅쯔렙브', '신뎅쯔렙쯔', '신뎅쯔렙렙', '신뎅쯔렙뎅', '신뎅쯔렙신', '신뎅쯔뎅브', '신뎅쯔뎅쯔', '신뎅쯔뎅렙', '신뎅쯔뎅뎅', '신뎅쯔뎅신', '신뎅쯔신브', '신뎅쯔신쯔', '신뎅쯔신렙', '신뎅쯔신뎅', '신뎅쯔신신', '신뎅렙브브', '신뎅렙브쯔', '신뎅렙브렙', '신뎅렙브뎅', '신뎅렙브신', '신뎅렙쯔브', '신뎅렙쯔쯔', '신뎅렙쯔렙', '신뎅렙쯔뎅', '신뎅렙쯔신', '신뎅렙렙브', '신뎅렙렙쯔', '신뎅렙렙렙', '신뎅렙렙뎅', '신뎅렙렙신', '신뎅렙뎅브', '신뎅렙뎅쯔', '신뎅렙뎅렙', '신뎅렙뎅뎅', '신뎅렙뎅신', '신뎅렙신브', '신뎅렙신쯔', '신뎅렙신렙', '신뎅렙신뎅', '신뎅렙신신', '신뎅뎅브브', '신뎅뎅브쯔', '신뎅뎅브렙', '신뎅뎅브뎅', '신뎅뎅브신', '신뎅뎅쯔브', '신뎅뎅쯔쯔', '신뎅뎅쯔렙', '신뎅뎅쯔뎅', '신뎅뎅쯔신', '신뎅뎅렙브', '신뎅뎅렙쯔', '신뎅뎅렙렙', '신뎅뎅렙뎅', '신뎅뎅렙신', '신뎅뎅뎅브', '신뎅뎅뎅쯔', '신뎅뎅뎅렙', '신뎅뎅뎅뎅', '신뎅뎅뎅신', '신뎅뎅신브', '신뎅뎅신쯔', '신뎅뎅신렙', '신뎅뎅신뎅', '신뎅뎅신신', '신뎅신브브', '신뎅신브쯔', '신뎅신브렙', '신뎅신브뎅', '신뎅신브신', '신뎅신쯔브', '신뎅신쯔쯔', '신뎅신쯔렙', '신뎅신쯔뎅', '신뎅신쯔신', '신뎅신렙브', '신뎅신렙쯔', '신뎅신렙렙', '신뎅신렙뎅', '신뎅신렙신', '신뎅신뎅브', '신뎅신뎅쯔', '신뎅신뎅렙', '신뎅신뎅뎅', '신뎅신뎅신', '신뎅신신브', '신뎅신신쯔', '신뎅신신렙', '신뎅신신뎅', '신뎅신신신', '신신브브브', '신신브브쯔', '신신브브렙', '신신브브뎅', '신신브브신', '신신브쯔브', '신신브쯔쯔', '신신브쯔렙', '신신브쯔뎅', '신신브쯔신', '신신브렙브', '신신브렙쯔', '신신브렙렙', '신신브렙뎅', '신신브렙신', '신신브뎅브', '신신브뎅쯔', '신신브뎅렙', '신신브뎅뎅', '신신브뎅신', '신신브신브', '신신브신쯔', '신신브신렙', '신신브신뎅', '신신브신신', '신신쯔브브', '신신쯔브쯔', '신신쯔브렙', '신신쯔브뎅', '신신쯔브신', '신신쯔쯔브', '신신쯔쯔쯔', '신신쯔쯔렙', '신신쯔쯔뎅', '신신쯔쯔신', '신신쯔렙브', '신신쯔렙쯔', '신신쯔렙렙', '신신쯔렙뎅', '신신쯔렙신', '신신쯔뎅브', '신신쯔뎅쯔', '신신쯔뎅렙', '신신쯔뎅뎅', '신신쯔뎅신', '신신쯔신브', '신신쯔신쯔', '신신쯔신렙', '신신쯔신뎅', '신신쯔신신', '신신렙브브', '신신렙브쯔', '신신렙브렙', '신신렙브뎅', '신신렙브신', '신신렙쯔브', '신신렙쯔쯔', '신신렙쯔렙', '신신렙쯔뎅', '신신렙쯔신', '신신렙렙브', '신신렙렙쯔', '신신렙렙렙', '신신렙렙뎅', '신신렙렙신', '신신렙뎅브', '신신렙뎅쯔', '신신렙뎅렙', '신신렙뎅뎅', '신신렙뎅신', '신신렙신브', '신신렙신쯔', '신신렙신렙', '신신렙신뎅', '신신렙신신', '신신뎅브브', '신신뎅브쯔', '신신뎅브렙', '신신뎅브뎅', '신신뎅브신', '신신뎅쯔브', '신신뎅쯔쯔', '신신뎅쯔렙', '신신뎅쯔뎅', '신신뎅쯔신', '신신뎅렙브', '신신뎅렙쯔', '신신뎅렙렙', '신신뎅렙뎅', '신신뎅렙신', '신신뎅뎅브', '신신뎅뎅쯔', '신신뎅뎅렙', '신신뎅뎅뎅', '신신뎅뎅신', '신신뎅신브', '신신뎅신쯔', '신신뎅신렙', '신신뎅신뎅', '신신뎅신신', '신신신브브', '신신신브쯔', '신신신브렙', '신신신브뎅', '신신신브신', '신신신쯔브', '신신신쯔쯔', '신신신쯔렙', '신신신쯔뎅', '신신신쯔신', '신신신렙브', '신신신렙쯔', '신신신렙렙', '신신신렙뎅', '신신신렙신', '신신신뎅브', '신신신뎅쯔', '신신신뎅렙', '신신신뎅뎅', '신신신뎅신', '신신신신브', '신신신신쯔', '신신신신렙', '신신신신뎅', '신신신신신']\n",
            "\n",
            "120 ['브쯔렙뎅신', '브쯔렙신뎅', '브쯔뎅렙신', '브쯔뎅신렙', '브쯔신렙뎅', '브쯔신뎅렙', '브렙쯔뎅신', '브렙쯔신뎅', '브렙뎅쯔신', '브렙뎅신쯔', '브렙신쯔뎅', '브렙신뎅쯔', '브뎅쯔렙신', '브뎅쯔신렙', '브뎅렙쯔신', '브뎅렙신쯔', '브뎅신쯔렙', '브뎅신렙쯔', '브신쯔렙뎅', '브신쯔뎅렙', '브신렙쯔뎅', '브신렙뎅쯔', '브신뎅쯔렙', '브신뎅렙쯔', '쯔브렙뎅신', '쯔브렙신뎅', '쯔브뎅렙신', '쯔브뎅신렙', '쯔브신렙뎅', '쯔브신뎅렙', '쯔렙브뎅신', '쯔렙브신뎅', '쯔렙뎅브신', '쯔렙뎅신브', '쯔렙신브뎅', '쯔렙신뎅브', '쯔뎅브렙신', '쯔뎅브신렙', '쯔뎅렙브신', '쯔뎅렙신브', '쯔뎅신브렙', '쯔뎅신렙브', '쯔신브렙뎅', '쯔신브뎅렙', '쯔신렙브뎅', '쯔신렙뎅브', '쯔신뎅브렙', '쯔신뎅렙브', '렙브쯔뎅신', '렙브쯔신뎅', '렙브뎅쯔신', '렙브뎅신쯔', '렙브신쯔뎅', '렙브신뎅쯔', '렙쯔브뎅신', '렙쯔브신뎅', '렙쯔뎅브신', '렙쯔뎅신브', '렙쯔신브뎅', '렙쯔신뎅브', '렙뎅브쯔신', '렙뎅브신쯔', '렙뎅쯔브신', '렙뎅쯔신브', '렙뎅신브쯔', '렙뎅신쯔브', '렙신브쯔뎅', '렙신브뎅쯔', '렙신쯔브뎅', '렙신쯔뎅브', '렙신뎅브쯔', '렙신뎅쯔브', '뎅브쯔렙신', '뎅브쯔신렙', '뎅브렙쯔신', '뎅브렙신쯔', '뎅브신쯔렙', '뎅브신렙쯔', '뎅쯔브렙신', '뎅쯔브신렙', '뎅쯔렙브신', '뎅쯔렙신브', '뎅쯔신브렙', '뎅쯔신렙브', '뎅렙브쯔신', '뎅렙브신쯔', '뎅렙쯔브신', '뎅렙쯔신브', '뎅렙신브쯔', '뎅렙신쯔브', '뎅신브쯔렙', '뎅신브렙쯔', '뎅신쯔브렙', '뎅신쯔렙브', '뎅신렙브쯔', '뎅신렙쯔브', '신브쯔렙뎅', '신브쯔뎅렙', '신브렙쯔뎅', '신브렙뎅쯔', '신브뎅쯔렙', '신브뎅렙쯔', '신쯔브렙뎅', '신쯔브뎅렙', '신쯔렙브뎅', '신쯔렙뎅브', '신쯔뎅브렙', '신쯔뎅렙브', '신렙브쯔뎅', '신렙브뎅쯔', '신렙쯔브뎅', '신렙쯔뎅브', '신렙뎅브쯔', '신렙뎅쯔브', '신뎅브쯔렙', '신뎅브렙쯔', '신뎅쯔브렙', '신뎅쯔렙브', '신뎅렙브쯔', '신뎅렙쯔브']\n",
            "\n",
            "브쯔렙뎅신\n",
            "브쯔렙신뎅\n",
            "브쯔뎅렙신\n",
            "브쯔뎅신렙\n",
            "브쯔신렙뎅\n",
            "브쯔신뎅렙\n",
            "브렙쯔뎅신\n",
            "브렙쯔신뎅\n",
            "브렙뎅쯔신\n",
            "브렙뎅신쯔\n",
            "브렙신쯔뎅\n",
            "브렙신뎅쯔\n",
            "브뎅쯔렙신\n",
            "브뎅쯔신렙\n",
            "브뎅렙쯔신\n",
            "브뎅렙신쯔\n",
            "브뎅신쯔렙\n",
            "브뎅신렙쯔\n",
            "브신쯔렙뎅\n",
            "브신쯔뎅렙\n",
            "브신렙쯔뎅\n",
            "브신렙뎅쯔\n",
            "브신뎅쯔렙\n",
            "브신뎅렙쯔\n",
            "쯔브렙뎅신\n",
            "쯔브렙신뎅\n",
            "쯔브뎅렙신\n",
            "쯔브뎅신렙\n",
            "쯔브신렙뎅\n",
            "쯔브신뎅렙\n",
            "쯔렙브뎅신\n",
            "쯔렙브신뎅\n",
            "쯔렙뎅브신\n",
            "쯔렙뎅신브\n",
            "쯔렙신브뎅\n",
            "쯔렙신뎅브\n",
            "쯔뎅브렙신\n",
            "쯔뎅브신렙\n",
            "쯔뎅렙브신\n",
            "쯔뎅렙신브\n",
            "쯔뎅신브렙\n",
            "쯔뎅신렙브\n",
            "쯔신브렙뎅\n",
            "쯔신브뎅렙\n",
            "쯔신렙브뎅\n",
            "쯔신렙뎅브\n",
            "쯔신뎅브렙\n",
            "쯔신뎅렙브\n",
            "렙브쯔뎅신\n",
            "렙브쯔신뎅\n",
            "렙브뎅쯔신\n",
            "렙브뎅신쯔\n",
            "렙브신쯔뎅\n",
            "렙브신뎅쯔\n",
            "렙쯔브뎅신\n",
            "렙쯔브신뎅\n",
            "렙쯔뎅브신\n",
            "렙쯔뎅신브\n",
            "렙쯔신브뎅\n",
            "렙쯔신뎅브\n",
            "렙뎅브쯔신\n",
            "렙뎅브신쯔\n",
            "렙뎅쯔브신\n",
            "렙뎅쯔신브\n",
            "렙뎅신브쯔\n",
            "렙뎅신쯔브\n",
            "렙신브쯔뎅\n",
            "렙신브뎅쯔\n",
            "렙신쯔브뎅\n",
            "렙신쯔뎅브\n",
            "렙신뎅브쯔\n",
            "렙신뎅쯔브\n",
            "뎅브쯔렙신\n",
            "뎅브쯔신렙\n",
            "뎅브렙쯔신\n",
            "뎅브렙신쯔\n",
            "뎅브신쯔렙\n",
            "뎅브신렙쯔\n",
            "뎅쯔브렙신\n",
            "뎅쯔브신렙\n",
            "뎅쯔렙브신\n",
            "뎅쯔렙신브\n",
            "뎅쯔신브렙\n",
            "뎅쯔신렙브\n",
            "뎅렙브쯔신\n",
            "뎅렙브신쯔\n",
            "뎅렙쯔브신\n",
            "뎅렙쯔신브\n",
            "뎅렙신브쯔\n",
            "뎅렙신쯔브\n",
            "뎅신브쯔렙\n",
            "뎅신브렙쯔\n",
            "뎅신쯔브렙\n",
            "뎅신쯔렙브\n",
            "뎅신렙브쯔\n",
            "뎅신렙쯔브\n",
            "신브쯔렙뎅\n",
            "신브쯔뎅렙\n",
            "신브렙쯔뎅\n",
            "신브렙뎅쯔\n",
            "신브뎅쯔렙\n",
            "신브뎅렙쯔\n",
            "신쯔브렙뎅\n",
            "신쯔브뎅렙\n",
            "신쯔렙브뎅\n",
            "신쯔렙뎅브\n",
            "신쯔뎅브렙\n",
            "신쯔뎅렙브\n",
            "신렙브쯔뎅\n",
            "신렙브뎅쯔\n",
            "신렙쯔브뎅\n",
            "신렙쯔뎅브\n",
            "신렙뎅브쯔\n",
            "신렙뎅쯔브\n",
            "신뎅브쯔렙\n",
            "신뎅브렙쯔\n",
            "신뎅쯔브렙\n",
            "신뎅쯔렙브\n",
            "신뎅렙브쯔\n",
            "신뎅렙쯔브\n"
          ],
          "name": "stdout"
        }
      ]
    },
    {
      "cell_type": "code",
      "metadata": {
        "id": "UW9lU_eNuYex",
        "colab_type": "code",
        "colab": {}
      },
      "source": [
        ""
      ],
      "execution_count": 0,
      "outputs": []
    },
    {
      "cell_type": "code",
      "metadata": {
        "id": "NdL8vRDhuYhs",
        "colab_type": "code",
        "colab": {}
      },
      "source": [
        ""
      ],
      "execution_count": 0,
      "outputs": []
    },
    {
      "cell_type": "code",
      "metadata": {
        "id": "yGp2akdNuYl3",
        "colab_type": "code",
        "colab": {}
      },
      "source": [
        ""
      ],
      "execution_count": 0,
      "outputs": []
    },
    {
      "cell_type": "code",
      "metadata": {
        "id": "XU3EgV3RuYr7",
        "colab_type": "code",
        "colab": {}
      },
      "source": [
        ""
      ],
      "execution_count": 0,
      "outputs": []
    },
    {
      "cell_type": "code",
      "metadata": {
        "id": "PYnO1nNJuYvL",
        "colab_type": "code",
        "colab": {}
      },
      "source": [
        ""
      ],
      "execution_count": 0,
      "outputs": []
    },
    {
      "cell_type": "code",
      "metadata": {
        "id": "J00G3gHiuYzc",
        "colab_type": "code",
        "colab": {}
      },
      "source": [
        ""
      ],
      "execution_count": 0,
      "outputs": []
    }
  ]
}
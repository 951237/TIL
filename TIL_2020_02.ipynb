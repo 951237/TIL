{
  "nbformat": 4,
  "nbformat_minor": 0,
  "metadata": {
    "colab": {
      "name": "TIL_2020_02.ipynb",
      "provenance": [],
      "toc_visible": true,
      "mount_file_id": "1gpCo6_mLQFWfncMN303yL-1ee9OKiCkg",
      "authorship_tag": "ABX9TyOMQMDo7nabNTcSmFYN6TXR",
      "include_colab_link": true
    },
    "kernelspec": {
      "name": "python3",
      "display_name": "Python 3"
    },
    "accelerator": "TPU"
  },
  "cells": [
    {
      "cell_type": "markdown",
      "metadata": {
        "id": "view-in-github",
        "colab_type": "text"
      },
      "source": [
        "<a href=\"https://colab.research.google.com/github/951237/TIL/blob/master/TIL_2020_02.ipynb\" target=\"_parent\"><img src=\"https://colab.research.google.com/assets/colab-badge.svg\" alt=\"Open In Colab\"/></a>"
      ]
    },
    {
      "cell_type": "markdown",
      "metadata": {
        "id": "9Ex-ltZEYF0W",
        "colab_type": "text"
      },
      "source": [
        "# 인공지능"
      ]
    },
    {
      "cell_type": "markdown",
      "metadata": {
        "id": "yvDpBBejYOz3",
        "colab_type": "text"
      },
      "source": [
        "## TIL - 200209 텐서플로 따라하기(안경잡이 개발자)\n",
        "- x축은 시간 \n",
        "- y축은 임금\n",
        "- 데이터를 기반으로 추후 임금 구하기"
      ]
    },
    {
      "cell_type": "markdown",
      "metadata": {
        "id": "7CRgpuM8fk_T",
        "colab_type": "text"
      },
      "source": [
        "### 선형회귀를 이용한 임금 예상하기"
      ]
    },
    {
      "cell_type": "code",
      "metadata": {
        "id": "dwwlRuhbYX5f",
        "colab_type": "code",
        "colab": {}
      },
      "source": [
        "import tensorflow as tf"
      ],
      "execution_count": 0,
      "outputs": []
    },
    {
      "cell_type": "code",
      "metadata": {
        "id": "-Vcl8IrCZNTu",
        "colab_type": "code",
        "colab": {}
      },
      "source": [
        "xData = [1, 2, 3, 4, 5, 6, 7]\n",
        "yData = [25000, 55000, 75000, 110000, 128000, 155000, 180000]"
      ],
      "execution_count": 0,
      "outputs": []
    },
    {
      "cell_type": "code",
      "metadata": {
        "id": "y0isthpgaiYo",
        "colab_type": "code",
        "colab": {}
      },
      "source": [
        "w = tf.Variable(tf.random_uniform([1], -100, 100)) #기울기\n",
        "b = tf.Variable(tf.random_uniform([1], -100, 100)) # 값"
      ],
      "execution_count": 0,
      "outputs": []
    },
    {
      "cell_type": "code",
      "metadata": {
        "id": "XTcH4zHma5kX",
        "colab_type": "code",
        "colab": {}
      },
      "source": [
        "X = tf.placeholder(tf.float32)  # x축 설정하기\n",
        "Y = tf.placeholder(tf.float32)  # y축 설정하기\n",
        "H = w * X + b # 회귀선 "
      ],
      "execution_count": 0,
      "outputs": []
    },
    {
      "cell_type": "code",
      "metadata": {
        "id": "s21UN-N3b3Rr",
        "colab_type": "code",
        "colab": {}
      },
      "source": [
        "cost = tf.reduce_mean(tf.square(H-Y)) # 절대값을 구하여 평균값을 구함\n",
        "a = tf.Variable(0.01)   # 점프값을 0.01로 정함.\n",
        "optimizer = tf.train.GradientDescentOptimizer(a)    # 경사하강법을 라이브러리 이용하여 훈련하기\n",
        "train = optimizer.minimize(cost)    # 무슨뜻?\n",
        "init = tf.global_variables_initializer()    # 초기화?\n",
        "sess = tf.Session()     # 세선을 선언\n",
        "sess.run(init)"
      ],
      "execution_count": 0,
      "outputs": []
    },
    {
      "cell_type": "code",
      "metadata": {
        "id": "h7el5Ivyb7ZQ",
        "colab_type": "code",
        "colab": {
          "base_uri": "https://localhost:8080/",
          "height": 221
        },
        "outputId": "8a726c02-67cc-4e4b-c68e-40be790f5701"
      },
      "source": [
        "for i in range(5001):\n",
        "    sess.run(train, feed_dict={X : xData, Y : yData})\n",
        "    if i % 500 == 0:    # 500 번 마다 1번씩\n",
        "        print(i, sess.run(cost, feed_dict={X : xData, Y : yData}), sess.run(w), sess.run(b))\n",
        "print(sess.run(H, feed_dict={X : [2]})) # 8시간 일할 때 값을 구하기"
      ],
      "execution_count": 49,
      "outputs": [
        {
          "output_type": "stream",
          "text": [
            "0 8632657.0 [25642.848] [1428.6133]\n",
            "500 8632657.0 [25642.848] [1428.6133]\n",
            "1000 8632657.0 [25642.848] [1428.6133]\n",
            "1500 8632657.0 [25642.848] [1428.6133]\n",
            "2000 8632657.0 [25642.848] [1428.6133]\n",
            "2500 8632657.0 [25642.848] [1428.6133]\n",
            "3000 8632657.0 [25642.848] [1428.6133]\n",
            "3500 8632657.0 [25642.848] [1428.6133]\n",
            "4000 8632657.0 [25642.848] [1428.6133]\n",
            "4500 8632657.0 [25642.848] [1428.6133]\n",
            "5000 8632657.0 [25642.848] [1428.6133]\n",
            "[52714.31]\n"
          ],
          "name": "stdout"
        }
      ]
    },
    {
      "cell_type": "markdown",
      "metadata": {
        "id": "bjOCWrsiczFv",
        "colab_type": "text"
      },
      "source": [
        "### 텐서플로 - 상수"
      ]
    },
    {
      "cell_type": "code",
      "metadata": {
        "id": "iJ1zO_dNfzz7",
        "colab_type": "code",
        "colab": {}
      },
      "source": [
        "import tensorflow as tf\n"
      ],
      "execution_count": 0,
      "outputs": []
    },
    {
      "cell_type": "code",
      "metadata": {
        "id": "AH42kcdxf4W5",
        "colab_type": "code",
        "colab": {
          "base_uri": "https://localhost:8080/",
          "height": 34
        },
        "outputId": "139b0ac9-4cc7-43b7-cc3b-2b16733bd9aa"
      },
      "source": [
        "a = tf.constant(1)  # 상수 선언\n",
        "b = tf.constant(2)\n",
        "c = tf.add(a, b)    # 연산식\n",
        "sess = tf.Session() # 세션만들기\n",
        "sess.run(c)     # 연산을 수행"
      ],
      "execution_count": 52,
      "outputs": [
        {
          "output_type": "execute_result",
          "data": {
            "text/plain": [
              "3"
            ]
          },
          "metadata": {
            "tags": []
          },
          "execution_count": 52
        }
      ]
    },
    {
      "cell_type": "markdown",
      "metadata": {
        "id": "ChkJNU4DgkyO",
        "colab_type": "text"
      },
      "source": [
        "### 텐서플로 - 변수\n",
        "- 변수를 바꿔줘야 할경우\n",
        "- 계산할 때 마다 초기화를 다시 해줘야 함. "
      ]
    },
    {
      "cell_type": "code",
      "metadata": {
        "id": "bDfCSJbIg0W_",
        "colab_type": "code",
        "colab": {}
      },
      "source": [
        "import tensorflow as tf"
      ],
      "execution_count": 0,
      "outputs": []
    },
    {
      "cell_type": "code",
      "metadata": {
        "id": "JVUcbEq_hF90",
        "colab_type": "code",
        "colab": {
          "base_uri": "https://localhost:8080/",
          "height": 34
        },
        "outputId": "70fd7dc9-06e1-4713-e510-699c6190be8a"
      },
      "source": [
        "a = tf.Variable(5)\n",
        "b = tf.Variable(6)\n",
        "c = tf.multiply(a, b)   # a, b의 곱하기 식\n",
        "init = tf.global_variables_initializer()    # ★변수를 선언시 사용할 수 있도록 초기화 하기\n",
        "sess = tf.Session()\n",
        "sess.run(init)\n",
        "sess.run(c)"
      ],
      "execution_count": 56,
      "outputs": [
        {
          "output_type": "execute_result",
          "data": {
            "text/plain": [
              "30"
            ]
          },
          "metadata": {
            "tags": []
          },
          "execution_count": 56
        }
      ]
    },
    {
      "cell_type": "markdown",
      "metadata": {
        "id": "fa_cF2crhZ2D",
        "colab_type": "text"
      },
      "source": [
        "### 텐서플로 - 플레이스 홀더(Placeholder)\n",
        "- 다른 텐서를 할당함.\n",
        "- 학습데이터를 포함하는 변수"
      ]
    },
    {
      "cell_type": "code",
      "metadata": {
        "id": "3NDsCzWeiLH6",
        "colab_type": "code",
        "colab": {}
      },
      "source": [
        "import tensorflow as tf\n"
      ],
      "execution_count": 0,
      "outputs": []
    },
    {
      "cell_type": "code",
      "metadata": {
        "id": "oD6inZzIi-fo",
        "colab_type": "code",
        "colab": {}
      },
      "source": [
        "input = [1, 2, 3, 4, 5]\n",
        "x = tf.placeholder(dtype=tf.float32)    # 학습데이터를 포함하는 변수를 선언\n",
        "y = x + 5       # y 식을 선언"
      ],
      "execution_count": 0,
      "outputs": []
    },
    {
      "cell_type": "code",
      "metadata": {
        "id": "G6apWDPdjKPJ",
        "colab_type": "code",
        "colab": {
          "base_uri": "https://localhost:8080/",
          "height": 34
        },
        "outputId": "b09b634d-1551-48cf-8f50-9939fcd77d90"
      },
      "source": [
        "sess = tf.Session()\n",
        "sess.run(y, feed_dict={x : input})  # 학습데이터를 이용하여 y 값을 구하기"
      ],
      "execution_count": 62,
      "outputs": [
        {
          "output_type": "execute_result",
          "data": {
            "text/plain": [
              "array([ 6.,  7.,  8.,  9., 10.], dtype=float32)"
            ]
          },
          "metadata": {
            "tags": []
          },
          "execution_count": 62
        }
      ]
    },
    {
      "cell_type": "markdown",
      "metadata": {
        "id": "-e9aRlmvjThx",
        "colab_type": "text"
      },
      "source": [
        "#### 예제 - 평균값 구하기"
      ]
    },
    {
      "cell_type": "code",
      "metadata": {
        "id": "_XUHK6skkdDW",
        "colab_type": "code",
        "colab": {}
      },
      "source": [
        "import tensorflow as tf\n"
      ],
      "execution_count": 0,
      "outputs": []
    },
    {
      "cell_type": "code",
      "metadata": {
        "id": "vwHjZxjikfW6",
        "colab_type": "code",
        "colab": {}
      },
      "source": [
        "math_score = [90, 87, 57, 98, 83]   # 수학점수\n",
        "english_socre = [88, 89, 78, 99, 68]    # 영어점수"
      ],
      "execution_count": 0,
      "outputs": []
    },
    {
      "cell_type": "code",
      "metadata": {
        "id": "fLl27r5Hkoyg",
        "colab_type": "code",
        "colab": {}
      },
      "source": [
        "a = tf.placeholder(dtype=tf.float32)    # 수학점수 플레이스홀더\n",
        "b = tf.placeholder(dtype=tf.float32)    # 영어점수 플레이스홀더\n",
        "y = (a + b) / 2     # 평균 값 구하는 식"
      ],
      "execution_count": 0,
      "outputs": []
    },
    {
      "cell_type": "code",
      "metadata": {
        "id": "HqRspux7kzsr",
        "colab_type": "code",
        "colab": {
          "base_uri": "https://localhost:8080/",
          "height": 34
        },
        "outputId": "5afbb687-4d99-47e3-9471-2a62722e9576"
      },
      "source": [
        "sess = tf.Session()     # 세선선언\n",
        "sess.run(y, feed_dict={a : math_score, b : english_socre})  #세션값 구하기"
      ],
      "execution_count": 70,
      "outputs": [
        {
          "output_type": "execute_result",
          "data": {
            "text/plain": [
              "array([89. , 88. , 67.5, 98.5, 75.5], dtype=float32)"
            ]
          },
          "metadata": {
            "tags": []
          },
          "execution_count": 70
        }
      ]
    },
    {
      "cell_type": "markdown",
      "metadata": {
        "id": "TRoO0gDqk87D",
        "colab_type": "text"
      },
      "source": [
        "### 텐서플로 주요함수 실습하기\n",
        "- 함수를 모두 배울 필요는 없으며, 필요할 때 알아보기"
      ]
    },
    {
      "cell_type": "code",
      "metadata": {
        "id": "MVRUWqSyllIx",
        "colab_type": "code",
        "colab": {}
      },
      "source": [
        "import tensorflow as tf\n"
      ],
      "execution_count": 0,
      "outputs": []
    },
    {
      "cell_type": "code",
      "metadata": {
        "id": "71GO7DVunJl7",
        "colab_type": "code",
        "colab": {}
      },
      "source": [
        "a = tf.constant(15)\n",
        "b = tf.constant(6)"
      ],
      "execution_count": 0,
      "outputs": []
    },
    {
      "cell_type": "code",
      "metadata": {
        "id": "2BnWWVbFnQnq",
        "colab_type": "code",
        "colab": {
          "base_uri": "https://localhost:8080/",
          "height": 34
        },
        "outputId": "d351b2c0-b3a2-4c1e-cea8-cdf7258aae28"
      },
      "source": [
        "sess = tf.Session()\n",
        "# add\n",
        "c = tf.add(a,b)\n",
        "sess.run(c)"
      ],
      "execution_count": 81,
      "outputs": [
        {
          "output_type": "execute_result",
          "data": {
            "text/plain": [
              "21"
            ]
          },
          "metadata": {
            "tags": []
          },
          "execution_count": 81
        }
      ]
    },
    {
      "cell_type": "code",
      "metadata": {
        "id": "JFORaIzLnXKm",
        "colab_type": "code",
        "colab": {
          "base_uri": "https://localhost:8080/",
          "height": 34
        },
        "outputId": "daca1a99-087b-4871-bdea-868cad3d7887"
      },
      "source": [
        "# 빼기\n",
        "c = tf.subtract(a, b)\n",
        "sess.run(c)"
      ],
      "execution_count": 83,
      "outputs": [
        {
          "output_type": "execute_result",
          "data": {
            "text/plain": [
              "9"
            ]
          },
          "metadata": {
            "tags": []
          },
          "execution_count": 83
        }
      ]
    },
    {
      "cell_type": "code",
      "metadata": {
        "id": "2gaid-z2nyk5",
        "colab_type": "code",
        "colab": {
          "base_uri": "https://localhost:8080/",
          "height": 34
        },
        "outputId": "8e74e66f-9e39-4bf4-fc5c-78486fa5fa7b"
      },
      "source": [
        "# 곱하기\n",
        "c = tf.multiply(a, b)\n",
        "sess.run(c)"
      ],
      "execution_count": 84,
      "outputs": [
        {
          "output_type": "execute_result",
          "data": {
            "text/plain": [
              "90"
            ]
          },
          "metadata": {
            "tags": []
          },
          "execution_count": 84
        }
      ]
    },
    {
      "cell_type": "code",
      "metadata": {
        "id": "1Ga8M5RWoA7U",
        "colab_type": "code",
        "colab": {
          "base_uri": "https://localhost:8080/",
          "height": 34
        },
        "outputId": "2677630b-4585-4a00-9a5c-7c1ea894a977"
      },
      "source": [
        "# 나누기\n",
        "c = tf.truediv(a,b)\n",
        "sess.run(c)"
      ],
      "execution_count": 85,
      "outputs": [
        {
          "output_type": "execute_result",
          "data": {
            "text/plain": [
              "2.5"
            ]
          },
          "metadata": {
            "tags": []
          },
          "execution_count": 85
        }
      ]
    },
    {
      "cell_type": "markdown",
      "metadata": {
        "id": "VJhSJ0PMoHyz",
        "colab_type": "text"
      },
      "source": [
        "### 빅데이터 k-means\n",
        "- 비지도학습\n",
        "- 사전준비\n",
        "    - 학생들의 성적에 따라 반을 나눈다\n",
        "    - 얼마나 많은 반?(초급, 중급, 고급)\n",
        "    - 데이터 준비\n",
        "    - 수행하기 위한 방법 선택\n",
        "- 수행과정\n",
        "    - 중심에 가까운 데이터를 클러스터에 포함\n",
        "    - 중심을 클러스터의 중앙으로 이동\n",
        "    - 위의 과정을 반복\n",
        "\n",
        "- k-means ++ \n",
        "    - 클러스터의 중심점을 자동으로 설정"
      ]
    },
    {
      "cell_type": "markdown",
      "metadata": {
        "id": "bJxFvdlwvUNS",
        "colab_type": "text"
      },
      "source": [
        "#### 예제 - 클러스터링"
      ]
    },
    {
      "cell_type": "code",
      "metadata": {
        "id": "PIVJFZ52rMP9",
        "colab_type": "code",
        "colab": {}
      },
      "source": [
        "from sklearn.cluster import KMeans  # kmean 라이브러리 호출\n",
        "import numpy as np\n",
        "import pandas as pd\n",
        "import seaborn as sns\n",
        "import matplotlib.pyplot as plt"
      ],
      "execution_count": 0,
      "outputs": []
    },
    {
      "cell_type": "markdown",
      "metadata": {
        "id": "lS0KVvnPxxoa",
        "colab_type": "text"
      },
      "source": [
        "##### 데이터프레임 만들기"
      ]
    },
    {
      "cell_type": "code",
      "metadata": {
        "id": "uT-6zblzveuc",
        "colab_type": "code",
        "colab": {}
      },
      "source": [
        "df = pd.read_csv('/content/drive/My Drive/data/ML/kmean_example.csv', header=None)\n",
        "df.columns = ['x', 'y']\n"
      ],
      "execution_count": 0,
      "outputs": []
    },
    {
      "cell_type": "markdown",
      "metadata": {
        "id": "KlpOzpxIw8Fe",
        "colab_type": "text"
      },
      "source": [
        "##### 그래프 그리기"
      ]
    },
    {
      "cell_type": "code",
      "metadata": {
        "id": "086odnSCx5xY",
        "colab_type": "code",
        "colab": {
          "base_uri": "https://localhost:8080/",
          "height": 419
        },
        "outputId": "7b39e082-f53d-429f-d0e1-6dbc055a419b"
      },
      "source": [
        "plt.figure(figsize=(14, 8))     # 그래프의 크기 설정하기. 현재 시본에서 작동 안함.\n",
        "sns.lmplot('x', 'y', data=df,\n",
        "           fit_reg=False,\n",
        "           scatter_kws={\"s\" : 100} # 점의 크기를 100으로 설정하\n",
        "           )\n",
        "plt.title('K-means Example')\n",
        "plt.xlabel('X')\n",
        "plt.ylabel('Y')"
      ],
      "execution_count": 103,
      "outputs": [
        {
          "output_type": "execute_result",
          "data": {
            "text/plain": [
              "Text(0.29999999999999716, 0.5, 'Y')"
            ]
          },
          "metadata": {
            "tags": []
          },
          "execution_count": 103
        },
        {
          "output_type": "display_data",
          "data": {
            "text/plain": [
              "<Figure size 1008x576 with 0 Axes>"
            ]
          },
          "metadata": {
            "tags": []
          }
        },
        {
          "output_type": "display_data",
          "data": {
            "image/png": "[encoded data removed]",
            "text/plain": [
              "<Figure size 360x360 with 1 Axes>"
            ]
          },
          "metadata": {
            "tags": []
          }
        }
      ]
    },
    {
      "cell_type": "markdown",
      "metadata": {
        "id": "zbzlc9nnyLQJ",
        "colab_type": "text"
      },
      "source": [
        "##### 군집화 하기"
      ]
    },
    {
      "cell_type": "code",
      "metadata": {
        "id": "9As4xmQV0okq",
        "colab_type": "code",
        "colab": {}
      },
      "source": [
        "points = df.values\n",
        "kmeans = KMeans(n_clusters=4).fit(points)   # kmeans 중심점 4개를 설정하기\n",
        "kmeans.cluster_centers_ #중심점 찾기\n",
        "kmeans.labels_  # 클러스터링 라벨 표시하기\n",
        "df['cluster'] = kmeans.labels_ # 클러스터한 것을 칼럼으로 넣기\n"
      ],
      "execution_count": 0,
      "outputs": []
    },
    {
      "cell_type": "markdown",
      "metadata": {
        "id": "7xSjby231Q5J",
        "colab_type": "text"
      },
      "source": [
        "##### 클러스터링 한것을 그래프로 표현하기"
      ]
    },
    {
      "cell_type": "code",
      "metadata": {
        "id": "MsPlBTzs0vw1",
        "colab_type": "code",
        "colab": {
          "base_uri": "https://localhost:8080/",
          "height": 402
        },
        "outputId": "2c4f49cc-4b0c-43a8-b9b8-bcee19ebfba2"
      },
      "source": [
        "sns.lmplot('x', 'y', data=df,\n",
        "           fit_reg=False,\n",
        "           scatter_kws={\"s\" : 100}, # 점의 크기를 100으로 설정하\n",
        "           hue = 'cluster')\n",
        "plt.title('K-means Example')\n",
        "plt.xlabel('X')\n",
        "plt.ylabel('Y')"
      ],
      "execution_count": 127,
      "outputs": [
        {
          "output_type": "execute_result",
          "data": {
            "text/plain": [
              "Text(27.176848958333338, 0.5, 'Y')"
            ]
          },
          "metadata": {
            "tags": []
          },
          "execution_count": 127
        },
        {
          "output_type": "display_data",
          "data": {
            "image/png": "[encoded data removed]",
            "text/plain": [
              "<Figure size 402.375x360 with 1 Axes>"
            ]
          },
          "metadata": {
            "tags": []
          }
        }
      ]
    },
    {
      "cell_type": "markdown",
      "metadata": {
        "id": "gtfubOpu1JSl",
        "colab_type": "text"
      },
      "source": [
        "## TIL - 200210 : 배추가격 예측 AI로봇 \n",
        "- 링크 : https://youtu.be/wZvhBVqitn8"
      ]
    },
    {
      "cell_type": "markdown",
      "metadata": {
        "id": "a8rJ6L-Z2p0R",
        "colab_type": "text"
      },
      "source": [
        "### 데이터 수집\n",
        "- 기상자료개방포털 \n",
        "    - 기온 : https://data.kma.go.kr/stcs/grnd/grndTaList.do?pgmNo=70\n",
        "    - 강수량 : https://data.kma.go.kr/stcs/grnd/grndRnList.do?pgmNo=69\n",
        "- 농산물 유통정보 / 채소류 / 배추 / 전체품종\n",
        "    - 소매가격 / 최소가격\n",
        "\n",
        "### 데이터 정제\n",
        "- 평균기온, 최저기온, 최고기온, 강수량, 가격"
      ]
    },
    {
      "cell_type": "markdown",
      "metadata": {
        "id": "X4Vqjjvn4vMm",
        "colab_type": "text"
      },
      "source": [
        "### 텐서플로 다변인 선형 모델 계발하기\n",
        "- 변수가 여러가지 인경우 다변인 선형 회귀모델 적용\n",
        "    - 식 : H(x1, x2, x3, x4) = x1w1 + x2w2 + x3w3 + x4w4 \n",
        "        - 모든 변인이 가격에 영향을 미친다고 감안. 가중치를 고려하여 식을 세움.\n",
        "        - 행렬의 곱을 이요한 식 : H(X) = XW\n",
        "    - 학습률 : 0.000005"
      ]
    },
    {
      "cell_type": "markdown",
      "metadata": {
        "id": "ACREn5ukKG5o",
        "colab_type": "text"
      },
      "source": [
        "#### 라이브러리 호출"
      ]
    },
    {
      "cell_type": "code",
      "metadata": {
        "id": "XgzeoXBF8aeg",
        "colab_type": "code",
        "colab": {}
      },
      "source": [
        "import tensorflow as tf\n",
        "import numpy as np\n",
        "import pandas as pd"
      ],
      "execution_count": 0,
      "outputs": []
    },
    {
      "cell_type": "markdown",
      "metadata": {
        "id": "USesWvwzKJx_",
        "colab_type": "text"
      },
      "source": [
        "#### 데이터 불러오기"
      ]
    },
    {
      "cell_type": "code",
      "metadata": {
        "id": "kDP4nx0S8umT",
        "colab_type": "code",
        "colab": {}
      },
      "source": [
        "data = pd.read_csv('/content/drive/My Drive/data/ML/배추가격_데이터_예제_price data.csv')   # 데이터 파일 불러오기"
      ],
      "execution_count": 0,
      "outputs": []
    },
    {
      "cell_type": "markdown",
      "metadata": {
        "id": "PQTP-ZbiKet4",
        "colab_type": "text"
      },
      "source": [
        "#### 학습데이터 준비하기"
      ]
    },
    {
      "cell_type": "code",
      "metadata": {
        "id": "AH_mV5O19jGw",
        "colab_type": "code",
        "colab": {}
      },
      "source": [
        "model = tf.global_variables_initializer()   # 텐서플로 변수 초기화 하기\n",
        "xy = np.array(data, dtype=np.float32)       # 데이터를 넘파이 값으로 담기 \n",
        "x_data = xy[:, 1:-1]    # 모든행을 선택, 열은 2번째 부터 끝에서 2번째 열까지 선택(변수 4가지)\n",
        "y_data = xy[:, [-1]]    # 모든행, 마지막 열 선택(가격)"
      ],
      "execution_count": 0,
      "outputs": []
    },
    {
      "cell_type": "code",
      "metadata": {
        "id": "9s9zBzhZ-7o5",
        "colab_type": "code",
        "colab": {}
      },
      "source": [
        "x = tf.placeholder(tf.float32, shape=[None, 4])     # x 축에 들어갈 학습데이터 선언\n",
        "y = tf.placeholder(tf.float32, shape=[None, 1])     # y 축에 들어갈 학습데이터 선언\n",
        "w = tf.Variable(tf.random_normal([4,1]), name = 'weight') # 가중치의 변수를 랜덤으로 선언 [4,1]의 의미는 변수의 모양 4개 1행\n",
        "b = tf.Variable(tf.random_normal([1]), name='bias')       # 바이어스의 변수를 랜덤으로 선언 [1]의 의미는 변수의 형태임 1개 1행"
      ],
      "execution_count": 0,
      "outputs": []
    },
    {
      "cell_type": "markdown",
      "metadata": {
        "id": "NVsx_E89Khnf",
        "colab_type": "text"
      },
      "source": [
        "#### 가설식 세우기"
      ]
    },
    {
      "cell_type": "code",
      "metadata": {
        "id": "P-by1pAxEMsz",
        "colab_type": "code",
        "colab": {}
      },
      "source": [
        "hypothesis = tf.matmul(x,w) + b     # 가설식 세우기. 행열의 곱을 이용하여 식 세우기"
      ],
      "execution_count": 0,
      "outputs": []
    },
    {
      "cell_type": "markdown",
      "metadata": {
        "id": "hSP5_-CKKjbF",
        "colab_type": "text"
      },
      "source": [
        "#### 계산식 세우기"
      ]
    },
    {
      "cell_type": "code",
      "metadata": {
        "id": "36K_7yWDEtIw",
        "colab_type": "code",
        "colab": {}
      },
      "source": [
        "cost = tf.reduce_mean(tf.square(hypothesis - y))    # 계산식 세우기"
      ],
      "execution_count": 0,
      "outputs": []
    },
    {
      "cell_type": "markdown",
      "metadata": {
        "id": "S5LZBov-Knml",
        "colab_type": "text"
      },
      "source": [
        "#### 최적화 함수 선언"
      ]
    },
    {
      "cell_type": "code",
      "metadata": {
        "id": "g4DaG7GTE4EW",
        "colab_type": "code",
        "colab": {}
      },
      "source": [
        "optimizer = tf.train.GradientDescentOptimizer(learning_rate=0.000005) # 최적화 함수 선언 및 학습율 설정하기\n",
        "train = optimizer.minimize(cost)"
      ],
      "execution_count": 0,
      "outputs": []
    },
    {
      "cell_type": "markdown",
      "metadata": {
        "id": "XWpfhd3iKqKi",
        "colab_type": "text"
      },
      "source": [
        "#### 세선 만들기"
      ]
    },
    {
      "cell_type": "code",
      "metadata": {
        "id": "dPj2BdmDFI8a",
        "colab_type": "code",
        "colab": {}
      },
      "source": [
        "sess = tf.Session() # 세션 만들기\n",
        "sess.run(tf.global_variables_initializer())   # 변수값 초기화"
      ],
      "execution_count": 0,
      "outputs": []
    },
    {
      "cell_type": "markdown",
      "metadata": {
        "id": "AYaUjlb_KsbD",
        "colab_type": "text"
      },
      "source": [
        "#### 학습시키기"
      ]
    },
    {
      "cell_type": "code",
      "metadata": {
        "id": "CY5pK46SFX0q",
        "colab_type": "code",
        "colab": {}
      },
      "source": [
        "for step in range(100001):\n",
        "    cost_, hypo_, _ = sess.run([cost, hypothesis, train], feed_dict={x : x_data, y : y_data})\n",
        "    if step % 500 == 0:\n",
        "        print('#', step, \"손실비용 : \", cost_)\n",
        "        print(\"- 배추가격 : \", hypo_[0])\n"
      ],
      "execution_count": 0,
      "outputs": []
    },
    {
      "cell_type": "markdown",
      "metadata": {
        "id": "lUC-aiLDKCUH",
        "colab_type": "text"
      },
      "source": [
        "#### 학습모델 저장하기 "
      ]
    },
    {
      "cell_type": "code",
      "metadata": {
        "id": "qUJzhTSCGUyN",
        "colab_type": "code",
        "colab": {
          "base_uri": "https://localhost:8080/",
          "height": 34
        },
        "outputId": "715c0450-3e23-45ec-ad80-966408b2bea5"
      },
      "source": [
        "saver = tf.train.Saver()\n",
        "save_path = saver.save(sess, '/content/drive/My Drive/data/ML/배추가격예상하기/saved.cpkt')\n",
        "print(\"학습된 모델을 저장햇습니다.\")"
      ],
      "execution_count": 15,
      "outputs": [
        {
          "output_type": "stream",
          "text": [
            "학습된 모델을 저장햇습니다.\n"
          ],
          "name": "stdout"
        }
      ]
    },
    {
      "cell_type": "markdown",
      "metadata": {
        "id": "Gl0bT6MdJpce",
        "colab_type": "text"
      },
      "source": [
        "### 배추가격 예측하기 테스트 코드 작성하기\n",
        "- 학습모델 저장하는 이유 : 한번 계산후 배추가격을 예상하면 시간이 절약됨.\n",
        "- 저장된 학습모델을 이용하여 변수를 입력하여 실시간으로 배추가격을 계산하기"
      ]
    },
    {
      "cell_type": "code",
      "metadata": {
        "id": "8hyx-s-ZLTIP",
        "colab_type": "code",
        "colab": {}
      },
      "source": [
        "import tensorflow as tf\n",
        "import numpy as np\n"
      ],
      "execution_count": 0,
      "outputs": []
    },
    {
      "cell_type": "code",
      "metadata": {
        "id": "PZbKpDq_MP2n",
        "colab_type": "code",
        "colab": {}
      },
      "source": [
        "x = tf.placeholder(tf.float32, shape = [None, 4])\n",
        "y = tf.placeholder(tf.float32, shape=[None, 1])\n",
        "w = tf.Variable(tf.random_normal([4,1], name = 'weight'))\n",
        "b = tf.Variable(tf.random_normal([1]), name = 'bias')"
      ],
      "execution_count": 0,
      "outputs": []
    },
    {
      "cell_type": "markdown",
      "metadata": {
        "id": "VOW9cg8kM3EE",
        "colab_type": "text"
      },
      "source": [
        "#### 계산식 세우기"
      ]
    },
    {
      "cell_type": "code",
      "metadata": {
        "id": "eWrR5ltUMzGS",
        "colab_type": "code",
        "colab": {}
      },
      "source": [
        "hyo"
      ],
      "execution_count": 0,
      "outputs": []
    },
    {
      "cell_type": "markdown",
      "metadata": {
        "id": "Ahzmjk97gkyA",
        "colab_type": "text"
      },
      "source": [
        "## TIL - 200216 : 배추가격 예상 AI 웹페이지로 구현하기 도전 후기"
      ]
    },
    {
      "cell_type": "markdown",
      "metadata": {
        "id": "gZuhJPeMgsws",
        "colab_type": "text"
      },
      "source": [
        "- 안경잡이개발자 동영상을 따라 구현하려고 함.\n",
        "- 문제점 발생\n",
        "    - 텐서프롤가 2.0으로 업그레이드가 되면서 placeholder매서드가 작동하지 않음.\n",
        "    - 텐서프로 1.X 버전을 2.0d으로 올려주는 라이브러리를 호출하여 적용하였으나 실패함.\n",
        "- 향후 방향\n",
        "    - 텐서프로 2.0을 학습하여 적용할 필요가 있음."
      ]
    },
    {
      "cell_type": "markdown",
      "metadata": {
        "id": "OibkaC_Vn-l4",
        "colab_type": "text"
      },
      "source": [
        "## TIL - 200217 : 다이얼로그 플로우 알아보기\n",
        "- 링크 : https://dialogflow.com\n",
        "- 강의링크 : https://www.youtube.com/playlist?list=PLRx0vPvlEmdCb33sBZGXzVOMY_seqnWJT"
      ]
    },
    {
      "cell_type": "markdown",
      "metadata": {
        "id": "J9BnIrepou4T",
        "colab_type": "text"
      },
      "source": [
        "### 강의 주제\n",
        "- 1. 다이얼로그 플로우의 개요\n",
        "    - AI를 이용하여 대화를 주고 받을 수 있는 서비스를 생성할 수 있음.\n",
        "- 2. Intent를 생성해 단순 질의\n",
        "    - 예상가능한 질문을 입력하면, 구문을 분석하여 알맞은 대답을 함.\n",
        "- 3. Follow-up Intent를 이용하기\n",
        "- 4. Entity로 단어 분리 인식하기\n",
        "- 5. 엑셀파일 등을 이용하여 데이터를 만들고 json파일을 생성하여 업로드\n",
        "- 6. 플라스크 연동하기\n",
        "- 7. 카카오 챗봇 개발하기"
      ]
    },
    {
      "cell_type": "code",
      "metadata": {
        "id": "ZrbMKJ-SowXw",
        "colab_type": "code",
        "colab": {}
      },
      "source": [
        ""
      ],
      "execution_count": 0,
      "outputs": []
    },
    {
      "cell_type": "code",
      "metadata": {
        "id": "tqFWkyQ7owqc",
        "colab_type": "code",
        "colab": {}
      },
      "source": [
        ""
      ],
      "execution_count": 0,
      "outputs": []
    },
    {
      "cell_type": "code",
      "metadata": {
        "id": "9PjYZ8_xowzy",
        "colab_type": "code",
        "colab": {}
      },
      "source": [
        ""
      ],
      "execution_count": 0,
      "outputs": []
    },
    {
      "cell_type": "code",
      "metadata": {
        "id": "RuhotSQRow8r",
        "colab_type": "code",
        "colab": {}
      },
      "source": [
        ""
      ],
      "execution_count": 0,
      "outputs": []
    },
    {
      "cell_type": "code",
      "metadata": {
        "id": "Pv22vIinoxHL",
        "colab_type": "code",
        "colab": {}
      },
      "source": [
        ""
      ],
      "execution_count": 0,
      "outputs": []
    },
    {
      "cell_type": "code",
      "metadata": {
        "id": "Omj_oekCoxRC",
        "colab_type": "code",
        "colab": {}
      },
      "source": [
        ""
      ],
      "execution_count": 0,
      "outputs": []
    },
    {
      "cell_type": "markdown",
      "metadata": {
        "id": "XEUCUb6XX3Yn",
        "colab_type": "text"
      },
      "source": [
        "# HTML / JS / Etc"
      ]
    },
    {
      "cell_type": "markdown",
      "metadata": {
        "id": "0p4TxglcX-HN",
        "colab_type": "text"
      },
      "source": [
        "## TIL - javascript 200216"
      ]
    },
    {
      "cell_type": "markdown",
      "metadata": {
        "id": "yXJVjNY5ey4m",
        "colab_type": "text"
      },
      "source": [
        "- 자바스크립트는 자바와는 완전히 다른 언어.\n",
        "    - 햄과 햄스터 처럼 햄글자만 겹치는 것과 비슷함.\n",
        "- 하나의 완전한 코딩언어이므로 학습할 양이 많음.\n",
        "    - 필요한 부분을 프로젝트에 적용하면서 배우는 것이 효과적\n",
        "- 참고 사이트\n",
        "    - jquery : https://jquery.com\n",
        "        - 자바스크립트 코드 라이브러리 사이트\n",
        "        - 내가 생각하는 기능들은 이미 함수형태로 구현되어 있음. \n",
        "        - 사용방법\n",
        "            - jquery파일을 다운받아서 사용가능\n",
        "            - 웹페이지 내에 링크형태로 삽입하여 사용가능 (CDN)\n",
        "    - jqueryui : https://jqueryui.com\n",
        "        - 자바스크립트 사용자 환경을 구현한 것을 모아 놓음. "
      ]
    },
    {
      "cell_type": "code",
      "metadata": {
        "id": "j4dq2ImVgGuH",
        "colab_type": "code",
        "colab": {}
      },
      "source": [
        ""
      ],
      "execution_count": 0,
      "outputs": []
    }
  ]
}
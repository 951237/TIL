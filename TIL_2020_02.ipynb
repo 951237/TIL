{
  "nbformat": 4,
  "nbformat_minor": 0,
  "metadata": {
    "colab": {
      "name": "TIL_2020_02.ipynb",
      "provenance": [],
      "collapsed_sections": [
        "fa_cF2crhZ2D",
        "-e9aRlmvjThx",
        "TRoO0gDqk87D",
        "VJhSJ0PMoHyz",
        "bJxFvdlwvUNS",
        "a8rJ6L-Z2p0R",
        "X4Vqjjvn4vMm",
        "ACREn5ukKG5o",
        "USesWvwzKJx_",
        "PQTP-ZbiKet4",
        "NVsx_E89Khnf",
        "hSP5_-CKKjbF",
        "S5LZBov-Knml",
        "XWpfhd3iKqKi",
        "AYaUjlb_KsbD",
        "lUC-aiLDKCUH",
        "Gl0bT6MdJpce",
        "VOW9cg8kM3EE",
        "J9BnIrepou4T",
        "rtHwqYKQ-atP",
        "f-xQAVw9-10D"
      ],
      "toc_visible": true,
      "mount_file_id": "1gpCo6_mLQFWfncMN303yL-1ee9OKiCkg",
      "authorship_tag": "ABX9TyOGnWi0KuqmXiHwFowY5xOA",
      "include_colab_link": true
    },
    "kernelspec": {
      "name": "python3",
      "display_name": "Python 3"
    }
  },
  "cells": [
    {
      "cell_type": "markdown",
      "metadata": {
        "id": "view-in-github",
        "colab_type": "text"
      },
      "source": [
        "<a href=\"https://colab.research.google.com/github/951237/TIL/blob/master/TIL_2020_02.ipynb\" target=\"_parent\"><img src=\"https://colab.research.google.com/assets/colab-badge.svg\" alt=\"Open In Colab\"/></a>"
      ]
    },
    {
      "cell_type": "markdown",
      "metadata": {
        "id": "9Ex-ltZEYF0W",
        "colab_type": "text"
      },
      "source": [
        "# 인공지능"
      ]
    },
    {
      "cell_type": "markdown",
      "metadata": {
        "id": "yvDpBBejYOz3",
        "colab_type": "text"
      },
      "source": [
        "## TIL - 200209 텐서플로 따라하기(안경잡이 개발자)\n",
        "- x축은 시간 \n",
        "- y축은 임금\n",
        "- 데이터를 기반으로 추후 임금 구하기"
      ]
    },
    {
      "cell_type": "markdown",
      "metadata": {
        "id": "7CRgpuM8fk_T",
        "colab_type": "text"
      },
      "source": [
        "### 선형회귀를 이용한 임금 예상하기"
      ]
    },
    {
      "cell_type": "code",
      "metadata": {
        "id": "dwwlRuhbYX5f",
        "colab_type": "code",
        "colab": {}
      },
      "source": [
        "import tensorflow as tf"
      ],
      "execution_count": 0,
      "outputs": []
    },
    {
      "cell_type": "code",
      "metadata": {
        "id": "-Vcl8IrCZNTu",
        "colab_type": "code",
        "colab": {}
      },
      "source": [
        "xData = [1, 2, 3, 4, 5, 6, 7]\n",
        "yData = [25000, 55000, 75000, 110000, 128000, 155000, 180000]"
      ],
      "execution_count": 0,
      "outputs": []
    },
    {
      "cell_type": "code",
      "metadata": {
        "id": "y0isthpgaiYo",
        "colab_type": "code",
        "colab": {}
      },
      "source": [
        "w = tf.Variable(tf.random_uniform([1], -100, 100)) #기울기\n",
        "b = tf.Variable(tf.random_uniform([1], -100, 100)) # 값"
      ],
      "execution_count": 0,
      "outputs": []
    },
    {
      "cell_type": "code",
      "metadata": {
        "id": "XTcH4zHma5kX",
        "colab_type": "code",
        "colab": {}
      },
      "source": [
        "X = tf.placeholder(tf.float32)  # x축 설정하기\n",
        "Y = tf.placeholder(tf.float32)  # y축 설정하기\n",
        "H = w * X + b # 회귀선 "
      ],
      "execution_count": 0,
      "outputs": []
    },
    {
      "cell_type": "code",
      "metadata": {
        "id": "s21UN-N3b3Rr",
        "colab_type": "code",
        "colab": {}
      },
      "source": [
        "cost = tf.reduce_mean(tf.square(H-Y)) # 절대값을 구하여 평균값을 구함\n",
        "a = tf.Variable(0.01)   # 점프값을 0.01로 정함.\n",
        "optimizer = tf.train.GradientDescentOptimizer(a)    # 경사하강법을 라이브러리 이용하여 훈련하기\n",
        "train = optimizer.minimize(cost)    # 무슨뜻?\n",
        "init = tf.global_variables_initializer()    # 초기화?\n",
        "sess = tf.Session()     # 세선을 선언\n",
        "sess.run(init)"
      ],
      "execution_count": 0,
      "outputs": []
    },
    {
      "cell_type": "code",
      "metadata": {
        "id": "h7el5Ivyb7ZQ",
        "colab_type": "code",
        "outputId": "8a726c02-67cc-4e4b-c68e-40be790f5701",
        "colab": {
          "base_uri": "https://localhost:8080/",
          "height": 221
        }
      },
      "source": [
        "for i in range(5001):\n",
        "    sess.run(train, feed_dict={X : xData, Y : yData})\n",
        "    if i % 500 == 0:    # 500 번 마다 1번씩\n",
        "        print(i, sess.run(cost, feed_dict={X : xData, Y : yData}), sess.run(w), sess.run(b))\n",
        "print(sess.run(H, feed_dict={X : [2]})) # 8시간 일할 때 값을 구하기"
      ],
      "execution_count": 0,
      "outputs": [
        {
          "output_type": "stream",
          "text": [
            "0 8632657.0 [25642.848] [1428.6133]\n",
            "500 8632657.0 [25642.848] [1428.6133]\n",
            "1000 8632657.0 [25642.848] [1428.6133]\n",
            "1500 8632657.0 [25642.848] [1428.6133]\n",
            "2000 8632657.0 [25642.848] [1428.6133]\n",
            "2500 8632657.0 [25642.848] [1428.6133]\n",
            "3000 8632657.0 [25642.848] [1428.6133]\n",
            "3500 8632657.0 [25642.848] [1428.6133]\n",
            "4000 8632657.0 [25642.848] [1428.6133]\n",
            "4500 8632657.0 [25642.848] [1428.6133]\n",
            "5000 8632657.0 [25642.848] [1428.6133]\n",
            "[52714.31]\n"
          ],
          "name": "stdout"
        }
      ]
    },
    {
      "cell_type": "markdown",
      "metadata": {
        "id": "bjOCWrsiczFv",
        "colab_type": "text"
      },
      "source": [
        "### 텐서플로 - 상수"
      ]
    },
    {
      "cell_type": "code",
      "metadata": {
        "id": "iJ1zO_dNfzz7",
        "colab_type": "code",
        "colab": {}
      },
      "source": [
        "import tensorflow as tf\n"
      ],
      "execution_count": 0,
      "outputs": []
    },
    {
      "cell_type": "code",
      "metadata": {
        "id": "AH42kcdxf4W5",
        "colab_type": "code",
        "outputId": "139b0ac9-4cc7-43b7-cc3b-2b16733bd9aa",
        "colab": {
          "base_uri": "https://localhost:8080/",
          "height": 34
        }
      },
      "source": [
        "a = tf.constant(1)  # 상수 선언\n",
        "b = tf.constant(2)\n",
        "c = tf.add(a, b)    # 연산식\n",
        "sess = tf.Session() # 세션만들기\n",
        "sess.run(c)     # 연산을 수행"
      ],
      "execution_count": 0,
      "outputs": [
        {
          "output_type": "execute_result",
          "data": {
            "text/plain": [
              "3"
            ]
          },
          "metadata": {
            "tags": []
          },
          "execution_count": 52
        }
      ]
    },
    {
      "cell_type": "markdown",
      "metadata": {
        "id": "ChkJNU4DgkyO",
        "colab_type": "text"
      },
      "source": [
        "### 텐서플로 - 변수\n",
        "- 변수를 바꿔줘야 할경우\n",
        "- 계산할 때 마다 초기화를 다시 해줘야 함. "
      ]
    },
    {
      "cell_type": "code",
      "metadata": {
        "id": "bDfCSJbIg0W_",
        "colab_type": "code",
        "colab": {}
      },
      "source": [
        "import tensorflow as tf"
      ],
      "execution_count": 0,
      "outputs": []
    },
    {
      "cell_type": "code",
      "metadata": {
        "id": "JVUcbEq_hF90",
        "colab_type": "code",
        "outputId": "70fd7dc9-06e1-4713-e510-699c6190be8a",
        "colab": {
          "base_uri": "https://localhost:8080/",
          "height": 34
        }
      },
      "source": [
        "a = tf.Variable(5)\n",
        "b = tf.Variable(6)\n",
        "c = tf.multiply(a, b)   # a, b의 곱하기 식\n",
        "init = tf.global_variables_initializer()    # ★변수를 선언시 사용할 수 있도록 초기화 하기\n",
        "sess = tf.Session()\n",
        "sess.run(init)\n",
        "sess.run(c)"
      ],
      "execution_count": 0,
      "outputs": [
        {
          "output_type": "execute_result",
          "data": {
            "text/plain": [
              "30"
            ]
          },
          "metadata": {
            "tags": []
          },
          "execution_count": 56
        }
      ]
    },
    {
      "cell_type": "markdown",
      "metadata": {
        "id": "fa_cF2crhZ2D",
        "colab_type": "text"
      },
      "source": [
        "### 텐서플로 - 플레이스 홀더(Placeholder)\n",
        "- 다른 텐서를 할당함.\n",
        "- 학습데이터를 포함하는 변수"
      ]
    },
    {
      "cell_type": "code",
      "metadata": {
        "id": "3NDsCzWeiLH6",
        "colab_type": "code",
        "colab": {}
      },
      "source": [
        "import tensorflow as tf\n"
      ],
      "execution_count": 0,
      "outputs": []
    },
    {
      "cell_type": "code",
      "metadata": {
        "id": "oD6inZzIi-fo",
        "colab_type": "code",
        "colab": {}
      },
      "source": [
        "input = [1, 2, 3, 4, 5]\n",
        "x = tf.placeholder(dtype=tf.float32)    # 학습데이터를 포함하는 변수를 선언\n",
        "y = x + 5       # y 식을 선언"
      ],
      "execution_count": 0,
      "outputs": []
    },
    {
      "cell_type": "code",
      "metadata": {
        "id": "G6apWDPdjKPJ",
        "colab_type": "code",
        "outputId": "b09b634d-1551-48cf-8f50-9939fcd77d90",
        "colab": {
          "base_uri": "https://localhost:8080/",
          "height": 34
        }
      },
      "source": [
        "sess = tf.Session()\n",
        "sess.run(y, feed_dict={x : input})  # 학습데이터를 이용하여 y 값을 구하기"
      ],
      "execution_count": 0,
      "outputs": [
        {
          "output_type": "execute_result",
          "data": {
            "text/plain": [
              "array([ 6.,  7.,  8.,  9., 10.], dtype=float32)"
            ]
          },
          "metadata": {
            "tags": []
          },
          "execution_count": 62
        }
      ]
    },
    {
      "cell_type": "markdown",
      "metadata": {
        "id": "-e9aRlmvjThx",
        "colab_type": "text"
      },
      "source": [
        "#### 예제 - 평균값 구하기"
      ]
    },
    {
      "cell_type": "code",
      "metadata": {
        "id": "_XUHK6skkdDW",
        "colab_type": "code",
        "colab": {}
      },
      "source": [
        "import tensorflow as tf\n"
      ],
      "execution_count": 0,
      "outputs": []
    },
    {
      "cell_type": "code",
      "metadata": {
        "id": "vwHjZxjikfW6",
        "colab_type": "code",
        "colab": {}
      },
      "source": [
        "math_score = [90, 87, 57, 98, 83]   # 수학점수\n",
        "english_socre = [88, 89, 78, 99, 68]    # 영어점수"
      ],
      "execution_count": 0,
      "outputs": []
    },
    {
      "cell_type": "code",
      "metadata": {
        "id": "fLl27r5Hkoyg",
        "colab_type": "code",
        "colab": {}
      },
      "source": [
        "a = tf.placeholder(dtype=tf.float32)    # 수학점수 플레이스홀더\n",
        "b = tf.placeholder(dtype=tf.float32)    # 영어점수 플레이스홀더\n",
        "y = (a + b) / 2     # 평균 값 구하는 식"
      ],
      "execution_count": 0,
      "outputs": []
    },
    {
      "cell_type": "code",
      "metadata": {
        "id": "HqRspux7kzsr",
        "colab_type": "code",
        "outputId": "5afbb687-4d99-47e3-9471-2a62722e9576",
        "colab": {
          "base_uri": "https://localhost:8080/",
          "height": 34
        }
      },
      "source": [
        "sess = tf.Session()     # 세선선언\n",
        "sess.run(y, feed_dict={a : math_score, b : english_socre})  #세션값 구하기"
      ],
      "execution_count": 0,
      "outputs": [
        {
          "output_type": "execute_result",
          "data": {
            "text/plain": [
              "array([89. , 88. , 67.5, 98.5, 75.5], dtype=float32)"
            ]
          },
          "metadata": {
            "tags": []
          },
          "execution_count": 70
        }
      ]
    },
    {
      "cell_type": "markdown",
      "metadata": {
        "id": "TRoO0gDqk87D",
        "colab_type": "text"
      },
      "source": [
        "### 텐서플로 주요함수 실습하기\n",
        "- 함수를 모두 배울 필요는 없으며, 필요할 때 알아보기"
      ]
    },
    {
      "cell_type": "code",
      "metadata": {
        "id": "MVRUWqSyllIx",
        "colab_type": "code",
        "colab": {}
      },
      "source": [
        "import tensorflow as tf\n"
      ],
      "execution_count": 0,
      "outputs": []
    },
    {
      "cell_type": "code",
      "metadata": {
        "id": "71GO7DVunJl7",
        "colab_type": "code",
        "colab": {}
      },
      "source": [
        "a = tf.constant(15)\n",
        "b = tf.constant(6)"
      ],
      "execution_count": 0,
      "outputs": []
    },
    {
      "cell_type": "code",
      "metadata": {
        "id": "2BnWWVbFnQnq",
        "colab_type": "code",
        "outputId": "d351b2c0-b3a2-4c1e-cea8-cdf7258aae28",
        "colab": {
          "base_uri": "https://localhost:8080/",
          "height": 34
        }
      },
      "source": [
        "sess = tf.Session()\n",
        "# add\n",
        "c = tf.add(a,b)\n",
        "sess.run(c)"
      ],
      "execution_count": 0,
      "outputs": [
        {
          "output_type": "execute_result",
          "data": {
            "text/plain": [
              "21"
            ]
          },
          "metadata": {
            "tags": []
          },
          "execution_count": 81
        }
      ]
    },
    {
      "cell_type": "code",
      "metadata": {
        "id": "JFORaIzLnXKm",
        "colab_type": "code",
        "outputId": "daca1a99-087b-4871-bdea-868cad3d7887",
        "colab": {
          "base_uri": "https://localhost:8080/",
          "height": 34
        }
      },
      "source": [
        "# 빼기\n",
        "c = tf.subtract(a, b)\n",
        "sess.run(c)"
      ],
      "execution_count": 0,
      "outputs": [
        {
          "output_type": "execute_result",
          "data": {
            "text/plain": [
              "9"
            ]
          },
          "metadata": {
            "tags": []
          },
          "execution_count": 83
        }
      ]
    },
    {
      "cell_type": "code",
      "metadata": {
        "id": "2gaid-z2nyk5",
        "colab_type": "code",
        "outputId": "8e74e66f-9e39-4bf4-fc5c-78486fa5fa7b",
        "colab": {
          "base_uri": "https://localhost:8080/",
          "height": 34
        }
      },
      "source": [
        "# 곱하기\n",
        "c = tf.multiply(a, b)\n",
        "sess.run(c)"
      ],
      "execution_count": 0,
      "outputs": [
        {
          "output_type": "execute_result",
          "data": {
            "text/plain": [
              "90"
            ]
          },
          "metadata": {
            "tags": []
          },
          "execution_count": 84
        }
      ]
    },
    {
      "cell_type": "code",
      "metadata": {
        "id": "1Ga8M5RWoA7U",
        "colab_type": "code",
        "outputId": "2677630b-4585-4a00-9a5c-7c1ea894a977",
        "colab": {
          "base_uri": "https://localhost:8080/",
          "height": 34
        }
      },
      "source": [
        "# 나누기\n",
        "c = tf.truediv(a,b)\n",
        "sess.run(c)"
      ],
      "execution_count": 0,
      "outputs": [
        {
          "output_type": "execute_result",
          "data": {
            "text/plain": [
              "2.5"
            ]
          },
          "metadata": {
            "tags": []
          },
          "execution_count": 85
        }
      ]
    },
    {
      "cell_type": "markdown",
      "metadata": {
        "id": "VJhSJ0PMoHyz",
        "colab_type": "text"
      },
      "source": [
        "### 빅데이터 k-means\n",
        "- 비지도학습\n",
        "- 사전준비\n",
        "    - 학생들의 성적에 따라 반을 나눈다\n",
        "    - 얼마나 많은 반?(초급, 중급, 고급)\n",
        "    - 데이터 준비\n",
        "    - 수행하기 위한 방법 선택\n",
        "- 수행과정\n",
        "    - 중심에 가까운 데이터를 클러스터에 포함\n",
        "    - 중심을 클러스터의 중앙으로 이동\n",
        "    - 위의 과정을 반복\n",
        "\n",
        "- k-means ++ \n",
        "    - 클러스터의 중심점을 자동으로 설정"
      ]
    },
    {
      "cell_type": "markdown",
      "metadata": {
        "id": "bJxFvdlwvUNS",
        "colab_type": "text"
      },
      "source": [
        "#### 예제 - 클러스터링"
      ]
    },
    {
      "cell_type": "code",
      "metadata": {
        "id": "PIVJFZ52rMP9",
        "colab_type": "code",
        "colab": {}
      },
      "source": [
        "from sklearn.cluster import KMeans  # kmean 라이브러리 호출\n",
        "import numpy as np\n",
        "import pandas as pd\n",
        "import seaborn as sns\n",
        "import matplotlib.pyplot as plt"
      ],
      "execution_count": 0,
      "outputs": []
    },
    {
      "cell_type": "markdown",
      "metadata": {
        "id": "lS0KVvnPxxoa",
        "colab_type": "text"
      },
      "source": [
        "##### 데이터프레임 만들기"
      ]
    },
    {
      "cell_type": "code",
      "metadata": {
        "id": "uT-6zblzveuc",
        "colab_type": "code",
        "colab": {}
      },
      "source": [
        "df = pd.read_csv('/content/drive/My Drive/data/ML/kmean_example.csv', header=None)\n",
        "df.columns = ['x', 'y']\n"
      ],
      "execution_count": 0,
      "outputs": []
    },
    {
      "cell_type": "markdown",
      "metadata": {
        "id": "KlpOzpxIw8Fe",
        "colab_type": "text"
      },
      "source": [
        "##### 그래프 그리기"
      ]
    },
    {
      "cell_type": "code",
      "metadata": {
        "id": "086odnSCx5xY",
        "colab_type": "code",
        "outputId": "7b39e082-f53d-429f-d0e1-6dbc055a419b",
        "colab": {
          "base_uri": "https://localhost:8080/",
          "height": 419
        }
      },
      "source": [
        "plt.figure(figsize=(14, 8))     # 그래프의 크기 설정하기. 현재 시본에서 작동 안함.\n",
        "sns.lmplot('x', 'y', data=df,\n",
        "           fit_reg=False,\n",
        "           scatter_kws={\"s\" : 100} # 점의 크기를 100으로 설정하\n",
        "           )\n",
        "plt.title('K-means Example')\n",
        "plt.xlabel('X')\n",
        "plt.ylabel('Y')"
      ],
      "execution_count": 0,
      "outputs": [
        {
          "output_type": "execute_result",
          "data": {
            "text/plain": [
              "Text(0.29999999999999716, 0.5, 'Y')"
            ]
          },
          "metadata": {
            "tags": []
          },
          "execution_count": 103
        },
        {
          "output_type": "display_data",
          "data": {
            "text/plain": [
              "<Figure size 1008x576 with 0 Axes>"
            ]
          },
          "metadata": {
            "tags": []
          }
        },
        {
          "output_type": "display_data",
          "data": {
            "image/png": "[encoded data removed]",
            "text/plain": [
              "<Figure size 360x360 with 1 Axes>"
            ]
          },
          "metadata": {
            "tags": []
          }
        }
      ]
    },
    {
      "cell_type": "markdown",
      "metadata": {
        "id": "zbzlc9nnyLQJ",
        "colab_type": "text"
      },
      "source": [
        "##### 군집화 하기"
      ]
    },
    {
      "cell_type": "code",
      "metadata": {
        "id": "9As4xmQV0okq",
        "colab_type": "code",
        "colab": {}
      },
      "source": [
        "points = df.values\n",
        "kmeans = KMeans(n_clusters=4).fit(points)   # kmeans 중심점 4개를 설정하기\n",
        "kmeans.cluster_centers_ #중심점 찾기\n",
        "kmeans.labels_  # 클러스터링 라벨 표시하기\n",
        "df['cluster'] = kmeans.labels_ # 클러스터한 것을 칼럼으로 넣기\n"
      ],
      "execution_count": 0,
      "outputs": []
    },
    {
      "cell_type": "markdown",
      "metadata": {
        "id": "7xSjby231Q5J",
        "colab_type": "text"
      },
      "source": [
        "##### 클러스터링 한것을 그래프로 표현하기"
      ]
    },
    {
      "cell_type": "code",
      "metadata": {
        "id": "MsPlBTzs0vw1",
        "colab_type": "code",
        "outputId": "2c4f49cc-4b0c-43a8-b9b8-bcee19ebfba2",
        "colab": {
          "base_uri": "https://localhost:8080/",
          "height": 402
        }
      },
      "source": [
        "sns.lmplot('x', 'y', data=df,\n",
        "           fit_reg=False,\n",
        "           scatter_kws={\"s\" : 100}, # 점의 크기를 100으로 설정하\n",
        "           hue = 'cluster')\n",
        "plt.title('K-means Example')\n",
        "plt.xlabel('X')\n",
        "plt.ylabel('Y')"
      ],
      "execution_count": 0,
      "outputs": [
        {
          "output_type": "execute_result",
          "data": {
            "text/plain": [
              "Text(27.176848958333338, 0.5, 'Y')"
            ]
          },
          "metadata": {
            "tags": []
          },
          "execution_count": 127
        },
        {
          "output_type": "display_data",
          "data": {
            "image/png": "[encoded data removed]",
            "text/plain": [
              "<Figure size 402.375x360 with 1 Axes>"
            ]
          },
          "metadata": {
            "tags": []
          }
        }
      ]
    },
    {
      "cell_type": "markdown",
      "metadata": {
        "id": "gtfubOpu1JSl",
        "colab_type": "text"
      },
      "source": [
        "## TIL - 200210 : 배추가격 예측 AI로봇 \n",
        "- 링크 : https://youtu.be/wZvhBVqitn8"
      ]
    },
    {
      "cell_type": "markdown",
      "metadata": {
        "id": "a8rJ6L-Z2p0R",
        "colab_type": "text"
      },
      "source": [
        "### 데이터 수집\n",
        "- 기상자료개방포털 \n",
        "    - 기온 : https://data.kma.go.kr/stcs/grnd/grndTaList.do?pgmNo=70\n",
        "    - 강수량 : https://data.kma.go.kr/stcs/grnd/grndRnList.do?pgmNo=69\n",
        "- 농산물 유통정보 / 채소류 / 배추 / 전체품종\n",
        "    - 소매가격 / 최소가격\n",
        "\n",
        "### 데이터 정제\n",
        "- 평균기온, 최저기온, 최고기온, 강수량, 가격"
      ]
    },
    {
      "cell_type": "markdown",
      "metadata": {
        "id": "X4Vqjjvn4vMm",
        "colab_type": "text"
      },
      "source": [
        "### 텐서플로 다변인 선형 모델 계발하기\n",
        "- 변수가 여러가지 인경우 다변인 선형 회귀모델 적용\n",
        "    - 식 : H(x1, x2, x3, x4) = x1w1 + x2w2 + x3w3 + x4w4 \n",
        "        - 모든 변인이 가격에 영향을 미친다고 감안. 가중치를 고려하여 식을 세움.\n",
        "        - 행렬의 곱을 이요한 식 : H(X) = XW\n",
        "    - 학습률 : 0.000005"
      ]
    },
    {
      "cell_type": "markdown",
      "metadata": {
        "id": "ACREn5ukKG5o",
        "colab_type": "text"
      },
      "source": [
        "#### 라이브러리 호출"
      ]
    },
    {
      "cell_type": "code",
      "metadata": {
        "id": "XgzeoXBF8aeg",
        "colab_type": "code",
        "colab": {}
      },
      "source": [
        "import tensorflow as tf\n",
        "import numpy as np\n",
        "import pandas as pd"
      ],
      "execution_count": 0,
      "outputs": []
    },
    {
      "cell_type": "markdown",
      "metadata": {
        "id": "USesWvwzKJx_",
        "colab_type": "text"
      },
      "source": [
        "#### 데이터 불러오기"
      ]
    },
    {
      "cell_type": "code",
      "metadata": {
        "id": "kDP4nx0S8umT",
        "colab_type": "code",
        "colab": {}
      },
      "source": [
        "data = pd.read_csv('/content/drive/My Drive/data/ML/배추가격_데이터_예제_price data.csv')   # 데이터 파일 불러오기"
      ],
      "execution_count": 0,
      "outputs": []
    },
    {
      "cell_type": "markdown",
      "metadata": {
        "id": "PQTP-ZbiKet4",
        "colab_type": "text"
      },
      "source": [
        "#### 학습데이터 준비하기"
      ]
    },
    {
      "cell_type": "code",
      "metadata": {
        "id": "AH_mV5O19jGw",
        "colab_type": "code",
        "colab": {}
      },
      "source": [
        "model = tf.global_variables_initializer()   # 텐서플로 변수 초기화 하기\n",
        "xy = np.array(data, dtype=np.float32)       # 데이터를 넘파이 값으로 담기 \n",
        "x_data = xy[:, 1:-1]    # 모든행을 선택, 열은 2번째 부터 끝에서 2번째 열까지 선택(변수 4가지)\n",
        "y_data = xy[:, [-1]]    # 모든행, 마지막 열 선택(가격)"
      ],
      "execution_count": 0,
      "outputs": []
    },
    {
      "cell_type": "code",
      "metadata": {
        "id": "9s9zBzhZ-7o5",
        "colab_type": "code",
        "colab": {}
      },
      "source": [
        "x = tf.placeholder(tf.float32, shape=[None, 4])     # x 축에 들어갈 학습데이터 선언\n",
        "y = tf.placeholder(tf.float32, shape=[None, 1])     # y 축에 들어갈 학습데이터 선언\n",
        "w = tf.Variable(tf.random_normal([4,1]), name = 'weight') # 가중치의 변수를 랜덤으로 선언 [4,1]의 의미는 변수의 모양 4개 1행\n",
        "b = tf.Variable(tf.random_normal([1]), name='bias')       # 바이어스의 변수를 랜덤으로 선언 [1]의 의미는 변수의 형태임 1개 1행"
      ],
      "execution_count": 0,
      "outputs": []
    },
    {
      "cell_type": "markdown",
      "metadata": {
        "id": "NVsx_E89Khnf",
        "colab_type": "text"
      },
      "source": [
        "#### 가설식 세우기"
      ]
    },
    {
      "cell_type": "code",
      "metadata": {
        "id": "P-by1pAxEMsz",
        "colab_type": "code",
        "colab": {}
      },
      "source": [
        "hypothesis = tf.matmul(x,w) + b     # 가설식 세우기. 행열의 곱을 이용하여 식 세우기"
      ],
      "execution_count": 0,
      "outputs": []
    },
    {
      "cell_type": "markdown",
      "metadata": {
        "id": "hSP5_-CKKjbF",
        "colab_type": "text"
      },
      "source": [
        "#### 계산식 세우기"
      ]
    },
    {
      "cell_type": "code",
      "metadata": {
        "id": "36K_7yWDEtIw",
        "colab_type": "code",
        "colab": {}
      },
      "source": [
        "cost = tf.reduce_mean(tf.square(hypothesis - y))    # 계산식 세우기"
      ],
      "execution_count": 0,
      "outputs": []
    },
    {
      "cell_type": "markdown",
      "metadata": {
        "id": "S5LZBov-Knml",
        "colab_type": "text"
      },
      "source": [
        "#### 최적화 함수 선언"
      ]
    },
    {
      "cell_type": "code",
      "metadata": {
        "id": "g4DaG7GTE4EW",
        "colab_type": "code",
        "colab": {}
      },
      "source": [
        "optimizer = tf.train.GradientDescentOptimizer(learning_rate=0.000005) # 최적화 함수 선언 및 학습율 설정하기\n",
        "train = optimizer.minimize(cost)"
      ],
      "execution_count": 0,
      "outputs": []
    },
    {
      "cell_type": "markdown",
      "metadata": {
        "id": "XWpfhd3iKqKi",
        "colab_type": "text"
      },
      "source": [
        "#### 세선 만들기"
      ]
    },
    {
      "cell_type": "code",
      "metadata": {
        "id": "dPj2BdmDFI8a",
        "colab_type": "code",
        "colab": {}
      },
      "source": [
        "sess = tf.Session() # 세션 만들기\n",
        "sess.run(tf.global_variables_initializer())   # 변수값 초기화"
      ],
      "execution_count": 0,
      "outputs": []
    },
    {
      "cell_type": "markdown",
      "metadata": {
        "id": "AYaUjlb_KsbD",
        "colab_type": "text"
      },
      "source": [
        "#### 학습시키기"
      ]
    },
    {
      "cell_type": "code",
      "metadata": {
        "id": "CY5pK46SFX0q",
        "colab_type": "code",
        "colab": {}
      },
      "source": [
        "for step in range(100001):\n",
        "    cost_, hypo_, _ = sess.run([cost, hypothesis, train], feed_dict={x : x_data, y : y_data})\n",
        "    if step % 500 == 0:\n",
        "        print('#', step, \"손실비용 : \", cost_)\n",
        "        print(\"- 배추가격 : \", hypo_[0])\n"
      ],
      "execution_count": 0,
      "outputs": []
    },
    {
      "cell_type": "markdown",
      "metadata": {
        "id": "lUC-aiLDKCUH",
        "colab_type": "text"
      },
      "source": [
        "#### 학습모델 저장하기 "
      ]
    },
    {
      "cell_type": "code",
      "metadata": {
        "id": "qUJzhTSCGUyN",
        "colab_type": "code",
        "outputId": "715c0450-3e23-45ec-ad80-966408b2bea5",
        "colab": {
          "base_uri": "https://localhost:8080/",
          "height": 34
        }
      },
      "source": [
        "saver = tf.train.Saver()\n",
        "save_path = saver.save(sess, '/content/drive/My Drive/data/ML/배추가격예상하기/saved.cpkt')\n",
        "print(\"학습된 모델을 저장햇습니다.\")"
      ],
      "execution_count": 0,
      "outputs": [
        {
          "output_type": "stream",
          "text": [
            "학습된 모델을 저장햇습니다.\n"
          ],
          "name": "stdout"
        }
      ]
    },
    {
      "cell_type": "markdown",
      "metadata": {
        "id": "Gl0bT6MdJpce",
        "colab_type": "text"
      },
      "source": [
        "### 배추가격 예측하기 테스트 코드 작성하기\n",
        "- 학습모델 저장하는 이유 : 한번 계산후 배추가격을 예상하면 시간이 절약됨.\n",
        "- 저장된 학습모델을 이용하여 변수를 입력하여 실시간으로 배추가격을 계산하기"
      ]
    },
    {
      "cell_type": "code",
      "metadata": {
        "id": "8hyx-s-ZLTIP",
        "colab_type": "code",
        "colab": {}
      },
      "source": [
        "import tensorflow as tf\n",
        "import numpy as np\n"
      ],
      "execution_count": 0,
      "outputs": []
    },
    {
      "cell_type": "code",
      "metadata": {
        "id": "PZbKpDq_MP2n",
        "colab_type": "code",
        "colab": {}
      },
      "source": [
        "x = tf.placeholder(tf.float32, shape = [None, 4])\n",
        "y = tf.placeholder(tf.float32, shape=[None, 1])\n",
        "w = tf.Variable(tf.random_normal([4,1], name = 'weight'))\n",
        "b = tf.Variable(tf.random_normal([1]), name = 'bias')"
      ],
      "execution_count": 0,
      "outputs": []
    },
    {
      "cell_type": "markdown",
      "metadata": {
        "id": "VOW9cg8kM3EE",
        "colab_type": "text"
      },
      "source": [
        "#### 계산식 세우기"
      ]
    },
    {
      "cell_type": "code",
      "metadata": {
        "id": "eWrR5ltUMzGS",
        "colab_type": "code",
        "colab": {}
      },
      "source": [
        "hyo"
      ],
      "execution_count": 0,
      "outputs": []
    },
    {
      "cell_type": "markdown",
      "metadata": {
        "id": "Ahzmjk97gkyA",
        "colab_type": "text"
      },
      "source": [
        "## TIL - 200216 : 배추가격 예상 AI 웹페이지로 구현하기 도전 후기"
      ]
    },
    {
      "cell_type": "markdown",
      "metadata": {
        "id": "gZuhJPeMgsws",
        "colab_type": "text"
      },
      "source": [
        "- 안경잡이개발자 동영상을 따라 구현하려고 함.\n",
        "- 문제점 발생\n",
        "    - 텐서프롤가 2.0으로 업그레이드가 되면서 placeholder매서드가 작동하지 않음.\n",
        "    - 텐서프로 1.X 버전을 2.0d으로 올려주는 라이브러리를 호출하여 적용하였으나 실패함.\n",
        "- 향후 방향\n",
        "    - 텐서프로 2.0을 학습하여 적용할 필요가 있음."
      ]
    },
    {
      "cell_type": "markdown",
      "metadata": {
        "id": "OibkaC_Vn-l4",
        "colab_type": "text"
      },
      "source": [
        "## TIL - 200217 : 다이얼로그 플로우 알아보기\n",
        "- 링크 : https://dialogflow.com\n",
        "- 강의링크 : https://www.youtube.com/playlist?list=PLRx0vPvlEmdCb33sBZGXzVOMY_seqnWJT"
      ]
    },
    {
      "cell_type": "markdown",
      "metadata": {
        "id": "J9BnIrepou4T",
        "colab_type": "text"
      },
      "source": [
        "### 강의 내용\n",
        "- 1. 다이얼로그 플로우의 개요\n",
        "    - AI를 이용하여 대화를 주고 받을 수 있는 서비스를 생성할 수 있음.\n",
        "- 2. Intent를 생성해 단순 질의\n",
        "    - 예상가능한 질문을 입력하면, 구문을 분석하여 알맞은 대답을 함.\n",
        "- 3. Follow-up Intent를 이용하기\n",
        "    - 연속적인 대화를 가능하게 함.\n",
        "    - 질문 → 답변 → 질문 → 답변 등등\n",
        "    - 입력을 해야함.\n",
        "- 4. Entity로 단어 분리 인식하기\n",
        "    - 특정단어를 따로 인식하게 하여 질문에 대한 답변을 정교하게 함.\n",
        "    - 예시) \n",
        "        - python강의를 듣고 싶어. \n",
        "            - python 강의를 듣고 싶으시다고요?\n",
        "        - 응 \n",
        "            - python 강의를 신청하였습니다.\n",
        "    - 위의 예시처럼 강의 명을 인식하게 하여 대답을 정교하게 함.\n",
        "- 5. 엑셀파일 등을 이용하여 데이터를 만들고 json파일을 생성하여 업로드\n",
        "    - 엑셀에 대량의 데이터를 미리 입력하여, 서버에서 받아들일 수 있는 json형태로 바꾸어 업로드 할 수 있음.\n",
        "    - 엑셀의 데이터를 json형태로 바꾸는 것은 python등을 이용하여 자동화 할 수 있음.\n",
        "    - ★★★ 더 공부하고 싶은점.\n",
        "        - 클래스를 만들어서 손쉽게 데이터를 저장함.\n",
        "        - 데이터 셋을 만들 때 클래스를 이용하면 코드의 양을 줄일 수 있음.\n",
        "- 6. 플라스크 연동하기\n",
        "    - API를 이용하여 웹앱을 만들 때 플라스크를 이용하면 손쉽게(?) 구현할 수 있음.\n",
        "- 7. 카카오 챗봇 개발하기\n",
        "    - 다이얼로그 플로우를 개발한 서버에서 구현하고 서버의 API를 카카오 챗봇에 연결하여 챗봇을 구현할 수 있음.\n",
        "    - 서버를 구현하는 것은 구름 서비스를 이용하면 교육용으로 사용가능\n",
        "    - 항상 가능한 서비스를 이용하기 위해서는 AWS와 같은 상용 서버 서비스를 이용해야함."
      ]
    },
    {
      "cell_type": "code",
      "metadata": {
        "id": "Qst9CS24MELF",
        "colab_type": "code",
        "colab": {}
      },
      "source": [
        ""
      ],
      "execution_count": 0,
      "outputs": []
    },
    {
      "cell_type": "markdown",
      "metadata": {
        "id": "tqFWkyQ7owqc",
        "colab_type": "text"
      },
      "source": [
        "## TIL - 200221 : 따라하기 - 타이타닉 생존예측하기\n",
        "- 깃허브 링크 : https://github.com/minsuk-heo/kaggle-titanic/blob/master/titanic-solution.ipynb"
      ]
    },
    {
      "cell_type": "markdown",
      "metadata": {
        "id": "tzd96zk7uaqc",
        "colab_type": "text"
      },
      "source": [
        "### 데이터 프레임 로딩"
      ]
    },
    {
      "cell_type": "code",
      "metadata": {
        "id": "cSG6-VdCubJJ",
        "colab_type": "code",
        "colab": {}
      },
      "source": [
        "import pandas as pd\n",
        "train = pd.read_csv('/content/drive/My Drive/data/ML/타이타닉_생존에측/train.csv')\n",
        "test = pd.read_csv('/content/drive/My Drive/data/ML/타이타닉_생존에측/test.csv')"
      ],
      "execution_count": 0,
      "outputs": []
    },
    {
      "cell_type": "markdown",
      "metadata": {
        "id": "bUlK2lD0ubT8",
        "colab_type": "text"
      },
      "source": [
        "### 데이터 확인하기"
      ]
    },
    {
      "cell_type": "code",
      "metadata": {
        "id": "KCHyaG1qRcA1",
        "colab_type": "code",
        "outputId": "80c90ab3-dcec-46d3-b585-69c751feadfc",
        "colab": {
          "base_uri": "https://localhost:8080/",
          "height": 255
        }
      },
      "source": [
        "train.head(5)"
      ],
      "execution_count": 2,
      "outputs": [
        {
          "output_type": "execute_result",
          "data": {
            "text/html": [
              "<div>\n",
              "<style scoped>\n",
              "    .dataframe tbody tr th:only-of-type {\n",
              "        vertical-align: middle;\n",
              "    }\n",
              "\n",
              "    .dataframe tbody tr th {\n",
              "        vertical-align: top;\n",
              "    }\n",
              "\n",
              "    .dataframe thead th {\n",
              "        text-align: right;\n",
              "    }\n",
              "</style>\n",
              "<table border=\"1\" class=\"dataframe\">\n",
              "  <thead>\n",
              "    <tr style=\"text-align: right;\">\n",
              "      <th></th>\n",
              "      <th>PassengerId</th>\n",
              "      <th>Survived</th>\n",
              "      <th>Pclass</th>\n",
              "      <th>Name</th>\n",
              "      <th>Sex</th>\n",
              "      <th>Age</th>\n",
              "      <th>SibSp</th>\n",
              "      <th>Parch</th>\n",
              "      <th>Ticket</th>\n",
              "      <th>Fare</th>\n",
              "      <th>Cabin</th>\n",
              "      <th>Embarked</th>\n",
              "    </tr>\n",
              "  </thead>\n",
              "  <tbody>\n",
              "    <tr>\n",
              "      <th>0</th>\n",
              "      <td>1</td>\n",
              "      <td>0</td>\n",
              "      <td>3</td>\n",
              "      <td>Braund, Mr. Owen Harris</td>\n",
              "      <td>male</td>\n",
              "      <td>22.0</td>\n",
              "      <td>1</td>\n",
              "      <td>0</td>\n",
              "      <td>A/5 21171</td>\n",
              "      <td>7.2500</td>\n",
              "      <td>NaN</td>\n",
              "      <td>S</td>\n",
              "    </tr>\n",
              "    <tr>\n",
              "      <th>1</th>\n",
              "      <td>2</td>\n",
              "      <td>1</td>\n",
              "      <td>1</td>\n",
              "      <td>Cumings, Mrs. John Bradley (Florence Briggs Th...</td>\n",
              "      <td>female</td>\n",
              "      <td>38.0</td>\n",
              "      <td>1</td>\n",
              "      <td>0</td>\n",
              "      <td>PC 17599</td>\n",
              "      <td>71.2833</td>\n",
              "      <td>C85</td>\n",
              "      <td>C</td>\n",
              "    </tr>\n",
              "    <tr>\n",
              "      <th>2</th>\n",
              "      <td>3</td>\n",
              "      <td>1</td>\n",
              "      <td>3</td>\n",
              "      <td>Heikkinen, Miss. Laina</td>\n",
              "      <td>female</td>\n",
              "      <td>26.0</td>\n",
              "      <td>0</td>\n",
              "      <td>0</td>\n",
              "      <td>STON/O2. 3101282</td>\n",
              "      <td>7.9250</td>\n",
              "      <td>NaN</td>\n",
              "      <td>S</td>\n",
              "    </tr>\n",
              "    <tr>\n",
              "      <th>3</th>\n",
              "      <td>4</td>\n",
              "      <td>1</td>\n",
              "      <td>1</td>\n",
              "      <td>Futrelle, Mrs. Jacques Heath (Lily May Peel)</td>\n",
              "      <td>female</td>\n",
              "      <td>35.0</td>\n",
              "      <td>1</td>\n",
              "      <td>0</td>\n",
              "      <td>113803</td>\n",
              "      <td>53.1000</td>\n",
              "      <td>C123</td>\n",
              "      <td>S</td>\n",
              "    </tr>\n",
              "    <tr>\n",
              "      <th>4</th>\n",
              "      <td>5</td>\n",
              "      <td>0</td>\n",
              "      <td>3</td>\n",
              "      <td>Allen, Mr. William Henry</td>\n",
              "      <td>male</td>\n",
              "      <td>35.0</td>\n",
              "      <td>0</td>\n",
              "      <td>0</td>\n",
              "      <td>373450</td>\n",
              "      <td>8.0500</td>\n",
              "      <td>NaN</td>\n",
              "      <td>S</td>\n",
              "    </tr>\n",
              "  </tbody>\n",
              "</table>\n",
              "</div>"
            ],
            "text/plain": [
              "   PassengerId  Survived  Pclass  ...     Fare Cabin  Embarked\n",
              "0            1         0       3  ...   7.2500   NaN         S\n",
              "1            2         1       1  ...  71.2833   C85         C\n",
              "2            3         1       3  ...   7.9250   NaN         S\n",
              "3            4         1       1  ...  53.1000  C123         S\n",
              "4            5         0       3  ...   8.0500   NaN         S\n",
              "\n",
              "[5 rows x 12 columns]"
            ]
          },
          "metadata": {
            "tags": []
          },
          "execution_count": 2
        }
      ]
    },
    {
      "cell_type": "code",
      "metadata": {
        "id": "9PjYZ8_xowzy",
        "colab_type": "code",
        "outputId": "4922302c-e6fc-4b6e-f9d3-f1ebc8094104",
        "colab": {
          "base_uri": "https://localhost:8080/",
          "height": 204
        }
      },
      "source": [
        "test.head(5)"
      ],
      "execution_count": 3,
      "outputs": [
        {
          "output_type": "execute_result",
          "data": {
            "text/html": [
              "<div>\n",
              "<style scoped>\n",
              "    .dataframe tbody tr th:only-of-type {\n",
              "        vertical-align: middle;\n",
              "    }\n",
              "\n",
              "    .dataframe tbody tr th {\n",
              "        vertical-align: top;\n",
              "    }\n",
              "\n",
              "    .dataframe thead th {\n",
              "        text-align: right;\n",
              "    }\n",
              "</style>\n",
              "<table border=\"1\" class=\"dataframe\">\n",
              "  <thead>\n",
              "    <tr style=\"text-align: right;\">\n",
              "      <th></th>\n",
              "      <th>PassengerId</th>\n",
              "      <th>Pclass</th>\n",
              "      <th>Name</th>\n",
              "      <th>Sex</th>\n",
              "      <th>Age</th>\n",
              "      <th>SibSp</th>\n",
              "      <th>Parch</th>\n",
              "      <th>Ticket</th>\n",
              "      <th>Fare</th>\n",
              "      <th>Cabin</th>\n",
              "      <th>Embarked</th>\n",
              "    </tr>\n",
              "  </thead>\n",
              "  <tbody>\n",
              "    <tr>\n",
              "      <th>0</th>\n",
              "      <td>892</td>\n",
              "      <td>3</td>\n",
              "      <td>Kelly, Mr. James</td>\n",
              "      <td>male</td>\n",
              "      <td>34.5</td>\n",
              "      <td>0</td>\n",
              "      <td>0</td>\n",
              "      <td>330911</td>\n",
              "      <td>7.8292</td>\n",
              "      <td>NaN</td>\n",
              "      <td>Q</td>\n",
              "    </tr>\n",
              "    <tr>\n",
              "      <th>1</th>\n",
              "      <td>893</td>\n",
              "      <td>3</td>\n",
              "      <td>Wilkes, Mrs. James (Ellen Needs)</td>\n",
              "      <td>female</td>\n",
              "      <td>47.0</td>\n",
              "      <td>1</td>\n",
              "      <td>0</td>\n",
              "      <td>363272</td>\n",
              "      <td>7.0000</td>\n",
              "      <td>NaN</td>\n",
              "      <td>S</td>\n",
              "    </tr>\n",
              "    <tr>\n",
              "      <th>2</th>\n",
              "      <td>894</td>\n",
              "      <td>2</td>\n",
              "      <td>Myles, Mr. Thomas Francis</td>\n",
              "      <td>male</td>\n",
              "      <td>62.0</td>\n",
              "      <td>0</td>\n",
              "      <td>0</td>\n",
              "      <td>240276</td>\n",
              "      <td>9.6875</td>\n",
              "      <td>NaN</td>\n",
              "      <td>Q</td>\n",
              "    </tr>\n",
              "    <tr>\n",
              "      <th>3</th>\n",
              "      <td>895</td>\n",
              "      <td>3</td>\n",
              "      <td>Wirz, Mr. Albert</td>\n",
              "      <td>male</td>\n",
              "      <td>27.0</td>\n",
              "      <td>0</td>\n",
              "      <td>0</td>\n",
              "      <td>315154</td>\n",
              "      <td>8.6625</td>\n",
              "      <td>NaN</td>\n",
              "      <td>S</td>\n",
              "    </tr>\n",
              "    <tr>\n",
              "      <th>4</th>\n",
              "      <td>896</td>\n",
              "      <td>3</td>\n",
              "      <td>Hirvonen, Mrs. Alexander (Helga E Lindqvist)</td>\n",
              "      <td>female</td>\n",
              "      <td>22.0</td>\n",
              "      <td>1</td>\n",
              "      <td>1</td>\n",
              "      <td>3101298</td>\n",
              "      <td>12.2875</td>\n",
              "      <td>NaN</td>\n",
              "      <td>S</td>\n",
              "    </tr>\n",
              "  </tbody>\n",
              "</table>\n",
              "</div>"
            ],
            "text/plain": [
              "   PassengerId  Pclass  ... Cabin Embarked\n",
              "0          892       3  ...   NaN        Q\n",
              "1          893       3  ...   NaN        S\n",
              "2          894       2  ...   NaN        Q\n",
              "3          895       3  ...   NaN        S\n",
              "4          896       3  ...   NaN        S\n",
              "\n",
              "[5 rows x 11 columns]"
            ]
          },
          "metadata": {
            "tags": []
          },
          "execution_count": 3
        }
      ]
    },
    {
      "cell_type": "markdown",
      "metadata": {
        "id": "RuhotSQRow8r",
        "colab_type": "text"
      },
      "source": [
        "### 데이터 딕셔너리\n",
        "- 생존 : 0 = No, 1 = Yes\n",
        "- pclass : 티켓클래스 1 = 1st, 2 = 2nd, 3 = 3rd\n",
        "- shbsp : 형제자매 수\n",
        "- parch : 부모, 자녀 동승\n",
        "- ticket : 티켓 번호\n",
        "- cabin : 숙소\n",
        "- embarked : 탑승장소  C = Cherbourg, Q = Queenstown, S = Southampton"
      ]
    },
    {
      "cell_type": "code",
      "metadata": {
        "id": "4BpPaywUSkc9",
        "colab_type": "code",
        "outputId": "4bf3f8ef-a9df-4439-ae11-d6cdd8beff0c",
        "colab": {
          "base_uri": "https://localhost:8080/",
          "height": 34
        }
      },
      "source": [
        "train.shape"
      ],
      "execution_count": 4,
      "outputs": [
        {
          "output_type": "execute_result",
          "data": {
            "text/plain": [
              "(891, 12)"
            ]
          },
          "metadata": {
            "tags": []
          },
          "execution_count": 4
        }
      ]
    },
    {
      "cell_type": "markdown",
      "metadata": {
        "id": "VJw1cRwbTEfO",
        "colab_type": "text"
      },
      "source": [
        "- 891행과 12개의 칼럼을 가지고 있음."
      ]
    },
    {
      "cell_type": "code",
      "metadata": {
        "id": "kW_DLTnpSqAU",
        "colab_type": "code",
        "outputId": "d3280817-182f-41da-cb19-e75e0a53256e",
        "colab": {
          "base_uri": "https://localhost:8080/",
          "height": 306
        }
      },
      "source": [
        "train.info()"
      ],
      "execution_count": 5,
      "outputs": [
        {
          "output_type": "stream",
          "text": [
            "<class 'pandas.core.frame.DataFrame'>\n",
            "RangeIndex: 891 entries, 0 to 890\n",
            "Data columns (total 12 columns):\n",
            "PassengerId    891 non-null int64\n",
            "Survived       891 non-null int64\n",
            "Pclass         891 non-null int64\n",
            "Name           891 non-null object\n",
            "Sex            891 non-null object\n",
            "Age            714 non-null float64\n",
            "SibSp          891 non-null int64\n",
            "Parch          891 non-null int64\n",
            "Ticket         891 non-null object\n",
            "Fare           891 non-null float64\n",
            "Cabin          204 non-null object\n",
            "Embarked       889 non-null object\n",
            "dtypes: float64(2), int64(5), object(5)\n",
            "memory usage: 83.7+ KB\n"
          ],
          "name": "stdout"
        }
      ]
    },
    {
      "cell_type": "markdown",
      "metadata": {
        "id": "iSg-Q4Z4TKIf",
        "colab_type": "text"
      },
      "source": [
        "- 나이정보, 숙소, 탑승지에서 에서 결측치가 보임 "
      ]
    },
    {
      "cell_type": "code",
      "metadata": {
        "id": "2SZO18YDTsfJ",
        "colab_type": "code",
        "outputId": "1fbbe5cb-07b5-44f0-c1fb-bb3505df79a4",
        "colab": {
          "base_uri": "https://localhost:8080/",
          "height": 238
        }
      },
      "source": [
        "train.isnull().sum()"
      ],
      "execution_count": 6,
      "outputs": [
        {
          "output_type": "execute_result",
          "data": {
            "text/plain": [
              "PassengerId      0\n",
              "Survived         0\n",
              "Pclass           0\n",
              "Name             0\n",
              "Sex              0\n",
              "Age            177\n",
              "SibSp            0\n",
              "Parch            0\n",
              "Ticket           0\n",
              "Fare             0\n",
              "Cabin          687\n",
              "Embarked         2\n",
              "dtype: int64"
            ]
          },
          "metadata": {
            "tags": []
          },
          "execution_count": 6
        }
      ]
    },
    {
      "cell_type": "markdown",
      "metadata": {
        "id": "saawssCSTwk6",
        "colab_type": "text"
      },
      "source": [
        "결측 값\n",
        "- 나이 177개\n",
        "- 숙소 687개\n",
        "- 탑승지 2개"
      ]
    },
    {
      "cell_type": "code",
      "metadata": {
        "id": "5G0idUpxSt8f",
        "colab_type": "code",
        "outputId": "7b35833f-dc3f-4e98-8e33-aadaef3fbcd2",
        "colab": {
          "base_uri": "https://localhost:8080/",
          "height": 34
        }
      },
      "source": [
        "test.shape"
      ],
      "execution_count": 7,
      "outputs": [
        {
          "output_type": "execute_result",
          "data": {
            "text/plain": [
              "(418, 11)"
            ]
          },
          "metadata": {
            "tags": []
          },
          "execution_count": 7
        }
      ]
    },
    {
      "cell_type": "markdown",
      "metadata": {
        "id": "m6acLgv7TWDK",
        "colab_type": "text"
      },
      "source": [
        "- 418행 11칼럼 "
      ]
    },
    {
      "cell_type": "code",
      "metadata": {
        "id": "0d3uCghFSxUL",
        "colab_type": "code",
        "outputId": "cd0fe1bc-2422-40b2-945f-df4adb97a02f",
        "colab": {
          "base_uri": "https://localhost:8080/",
          "height": 289
        }
      },
      "source": [
        "test.info()"
      ],
      "execution_count": 8,
      "outputs": [
        {
          "output_type": "stream",
          "text": [
            "<class 'pandas.core.frame.DataFrame'>\n",
            "RangeIndex: 418 entries, 0 to 417\n",
            "Data columns (total 11 columns):\n",
            "PassengerId    418 non-null int64\n",
            "Pclass         418 non-null int64\n",
            "Name           418 non-null object\n",
            "Sex            418 non-null object\n",
            "Age            332 non-null float64\n",
            "SibSp          418 non-null int64\n",
            "Parch          418 non-null int64\n",
            "Ticket         418 non-null object\n",
            "Fare           417 non-null float64\n",
            "Cabin          91 non-null object\n",
            "Embarked       418 non-null object\n",
            "dtypes: float64(2), int64(4), object(5)\n",
            "memory usage: 36.0+ KB\n"
          ],
          "name": "stdout"
        }
      ]
    },
    {
      "cell_type": "markdown",
      "metadata": {
        "id": "5MtpfU4ySyt8",
        "colab_type": "text"
      },
      "source": [
        "- 나이, 숙소, 경비에서 결측값이 있음."
      ]
    },
    {
      "cell_type": "code",
      "metadata": {
        "id": "Pv22vIinoxHL",
        "colab_type": "code",
        "outputId": "f2941b25-3045-44e2-8c41-afe24b8c1b32",
        "colab": {
          "base_uri": "https://localhost:8080/",
          "height": 221
        }
      },
      "source": [
        "test.isnull().sum()"
      ],
      "execution_count": 9,
      "outputs": [
        {
          "output_type": "execute_result",
          "data": {
            "text/plain": [
              "PassengerId      0\n",
              "Pclass           0\n",
              "Name             0\n",
              "Sex              0\n",
              "Age             86\n",
              "SibSp            0\n",
              "Parch            0\n",
              "Ticket           0\n",
              "Fare             1\n",
              "Cabin          327\n",
              "Embarked         0\n",
              "dtype: int64"
            ]
          },
          "metadata": {
            "tags": []
          },
          "execution_count": 9
        }
      ]
    },
    {
      "cell_type": "markdown",
      "metadata": {
        "id": "iGYjzLFTT-10",
        "colab_type": "text"
      },
      "source": [
        "결측값\n",
        "- 나이 : 86개\n",
        "- 탑승비 : 1개\n",
        "- 숙소 : 327개"
      ]
    },
    {
      "cell_type": "markdown",
      "metadata": {
        "id": "Omj_oekCoxRC",
        "colab_type": "text"
      },
      "source": [
        "### 시각화 도구 라이브러리 호출"
      ]
    },
    {
      "cell_type": "code",
      "metadata": {
        "id": "XRkK4UjpUOAW",
        "colab_type": "code",
        "colab": {}
      },
      "source": [
        "import matplotlib.pyplot as plt\n",
        "import seaborn as sns\n",
        "sns.set()   # 시각화 도구로 시본을 기본값으로 설정"
      ],
      "execution_count": 0,
      "outputs": []
    },
    {
      "cell_type": "markdown",
      "metadata": {
        "id": "SBa8_cbOUOaI",
        "colab_type": "text"
      },
      "source": [
        "### 카테고리 피처 bar chart로 나타내기\n",
        "- pclass\n",
        "- sex\n",
        "- sibsp\n",
        "- parch\n",
        "- Embarked\n",
        "- cabin"
      ]
    },
    {
      "cell_type": "markdown",
      "metadata": {
        "id": "NChz2x1zYtHV",
        "colab_type": "text"
      },
      "source": [
        "#### Bar Chart 함수 만들기"
      ]
    },
    {
      "cell_type": "code",
      "metadata": {
        "id": "etkmhBJ8UOhC",
        "colab_type": "code",
        "colab": {}
      },
      "source": [
        "def bar_chart(feature):\n",
        "    survived = train[ train['Survived'] == 1 ][feature].value_counts() # 생존자 중에서 피처에 해당하는 인원을 시리즈로 생성\n",
        "    dead = train[train['Survived'] == 0][feature].value_counts()    # 사망자 중에서 피처에 해당하는 인원을 시리즈로 생성\n",
        "    df = pd.DataFrame([survived, dead])     # 시리즈 2개를 묶어서 데이터 프레임으로 생성\n",
        "    df.index = ['Survived', 'Dead']         # 인덱스 'Sex'를 'Survived', 'Dead'로 바꿔줌\n",
        "    df.plot(kind = 'bar', stacked = True, figsize = (10, 5))  # stacked는 1개의 그래프에 누적하여 나타냄\n"
      ],
      "execution_count": 0,
      "outputs": []
    },
    {
      "cell_type": "code",
      "metadata": {
        "id": "cSfZQPvtUOoG",
        "colab_type": "code",
        "outputId": "245f558f-ea2f-4c92-e9dd-7608791c9f9c",
        "colab": {
          "base_uri": "https://localhost:8080/",
          "height": 361
        }
      },
      "source": [
        "bar_chart('Sex')"
      ],
      "execution_count": 12,
      "outputs": [
        {
          "output_type": "display_data",
          "data": {
            "image/png": "[encoded data removed]",
            "text/plain": [
              "<Figure size 720x360 with 1 Axes>"
            ]
          },
          "metadata": {
            "tags": []
          }
        }
      ]
    },
    {
      "cell_type": "markdown",
      "metadata": {
        "id": "DH8VMPI5YIpE",
        "colab_type": "text"
      },
      "source": [
        "- 생존자는 여성의 비율이 높음\n",
        "- 사망자는 남성의 비율이 높음.\n",
        "- ★ 성별과 생존률과는 연관성이 있음."
      ]
    },
    {
      "cell_type": "code",
      "metadata": {
        "id": "633pznhZUOwD",
        "colab_type": "code",
        "outputId": "1c8f2f53-4c49-4aaa-e542-e203a1092c86",
        "colab": {
          "base_uri": "https://localhost:8080/",
          "height": 361
        }
      },
      "source": [
        "bar_chart('Pclass')"
      ],
      "execution_count": 13,
      "outputs": [
        {
          "output_type": "display_data",
          "data": {
            "image/png": "[encoded data removed]",
            "text/plain": [
              "<Figure size 720x360 with 1 Axes>"
            ]
          },
          "metadata": {
            "tags": []
          }
        }
      ]
    },
    {
      "cell_type": "markdown",
      "metadata": {
        "id": "LFO5Xl-RUO26",
        "colab_type": "text"
      },
      "source": [
        "- 생존자중에 1등급이 많음.\n",
        "- 사망자 중에 3등급 비율이 높음.\n",
        "- ★생존률과는 클래스와 연관성이 있음."
      ]
    },
    {
      "cell_type": "code",
      "metadata": {
        "id": "SexulJeFZGs7",
        "colab_type": "code",
        "outputId": "f0caa4f2-7630-4ee9-98d7-275dcd499b84",
        "colab": {
          "base_uri": "https://localhost:8080/",
          "height": 361
        }
      },
      "source": [
        "bar_chart('SibSp')"
      ],
      "execution_count": 14,
      "outputs": [
        {
          "output_type": "display_data",
          "data": {
            "image/png": "[encoded data removed]",
            "text/plain": [
              "<Figure size 720x360 with 1 Axes>"
            ]
          },
          "metadata": {
            "tags": []
          }
        }
      ]
    },
    {
      "cell_type": "markdown",
      "metadata": {
        "id": "ClqhjZXuZG6J",
        "colab_type": "text"
      },
      "source": [
        "- 사망자에서 혼자인 경우 비율이 높음.\n",
        "- 가족이 있는 경우 생존률이 높음.\n"
      ]
    },
    {
      "cell_type": "code",
      "metadata": {
        "id": "UZAFrNZIZiD3",
        "colab_type": "code",
        "outputId": "3248b490-71e7-4753-8a5a-ea522b570e65",
        "colab": {
          "base_uri": "https://localhost:8080/",
          "height": 361
        }
      },
      "source": [
        "bar_chart('Parch')"
      ],
      "execution_count": 15,
      "outputs": [
        {
          "output_type": "display_data",
          "data": {
            "image/png": "[encoded data removed]",
            "text/plain": [
              "<Figure size 720x360 with 1 Axes>"
            ]
          },
          "metadata": {
            "tags": []
          }
        }
      ]
    },
    {
      "cell_type": "markdown",
      "metadata": {
        "id": "nzFlfTPYZnrV",
        "colab_type": "text"
      },
      "source": [
        "- 혼자인경우 사망률이 높음\n",
        "- 부모 자식이 있는 경우 생존률이 높음."
      ]
    },
    {
      "cell_type": "code",
      "metadata": {
        "id": "jn8Lewy4ZHAc",
        "colab_type": "code",
        "outputId": "36ab0f8c-9901-481b-b02c-eb5356d28bd5",
        "colab": {
          "base_uri": "https://localhost:8080/",
          "height": 361
        }
      },
      "source": [
        "bar_chart('Embarked')"
      ],
      "execution_count": 16,
      "outputs": [
        {
          "output_type": "display_data",
          "data": {
            "image/png": "[encoded data removed]",
            "text/plain": [
              "<Figure size 720x360 with 1 Axes>"
            ]
          },
          "metadata": {
            "tags": []
          }
        }
      ]
    },
    {
      "cell_type": "markdown",
      "metadata": {
        "id": "L3B273fHaBFF",
        "colab_type": "text"
      },
      "source": [
        "- C인 경우 생존률이 좀 높음.\n",
        "- S, Q의 경우 사망률이 좀 높음."
      ]
    },
    {
      "cell_type": "markdown",
      "metadata": {
        "id": "kuZ4hbBQZHGO",
        "colab_type": "text"
      },
      "source": [
        "### 피처 엔지니어링"
      ]
    },
    {
      "cell_type": "code",
      "metadata": {
        "id": "pclyzER7ZHL5",
        "colab_type": "code",
        "outputId": "921a8f38-24d2-494b-ab82-10c227396e36",
        "colab": {
          "base_uri": "https://localhost:8080/",
          "height": 255
        }
      },
      "source": [
        "train.head()"
      ],
      "execution_count": 17,
      "outputs": [
        {
          "output_type": "execute_result",
          "data": {
            "text/html": [
              "<div>\n",
              "<style scoped>\n",
              "    .dataframe tbody tr th:only-of-type {\n",
              "        vertical-align: middle;\n",
              "    }\n",
              "\n",
              "    .dataframe tbody tr th {\n",
              "        vertical-align: top;\n",
              "    }\n",
              "\n",
              "    .dataframe thead th {\n",
              "        text-align: right;\n",
              "    }\n",
              "</style>\n",
              "<table border=\"1\" class=\"dataframe\">\n",
              "  <thead>\n",
              "    <tr style=\"text-align: right;\">\n",
              "      <th></th>\n",
              "      <th>PassengerId</th>\n",
              "      <th>Survived</th>\n",
              "      <th>Pclass</th>\n",
              "      <th>Name</th>\n",
              "      <th>Sex</th>\n",
              "      <th>Age</th>\n",
              "      <th>SibSp</th>\n",
              "      <th>Parch</th>\n",
              "      <th>Ticket</th>\n",
              "      <th>Fare</th>\n",
              "      <th>Cabin</th>\n",
              "      <th>Embarked</th>\n",
              "    </tr>\n",
              "  </thead>\n",
              "  <tbody>\n",
              "    <tr>\n",
              "      <th>0</th>\n",
              "      <td>1</td>\n",
              "      <td>0</td>\n",
              "      <td>3</td>\n",
              "      <td>Braund, Mr. Owen Harris</td>\n",
              "      <td>male</td>\n",
              "      <td>22.0</td>\n",
              "      <td>1</td>\n",
              "      <td>0</td>\n",
              "      <td>A/5 21171</td>\n",
              "      <td>7.2500</td>\n",
              "      <td>NaN</td>\n",
              "      <td>S</td>\n",
              "    </tr>\n",
              "    <tr>\n",
              "      <th>1</th>\n",
              "      <td>2</td>\n",
              "      <td>1</td>\n",
              "      <td>1</td>\n",
              "      <td>Cumings, Mrs. John Bradley (Florence Briggs Th...</td>\n",
              "      <td>female</td>\n",
              "      <td>38.0</td>\n",
              "      <td>1</td>\n",
              "      <td>0</td>\n",
              "      <td>PC 17599</td>\n",
              "      <td>71.2833</td>\n",
              "      <td>C85</td>\n",
              "      <td>C</td>\n",
              "    </tr>\n",
              "    <tr>\n",
              "      <th>2</th>\n",
              "      <td>3</td>\n",
              "      <td>1</td>\n",
              "      <td>3</td>\n",
              "      <td>Heikkinen, Miss. Laina</td>\n",
              "      <td>female</td>\n",
              "      <td>26.0</td>\n",
              "      <td>0</td>\n",
              "      <td>0</td>\n",
              "      <td>STON/O2. 3101282</td>\n",
              "      <td>7.9250</td>\n",
              "      <td>NaN</td>\n",
              "      <td>S</td>\n",
              "    </tr>\n",
              "    <tr>\n",
              "      <th>3</th>\n",
              "      <td>4</td>\n",
              "      <td>1</td>\n",
              "      <td>1</td>\n",
              "      <td>Futrelle, Mrs. Jacques Heath (Lily May Peel)</td>\n",
              "      <td>female</td>\n",
              "      <td>35.0</td>\n",
              "      <td>1</td>\n",
              "      <td>0</td>\n",
              "      <td>113803</td>\n",
              "      <td>53.1000</td>\n",
              "      <td>C123</td>\n",
              "      <td>S</td>\n",
              "    </tr>\n",
              "    <tr>\n",
              "      <th>4</th>\n",
              "      <td>5</td>\n",
              "      <td>0</td>\n",
              "      <td>3</td>\n",
              "      <td>Allen, Mr. William Henry</td>\n",
              "      <td>male</td>\n",
              "      <td>35.0</td>\n",
              "      <td>0</td>\n",
              "      <td>0</td>\n",
              "      <td>373450</td>\n",
              "      <td>8.0500</td>\n",
              "      <td>NaN</td>\n",
              "      <td>S</td>\n",
              "    </tr>\n",
              "  </tbody>\n",
              "</table>\n",
              "</div>"
            ],
            "text/plain": [
              "   PassengerId  Survived  Pclass  ...     Fare Cabin  Embarked\n",
              "0            1         0       3  ...   7.2500   NaN         S\n",
              "1            2         1       1  ...  71.2833   C85         C\n",
              "2            3         1       3  ...   7.9250   NaN         S\n",
              "3            4         1       1  ...  53.1000  C123         S\n",
              "4            5         0       3  ...   8.0500   NaN         S\n",
              "\n",
              "[5 rows x 12 columns]"
            ]
          },
          "metadata": {
            "tags": []
          },
          "execution_count": 17
        }
      ]
    },
    {
      "cell_type": "markdown",
      "metadata": {
        "id": "N8pzl444ZHRw",
        "colab_type": "text"
      },
      "source": [
        "#### 이름\n",
        "- 이름에서 데이터 추출\n",
        "- 정규식 사용"
      ]
    },
    {
      "cell_type": "code",
      "metadata": {
        "id": "oIxwmUYRZHX7",
        "colab_type": "code",
        "outputId": "8877d60f-eb68-4812-eb29-c14bd6c5ddac",
        "colab": {
          "base_uri": "https://localhost:8080/",
          "height": 34
        }
      },
      "source": [
        "train_test_data = [train, test]\n",
        "type(train_test_data)"
      ],
      "execution_count": 18,
      "outputs": [
        {
          "output_type": "execute_result",
          "data": {
            "text/plain": [
              "list"
            ]
          },
          "metadata": {
            "tags": []
          },
          "execution_count": 18
        }
      ]
    },
    {
      "cell_type": "code",
      "metadata": {
        "id": "8UPwq4V5ZHeF",
        "colab_type": "code",
        "colab": {}
      },
      "source": [
        "for dataset in train_test_data:\n",
        "    dataset['Title'] = dataset['Name'].str.extract(' ([A-Za-z]+)\\.', expand = False) # 이름에서 Mr, Miss 추출"
      ],
      "execution_count": 0,
      "outputs": []
    },
    {
      "cell_type": "code",
      "metadata": {
        "id": "FDZq8ZsxZHlE",
        "colab_type": "code",
        "outputId": "2ecccd1a-2dfc-4ede-813d-a34b2eb0f58c",
        "colab": {
          "base_uri": "https://localhost:8080/",
          "height": 272
        }
      },
      "source": [
        "train.head()"
      ],
      "execution_count": 20,
      "outputs": [
        {
          "output_type": "execute_result",
          "data": {
            "text/html": [
              "<div>\n",
              "<style scoped>\n",
              "    .dataframe tbody tr th:only-of-type {\n",
              "        vertical-align: middle;\n",
              "    }\n",
              "\n",
              "    .dataframe tbody tr th {\n",
              "        vertical-align: top;\n",
              "    }\n",
              "\n",
              "    .dataframe thead th {\n",
              "        text-align: right;\n",
              "    }\n",
              "</style>\n",
              "<table border=\"1\" class=\"dataframe\">\n",
              "  <thead>\n",
              "    <tr style=\"text-align: right;\">\n",
              "      <th></th>\n",
              "      <th>PassengerId</th>\n",
              "      <th>Survived</th>\n",
              "      <th>Pclass</th>\n",
              "      <th>Name</th>\n",
              "      <th>Sex</th>\n",
              "      <th>Age</th>\n",
              "      <th>SibSp</th>\n",
              "      <th>Parch</th>\n",
              "      <th>Ticket</th>\n",
              "      <th>Fare</th>\n",
              "      <th>Cabin</th>\n",
              "      <th>Embarked</th>\n",
              "      <th>Title</th>\n",
              "    </tr>\n",
              "  </thead>\n",
              "  <tbody>\n",
              "    <tr>\n",
              "      <th>0</th>\n",
              "      <td>1</td>\n",
              "      <td>0</td>\n",
              "      <td>3</td>\n",
              "      <td>Braund, Mr. Owen Harris</td>\n",
              "      <td>male</td>\n",
              "      <td>22.0</td>\n",
              "      <td>1</td>\n",
              "      <td>0</td>\n",
              "      <td>A/5 21171</td>\n",
              "      <td>7.2500</td>\n",
              "      <td>NaN</td>\n",
              "      <td>S</td>\n",
              "      <td>Mr</td>\n",
              "    </tr>\n",
              "    <tr>\n",
              "      <th>1</th>\n",
              "      <td>2</td>\n",
              "      <td>1</td>\n",
              "      <td>1</td>\n",
              "      <td>Cumings, Mrs. John Bradley (Florence Briggs Th...</td>\n",
              "      <td>female</td>\n",
              "      <td>38.0</td>\n",
              "      <td>1</td>\n",
              "      <td>0</td>\n",
              "      <td>PC 17599</td>\n",
              "      <td>71.2833</td>\n",
              "      <td>C85</td>\n",
              "      <td>C</td>\n",
              "      <td>Mrs</td>\n",
              "    </tr>\n",
              "    <tr>\n",
              "      <th>2</th>\n",
              "      <td>3</td>\n",
              "      <td>1</td>\n",
              "      <td>3</td>\n",
              "      <td>Heikkinen, Miss. Laina</td>\n",
              "      <td>female</td>\n",
              "      <td>26.0</td>\n",
              "      <td>0</td>\n",
              "      <td>0</td>\n",
              "      <td>STON/O2. 3101282</td>\n",
              "      <td>7.9250</td>\n",
              "      <td>NaN</td>\n",
              "      <td>S</td>\n",
              "      <td>Miss</td>\n",
              "    </tr>\n",
              "    <tr>\n",
              "      <th>3</th>\n",
              "      <td>4</td>\n",
              "      <td>1</td>\n",
              "      <td>1</td>\n",
              "      <td>Futrelle, Mrs. Jacques Heath (Lily May Peel)</td>\n",
              "      <td>female</td>\n",
              "      <td>35.0</td>\n",
              "      <td>1</td>\n",
              "      <td>0</td>\n",
              "      <td>113803</td>\n",
              "      <td>53.1000</td>\n",
              "      <td>C123</td>\n",
              "      <td>S</td>\n",
              "      <td>Mrs</td>\n",
              "    </tr>\n",
              "    <tr>\n",
              "      <th>4</th>\n",
              "      <td>5</td>\n",
              "      <td>0</td>\n",
              "      <td>3</td>\n",
              "      <td>Allen, Mr. William Henry</td>\n",
              "      <td>male</td>\n",
              "      <td>35.0</td>\n",
              "      <td>0</td>\n",
              "      <td>0</td>\n",
              "      <td>373450</td>\n",
              "      <td>8.0500</td>\n",
              "      <td>NaN</td>\n",
              "      <td>S</td>\n",
              "      <td>Mr</td>\n",
              "    </tr>\n",
              "  </tbody>\n",
              "</table>\n",
              "</div>"
            ],
            "text/plain": [
              "   PassengerId  Survived  Pclass  ... Cabin Embarked  Title\n",
              "0            1         0       3  ...   NaN        S     Mr\n",
              "1            2         1       1  ...   C85        C    Mrs\n",
              "2            3         1       3  ...   NaN        S   Miss\n",
              "3            4         1       1  ...  C123        S    Mrs\n",
              "4            5         0       3  ...   NaN        S     Mr\n",
              "\n",
              "[5 rows x 13 columns]"
            ]
          },
          "metadata": {
            "tags": []
          },
          "execution_count": 20
        }
      ]
    },
    {
      "cell_type": "code",
      "metadata": {
        "id": "-TKfpJSh_c_m",
        "colab_type": "code",
        "outputId": "5a2f6550-c210-47f1-9576-451ef34c131b",
        "colab": {
          "base_uri": "https://localhost:8080/",
          "height": 323
        }
      },
      "source": [
        "train['Title'].value_counts()"
      ],
      "execution_count": 21,
      "outputs": [
        {
          "output_type": "execute_result",
          "data": {
            "text/plain": [
              "Mr          517\n",
              "Miss        182\n",
              "Mrs         125\n",
              "Master       40\n",
              "Dr            7\n",
              "Rev           6\n",
              "Mlle          2\n",
              "Col           2\n",
              "Major         2\n",
              "Sir           1\n",
              "Countess      1\n",
              "Lady          1\n",
              "Don           1\n",
              "Mme           1\n",
              "Jonkheer      1\n",
              "Ms            1\n",
              "Capt          1\n",
              "Name: Title, dtype: int64"
            ]
          },
          "metadata": {
            "tags": []
          },
          "execution_count": 21
        }
      ]
    },
    {
      "cell_type": "code",
      "metadata": {
        "id": "gGSejSOaZHs0",
        "colab_type": "code",
        "outputId": "128bef47-8fd4-4afc-e90b-eeda99d8c2f4",
        "colab": {
          "base_uri": "https://localhost:8080/",
          "height": 187
        }
      },
      "source": [
        "test['Title'].value_counts()"
      ],
      "execution_count": 22,
      "outputs": [
        {
          "output_type": "execute_result",
          "data": {
            "text/plain": [
              "Mr        240\n",
              "Miss       78\n",
              "Mrs        72\n",
              "Master     21\n",
              "Rev         2\n",
              "Col         2\n",
              "Dr          1\n",
              "Dona        1\n",
              "Ms          1\n",
              "Name: Title, dtype: int64"
            ]
          },
          "metadata": {
            "tags": []
          },
          "execution_count": 22
        }
      ]
    },
    {
      "cell_type": "markdown",
      "metadata": {
        "id": "B_fq-2C7_4Uq",
        "colab_type": "text"
      },
      "source": [
        "##### 타이틀 - 코드로 맵핑하기\n",
        "- Mr : 0\n",
        "- Miss : 1\n",
        "- Mrs : 2\n",
        "- Others : 3"
      ]
    },
    {
      "cell_type": "code",
      "metadata": {
        "id": "9zHJyWoAAtVc",
        "colab_type": "code",
        "outputId": "cd4c398d-64a6-4910-a0b8-849a99aeea7b",
        "colab": {
          "base_uri": "https://localhost:8080/",
          "height": 68
        }
      },
      "source": [
        "train['Title'].unique()"
      ],
      "execution_count": 23,
      "outputs": [
        {
          "output_type": "execute_result",
          "data": {
            "text/plain": [
              "array(['Mr', 'Mrs', 'Miss', 'Master', 'Don', 'Rev', 'Dr', 'Mme', 'Ms',\n",
              "       'Major', 'Lady', 'Sir', 'Mlle', 'Col', 'Capt', 'Countess',\n",
              "       'Jonkheer'], dtype=object)"
            ]
          },
          "metadata": {
            "tags": []
          },
          "execution_count": 23
        }
      ]
    },
    {
      "cell_type": "code",
      "metadata": {
        "id": "TECPzVEzBLf0",
        "colab_type": "code",
        "outputId": "dd8412d4-e366-40ca-85d6-2390bd5b1d8b",
        "colab": {
          "base_uri": "https://localhost:8080/",
          "height": 51
        }
      },
      "source": [
        "test['Title'].unique()"
      ],
      "execution_count": 24,
      "outputs": [
        {
          "output_type": "execute_result",
          "data": {
            "text/plain": [
              "array(['Mr', 'Mrs', 'Miss', 'Master', 'Ms', 'Col', 'Rev', 'Dr', 'Dona'],\n",
              "      dtype=object)"
            ]
          },
          "metadata": {
            "tags": []
          },
          "execution_count": 24
        }
      ]
    },
    {
      "cell_type": "code",
      "metadata": {
        "id": "0vYwLJfe_4pJ",
        "colab_type": "code",
        "colab": {}
      },
      "source": [
        "title_mapping = {\n",
        "    'Mr' : 0, 'Mrs' : 1, 'Miss' : 2, 'Master' : 3, 'Don' : 3, 'Rev' : 3, 'Dr' : 3, 'Mme' : 3, 'Ms' : 3,\n",
        "       'Major' : 3, 'Lady' : 3, 'Sir' : 3, 'Mlle' : 3, 'Col' : 3, 'Capt' : 3, 'Countess' : 3,\n",
        "       'Jonkheer' : 3, 'Rev' : 3, 'Dona' : 3\n",
        "}"
      ],
      "execution_count": 0,
      "outputs": []
    },
    {
      "cell_type": "markdown",
      "metadata": {
        "id": "loxr3wwD_4v6",
        "colab_type": "text"
      },
      "source": [
        "- uinque()를 이용해서 변수를 복사해서 입력하면 보다 쉬움."
      ]
    },
    {
      "cell_type": "code",
      "metadata": {
        "id": "CNF259q6_42C",
        "colab_type": "code",
        "colab": {}
      },
      "source": [
        "for dataset in train_test_data:\n",
        "    dataset['Title'] = dataset['Title'].map(title_mapping)  # 딕셔너리를 이용하여 데이터 일괄 변환"
      ],
      "execution_count": 0,
      "outputs": []
    },
    {
      "cell_type": "code",
      "metadata": {
        "id": "uGRu5Y2P_44I",
        "colab_type": "code",
        "outputId": "7b7a9388-b279-46ae-eb21-0c77c09cfc53",
        "colab": {
          "base_uri": "https://localhost:8080/",
          "height": 221
        }
      },
      "source": [
        "for dataset in train_test_data:\n",
        "    print(dataset['Title'].value_counts())\n",
        "    print()"
      ],
      "execution_count": 27,
      "outputs": [
        {
          "output_type": "stream",
          "text": [
            "0    517\n",
            "2    182\n",
            "1    125\n",
            "3     67\n",
            "Name: Title, dtype: int64\n",
            "\n",
            "0    240\n",
            "2     78\n",
            "1     72\n",
            "3     28\n",
            "Name: Title, dtype: int64\n",
            "\n"
          ],
          "name": "stdout"
        }
      ]
    },
    {
      "cell_type": "code",
      "metadata": {
        "id": "Q_dT3Hqg_5Dk",
        "colab_type": "code",
        "outputId": "f6aa6489-2062-487d-aa7f-0af836d95eba",
        "colab": {
          "base_uri": "https://localhost:8080/",
          "height": 361
        }
      },
      "source": [
        "bar_chart('Title')"
      ],
      "execution_count": 28,
      "outputs": [
        {
          "output_type": "display_data",
          "data": {
            "image/png": "[encoded data removed]",
            "text/plain": [
              "<Figure size 720x360 with 1 Axes>"
            ]
          },
          "metadata": {
            "tags": []
          }
        }
      ]
    },
    {
      "cell_type": "markdown",
      "metadata": {
        "id": "d5gtolWY_5J4",
        "colab_type": "text"
      },
      "source": [
        "- Miss의 생존률이 높음.\n",
        "- Mr의 생존률이 낮음"
      ]
    },
    {
      "cell_type": "code",
      "metadata": {
        "id": "B3jDRdqg_5Vj",
        "colab_type": "code",
        "colab": {}
      },
      "source": [
        "for dataset in train_test_data:\n",
        "    dataset.drop('Name', axis = 1, inplace = True)"
      ],
      "execution_count": 0,
      "outputs": []
    },
    {
      "cell_type": "markdown",
      "metadata": {
        "id": "U7LMAmIfEWM5",
        "colab_type": "text"
      },
      "source": [
        "- 반복문을 이용해서 이름 컬럼을 삭제함."
      ]
    },
    {
      "cell_type": "code",
      "metadata": {
        "id": "X1zCPx6Y_5c4",
        "colab_type": "code",
        "outputId": "775ebd99-dea7-45d2-e750-2c3b51d2ee16",
        "colab": {
          "base_uri": "https://localhost:8080/",
          "height": 204
        }
      },
      "source": [
        "train.head()"
      ],
      "execution_count": 30,
      "outputs": [
        {
          "output_type": "execute_result",
          "data": {
            "text/html": [
              "<div>\n",
              "<style scoped>\n",
              "    .dataframe tbody tr th:only-of-type {\n",
              "        vertical-align: middle;\n",
              "    }\n",
              "\n",
              "    .dataframe tbody tr th {\n",
              "        vertical-align: top;\n",
              "    }\n",
              "\n",
              "    .dataframe thead th {\n",
              "        text-align: right;\n",
              "    }\n",
              "</style>\n",
              "<table border=\"1\" class=\"dataframe\">\n",
              "  <thead>\n",
              "    <tr style=\"text-align: right;\">\n",
              "      <th></th>\n",
              "      <th>PassengerId</th>\n",
              "      <th>Survived</th>\n",
              "      <th>Pclass</th>\n",
              "      <th>Sex</th>\n",
              "      <th>Age</th>\n",
              "      <th>SibSp</th>\n",
              "      <th>Parch</th>\n",
              "      <th>Ticket</th>\n",
              "      <th>Fare</th>\n",
              "      <th>Cabin</th>\n",
              "      <th>Embarked</th>\n",
              "      <th>Title</th>\n",
              "    </tr>\n",
              "  </thead>\n",
              "  <tbody>\n",
              "    <tr>\n",
              "      <th>0</th>\n",
              "      <td>1</td>\n",
              "      <td>0</td>\n",
              "      <td>3</td>\n",
              "      <td>male</td>\n",
              "      <td>22.0</td>\n",
              "      <td>1</td>\n",
              "      <td>0</td>\n",
              "      <td>A/5 21171</td>\n",
              "      <td>7.2500</td>\n",
              "      <td>NaN</td>\n",
              "      <td>S</td>\n",
              "      <td>0</td>\n",
              "    </tr>\n",
              "    <tr>\n",
              "      <th>1</th>\n",
              "      <td>2</td>\n",
              "      <td>1</td>\n",
              "      <td>1</td>\n",
              "      <td>female</td>\n",
              "      <td>38.0</td>\n",
              "      <td>1</td>\n",
              "      <td>0</td>\n",
              "      <td>PC 17599</td>\n",
              "      <td>71.2833</td>\n",
              "      <td>C85</td>\n",
              "      <td>C</td>\n",
              "      <td>1</td>\n",
              "    </tr>\n",
              "    <tr>\n",
              "      <th>2</th>\n",
              "      <td>3</td>\n",
              "      <td>1</td>\n",
              "      <td>3</td>\n",
              "      <td>female</td>\n",
              "      <td>26.0</td>\n",
              "      <td>0</td>\n",
              "      <td>0</td>\n",
              "      <td>STON/O2. 3101282</td>\n",
              "      <td>7.9250</td>\n",
              "      <td>NaN</td>\n",
              "      <td>S</td>\n",
              "      <td>2</td>\n",
              "    </tr>\n",
              "    <tr>\n",
              "      <th>3</th>\n",
              "      <td>4</td>\n",
              "      <td>1</td>\n",
              "      <td>1</td>\n",
              "      <td>female</td>\n",
              "      <td>35.0</td>\n",
              "      <td>1</td>\n",
              "      <td>0</td>\n",
              "      <td>113803</td>\n",
              "      <td>53.1000</td>\n",
              "      <td>C123</td>\n",
              "      <td>S</td>\n",
              "      <td>1</td>\n",
              "    </tr>\n",
              "    <tr>\n",
              "      <th>4</th>\n",
              "      <td>5</td>\n",
              "      <td>0</td>\n",
              "      <td>3</td>\n",
              "      <td>male</td>\n",
              "      <td>35.0</td>\n",
              "      <td>0</td>\n",
              "      <td>0</td>\n",
              "      <td>373450</td>\n",
              "      <td>8.0500</td>\n",
              "      <td>NaN</td>\n",
              "      <td>S</td>\n",
              "      <td>0</td>\n",
              "    </tr>\n",
              "  </tbody>\n",
              "</table>\n",
              "</div>"
            ],
            "text/plain": [
              "   PassengerId  Survived  Pclass     Sex  ...     Fare  Cabin  Embarked Title\n",
              "0            1         0       3    male  ...   7.2500    NaN         S     0\n",
              "1            2         1       1  female  ...  71.2833    C85         C     1\n",
              "2            3         1       3  female  ...   7.9250    NaN         S     2\n",
              "3            4         1       1  female  ...  53.1000   C123         S     1\n",
              "4            5         0       3    male  ...   8.0500    NaN         S     0\n",
              "\n",
              "[5 rows x 12 columns]"
            ]
          },
          "metadata": {
            "tags": []
          },
          "execution_count": 30
        }
      ]
    },
    {
      "cell_type": "markdown",
      "metadata": {
        "id": "bh3BuSDR_5fu",
        "colab_type": "text"
      },
      "source": [
        "#### 성별 \n",
        "- male : 0\n",
        "- femaile : 1"
      ]
    },
    {
      "cell_type": "code",
      "metadata": {
        "id": "USE1D2EH_5rb",
        "colab_type": "code",
        "colab": {}
      },
      "source": [
        "sex_mapping = {\n",
        "    \"male\" : 0,\n",
        "    \"female\" : 1\n",
        "}"
      ],
      "execution_count": 0,
      "outputs": []
    },
    {
      "cell_type": "code",
      "metadata": {
        "id": "Txe8y33vEhXA",
        "colab_type": "code",
        "colab": {}
      },
      "source": [
        "for dataset in train_test_data:\n",
        "    dataset['Sex'] = dataset['Sex'].map(sex_mapping)"
      ],
      "execution_count": 0,
      "outputs": []
    },
    {
      "cell_type": "code",
      "metadata": {
        "id": "A30shPGEEhf5",
        "colab_type": "code",
        "outputId": "2c117050-b010-4748-e0b6-cc62ee4c06da",
        "colab": {
          "base_uri": "https://localhost:8080/",
          "height": 361
        }
      },
      "source": [
        "bar_chart('Sex')"
      ],
      "execution_count": 33,
      "outputs": [
        {
          "output_type": "display_data",
          "data": {
            "image/png": "[encoded data removed]",
            "text/plain": [
              "<Figure size 720x360 with 1 Axes>"
            ]
          },
          "metadata": {
            "tags": []
          }
        }
      ]
    },
    {
      "cell_type": "markdown",
      "metadata": {
        "id": "c0Qo8Gk6Ehoy",
        "colab_type": "text"
      },
      "source": [
        "#### 나이 "
      ]
    },
    {
      "cell_type": "markdown",
      "metadata": {
        "id": "dFhDR6tjEhxR",
        "colab_type": "text"
      },
      "source": [
        "##### 결측값 처리하기"
      ]
    },
    {
      "cell_type": "code",
      "metadata": {
        "id": "RejBY0HQEh66",
        "colab_type": "code",
        "outputId": "f26f0513-1bea-4c0c-f08d-57dc2402396f",
        "colab": {
          "base_uri": "https://localhost:8080/",
          "height": 419
        }
      },
      "source": [
        "train.head(100)"
      ],
      "execution_count": 34,
      "outputs": [
        {
          "output_type": "execute_result",
          "data": {
            "text/html": [
              "<div>\n",
              "<style scoped>\n",
              "    .dataframe tbody tr th:only-of-type {\n",
              "        vertical-align: middle;\n",
              "    }\n",
              "\n",
              "    .dataframe tbody tr th {\n",
              "        vertical-align: top;\n",
              "    }\n",
              "\n",
              "    .dataframe thead th {\n",
              "        text-align: right;\n",
              "    }\n",
              "</style>\n",
              "<table border=\"1\" class=\"dataframe\">\n",
              "  <thead>\n",
              "    <tr style=\"text-align: right;\">\n",
              "      <th></th>\n",
              "      <th>PassengerId</th>\n",
              "      <th>Survived</th>\n",
              "      <th>Pclass</th>\n",
              "      <th>Sex</th>\n",
              "      <th>Age</th>\n",
              "      <th>SibSp</th>\n",
              "      <th>Parch</th>\n",
              "      <th>Ticket</th>\n",
              "      <th>Fare</th>\n",
              "      <th>Cabin</th>\n",
              "      <th>Embarked</th>\n",
              "      <th>Title</th>\n",
              "    </tr>\n",
              "  </thead>\n",
              "  <tbody>\n",
              "    <tr>\n",
              "      <th>0</th>\n",
              "      <td>1</td>\n",
              "      <td>0</td>\n",
              "      <td>3</td>\n",
              "      <td>0</td>\n",
              "      <td>22.0</td>\n",
              "      <td>1</td>\n",
              "      <td>0</td>\n",
              "      <td>A/5 21171</td>\n",
              "      <td>7.2500</td>\n",
              "      <td>NaN</td>\n",
              "      <td>S</td>\n",
              "      <td>0</td>\n",
              "    </tr>\n",
              "    <tr>\n",
              "      <th>1</th>\n",
              "      <td>2</td>\n",
              "      <td>1</td>\n",
              "      <td>1</td>\n",
              "      <td>1</td>\n",
              "      <td>38.0</td>\n",
              "      <td>1</td>\n",
              "      <td>0</td>\n",
              "      <td>PC 17599</td>\n",
              "      <td>71.2833</td>\n",
              "      <td>C85</td>\n",
              "      <td>C</td>\n",
              "      <td>1</td>\n",
              "    </tr>\n",
              "    <tr>\n",
              "      <th>2</th>\n",
              "      <td>3</td>\n",
              "      <td>1</td>\n",
              "      <td>3</td>\n",
              "      <td>1</td>\n",
              "      <td>26.0</td>\n",
              "      <td>0</td>\n",
              "      <td>0</td>\n",
              "      <td>STON/O2. 3101282</td>\n",
              "      <td>7.9250</td>\n",
              "      <td>NaN</td>\n",
              "      <td>S</td>\n",
              "      <td>2</td>\n",
              "    </tr>\n",
              "    <tr>\n",
              "      <th>3</th>\n",
              "      <td>4</td>\n",
              "      <td>1</td>\n",
              "      <td>1</td>\n",
              "      <td>1</td>\n",
              "      <td>35.0</td>\n",
              "      <td>1</td>\n",
              "      <td>0</td>\n",
              "      <td>113803</td>\n",
              "      <td>53.1000</td>\n",
              "      <td>C123</td>\n",
              "      <td>S</td>\n",
              "      <td>1</td>\n",
              "    </tr>\n",
              "    <tr>\n",
              "      <th>4</th>\n",
              "      <td>5</td>\n",
              "      <td>0</td>\n",
              "      <td>3</td>\n",
              "      <td>0</td>\n",
              "      <td>35.0</td>\n",
              "      <td>0</td>\n",
              "      <td>0</td>\n",
              "      <td>373450</td>\n",
              "      <td>8.0500</td>\n",
              "      <td>NaN</td>\n",
              "      <td>S</td>\n",
              "      <td>0</td>\n",
              "    </tr>\n",
              "    <tr>\n",
              "      <th>...</th>\n",
              "      <td>...</td>\n",
              "      <td>...</td>\n",
              "      <td>...</td>\n",
              "      <td>...</td>\n",
              "      <td>...</td>\n",
              "      <td>...</td>\n",
              "      <td>...</td>\n",
              "      <td>...</td>\n",
              "      <td>...</td>\n",
              "      <td>...</td>\n",
              "      <td>...</td>\n",
              "      <td>...</td>\n",
              "    </tr>\n",
              "    <tr>\n",
              "      <th>95</th>\n",
              "      <td>96</td>\n",
              "      <td>0</td>\n",
              "      <td>3</td>\n",
              "      <td>0</td>\n",
              "      <td>NaN</td>\n",
              "      <td>0</td>\n",
              "      <td>0</td>\n",
              "      <td>374910</td>\n",
              "      <td>8.0500</td>\n",
              "      <td>NaN</td>\n",
              "      <td>S</td>\n",
              "      <td>0</td>\n",
              "    </tr>\n",
              "    <tr>\n",
              "      <th>96</th>\n",
              "      <td>97</td>\n",
              "      <td>0</td>\n",
              "      <td>1</td>\n",
              "      <td>0</td>\n",
              "      <td>71.0</td>\n",
              "      <td>0</td>\n",
              "      <td>0</td>\n",
              "      <td>PC 17754</td>\n",
              "      <td>34.6542</td>\n",
              "      <td>A5</td>\n",
              "      <td>C</td>\n",
              "      <td>0</td>\n",
              "    </tr>\n",
              "    <tr>\n",
              "      <th>97</th>\n",
              "      <td>98</td>\n",
              "      <td>1</td>\n",
              "      <td>1</td>\n",
              "      <td>0</td>\n",
              "      <td>23.0</td>\n",
              "      <td>0</td>\n",
              "      <td>1</td>\n",
              "      <td>PC 17759</td>\n",
              "      <td>63.3583</td>\n",
              "      <td>D10 D12</td>\n",
              "      <td>C</td>\n",
              "      <td>0</td>\n",
              "    </tr>\n",
              "    <tr>\n",
              "      <th>98</th>\n",
              "      <td>99</td>\n",
              "      <td>1</td>\n",
              "      <td>2</td>\n",
              "      <td>1</td>\n",
              "      <td>34.0</td>\n",
              "      <td>0</td>\n",
              "      <td>1</td>\n",
              "      <td>231919</td>\n",
              "      <td>23.0000</td>\n",
              "      <td>NaN</td>\n",
              "      <td>S</td>\n",
              "      <td>1</td>\n",
              "    </tr>\n",
              "    <tr>\n",
              "      <th>99</th>\n",
              "      <td>100</td>\n",
              "      <td>0</td>\n",
              "      <td>2</td>\n",
              "      <td>0</td>\n",
              "      <td>34.0</td>\n",
              "      <td>1</td>\n",
              "      <td>0</td>\n",
              "      <td>244367</td>\n",
              "      <td>26.0000</td>\n",
              "      <td>NaN</td>\n",
              "      <td>S</td>\n",
              "      <td>0</td>\n",
              "    </tr>\n",
              "  </tbody>\n",
              "</table>\n",
              "<p>100 rows × 12 columns</p>\n",
              "</div>"
            ],
            "text/plain": [
              "    PassengerId  Survived  Pclass  Sex  ...     Fare    Cabin  Embarked Title\n",
              "0             1         0       3    0  ...   7.2500      NaN         S     0\n",
              "1             2         1       1    1  ...  71.2833      C85         C     1\n",
              "2             3         1       3    1  ...   7.9250      NaN         S     2\n",
              "3             4         1       1    1  ...  53.1000     C123         S     1\n",
              "4             5         0       3    0  ...   8.0500      NaN         S     0\n",
              "..          ...       ...     ...  ...  ...      ...      ...       ...   ...\n",
              "95           96         0       3    0  ...   8.0500      NaN         S     0\n",
              "96           97         0       1    0  ...  34.6542       A5         C     0\n",
              "97           98         1       1    0  ...  63.3583  D10 D12         C     0\n",
              "98           99         1       2    1  ...  23.0000      NaN         S     1\n",
              "99          100         0       2    0  ...  26.0000      NaN         S     0\n",
              "\n",
              "[100 rows x 12 columns]"
            ]
          },
          "metadata": {
            "tags": []
          },
          "execution_count": 34
        }
      ]
    },
    {
      "cell_type": "code",
      "metadata": {
        "id": "zx4Fzl5sEh8o",
        "colab_type": "code",
        "outputId": "503ae6d6-f0ba-44de-d196-e4fc0ce2c92c",
        "colab": {
          "base_uri": "https://localhost:8080/",
          "height": 221
        }
      },
      "source": [
        "train.groupby(\"Title\")['Age'].transform('median')"
      ],
      "execution_count": 35,
      "outputs": [
        {
          "output_type": "execute_result",
          "data": {
            "text/plain": [
              "0      30.0\n",
              "1      35.0\n",
              "2      21.0\n",
              "3      35.0\n",
              "4      30.0\n",
              "       ... \n",
              "886     9.0\n",
              "887    21.0\n",
              "888    21.0\n",
              "889    30.0\n",
              "890    30.0\n",
              "Name: Age, Length: 891, dtype: float64"
            ]
          },
          "metadata": {
            "tags": []
          },
          "execution_count": 35
        }
      ]
    },
    {
      "cell_type": "markdown",
      "metadata": {
        "id": "XC56OEf0EiKm",
        "colab_type": "text"
      },
      "source": [
        "- 각 타이틀의 나이를 평균을 계산함."
      ]
    },
    {
      "cell_type": "code",
      "metadata": {
        "id": "mM-9lqSJEiTt",
        "colab_type": "code",
        "colab": {}
      },
      "source": [
        "for dataset in train_test_data:\n",
        "    dataset['Age'].fillna(dataset.groupby('Title')['Age'].transform('median'), inplace = True)"
      ],
      "execution_count": 0,
      "outputs": []
    },
    {
      "cell_type": "markdown",
      "metadata": {
        "id": "LD1_nYFaKac_",
        "colab_type": "text"
      },
      "source": [
        "- 데이터 셋의 나이칼럼의 결측값을 타이틀의 분류하여 평균을 구하여 입력함. \n",
        "- 전체 나이 평균을 입력하는 것보다 정확함. "
      ]
    },
    {
      "cell_type": "code",
      "metadata": {
        "id": "u-EVQTcNEict",
        "colab_type": "code",
        "outputId": "2dd58b32-c3ed-4b78-de40-0eace69eb194",
        "colab": {
          "base_uri": "https://localhost:8080/",
          "height": 979
        }
      },
      "source": [
        "train.head(30)"
      ],
      "execution_count": 37,
      "outputs": [
        {
          "output_type": "execute_result",
          "data": {
            "text/html": [
              "<div>\n",
              "<style scoped>\n",
              "    .dataframe tbody tr th:only-of-type {\n",
              "        vertical-align: middle;\n",
              "    }\n",
              "\n",
              "    .dataframe tbody tr th {\n",
              "        vertical-align: top;\n",
              "    }\n",
              "\n",
              "    .dataframe thead th {\n",
              "        text-align: right;\n",
              "    }\n",
              "</style>\n",
              "<table border=\"1\" class=\"dataframe\">\n",
              "  <thead>\n",
              "    <tr style=\"text-align: right;\">\n",
              "      <th></th>\n",
              "      <th>PassengerId</th>\n",
              "      <th>Survived</th>\n",
              "      <th>Pclass</th>\n",
              "      <th>Sex</th>\n",
              "      <th>Age</th>\n",
              "      <th>SibSp</th>\n",
              "      <th>Parch</th>\n",
              "      <th>Ticket</th>\n",
              "      <th>Fare</th>\n",
              "      <th>Cabin</th>\n",
              "      <th>Embarked</th>\n",
              "      <th>Title</th>\n",
              "    </tr>\n",
              "  </thead>\n",
              "  <tbody>\n",
              "    <tr>\n",
              "      <th>0</th>\n",
              "      <td>1</td>\n",
              "      <td>0</td>\n",
              "      <td>3</td>\n",
              "      <td>0</td>\n",
              "      <td>22.0</td>\n",
              "      <td>1</td>\n",
              "      <td>0</td>\n",
              "      <td>A/5 21171</td>\n",
              "      <td>7.2500</td>\n",
              "      <td>NaN</td>\n",
              "      <td>S</td>\n",
              "      <td>0</td>\n",
              "    </tr>\n",
              "    <tr>\n",
              "      <th>1</th>\n",
              "      <td>2</td>\n",
              "      <td>1</td>\n",
              "      <td>1</td>\n",
              "      <td>1</td>\n",
              "      <td>38.0</td>\n",
              "      <td>1</td>\n",
              "      <td>0</td>\n",
              "      <td>PC 17599</td>\n",
              "      <td>71.2833</td>\n",
              "      <td>C85</td>\n",
              "      <td>C</td>\n",
              "      <td>1</td>\n",
              "    </tr>\n",
              "    <tr>\n",
              "      <th>2</th>\n",
              "      <td>3</td>\n",
              "      <td>1</td>\n",
              "      <td>3</td>\n",
              "      <td>1</td>\n",
              "      <td>26.0</td>\n",
              "      <td>0</td>\n",
              "      <td>0</td>\n",
              "      <td>STON/O2. 3101282</td>\n",
              "      <td>7.9250</td>\n",
              "      <td>NaN</td>\n",
              "      <td>S</td>\n",
              "      <td>2</td>\n",
              "    </tr>\n",
              "    <tr>\n",
              "      <th>3</th>\n",
              "      <td>4</td>\n",
              "      <td>1</td>\n",
              "      <td>1</td>\n",
              "      <td>1</td>\n",
              "      <td>35.0</td>\n",
              "      <td>1</td>\n",
              "      <td>0</td>\n",
              "      <td>113803</td>\n",
              "      <td>53.1000</td>\n",
              "      <td>C123</td>\n",
              "      <td>S</td>\n",
              "      <td>1</td>\n",
              "    </tr>\n",
              "    <tr>\n",
              "      <th>4</th>\n",
              "      <td>5</td>\n",
              "      <td>0</td>\n",
              "      <td>3</td>\n",
              "      <td>0</td>\n",
              "      <td>35.0</td>\n",
              "      <td>0</td>\n",
              "      <td>0</td>\n",
              "      <td>373450</td>\n",
              "      <td>8.0500</td>\n",
              "      <td>NaN</td>\n",
              "      <td>S</td>\n",
              "      <td>0</td>\n",
              "    </tr>\n",
              "    <tr>\n",
              "      <th>5</th>\n",
              "      <td>6</td>\n",
              "      <td>0</td>\n",
              "      <td>3</td>\n",
              "      <td>0</td>\n",
              "      <td>30.0</td>\n",
              "      <td>0</td>\n",
              "      <td>0</td>\n",
              "      <td>330877</td>\n",
              "      <td>8.4583</td>\n",
              "      <td>NaN</td>\n",
              "      <td>Q</td>\n",
              "      <td>0</td>\n",
              "    </tr>\n",
              "    <tr>\n",
              "      <th>6</th>\n",
              "      <td>7</td>\n",
              "      <td>0</td>\n",
              "      <td>1</td>\n",
              "      <td>0</td>\n",
              "      <td>54.0</td>\n",
              "      <td>0</td>\n",
              "      <td>0</td>\n",
              "      <td>17463</td>\n",
              "      <td>51.8625</td>\n",
              "      <td>E46</td>\n",
              "      <td>S</td>\n",
              "      <td>0</td>\n",
              "    </tr>\n",
              "    <tr>\n",
              "      <th>7</th>\n",
              "      <td>8</td>\n",
              "      <td>0</td>\n",
              "      <td>3</td>\n",
              "      <td>0</td>\n",
              "      <td>2.0</td>\n",
              "      <td>3</td>\n",
              "      <td>1</td>\n",
              "      <td>349909</td>\n",
              "      <td>21.0750</td>\n",
              "      <td>NaN</td>\n",
              "      <td>S</td>\n",
              "      <td>3</td>\n",
              "    </tr>\n",
              "    <tr>\n",
              "      <th>8</th>\n",
              "      <td>9</td>\n",
              "      <td>1</td>\n",
              "      <td>3</td>\n",
              "      <td>1</td>\n",
              "      <td>27.0</td>\n",
              "      <td>0</td>\n",
              "      <td>2</td>\n",
              "      <td>347742</td>\n",
              "      <td>11.1333</td>\n",
              "      <td>NaN</td>\n",
              "      <td>S</td>\n",
              "      <td>1</td>\n",
              "    </tr>\n",
              "    <tr>\n",
              "      <th>9</th>\n",
              "      <td>10</td>\n",
              "      <td>1</td>\n",
              "      <td>2</td>\n",
              "      <td>1</td>\n",
              "      <td>14.0</td>\n",
              "      <td>1</td>\n",
              "      <td>0</td>\n",
              "      <td>237736</td>\n",
              "      <td>30.0708</td>\n",
              "      <td>NaN</td>\n",
              "      <td>C</td>\n",
              "      <td>1</td>\n",
              "    </tr>\n",
              "    <tr>\n",
              "      <th>10</th>\n",
              "      <td>11</td>\n",
              "      <td>1</td>\n",
              "      <td>3</td>\n",
              "      <td>1</td>\n",
              "      <td>4.0</td>\n",
              "      <td>1</td>\n",
              "      <td>1</td>\n",
              "      <td>PP 9549</td>\n",
              "      <td>16.7000</td>\n",
              "      <td>G6</td>\n",
              "      <td>S</td>\n",
              "      <td>2</td>\n",
              "    </tr>\n",
              "    <tr>\n",
              "      <th>11</th>\n",
              "      <td>12</td>\n",
              "      <td>1</td>\n",
              "      <td>1</td>\n",
              "      <td>1</td>\n",
              "      <td>58.0</td>\n",
              "      <td>0</td>\n",
              "      <td>0</td>\n",
              "      <td>113783</td>\n",
              "      <td>26.5500</td>\n",
              "      <td>C103</td>\n",
              "      <td>S</td>\n",
              "      <td>2</td>\n",
              "    </tr>\n",
              "    <tr>\n",
              "      <th>12</th>\n",
              "      <td>13</td>\n",
              "      <td>0</td>\n",
              "      <td>3</td>\n",
              "      <td>0</td>\n",
              "      <td>20.0</td>\n",
              "      <td>0</td>\n",
              "      <td>0</td>\n",
              "      <td>A/5. 2151</td>\n",
              "      <td>8.0500</td>\n",
              "      <td>NaN</td>\n",
              "      <td>S</td>\n",
              "      <td>0</td>\n",
              "    </tr>\n",
              "    <tr>\n",
              "      <th>13</th>\n",
              "      <td>14</td>\n",
              "      <td>0</td>\n",
              "      <td>3</td>\n",
              "      <td>0</td>\n",
              "      <td>39.0</td>\n",
              "      <td>1</td>\n",
              "      <td>5</td>\n",
              "      <td>347082</td>\n",
              "      <td>31.2750</td>\n",
              "      <td>NaN</td>\n",
              "      <td>S</td>\n",
              "      <td>0</td>\n",
              "    </tr>\n",
              "    <tr>\n",
              "      <th>14</th>\n",
              "      <td>15</td>\n",
              "      <td>0</td>\n",
              "      <td>3</td>\n",
              "      <td>1</td>\n",
              "      <td>14.0</td>\n",
              "      <td>0</td>\n",
              "      <td>0</td>\n",
              "      <td>350406</td>\n",
              "      <td>7.8542</td>\n",
              "      <td>NaN</td>\n",
              "      <td>S</td>\n",
              "      <td>2</td>\n",
              "    </tr>\n",
              "    <tr>\n",
              "      <th>15</th>\n",
              "      <td>16</td>\n",
              "      <td>1</td>\n",
              "      <td>2</td>\n",
              "      <td>1</td>\n",
              "      <td>55.0</td>\n",
              "      <td>0</td>\n",
              "      <td>0</td>\n",
              "      <td>248706</td>\n",
              "      <td>16.0000</td>\n",
              "      <td>NaN</td>\n",
              "      <td>S</td>\n",
              "      <td>1</td>\n",
              "    </tr>\n",
              "    <tr>\n",
              "      <th>16</th>\n",
              "      <td>17</td>\n",
              "      <td>0</td>\n",
              "      <td>3</td>\n",
              "      <td>0</td>\n",
              "      <td>2.0</td>\n",
              "      <td>4</td>\n",
              "      <td>1</td>\n",
              "      <td>382652</td>\n",
              "      <td>29.1250</td>\n",
              "      <td>NaN</td>\n",
              "      <td>Q</td>\n",
              "      <td>3</td>\n",
              "    </tr>\n",
              "    <tr>\n",
              "      <th>17</th>\n",
              "      <td>18</td>\n",
              "      <td>1</td>\n",
              "      <td>2</td>\n",
              "      <td>0</td>\n",
              "      <td>30.0</td>\n",
              "      <td>0</td>\n",
              "      <td>0</td>\n",
              "      <td>244373</td>\n",
              "      <td>13.0000</td>\n",
              "      <td>NaN</td>\n",
              "      <td>S</td>\n",
              "      <td>0</td>\n",
              "    </tr>\n",
              "    <tr>\n",
              "      <th>18</th>\n",
              "      <td>19</td>\n",
              "      <td>0</td>\n",
              "      <td>3</td>\n",
              "      <td>1</td>\n",
              "      <td>31.0</td>\n",
              "      <td>1</td>\n",
              "      <td>0</td>\n",
              "      <td>345763</td>\n",
              "      <td>18.0000</td>\n",
              "      <td>NaN</td>\n",
              "      <td>S</td>\n",
              "      <td>1</td>\n",
              "    </tr>\n",
              "    <tr>\n",
              "      <th>19</th>\n",
              "      <td>20</td>\n",
              "      <td>1</td>\n",
              "      <td>3</td>\n",
              "      <td>1</td>\n",
              "      <td>35.0</td>\n",
              "      <td>0</td>\n",
              "      <td>0</td>\n",
              "      <td>2649</td>\n",
              "      <td>7.2250</td>\n",
              "      <td>NaN</td>\n",
              "      <td>C</td>\n",
              "      <td>1</td>\n",
              "    </tr>\n",
              "    <tr>\n",
              "      <th>20</th>\n",
              "      <td>21</td>\n",
              "      <td>0</td>\n",
              "      <td>2</td>\n",
              "      <td>0</td>\n",
              "      <td>35.0</td>\n",
              "      <td>0</td>\n",
              "      <td>0</td>\n",
              "      <td>239865</td>\n",
              "      <td>26.0000</td>\n",
              "      <td>NaN</td>\n",
              "      <td>S</td>\n",
              "      <td>0</td>\n",
              "    </tr>\n",
              "    <tr>\n",
              "      <th>21</th>\n",
              "      <td>22</td>\n",
              "      <td>1</td>\n",
              "      <td>2</td>\n",
              "      <td>0</td>\n",
              "      <td>34.0</td>\n",
              "      <td>0</td>\n",
              "      <td>0</td>\n",
              "      <td>248698</td>\n",
              "      <td>13.0000</td>\n",
              "      <td>D56</td>\n",
              "      <td>S</td>\n",
              "      <td>0</td>\n",
              "    </tr>\n",
              "    <tr>\n",
              "      <th>22</th>\n",
              "      <td>23</td>\n",
              "      <td>1</td>\n",
              "      <td>3</td>\n",
              "      <td>1</td>\n",
              "      <td>15.0</td>\n",
              "      <td>0</td>\n",
              "      <td>0</td>\n",
              "      <td>330923</td>\n",
              "      <td>8.0292</td>\n",
              "      <td>NaN</td>\n",
              "      <td>Q</td>\n",
              "      <td>2</td>\n",
              "    </tr>\n",
              "    <tr>\n",
              "      <th>23</th>\n",
              "      <td>24</td>\n",
              "      <td>1</td>\n",
              "      <td>1</td>\n",
              "      <td>0</td>\n",
              "      <td>28.0</td>\n",
              "      <td>0</td>\n",
              "      <td>0</td>\n",
              "      <td>113788</td>\n",
              "      <td>35.5000</td>\n",
              "      <td>A6</td>\n",
              "      <td>S</td>\n",
              "      <td>0</td>\n",
              "    </tr>\n",
              "    <tr>\n",
              "      <th>24</th>\n",
              "      <td>25</td>\n",
              "      <td>0</td>\n",
              "      <td>3</td>\n",
              "      <td>1</td>\n",
              "      <td>8.0</td>\n",
              "      <td>3</td>\n",
              "      <td>1</td>\n",
              "      <td>349909</td>\n",
              "      <td>21.0750</td>\n",
              "      <td>NaN</td>\n",
              "      <td>S</td>\n",
              "      <td>2</td>\n",
              "    </tr>\n",
              "    <tr>\n",
              "      <th>25</th>\n",
              "      <td>26</td>\n",
              "      <td>1</td>\n",
              "      <td>3</td>\n",
              "      <td>1</td>\n",
              "      <td>38.0</td>\n",
              "      <td>1</td>\n",
              "      <td>5</td>\n",
              "      <td>347077</td>\n",
              "      <td>31.3875</td>\n",
              "      <td>NaN</td>\n",
              "      <td>S</td>\n",
              "      <td>1</td>\n",
              "    </tr>\n",
              "    <tr>\n",
              "      <th>26</th>\n",
              "      <td>27</td>\n",
              "      <td>0</td>\n",
              "      <td>3</td>\n",
              "      <td>0</td>\n",
              "      <td>30.0</td>\n",
              "      <td>0</td>\n",
              "      <td>0</td>\n",
              "      <td>2631</td>\n",
              "      <td>7.2250</td>\n",
              "      <td>NaN</td>\n",
              "      <td>C</td>\n",
              "      <td>0</td>\n",
              "    </tr>\n",
              "    <tr>\n",
              "      <th>27</th>\n",
              "      <td>28</td>\n",
              "      <td>0</td>\n",
              "      <td>1</td>\n",
              "      <td>0</td>\n",
              "      <td>19.0</td>\n",
              "      <td>3</td>\n",
              "      <td>2</td>\n",
              "      <td>19950</td>\n",
              "      <td>263.0000</td>\n",
              "      <td>C23 C25 C27</td>\n",
              "      <td>S</td>\n",
              "      <td>0</td>\n",
              "    </tr>\n",
              "    <tr>\n",
              "      <th>28</th>\n",
              "      <td>29</td>\n",
              "      <td>1</td>\n",
              "      <td>3</td>\n",
              "      <td>1</td>\n",
              "      <td>21.0</td>\n",
              "      <td>0</td>\n",
              "      <td>0</td>\n",
              "      <td>330959</td>\n",
              "      <td>7.8792</td>\n",
              "      <td>NaN</td>\n",
              "      <td>Q</td>\n",
              "      <td>2</td>\n",
              "    </tr>\n",
              "    <tr>\n",
              "      <th>29</th>\n",
              "      <td>30</td>\n",
              "      <td>0</td>\n",
              "      <td>3</td>\n",
              "      <td>0</td>\n",
              "      <td>30.0</td>\n",
              "      <td>0</td>\n",
              "      <td>0</td>\n",
              "      <td>349216</td>\n",
              "      <td>7.8958</td>\n",
              "      <td>NaN</td>\n",
              "      <td>S</td>\n",
              "      <td>0</td>\n",
              "    </tr>\n",
              "  </tbody>\n",
              "</table>\n",
              "</div>"
            ],
            "text/plain": [
              "    PassengerId  Survived  Pclass  Sex  ...      Fare        Cabin  Embarked Title\n",
              "0             1         0       3    0  ...    7.2500          NaN         S     0\n",
              "1             2         1       1    1  ...   71.2833          C85         C     1\n",
              "2             3         1       3    1  ...    7.9250          NaN         S     2\n",
              "3             4         1       1    1  ...   53.1000         C123         S     1\n",
              "4             5         0       3    0  ...    8.0500          NaN         S     0\n",
              "5             6         0       3    0  ...    8.4583          NaN         Q     0\n",
              "6             7         0       1    0  ...   51.8625          E46         S     0\n",
              "7             8         0       3    0  ...   21.0750          NaN         S     3\n",
              "8             9         1       3    1  ...   11.1333          NaN         S     1\n",
              "9            10         1       2    1  ...   30.0708          NaN         C     1\n",
              "10           11         1       3    1  ...   16.7000           G6         S     2\n",
              "11           12         1       1    1  ...   26.5500         C103         S     2\n",
              "12           13         0       3    0  ...    8.0500          NaN         S     0\n",
              "13           14         0       3    0  ...   31.2750          NaN         S     0\n",
              "14           15         0       3    1  ...    7.8542          NaN         S     2\n",
              "15           16         1       2    1  ...   16.0000          NaN         S     1\n",
              "16           17         0       3    0  ...   29.1250          NaN         Q     3\n",
              "17           18         1       2    0  ...   13.0000          NaN         S     0\n",
              "18           19         0       3    1  ...   18.0000          NaN         S     1\n",
              "19           20         1       3    1  ...    7.2250          NaN         C     1\n",
              "20           21         0       2    0  ...   26.0000          NaN         S     0\n",
              "21           22         1       2    0  ...   13.0000          D56         S     0\n",
              "22           23         1       3    1  ...    8.0292          NaN         Q     2\n",
              "23           24         1       1    0  ...   35.5000           A6         S     0\n",
              "24           25         0       3    1  ...   21.0750          NaN         S     2\n",
              "25           26         1       3    1  ...   31.3875          NaN         S     1\n",
              "26           27         0       3    0  ...    7.2250          NaN         C     0\n",
              "27           28         0       1    0  ...  263.0000  C23 C25 C27         S     0\n",
              "28           29         1       3    1  ...    7.8792          NaN         Q     2\n",
              "29           30         0       3    0  ...    7.8958          NaN         S     0\n",
              "\n",
              "[30 rows x 12 columns]"
            ]
          },
          "metadata": {
            "tags": []
          },
          "execution_count": 37
        }
      ]
    },
    {
      "cell_type": "code",
      "metadata": {
        "id": "VBySn0GkEikN",
        "colab_type": "code",
        "outputId": "35942c37-3a4a-4ece-c4da-cd13ee110249",
        "colab": {
          "base_uri": "https://localhost:8080/",
          "height": 476
        }
      },
      "source": [
        "for dataset in train_test_data:\n",
        "    print(dataset.isnull().sum(),'\\n')"
      ],
      "execution_count": 38,
      "outputs": [
        {
          "output_type": "stream",
          "text": [
            "PassengerId      0\n",
            "Survived         0\n",
            "Pclass           0\n",
            "Sex              0\n",
            "Age              0\n",
            "SibSp            0\n",
            "Parch            0\n",
            "Ticket           0\n",
            "Fare             0\n",
            "Cabin          687\n",
            "Embarked         2\n",
            "Title            0\n",
            "dtype: int64 \n",
            "\n",
            "PassengerId      0\n",
            "Pclass           0\n",
            "Sex              0\n",
            "Age              0\n",
            "SibSp            0\n",
            "Parch            0\n",
            "Ticket           0\n",
            "Fare             1\n",
            "Cabin          327\n",
            "Embarked         0\n",
            "Title            0\n",
            "dtype: int64 \n",
            "\n"
          ],
          "name": "stdout"
        }
      ]
    },
    {
      "cell_type": "markdown",
      "metadata": {
        "id": "b5ZtlNJzEisK",
        "colab_type": "text"
      },
      "source": [
        "- 각 데이터 셋의 결측치를 확인함.\n",
        "- 나이 칼럼의 결측치가 없음."
      ]
    },
    {
      "cell_type": "code",
      "metadata": {
        "id": "z1HeHidhEi0F",
        "colab_type": "code",
        "outputId": "cdb89076-734e-4e33-c2d8-f1d4e3099243",
        "colab": {
          "base_uri": "https://localhost:8080/",
          "height": 221
        }
      },
      "source": [
        "facet = sns.FacetGrid(train, hue = 'Survived', aspect=4)\n",
        "facet.map(sns.kdeplot, 'Age', shade = True)\n",
        "facet.set(xlim = (0, train['Age'].max()))\n",
        "facet.add_legend()\n",
        "plt.show()"
      ],
      "execution_count": 39,
      "outputs": [
        {
          "output_type": "display_data",
          "data": {
            "image/png": "[encoded data removed]",
            "text/plain": [
              "<Figure size 918.05x216 with 1 Axes>"
            ]
          },
          "metadata": {
            "tags": []
          }
        }
      ]
    },
    {
      "cell_type": "code",
      "metadata": {
        "id": "1xl_NEYuNJWX",
        "colab_type": "code",
        "outputId": "9ffd5cfc-4499-467a-a621-4d444a3ce78a",
        "colab": {
          "base_uri": "https://localhost:8080/",
          "height": 238
        }
      },
      "source": [
        "facet = sns.FacetGrid(train, hue = 'Survived', aspect=4)\n",
        "facet.map(sns.kdeplot, 'Age', shade = True)\n",
        "facet.set(xlim = (0, train['Age'].max()))\n",
        "facet.add_legend()\n",
        "plt.xlim(0, 20)     # 특정 부분을 확대하여 분석할때 유용함."
      ],
      "execution_count": 40,
      "outputs": [
        {
          "output_type": "execute_result",
          "data": {
            "text/plain": [
              "(0, 20)"
            ]
          },
          "metadata": {
            "tags": []
          },
          "execution_count": 40
        },
        {
          "output_type": "display_data",
          "data": {
            "image/png": "[encoded data removed]",
            "text/plain": [
              "<Figure size 918.05x216 with 1 Axes>"
            ]
          },
          "metadata": {
            "tags": []
          }
        }
      ]
    },
    {
      "cell_type": "code",
      "metadata": {
        "id": "8WqrRvuvK9eI",
        "colab_type": "code",
        "outputId": "50389584-108e-411f-ac46-f9a1ab5e36f4",
        "colab": {
          "base_uri": "https://localhost:8080/",
          "height": 1000
        }
      },
      "source": [
        "bar_chart('Age')"
      ],
      "execution_count": 41,
      "outputs": [
        {
          "output_type": "display_data",
          "data": {
            "image/png": "[encoded data removed]",
            "text/plain": [
              "<Figure size 720x360 with 1 Axes>"
            ]
          },
          "metadata": {
            "tags": []
          }
        }
      ]
    },
    {
      "cell_type": "markdown",
      "metadata": {
        "id": "9zN3qgK1Mewc",
        "colab_type": "text"
      },
      "source": [
        "- facet 플롯은 나이처럼 연속된 값의 분포를 알아보기에 좋음.\n",
        "- 카테고리 파악에는 bar_chart가 좋음.\n",
        "    - 나타내야할 데이터가 너무 많아서 보기가 힘듦."
      ]
    },
    {
      "cell_type": "code",
      "metadata": {
        "id": "cyJ4D2QSK9K5",
        "colab_type": "code",
        "colab": {}
      },
      "source": [
        "def facet_chart(feacher):\n",
        "    facet = sns.FacetGrid(train, hue = 'Survived', aspect=4)\n",
        "    facet.map(sns.kdeplot, feacher, shade = True)\n",
        "    facet.set(xlim = (0, train[feacher].max()))\n",
        "    facet.add_legend()\n",
        "    plt.show()"
      ],
      "execution_count": 0,
      "outputs": []
    },
    {
      "cell_type": "code",
      "metadata": {
        "id": "6U44yQX9K9VG",
        "colab_type": "code",
        "outputId": "df781c26-57ca-4ed3-fbdd-3db3fe18030d",
        "colab": {
          "base_uri": "https://localhost:8080/",
          "height": 221
        }
      },
      "source": [
        "facet_chart('Age')"
      ],
      "execution_count": 43,
      "outputs": [
        {
          "output_type": "display_data",
          "data": {
            "image/png": "[encoded data removed]",
            "text/plain": [
              "<Figure size 918.05x216 with 1 Axes>"
            ]
          },
          "metadata": {
            "tags": []
          }
        }
      ]
    },
    {
      "cell_type": "markdown",
      "metadata": {
        "id": "A22zSvkCK9g0",
        "colab_type": "text"
      },
      "source": [
        "- 차트를 자주 봐야 하는 경우라면 함수로 지정하여 편하게 불러서 쓰는 것이 효과적"
      ]
    },
    {
      "cell_type": "markdown",
      "metadata": {
        "id": "3sZ3FbhWK9xr",
        "colab_type": "text"
      },
      "source": [
        "##### 연속된 나이의 값을 카테고리 형태로 변환\n",
        "- 16세 미만 : child 0\n",
        "- 16 ~ 26세 : young 1\n",
        "- 26 ~ 36세 : adult 2\n",
        "- 36 ~ 62세 : mid-age 3\n",
        "- 62세 이상 : senior 4"
      ]
    },
    {
      "cell_type": "code",
      "metadata": {
        "id": "9fg1gEq8K9zm",
        "colab_type": "code",
        "outputId": "ebca455b-d973-4851-ce7e-6a120e3ef0b5",
        "colab": {
          "base_uri": "https://localhost:8080/",
          "height": 221
        }
      },
      "source": [
        "for dataset in train_test_data:\n",
        "    dataset.loc[ dataset['Age'] <= 16, 'Age' ] = 0, # 16보다 작으면 0\n",
        "    dataset.loc[ (dataset['Age'] > 16) & (dataset['Age'] <= 26), 'Age' ] = 1, # 16보다 크고 26보다 작으면 1\n",
        "    dataset.loc[ (dataset['Age'] > 26) & (dataset['Age'] <= 36), 'Age' ] = 2, # 26보다 크고 36보다 작으면 2\n",
        "    dataset.loc[ (dataset['Age'] > 36) & (dataset['Age'] <= 62), 'Age' ] = 3, # 35보다 크고 62보다 작으면 3\n",
        "    dataset.loc[ dataset['Age'] > 62, 'Age' ] = 4   # 62보다 작으면 4\n",
        "    print(dataset['Age'].value_counts())\n"
      ],
      "execution_count": 44,
      "outputs": [
        {
          "output_type": "stream",
          "text": [
            "2.0    336\n",
            "1.0    255\n",
            "3.0    180\n",
            "0.0    105\n",
            "4.0     15\n",
            "Name: Age, dtype: int64\n",
            "2.0    139\n",
            "1.0    134\n",
            "3.0     99\n",
            "0.0     39\n",
            "4.0      7\n",
            "Name: Age, dtype: int64\n"
          ],
          "name": "stdout"
        }
      ]
    },
    {
      "cell_type": "markdown",
      "metadata": {
        "id": "zC8B5OBCQqqr",
        "colab_type": "text"
      },
      "source": [
        "- 데이터프레임.loc를 이용하여 조건을 주어서 데이터의 값을 바꿀 수 있음. \n",
        "- 밑에 두번한 이유는 작거나 같은 부등호를 쓰지 않아 26, 36, 62의 값이 변경되지 않아서 다시 반복문을 넣은 것임."
      ]
    },
    {
      "cell_type": "code",
      "metadata": {
        "id": "05c8DQJ2K-D6",
        "colab_type": "code",
        "outputId": "517f7908-6dfc-49cb-a883-50a3b5d07d9c",
        "colab": {
          "base_uri": "https://localhost:8080/",
          "height": 255
        }
      },
      "source": [
        "for dataset in train_test_data:\n",
        "    dataset.loc[ dataset['Age'] == 26, 'Age' ] = 1, \n",
        "    dataset.loc[ dataset['Age'] == 36, 'Age' ] = 2, \n",
        "    dataset.loc[ dataset['Age'] == 62, 'Age' ] = 3 \n",
        "    print(dataset['Age'].value_counts())\n",
        "    print()"
      ],
      "execution_count": 45,
      "outputs": [
        {
          "output_type": "stream",
          "text": [
            "2.0    336\n",
            "1.0    255\n",
            "3.0    180\n",
            "0.0    105\n",
            "4.0     15\n",
            "Name: Age, dtype: int64\n",
            "\n",
            "2.0    139\n",
            "1.0    134\n",
            "3.0     99\n",
            "0.0     39\n",
            "4.0      7\n",
            "Name: Age, dtype: int64\n",
            "\n"
          ],
          "name": "stdout"
        }
      ]
    },
    {
      "cell_type": "code",
      "metadata": {
        "id": "txAfnY3XK-Nz",
        "colab_type": "code",
        "outputId": "bbfe8cda-bbca-461d-ac13-09bf73cca530",
        "colab": {
          "base_uri": "https://localhost:8080/",
          "height": 361
        }
      },
      "source": [
        "bar_chart('Age')"
      ],
      "execution_count": 46,
      "outputs": [
        {
          "output_type": "display_data",
          "data": {
            "image/png": "[encoded data removed]",
            "text/plain": [
              "<Figure size 720x360 with 1 Axes>"
            ]
          },
          "metadata": {
            "tags": []
          }
        }
      ]
    },
    {
      "cell_type": "markdown",
      "metadata": {
        "id": "NTu27r2oK-Xd",
        "colab_type": "text"
      },
      "source": [
        "#### 탑승지"
      ]
    },
    {
      "cell_type": "markdown",
      "metadata": {
        "colab_type": "text",
        "id": "Fdn1sx79fkwj"
      },
      "source": [
        "##### 결측값 처리하기"
      ]
    },
    {
      "cell_type": "code",
      "metadata": {
        "id": "xyzzRtkGK-_Q",
        "colab_type": "code",
        "colab": {
          "base_uri": "https://localhost:8080/",
          "height": 381
        },
        "outputId": "099ce137-d4ac-47b2-978e-cb26b0e9d1cb"
      },
      "source": [
        "Pclass1 = train[train['Pclass'] == 1]['Embarked'].value_counts()\n",
        "Pclass2 = train[train['Pclass'] == 2]['Embarked'].value_counts()\n",
        "Pclass3 = train[train['Pclass'] == 3]['Embarked'].value_counts()\n",
        "df = pd.DataFrame( [Pclass1, Pclass2, Pclass3] )\n",
        "df.index = [ '1st class', '2nd class', '3rd class' ]\n",
        "df.plot(kind='bar', stacked = True, figsize = (10, 5))"
      ],
      "execution_count": 47,
      "outputs": [
        {
          "output_type": "execute_result",
          "data": {
            "text/plain": [
              "<matplotlib.axes._subplots.AxesSubplot at 0x7fe0c11da2b0>"
            ]
          },
          "metadata": {
            "tags": []
          },
          "execution_count": 47
        },
        {
          "output_type": "display_data",
          "data": {
            "image/png": "[encoded data removed]",
            "text/plain": [
              "<Figure size 720x360 with 1 Axes>"
            ]
          },
          "metadata": {
            "tags": []
          }
        }
      ]
    },
    {
      "cell_type": "markdown",
      "metadata": {
        "id": "mSg_zhx5K_Ju",
        "colab_type": "text"
      },
      "source": [
        "- 1등석에 50% 이상이 S embark\n",
        "- 2등석의 50% 이상이 S embark\n",
        "- 3등석의 50% 이상이 S embark\n",
        "\n",
        "- 결측값은 S 값으로 채우면 됨."
      ]
    },
    {
      "cell_type": "code",
      "metadata": {
        "id": "ojaS77u3K_Nu",
        "colab_type": "code",
        "colab": {
          "base_uri": "https://localhost:8080/",
          "height": 816
        },
        "outputId": "30190681-f3cb-4a72-8c80-7c6883b478c8"
      },
      "source": [
        "for dataset in train_test_data:\n",
        "    dataset['Embarked'] = dataset['Embarked'].fillna('S')\n",
        "    print(dataset.info(), '\\n')\n",
        "    print(dataset['Embarked'].value_counts())\n",
        "    print()"
      ],
      "execution_count": 48,
      "outputs": [
        {
          "output_type": "stream",
          "text": [
            "<class 'pandas.core.frame.DataFrame'>\n",
            "RangeIndex: 891 entries, 0 to 890\n",
            "Data columns (total 12 columns):\n",
            "PassengerId    891 non-null int64\n",
            "Survived       891 non-null int64\n",
            "Pclass         891 non-null int64\n",
            "Sex            891 non-null int64\n",
            "Age            891 non-null float64\n",
            "SibSp          891 non-null int64\n",
            "Parch          891 non-null int64\n",
            "Ticket         891 non-null object\n",
            "Fare           891 non-null float64\n",
            "Cabin          204 non-null object\n",
            "Embarked       891 non-null object\n",
            "Title          891 non-null int64\n",
            "dtypes: float64(2), int64(7), object(3)\n",
            "memory usage: 83.7+ KB\n",
            "None \n",
            "\n",
            "S    646\n",
            "C    168\n",
            "Q     77\n",
            "Name: Embarked, dtype: int64\n",
            "\n",
            "<class 'pandas.core.frame.DataFrame'>\n",
            "RangeIndex: 418 entries, 0 to 417\n",
            "Data columns (total 11 columns):\n",
            "PassengerId    418 non-null int64\n",
            "Pclass         418 non-null int64\n",
            "Sex            418 non-null int64\n",
            "Age            418 non-null float64\n",
            "SibSp          418 non-null int64\n",
            "Parch          418 non-null int64\n",
            "Ticket         418 non-null object\n",
            "Fare           417 non-null float64\n",
            "Cabin          91 non-null object\n",
            "Embarked       418 non-null object\n",
            "Title          418 non-null int64\n",
            "dtypes: float64(2), int64(6), object(3)\n",
            "memory usage: 36.0+ KB\n",
            "None \n",
            "\n",
            "S    270\n",
            "C    102\n",
            "Q     46\n",
            "Name: Embarked, dtype: int64\n",
            "\n"
          ],
          "name": "stdout"
        }
      ]
    },
    {
      "cell_type": "code",
      "metadata": {
        "id": "3FVYqqW9K_Wm",
        "colab_type": "code",
        "colab": {}
      },
      "source": [
        "embarked_mapping = {\n",
        "    'S' : 0,\n",
        "    'C' : 1,\n",
        "    'Q' : 2\n",
        "}"
      ],
      "execution_count": 0,
      "outputs": []
    },
    {
      "cell_type": "code",
      "metadata": {
        "id": "sCE8Hk0VK_o3",
        "colab_type": "code",
        "colab": {
          "base_uri": "https://localhost:8080/",
          "height": 323
        },
        "outputId": "15279ad8-6859-45e7-b995-93de37738daf"
      },
      "source": [
        "for dataset in train_test_data:\n",
        "    dataset['Embarked'] = dataset['Embarked'].map(embarked_mapping)\n",
        "    print(dataset.head(), '\\n')"
      ],
      "execution_count": 50,
      "outputs": [
        {
          "output_type": "stream",
          "text": [
            "   PassengerId  Survived  Pclass  Sex  ...     Fare  Cabin  Embarked Title\n",
            "0            1         0       3    0  ...   7.2500    NaN         0     0\n",
            "1            2         1       1    1  ...  71.2833    C85         1     1\n",
            "2            3         1       3    1  ...   7.9250    NaN         0     2\n",
            "3            4         1       1    1  ...  53.1000   C123         0     1\n",
            "4            5         0       3    0  ...   8.0500    NaN         0     0\n",
            "\n",
            "[5 rows x 12 columns] \n",
            "\n",
            "   PassengerId  Pclass  Sex  Age  ...     Fare  Cabin Embarked  Title\n",
            "0          892       3    0  2.0  ...   7.8292    NaN        2      0\n",
            "1          893       3    1  3.0  ...   7.0000    NaN        0      1\n",
            "2          894       2    0  3.0  ...   9.6875    NaN        2      0\n",
            "3          895       3    0  2.0  ...   8.6625    NaN        0      0\n",
            "4          896       3    1  1.0  ...  12.2875    NaN        0      1\n",
            "\n",
            "[5 rows x 11 columns] \n",
            "\n"
          ],
          "name": "stdout"
        }
      ]
    },
    {
      "cell_type": "code",
      "metadata": {
        "id": "G9O-tSdNK_zA",
        "colab_type": "code",
        "colab": {}
      },
      "source": [
        ""
      ],
      "execution_count": 0,
      "outputs": []
    },
    {
      "cell_type": "markdown",
      "metadata": {
        "id": "PV_hQmQ5pHdl",
        "colab_type": "text"
      },
      "source": [
        "#### 운임\n",
        "- 움임은 클래스별 평균값으로 결측치를 채우기"
      ]
    },
    {
      "cell_type": "code",
      "metadata": {
        "id": "H0U5l9lxEjIZ",
        "colab_type": "code",
        "colab": {}
      },
      "source": [
        "train['Fare'].fillna(train.groupby('Pclass')['Fare'].transform('median'), inplace=True)\n",
        "test['Fare'].fillna(test.groupby('Pclass')['Fare'].transform('median'), inplace=True)"
      ],
      "execution_count": 0,
      "outputs": []
    },
    {
      "cell_type": "code",
      "metadata": {
        "id": "7v9QSsOe_5zS",
        "colab_type": "code",
        "colab": {
          "base_uri": "https://localhost:8080/",
          "height": 476
        },
        "outputId": "536e4653-79d2-4b46-e359-48233e1be734"
      },
      "source": [
        "for dataset in train_test_data:\n",
        "    print(dataset.isnull().sum(), '\\n')"
      ],
      "execution_count": 52,
      "outputs": [
        {
          "output_type": "stream",
          "text": [
            "PassengerId      0\n",
            "Survived         0\n",
            "Pclass           0\n",
            "Sex              0\n",
            "Age              0\n",
            "SibSp            0\n",
            "Parch            0\n",
            "Ticket           0\n",
            "Fare             0\n",
            "Cabin          687\n",
            "Embarked         0\n",
            "Title            0\n",
            "dtype: int64 \n",
            "\n",
            "PassengerId      0\n",
            "Pclass           0\n",
            "Sex              0\n",
            "Age              0\n",
            "SibSp            0\n",
            "Parch            0\n",
            "Ticket           0\n",
            "Fare             0\n",
            "Cabin          327\n",
            "Embarked         0\n",
            "Title            0\n",
            "dtype: int64 \n",
            "\n"
          ],
          "name": "stdout"
        }
      ]
    },
    {
      "cell_type": "code",
      "metadata": {
        "id": "70tgde3Z_5_3",
        "colab_type": "code",
        "colab": {
          "base_uri": "https://localhost:8080/",
          "height": 221
        },
        "outputId": "68f67249-b1b1-4832-fc54-985f8c3409a4"
      },
      "source": [
        "facet = sns.FacetGrid(train, hue = 'Survived', aspect=4) # aspect는 그래프의 길이를 결정\n",
        "facet.map(sns.kdeplot, 'Fare', shade = True)    # shade는 그래프의 음영색을 나타낼지를 결정.\n",
        "facet.set(xlim = (0, train['Fare'].max())) # 운임의 구간을 결정. 0 부터 최고 운임까지\n",
        "facet.add_legend()\n",
        "\n",
        "plt.show()"
      ],
      "execution_count": 53,
      "outputs": [
        {
          "output_type": "display_data",
          "data": {
            "image/png": "[encoded data removed]",
            "text/plain": [
              "<Figure size 918.05x216 with 1 Axes>"
            ]
          },
          "metadata": {
            "tags": []
          }
        }
      ]
    },
    {
      "cell_type": "markdown",
      "metadata": {
        "id": "6-woZisPqUBj",
        "colab_type": "text"
      },
      "source": [
        "- kde플롯은 연속된 값을 나타낼때 유용함.\n",
        "- 응용\n",
        "    - 나이스의 연령대 / 전보점수 / 근평을 나타낼때\n",
        "- 방법\n",
        "    - facet그리드 선언(데이터 셋, 확인하고 싶은 카테고리)\n",
        "    - kdeplot를 맵핑(각종 점수를 선택)\n",
        "    - x좌표의 구간을 설정(0부터 최고점까지)\n",
        "    - 범례표시\n",
        "    - 그래프 나타내기"
      ]
    },
    {
      "cell_type": "code",
      "metadata": {
        "id": "JvTCEYG6qUMM",
        "colab_type": "code",
        "colab": {
          "base_uri": "https://localhost:8080/",
          "height": 238
        },
        "outputId": "46bc0bc6-d2c5-40cb-e322-17762c9f355b"
      },
      "source": [
        "facet = sns.FacetGrid(train, hue = 'Survived', aspect=4) # aspect는 그래프의 길이를 결정\n",
        "facet.map(sns.kdeplot, 'Fare', shade = True)    # shade는 그래프의 음영색을 나타낼지를 결정.\n",
        "facet.set(xlim = (0, train['Fare'].max())) # 운임의 구간을 결정. 0 부터 최고 운임까지\n",
        "facet.add_legend()\n",
        "\n",
        "plt.xlim(0,30)"
      ],
      "execution_count": 54,
      "outputs": [
        {
          "output_type": "execute_result",
          "data": {
            "text/plain": [
              "(0, 30)"
            ]
          },
          "metadata": {
            "tags": []
          },
          "execution_count": 54
        },
        {
          "output_type": "display_data",
          "data": {
            "image/png": "[encoded data removed]",
            "text/plain": [
              "<Figure size 918.05x216 with 1 Axes>"
            ]
          },
          "metadata": {
            "tags": []
          }
        }
      ]
    },
    {
      "cell_type": "markdown",
      "metadata": {
        "id": "vC7bZLOms8_m",
        "colab_type": "text"
      },
      "source": [
        "- 그래프를 구간으로 보는 이유\n",
        "    - 연속된 데이터를 카테고리로 나누기 위함.\n",
        "    - 17보다 같거나 작으면 0\n",
        "    - 17보다 크고 30보다 같거나 작으면 1\n",
        "    - 30보다 크고 100보다 같거나 작으면 2\n",
        "    - 그이상이면 3"
      ]
    },
    {
      "cell_type": "code",
      "metadata": {
        "id": "03bVr4PvqUXX",
        "colab_type": "code",
        "colab": {
          "base_uri": "https://localhost:8080/",
          "height": 238
        },
        "outputId": "d2c4742c-5bfe-417e-938c-c7851af48eeb"
      },
      "source": [
        "facet = sns.FacetGrid(train, hue = 'Survived', aspect=4) # aspect는 그래프의 길이를 결정\n",
        "facet.map(sns.kdeplot, 'Fare', shade = True)    # shade는 그래프의 음영색을 나타낼지를 결정.\n",
        "facet.set(xlim = (0, train['Fare'].max())) # 운임의 구간을 결정. 0 부터 최고 운임까지\n",
        "facet.add_legend()\n",
        "\n",
        "plt.xlim(0)"
      ],
      "execution_count": 55,
      "outputs": [
        {
          "output_type": "execute_result",
          "data": {
            "text/plain": [
              "(0, 512.3292)"
            ]
          },
          "metadata": {
            "tags": []
          },
          "execution_count": 55
        },
        {
          "output_type": "display_data",
          "data": {
            "image/png": "[encoded data removed]",
            "text/plain": [
              "<Figure size 918.05x216 with 1 Axes>"
            ]
          },
          "metadata": {
            "tags": []
          }
        }
      ]
    },
    {
      "cell_type": "code",
      "metadata": {
        "id": "S3RCYrq6qUiA",
        "colab_type": "code",
        "colab": {
          "base_uri": "https://localhost:8080/",
          "height": 221
        },
        "outputId": "8819f9a5-cc5b-4d51-b478-2f21e5aac4aa"
      },
      "source": [
        "for dataset in train_test_data:\n",
        "    dataset.loc[ dataset['Fare'] <= 17, 'Fare' ] = 0,\n",
        "    dataset.loc[ (dataset['Fare'] > 17) & (dataset['Fare'] <= 30), 'Fare' ] = 1,\n",
        "    dataset.loc[ (dataset['Fare'] > 30) & (dataset['Fare'] <= 100), 'Fare' ] = 2,\n",
        "    dataset.loc[ dataset['Fare'] > 100, 'Fare' ] = 3\n",
        "    print(dataset['Fare'].value_counts(), '\\n')"
      ],
      "execution_count": 56,
      "outputs": [
        {
          "output_type": "stream",
          "text": [
            "0.0    496\n",
            "2.0    181\n",
            "1.0    161\n",
            "3.0     53\n",
            "Name: Fare, dtype: int64 \n",
            "\n",
            "0.0    236\n",
            "2.0     78\n",
            "1.0     73\n",
            "3.0     31\n",
            "Name: Fare, dtype: int64 \n",
            "\n"
          ],
          "name": "stdout"
        }
      ]
    },
    {
      "cell_type": "code",
      "metadata": {
        "id": "uadGoSXGqUly",
        "colab_type": "code",
        "colab": {}
      },
      "source": [
        ""
      ],
      "execution_count": 0,
      "outputs": []
    },
    {
      "cell_type": "markdown",
      "metadata": {
        "id": "ZfFIGvh2vMiC",
        "colab_type": "text"
      },
      "source": [
        "#### 숙소"
      ]
    },
    {
      "cell_type": "code",
      "metadata": {
        "id": "wvxLJRjHqUwc",
        "colab_type": "code",
        "colab": {
          "base_uri": "https://localhost:8080/",
          "height": 221
        },
        "outputId": "12ff4a81-df0d-4257-967f-ae194fa2f8a8"
      },
      "source": [
        "train['Cabin'].value_counts()"
      ],
      "execution_count": 57,
      "outputs": [
        {
          "output_type": "execute_result",
          "data": {
            "text/plain": [
              "B96 B98        4\n",
              "C23 C25 C27    4\n",
              "G6             4\n",
              "E101           3\n",
              "D              3\n",
              "              ..\n",
              "C104           1\n",
              "C7             1\n",
              "D56            1\n",
              "E46            1\n",
              "A36            1\n",
              "Name: Cabin, Length: 147, dtype: int64"
            ]
          },
          "metadata": {
            "tags": []
          },
          "execution_count": 57
        }
      ]
    },
    {
      "cell_type": "code",
      "metadata": {
        "id": "MA-CKrBQqU78",
        "colab_type": "code",
        "colab": {
          "base_uri": "https://localhost:8080/",
          "height": 323
        },
        "outputId": "6bb5b86f-f1b4-458d-8368-31d274dcf5e4"
      },
      "source": [
        "for dataset in train_test_data:\n",
        "    dataset['Cabin'] = dataset['Cabin'].str[:1]\n",
        "    print(train.head(),'\\n')"
      ],
      "execution_count": 65,
      "outputs": [
        {
          "output_type": "stream",
          "text": [
            "   PassengerId  Survived  Pclass  Sex  ...  Fare  Cabin  Embarked Title\n",
            "0            1         0       3    0  ...   0.0    NaN         0     0\n",
            "1            2         1       1    1  ...   2.0      C         1     1\n",
            "2            3         1       3    1  ...   0.0    NaN         0     2\n",
            "3            4         1       1    1  ...   2.0      C         0     1\n",
            "4            5         0       3    0  ...   0.0    NaN         0     0\n",
            "\n",
            "[5 rows x 12 columns] \n",
            "\n",
            "   PassengerId  Survived  Pclass  Sex  ...  Fare  Cabin  Embarked Title\n",
            "0            1         0       3    0  ...   0.0    NaN         0     0\n",
            "1            2         1       1    1  ...   2.0      C         1     1\n",
            "2            3         1       3    1  ...   0.0    NaN         0     2\n",
            "3            4         1       1    1  ...   2.0      C         0     1\n",
            "4            5         0       3    0  ...   0.0    NaN         0     0\n",
            "\n",
            "[5 rows x 12 columns] \n",
            "\n"
          ],
          "name": "stdout"
        }
      ]
    },
    {
      "cell_type": "code",
      "metadata": {
        "id": "vNry2AOzqVGX",
        "colab_type": "code",
        "colab": {
          "base_uri": "https://localhost:8080/",
          "height": 381
        },
        "outputId": "5d116e2f-befa-460a-ff09-12b2e183b046"
      },
      "source": [
        "Pclass1 = train[ train['Pclass'] == 1 ]['Cabin'].value_counts()\n",
        "Pclass2 = train[ train['Pclass'] == 2 ]['Cabin'].value_counts()\n",
        "Pclass3 = train[ train['Pclass'] == 3 ]['Cabin'].value_counts()\n",
        "df = pd.DataFrame([Pclass1, Pclass2, Pclass3])\n",
        "df.index = ['1st class', '2nd class', '3nd class']\n",
        "df.plot(kind = 'bar', stacked = True, figsize = (10, 5)"
      ],
      "execution_count": 67,
      "outputs": [
        {
          "output_type": "execute_result",
          "data": {
            "text/plain": [
              "<matplotlib.axes._subplots.AxesSubplot at 0x7fe0bc576d68>"
            ]
          },
          "metadata": {
            "tags": []
          },
          "execution_count": 67
        },
        {
          "output_type": "display_data",
          "data": {
            "image/png": "[encoded data removed]",
            "text/plain": [
              "<Figure size 720x360 with 1 Axes>"
            ]
          },
          "metadata": {
            "tags": []
          }
        }
      ]
    },
    {
      "cell_type": "code",
      "metadata": {
        "id": "3enSBEg6qVRU",
        "colab_type": "code",
        "colab": {}
      },
      "source": [
        "„"
      ],
      "execution_count": 0,
      "outputs": []
    },
    {
      "cell_type": "code",
      "metadata": {
        "id": "M5gcE5jXqVco",
        "colab_type": "code",
        "colab": {}
      },
      "source": [
        ""
      ],
      "execution_count": 0,
      "outputs": []
    },
    {
      "cell_type": "markdown",
      "metadata": {
        "id": "ziQs51YjZH0H",
        "colab_type": "text"
      },
      "source": [
        "## TIL - 청간전보 머신러닝을 이용하여 이동여부 예측하기 "
      ]
    },
    {
      "cell_type": "markdown",
      "metadata": {
        "id": "XEUCUb6XX3Yn",
        "colab_type": "text"
      },
      "source": [
        "# HTML / JS / Etc"
      ]
    },
    {
      "cell_type": "markdown",
      "metadata": {
        "id": "0p4TxglcX-HN",
        "colab_type": "text"
      },
      "source": [
        "## TIL - javascript 200216"
      ]
    },
    {
      "cell_type": "markdown",
      "metadata": {
        "id": "yXJVjNY5ey4m",
        "colab_type": "text"
      },
      "source": [
        "- 자바스크립트는 자바와는 완전히 다른 언어.\n",
        "    - 햄과 햄스터 처럼 햄글자만 겹치는 것과 비슷함.\n",
        "- 하나의 완전한 코딩언어이므로 학습할 양이 많음.\n",
        "    - 필요한 부분을 프로젝트에 적용하면서 배우는 것이 효과적\n",
        "- 참고 사이트\n",
        "    - jquery : https://jquery.com\n",
        "        - 자바스크립트 코드 라이브러리 사이트\n",
        "        - 내가 생각하는 기능들은 이미 함수형태로 구현되어 있음. \n",
        "        - 사용방법\n",
        "            - jquery파일을 다운받아서 사용가능\n",
        "            - 웹페이지 내에 링크형태로 삽입하여 사용가능 (CDN)\n",
        "    - jqueryui : https://jqueryui.com\n",
        "        - 자바스크립트 사용자 환경을 구현한 것을 모아 놓음. "
      ]
    },
    {
      "cell_type": "code",
      "metadata": {
        "id": "j4dq2ImVgGuH",
        "colab_type": "code",
        "colab": {}
      },
      "source": [
        ""
      ],
      "execution_count": 0,
      "outputs": []
    },
    {
      "cell_type": "markdown",
      "metadata": {
        "id": "KWxAz6a1uYNr",
        "colab_type": "text"
      },
      "source": [
        "# 파이썬 공부하기"
      ]
    },
    {
      "cell_type": "markdown",
      "metadata": {
        "id": "3wJUTuxluYQ-",
        "colab_type": "text"
      },
      "source": [
        "## TIL - 200218 : 무작위 문구 만들기 feat 영민도와주기\n",
        "- 글자를 무작위로 조합하여 단어만들기\n",
        "- 알고리즘\n",
        "    - 글자를 조합할 수 있는 모든 단어들을 생성\n",
        "    - 각 글자가 1개인 경우만 다른 리스트에 담기\n",
        "        - 글자가 2번 들어가지 않는 경우.\n",
        "- 글자가 2개일때\n",
        "    - 2 * 1 = 2개\n",
        "- 글자가 3개일 때\n",
        "    - 3 * 2 * 1 = 6\n",
        "- 글자가 4개일 때\n",
        "    - 4 * 3 * 2 * 1 = 24\n",
        "- 글자가 4개일 때\n",
        "    - 5 * 4 * 3 * 2 * 1 = 120"
      ]
    },
    {
      "cell_type": "markdown",
      "metadata": {
        "id": "rtHwqYKQ-atP",
        "colab_type": "text"
      },
      "source": [
        "### 버전 1"
      ]
    },
    {
      "cell_type": "code",
      "metadata": {
        "id": "_D-8MXwmuYXe",
        "colab_type": "code",
        "outputId": "7696a74c-e297-4bca-c86f-d7e15426bb95",
        "colab": {
          "base_uri": "https://localhost:8080/",
          "height": 513
        }
      },
      "source": [
        "word = ['브', '쯔', '렙', '뎅']\n",
        "new_word = []\n",
        "for i in word:\n",
        "    for l in word:\n",
        "        for k in word:\n",
        "            for n in word:\n",
        "                a = i + l + k + n\n",
        "                new_word.append(a)\n",
        "print(len(new_word), new_word)\n",
        "print()\n",
        "\n",
        "lst = []\n",
        "for k in new_word:\n",
        "    if k.count(word[0]) == 1 and k.count(word[1]) == 1 \\\n",
        "       and k.count(word[2]) == 1 and k.count(word[3]) == 1:\n",
        "        lst.append(k)\n",
        "print(len(lst), lst)\n",
        "print()\n",
        "\n",
        "for k in lst:\n",
        "    print(k)\n",
        "\n",
        "\n"
      ],
      "execution_count": 58,
      "outputs": [
        {
          "output_type": "stream",
          "text": [
            "256 ['브브브브', '브브브쯔', '브브브렙', '브브브뎅', '브브쯔브', '브브쯔쯔', '브브쯔렙', '브브쯔뎅', '브브렙브', '브브렙쯔', '브브렙렙', '브브렙뎅', '브브뎅브', '브브뎅쯔', '브브뎅렙', '브브뎅뎅', '브쯔브브', '브쯔브쯔', '브쯔브렙', '브쯔브뎅', '브쯔쯔브', '브쯔쯔쯔', '브쯔쯔렙', '브쯔쯔뎅', '브쯔렙브', '브쯔렙쯔', '브쯔렙렙', '브쯔렙뎅', '브쯔뎅브', '브쯔뎅쯔', '브쯔뎅렙', '브쯔뎅뎅', '브렙브브', '브렙브쯔', '브렙브렙', '브렙브뎅', '브렙쯔브', '브렙쯔쯔', '브렙쯔렙', '브렙쯔뎅', '브렙렙브', '브렙렙쯔', '브렙렙렙', '브렙렙뎅', '브렙뎅브', '브렙뎅쯔', '브렙뎅렙', '브렙뎅뎅', '브뎅브브', '브뎅브쯔', '브뎅브렙', '브뎅브뎅', '브뎅쯔브', '브뎅쯔쯔', '브뎅쯔렙', '브뎅쯔뎅', '브뎅렙브', '브뎅렙쯔', '브뎅렙렙', '브뎅렙뎅', '브뎅뎅브', '브뎅뎅쯔', '브뎅뎅렙', '브뎅뎅뎅', '쯔브브브', '쯔브브쯔', '쯔브브렙', '쯔브브뎅', '쯔브쯔브', '쯔브쯔쯔', '쯔브쯔렙', '쯔브쯔뎅', '쯔브렙브', '쯔브렙쯔', '쯔브렙렙', '쯔브렙뎅', '쯔브뎅브', '쯔브뎅쯔', '쯔브뎅렙', '쯔브뎅뎅', '쯔쯔브브', '쯔쯔브쯔', '쯔쯔브렙', '쯔쯔브뎅', '쯔쯔쯔브', '쯔쯔쯔쯔', '쯔쯔쯔렙', '쯔쯔쯔뎅', '쯔쯔렙브', '쯔쯔렙쯔', '쯔쯔렙렙', '쯔쯔렙뎅', '쯔쯔뎅브', '쯔쯔뎅쯔', '쯔쯔뎅렙', '쯔쯔뎅뎅', '쯔렙브브', '쯔렙브쯔', '쯔렙브렙', '쯔렙브뎅', '쯔렙쯔브', '쯔렙쯔쯔', '쯔렙쯔렙', '쯔렙쯔뎅', '쯔렙렙브', '쯔렙렙쯔', '쯔렙렙렙', '쯔렙렙뎅', '쯔렙뎅브', '쯔렙뎅쯔', '쯔렙뎅렙', '쯔렙뎅뎅', '쯔뎅브브', '쯔뎅브쯔', '쯔뎅브렙', '쯔뎅브뎅', '쯔뎅쯔브', '쯔뎅쯔쯔', '쯔뎅쯔렙', '쯔뎅쯔뎅', '쯔뎅렙브', '쯔뎅렙쯔', '쯔뎅렙렙', '쯔뎅렙뎅', '쯔뎅뎅브', '쯔뎅뎅쯔', '쯔뎅뎅렙', '쯔뎅뎅뎅', '렙브브브', '렙브브쯔', '렙브브렙', '렙브브뎅', '렙브쯔브', '렙브쯔쯔', '렙브쯔렙', '렙브쯔뎅', '렙브렙브', '렙브렙쯔', '렙브렙렙', '렙브렙뎅', '렙브뎅브', '렙브뎅쯔', '렙브뎅렙', '렙브뎅뎅', '렙쯔브브', '렙쯔브쯔', '렙쯔브렙', '렙쯔브뎅', '렙쯔쯔브', '렙쯔쯔쯔', '렙쯔쯔렙', '렙쯔쯔뎅', '렙쯔렙브', '렙쯔렙쯔', '렙쯔렙렙', '렙쯔렙뎅', '렙쯔뎅브', '렙쯔뎅쯔', '렙쯔뎅렙', '렙쯔뎅뎅', '렙렙브브', '렙렙브쯔', '렙렙브렙', '렙렙브뎅', '렙렙쯔브', '렙렙쯔쯔', '렙렙쯔렙', '렙렙쯔뎅', '렙렙렙브', '렙렙렙쯔', '렙렙렙렙', '렙렙렙뎅', '렙렙뎅브', '렙렙뎅쯔', '렙렙뎅렙', '렙렙뎅뎅', '렙뎅브브', '렙뎅브쯔', '렙뎅브렙', '렙뎅브뎅', '렙뎅쯔브', '렙뎅쯔쯔', '렙뎅쯔렙', '렙뎅쯔뎅', '렙뎅렙브', '렙뎅렙쯔', '렙뎅렙렙', '렙뎅렙뎅', '렙뎅뎅브', '렙뎅뎅쯔', '렙뎅뎅렙', '렙뎅뎅뎅', '뎅브브브', '뎅브브쯔', '뎅브브렙', '뎅브브뎅', '뎅브쯔브', '뎅브쯔쯔', '뎅브쯔렙', '뎅브쯔뎅', '뎅브렙브', '뎅브렙쯔', '뎅브렙렙', '뎅브렙뎅', '뎅브뎅브', '뎅브뎅쯔', '뎅브뎅렙', '뎅브뎅뎅', '뎅쯔브브', '뎅쯔브쯔', '뎅쯔브렙', '뎅쯔브뎅', '뎅쯔쯔브', '뎅쯔쯔쯔', '뎅쯔쯔렙', '뎅쯔쯔뎅', '뎅쯔렙브', '뎅쯔렙쯔', '뎅쯔렙렙', '뎅쯔렙뎅', '뎅쯔뎅브', '뎅쯔뎅쯔', '뎅쯔뎅렙', '뎅쯔뎅뎅', '뎅렙브브', '뎅렙브쯔', '뎅렙브렙', '뎅렙브뎅', '뎅렙쯔브', '뎅렙쯔쯔', '뎅렙쯔렙', '뎅렙쯔뎅', '뎅렙렙브', '뎅렙렙쯔', '뎅렙렙렙', '뎅렙렙뎅', '뎅렙뎅브', '뎅렙뎅쯔', '뎅렙뎅렙', '뎅렙뎅뎅', '뎅뎅브브', '뎅뎅브쯔', '뎅뎅브렙', '뎅뎅브뎅', '뎅뎅쯔브', '뎅뎅쯔쯔', '뎅뎅쯔렙', '뎅뎅쯔뎅', '뎅뎅렙브', '뎅뎅렙쯔', '뎅뎅렙렙', '뎅뎅렙뎅', '뎅뎅뎅브', '뎅뎅뎅쯔', '뎅뎅뎅렙', '뎅뎅뎅뎅']\n",
            "\n",
            "24 ['브쯔렙뎅', '브쯔뎅렙', '브렙쯔뎅', '브렙뎅쯔', '브뎅쯔렙', '브뎅렙쯔', '쯔브렙뎅', '쯔브뎅렙', '쯔렙브뎅', '쯔렙뎅브', '쯔뎅브렙', '쯔뎅렙브', '렙브쯔뎅', '렙브뎅쯔', '렙쯔브뎅', '렙쯔뎅브', '렙뎅브쯔', '렙뎅쯔브', '뎅브쯔렙', '뎅브렙쯔', '뎅쯔브렙', '뎅쯔렙브', '뎅렙브쯔', '뎅렙쯔브']\n",
            "\n",
            "브쯔렙뎅\n",
            "브쯔뎅렙\n",
            "브렙쯔뎅\n",
            "브렙뎅쯔\n",
            "브뎅쯔렙\n",
            "브뎅렙쯔\n",
            "쯔브렙뎅\n",
            "쯔브뎅렙\n",
            "쯔렙브뎅\n",
            "쯔렙뎅브\n",
            "쯔뎅브렙\n",
            "쯔뎅렙브\n",
            "렙브쯔뎅\n",
            "렙브뎅쯔\n",
            "렙쯔브뎅\n",
            "렙쯔뎅브\n",
            "렙뎅브쯔\n",
            "렙뎅쯔브\n",
            "뎅브쯔렙\n",
            "뎅브렙쯔\n",
            "뎅쯔브렙\n",
            "뎅쯔렙브\n",
            "뎅렙브쯔\n",
            "뎅렙쯔브\n"
          ],
          "name": "stdout"
        }
      ]
    },
    {
      "cell_type": "markdown",
      "metadata": {
        "id": "f-xQAVw9-10D",
        "colab_type": "text"
      },
      "source": [
        "### 버전 2\n",
        "- 글자를 추가할 때, 반복문이 자동으로 추가 되었으면 좋겠다.\n",
        "- 글자에 맞게 조건이 자동으로 추가 되었으면 좋겠다."
      ]
    },
    {
      "cell_type": "code",
      "metadata": {
        "id": "RrrXYSxHuYap",
        "colab_type": "code",
        "outputId": "4a043a9f-9b1e-452c-a31d-36dc7d6aeb97",
        "colab": {
          "base_uri": "https://localhost:8080/",
          "height": 130
        }
      },
      "source": [
        "word = ['브', '쯔', '렙', '뎅', '신']\n",
        "\n",
        "new_word = []   # 단어 생성하기\n",
        "for i in word:\n",
        "    for l in word:\n",
        "        for k in word:\n",
        "            for n in word:\n",
        "                for m in word:\n",
        "                    a = i + l + k + n + m\n",
        "                    new_word.append(a)\n",
        "print(len(new_word), new_word)\n",
        "print()\n",
        "\n",
        "lst = []\n",
        "for k in new_word:  \n",
        "    if k.count(word[0]) == 1 and k.count(word[1]) == 1 \\    # 단어에 각 글자가 1개씩 포함되어 있는 조건을 만족한다면.\n",
        "       and k.count(word[2]) == 1 and k.count(word[3]) == 1 \\\n",
        "       and k.count(word[4]) == 1:\n",
        "        lst.append(k)       # 리스트에 포함시키기\n",
        "print(len(lst), lst)\n",
        "print()\n",
        "\n",
        "for k in lst:\n",
        "    print(k)"
      ],
      "execution_count": 59,
      "outputs": [
        {
          "output_type": "error",
          "ename": "SyntaxError",
          "evalue": "ignored",
          "traceback": [
            "\u001b[0;36m  File \u001b[0;32m\"<ipython-input-59-362ca4afedb7>\"\u001b[0;36m, line \u001b[0;32m16\u001b[0m\n\u001b[0;31m    if k.count(word[0]) == 1 and k.count(word[1]) == 1 \\    # 단어에 각 글자가 1개씩 포함되어 있는 조건을 만족한다면.\u001b[0m\n\u001b[0m                                                                                              ^\u001b[0m\n\u001b[0;31mSyntaxError\u001b[0m\u001b[0;31m:\u001b[0m unexpected character after line continuation character\n"
          ]
        }
      ]
    },
    {
      "cell_type": "code",
      "metadata": {
        "id": "UW9lU_eNuYex",
        "colab_type": "code",
        "colab": {}
      },
      "source": [
        ""
      ],
      "execution_count": 0,
      "outputs": []
    },
    {
      "cell_type": "code",
      "metadata": {
        "id": "NdL8vRDhuYhs",
        "colab_type": "code",
        "colab": {}
      },
      "source": [
        ""
      ],
      "execution_count": 0,
      "outputs": []
    },
    {
      "cell_type": "code",
      "metadata": {
        "id": "yGp2akdNuYl3",
        "colab_type": "code",
        "colab": {}
      },
      "source": [
        ""
      ],
      "execution_count": 0,
      "outputs": []
    },
    {
      "cell_type": "code",
      "metadata": {
        "id": "XU3EgV3RuYr7",
        "colab_type": "code",
        "colab": {}
      },
      "source": [
        ""
      ],
      "execution_count": 0,
      "outputs": []
    },
    {
      "cell_type": "code",
      "metadata": {
        "id": "PYnO1nNJuYvL",
        "colab_type": "code",
        "colab": {}
      },
      "source": [
        ""
      ],
      "execution_count": 0,
      "outputs": []
    },
    {
      "cell_type": "code",
      "metadata": {
        "id": "J00G3gHiuYzc",
        "colab_type": "code",
        "colab": {}
      },
      "source": [
        ""
      ],
      "execution_count": 0,
      "outputs": []
    }
  ]
}
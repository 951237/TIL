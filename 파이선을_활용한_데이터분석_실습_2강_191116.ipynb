{
  "nbformat": 4,
  "nbformat_minor": 0,
  "metadata": {
    "colab": {
      "name": "파이선을 활용한 데이터분석 실습 2강_191116.ipynb",
      "provenance": [],
      "collapsed_sections": [],
      "include_colab_link": true
    },
    "kernelspec": {
      "name": "python3",
      "display_name": "Python 3"
    }
  },
  "cells": [
    {
      "cell_type": "markdown",
      "metadata": {
        "id": "view-in-github",
        "colab_type": "text"
      },
      "source": [
        "<a href=\"https://colab.research.google.com/github/951237/TIL/blob/master/%ED%8C%8C%EC%9D%B4%EC%84%A0%EC%9D%84_%ED%99%9C%EC%9A%A9%ED%95%9C_%EB%8D%B0%EC%9D%B4%ED%84%B0%EB%B6%84%EC%84%9D_%EC%8B%A4%EC%8A%B5_2%EA%B0%95_191116.ipynb\" target=\"_parent\"><img src=\"https://colab.research.google.com/assets/colab-badge.svg\" alt=\"Open In Colab\"/></a>"
      ]
    },
    {
      "cell_type": "markdown",
      "metadata": {
        "id": "WSytdMosUnCj",
        "colab_type": "text"
      },
      "source": [
        "# 파이선을 활용한 데이터 분석 실습 2강 191116"
      ]
    },
    {
      "cell_type": "markdown",
      "metadata": {
        "id": "QtWQSxPWUvZ2",
        "colab_type": "text"
      },
      "source": [
        "### 설문조사하기\n",
        "- 설문조사 내용\n",
        "- 설문조사 목적\n",
        "\n",
        "### 데이터 탐색하기\n",
        "- 직업\n",
        "- 성별\n",
        "- 나이"
      ]
    },
    {
      "cell_type": "code",
      "metadata": {
        "id": "Zdp-9AB-Ufoc",
        "colab_type": "code",
        "colab": {}
      },
      "source": [
        ""
      ],
      "execution_count": 0,
      "outputs": []
    }
  ]
}
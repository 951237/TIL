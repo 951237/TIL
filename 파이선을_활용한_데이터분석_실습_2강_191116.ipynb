{
  "nbformat": 4,
  "nbformat_minor": 0,
  "metadata": {
    "colab": {
      "name": "파이선을 활용한 데이터분석 실습 2강_191116.ipynb",
      "provenance": [],
      "collapsed_sections": []
    },
    "kernelspec": {
      "name": "python3",
      "display_name": "Python 3"
    }
  },
  "cells": [
    {
      "cell_type": "markdown",
      "metadata": {
        "id": "WSytdMosUnCj",
        "colab_type": "text"
      },
      "source": [
        "# 파이선을 활용한 데이터 분석 실습 2강 191116"
      ]
    },
    {
      "cell_type": "markdown",
      "metadata": {
        "id": "QtWQSxPWUvZ2",
        "colab_type": "text"
      },
      "source": [
        "### 설문조사하기\n",
        "- 설문조사 내용\n",
        "- 설문조사 목적\n",
        "\n",
        "### 데이터 탐색하기\n",
        "- 직업\n",
        "- 성별\n",
        "- 나이\n",
        "- 복장 스타일\n",
        "    - 상의 색상\n",
        "    - 하의 색상\n",
        "- 옷의 종류\n",
        "- 신발 색상\n",
        "- 신발 종류\n",
        "- 사는 곳\n",
        "- 전공\n",
        "- 실습환경 OS\n"
      ]
    },
    {
      "cell_type": "markdown",
      "metadata": {
        "id": "DXpBCHtjYMUG",
        "colab_type": "text"
      },
      "source": [
        "### 클러스터링하여 조별 나누기\n",
        "- 사용 feature\n",
        "\n",
        "### 과정\n",
        "- csv파일 로딩\n",
        "- 판다스 파일 불러오기\n"
      ]
    },
    {
      "cell_type": "code",
      "metadata": {
        "id": "Zdp-9AB-Ufoc",
        "colab_type": "code",
        "colab": {}
      },
      "source": [
        ""
      ],
      "execution_count": 0,
      "outputs": []
    }
  ]
}
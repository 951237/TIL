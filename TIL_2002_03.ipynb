{
  "nbformat": 4,
  "nbformat_minor": 0,
  "metadata": {
    "colab": {
      "name": "TIL_2002_03.ipynb",
      "provenance": [],
      "authorship_tag": "ABX9TyOzNsOPhPNo8TAei3jmP4lc",
      "include_colab_link": true
    },
    "kernelspec": {
      "name": "python3",
      "display_name": "Python 3"
    }
  },
  "cells": [
    {
      "cell_type": "markdown",
      "metadata": {
        "id": "view-in-github",
        "colab_type": "text"
      },
      "source": [
        "<a href=\"https://colab.research.google.com/github/951237/TIL/blob/master/TIL_2002_03.ipynb\" target=\"_parent\"><img src=\"https://colab.research.google.com/assets/colab-badge.svg\" alt=\"Open In Colab\"/></a>"
      ]
    },
    {
      "cell_type": "markdown",
      "metadata": {
        "id": "Dcpr6njEELfu",
        "colab_type": "text"
      },
      "source": [
        "# 수익형 웹앱 만들기 "
      ]
    },
    {
      "cell_type": "markdown",
      "metadata": {
        "id": "VespYpkLGxCk",
        "colab_type": "text"
      },
      "source": [
        "## 200325_동물상 테스트 사이트 제작하기"
      ]
    },
    {
      "cell_type": "code",
      "metadata": {
        "id": "jMIsnvCTHHDp",
        "colab_type": "code",
        "colab": {}
      },
      "source": [
        "- 텍스트 및 이미지 크롤링하기\n",
        "    - 구글을 통한 이미지 자동 다운로드 이용하기\n",
        "        - googole - images-download활용하기\n",
        "- Teachable Machine으로 나와 닮은 동물상 찾기\n",
        "    - 인공지능이용하여 머신러닝하기\n",
        "    - 사진을 이용하여 동물상 찾기\n",
        "        - codepen을 활용하여 파일 업로드\n",
        "- Zeplin개념과 실전 바응형 웹앱 제작하기\n",
        "    - Zeplin : 디자인 코드 변환 도구\n",
        "        - 디자인 전달도구\n",
        "        - 디자이너 스케치결과물을 코드로 확인할 수 있음. \n",
        "- 댓글기능 구현하기\n",
        "    - \n",
        "- GitHub올리기 및 Netlify를 통한 배포 자동화\n",
        "    - 깃허브 업로드 \n",
        "    - Netlify와 깃허브 연동하기\n",
        "    - 깃허브 수정으로 Netlify와 연동"
      ],
      "execution_count": 0,
      "outputs": []
    }
  ]
}
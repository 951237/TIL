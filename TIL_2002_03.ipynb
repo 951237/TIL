{
  "nbformat": 4,
  "nbformat_minor": 0,
  "metadata": {
    "colab": {
      "name": "TIL_2002_03.ipynb",
      "provenance": [],
      "toc_visible": true,
      "authorship_tag": "ABX9TyOhOJhOf+M07yGE5dh/LQYy",
      "include_colab_link": true
    },
    "kernelspec": {
      "name": "python3",
      "display_name": "Python 3"
    }
  },
  "cells": [
    {
      "cell_type": "markdown",
      "metadata": {
        "id": "view-in-github",
        "colab_type": "text"
      },
      "source": [
        "<a href=\"https://colab.research.google.com/github/951237/TIL/blob/master/TIL_2002_03.ipynb\" target=\"_parent\"><img src=\"https://colab.research.google.com/assets/colab-badge.svg\" alt=\"Open In Colab\"/></a>"
      ]
    },
    {
      "cell_type": "markdown",
      "metadata": {
        "id": "Dcpr6njEELfu",
        "colab_type": "text"
      },
      "source": [
        "# 수익형 웹앱 만들기 "
      ]
    },
    {
      "cell_type": "markdown",
      "metadata": {
        "id": "VespYpkLGxCk",
        "colab_type": "text"
      },
      "source": [
        "## 200325_동물상 테스트 사이트 제작하기"
      ]
    },
    {
      "cell_type": "markdown",
      "metadata": {
        "id": "jMIsnvCTHHDp",
        "colab_type": "text"
      },
      "source": [
        "- 텍스트 및 이미지 크롤링하기\n",
        "    - 구글을 통한 이미지 자동 다운로드 이용하기\n",
        "        - googole - images-download활용하기\n",
        "- Teachable Machine으로 나와 닮은 동물상 찾기\n",
        "    - 인공지능이용하여 머신러닝하기\n",
        "    - 사진을 이용하여 동물상 찾기\n",
        "        - codepen을 활용하여 파일 업로드\n",
        "- Zeplin개념과 실전 바응형 웹앱 제작하기\n",
        "    - Zeplin : 디자인 코드 변환 도구\n",
        "        - 디자인 전달도구\n",
        "        - 디자이너 스케치결과물을 코드로 확인할 수 있음. \n",
        "- 댓글기능 구현하기\n",
        "    - \n",
        "- GitHub올리기 및 Netlify를 통한 배포 자동화\n",
        "    - 깃허브 업로드 \n",
        "    - Netlify와 깃허브 연동하기\n",
        "    - 깃허브 수정으로 Netlify와 연동"
      ]
    },
    {
      "cell_type": "markdown",
      "metadata": {
        "id": "owZlKQ_dTxqa",
        "colab_type": "text"
      },
      "source": [
        "## 200331_React Nativ를 이용한 안드로이드 및 ios 앱 제작"
      ]
    },
    {
      "cell_type": "markdown",
      "metadata": {
        "id": "10s8SVxXT7xF",
        "colab_type": "text"
      },
      "source": [
        "- 구름 ide 사용( 온라인 개발환경 구축)\n",
        "\t- 컨테이너 생성 - react native\n",
        "\n",
        "- expo react web view설치\n",
        "\t- expo : 구글, iOS 실행 테스트 할 수 있도록 도와주는 서비스\n",
        "\n",
        "- 구름IDE\n",
        "\t- 대시보드\n",
        "\t- 새 컨테이너 생성\n",
        "\t- 소프트웨어 선택 - react native\n",
        "\n",
        "- 개발환경 및 코딩\n",
        "\t- expo : 리액트 개발 배포 도구\n",
        "\t\t- 실생, usage > 실행 > QR코드 > 구글, 아이폰 카메라 촬용\n",
        "\t\t\t- 플레이스토어 및 앱스토어 통한 expo앱 설치\n",
        "\t- 앱 출시\n",
        "\t\t- app.jason > 이름, 아이콘, 스플래시 이미지\n",
        "\t\t\t- 아이콘 : 앱 아이콘 1024 * 1024\n",
        "\t\t\t- 스플래시 이미지 : 어플 첫 화면\n",
        "- 구글 검색\n",
        "\t- expo reca native webview\n",
        "\t\t- installation\n",
        "\t\t- usage > app.js > uri(웹주소)\n",
        "\t- expo build app\n",
        "\t\t- install expo cli > .expo폴더 삭제\n",
        "\t\t- app.jason→ iOS, android 설정 추가\n",
        "\t- expo permission(카메라 인식을 시스템에서 허용)\n",
        "\t\t- install \n",
        "\t\t- app.jason 설정추가\n",
        "\t- start build"
      ]
    },
    {
      "cell_type": "markdown",
      "metadata": {
        "id": "5hUsOXeBPYPr",
        "colab_type": "text"
      },
      "source": [
        "# 파이썬"
      ]
    },
    {
      "cell_type": "markdown",
      "metadata": {
        "id": "D-90-ZHPk6wu",
        "colab_type": "text"
      },
      "source": [
        ""
      ]
    },
    {
      "cell_type": "markdown",
      "metadata": {
        "id": "BYCI7TaDkdFw",
        "colab_type": "text"
      },
      "source": [
        "## 200326_클래스를 이용한 크롤링하기 탐구\n",
        "- 시작하자~ "
      ]
    },
    {
      "cell_type": "markdown",
      "metadata": {
        "id": "fxHpF60Rk5BA",
        "colab_type": "text"
      },
      "source": [
        "## 200326_클래스의 기본틀"
      ]
    },
    {
      "cell_type": "markdown",
      "metadata": {
        "id": "fmpH1TxJnzUl",
        "colab_type": "text"
      },
      "source": [
        "\n",
        "\n",
        "```\n",
        "Class Review:\n",
        "    def __init__(self, comment, date, star, good, bad):\n",
        "        self.comment = comment\n",
        "        self.date = date\n",
        "        self.star = star \n",
        "        self.good = good\n",
        "        self.bad = bad\n",
        "\n",
        "    def show(self):\n",
        "        print(\"내용 : \" + self.comment\n",
        "            \"\\n날짜 : \" + self.date \n",
        "            \"\\n별점 : \" + self.star\n",
        "            \"\\n좋아요 : \" + self.good\n",
        "            \"\\n싫어요 : \" + self.bad\n",
        "            )\n",
        "```\n",
        "\n"
      ]
    },
    {
      "cell_type": "markdown",
      "metadata": {
        "id": "JWA2etv1n4_6",
        "colab_type": "text"
      },
      "source": [
        "## 200326_웹크롤링_beautiful soup의 find와 select"
      ]
    },
    {
      "cell_type": "markdown",
      "metadata": {
        "id": "_DVdiJzNqWqU",
        "colab_type": "text"
      },
      "source": [
        "\n",
        "\n",
        "```\n",
        "# find의 사례\n",
        "    - soup.find('div', class_='btn').find('a').text.strip()\n",
        "\n",
        "# select의 사례\n",
        "    - find에서 찾은 객체내에서 다수의 요소를 선택하기\n",
        "    - find_obj.select(\"ul > li\") # ul 태그 아래 li를 모두 가져오기(리스트로 반환)\n",
        "    - good = find_obj.select(\"strong\")[0] # find로 찾은 객체내에서 strong 태그를 모두 선택하여 첫번째 내용\n",
        "    - bad = find_obj.select(\"strong\")[1] # # find로 찾은 객체내에서 strong 태그를 모두 선택하여 두번째 내용\n",
        "```\n",
        "\n"
      ]
    },
    {
      "cell_type": "markdown",
      "metadata": {
        "id": "EEiQKKiTrYVu",
        "colab_type": "text"
      },
      "source": [
        "## 200327_git의 사용사례\n",
        "- github에서 레포지토리 생성하기\n",
        "- git clone 레퍼지토리 웹주소 #로컬에서 클론\n",
        "- git add . # 문서 전체추가\n",
        "- git commit -m '커밋내용'\n",
        "- git push"
      ]
    },
    {
      "cell_type": "markdown",
      "metadata": {
        "id": "TmF0jKE_sNxj",
        "colab_type": "text"
      },
      "source": [
        "# 루마퓨전"
      ]
    },
    {
      "cell_type": "markdown",
      "metadata": {
        "id": "7ZMKzGsXvGyu",
        "colab_type": "text"
      },
      "source": [
        "## 200329_루마퓨전 설정하기\n",
        "- 영상의 비율 16:9\n",
        "- 프레임 설정\n",
        "    - 일반 : 30\n",
        "    - 영화 : 24\n",
        "    - 타임리맵핑 : 60"
      ]
    },
    {
      "cell_type": "markdown",
      "metadata": {
        "id": "aYtjmfXgvjEe",
        "colab_type": "text"
      },
      "source": [
        "## 200329_루마퓨전 타임리맵핑\n",
        "- 쉽게 말하면 퀵 앤 슬로우\n",
        "- 편집보다 촬영이 중요함\n",
        "    - 60 프레임 촬영\n",
        "- 촬영하면서 필요없는 부분에 효과\n",
        "    - 필요없는 부분은 영상 분할\n",
        "        - 시간효과 2~4배 빠르기\n",
        "        - 각각 적용해보면서 알맞은 빠르기 선택하기\n",
        "    - 걷는 부분등 \n",
        "        - 시관효과 2배 느리기\n"
      ]
    },
    {
      "cell_type": "markdown",
      "metadata": {
        "id": "fHlKtWelwEHa",
        "colab_type": "text"
      },
      "source": [
        "## 200329_루마퓨전 색상보정 및 LUT파일 적용방법\n",
        "- LUT 파일 : 색상 정보를 저장한 파일\n",
        "    - 구하는 방법 : 비됴체널 하쥔에서 구하기 \n",
        "- Log촬영 : 빛 정보를 최대한 많이 담음\n",
        "    - 아이폰에서 filmic pro 촬영 어플로 인앱 구매\n",
        "\n",
        "- 색상보정 방법 : 필터 입히기\n",
        "- LUTs 파일 적용 방법\n",
        "    - 색상보정 옆 아이콘\n",
        "    - 구글클라우드에 저장후 불러오기\n",
        "    "
      ]
    },
    {
      "cell_type": "markdown",
      "metadata": {
        "id": "nTjyCLV20qeK",
        "colab_type": "text"
      },
      "source": [
        "## 200329_피사체 따라 텍스트 사라지기 및 나타나기\n",
        "- 사라지기 효과\n",
        "    - 텍스트 추가하기\n",
        "    - 편집 자르기 효과\n",
        "    - 키프레임 지정하기\n",
        "    - 피사체와 겹치는 부분을 한 프레임씩 삭제하기\n",
        "\n",
        "- 나타나기 효과\n",
        "    - 텍스트 추가하기\n",
        "    - 사라지기 효과와 반대로 하면 되지 않을까? \n",
        "    - 실습이 필요함.\n",
        "    "
      ]
    },
    {
      "cell_type": "markdown",
      "metadata": {
        "id": "pEe7UEkz1P3a",
        "colab_type": "text"
      },
      "source": [
        "# 온라인 수업에 대한 생각 정리 200401"
      ]
    },
    {
      "cell_type": "markdown",
      "metadata": {
        "id": "kVVcedYSbXXw",
        "colab_type": "text"
      },
      "source": [
        "## 장기 휴업으로 인한 온라인 강의 200401\n",
        "### 배경 \n",
        "- 개학연기\n",
        "\t- 4~6학년 : 4. 16  / 17일 감축\n",
        "\t- 1~3학년 : 4.20 / 19일 감축\n",
        "\n",
        "- 온라인 수업 형태\n",
        "\t- 실시간 수업\n",
        "\t\t- 팀즈\n",
        "\t- 컨텐츠 제시형\n",
        "\t\t- EBS온라인 클래스\n",
        "\t- 과제 제시형\n",
        "\t\t- 구글클래스\n",
        "- 내가 생각하는 온라인 강의\n",
        "\t- EBS온라인 클래스 개설\n",
        "\t- EBS과학 수업 영상 제시\n",
        "\t- 과제 제시\n",
        "\t- 팀즈와 연계\n",
        "- 위기를 기회로\n",
        "\t- 동영상에 대한 관심\n",
        "\t\t- 루마퓨전 영상편집\n",
        "\t\t- 발명교육영상\n",
        "\t- 온라인을 통한 협업\n",
        "\t\t- 업무\n",
        "\t\t- 수업\n",
        "\t- SW동아리 운영\n",
        "\t\t- SW영상 제작\n",
        "\t\t- 거꾸로 교실"
      ]
    },
    {
      "cell_type": "markdown",
      "metadata": {
        "id": "ShS5imPGbajs",
        "colab_type": "text"
      },
      "source": [
        "# 200402_유투브 프리미엄 인도계정 가족초대하기\n",
        "\n",
        "## 계정생성하기\n",
        "- 계정설정 - 결재정보\n",
        "- 신용카드 등록\n",
        "- 수령지를 인도로 설정하기 \n",
        "\t- [200401_유투브 프리미엄 인도 주소](bear://x-callback-url/open-note?id=C092B490-0374-411F-B1CD-F853A9928407-941-0000032B58B27CFC)\n",
        "\n",
        "### 가족계정 등록하기\n",
        "- 구글크롬 free vpn사용하기\n",
        "\t* 크롬 앱스토어\n",
        "#### 결재 계정으로 이동\n",
        "* 계정 설정 - 공유\n",
        "* 가족 초대 - 이메일 입력하기 - 초대하기\n",
        "\n",
        "####  초대받는 계정으로 이동\n",
        "* 메일함으로 이동\n",
        "* 가족초대 허용하기\n"
      ]
    },
    {
      "cell_type": "code",
      "metadata": {
        "id": "LJSPCK1_WtL8",
        "colab_type": "code",
        "colab": {}
      },
      "source": [
        ""
      ],
      "execution_count": 0,
      "outputs": []
    }
  ]
}
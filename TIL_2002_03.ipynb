{
  "nbformat": 4,
  "nbformat_minor": 0,
  "metadata": {
    "colab": {
      "name": "TIL_2002_03.ipynb",
      "provenance": [],
      "authorship_tag": "ABX9TyOjAT+DcrNzhf5dNG55CGfd",
      "include_colab_link": true
    },
    "kernelspec": {
      "name": "python3",
      "display_name": "Python 3"
    }
  },
  "cells": [
    {
      "cell_type": "markdown",
      "metadata": {
        "id": "view-in-github",
        "colab_type": "text"
      },
      "source": [
        "<a href=\"https://colab.research.google.com/github/951237/TIL/blob/master/TIL_2002_03.ipynb\" target=\"_parent\"><img src=\"https://colab.research.google.com/assets/colab-badge.svg\" alt=\"Open In Colab\"/></a>"
      ]
    },
    {
      "cell_type": "markdown",
      "metadata": {
        "id": "Dcpr6njEELfu",
        "colab_type": "text"
      },
      "source": [
        "# 수익형 웹앱 만들기 "
      ]
    },
    {
      "cell_type": "markdown",
      "metadata": {
        "id": "VespYpkLGxCk",
        "colab_type": "text"
      },
      "source": [
        "## 200325_동물상 테스트 사이트 제작하기"
      ]
    },
    {
      "cell_type": "markdown",
      "metadata": {
        "id": "jMIsnvCTHHDp",
        "colab_type": "text"
      },
      "source": [
        "- 텍스트 및 이미지 크롤링하기\n",
        "    - 구글을 통한 이미지 자동 다운로드 이용하기\n",
        "        - googole - images-download활용하기\n",
        "- Teachable Machine으로 나와 닮은 동물상 찾기\n",
        "    - 인공지능이용하여 머신러닝하기\n",
        "    - 사진을 이용하여 동물상 찾기\n",
        "        - codepen을 활용하여 파일 업로드\n",
        "- Zeplin개념과 실전 바응형 웹앱 제작하기\n",
        "    - Zeplin : 디자인 코드 변환 도구\n",
        "        - 디자인 전달도구\n",
        "        - 디자이너 스케치결과물을 코드로 확인할 수 있음. \n",
        "- 댓글기능 구현하기\n",
        "    - \n",
        "- GitHub올리기 및 Netlify를 통한 배포 자동화\n",
        "    - 깃허브 업로드 \n",
        "    - Netlify와 깃허브 연동하기\n",
        "    - 깃허브 수정으로 Netlify와 연동"
      ]
    },
    {
      "cell_type": "markdown",
      "metadata": {
        "id": "5hUsOXeBPYPr",
        "colab_type": "text"
      },
      "source": [
        "# 파이썬"
      ]
    },
    {
      "cell_type": "markdown",
      "metadata": {
        "id": "D-90-ZHPk6wu",
        "colab_type": "text"
      },
      "source": [
        ""
      ]
    },
    {
      "cell_type": "markdown",
      "metadata": {
        "id": "BYCI7TaDkdFw",
        "colab_type": "text"
      },
      "source": [
        "## 200326_클래스를 이용한 크롤링하기 탐구\n",
        "- 시작하자~ "
      ]
    },
    {
      "cell_type": "markdown",
      "metadata": {
        "id": "fxHpF60Rk5BA",
        "colab_type": "text"
      },
      "source": [
        "## 200326_클래스의 기본틀"
      ]
    },
    {
      "cell_type": "markdown",
      "metadata": {
        "id": "fmpH1TxJnzUl",
        "colab_type": "text"
      },
      "source": [
        "\n",
        "\n",
        "```\n",
        "Class Review:\n",
        "    def __init__(self, comment, date, star, good, bad):\n",
        "        self.comment = comment\n",
        "        self.date = date\n",
        "        self.star = star \n",
        "        self.good = good\n",
        "        self.bad = bad\n",
        "\n",
        "    def show(self):\n",
        "        print(\"내용 : \" + self.comment\n",
        "            \"\\n날짜 : \" + self.date \n",
        "            \"\\n별점 : \" + self.star\n",
        "            \"\\n좋아요 : \" + self.good\n",
        "            \"\\n싫어요 : \" + self.bad\n",
        "            )\n",
        "```\n",
        "\n"
      ]
    },
    {
      "cell_type": "markdown",
      "metadata": {
        "id": "JWA2etv1n4_6",
        "colab_type": "text"
      },
      "source": [
        "## 200326_웹크롤링_beautiful soup의 find와 select"
      ]
    },
    {
      "cell_type": "markdown",
      "metadata": {
        "id": "_DVdiJzNqWqU",
        "colab_type": "text"
      },
      "source": [
        "\n",
        "\n",
        "```\n",
        "# find의 사례\n",
        "    - soup.find('div', class_='btn').find('a').text.strip()\n",
        "\n",
        "# select의 사례\n",
        "    - find에서 찾은 객체내에서 다수의 요소를 선택하기\n",
        "    - find_obj.select(\"ul > li\") # ul 태그 아래 li를 모두 가져오기(리스트로 반환)\n",
        "    - good = find_obj.select(\"strong\")[0] # find로 찾은 객체내에서 strong 태그를 모두 선택하여 첫번째 내용\n",
        "    - bad = find_obj.select(\"strong\")[1] # # find로 찾은 객체내에서 strong 태그를 모두 선택하여 두번째 내용\n",
        "```\n",
        "\n"
      ]
    },
    {
      "cell_type": "code",
      "metadata": {
        "id": "EEiQKKiTrYVu",
        "colab_type": "code",
        "colab": {}
      },
      "source": [
        ""
      ],
      "execution_count": 0,
      "outputs": []
    }
  ]
}
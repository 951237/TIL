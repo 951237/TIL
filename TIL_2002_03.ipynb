{
  "nbformat": 4,
  "nbformat_minor": 0,
  "metadata": {
    "colab": {
      "name": "TIL_2002_03.ipynb",
      "provenance": [],
      "authorship_tag": "ABX9TyPxGYfHEdaT0N6QTeYm9tUz",
      "include_colab_link": true
    },
    "kernelspec": {
      "name": "python3",
      "display_name": "Python 3"
    }
  },
  "cells": [
    {
      "cell_type": "markdown",
      "metadata": {
        "id": "view-in-github",
        "colab_type": "text"
      },
      "source": [
        "<a href=\"https://colab.research.google.com/github/951237/TIL/blob/master/TIL_2002_03.ipynb\" target=\"_parent\"><img src=\"https://colab.research.google.com/assets/colab-badge.svg\" alt=\"Open In Colab\"/></a>"
      ]
    },
    {
      "cell_type": "markdown",
      "metadata": {
        "id": "Dcpr6njEELfu",
        "colab_type": "text"
      },
      "source": [
        "# 수익형 웹앱 만들기 "
      ]
    },
    {
      "cell_type": "markdown",
      "metadata": {
        "id": "VespYpkLGxCk",
        "colab_type": "text"
      },
      "source": [
        "## 200325_동물상 테스트 사이트 제작하기"
      ]
    },
    {
      "cell_type": "markdown",
      "metadata": {
        "id": "jMIsnvCTHHDp",
        "colab_type": "text"
      },
      "source": [
        "- 텍스트 및 이미지 크롤링하기\n",
        "    - 구글을 통한 이미지 자동 다운로드 이용하기\n",
        "        - googole - images-download활용하기\n",
        "- Teachable Machine으로 나와 닮은 동물상 찾기\n",
        "    - 인공지능이용하여 머신러닝하기\n",
        "    - 사진을 이용하여 동물상 찾기\n",
        "        - codepen을 활용하여 파일 업로드\n",
        "- Zeplin개념과 실전 바응형 웹앱 제작하기\n",
        "    - Zeplin : 디자인 코드 변환 도구\n",
        "        - 디자인 전달도구\n",
        "        - 디자이너 스케치결과물을 코드로 확인할 수 있음. \n",
        "- 댓글기능 구현하기\n",
        "    - \n",
        "- GitHub올리기 및 Netlify를 통한 배포 자동화\n",
        "    - 깃허브 업로드 \n",
        "    - Netlify와 깃허브 연동하기\n",
        "    - 깃허브 수정으로 Netlify와 연동"
      ]
    },
    {
      "cell_type": "markdown",
      "metadata": {
        "id": "5hUsOXeBPYPr",
        "colab_type": "text"
      },
      "source": [
        "# 파이썬"
      ]
    },
    {
      "cell_type": "markdown",
      "metadata": {
        "id": "D-90-ZHPk6wu",
        "colab_type": "text"
      },
      "source": [
        ""
      ]
    },
    {
      "cell_type": "markdown",
      "metadata": {
        "id": "BYCI7TaDkdFw",
        "colab_type": "text"
      },
      "source": [
        "## 200326_클래스를 이용한 크롤링하기 탐구\n",
        "- 시작하자~ "
      ]
    },
    {
      "cell_type": "markdown",
      "metadata": {
        "id": "fxHpF60Rk5BA",
        "colab_type": "text"
      },
      "source": [
        "## 200326_클래스의 기본틀"
      ]
    },
    {
      "cell_type": "markdown",
      "metadata": {
        "id": "fmpH1TxJnzUl",
        "colab_type": "text"
      },
      "source": [
        "\n",
        "\n",
        "```\n",
        "Class Review:\n",
        "    def __init__(self, comment, date, star, good, bad):\n",
        "        self.comment = comment\n",
        "        self.date = date\n",
        "        self.star = star \n",
        "        self.good = good\n",
        "        self.bad = bad\n",
        "\n",
        "    def show(self):\n",
        "        print(\"내용 : \" + self.comment\n",
        "            \"\\n날짜 : \" + self.date \n",
        "            \"\\n별점 : \" + self.star\n",
        "            \"\\n좋아요 : \" + self.good\n",
        "            \"\\n싫어요 : \" + self.bad\n",
        "            )\n",
        "```\n",
        "\n"
      ]
    },
    {
      "cell_type": "markdown",
      "metadata": {
        "id": "JWA2etv1n4_6",
        "colab_type": "text"
      },
      "source": [
        "## 200326_웹크롤링_beautiful soup의 find와 select"
      ]
    },
    {
      "cell_type": "markdown",
      "metadata": {
        "id": "_DVdiJzNqWqU",
        "colab_type": "text"
      },
      "source": [
        "\n",
        "\n",
        "```\n",
        "# find의 사례\n",
        "    - soup.find('div', class_='btn').find('a').text.strip()\n",
        "\n",
        "# select의 사례\n",
        "    - find에서 찾은 객체내에서 다수의 요소를 선택하기\n",
        "    - find_obj.select(\"ul > li\") # ul 태그 아래 li를 모두 가져오기(리스트로 반환)\n",
        "    - good = find_obj.select(\"strong\")[0] # find로 찾은 객체내에서 strong 태그를 모두 선택하여 첫번째 내용\n",
        "    - bad = find_obj.select(\"strong\")[1] # # find로 찾은 객체내에서 strong 태그를 모두 선택하여 두번째 내용\n",
        "```\n",
        "\n"
      ]
    },
    {
      "cell_type": "markdown",
      "metadata": {
        "id": "EEiQKKiTrYVu",
        "colab_type": "text"
      },
      "source": [
        "## 200327_git의 사용사례\n",
        "- github에서 레포지토리 생성하기\n",
        "- git clone 레퍼지토리 웹주소 #로컬에서 클론\n",
        "- git add . # 문서 전체추가\n",
        "- git commit -m '커밋내용'\n",
        "- git push"
      ]
    },
    {
      "cell_type": "markdown",
      "metadata": {
        "id": "TmF0jKE_sNxj",
        "colab_type": "text"
      },
      "source": [
        "# 루마퓨전"
      ]
    },
    {
      "cell_type": "markdown",
      "metadata": {
        "id": "7ZMKzGsXvGyu",
        "colab_type": "text"
      },
      "source": [
        "## 200329_루마퓨전 설정하기\n",
        "- 영상의 비율 16:9\n",
        "- 프레임 설정\n",
        "    - 일반 : 30\n",
        "    - 영화 : 24\n",
        "    - 타임리맵핑 : 60"
      ]
    },
    {
      "cell_type": "markdown",
      "metadata": {
        "id": "aYtjmfXgvjEe",
        "colab_type": "text"
      },
      "source": [
        "## 200329_루마퓨전 타임리맵핑\n",
        "- 쉽게 말하면 퀵 앤 슬로우\n",
        "- 편집보다 촬영이 중요함\n",
        "    - 60 프레임 촬영\n",
        "- 촬영하면서 필요없는 부분에 효과\n",
        "    - 필요없는 부분은 영상 분할\n",
        "        - 시간효과 2~4배 빠르기\n",
        "        - 각각 적용해보면서 알맞은 빠르기 선택하기\n",
        "    - 걷는 부분등 \n",
        "        - 시관효과 2배 느리기\n"
      ]
    },
    {
      "cell_type": "markdown",
      "metadata": {
        "id": "fHlKtWelwEHa",
        "colab_type": "text"
      },
      "source": [
        "## 200329_루마퓨전 색상보정 및 LUT파일 적용방법\n",
        "- LUT 파일 : 색상 정보를 저장한 파일\n",
        "    - 구하는 방법 : 비됴체널 하쥔에서 구하기 \n",
        "- Log촬영 : 빛 정보를 최대한 많이 담음\n",
        "    - 아이폰에서 filmic pro 촬영 어플로 인앱 구매\n",
        "\n",
        "- 색상보정 방법 : 필터 입히기\n",
        "- LUTs 파일 적용 방법\n",
        "    - 색상보정 옆 아이콘\n",
        "    - 구글클라우드에 저장후 불러오기\n",
        "    "
      ]
    },
    {
      "cell_type": "markdown",
      "metadata": {
        "id": "nTjyCLV20qeK",
        "colab_type": "text"
      },
      "source": [
        "## 200329_피사체 따라 텍스트 사라지기 및 나타나기\n",
        "- 사라지기 효과\n",
        "    - 텍스트 추가하기\n",
        "    - 편집 자르기 효과\n",
        "    - 키프레임 지정하기\n",
        "    - 피사체와 겹치는 부분을 한 프레임씩 삭제하기\n",
        "\n",
        "- 나타나기 효과\n",
        "    - 텍스트 추가하기\n",
        "    - 사라지기 효과와 반대로 하면 되지 않을까? \n",
        "    - 실습이 필요함.\n",
        "    "
      ]
    },
    {
      "cell_type": "code",
      "metadata": {
        "id": "pEe7UEkz1P3a",
        "colab_type": "code",
        "colab": {}
      },
      "source": [
        ""
      ],
      "execution_count": 0,
      "outputs": []
    }
  ]
}
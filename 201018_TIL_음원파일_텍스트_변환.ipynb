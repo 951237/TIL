{
  "nbformat": 4,
  "nbformat_minor": 0,
  "metadata": {
    "colab": {
      "name": "201018_TIL_음원파일 텍스트 변환.ipynb",
      "provenance": [],
      "toc_visible": true,
      "mount_file_id": "1HOCKaTrSQ114JPkoQ9vjnsNFDaWuGymm",
      "authorship_tag": "ABX9TyMWJNeFxaSiP1w37H/0u/Xn",
      "include_colab_link": true
    },
    "kernelspec": {
      "name": "python3",
      "display_name": "Python 3"
    }
  },
  "cells": [
    {
      "cell_type": "markdown",
      "metadata": {
        "id": "view-in-github",
        "colab_type": "text"
      },
      "source": [
        "<a href=\"https://colab.research.google.com/github/951237/TIL/blob/master/201018_TIL_%EC%9D%8C%EC%9B%90%ED%8C%8C%EC%9D%BC_%ED%85%8D%EC%8A%A4%ED%8A%B8_%EB%B3%80%ED%99%98.ipynb\" target=\"_parent\"><img src=\"https://colab.research.google.com/assets/colab-badge.svg\" alt=\"Open In Colab\"/></a>"
      ]
    },
    {
      "cell_type": "markdown",
      "metadata": {
        "id": "seoAejsc4bH4"
      },
      "source": [
        "# 음성파일을 텍스트 파일로 변환\n",
        "- 구글 클라우드 참고 링크 : https://cloud.google.com/speech-to-text/docs/async-recognize?hl=ko"
      ]
    },
    {
      "cell_type": "code",
      "metadata": {
        "id": "kOdTnhbqxcBL"
      },
      "source": [
        "# 음성파일 변환 라이브러리 설치\n",
        "! pip install SpeechRecognition\n",
        "! pip install pyaudio\n",
        "! pip install --upgrade pyaudio\n",
        "! pip install wheel\n",
        "! pip install google-api-python-client\n",
        "! pip install monotonic\n",
        "! pip install SpeechRecognition\n",
        "\n",
        "# 오디오파일 듣기 라이브러리 설치\n",
        "!pip install simpleaudio\n",
        "!pip install google-cloud-speech"
      ],
      "execution_count": null,
      "outputs": []
    },
    {
      "cell_type": "code",
      "metadata": {
        "id": "vJVKE7vqC1f8"
      },
      "source": [
        "# 구글 클라우드 api파일 업로\n",
        "from google.colab import files\n",
        "\n",
        "uploaded = files.upload()\n",
        "\n",
        "for fn in uploaded.keys():\n",
        "  print('User uploaded file \"{name}\" with length {length} bytes'.format(\n",
        "      name=fn, length=len(uploaded[fn])))"
      ],
      "execution_count": null,
      "outputs": []
    },
    {
      "cell_type": "code",
      "metadata": {
        "id": "YaYPfrADC9rA"
      },
      "source": [
        "# 구글 파일 경로 설정\n",
        "import os\n",
        "os.environ['GOOGLE_APPLICATION_CREDENTIALS'] = '/content/WavToText-bafcc99c74b8.json'\n",
        "\n",
        "!ls -l $GOOGLE_APPLICATION_CREDENTIALS"
      ],
      "execution_count": null,
      "outputs": []
    },
    {
      "cell_type": "code",
      "metadata": {
        "id": "nsOZMo6pM6TE"
      },
      "source": [
        "# 음원 파일 경로\n",
        "p_PATH = 'gs://src_audio/aa.wav'"
      ],
      "execution_count": 4,
      "outputs": []
    },
    {
      "cell_type": "code",
      "metadata": {
        "id": "uDnKUE5nXEjy"
      },
      "source": [
        "def transcribe_gcs(gcs_uri):\n",
        "    \"\"\"Asynchronously transcribes the audio file specified by the gcs_uri.\"\"\"\n",
        "    from google.cloud import speech\n",
        "\n",
        "    client = speech.SpeechClient()\n",
        "\n",
        "    audio = speech.RecognitionAudio(uri=gcs_uri)\n",
        "    config = speech.RecognitionConfig(\n",
        "        encoding=speech.RecognitionConfig.AudioEncoding.LINEAR16,\n",
        "        sample_rate_hertz=41000,\n",
        "        language_code=\"ko-KR\",\n",
        "    )\n",
        "\n",
        "    operation = client.long_running_recognize(\n",
        "        request={\"config\": config, \"audio\": audio}\n",
        "    )\n",
        "\n",
        "    print(\"Waiting for operation to complete...\")\n",
        "    response = operation.result(timeout=90)\n",
        "\n",
        "    # Each result is for a consecutive portion of the audio. Iterate through\n",
        "    # them to get the transcripts for the entire audio file.\n",
        "    for result in response.results:\n",
        "        # The first alternative is the most likely one for this portion.\n",
        "        print(u\"Transcript: {}\".format(result.alternatives[0].transcript))\n",
        "        print(\"Confidence: {}\".format(result.alternatives[0].confidence))\n"
      ],
      "execution_count": 5,
      "outputs": []
    },
    {
      "cell_type": "code",
      "metadata": {
        "id": "S9zCbcfhXYMf",
        "outputId": "d148cac4-8f4c-40f5-d888-290df69423f7",
        "colab": {
          "base_uri": "https://localhost:8080/",
          "height": 34
        }
      },
      "source": [
        "transcribe_gcs(p_PATH)"
      ],
      "execution_count": 6,
      "outputs": [
        {
          "output_type": "stream",
          "text": [
            "Waiting for operation to complete...\n"
          ],
          "name": "stdout"
        }
      ]
    },
    {
      "cell_type": "markdown",
      "metadata": {
        "id": "Jk3feeG-4hLY"
      },
      "source": [
        "# 텍스트파일 분석하여 빈도수 출력"
      ]
    },
    {
      "cell_type": "markdown",
      "metadata": {
        "id": "mueE85y14m-I"
      },
      "source": [
        "# 분석한 파일 이용하여 워드클라우드 변환"
      ]
    },
    {
      "cell_type": "markdown",
      "metadata": {
        "id": "soXjsVwY4rKa"
      },
      "source": [
        "# 코딩 연습장"
      ]
    },
    {
      "cell_type": "code",
      "metadata": {
        "id": "OojpB6lw0BP6",
        "outputId": "9fcce8f7-6425-4eb4-8d2b-71b971bb41b5",
        "colab": {
          "base_uri": "https://localhost:8080/",
          "height": 71
        }
      },
      "source": [
        "# 라이브러리 설치\n",
        "! pip install SpeechRecognition\n",
        "\n",
        "#라이브러리 호출\n",
        "import speech_recognition as sr\n",
        "\n",
        "# 오브젝트 생성\n",
        "r = sr.Recognizer()\n",
        "r.energy_threshold = 300\n",
        "\n",
        "# 음원파일 경루\n",
        "PATH_WAV = \"/content/sample_data/나의 노래 3.wav\"\n",
        "\n",
        "# 파일 불러오기\n",
        "with sr.AudioFile(PATH_WAV) as source:\n",
        "    audio_text = r.record(source)\n",
        "\n",
        "# 파일을 텍스트로 변환\n",
        "try:\n",
        "    text = r.recognize_google(audio_data = audio_text, language='ko-KR')\n",
        "    print('음성을 텍스트로 변환중...')\n",
        "    print(text)\n",
        "except:\n",
        "    print('다시 시도합니다...')"
      ],
      "execution_count": 90,
      "outputs": [
        {
          "output_type": "stream",
          "text": [
            "음성을 텍스트로 변환중...\n",
            "이 영상은 비버챌린지 체험하기 및 도전하기에 대한 안내입니다 먼저 비버챌린지에 대해서 궁금해 하시는 분들이 많을텐데요 비버챌린지에 대해서 설명드리겠습니다 비버챌린지는 특별한 사전지식없이도 해결할 수 있는 실생활 중심의 과제에도 사람으로서 학생들에게 정보 과학 학습에 대한 동기를 거라고 컴퓨팅사고력을 촉진하기 위한 목적으로 개발된 과제해결 중심의 혁신적인 평가 모델이자 교육 운동입니다 2004년 리투 2004년 리투아니아 2004년 리투아니아에서 처음 시작되었으며 첫 회 참가자는 700여명이 없습니다 하지만 시간이 지나면서 유럽 지역을 중심으로 비버챌린지에 대한 관심과 여기는 세계 저녁으로 빠르게 확산되어 신년에는 전 세계 44개국 216만 명 예약\n"
          ],
          "name": "stdout"
        }
      ]
    }
  ]
}
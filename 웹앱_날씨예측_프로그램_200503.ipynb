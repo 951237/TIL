{
  "nbformat": 4,
  "nbformat_minor": 0,
  "metadata": {
    "colab": {
      "name": "웹앱_날씨예측 프로그램_200503",
      "provenance": [],
      "collapsed_sections": [],
      "toc_visible": true,
      "mount_file_id": "1RAJZLzQyt-kD_L3p8emzuXZCK3d8RP7-",
      "authorship_tag": "ABX9TyNXUhC5EmXxi1b6VnJeKouj",
      "include_colab_link": true
    },
    "kernelspec": {
      "name": "python3",
      "display_name": "Python 3"
    },
    "accelerator": "TPU"
  },
  "cells": [
    {
      "cell_type": "markdown",
      "metadata": {
        "id": "view-in-github",
        "colab_type": "text"
      },
      "source": [
        "<a href=\"https://colab.research.google.com/github/951237/TIL/blob/master/%EC%9B%B9%EC%95%B1_%EB%82%A0%EC%94%A8%EC%98%88%EC%B8%A1_%ED%94%84%EB%A1%9C%EA%B7%B8%EB%9E%A8_200503.ipynb\" target=\"_parent\"><img src=\"https://colab.research.google.com/assets/colab-badge.svg\" alt=\"Open In Colab\"/></a>"
      ]
    },
    {
      "cell_type": "markdown",
      "metadata": {
        "id": "9Ex-ltZEYF0W",
        "colab_type": "text"
      },
      "source": [
        "## TIL - 200210 : 배추가격 예측 AI로봇 \n",
        "- 링크 : https://youtu.be/wZvhBVqitn8"
      ]
    },
    {
      "cell_type": "markdown",
      "metadata": {
        "id": "yvDpBBejYOz3",
        "colab_type": "text"
      },
      "source": [
        "## TIL - 200209 텐서플로 따라하기(안경잡이 개발자)\n",
        "- x축은 시간 \n",
        "- y축은 임금\n",
        "- 데이터를 기반으로 추후 임금 구하기"
      ]
    },
    {
      "cell_type": "markdown",
      "metadata": {
        "id": "gtfubOpu1JSl",
        "colab_type": "text"
      },
      "source": [
        ""
      ]
    },
    {
      "cell_type": "markdown",
      "metadata": {
        "id": "a8rJ6L-Z2p0R",
        "colab_type": "text"
      },
      "source": [
        "### 데이터 수집\n",
        "- 기상자료개방포털 \n",
        "    - 기온 : https://data.kma.go.kr/stcs/grnd/grndTaList.do?pgmNo=70\n",
        "    - 강수량 : https://data.kma.go.kr/stcs/grnd/grndRnList.do?pgmNo=69\n",
        "- 농산물 유통정보 / 채소류 / 배추 / 전체품종\n",
        "    - 소매가격 / 최소가격\n",
        "\n",
        "### 데이터 정제\n",
        "- 평균기온, 최저기온, 최고기온, 강수량, 가격"
      ]
    },
    {
      "cell_type": "markdown",
      "metadata": {
        "id": "X4Vqjjvn4vMm",
        "colab_type": "text"
      },
      "source": [
        "### 텐서플로 다변인 선형 모델 계발하기\n",
        "- 변수가 여러가지 인경우 다변인 선형 회귀모델 적용\n",
        "    - 식 : H(x1, x2, x3, x4) = x1w1 + x2w2 + x3w3 + x4w4 \n",
        "        - 모든 변인이 가격에 영향을 미친다고 감안. 가중치를 고려하여 식을 세움.\n",
        "        - 행렬의 곱을 이요한 식 : H(X) = XW\n",
        "    - 학습률 : 0.000005"
      ]
    },
    {
      "cell_type": "markdown",
      "metadata": {
        "id": "nMEP8pyntsn0",
        "colab_type": "text"
      },
      "source": [
        "## 텐서플로 2.0 변환 성공\n",
        "\n",
        "참고 : https://leejigun.github.io/tensorflow2_2\n",
        "\n",
        "멀티회구 예측 : https://leejigun.github.io/tensorflow2_3\n",
        "\n",
        "다변인 선형회귀(good) : https://sdc-james.gitbook.io/onebook/4.-and/5.4.-tensorflow/5.4.1.-keras\n",
        "\n",
        "추가작업 : 학습중 결과 보여주기"
      ]
    },
    {
      "cell_type": "markdown",
      "metadata": {
        "id": "nSKK6HbRyXme",
        "colab_type": "text"
      },
      "source": [
        "### 훈련하기"
      ]
    },
    {
      "cell_type": "code",
      "metadata": {
        "id": "k6A9p0Mvrb2v",
        "colab_type": "code",
        "colab": {}
      },
      "source": [
        "\n",
        "# 라이브러리 호출\n",
        "from tensorflow.keras.models import Sequential\n",
        "from tensorflow.keras.layers import Dense\n",
        "from tensorflow.keras.optimizers import SGD\n",
        "from sklearn.preprocessing import LabelEncoder\n",
        "\n",
        "import tensorflow as tf\n",
        "import numpy as np\n",
        "import pandas as pd\n",
        "\n",
        "# 실행할때마다 같은 결과를 출력하기 위해 설정하는 부분\n",
        "np.random.seed(3)\n",
        "tf.random.set_seed(3)\n",
        "\n",
        "# 데이터 불러오기\n",
        "data = pd.read_csv('/content/drive/My Drive/data/ML/배추가격_데이터_예제_price data.csv')   # 데이터 파일 불러오기\n",
        "\n",
        "# 학습데이터 준비하기\n",
        "xy = np.array(data, dtype=np.float32)       # 데이터를 넘파이 값으로 담기 \n",
        "x_data = xy[:, 1:-1]    # 모든행을 선택, 열은 2번째 부터 끝에서 2번째 열까지 선택(변수 4가지)\n",
        "y_data = xy[:, [-1]]    # 모든행, 마지막 열 선택(가격)\n",
        "\n",
        "# 모델 설정하기\n",
        "model = Sequential()\n",
        "model.add(Dense(1, input_dim = 4))\n",
        "sgd = SGD(learning_rate=0.0005)\n",
        "\n",
        "# 모델 컴파일\n",
        "model.compile(loss='mean_squared_error', optimizer=sgd)\n",
        "model.summary\n",
        "\n",
        "hist = model.fit(x_data, y_data, epochs = 100)\n",
        "\n"
      ],
      "execution_count": 0,
      "outputs": []
    },
    {
      "cell_type": "markdown",
      "metadata": {
        "id": "oqhR-c9RyK5j",
        "colab_type": "text"
      },
      "source": [
        "### 결과 예측하기"
      ]
    },
    {
      "cell_type": "code",
      "metadata": {
        "id": "8HzJkHDh1buY",
        "colab_type": "code",
        "colab": {
          "base_uri": "https://localhost:8080/",
          "height": 34
        },
        "outputId": "80e9146f-3a76-43f3-fc0d-340a373aec21"
      },
      "source": [
        "avg_temp, min_temp, max_temp, rain_fall = [-4.1, -9.9, 2.9, 0]\n",
        "print(f\"평균온도 {avg_temp} / 최저온도 {min_temp} / 최고온도 {max_temp} / 강수량 {rain_fall}의 배추가격=\",model.predict(np.array([-4.1, -9.9, 2.9, 0]).reshape(1,4)))\n"
      ],
      "execution_count": 25,
      "outputs": [
        {
          "output_type": "stream",
          "text": [
            "평균온도 -4.1 / 최저온도 -9.9 / 최고온도 2.9 / 강수량 0의 배추가격= [[3032.9775]]\n"
          ],
          "name": "stdout"
        }
      ]
    },
    {
      "cell_type": "markdown",
      "metadata": {
        "id": "cWvXbbbf333z",
        "colab_type": "text"
      },
      "source": [
        "### 모델 저장하기"
      ]
    },
    {
      "cell_type": "code",
      "metadata": {
        "id": "YRZFfG0i38ps",
        "colab_type": "code",
        "colab": {}
      },
      "source": [
        "model.save('/content/drive/My Drive/data/ML/배추가격예상하기/predic_cabbage.h5')"
      ],
      "execution_count": 0,
      "outputs": []
    },
    {
      "cell_type": "markdown",
      "metadata": {
        "id": "NQQ_psVK9OO7",
        "colab_type": "text"
      },
      "source": [
        "### tensorflowjs변환\n",
        "참고 : https://www.tensorflow.org/js/tutorials/conversion/import_keras"
      ]
    },
    {
      "cell_type": "code",
      "metadata": {
        "id": "Apw3j3kC4JUu",
        "colab_type": "code",
        "colab": {}
      },
      "source": [
        "!pip install tensorflowjs"
      ],
      "execution_count": 0,
      "outputs": []
    },
    {
      "cell_type": "code",
      "metadata": {
        "id": "3UP7cG0b8uiN",
        "colab_type": "code",
        "colab": {}
      },
      "source": [
        "import tensorflowjs as tfjs"
      ],
      "execution_count": 0,
      "outputs": []
    },
    {
      "cell_type": "code",
      "metadata": {
        "id": "PMGgz8rF75c8",
        "colab_type": "code",
        "colab": {
          "base_uri": "https://localhost:8080/",
          "height": 71
        },
        "outputId": "221dd2b7-ed6f-4c91-f756-73322ed12cfd"
      },
      "source": [
        "\n",
        "tfjs.converters.save_keras_model(model, '/content/drive/My Drive/data/ML/배추가격예상하기_200507')"
      ],
      "execution_count": 36,
      "outputs": [
        {
          "output_type": "stream",
          "text": [
            "/usr/local/lib/python3.6/dist-packages/tensorflowjs/converters/keras_h5_conversion.py:122: H5pyDeprecationWarning: The default file mode will change to 'r' (read-only) in h5py 3.0. To suppress this warning, pass the mode you need to h5py.File(), or set the global default h5.get_config().default_file_mode, or set the environment variable H5PY_DEFAULT_READONLY=1. Available modes are: 'r', 'r+', 'w', 'w-'/'x', 'a'. See the docs for details.\n",
            "  return h5py.File(h5file)\n"
          ],
          "name": "stderr"
        }
      ]
    },
    {
      "cell_type": "code",
      "metadata": {
        "id": "X4k5k7688S2D",
        "colab_type": "code",
        "colab": {}
      },
      "source": [
        ""
      ],
      "execution_count": 0,
      "outputs": []
    }
  ]
}
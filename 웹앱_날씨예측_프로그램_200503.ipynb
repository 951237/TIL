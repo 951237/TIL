{
  "nbformat": 4,
  "nbformat_minor": 0,
  "metadata": {
    "colab": {
      "name": "웹앱_날씨예측 프로그램_200503",
      "provenance": [],
      "collapsed_sections": [],
      "mount_file_id": "1RAJZLzQyt-kD_L3p8emzuXZCK3d8RP7-",
      "authorship_tag": "ABX9TyP8LLU61lTdMWyJVWuLWCj6",
      "include_colab_link": true
    },
    "kernelspec": {
      "name": "python3",
      "display_name": "Python 3"
    },
    "accelerator": "TPU"
  },
  "cells": [
    {
      "cell_type": "markdown",
      "metadata": {
        "id": "view-in-github",
        "colab_type": "text"
      },
      "source": [
        "<a href=\"https://colab.research.google.com/github/951237/TIL/blob/master/%EC%9B%B9%EC%95%B1_%EB%82%A0%EC%94%A8%EC%98%88%EC%B8%A1_%ED%94%84%EB%A1%9C%EA%B7%B8%EB%9E%A8_200503.ipynb\" target=\"_parent\"><img src=\"https://colab.research.google.com/assets/colab-badge.svg\" alt=\"Open In Colab\"/></a>"
      ]
    },
    {
      "cell_type": "markdown",
      "metadata": {
        "id": "9Ex-ltZEYF0W",
        "colab_type": "text"
      },
      "source": [
        "## TIL - 200210 : 배추가격 예측 AI로봇 \n",
        "- 링크 : https://youtu.be/wZvhBVqitn8"
      ]
    },
    {
      "cell_type": "markdown",
      "metadata": {
        "id": "yvDpBBejYOz3",
        "colab_type": "text"
      },
      "source": [
        "## TIL - 200209 텐서플로 따라하기(안경잡이 개발자)\n",
        "- x축은 시간 \n",
        "- y축은 임금\n",
        "- 데이터를 기반으로 추후 임금 구하기"
      ]
    },
    {
      "cell_type": "markdown",
      "metadata": {
        "id": "gtfubOpu1JSl",
        "colab_type": "text"
      },
      "source": [
        ""
      ]
    },
    {
      "cell_type": "markdown",
      "metadata": {
        "id": "a8rJ6L-Z2p0R",
        "colab_type": "text"
      },
      "source": [
        "### 데이터 수집\n",
        "- 기상자료개방포털 \n",
        "    - 기온 : https://data.kma.go.kr/stcs/grnd/grndTaList.do?pgmNo=70\n",
        "    - 강수량 : https://data.kma.go.kr/stcs/grnd/grndRnList.do?pgmNo=69\n",
        "- 농산물 유통정보 / 채소류 / 배추 / 전체품종\n",
        "    - 소매가격 / 최소가격\n",
        "\n",
        "### 데이터 정제\n",
        "- 평균기온, 최저기온, 최고기온, 강수량, 가격"
      ]
    },
    {
      "cell_type": "markdown",
      "metadata": {
        "id": "X4Vqjjvn4vMm",
        "colab_type": "text"
      },
      "source": [
        "### 텐서플로 다변인 선형 모델 계발하기\n",
        "- 변수가 여러가지 인경우 다변인 선형 회귀모델 적용\n",
        "    - 식 : H(x1, x2, x3, x4) = x1w1 + x2w2 + x3w3 + x4w4 \n",
        "        - 모든 변인이 가격에 영향을 미친다고 감안. 가중치를 고려하여 식을 세움.\n",
        "        - 행렬의 곱을 이요한 식 : H(X) = XW\n",
        "    - 학습률 : 0.000005"
      ]
    },
    {
      "cell_type": "markdown",
      "metadata": {
        "id": "nMEP8pyntsn0",
        "colab_type": "text"
      },
      "source": [
        "## 텐서플로 2.0 변환 성공\n",
        "\n",
        "참고 : https://leejigun.github.io/tensorflow2_2\n",
        "\n",
        "멀티회구 예측 : https://leejigun.github.io/tensorflow2_3\n",
        "\n",
        "추가작업 : 학습중 결과 보여주기"
      ]
    },
    {
      "cell_type": "markdown",
      "metadata": {
        "id": "nSKK6HbRyXme",
        "colab_type": "text"
      },
      "source": [
        "### 훈련하기"
      ]
    },
    {
      "cell_type": "code",
      "metadata": {
        "id": "k6A9p0Mvrb2v",
        "colab_type": "code",
        "colab": {}
      },
      "source": [
        "\n",
        "# 라이브러리 호출\n",
        "import tensorflow as tf\n",
        "import numpy as np\n",
        "import pandas as pd\n",
        "\n",
        "# 데이터 불러오기\n",
        "data = pd.read_csv('/content/drive/My Drive/data/ML/배추가격_데이터_예제_price data.csv')   # 데이터 파일 불러오기\n",
        "\n",
        "# 학습데이터 준비하기\n",
        "xy = np.array(data, dtype=np.float32)       # 데이터를 넘파이 값으로 담기 \n",
        "x_data = xy[:, 1:-1]    # 모든행을 선택, 열은 2번째 부터 끝에서 2번째 열까지 선택(변수 4가지)\n",
        "y_data = xy[:, [-1]]    # 모든행, 마지막 열 선택(가격)\n",
        "\n",
        "model = tf.keras.models.Sequential()\n",
        "model.add(tf.keras.layers.Dense(1, input_dim = 4))\n",
        "sgd = tf.keras.optimizers.SGD(learning_rate=0.000005)\n",
        "model.compile(loss='mean_squared_error', optimizer=sgd)\n",
        "model.fit(x_data, y_data, epochs = 2000, batch_size=100)"
      ],
      "execution_count": 0,
      "outputs": []
    },
    {
      "cell_type": "markdown",
      "metadata": {
        "id": "oqhR-c9RyK5j",
        "colab_type": "text"
      },
      "source": [
        "### 결과 예측하기"
      ]
    },
    {
      "cell_type": "code",
      "metadata": {
        "id": "-LMPgskLxXeJ",
        "colab_type": "code",
        "colab": {
          "base_uri": "https://localhost:8080/",
          "height": 34
        },
        "outputId": "349aa4c8-69ce-4430-af20-2bb35e3d37c0"
      },
      "source": [
        "data = ((23.2, 20.2, 27.3, 7.4), )\n",
        "arr = np.array(data, dtype=np.float32)\n",
        "\n",
        "xdata = arr[0:4]\n",
        "xdata\n",
        "print(model.predict(xdata))"
      ],
      "execution_count": 12,
      "outputs": [
        {
          "output_type": "stream",
          "text": [
            "[[3072.3857]]\n"
          ],
          "name": "stdout"
        }
      ]
    },
    {
      "cell_type": "markdown",
      "metadata": {
        "id": "2nkUGa-ZfuPt",
        "colab_type": "text"
      },
      "source": [
        "## 배추값 예측 코드 v1"
      ]
    },
    {
      "cell_type": "code",
      "metadata": {
        "id": "qUJzhTSCGUyN",
        "colab_type": "code",
        "colab": {}
      },
      "source": [
        "\n",
        "# 라이브러리 호출\n",
        "import tensorflow as tf\n",
        "import numpy as np\n",
        "import pandas as pd\n",
        "\n",
        "# 데이터 불러오기\n",
        "data = pd.read_csv('/content/drive/My Drive/data/ML/배추가격_데이터_예제_price data.csv')   # 데이터 파일 불러오기\n",
        "\n",
        "# 학습데이터 준비하기\n",
        "model = tf.global_variables_initializer()   # 텐서플로 변수 초기화 하기\n",
        "xy = np.array(data, dtype=np.float32)       # 데이터를 넘파이 값으로 담기 \n",
        "x_data = xy[:, 1:-1]    # 모든행을 선택, 열은 2번째 부터 끝에서 2번째 열까지 선택(변수 4가지)\n",
        "y_data = xy[:, [-1]]    # 모든행, 마지막 열 선택(가격)\n",
        "\n",
        "\n",
        "# x = tf.placeholder(tf.float32, shape=[None, 4])     # x 축에 들어갈 학습데이터 선언\n",
        "# y = tf.placeholder(tf.float32, shape=[None, 1])     # y 축에 들어갈 학습데이터 선언\n",
        "W = tf.Variable(tf.random_normal([4,1]), name = 'weight') # 가중치의 변수를 랜덤으로 선언 [4,1]의 의미는 변수의 모양 4개 1행\n",
        "b = tf.Variable(tf.random_normal([1]), name='bias')       # 바이어스의 변수를 랜덤으로 선언 [1]의 의미는 변수의 형태임 1개 1행\n",
        "\n",
        "# 가설식 세우기\n",
        "hypothesis = tf.matmul(x,w) + b     # 가설식 세우기. 행열의 곱을 이용하여 식 세우기\n",
        "\n",
        "# 계산식 세우기\n",
        "cost = tf.reduce_mean(tf.square(hypothesis - y))    # 계산식 세우기\n",
        "\n",
        "# 최적화 함수 선언\n",
        "optimizer = tf.train.GradientDescentOptimizer(learning_rate=0.000005) # 최적화 함수 선언 및 학습율 설정하기\n",
        "train = optimizer.minimize(cost)\n",
        "\n",
        "# 세선 만들기\n",
        "sess = tf.Session() # 세션 만들기\n",
        "sess.run(tf.global_variables_initializer())   # 변수값 초기화\n",
        "\n",
        "# 학습시키기\n",
        "for step in range(100001):\n",
        "    cost_, hypo_, _ = sess.run([cost, hypothesis, train], feed_dict={x : x_data, y : y_data})\n",
        "    if step % 500 == 0:\n",
        "        print('#', step, \"손실비용 : \", cost_)\n",
        "        print(\"- 배추가격 : \", hypo_[0])\n",
        "\n",
        "# 학습모델 저저장하기 \n",
        "saver = tf.train.Saver()\n",
        "save_path = saver.save(sess, '/content/drive/My Drive/data/ML/배추가격예상하기/saved.cpkt')\n",
        "print(\"학습된 모델을 저장햇습니다.\")"
      ],
      "execution_count": 0,
      "outputs": []
    }
  ]
}
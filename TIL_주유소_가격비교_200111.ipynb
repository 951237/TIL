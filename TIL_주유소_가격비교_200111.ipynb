{
  "nbformat": 4,
  "nbformat_minor": 0,
  "metadata": {
    "colab": {
      "name": "TIL_주유소 가격비교_200111.ipynb",
      "provenance": [],
      "collapsed_sections": [],
      "toc_visible": true,
      "include_colab_link": true
    },
    "kernelspec": {
      "name": "python3",
      "display_name": "Python 3"
    }
  },
  "cells": [
    {
      "cell_type": "markdown",
      "metadata": {
        "id": "view-in-github",
        "colab_type": "text"
      },
      "source": [
        "<a href=\"https://colab.research.google.com/github/951237/TIL/blob/master/TIL_%EC%A3%BC%EC%9C%A0%EC%86%8C_%EA%B0%80%EA%B2%A9%EB%B9%84%EA%B5%90_200111.ipynb\" target=\"_parent\"><img src=\"https://colab.research.google.com/assets/colab-badge.svg\" alt=\"Open In Colab\"/></a>"
      ]
    },
    {
      "cell_type": "markdown",
      "metadata": {
        "id": "fsVMDDh10sbG",
        "colab_type": "text"
      },
      "source": [
        "# 주유소 가격정보 크롤링 "
      ]
    },
    {
      "cell_type": "markdown",
      "metadata": {
        "id": "Ibto1j7k1yjp",
        "colab_type": "text"
      },
      "source": [
        "## 준비하기 "
      ]
    },
    {
      "cell_type": "markdown",
      "metadata": {
        "id": "_wA64fdE03B5",
        "colab_type": "text"
      },
      "source": [
        "### 라이브러리 설치"
      ]
    },
    {
      "cell_type": "code",
      "metadata": {
        "id": "aWbVMgp307OX",
        "colab_type": "code",
        "outputId": "974c25a9-ec7c-4087-fcce-38f4a2fcc6e3",
        "colab": {
          "base_uri": "https://localhost:8080/",
          "height": 887
        }
      },
      "source": [
        "# !install chromium, its driver, and selenium\n",
        "!apt install chromium-chromedriver\n",
        "!cp /usr/lib/chromium-browser/chromedriver /usr/bin\n",
        "!pip install selenium"
      ],
      "execution_count": 1,
      "outputs": [
        {
          "output_type": "stream",
          "text": [
            "Reading package lists... Done\n",
            "Building dependency tree       \n",
            "Reading state information... Done\n",
            "The following package was automatically installed and is no longer required:\n",
            "  libnvidia-common-430\n",
            "Use 'apt autoremove' to remove it.\n",
            "The following additional packages will be installed:\n",
            "  chromium-browser chromium-browser-l10n chromium-codecs-ffmpeg-extra\n",
            "Suggested packages:\n",
            "  webaccounts-chromium-extension unity-chromium-extension adobe-flashplugin\n",
            "The following NEW packages will be installed:\n",
            "  chromium-browser chromium-browser-l10n chromium-chromedriver\n",
            "  chromium-codecs-ffmpeg-extra\n",
            "0 upgraded, 4 newly installed, 0 to remove and 7 not upgraded.\n",
            "Need to get 72.7 MB of archives.\n",
            "After this operation, 259 MB of additional disk space will be used.\n",
            "Get:1 http://archive.ubuntu.com/ubuntu bionic-updates/universe amd64 chromium-codecs-ffmpeg-extra amd64 79.0.3945.79-0ubuntu0.18.04.1 [1,079 kB]\n",
            "Get:2 http://archive.ubuntu.com/ubuntu bionic-updates/universe amd64 chromium-browser amd64 79.0.3945.79-0ubuntu0.18.04.1 [64.5 MB]\n",
            "Get:3 http://archive.ubuntu.com/ubuntu bionic-updates/universe amd64 chromium-browser-l10n all 79.0.3945.79-0ubuntu0.18.04.1 [3,094 kB]\n",
            "Get:4 http://archive.ubuntu.com/ubuntu bionic-updates/universe amd64 chromium-chromedriver amd64 79.0.3945.79-0ubuntu0.18.04.1 [3,976 kB]\n",
            "Fetched 72.7 MB in 1s (70.0 MB/s)\n",
            "Selecting previously unselected package chromium-codecs-ffmpeg-extra.\n",
            "(Reading database ... 135004 files and directories currently installed.)\n",
            "Preparing to unpack .../chromium-codecs-ffmpeg-extra_79.0.3945.79-0ubuntu0.18.04.1_amd64.deb ...\n",
            "Unpacking chromium-codecs-ffmpeg-extra (79.0.3945.79-0ubuntu0.18.04.1) ...\n",
            "Selecting previously unselected package chromium-browser.\n",
            "Preparing to unpack .../chromium-browser_79.0.3945.79-0ubuntu0.18.04.1_amd64.deb ...\n",
            "Unpacking chromium-browser (79.0.3945.79-0ubuntu0.18.04.1) ...\n",
            "Selecting previously unselected package chromium-browser-l10n.\n",
            "Preparing to unpack .../chromium-browser-l10n_79.0.3945.79-0ubuntu0.18.04.1_all.deb ...\n",
            "Unpacking chromium-browser-l10n (79.0.3945.79-0ubuntu0.18.04.1) ...\n",
            "Selecting previously unselected package chromium-chromedriver.\n",
            "Preparing to unpack .../chromium-chromedriver_79.0.3945.79-0ubuntu0.18.04.1_amd64.deb ...\n",
            "Unpacking chromium-chromedriver (79.0.3945.79-0ubuntu0.18.04.1) ...\n",
            "Setting up chromium-codecs-ffmpeg-extra (79.0.3945.79-0ubuntu0.18.04.1) ...\n",
            "Setting up chromium-browser (79.0.3945.79-0ubuntu0.18.04.1) ...\n",
            "update-alternatives: using /usr/bin/chromium-browser to provide /usr/bin/x-www-browser (x-www-browser) in auto mode\n",
            "update-alternatives: using /usr/bin/chromium-browser to provide /usr/bin/gnome-www-browser (gnome-www-browser) in auto mode\n",
            "Setting up chromium-chromedriver (79.0.3945.79-0ubuntu0.18.04.1) ...\n",
            "Setting up chromium-browser-l10n (79.0.3945.79-0ubuntu0.18.04.1) ...\n",
            "Processing triggers for hicolor-icon-theme (0.17-2) ...\n",
            "Processing triggers for mime-support (3.60ubuntu1) ...\n",
            "Processing triggers for man-db (2.8.3-2ubuntu0.1) ...\n",
            "cp: '/usr/lib/chromium-browser/chromedriver' and '/usr/bin/chromedriver' are the same file\n",
            "Collecting selenium\n",
            "\u001b[?25l  Downloading https://files.pythonhosted.org/packages/80/d6/4294f0b4bce4de0abf13e17190289f9d0613b0a44e5dd6a7f5ca98459853/selenium-3.141.0-py2.py3-none-any.whl (904kB)\n",
            "\u001b[K     |████████████████████████████████| 911kB 8.4MB/s \n",
            "\u001b[?25hRequirement already satisfied: urllib3 in /usr/local/lib/python3.6/dist-packages (from selenium) (1.24.3)\n",
            "Installing collected packages: selenium\n",
            "Successfully installed selenium-3.141.0\n"
          ],
          "name": "stdout"
        }
      ]
    },
    {
      "cell_type": "markdown",
      "metadata": {
        "id": "A0_XMTa71fxA",
        "colab_type": "text"
      },
      "source": [
        "### 웹드라이버 불러오기"
      ]
    },
    {
      "cell_type": "code",
      "metadata": {
        "id": "6Vly1fix1iyU",
        "colab_type": "code",
        "colab": {}
      },
      "source": [
        "from selenium import webdriver\n",
        "import time\n",
        "import pandas as pd\n",
        "\n",
        "# set options to be headless, ..\n",
        "options = webdriver.ChromeOptions()\n",
        "options.add_argument('--headless')\n",
        "options.add_argument('--no-sandbox')\n",
        "options.add_argument('--disable-dev-shm-usage')\n",
        "\n",
        "wd = webdriver.Chrome('chromedriver',options=options)"
      ],
      "execution_count": 0,
      "outputs": []
    },
    {
      "cell_type": "markdown",
      "metadata": {
        "id": "6zVi6wmR155z",
        "colab_type": "text"
      },
      "source": [
        "### 설정 : 입력과 출력"
      ]
    },
    {
      "cell_type": "code",
      "metadata": {
        "id": "gh37uJlt1-zY",
        "colab_type": "code",
        "colab": {}
      },
      "source": [
        "url = 'http://www.opinet.co.kr/'"
      ],
      "execution_count": 0,
      "outputs": []
    },
    {
      "cell_type": "markdown",
      "metadata": {
        "id": "F_xA5Tg52TID",
        "colab_type": "text"
      },
      "source": [
        "## 웹사이트 불러오기"
      ]
    },
    {
      "cell_type": "code",
      "metadata": {
        "id": "9MVBEikU268f",
        "colab_type": "code",
        "outputId": "7973a335-4c21-4c51-eca2-7a9a23fea564",
        "colab": {
          "base_uri": "https://localhost:8080/",
          "height": 34
        }
      },
      "source": [
        "# open it, go to a website, and get results\n",
        "print('{}에 접속중. . . '.format(url))\n",
        "wd.get(url)\n",
        "time.sleep(2)\n",
        "wd.save_screenshot('./001.png')"
      ],
      "execution_count": 0,
      "outputs": [
        {
          "output_type": "stream",
          "text": [
            "http://www.opinet.co.kr/에 접속중. . . \n"
          ],
          "name": "stdout"
        }
      ]
    },
    {
      "cell_type": "code",
      "metadata": {
        "id": "9y9UL4RGRkBx",
        "colab_type": "code",
        "colab": {}
      },
      "source": [
        "page_name = '주유소/충전기 찾기 메뉴'\n",
        "xpath = \"\"\"//*[@id=\"gnb\"]/ul/li[1]/a\"\"\"\n",
        "print('{} 페이지 이동중..'.format(page_name))\n",
        "wd.find_element_by_xpath(xpath).click()\n",
        "time.sleep(1)\n",
        "wd.save_screenshot('./002.png')"
      ],
      "execution_count": 0,
      "outputs": []
    },
    {
      "cell_type": "code",
      "metadata": {
        "id": "CBwV-3vHSE2E",
        "colab_type": "code",
        "colab": {}
      },
      "source": [
        "page_name = '지역별 '\n",
        "xpath = \"\"\"//*[@id=\"gnb_0_0\"]\"\"\"\n",
        "print('{} 페이지 이동중..'.format(page_name))\n",
        "wd.find_element_by_xpath(xpath).click()\n",
        "time.sleep(2)\n",
        "wd.save_screenshot('./003.png')\n",
        "# xpath1 = \"\"\"//*[@id=\"container\"]/div/div[2]/div/div/ul/li[1]/a\"\"\"\n",
        "# wd.find_element_by_xpath(xpath1).click()\n",
        "# time.sleep(2)\n"
      ],
      "execution_count": 0,
      "outputs": []
    },
    {
      "cell_type": "code",
      "metadata": {
        "id": "vQE07TUZYq8r",
        "colab_type": "code",
        "colab": {}
      },
      "source": [
        "page_name = '주유소 찾기'\n",
        "xpath = \"\"\"//*[@id=\"SIGUNGU_NM0\"]\"\"\"\n",
        "print('{}페이지 이동중..'.format(page_name))\n",
        "wd.find_element_by_xpath(xpath).click()\n",
        "time.sleep(1)\n",
        "wd.save_screenshot('./004.png')"
      ],
      "execution_count": 0,
      "outputs": []
    },
    {
      "cell_type": "markdown",
      "metadata": {
        "id": "cptSSvRK28DR",
        "colab_type": "text"
      },
      "source": [
        "## 데이터 모으기 "
      ]
    },
    {
      "cell_type": "code",
      "metadata": {
        "id": "1Pu3pKlyG7aL",
        "colab_type": "code",
        "colab": {}
      },
      "source": [
        "list_gu_raw = wd.find_element_by_xpath( \"\"\"//*[@id=\"SIGUNGU_NM0\"]\"\"\")\n",
        "list_gu_raw\n",
        "# list_gu = list_gu_raw.find_element_by_tag_name(\"option\")\n",
        "# list_gu"
      ],
      "execution_count": 0,
      "outputs": []
    },
    {
      "cell_type": "code",
      "metadata": {
        "id": "KLZL4ccgHrYl",
        "colab_type": "code",
        "colab": {}
      },
      "source": [
        ""
      ],
      "execution_count": 0,
      "outputs": []
    }
  ]
}
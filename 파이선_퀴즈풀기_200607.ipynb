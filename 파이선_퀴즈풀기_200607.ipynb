{
  "nbformat": 4,
  "nbformat_minor": 0,
  "metadata": {
    "colab": {
      "name": "파이선_퀴즈풀기_200607.ipynb",
      "provenance": [],
      "authorship_tag": "ABX9TyOzi9gqzG3PfQB7y/lKei2r",
      "include_colab_link": true
    },
    "kernelspec": {
      "name": "python3",
      "display_name": "Python 3"
    }
  },
  "cells": [
    {
      "cell_type": "markdown",
      "metadata": {
        "id": "view-in-github",
        "colab_type": "text"
      },
      "source": [
        "<a href=\"https://colab.research.google.com/github/951237/TIL/blob/master/%ED%8C%8C%EC%9D%B4%EC%84%A0_%ED%80%B4%EC%A6%88%ED%92%80%EA%B8%B0_200607.ipynb\" target=\"_parent\"><img src=\"https://colab.research.google.com/assets/colab-badge.svg\" alt=\"Open In Colab\"/></a>"
      ]
    },
    {
      "cell_type": "markdown",
      "metadata": {
        "id": "418G59HdX9a2",
        "colab_type": "text"
      },
      "source": [
        "# 200608_TIL_파이선 기초 문법 연습\n",
        "## quiz \n",
        "- 당신은 Cocoa 서비스 이용하는 택시 기사입니다.\n",
        "- 50명의 승객과 매칭 기회가 있을 때, 총 탑승 승객 수를 구하는 프로그램을 작성하시오. \n",
        "\n",
        "- 조건 1 : 승객별 운행 소요 시간은 5분 ~ 50분 사이의 난수로 정해집니다.\n",
        "- 조건 2 : 당신은 소요시간 5분 ~ 15분 사이의 승객만 매칭해야 합니다. \n",
        "\n",
        "- (출력문 예제)\n",
        "\n",
        "    [ ] 1번째 손님 (소요시간 : 29분)\n",
        "\n",
        "    [O] 2번째 손님 (소요시간 : 13분)\n",
        "\n",
        "    [O] 3번째 손님 (소요시간 : 5분)\n",
        "\n",
        "    ...\n",
        "\n",
        "    [O] 50번째 손님 (소요시간 : 15분)\n",
        "\n",
        "    총 탑승 승객 : 14 분\n"
      ]
    },
    {
      "cell_type": "code",
      "metadata": {
        "id": "y-UJWB2NWff5",
        "colab_type": "code",
        "colab": {}
      },
      "source": [
        "import random"
      ],
      "execution_count": 0,
      "outputs": []
    },
    {
      "cell_type": "code",
      "metadata": {
        "id": "_InNBtCmWvfh",
        "colab_type": "code",
        "outputId": "ecb9231a-a155-4995-db66-0c13e12a2b05",
        "colab": {
          "base_uri": "https://localhost:8080/",
          "height": 884
        }
      },
      "source": [
        "count = 0\n",
        "for i in range(1, 51):\n",
        "    pass_time = int(random.randrange(5, 50))\n",
        "    if 5 <= pass_time <= 15:\n",
        "        print(f'[O] {i}번째 손님 (소요시간 : {pass_time}분)')\n",
        "        count += 1\n",
        "    else:\n",
        "        print(f'[ ] {i}번째 손님 (소요시간 : {pass_time}분)')\n",
        "print(f'총 탑승 승객 : {count} 분')"
      ],
      "execution_count": 0,
      "outputs": [
        {
          "output_type": "stream",
          "text": [
            "[ ] 1번째 손님 (소요시간 : 35분)\n",
            "[O] 2번째 손님 (소요시간 : 13분)\n",
            "[ ] 3번째 손님 (소요시간 : 35분)\n",
            "[ ] 4번째 손님 (소요시간 : 33분)\n",
            "[ ] 5번째 손님 (소요시간 : 32분)\n",
            "[ ] 6번째 손님 (소요시간 : 43분)\n",
            "[O] 7번째 손님 (소요시간 : 7분)\n",
            "[ ] 8번째 손님 (소요시간 : 25분)\n",
            "[ ] 9번째 손님 (소요시간 : 16분)\n",
            "[ ] 10번째 손님 (소요시간 : 37분)\n",
            "[ ] 11번째 손님 (소요시간 : 45분)\n",
            "[O] 12번째 손님 (소요시간 : 9분)\n",
            "[ ] 13번째 손님 (소요시간 : 17분)\n",
            "[ ] 14번째 손님 (소요시간 : 21분)\n",
            "[ ] 15번째 손님 (소요시간 : 16분)\n",
            "[ ] 16번째 손님 (소요시간 : 20분)\n",
            "[ ] 17번째 손님 (소요시간 : 29분)\n",
            "[ ] 18번째 손님 (소요시간 : 43분)\n",
            "[ ] 19번째 손님 (소요시간 : 35분)\n",
            "[ ] 20번째 손님 (소요시간 : 29분)\n",
            "[ ] 21번째 손님 (소요시간 : 35분)\n",
            "[ ] 22번째 손님 (소요시간 : 44분)\n",
            "[ ] 23번째 손님 (소요시간 : 26분)\n",
            "[ ] 24번째 손님 (소요시간 : 36분)\n",
            "[ ] 25번째 손님 (소요시간 : 30분)\n",
            "[ ] 26번째 손님 (소요시간 : 18분)\n",
            "[ ] 27번째 손님 (소요시간 : 32분)\n",
            "[ ] 28번째 손님 (소요시간 : 32분)\n",
            "[ ] 29번째 손님 (소요시간 : 49분)\n",
            "[ ] 30번째 손님 (소요시간 : 46분)\n",
            "[ ] 31번째 손님 (소요시간 : 23분)\n",
            "[ ] 32번째 손님 (소요시간 : 16분)\n",
            "[ ] 33번째 손님 (소요시간 : 42분)\n",
            "[ ] 34번째 손님 (소요시간 : 40분)\n",
            "[ ] 35번째 손님 (소요시간 : 42분)\n",
            "[ ] 36번째 손님 (소요시간 : 17분)\n",
            "[ ] 37번째 손님 (소요시간 : 22분)\n",
            "[O] 38번째 손님 (소요시간 : 10분)\n",
            "[O] 39번째 손님 (소요시간 : 6분)\n",
            "[ ] 40번째 손님 (소요시간 : 42분)\n",
            "[ ] 41번째 손님 (소요시간 : 38분)\n",
            "[ ] 42번째 손님 (소요시간 : 47분)\n",
            "[ ] 43번째 손님 (소요시간 : 26분)\n",
            "[O] 44번째 손님 (소요시간 : 13분)\n",
            "[ ] 45번째 손님 (소요시간 : 33분)\n",
            "[O] 46번째 손님 (소요시간 : 10분)\n",
            "[O] 47번째 손님 (소요시간 : 12분)\n",
            "[ ] 48번째 손님 (소요시간 : 30분)\n",
            "[ ] 49번째 손님 (소요시간 : 16분)\n",
            "[ ] 50번째 손님 (소요시간 : 29분)\n",
            "총 탑승 승객 : 8 분\n"
          ],
          "name": "stdout"
        }
      ]
    },
    {
      "cell_type": "markdown",
      "metadata": {
        "id": "lRVm-HCaZM_P",
        "colab_type": "text"
      },
      "source": [
        "# 200608_퀴즈_표준체중 구하는 프로그램\n",
        "- 성별에 따른 공식\n",
        "    - 남자 : 키(m) * 키(m) * 22\n",
        "    - 여자 : 키(m) * 키(m) * 21\n",
        "\n",
        "- 조건 1 : 표준 체중은 별도의 함수 내에서 계산\n",
        "    - 함수명 : std_weight\n",
        "    - 전달값 : 키, 성별\n",
        "- 조건 2 : 표준 체중은 소수점 둘째자리까지 표시\n",
        "\n",
        "- 출력예제\n",
        "    - 키 175cm 남자의 표준 체중은 67.38kg입니다."
      ]
    },
    {
      "cell_type": "code",
      "metadata": {
        "id": "M5JU9NLhZ6GF",
        "colab_type": "code",
        "colab": {
          "base_uri": "https://localhost:8080/",
          "height": 51
        },
        "outputId": "7015b92b-62ad-4d6d-a78b-91605badf22d"
      },
      "source": [
        "gender = input('당신의 성별은? (남, 여)')\n",
        "height = int(input('당신의 키는? '))        # 숫자는 정수로 변환"
      ],
      "execution_count": 11,
      "outputs": [
        {
          "output_type": "stream",
          "text": [
            "당신의 성별은? (남, 여)여\n",
            "당신의 키는? 170\n"
          ],
          "name": "stdout"
        }
      ]
    },
    {
      "cell_type": "code",
      "metadata": {
        "id": "sKICvn-Ea127",
        "colab_type": "code",
        "colab": {}
      },
      "source": [
        "def std_weight(height, gender):\n",
        "    height = height / 100       # 키는 m로 단위 변환 위해서 나누기 100\n",
        "    if gender == '남':      # 남자일 경우 계산\n",
        "        result = height * height * 22\n",
        "        return round(result, 2)     # 소수점 2째자리까지 나타냄\n",
        "    else:\n",
        "        result = height * height * 21\n",
        "        return round(result, 2)"
      ],
      "execution_count": 0,
      "outputs": []
    },
    {
      "cell_type": "code",
      "metadata": {
        "id": "O1Q85WpZZtJP",
        "colab_type": "code",
        "colab": {
          "base_uri": "https://localhost:8080/",
          "height": 34
        },
        "outputId": "be895bb8-01bb-494b-e277-41607033f15c"
      },
      "source": [
        "result = std_weight(height, gender)\n",
        "print(f'키 {height}cm {gender}자의 표준 체중은 {result}kg 입니다.')"
      ],
      "execution_count": 24,
      "outputs": [
        {
          "output_type": "stream",
          "text": [
            "키 170cm 여자의 표준 체중은 60.69kg 입니다.\n"
          ],
          "name": "stdout"
        }
      ]
    },
    {
      "cell_type": "code",
      "metadata": {
        "id": "leaCGBjod3yj",
        "colab_type": "code",
        "colab": {}
      },
      "source": [
        ""
      ],
      "execution_count": 0,
      "outputs": []
    }
  ]
}
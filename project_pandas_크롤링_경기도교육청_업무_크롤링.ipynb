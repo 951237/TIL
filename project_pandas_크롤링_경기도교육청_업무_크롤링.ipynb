{
  "nbformat": 4,
  "nbformat_minor": 0,
  "metadata": {
    "colab": {
      "name": "project_pandas_크롤링_경기도교육청 업무 크롤링.ipynb",
      "provenance": [],
      "collapsed_sections": [],
      "toc_visible": true,
      "include_colab_link": true
    },
    "kernelspec": {
      "name": "python3",
      "display_name": "Python 3"
    }
  },
  "cells": [
    {
      "cell_type": "markdown",
      "metadata": {
        "id": "view-in-github",
        "colab_type": "text"
      },
      "source": [
        "<a href=\"https://colab.research.google.com/github/951237/TIL/blob/master/project_pandas_%ED%81%AC%EB%A1%A4%EB%A7%81_%EA%B2%BD%EA%B8%B0%EB%8F%84%EA%B5%90%EC%9C%A1%EC%B2%AD_%EC%97%85%EB%AC%B4_%ED%81%AC%EB%A1%A4%EB%A7%81.ipynb\" target=\"_parent\"><img src=\"https://colab.research.google.com/assets/colab-badge.svg\" alt=\"Open In Colab\"/></a>"
      ]
    },
    {
      "cell_type": "markdown",
      "metadata": {
        "id": "0bCfxNbWHYKX",
        "colab_type": "text"
      },
      "source": [
        "### 경기도교육청 교원정책과 크롤링\n",
        "\n",
        "### 추가작업\n",
        "- url 패턴 파악하기\n",
        "- 데이터 프레임 합치기\n",
        "- 엑셀파일 저장하기"
      ]
    },
    {
      "cell_type": "code",
      "metadata": {
        "id": "tfc-nbKPPyaC",
        "colab_type": "code",
        "colab": {}
      },
      "source": [
        "url = {\n",
        "    '교육감' : 'http://www.goe.go.kr/edu/organ/selectWorkList.do?organId=0100000000000&menuId=270151203155925&programId=PGM_1000000010',\n",
        "    '대변인' : 'http://www.goe.go.kr/edu/organ/selectWorkList.do?organId=0200000000000&menuId=270151203155925&programId=PGM_1000000010',\n",
        "    '제1부교육감' : 'http://www.goe.go.kr/edu/organ/selectWorkList.do?organId=0300000000000&menuId=270151203155925&programId=PGM_1000000010',\n",
        "    '감사관' : 'http://www.goe.go.kr/edu/organ/selectWorkList.do?organId=0400000000000&menuId=270151203155925&programId=PGM_1000000010',\n",
        "    '총무과' : 'http://www.goe.go.kr/edu/organ/selectWorkList.do?organId=0500000000000&menuId=270151203155925&programId=PGM_1000000010',\n",
        "    '안산복지' : 'http://www.goe.go.kr/edu/organ/selectWorkList.do?organId=3700000000000&menuId=270151203155925&programId=PGM_1000000010',\n",
        "    '기획조정실' : 'http://www.goe.go.kr/edu/organ/selectWorkList.do?organId=0600000000000&menuId=270151203155925&programId=PGM_1000000010',\n",
        "    '정책기획관' : 'http://www.goe.go.kr/edu/organ/selectWorkList.do?organId=0700000000000&menuId=270151203155925&programId=PGM_1000000010',\n",
        "    '행정관리담당관' : 'http://www.goe.go.kr/edu/organ/selectWorkList.do?organId=0800000000000&menuId=270151203155925&programId=PGM_1000000010',\n",
        "    '재무담당관' : 'http://www.goe.go.kr/edu/organ/selectWorkList.do?organId=0800000000000&menuId=270151203155925&programId=PGM_1000000010',\n",
        "    '교육정보담당관' : 'http://www.goe.go.kr/edu/organ/selectWorkList.do?organId=5500000000000&menuId=290151209145614&programId=PGM_1000000010',\n",
        "    '교육정책국' : 'http://www.goe.go.kr/edu/organ/selectWorkList.do?organId=7100000000000&menuId=270151203155925&programId=PGM_1000000010',\n",
        "    '학교정책과' : 'http://www.goe.go.kr/edu/organ/selectWorkList.do?organId=7100000000000&menuId=270151203155925&programId=PGM_1000000010',\n",
        "    '교원정책과' : 'http://www.goe.go.kr/edu/organ/selectWorkList.do?organId=1300000000000&menuId=270151203155925&programId=PGM_1000000010',\n",
        "    '교원역량개발과' : 'http://www.goe.go.kr/edu/organ/selectWorkList.do?organId=5600000000000&menuId=270151203155925&programId=PGM_1000000010',\n",
        "    '민주시민교육과' : 'http://www.goe.go.kr/edu/organ/selectWorkList.do?organId=3000000000000&menuId=270151203155925&programId=PGM_1000000010',\n",
        "    '학생건강과' : 'http://www.goe.go.kr/edu/organ/selectWorkList.do?organId=5700000000000&menuId=270151203155925&programId=PGM_1000000010',\n",
        "    '행정국' : 'http://www.goe.go.kr/edu/organ/selectWorkList.do?organId=1800000000000&menuId=270151203155925&programId=PGM_1000000010',\n",
        "    '학교설립과' : 'http://www.goe.go.kr/edu/organ/selectWorkList.do?organId=5800000000000&menuId=270151203155925&programId=PGM_1000000010',\n",
        "    '학교지원과' : 'http://www.goe.go.kr/edu/organ/selectWorkList.do?organId=1900000000000&menuId=270151203155925&programId=PGM_1000000010',\n",
        "    '학교안전기획과' : 'http://www.goe.go.kr/edu/organ/selectWorkList.do?organId=6000000000000&menuId=270151203155925&programId=PGM_1000000010',\n",
        "    '시설과' : 'http://www.goe.go.kr/edu/organ/selectWorkList.do?organId=2300000000000&menuId=270151203155925&programId=PGM_1000000010',\n",
        "    '교육환경개선과' : 'http://www.goe.go.kr/edu/organ/selectWorkList.do?organId=5900000000000&menuId=270151203155925&programId=PGM_1000000010',\n",
        "    '교육협력국' : 'http://www.goe.go.kr/edu/organ/selectWorkList.do?organId=7200000000000&menuId=270151203155925&programId=PGM_1000000010',\n",
        "    '대외협력과' : 'http://www.goe.go.kr/edu/organ/selectWorkList.do?organId=6100000000000&menuId=270151203155925&programId=PGM_1000000010',\n",
        "    '학부모시민협력과' : 'http://www.goe.go.kr/edu/organ/selectWorkList.do?organId=6200000000000&menuId=270151203155925&programId=PGM_1000000010',\n",
        "    '노사협력과' : 'http://www.goe.go.kr/edu/organ/selectWorkList.do?organId=6300000000000&menuId=270151203155925&programId=PGM_1000000010'\n",
        "}"
      ],
      "execution_count": 0,
      "outputs": []
    },
    {
      "cell_type": "code",
      "metadata": {
        "id": "FT0OpLFqRJ1_",
        "colab_type": "code",
        "outputId": "b77de0a5-1afc-472e-cc1c-e87bb871d7fc",
        "colab": {
          "base_uri": "https://localhost:8080/",
          "height": 484
        }
      },
      "source": [
        "for key, value in url.items():\n",
        "    print(key, value)"
      ],
      "execution_count": 8,
      "outputs": [
        {
          "output_type": "stream",
          "text": [
            "교육감 http://www.goe.go.kr/edu/organ/selectWorkList.do?organId=0100000000000&menuId=270151203155925&programId=PGM_1000000010\n",
            "대변인 http://www.goe.go.kr/edu/organ/selectWorkList.do?organId=0200000000000&menuId=270151203155925&programId=PGM_1000000010\n",
            "제1부교육감 http://www.goe.go.kr/edu/organ/selectWorkList.do?organId=0300000000000&menuId=270151203155925&programId=PGM_1000000010\n",
            "감사관 http://www.goe.go.kr/edu/organ/selectWorkList.do?organId=0400000000000&menuId=270151203155925&programId=PGM_1000000010\n",
            "총무과 http://www.goe.go.kr/edu/organ/selectWorkList.do?organId=0500000000000&menuId=270151203155925&programId=PGM_1000000010\n",
            "안산복지 http://www.goe.go.kr/edu/organ/selectWorkList.do?organId=3700000000000&menuId=270151203155925&programId=PGM_1000000010\n",
            "기획조정실 http://www.goe.go.kr/edu/organ/selectWorkList.do?organId=0600000000000&menuId=270151203155925&programId=PGM_1000000010\n",
            "정책기획관 http://www.goe.go.kr/edu/organ/selectWorkList.do?organId=0700000000000&menuId=270151203155925&programId=PGM_1000000010\n",
            "행정관리담당관 http://www.goe.go.kr/edu/organ/selectWorkList.do?organId=0800000000000&menuId=270151203155925&programId=PGM_1000000010\n",
            "재무담당관 http://www.goe.go.kr/edu/organ/selectWorkList.do?organId=0800000000000&menuId=270151203155925&programId=PGM_1000000010\n",
            "교육정보담당관 http://www.goe.go.kr/edu/organ/selectWorkList.do?organId=5500000000000&menuId=290151209145614&programId=PGM_1000000010\n",
            "교육정책국 http://www.goe.go.kr/edu/organ/selectWorkList.do?organId=7100000000000&menuId=270151203155925&programId=PGM_1000000010\n",
            "학교정책과 http://www.goe.go.kr/edu/organ/selectWorkList.do?organId=7100000000000&menuId=270151203155925&programId=PGM_1000000010\n",
            "교원정책과 http://www.goe.go.kr/edu/organ/selectWorkList.do?organId=1300000000000&menuId=270151203155925&programId=PGM_1000000010\n",
            "교원역량개발과 http://www.goe.go.kr/edu/organ/selectWorkList.do?organId=5600000000000&menuId=270151203155925&programId=PGM_1000000010\n",
            "민주시민교육과 http://www.goe.go.kr/edu/organ/selectWorkList.do?organId=3000000000000&menuId=270151203155925&programId=PGM_1000000010\n",
            "학생건강과 http://www.goe.go.kr/edu/organ/selectWorkList.do?organId=5700000000000&menuId=270151203155925&programId=PGM_1000000010\n",
            "행정국 http://www.goe.go.kr/edu/organ/selectWorkList.do?organId=1800000000000&menuId=270151203155925&programId=PGM_1000000010\n",
            "학교설립과 http://www.goe.go.kr/edu/organ/selectWorkList.do?organId=5800000000000&menuId=270151203155925&programId=PGM_1000000010\n",
            "학교지원과 http://www.goe.go.kr/edu/organ/selectWorkList.do?organId=1900000000000&menuId=270151203155925&programId=PGM_1000000010\n",
            "학교안전기획과 http://www.goe.go.kr/edu/organ/selectWorkList.do?organId=6000000000000&menuId=270151203155925&programId=PGM_1000000010\n",
            "시설과 http://www.goe.go.kr/edu/organ/selectWorkList.do?organId=2300000000000&menuId=270151203155925&programId=PGM_1000000010\n",
            "교육환경개선과 http://www.goe.go.kr/edu/organ/selectWorkList.do?organId=5900000000000&menuId=270151203155925&programId=PGM_1000000010\n",
            "교육협력국 http://www.goe.go.kr/edu/organ/selectWorkList.do?organId=7200000000000&menuId=270151203155925&programId=PGM_1000000010\n",
            "대외협력과 http://www.goe.go.kr/edu/organ/selectWorkList.do?organId=6100000000000&menuId=270151203155925&programId=PGM_1000000010\n",
            "학부모시민협력과 http://www.goe.go.kr/edu/organ/selectWorkList.do?organId=6200000000000&menuId=270151203155925&programId=PGM_1000000010\n",
            "노사협력과 http://www.goe.go.kr/edu/organ/selectWorkList.do?organId=6300000000000&menuId=270151203155925&programId=PGM_1000000010\n"
          ],
          "name": "stdout"
        }
      ]
    },
    {
      "cell_type": "code",
      "metadata": {
        "id": "T_Z0iiC-lrKw",
        "colab_type": "code",
        "colab": {
          "base_uri": "https://localhost:8080/",
          "height": 54
        },
        "outputId": "9c6a21f2-d090-4623-b0e3-2ac709469bd6"
      },
      "source": [
        "from google.colab import drive\n",
        "drive.mount('/content/drive')"
      ],
      "execution_count": 9,
      "outputs": [
        {
          "output_type": "stream",
          "text": [
            "Drive already mounted at /content/drive; to attempt to forcibly remount, call drive.mount(\"/content/drive\", force_remount=True).\n"
          ],
          "name": "stdout"
        }
      ]
    },
    {
      "cell_type": "code",
      "metadata": {
        "id": "ShkW9myrFM7_",
        "colab_type": "code",
        "outputId": "7bc5bcdb-ea51-46b0-b9bf-8a2d558b10e7",
        "colab": {
          "base_uri": "https://localhost:8080/",
          "height": 517
        }
      },
      "source": [
        "import pandas as pd\n",
        "from google.colab import files\n",
        "import time\n",
        "\n",
        "timestr = time.strftime('%Y%m%d-%H%M%S')\n",
        "\n",
        "df_result = pd.DataFrame()\n",
        "\n",
        "for key, value in url.items():\n",
        "    print('%s의 업무분장 정보 수집 중. . . ' %(key))\n",
        "    df = pd.read_html(value, encoding='ms949') # 헤더를 첫행으로, 인덱스는 0번째 열로 정하기 한글깨짐 인코딩\n",
        "    df_result = df_result.append(df[0], ignore_index= True) #데이터 프레임 붙이기\n",
        "\n",
        "    \n",
        "df_result\n",
        "\n",
        "print('엑셀파일을 생성중. . .')\n",
        "df_result.to_excel('/content/drive/My Drive/data/result/경기도교육청_업무조직_{}.xlsx'.format(timestr)) #데이터 프레임 엑셀파일 변환\n",
        "files.download('/content/drive/My Drive/data/result/경기도교육청_업무조직_{}.xlsx'.format(timestr)) # 엑셀파일 다운로드\n",
        "print('작업 완료!')"
      ],
      "execution_count": 10,
      "outputs": [
        {
          "output_type": "stream",
          "text": [
            "교육감의 업무분장 정보 수집 중. . . \n",
            "대변인의 업무분장 정보 수집 중. . . \n",
            "제1부교육감의 업무분장 정보 수집 중. . . \n",
            "감사관의 업무분장 정보 수집 중. . . \n",
            "총무과의 업무분장 정보 수집 중. . . \n",
            "안산복지의 업무분장 정보 수집 중. . . \n",
            "기획조정실의 업무분장 정보 수집 중. . . \n",
            "정책기획관의 업무분장 정보 수집 중. . . \n",
            "행정관리담당관의 업무분장 정보 수집 중. . . \n",
            "재무담당관의 업무분장 정보 수집 중. . . \n",
            "교육정보담당관의 업무분장 정보 수집 중. . . \n",
            "교육정책국의 업무분장 정보 수집 중. . . \n",
            "학교정책과의 업무분장 정보 수집 중. . . \n",
            "교원정책과의 업무분장 정보 수집 중. . . \n",
            "교원역량개발과의 업무분장 정보 수집 중. . . \n",
            "민주시민교육과의 업무분장 정보 수집 중. . . \n",
            "학생건강과의 업무분장 정보 수집 중. . . \n",
            "행정국의 업무분장 정보 수집 중. . . \n",
            "학교설립과의 업무분장 정보 수집 중. . . \n",
            "학교지원과의 업무분장 정보 수집 중. . . \n",
            "학교안전기획과의 업무분장 정보 수집 중. . . \n",
            "시설과의 업무분장 정보 수집 중. . . \n",
            "교육환경개선과의 업무분장 정보 수집 중. . . \n",
            "교육협력국의 업무분장 정보 수집 중. . . \n",
            "대외협력과의 업무분장 정보 수집 중. . . \n",
            "학부모시민협력과의 업무분장 정보 수집 중. . . \n",
            "노사협력과의 업무분장 정보 수집 중. . . \n",
            "엑셀파일을 생성중. . .\n",
            "작업 완료!\n"
          ],
          "name": "stdout"
        }
      ]
    },
    {
      "cell_type": "code",
      "metadata": {
        "id": "Bchz0x6LOTeR",
        "colab_type": "code",
        "colab": {}
      },
      "source": [
        ""
      ],
      "execution_count": 0,
      "outputs": []
    }
  ]
}
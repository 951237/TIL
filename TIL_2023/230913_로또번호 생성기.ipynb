{
 "cells": [
  {
   "cell_type": "markdown",
   "id": "77357dfa",
   "metadata": {},
   "source": [
    "# 로또번호 생성기"
   ]
  },
  {
   "cell_type": "code",
   "execution_count": 1,
   "id": "11c07bfe",
   "metadata": {},
   "outputs": [
    {
     "name": "stdout",
     "output_type": "stream",
     "text": [
      "로또 번호 세트 1: [1, 8, 19, 22, 23, 30]\n",
      "로또 번호 세트 2: [10, 11, 26, 32, 33, 41]\n",
      "로또 번호 세트 3: [5, 10, 11, 19, 22, 26]\n",
      "로또 번호 세트 4: [5, 10, 20, 37, 42, 44]\n",
      "로또 번호 세트 5: [7, 10, 11, 15, 21, 37]\n"
     ]
    }
   ],
   "source": [
    "import random\n",
    "\n",
    "def generate_lotto_numbers(num_sets):\n",
    "    lotto_sets = []\n",
    "    \n",
    "    for _ in range(num_sets):\n",
    "        # 1에서 45까지의 숫자 중에서 중복 없이 6개를 무작위로 선택합니다.\n",
    "        lotto_numbers = random.sample(range(1, 46), 6)\n",
    "        lotto_numbers.sort()\n",
    "        lotto_sets.append(lotto_numbers)\n",
    "    \n",
    "    return lotto_sets\n",
    "\n",
    "if __name__ == \"__main__\":\n",
    "    num_sets = 5  # 생성할 로또 번호 세트 개수\n",
    "    recommended_lotto_sets = generate_lotto_numbers(num_sets)\n",
    "    \n",
    "    # 생성된 로또 번호 세트를 출력합니다.\n",
    "    for i, lotto_numbers in enumerate(recommended_lotto_sets, start=1):\n",
    "        print(f\"로또 번호 세트 {i}: {lotto_numbers}\")\n"
   ]
  },
  {
   "cell_type": "code",
   "execution_count": null,
   "id": "90d20299",
   "metadata": {},
   "outputs": [],
   "source": []
  }
 ],
 "metadata": {
  "kernelspec": {
   "display_name": "Python 3 (ipykernel)",
   "language": "python",
   "name": "python3"
  },
  "language_info": {
   "codemirror_mode": {
    "name": "ipython",
    "version": 3
   },
   "file_extension": ".py",
   "mimetype": "text/x-python",
   "name": "python",
   "nbconvert_exporter": "python",
   "pygments_lexer": "ipython3",
   "version": "3.8.4"
  }
 },
 "nbformat": 4,
 "nbformat_minor": 5
}

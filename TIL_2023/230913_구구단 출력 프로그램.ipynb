{
 "cells": [
  {
   "cell_type": "markdown",
   "id": "13e26d39",
   "metadata": {},
   "source": [
    "# 구구단 출력 프로그램\n",
    "## chatgpt 프롬프트\n",
    "```\n",
    "파이썬 전문가라고 가정합니다.\n",
    "아래의 내용을 참고해서 구구단을 작성하는 코드를 작성해줘. \n",
    "- 숫자를 입력받아서 구구단을 출력한다. \n",
    "- 숫자는 1개 이상일수도 있어. 1개이상일 때는 쉼표로 입력받을 수 있도록 안내메세지를 작성해줘.\n",
    "- 출력 형식은 다음과 같이 한다.\n",
    "2 * 1 = 2\t\t3 * 1 = 3\n",
    "2 * 2 = 4\t\t3 * 2 = 6\n",
    "...\n",
    "2 *9 = 18\t\t3 * 9 = 27\n",
    "```"
   ]
  },
  {
   "cell_type": "markdown",
   "id": "1e859db1",
   "metadata": {},
   "source": [
    "## 실행코드와 결과"
   ]
  },
  {
   "cell_type": "code",
   "execution_count": 3,
   "id": "c441d192",
   "metadata": {
    "scrolled": true
   },
   "outputs": [
    {
     "name": "stdout",
     "output_type": "stream",
     "text": [
      "구구단을 출력할 숫자를 입력하세요 (쉼표로 구분): 3, 6, 8\n",
      "3 * 1 = 3\t6 * 1 = 6\t8 * 1 = 8\t\n",
      "3 * 2 = 6\t6 * 2 = 12\t8 * 2 = 16\t\n",
      "3 * 3 = 9\t6 * 3 = 18\t8 * 3 = 24\t\n",
      "3 * 4 = 12\t6 * 4 = 24\t8 * 4 = 32\t\n",
      "3 * 5 = 15\t6 * 5 = 30\t8 * 5 = 40\t\n",
      "3 * 6 = 18\t6 * 6 = 36\t8 * 6 = 48\t\n",
      "3 * 7 = 21\t6 * 7 = 42\t8 * 7 = 56\t\n",
      "3 * 8 = 24\t6 * 8 = 48\t8 * 8 = 64\t\n",
      "3 * 9 = 27\t6 * 9 = 54\t8 * 9 = 72\t\n"
     ]
    }
   ],
   "source": [
    "# 사용자로부터 숫자를 입력받아 구구단을 출력하는 함수\n",
    "def print_multiplication_table(numbers):\n",
    "    # 1부터 9까지 반복합니다.\n",
    "    for i in range(1, 10):\n",
    "        # 입력된 숫자 리스트에 대해 반복합니다.\n",
    "        for number in numbers:\n",
    "            # 곱셈 결과를 계산합니다.\n",
    "            result = i * number\n",
    "            # 결과를 출력하고 탭으로 구분합니다.\n",
    "            print(f\"{number} * {i} = {result}\\t\", end=\"\")\n",
    "        # 한 줄의 출력이 끝나면 줄을 바꿉니다.\n",
    "        print()\n",
    "\n",
    "if __name__ == \"__main__\":\n",
    "    # 사용자로부터 쉼표로 구분된 숫자를 입력받습니다.\n",
    "    input_numbers = input(\"구구단을 출력할 숫자를 입력하세요 (쉼표로 구분): \")\n",
    "    # 입력된 숫자를 리스트로 변환합니다.\n",
    "    numbers = [int(num) for num in input_numbers.split(\",\")]\n",
    "\n",
    "    # 적어도 하나의 숫자가 입력되었는지 확인합니다.\n",
    "    if not numbers:\n",
    "        print(\"적어도 하나의 숫자를 입력해야 합니다.\")\n",
    "    else:\n",
    "        # 입력된 숫자에 대한 구구단을 출력합니다.\n",
    "        print_multiplication_table(numbers)\n"
   ]
  },
  {
   "cell_type": "code",
   "execution_count": null,
   "id": "8bef784c",
   "metadata": {},
   "outputs": [],
   "source": []
  }
 ],
 "metadata": {
  "kernelspec": {
   "display_name": "Python 3 (ipykernel)",
   "language": "python",
   "name": "python3"
  },
  "language_info": {
   "codemirror_mode": {
    "name": "ipython",
    "version": 3
   },
   "file_extension": ".py",
   "mimetype": "text/x-python",
   "name": "python",
   "nbconvert_exporter": "python",
   "pygments_lexer": "ipython3",
   "version": "3.8.4"
  }
 },
 "nbformat": 4,
 "nbformat_minor": 5
}

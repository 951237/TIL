{
 "cells": [
  {
   "cell_type": "markdown",
   "id": "8545588a",
   "metadata": {},
   "source": [
    "# 2023 GTPC 문제 해결"
   ]
  },
  {
   "cell_type": "markdown",
   "id": "a475c079",
   "metadata": {},
   "source": [
    "## 1. 개요"
   ]
  },
  {
   "cell_type": "markdown",
   "id": "a7c71089",
   "metadata": {},
   "source": [
    "### 숫자 입력받기"
   ]
  },
  {
   "cell_type": "code",
   "execution_count": null,
   "id": "387efda1",
   "metadata": {},
   "outputs": [],
   "source": [
    "n, m = map(int, input().split())  # 행렬의 크기 입력 받기"
   ]
  },
  {
   "cell_type": "markdown",
   "id": "44f6aa13",
   "metadata": {},
   "source": [
    "### 리스트로 배열 만들기"
   ]
  },
  {
   "cell_type": "code",
   "execution_count": null,
   "id": "77af427d",
   "metadata": {
    "scrolled": true
   },
   "outputs": [],
   "source": [
    "x, y = map(int, input().split())  # 행렬의 크기 입력 받기\n",
    "arr = [list(map(int, input().split())) for _ in range(x)]  # n줄의 행렬 값 입력 받기"
   ]
  },
  {
   "cell_type": "markdown",
   "id": "5d499e60",
   "metadata": {},
   "source": [
    "### GTPC"
   ]
  },
  {
   "cell_type": "code",
   "execution_count": null,
   "id": "5708f087",
   "metadata": {},
   "outputs": [],
   "source": [
    "print(\"Gyeonggi Teacher's Programming Challenge\")"
   ]
  },
  {
   "cell_type": "markdown",
   "id": "efd210d1",
   "metadata": {},
   "source": [
    "## 231021 본선문제 풀이"
   ]
  },
  {
   "cell_type": "markdown",
   "id": "5c90155a",
   "metadata": {},
   "source": [
    "### b1 - 햄버거 패티 만들기"
   ]
  },
  {
   "cell_type": "code",
   "execution_count": 27,
   "id": "105240c7",
   "metadata": {},
   "outputs": [
    {
     "name": "stdout",
     "output_type": "stream",
     "text": [
      "23 20\n",
      "만들 수 있는 햄버거 패티 수: 11\n"
     ]
    }
   ],
   "source": [
    "def make_burgers(n, m):\n",
    "    # 햄버거 패티 수 초기화\n",
    "    patties = 0\n",
    "    \n",
    "    while n >= 2 and m >= 1:\n",
    "        # 햄버거 패티를 만들어서 재료를 사용\n",
    "        n -= 2\n",
    "        m -= 1\n",
    "        patties += 1\n",
    "    \n",
    "    return patties\n",
    "\n",
    "n, m = map(int, input().split())  # 행렬의 크기 입력 받기\n",
    "\n",
    "result = make_burgers(n, m)\n",
    "print(result)\n"
   ]
  },
  {
   "cell_type": "markdown",
   "id": "4abb79e3",
   "metadata": {},
   "source": [
    "### e1 - gtpc 찾기1"
   ]
  },
  {
   "cell_type": "code",
   "execution_count": 30,
   "id": "488c70d6",
   "metadata": {},
   "outputs": [
    {
     "name": "stdout",
     "output_type": "stream",
     "text": [
      "gtpapcc\n",
      "'gtpc'를 만들어낼 수 있는 경우의 수: 4\n"
     ]
    }
   ],
   "source": [
    "def count_gtpc_combinations(s):\n",
    "    def backtrack(start, path):\n",
    "        if len(path) == 4 and path == 'GTPC':\n",
    "            nonlocal count\n",
    "            count += 1\n",
    "            return\n",
    "\n",
    "        if start >= len(s) or len(path) >= 4:\n",
    "            return\n",
    "\n",
    "        for i in range(start, len(s)):\n",
    "            if s[i] == 'GTPC'[len(path)]:\n",
    "                backtrack(i + 1, path + s[i])\n",
    "\n",
    "    count = 0\n",
    "    backtrack(0, '')\n",
    "\n",
    "    return count\n",
    "\n",
    "# 예시 입력\n",
    "input_string = input()\n",
    "\n",
    "result = count_gtpc_combinations(input_string.upper())\n",
    "print(result)\n"
   ]
  },
  {
   "cell_type": "markdown",
   "id": "2c552051",
   "metadata": {},
   "source": [
    "### f1 - 바이러스 변이 1"
   ]
  },
  {
   "cell_type": "code",
   "execution_count": 36,
   "id": "f2d45097",
   "metadata": {},
   "outputs": [
    {
     "name": "stdout",
     "output_type": "stream",
     "text": [
      "최소 변이 횟수: 3\n"
     ]
    }
   ],
   "source": [
    "def minimum_mutation(binary_string):\n",
    "    count = 0\n",
    "    num_zeros = 0\n",
    "\n",
    "    for bit in reversed(binary_string):\n",
    "        if bit == '0':\n",
    "            num_zeros += 1\n",
    "            if num_zeros >= 2:\n",
    "                count += 1\n",
    "                num_zeros = 0\n",
    "        else:\n",
    "            if num_zeros > 0:\n",
    "                count += 1\n",
    "                num_zeros = 0\n",
    "\n",
    "    return count\n",
    "\n",
    "# 예시 입력\n",
    "binary_string = '110111000'\n",
    "\n",
    "result = minimum_mutation(binary_string)\n",
    "print(f\"최소 변이 횟수: {result}\")"
   ]
  },
  {
   "cell_type": "code",
   "execution_count": 76,
   "id": "4ee258a5",
   "metadata": {},
   "outputs": [
    {
     "name": "stdout",
     "output_type": "stream",
     "text": [
      "Step 1: 1000011, 변이 횟수: 2\n",
      "Step 2: 1000111, 변이 횟수: 2\n",
      "Step 3: 1001111, 변이 횟수: 1\n",
      "Step 4: 1011111, 변이 횟수: 1\n",
      "Step 5: 1111111, 변이 횟수: 0\n"
     ]
    }
   ],
   "source": [
    "def minimum_mutation(binary_string):\n",
    "    count = 0\n",
    "    num_zeros = 0\n",
    "\n",
    "    for bit in reversed(binary_string):\n",
    "        if bit == '0':\n",
    "            num_zeros += 1\n",
    "            if num_zeros >= 2:\n",
    "                count += 1\n",
    "                num_zeros = 0\n",
    "        else:\n",
    "            if num_zeros > 0:\n",
    "                count += 1\n",
    "                num_zeros = 0\n",
    "\n",
    "    return count\n",
    "\n",
    "def binary_mutation(binary_string):\n",
    "    while '0' in binary_string:\n",
    "        index = binary_string.rfind('0')\n",
    "        binary_string = binary_string[:index] + '1' + binary_string[index + 1:]\n",
    "        yield binary_string\n",
    "\n",
    "    # Change all adjacent 0's to 1's\n",
    "    while '00' in binary_string:\n",
    "        binary_string = binary_string.replace('00', '11')\n",
    "        yield binary_string\n",
    "\n",
    "\n",
    "# 예시 입력\n",
    "binary_string = '1000001'\n",
    "\n",
    "mutations = list(binary_mutation(binary_string))\n",
    "\n",
    "for i, mutation in enumerate(mutations, start=1):\n",
    "    result = minimum_mutation(mutation)\n",
    "    print(f\"Step {i}: {mutation}, 변이 횟수: {result}\")\n"
   ]
  },
  {
   "cell_type": "code",
   "execution_count": 58,
   "id": "4081d0a3",
   "metadata": {},
   "outputs": [
    {
     "name": "stdout",
     "output_type": "stream",
     "text": [
      "0\n"
     ]
    }
   ],
   "source": [
    "def minimum_mutation(binary_string):\n",
    "    count = 0\n",
    "    num_zeros = 0\n",
    "\n",
    "    for bit in reversed(binary_string):\n",
    "        if bit == '0':\n",
    "            num_zeros += 1\n",
    "            if num_zeros >= 2:\n",
    "                count += 1\n",
    "                num_zeros = 0\n",
    "        else:\n",
    "            if num_zeros > 0:\n",
    "                count += 1\n",
    "                num_zeros = 0\n",
    "\n",
    "    return count\n",
    "\n",
    "def binary_mutation(binary_string):\n",
    "    while '0' in binary_string:\n",
    "        index = binary_string.rfind('0')\n",
    "        binary_string = binary_string[:index] + '1' + binary_string[index + 1:]\n",
    "        yield binary_string\n",
    "\n",
    "    # Check for adjacent 0's and change them to 1's\n",
    "    while '00' in binary_string:\n",
    "        index = binary_string.rfind('00')\n",
    "        binary_string = binary_string[:index] + '11' + binary_string[index + 2:]\n",
    "        yield binary_string\n",
    "\n",
    "# 예시 입력\n",
    "binary_string = '101'\n",
    "\n",
    "mutations = list(binary_mutation(binary_string))\n",
    "lst_result = []\n",
    "for i, mutation in enumerate(mutations, start=1):\n",
    "    result = minimum_mutation(mutation)\n",
    "    lst_result.append(result)\n",
    "print(lst_result[0])\n"
   ]
  },
  {
   "cell_type": "code",
   "execution_count": 74,
   "id": "4434b09c",
   "metadata": {},
   "outputs": [
    {
     "name": "stdout",
     "output_type": "stream",
     "text": [
      "100000001\n",
      "3\n"
     ]
    }
   ],
   "source": [
    "def minimum_mutation(binary_string):\n",
    "    count = 0\n",
    "    num_zeros = 0\n",
    "\n",
    "    for bit in reversed(binary_string):\n",
    "        if bit == '0':\n",
    "            num_zeros += 1\n",
    "            if num_zeros >= 2:\n",
    "                count += 1\n",
    "                num_zeros = 0\n",
    "        else:\n",
    "            if num_zeros > 0:\n",
    "                count += 1\n",
    "                num_zeros = 0\n",
    "\n",
    "    return count\n",
    "\n",
    "def binary_mutation(binary_string):\n",
    "    while '0' in binary_string:\n",
    "        index = binary_string.rfind('0')\n",
    "        binary_string = binary_string[:index] + '1' + binary_string[index + 1:]\n",
    "        yield binary_string\n",
    "\n",
    "    # Check for adjacent 0's and change them to 1's\n",
    "    while '00' in binary_string:\n",
    "        index = binary_string.rfind('00')\n",
    "        binary_string = binary_string[:index] + '11' + binary_string[index + 2:]\n",
    "        yield binary_string\n",
    "\n",
    "# 예시 입력\n",
    "binary_string = str(input())\n",
    "if '0' not in binary_string:\n",
    "    print(0)\n",
    "elif binary_string.count('0') == 1:\n",
    "    print(1)\n",
    "else:\n",
    "    mutations = list(binary_mutation(binary_string))\n",
    "    lst_result = []\n",
    "\n",
    "    for i, mutation in enumerate(mutations, start=1):\n",
    "        result = minimum_mutation(mutation)\n",
    "        lst_result.append(result)\n",
    "    print(lst_result[0])\n"
   ]
  },
  {
   "cell_type": "code",
   "execution_count": 79,
   "id": "22895341",
   "metadata": {},
   "outputs": [
    {
     "name": "stdout",
     "output_type": "stream",
     "text": [
      "10001\n",
      "2\n"
     ]
    }
   ],
   "source": [
    "def minimum_mutation(binary_string):\n",
    "    count = 0\n",
    "    num_ones = 0\n",
    "\n",
    "    for bit in binary_string:\n",
    "        if bit == '0':\n",
    "            num_ones = 0  # Reset the count of adjacent ones\n",
    "        else:\n",
    "            num_ones += 1\n",
    "            if num_ones >= 2:\n",
    "                count += 1\n",
    "                num_ones = 0\n",
    "\n",
    "    return count\n",
    "\n",
    "def binary_mutation(binary_string):\n",
    "    while '0' in binary_string:\n",
    "        index = binary_string.find('0')\n",
    "        binary_string = binary_string[:index] + '1' + binary_string[index + 1:]\n",
    "        yield binary_string\n",
    "\n",
    "    # Check for adjacent 0's and change them to 1's\n",
    "    while '00' in binary_string:\n",
    "        index = binary_string.find('00')\n",
    "        binary_string = binary_string[:index] + '11' + binary_string[index + 2:]\n",
    "        yield binary_string\n",
    "\n",
    "def find_minimum_mutation(binary_string):\n",
    "    if '0' not in binary_string:\n",
    "        return 0\n",
    "\n",
    "    mutations = list(binary_mutation(binary_string))\n",
    "    for mutation in mutations:\n",
    "        if all(bit == '1' for bit in mutation):\n",
    "            return minimum_mutation(mutation)\n",
    "\n",
    "# 예시 입력\n",
    "binary_string = str(input())\n",
    "result = find_minimum_mutation(binary_string)\n",
    "print(result)\n"
   ]
  },
  {
   "cell_type": "code",
   "execution_count": null,
   "id": "0f934847",
   "metadata": {},
   "outputs": [],
   "source": []
  },
  {
   "cell_type": "markdown",
   "id": "6c36fe4f",
   "metadata": {},
   "source": [
    "## 231020 연습문제 풀이"
   ]
  },
  {
   "cell_type": "markdown",
   "id": "4813dab0",
   "metadata": {},
   "source": [
    "### f0 - 데이터 시각화"
   ]
  },
  {
   "cell_type": "code",
   "execution_count": null,
   "id": "084c6cc4",
   "metadata": {},
   "outputs": [],
   "source": [
    "print(\"....O\")\n",
    "print(\"O...O\")\n",
    "print(\"O...O\")\n",
    "print(\"O...O\")\n",
    "print(\"O.O.O\")"
   ]
  },
  {
   "cell_type": "markdown",
   "id": "270c937a",
   "metadata": {},
   "source": [
    "### c0 - 나눗셈 0"
   ]
  },
  {
   "cell_type": "code",
   "execution_count": 2,
   "id": "70c56e34",
   "metadata": {},
   "outputs": [
    {
     "data": {
      "text/plain": [
       "9.99999999"
      ]
     },
     "execution_count": 2,
     "metadata": {},
     "output_type": "execute_result"
    }
   ],
   "source": [
    "a = 999999999\n",
    "b = 100000000\n",
    "a / b"
   ]
  },
  {
   "cell_type": "markdown",
   "id": "c6e1e26c",
   "metadata": {},
   "source": [
    "### b1 - 디피게임 1"
   ]
  },
  {
   "cell_type": "code",
   "execution_count": 11,
   "id": "696deb5f",
   "metadata": {},
   "outputs": [
    {
     "name": "stdout",
     "output_type": "stream",
     "text": [
      "1 1 2 2\n",
      "3\n"
     ]
    }
   ],
   "source": [
    "def diffy_game_count(a, b, c, d):\n",
    "    count = 0\n",
    "    while a != 0 or b != 0 or c != 0 or d != 0:\n",
    "        # Calculate the new values for a, b, c, and d\n",
    "        new_a = abs(b - a)\n",
    "        new_b = abs(c - b)\n",
    "        new_c = abs(d - c)\n",
    "        new_d = abs(a - d)\n",
    "\n",
    "        # Update the values of a, b, c, and d\n",
    "        a, b, c, d = new_a, new_b, new_c, new_d\n",
    "\n",
    "        # Increment the count\n",
    "        count += 1\n",
    "\n",
    "    return count\n",
    "\n",
    "a, b, c, d = map(int, input().split())  # 행렬의 크기 입력 받기\n",
    "\n",
    "result = diffy_game_count(a, b, c, d)\n",
    "print(result)\n"
   ]
  },
  {
   "cell_type": "markdown",
   "id": "78e32357",
   "metadata": {},
   "source": [
    "### c1 - 나눗셈 1\n",
    "- 통과하지 못함. \n",
    "- 예시문제는 모두 통과했는데, 통과하지 못하는 이유를 모르겠음."
   ]
  },
  {
   "cell_type": "code",
   "execution_count": 13,
   "id": "02b46d5c",
   "metadata": {},
   "outputs": [
    {
     "name": "stdout",
     "output_type": "stream",
     "text": [
      "3 7 8\n",
      "0.42857143\n"
     ]
    }
   ],
   "source": [
    "def round_division(a, b, k):\n",
    "    # 나눗셈을 수행하고 결과를 소수점 아래 k+1 자리까지 계산\n",
    "    result = a / b\n",
    "\n",
    "    # 반올림을 수행하여 소수점 아래 k 자리까지 출력\n",
    "    n = round(result, k)\n",
    "    formatted_result = \"{:.{k}f}\".format(n, k=k)  # 결과값을 k 자리까지 출력\n",
    "    return formatted_result\n",
    "\n",
    "a, b, k = map(int, input().split())  # 행렬의 크기 입력 받기\n",
    "\n",
    "result = round_division(a, b, k)\n",
    "\n",
    "print(result)\n"
   ]
  },
  {
   "cell_type": "markdown",
   "id": "1777984c",
   "metadata": {},
   "source": [
    "### d1 - 할인쿠폰1"
   ]
  },
  {
   "cell_type": "code",
   "execution_count": 18,
   "id": "9faa4fcb",
   "metadata": {},
   "outputs": [
    {
     "name": "stdout",
     "output_type": "stream",
     "text": [
      "1000 200\n",
      "10\n"
     ]
    }
   ],
   "source": [
    "def minimum_coupons_required(a, b):\n",
    "    count = 0\n",
    "\n",
    "    while a > b:\n",
    "        # 쿠폰을 사용해서 가격을 할인\n",
    "        a = (a // 2) + 100\n",
    "\n",
    "        # 쿠폰 사용 횟수 증가\n",
    "        count += 1\n",
    "\n",
    "        # 가격이 더 이상 b 이하가 아니면 불가능\n",
    "        if a <= b:\n",
    "            return count\n",
    "\n",
    "    return -1  # 불가능한 경우\n",
    "\n",
    "a, b = map(int, input().split())  # 행렬의 크기 입력 받기\n",
    "\n",
    "result = minimum_coupons_required(a, b)\n",
    "print(result)"
   ]
  },
  {
   "cell_type": "code",
   "execution_count": 21,
   "id": "543b0b37",
   "metadata": {},
   "outputs": [
    {
     "name": "stdout",
     "output_type": "stream",
     "text": [
      "-1\n"
     ]
    }
   ],
   "source": [
    "def minimum_coupons_required(a, b):\n",
    "    count = 0\n",
    "\n",
    "    while a > b:\n",
    "        if a % 2 == 0:\n",
    "            # 짝수인 경우, 쿠폰을 사용해서 가격을 할인\n",
    "            a = a // 2\n",
    "        else:\n",
    "            # 홀수인 경우, 100원을 추가로 더하고 가격을 반으로 줄임\n",
    "            a = (a + 100) // 2\n",
    "\n",
    "        # 쿠폰 사용 횟수 증가\n",
    "        count += 1\n",
    "\n",
    "        # 가격이 더 이상 b 이하가 아니면 불가능\n",
    "        if a < b:\n",
    "            return -1\n",
    "\n",
    "        # 100원 미만의 금액을 절삭\n",
    "        if a < 100:\n",
    "            a = 0\n",
    "\n",
    "    return count\n",
    "\n",
    "a, b = 1000, 200  # 예시 입력\n",
    "\n",
    "result = minimum_coupons_required(a, b)\n",
    "print(result)\n"
   ]
  },
  {
   "cell_type": "code",
   "execution_count": null,
   "id": "3d63aff1",
   "metadata": {},
   "outputs": [],
   "source": []
  }
 ],
 "metadata": {
  "kernelspec": {
   "display_name": "Python 3 (ipykernel)",
   "language": "python",
   "name": "python3"
  },
  "language_info": {
   "codemirror_mode": {
    "name": "ipython",
    "version": 3
   },
   "file_extension": ".py",
   "mimetype": "text/x-python",
   "name": "python",
   "nbconvert_exporter": "python",
   "pygments_lexer": "ipython3",
   "version": "3.8.4"
  }
 },
 "nbformat": 4,
 "nbformat_minor": 5
}

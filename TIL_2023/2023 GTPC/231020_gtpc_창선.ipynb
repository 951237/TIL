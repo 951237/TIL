{
 "cells": [
  {
   "cell_type": "markdown",
   "id": "92ae171d",
   "metadata": {},
   "source": [
    "# 창선의 코드 노트"
   ]
  },
  {
   "cell_type": "markdown",
   "id": "a7c71089",
   "metadata": {},
   "source": [
    "## 숫자 입력받기"
   ]
  },
  {
   "cell_type": "code",
   "execution_count": 35,
   "id": "387efda1",
   "metadata": {},
   "outputs": [
    {
     "name": "stdout",
     "output_type": "stream",
     "text": [
      "1 2 3 4\n"
     ]
    }
   ],
   "source": [
    "a, b, c, d = map(int, input().split())  # 행렬의 크기 입력 받"
   ]
  },
  {
   "cell_type": "markdown",
   "id": "d0cf8464",
   "metadata": {},
   "source": [
    "## 코드 테스트"
   ]
  },
  {
   "cell_type": "code",
   "execution_count": 3,
   "id": "11f46756",
   "metadata": {},
   "outputs": [
    {
     "name": "stdout",
     "output_type": "stream",
     "text": [
      "....0\n",
      "0...0\n",
      "0...0\n",
      "0...0\n",
      "0.0.0\n"
     ]
    }
   ],
   "source": [
    "print(\"....0\")\n",
    "print(\"0...0\")\n",
    "print(\"0...0\")\n",
    "print(\"0...0\")\n",
    "print(\"0.0.0\")"
   ]
  },
  {
   "cell_type": "code",
   "execution_count": 9,
   "id": "de18d4a0",
   "metadata": {},
   "outputs": [
    {
     "name": "stdout",
     "output_type": "stream",
     "text": [
      "7\n"
     ]
    }
   ],
   "source": [
    "print(\"7\")"
   ]
  },
  {
   "cell_type": "code",
   "execution_count": 10,
   "id": "a7d6a0a6",
   "metadata": {},
   "outputs": [
    {
     "ename": "SyntaxError",
     "evalue": "invalid syntax (4066866398.py, line 1)",
     "output_type": "error",
     "traceback": [
      "\u001b[0;36m  File \u001b[0;32m\"/var/folders/_s/h62bvp5n77q48hmmd1lhrj_00000gn/T/ipykernel_24094/4066866398.py\"\u001b[0;36m, line \u001b[0;32m1\u001b[0m\n\u001b[0;31m    999,999,999 100,000,000 7 6 를\t 으로\t나눈\t값을\t소수점\t아래\t 자리에서\t반올림해서\t 자리까지\t쓰\u001b[0m\n\u001b[0m                ^\u001b[0m\n\u001b[0;31mSyntaxError\u001b[0m\u001b[0;31m:\u001b[0m invalid syntax\n"
     ]
    }
   ],
   "source": [
    "999,999,999 100,000,000 7 6 를\t 으로\t나눈\t값을\t소수점\t아래\t 자리에서\t반올림해서\t 자리까지\t쓰\n",
    "면\t얼마일까?"
   ]
  },
  {
   "cell_type": "code",
   "execution_count": 13,
   "id": "1a23d527",
   "metadata": {},
   "outputs": [
    {
     "name": "stdout",
     "output_type": "stream",
     "text": [
      "9.99999999\n"
     ]
    }
   ],
   "source": [
    "print(999999999/100000000)"
   ]
  },
  {
   "cell_type": "code",
   "execution_count": 16,
   "id": "2155e7a4",
   "metadata": {},
   "outputs": [
    {
     "name": "stdout",
     "output_type": "stream",
     "text": [
      "10.000000\n"
     ]
    }
   ],
   "source": [
    "print(\"10.000000\")"
   ]
  },
  {
   "cell_type": "code",
   "execution_count": 27,
   "id": "a50b2963",
   "metadata": {},
   "outputs": [
    {
     "ename": "SyntaxError",
     "evalue": "invalid syntax (2930276025.py, line 1)",
     "output_type": "error",
     "traceback": [
      "\u001b[0;36m  File \u001b[0;32m\"/var/folders/_s/h62bvp5n77q48hmmd1lhrj_00000gn/T/ipykernel_24094/2930276025.py\"\u001b[0;36m, line \u001b[0;32m1\u001b[0m\n\u001b[0;31m    [def find_iterations(a, b, c, d):\u001b[0m\n\u001b[0m     ^\u001b[0m\n\u001b[0;31mSyntaxError\u001b[0m\u001b[0;31m:\u001b[0m invalid syntax\n"
     ]
    }
   ],
   "source": [
    "[def find_iterations(a, b, c, d):\n",
    "    iterations = 0\n",
    "    while True:\n",
    "        max_num = max(a, b, c, d)\n",
    "        if a == b == c == d:\n",
    "            break\n",
    "        else:\n",
    "            diff_sum = 0\n",
    "            if a < max_num:\n",
    "                diff_sum += (max_num - a)\n",
    "                a = max_num\n",
    "            if b < max_num:\n",
    "                diff_sum += (max_num - b)\n",
    "                b = max_num\n",
    "            if c < max_num:\n",
    "                diff_sum += (max_num - c)\n",
    "                c = max_num\n",
    "            if d < max_num:\n",
    "                diff_sum += (max_num - d)\n",
    "                d = max_num\n",
    "            iterations += diff_sum\n",
    "\n",
    "    return iterations\n",
    "\n",
    "# 예시로, a=3, b=3, c=5, d=5일 경우\n",
    "result = find_iterations(3, 3, 5, 5)\n",
    "print(\"반복 횟수:\", result)"
   ]
  },
  {
   "cell_type": "code",
   "execution_count": 23,
   "id": "f920f141",
   "metadata": {},
   "outputs": [
    {
     "ename": "SyntaxError",
     "evalue": "invalid syntax (1397046120.py, line 5)",
     "output_type": "error",
     "traceback": [
      "\u001b[0;36m  File \u001b[0;32m\"/var/folders/_s/h62bvp5n77q48hmmd1lhrj_00000gn/T/ipykernel_24094/1397046120.py\"\u001b[0;36m, line \u001b[0;32m5\u001b[0m\n\u001b[0;31m    if a = b = c = d:\u001b[0m\n\u001b[0m         ^\u001b[0m\n\u001b[0;31mSyntaxError\u001b[0m\u001b[0;31m:\u001b[0m invalid syntax\n"
     ]
    }
   ],
   "source": [
    "def find_iterations(a, b, c, d):\n",
    "    iterations = 0\n",
    "    while True:\n",
    "        max_num = max(a, b, c, d)\n",
    "        if a = b = c = d:\n",
    "            break\n",
    "        else:\n",
    "            diff_sum = 0\n",
    "            if a < max_num:\n",
    "                diff_sum += (max_num - a)\n",
    "                a = max_num\n",
    "            if b < max_num:\n",
    "                diff_sum += (max_num - b)\n",
    "                b = max_num\n",
    "            if c < max_num:\n",
    "                diff_sum += (max_num - c)\n",
    "                c = max_num\n",
    "            if d < max_num:\n",
    "                diff_sum += (max_num - d)\n",
    "                d = max_num\n",
    "            iterations += diff_sum\n",
    "\n",
    "    return iterations"
   ]
  },
  {
   "cell_type": "code",
   "execution_count": null,
   "id": "dac8e7e7",
   "metadata": {},
   "outputs": [],
   "source": [
    "def find_iterations(a, b, c, d):\n",
    "    iterations = 0\n",
    "    while True:\n",
    "        max_num = max(a, b, c, d)\n",
    "        if a == b == c == d:\n",
    "            break\n",
    "        else:\n",
    "            diff_sum = 0\n",
    "            if a < max_num:\n",
    "                diff_sum += (max_num - a)\n",
    "                a = max_num\n",
    "            if b < max_num:\n",
    "                diff_sum += (max_num - b)\n",
    "                b = max_num\n",
    "            if c < max_num:\n",
    "                diff_sum += (max_num - c)\n",
    "                c = max_num\n",
    "            if d < max_num:\n",
    "                diff_sum += (max_num - d)\n",
    "                d = max_num\n",
    "            iterations += diff_sum\n",
    "\n",
    "    return iterations\n",
    "a, b, c, d = map(int, input().split())\n",
    "result = find_iterations(a, b, c, d)\n",
    "print(result)"
   ]
  },
  {
   "cell_type": "code",
   "execution_count": 40,
   "id": "6dc3bdeb",
   "metadata": {},
   "outputs": [
    {
     "ename": "IndentationError",
     "evalue": "unexpected indent (4102015491.py, line 26)",
     "output_type": "error",
     "traceback": [
      "\u001b[0;36m  File \u001b[0;32m\"/var/folders/_s/h62bvp5n77q48hmmd1lhrj_00000gn/T/ipykernel_24094/4102015491.py\"\u001b[0;36m, line \u001b[0;32m26\u001b[0m\n\u001b[0;31m    result = dp_helper(a, b, c, d)\u001b[0m\n\u001b[0m    ^\u001b[0m\n\u001b[0;31mIndentationError\u001b[0m\u001b[0;31m:\u001b[0m unexpected indent\n"
     ]
    }
   ],
   "source": [
    "def min_operations_to_zero(a, b, c, d):\n",
    "    dp = {}\n",
    "    \n",
    "    def dp_helper(a, b, c, d):\n",
    "        if (a, b, c, d) in dp:\n",
    "            return dp[(a, b, c, d)]\n",
    "        \n",
    "        # 기저 사례: 모든 수가 0이 되었을 때, 반복 횟수는 0\n",
    "        if a == 0 and b == 0 and c == 0 and d == 0:\n",
    "            return 0\n",
    "        \n",
    "        # 각 수를 하나씩 감소시키고, 최소 횟수를 찾음\n",
    "        operations = [float('inf')]\n",
    "        if a > 0:\n",
    "            operations.append(1 + dp_helper(a - 1, b, c, d))\n",
    "        if b > 0:\n",
    "            operations.append(1 + dp_helper(a, b - 1, c, d))\n",
    "        if c > 0:\n",
    "            operations.append(1 + dp_helper(a, b, c - 1, d))\n",
    "        if d > 0:\n",
    "            operations.append(1 + dp_helper(a, b, c, d - 1))\n",
    "        \n",
    "        dp[(a, b, c, d)] = min(operations)\n",
    "        return dp[(a, b, c, d)]\n",
    "a, b, c, d = map(int, input().split())    \n",
    "    result = dp_helper(a, b, c, d)\n",
    "    return result\n"
   ]
  },
  {
   "cell_type": "code",
   "execution_count": null,
   "id": "04f3115b",
   "metadata": {},
   "outputs": [],
   "source": [
    "def divide_and_round(a, b, k):\n",
    "    result = a / b\n",
    "    rounded_result = round(result, k)\n",
    "    return rounded_result\n",
    "[1<=a<=2,147,483,647]\n",
    "[1<=b<=2,147,483,647]\n",
    "[1<=k<=1,000]\n",
    "a, b, k = map(int, input().split())    \n",
    "\n",
    "result = divide_and_round(a, b, k)\n",
    "print(result)"
   ]
  },
  {
   "cell_type": "code",
   "execution_count": null,
   "id": "b1194a48",
   "metadata": {},
   "outputs": [],
   "source": []
  },
  {
   "cell_type": "code",
   "execution_count": null,
   "id": "1a5f41b0",
   "metadata": {},
   "outputs": [],
   "source": []
  },
  {
   "cell_type": "code",
   "execution_count": null,
   "id": "5ac2cabc",
   "metadata": {},
   "outputs": [],
   "source": [
    "def divide_and_round(a, b, k):\n",
    "    result = a / b\n",
    "    rounded_result = round(result, k + 1)\n",
    "    formatted_result = \"{:.{prec}f}\".format(rounded_result, prec=k)\n",
    "    return formatted_result\n",
    "a, b, k = map(int, input().split())    \n",
    "result = divide_and_round(a, b, k)\n",
    "print(result)a"
   ]
  },
  {
   "cell_type": "code",
   "execution_count": null,
   "id": "02eee5c4",
   "metadata": {},
   "outputs": [],
   "source": [
    "def divide_and_round(a, b, k):\n",
    "    result = a / b  # a를 b로 나눈 값을 계산\n",
    "    scaled_result = result * 10**k  # 소수점 아래 k+1 자리까지 확장\n",
    "    rounded_result = round(scaled_result)  # k+1 번째 자리에서 반올림\n",
    "    formatted_result = \"{:.{prec}f}\".format(rounded_result / 10**k, prec=k)  # k 번째 자리까지 형식화\n",
    "    return formatted_result\n",
    "\n",
    "a, b, k = map(int, input().split())\n",
    "\n",
    "result = divide_and_round(a, b, k)\n",
    "print(result)"
   ]
  },
  {
   "cell_type": "code",
   "execution_count": null,
   "id": "cacb2acc",
   "metadata": {},
   "outputs": [],
   "source": [
    "def divide_and_round(a, b, k):\n",
    "    result = a / b  # a를 b로 나눈 값을 계산\n",
    "    scaled_result = result * 10**k  # 소수점 아래 k+1 자리까지 확장\n",
    "    rounded_result = round(scaled_result)  # k+1 번째 자리에서 반올림\n",
    "    formatted_result = \"{:.{prec}f}\".format(rounded_result / 10**k, prec=k)  # k 번째 자리까지 형식화\n",
    "    return formatted_result\n",
    "\n",
    "a, b, k = map(int, input().split())\n",
    "\n",
    "result = divide_and_round(a, b, k)\n",
    "print(result)"
   ]
  },
  {
   "cell_type": "code",
   "execution_count": null,
   "id": "a7f6a636",
   "metadata": {},
   "outputs": [],
   "source": [
    "def divide_and_round(a, b, k):\n",
    "    result = a / b  # a를 b로 나눈 값을 계산\n",
    "    rounded_result = round(result, k + 1)  # K+1 번째 자리에서 반올림\n",
    "    formatted_result = \"{:.{prec}f}\".format(rounded_result, prec=k)  # K번째 자리까지 형식화\n",
    "    return formatted_result\n",
    "\n",
    "# 예시로, a=7, b=3, k=2일 경우\n",
    "result = divide_and_round(7, 3, 2)\n",
    "print(\"결과:\", result)"
   ]
  },
  {
   "cell_type": "code",
   "execution_count": null,
   "id": "14094ecb",
   "metadata": {},
   "outputs": [],
   "source": [
    "def divide_and_round(a, b, k):\n",
    "    result = a / b\n",
    "    rounded_result = round(result, k + 1)\n",
    "    formatted_result = \"{:.{prec}f}\".format(rounded_result, prec=k)\n",
    "    return formatted_result\n",
    "a, b, k = map(int, input().split())    \n",
    "result = divide_and_round(7, 3, 2)\n",
    "print(result)"
   ]
  },
  {
   "cell_type": "code",
   "execution_count": 49,
   "id": "e550d91c",
   "metadata": {},
   "outputs": [
    {
     "name": "stdout",
     "output_type": "stream",
     "text": [
      "결과: 2.33\n"
     ]
    }
   ],
   "source": [
    "def divide_and_round(a, b, k):\n",
    "    result = a / b  # a를 b로 나눈 값을 계산\n",
    "    rounded_result = round(result, k)  # k번째 자리에서 반올림\n",
    "    return rounded_result\n",
    "\n",
    "# 예시로, a=7, b=3, k=2일 경우\n",
    "result = divide_and_round(7, 3, 2)\n",
    "print(\"결과:\", result)"
   ]
  },
  {
   "cell_type": "code",
   "execution_count": 55,
   "id": "bdc87214",
   "metadata": {},
   "outputs": [
    {
     "name": "stdout",
     "output_type": "stream",
     "text": [
      "999999999 100000000 6\n",
      "10.000000\n"
     ]
    }
   ],
   "source": [
    "def divide_and_round(a, b, k):\n",
    "    result = a / b\n",
    "    scaled_result = result * 10**k\n",
    "    rounded_result = round(scaled_result)\n",
    "    formatted_result = \"{:.{prec}f}\".format(rounded_result / 10**k, prec=k)\n",
    "    return formatted_result\n",
    "\n",
    "a, b, k = map(int, input().split())\n",
    "\n",
    "result = divide_and_round(a, b, k)\n",
    "print(result)"
   ]
  },
  {
   "cell_type": "code",
   "execution_count": 56,
   "id": "00537d1f",
   "metadata": {},
   "outputs": [
    {
     "name": "stdout",
     "output_type": "stream",
     "text": [
      "a를 입력하세요: 3\n",
      "b를 입력하세요: 7\n",
      "k를 입력하세요: 3\n",
      "결과: 0.4286\n"
     ]
    }
   ],
   "source": [
    "def divide_and_round(a, b, k):\n",
    "    result = a / b  # a를 b로 나눈 값을 계산\n",
    "    result_str = \"{:.{prec}f}\".format(result, prec=k+1)  # K+1번째 자리까지 형식화\n",
    "    return result_str\n",
    "\n",
    "# a, b, k 값을 사용자로부터 입력받음\n",
    "a = int(input(\"a를 입력하세요: \"))\n",
    "b = int(input(\"b를 입력하세요: \"))\n",
    "k = int(input(\"k를 입력하세요: \"))\n",
    "\n",
    "result = divide_and_round(a, b, k)\n",
    "print(\"결과:\", result)"
   ]
  },
  {
   "cell_type": "markdown",
   "id": "fbc001d0",
   "metadata": {},
   "source": [
    "def divide_and_round(a, b, k):\n",
    "    result = a / b  # a를 b로 나눈 값을 계산\n",
    "    result_str = \"{:.{prec}f}\".format(result, prec=k+1)  # K+1번째 자리까지 형식화\n",
    "    return result_str\n",
    "\n",
    "# a, b, k 값을 사용자로부터 입력받음\n",
    "a = int(input(\"a를 입력하세요: \"))\n",
    "b = int(input(\"b를 입력하세요: \"))\n",
    "k = int(input(\"k를 입력하세요: \"))\n",
    "\n",
    "result = divide_and_round(a, b, k)\n",
    "print(\"결과:\", result)"
   ]
  },
  {
   "cell_type": "code",
   "execution_count": 57,
   "id": "ec88122d",
   "metadata": {},
   "outputs": [
    {
     "name": "stdout",
     "output_type": "stream",
     "text": [
      "a를 입력하세요: 3\n",
      "b를 입력하세요: 7\n",
      "k를 입력하세요: 3\n",
      "결과: 0.4286\n"
     ]
    }
   ],
   "source": [
    "def divide_and_round(a, b, k):\n",
    "    result = a / b  # a를 b로 나눈 값을 계산\n",
    "    result_str = \"{:.{prec}f}\".format(result, prec=k+1)  # K+1번째 자리까지 형식화\n",
    "    return result_str\n",
    "\n",
    "# a, b, k 값을 사용자로부터 입력받음\n",
    "a = int(input(\"a를 입력하세요: \"))\n",
    "b = int(input(\"b를 입력하세요: \"))\n",
    "k = int(input(\"k를 입력하세요: \"))\n",
    "\n",
    "result = divide_and_round(a, b, k)\n",
    "print(\"결과:\", result)"
   ]
  },
  {
   "cell_type": "code",
   "execution_count": 58,
   "id": "8453a968",
   "metadata": {},
   "outputs": [
    {
     "name": "stdout",
     "output_type": "stream",
     "text": [
      "a를 입력하세요: 3\n",
      "b를 입력하세요: 7\n",
      "k를 입력하세요: 3\n",
      "결과: 0.429\n"
     ]
    }
   ],
   "source": [
    "def divide_and_round(a, b, k):\n",
    "    result = a / b  # a를 b로 나눈 값을 계산\n",
    "    format_string = \"{:.{prec}f}\".format(result, prec=k+1)  # K+1번째 자리까지 형식화\n",
    "    rounded_result = round(float(format_string), k)  # K번째 자리에서 반올림\n",
    "    return rounded_result\n",
    "\n",
    "# a, b, k 값을 사용자로부터 입력받음\n",
    "a = int(input(\"a를 입력하세요: \"))\n",
    "b = int(input(\"b를 입력하세요: \"))\n",
    "k = int(input(\"k를 입력하세요: \"))\n",
    "\n",
    "result = divide_and_round(a, b, k)\n",
    "print(\"결과:\", result)"
   ]
  },
  {
   "cell_type": "code",
   "execution_count": 59,
   "id": "a7ef33f5",
   "metadata": {},
   "outputs": [
    {
     "name": "stdout",
     "output_type": "stream",
     "text": [
      "a를 입력하세요: 3\n",
      "b를 입력하세요: 7\n",
      "k를 입력하세요: 3\n",
      "결과: 0.429\n"
     ]
    }
   ],
   "source": [
    "def divide_and_round(a, b, k):\n",
    "    quotient = a // b  # a를 b로 나눈 몫을 계산\n",
    "    remainder = a % b   # a를 b로 나눈 나머지를 계산\n",
    "    result = quotient + round(remainder / b, k)  # 나머지를 b로 나눈 값을 K+1번째 자리에서 반올림하여 K번째 자리까지 더함\n",
    "    return result\n",
    "\n",
    "# a, b, k 값을 사용자로부터 입력받음\n",
    "a = int(input(\"a를 입력하세요: \"))\n",
    "b = int(input(\"b를 입력하세요: \"))\n",
    "k = int(input(\"k를 입력하세요: \"))\n",
    "\n",
    "result = divide_and_round(a, b, k)\n",
    "print(\"결과:\", result)"
   ]
  },
  {
   "cell_type": "markdown",
   "id": "2f441b2c",
   "metadata": {},
   "source": [
    "def divide_and_round(a, b, k):\n",
    "    quotient = a // b\n",
    "    remainder = a % b \n",
    "    result = quotient + round(remainder / b, k)\n",
    "    return result\n",
    "\n",
    "\n",
    "a = int(input(\"a를 입력하세요: \"))\n",
    "b = int(input(\"b를 입력하세요: \"))\n",
    "k = int(input(\"k를 입력하세요: \"))\n",
    "\n",
    "result = divide_and_round(a, b, k)\n",
    "print(result)"
   ]
  },
  {
   "cell_type": "code",
   "execution_count": 61,
   "id": "f51466ca",
   "metadata": {},
   "outputs": [
    {
     "name": "stdout",
     "output_type": "stream",
     "text": [
      "3 7 3\n",
      "0.429\n"
     ]
    }
   ],
   "source": [
    "def divide_and_round(a, b, k):\n",
    "    quotient = a // b\n",
    "    remainder = a % b \n",
    "    result = quotient + round(remainder / b, k)\n",
    "    return result\n",
    "\n",
    "a, b, k = map(int, input().split())\n",
    "\n",
    "result = divide_and_round(a, b, k)\n",
    "print(result)"
   ]
  },
  {
   "cell_type": "code",
   "execution_count": 63,
   "id": "50783e6a",
   "metadata": {},
   "outputs": [
    {
     "name": "stdout",
     "output_type": "stream",
     "text": [
      "999999999 100000000 6\n",
      "10.0\n"
     ]
    }
   ],
   "source": [
    "def divide_and_round(a, b, k):\n",
    "    quotient = a // b\n",
    "    remainder = a % b \n",
    "    result = quotient + round(remainder / b, k)\n",
    "    return result\n",
    "\n",
    "a, b, k = map(int, input().split())\n",
    "\n",
    "result = divide_and_round(a, b, k)\n",
    "print(result)"
   ]
  },
  {
   "cell_type": "code",
   "execution_count": 66,
   "id": "014c747e",
   "metadata": {},
   "outputs": [
    {
     "name": "stdout",
     "output_type": "stream",
     "text": [
      "999999999 100000000 7\n",
      "10.0000000\n"
     ]
    }
   ],
   "source": [
    "def divide_and_round(a, b, k):\n",
    "    quotient = a // b  \n",
    "    remainder = a % b  \n",
    "    result = quotient + round(remainder / b, k)  \n",
    "    return result\n",
    "a, b, k = map(int, input().split())\n",
    "result = \"{:.{prec}f}\".format(divide_and_round(a, b, k), prec=k)\n",
    "print(result)"
   ]
  },
  {
   "cell_type": "markdown",
   "id": "be2acc1f",
   "metadata": {},
   "source": [
    "# 안녕하세요\n",
    "## 안녕하세요\n",
    "### 안녕하세요"
   ]
  },
  {
   "cell_type": "code",
   "execution_count": 68,
   "id": "233136f4",
   "metadata": {},
   "outputs": [
    {
     "name": "stdout",
     "output_type": "stream",
     "text": [
      "5\n"
     ]
    }
   ],
   "source": [
    "print(\"5\")"
   ]
  },
  {
   "cell_type": "code",
   "execution_count": 69,
   "id": "92018467",
   "metadata": {},
   "outputs": [
    {
     "name": "stdout",
     "output_type": "stream",
     "text": [
      "4,2,3\n"
     ]
    }
   ],
   "source": [
    "print(\"4,2,3\")"
   ]
  },
  {
   "cell_type": "code",
   "execution_count": 70,
   "id": "6c9197ca",
   "metadata": {},
   "outputs": [
    {
     "name": "stdout",
     "output_type": "stream",
     "text": [
      "4 2 3\n"
     ]
    }
   ],
   "source": [
    "print(\"4 2 3\")"
   ]
  },
  {
   "cell_type": "code",
   "execution_count": 71,
   "id": "9fcd67a1",
   "metadata": {},
   "outputs": [
    {
     "ename": "NameError",
     "evalue": "name 'dgenzakfmw' is not defined",
     "output_type": "error",
     "traceback": [
      "\u001b[0;31m---------------------------------------------------------------------------\u001b[0m",
      "\u001b[0;31mNameError\u001b[0m                                 Traceback (most recent call last)",
      "\u001b[0;32m/var/folders/_s/h62bvp5n77q48hmmd1lhrj_00000gn/T/ipykernel_24094/2613979594.py\u001b[0m in \u001b[0;36m<module>\u001b[0;34m\u001b[0m\n\u001b[0;32m----> 1\u001b[0;31m \u001b[0mdgenzakfmw\u001b[0m\u001b[0;34m\u001b[0m\u001b[0;34m\u001b[0m\u001b[0m\n\u001b[0m\u001b[1;32m      2\u001b[0m \u001b[0mdwakcqsdkd\u001b[0m\u001b[0;34m\u001b[0m\u001b[0;34m\u001b[0m\u001b[0m\n\u001b[1;32m      3\u001b[0m \u001b[0msddwamjfgj\u001b[0m\u001b[0;34m\u001b[0m\u001b[0;34m\u001b[0m\u001b[0m\n\u001b[1;32m      4\u001b[0m \u001b[0mohzlhfllsa\u001b[0m\u001b[0;34m\u001b[0m\u001b[0;34m\u001b[0m\u001b[0m\n\u001b[1;32m      5\u001b[0m \u001b[0muvgbwlyakk\u001b[0m\u001b[0;34m\u001b[0m\u001b[0;34m\u001b[0m\u001b[0m\n",
      "\u001b[0;31mNameError\u001b[0m: name 'dgenzakfmw' is not defined"
     ]
    }
   ],
   "source": [
    "dgenzakfmw\n",
    "dwakcqsdkd\n",
    "sddwamjfgj\n",
    "ohzlhfllsa\n",
    "uvgbwlyakk\n",
    "wzetlwqqqo\n",
    "kmospuwugb\n",
    "raiudcroud\n",
    "jjkwmqdvrw\n",
    "aqnbarmzsf"
   ]
  },
  {
   "cell_type": "code",
   "execution_count": 72,
   "id": "654ce6fd",
   "metadata": {},
   "outputs": [
    {
     "ename": "SyntaxError",
     "evalue": "invalid syntax (1699713438.py, line 1)",
     "output_type": "error",
     "traceback": [
      "\u001b[0;36m  File \u001b[0;32m\"/var/folders/_s/h62bvp5n77q48hmmd1lhrj_00000gn/T/ipykernel_24094/1699713438.py\"\u001b[0;36m, line \u001b[0;32m1\u001b[0m\n\u001b[0;31m    줄\t개수\t 각\t줄\t당\t알파벳\t개수\t 알파벳\t입력 찾아야\t할\t단어가\t입력될\t때 그\t단어의\u001b[0m\n\u001b[0m     \t^\u001b[0m\n\u001b[0;31mSyntaxError\u001b[0m\u001b[0;31m:\u001b[0m invalid syntax\n"
     ]
    }
   ],
   "source": [
    "줄\t개수\t 각\t줄\t당\t알파벳\t개수\t 알파벳\t입력 찾아야\t할\t단어가\t입력될\t때 그\t단어의\t\n",
    "시작\t위치와\t방향을\t나타내는\t숫자\t 개를\t출력해보자 3 "
   ]
  },
  {
   "cell_type": "code",
   "execution_count": 82,
   "id": "a6a3650b",
   "metadata": {},
   "outputs": [
    {
     "ename": "AttributeError",
     "evalue": "partially initialized module 'pandas' has no attribute 'core' (most likely due to a circular import)",
     "output_type": "error",
     "traceback": [
      "\u001b[0;31m---------------------------------------------------------------------------\u001b[0m",
      "\u001b[0;31mAttributeError\u001b[0m                            Traceback (most recent call last)",
      "\u001b[0;32m/var/folders/_s/h62bvp5n77q48hmmd1lhrj_00000gn/T/ipykernel_24094/3114410342.py\u001b[0m in \u001b[0;36m<module>\u001b[0;34m\u001b[0m\n\u001b[0;32m----> 1\u001b[0;31m \u001b[0;32mimport\u001b[0m \u001b[0mpandas\u001b[0m \u001b[0;32mas\u001b[0m \u001b[0mpd\u001b[0m\u001b[0;34m\u001b[0m\u001b[0;34m\u001b[0m\u001b[0m\n\u001b[0m\u001b[1;32m      2\u001b[0m \u001b[0murl\u001b[0m \u001b[0;34m=\u001b[0m \u001b[0;34m\"https://ko.wikipedia.org/wiki/%EB%8C%80%ED%95%9C%EB%AF%BC%EA%B5%AD%EC%9D%98_%EC%9D%B8%EA%B5%AC\"\u001b[0m\u001b[0;34m\u001b[0m\u001b[0;34m\u001b[0m\u001b[0m\n",
      "\u001b[0;32m~/.pyenv/versions/env384-project/lib/python3.8/site-packages/pandas/__init__.py\u001b[0m in \u001b[0;36m<module>\u001b[0;34m\u001b[0m\n\u001b[1;32m    177\u001b[0m \u001b[0;34m\u001b[0m\u001b[0m\n\u001b[1;32m    178\u001b[0m \u001b[0;32mfrom\u001b[0m \u001b[0mpandas\u001b[0m\u001b[0;34m.\u001b[0m\u001b[0mutil\u001b[0m\u001b[0;34m.\u001b[0m\u001b[0m_tester\u001b[0m \u001b[0;32mimport\u001b[0m \u001b[0mtest\u001b[0m\u001b[0;34m\u001b[0m\u001b[0;34m\u001b[0m\u001b[0m\n\u001b[0;32m--> 179\u001b[0;31m \u001b[0;32mimport\u001b[0m \u001b[0mpandas\u001b[0m\u001b[0;34m.\u001b[0m\u001b[0mtesting\u001b[0m\u001b[0;34m\u001b[0m\u001b[0;34m\u001b[0m\u001b[0m\n\u001b[0m\u001b[1;32m    180\u001b[0m \u001b[0;32mimport\u001b[0m \u001b[0mpandas\u001b[0m\u001b[0;34m.\u001b[0m\u001b[0marrays\u001b[0m\u001b[0;34m\u001b[0m\u001b[0;34m\u001b[0m\u001b[0m\n\u001b[1;32m    181\u001b[0m \u001b[0;34m\u001b[0m\u001b[0m\n",
      "\u001b[0;32m~/.pyenv/versions/env384-project/lib/python3.8/site-packages/pandas/testing.py\u001b[0m in \u001b[0;36m<module>\u001b[0;34m\u001b[0m\n\u001b[1;32m      4\u001b[0m \u001b[0;34m\u001b[0m\u001b[0m\n\u001b[1;32m      5\u001b[0m \u001b[0;34m\u001b[0m\u001b[0m\n\u001b[0;32m----> 6\u001b[0;31m from pandas._testing import (\n\u001b[0m\u001b[1;32m      7\u001b[0m     \u001b[0massert_extension_array_equal\u001b[0m\u001b[0;34m,\u001b[0m\u001b[0;34m\u001b[0m\u001b[0;34m\u001b[0m\u001b[0m\n\u001b[1;32m      8\u001b[0m     \u001b[0massert_frame_equal\u001b[0m\u001b[0;34m,\u001b[0m\u001b[0;34m\u001b[0m\u001b[0;34m\u001b[0m\u001b[0m\n",
      "\u001b[0;32m~/.pyenv/versions/env384-project/lib/python3.8/site-packages/pandas/_testing/__init__.py\u001b[0m in \u001b[0;36m<module>\u001b[0;34m\u001b[0m\n\u001b[1;32m    946\u001b[0m \u001b[0;34m\u001b[0m\u001b[0m\n\u001b[1;32m    947\u001b[0m \u001b[0;34m\u001b[0m\u001b[0m\n\u001b[0;32m--> 948\u001b[0;31m \u001b[0mcython_table\u001b[0m \u001b[0;34m=\u001b[0m \u001b[0mpd\u001b[0m\u001b[0;34m.\u001b[0m\u001b[0mcore\u001b[0m\u001b[0;34m.\u001b[0m\u001b[0mcommon\u001b[0m\u001b[0;34m.\u001b[0m\u001b[0m_cython_table\u001b[0m\u001b[0;34m.\u001b[0m\u001b[0mitems\u001b[0m\u001b[0;34m(\u001b[0m\u001b[0;34m)\u001b[0m\u001b[0;34m\u001b[0m\u001b[0;34m\u001b[0m\u001b[0m\n\u001b[0m\u001b[1;32m    949\u001b[0m \u001b[0;34m\u001b[0m\u001b[0m\n\u001b[1;32m    950\u001b[0m \u001b[0;34m\u001b[0m\u001b[0m\n",
      "\u001b[0;31mAttributeError\u001b[0m: partially initialized module 'pandas' has no attribute 'core' (most likely due to a circular import)"
     ]
    }
   ],
   "source": [
    "import pandas as pd\n",
    "url = \"https://ko.wikipedia.org/wiki/%EB%8C%80%ED%95%9C%EB%AF%BC%EA%B5%AD%EC%9D%98_%EC%9D%B8%EA%B5%AC\""
   ]
  },
  {
   "cell_type": "code",
   "execution_count": 83,
   "id": "b8a2bcfd",
   "metadata": {},
   "outputs": [
    {
     "ename": "AttributeError",
     "evalue": "partially initialized module 'pandas' has no attribute 'core' (most likely due to a circular import)",
     "output_type": "error",
     "traceback": [
      "\u001b[0;31m---------------------------------------------------------------------------\u001b[0m",
      "\u001b[0;31mAttributeError\u001b[0m                            Traceback (most recent call last)",
      "\u001b[0;32m/var/folders/_s/h62bvp5n77q48hmmd1lhrj_00000gn/T/ipykernel_24094/2081186960.py\u001b[0m in \u001b[0;36m<module>\u001b[0;34m\u001b[0m\n\u001b[0;32m----> 1\u001b[0;31m \u001b[0;32mimport\u001b[0m \u001b[0mpandas\u001b[0m \u001b[0;32mas\u001b[0m \u001b[0mpd\u001b[0m\u001b[0;34m\u001b[0m\u001b[0;34m\u001b[0m\u001b[0m\n\u001b[0m\u001b[1;32m      2\u001b[0m \u001b[0murl\u001b[0m \u001b[0;34m=\u001b[0m \u001b[0;34m\"https://ko.wikipedia.org/wiki/%EB%8C%80%ED%95%9C%EB%AF%BC%EA%B5%AD%EC%9D%98_%EC%9D%B8%EA%B5%AC\"\u001b[0m\u001b[0;34m\u001b[0m\u001b[0;34m\u001b[0m\u001b[0m\n\u001b[1;32m      3\u001b[0m \u001b[0mpd\u001b[0m\u001b[0;34m.\u001b[0m\u001b[0mread_html\u001b[0m\u001b[0;34m(\u001b[0m\u001b[0murl\u001b[0m\u001b[0;34m)\u001b[0m\u001b[0;34m\u001b[0m\u001b[0;34m\u001b[0m\u001b[0m\n",
      "\u001b[0;32m~/.pyenv/versions/env384-project/lib/python3.8/site-packages/pandas/__init__.py\u001b[0m in \u001b[0;36m<module>\u001b[0;34m\u001b[0m\n\u001b[1;32m    177\u001b[0m \u001b[0;34m\u001b[0m\u001b[0m\n\u001b[1;32m    178\u001b[0m \u001b[0;32mfrom\u001b[0m \u001b[0mpandas\u001b[0m\u001b[0;34m.\u001b[0m\u001b[0mutil\u001b[0m\u001b[0;34m.\u001b[0m\u001b[0m_tester\u001b[0m \u001b[0;32mimport\u001b[0m \u001b[0mtest\u001b[0m\u001b[0;34m\u001b[0m\u001b[0;34m\u001b[0m\u001b[0m\n\u001b[0;32m--> 179\u001b[0;31m \u001b[0;32mimport\u001b[0m \u001b[0mpandas\u001b[0m\u001b[0;34m.\u001b[0m\u001b[0mtesting\u001b[0m\u001b[0;34m\u001b[0m\u001b[0;34m\u001b[0m\u001b[0m\n\u001b[0m\u001b[1;32m    180\u001b[0m \u001b[0;32mimport\u001b[0m \u001b[0mpandas\u001b[0m\u001b[0;34m.\u001b[0m\u001b[0marrays\u001b[0m\u001b[0;34m\u001b[0m\u001b[0;34m\u001b[0m\u001b[0m\n\u001b[1;32m    181\u001b[0m \u001b[0;34m\u001b[0m\u001b[0m\n",
      "\u001b[0;32m~/.pyenv/versions/env384-project/lib/python3.8/site-packages/pandas/testing.py\u001b[0m in \u001b[0;36m<module>\u001b[0;34m\u001b[0m\n\u001b[1;32m      4\u001b[0m \u001b[0;34m\u001b[0m\u001b[0m\n\u001b[1;32m      5\u001b[0m \u001b[0;34m\u001b[0m\u001b[0m\n\u001b[0;32m----> 6\u001b[0;31m from pandas._testing import (\n\u001b[0m\u001b[1;32m      7\u001b[0m     \u001b[0massert_extension_array_equal\u001b[0m\u001b[0;34m,\u001b[0m\u001b[0;34m\u001b[0m\u001b[0;34m\u001b[0m\u001b[0m\n\u001b[1;32m      8\u001b[0m     \u001b[0massert_frame_equal\u001b[0m\u001b[0;34m,\u001b[0m\u001b[0;34m\u001b[0m\u001b[0;34m\u001b[0m\u001b[0m\n",
      "\u001b[0;32m~/.pyenv/versions/env384-project/lib/python3.8/site-packages/pandas/_testing/__init__.py\u001b[0m in \u001b[0;36m<module>\u001b[0;34m\u001b[0m\n\u001b[1;32m    946\u001b[0m \u001b[0;34m\u001b[0m\u001b[0m\n\u001b[1;32m    947\u001b[0m \u001b[0;34m\u001b[0m\u001b[0m\n\u001b[0;32m--> 948\u001b[0;31m \u001b[0mcython_table\u001b[0m \u001b[0;34m=\u001b[0m \u001b[0mpd\u001b[0m\u001b[0;34m.\u001b[0m\u001b[0mcore\u001b[0m\u001b[0;34m.\u001b[0m\u001b[0mcommon\u001b[0m\u001b[0;34m.\u001b[0m\u001b[0m_cython_table\u001b[0m\u001b[0;34m.\u001b[0m\u001b[0mitems\u001b[0m\u001b[0;34m(\u001b[0m\u001b[0;34m)\u001b[0m\u001b[0;34m\u001b[0m\u001b[0;34m\u001b[0m\u001b[0m\n\u001b[0m\u001b[1;32m    949\u001b[0m \u001b[0;34m\u001b[0m\u001b[0m\n\u001b[1;32m    950\u001b[0m \u001b[0;34m\u001b[0m\u001b[0m\n",
      "\u001b[0;31mAttributeError\u001b[0m: partially initialized module 'pandas' has no attribute 'core' (most likely due to a circular import)"
     ]
    }
   ],
   "source": [
    "import pandas as pd\n",
    "url = \"https://ko.wikipedia.org/wiki/%EB%8C%80%ED%95%9C%EB%AF%BC%EA%B5%AD%EC%9D%98_%EC%9D%B8%EA%B5%AC\""
   ]
  },
  {
   "cell_type": "code",
   "execution_count": 84,
   "id": "561f0238",
   "metadata": {},
   "outputs": [
    {
     "ename": "NameError",
     "evalue": "name 'pd' is not defined",
     "output_type": "error",
     "traceback": [
      "\u001b[0;31m---------------------------------------------------------------------------\u001b[0m",
      "\u001b[0;31mNameError\u001b[0m                                 Traceback (most recent call last)",
      "\u001b[0;32m/var/folders/_s/h62bvp5n77q48hmmd1lhrj_00000gn/T/ipykernel_24094/1087222485.py\u001b[0m in \u001b[0;36m<module>\u001b[0;34m\u001b[0m\n\u001b[0;32m----> 1\u001b[0;31m \u001b[0mpd\u001b[0m\u001b[0;34m.\u001b[0m\u001b[0mread_html\u001b[0m\u001b[0;34m(\u001b[0m\u001b[0murl\u001b[0m\u001b[0;34m)\u001b[0m\u001b[0;34m\u001b[0m\u001b[0;34m\u001b[0m\u001b[0m\n\u001b[0m",
      "\u001b[0;31mNameError\u001b[0m: name 'pd' is not defined"
     ]
    }
   ],
   "source": [
    "pd.read_html(url)"
   ]
  },
  {
   "cell_type": "code",
   "execution_count": null,
   "id": "b11cf016",
   "metadata": {},
   "outputs": [],
   "source": []
  }
 ],
 "metadata": {
  "kernelspec": {
   "display_name": "Python 3 (ipykernel)",
   "language": "python",
   "name": "python3"
  },
  "language_info": {
   "codemirror_mode": {
    "name": "ipython",
    "version": 3
   },
   "file_extension": ".py",
   "mimetype": "text/x-python",
   "name": "python",
   "nbconvert_exporter": "python",
   "pygments_lexer": "ipython3",
   "version": "3.8.4"
  }
 },
 "nbformat": 4,
 "nbformat_minor": 5
}

{
 "cells": [
  {
   "cell_type": "markdown",
   "id": "77495fee",
   "metadata": {},
   "source": [
    "# 초급 프로젝트 1 - 숫자 맞추기 프로젝트\n",
    "- 컴퓨터가 숫자를 랜덤으로 생성하고 숫자 맞치기"
   ]
  },
  {
   "cell_type": "markdown",
   "id": "0408900d",
   "metadata": {},
   "source": [
    "## 가. 기본코드"
   ]
  },
  {
   "cell_type": "code",
   "execution_count": 1,
   "id": "685fff2a",
   "metadata": {},
   "outputs": [
    {
     "name": "stdout",
     "output_type": "stream",
     "text": [
      "1부터 100 사이의 숫자를 맞춰보세요!\n",
      "추측한 숫자를 입력하세요: 6\n",
      "숫자가 작습니다. 더 큰 숫자를 시도하세요.\n",
      "추측한 숫자를 입력하세요: 50\n",
      "숫자가 큽니다. 더 작은 숫자를 시도하세요.\n",
      "추측한 숫자를 입력하세요: 75\n",
      "숫자가 큽니다. 더 작은 숫자를 시도하세요.\n",
      "추측한 숫자를 입력하세요: 25\n",
      "숫자가 작습니다. 더 큰 숫자를 시도하세요.\n",
      "추측한 숫자를 입력하세요: 40\n",
      "숫자가 큽니다. 더 작은 숫자를 시도하세요.\n",
      "추측한 숫자를 입력하세요: 45\n",
      "숫자가 큽니다. 더 작은 숫자를 시도하세요.\n",
      "추측한 숫자를 입력하세요: 35\n",
      "숫자가 큽니다. 더 작은 숫자를 시도하세요.\n",
      "추측한 숫자를 입력하세요: 30\n",
      "숫자가 큽니다. 더 작은 숫자를 시도하세요.\n",
      "추측한 숫자를 입력하세요: 27\n",
      "숫자가 작습니다. 더 큰 숫자를 시도하세요.\n",
      "추측한 숫자를 입력하세요: 28\n",
      "숫자가 작습니다. 더 큰 숫자를 시도하세요.\n",
      "추측한 숫자를 입력하세요: 29\n",
      "정답입니다! 숫자는 29였습니다.\n"
     ]
    }
   ],
   "source": [
    "import random\n",
    "\n",
    "# 랜덤 숫자 생성\n",
    "target_number = random.randint(1, 100)\n",
    "\n",
    "# 게임 시작\n",
    "print(\"1부터 100 사이의 숫자를 맞춰보세요!\")\n",
    "\n",
    "while True:\n",
    "    guess = int(input(\"추측한 숫자를 입력하세요: \"))\n",
    "    \n",
    "    if guess < target_number:\n",
    "        print(\"숫자가 작습니다. 더 큰 숫자를 시도하세요.\")\n",
    "    elif guess > target_number:\n",
    "        print(\"숫자가 큽니다. 더 작은 숫자를 시도하세요.\")\n",
    "    else:\n",
    "        print(\"정답입니다! 숫자는 {}였습니다.\".format(target_number))\n",
    "        break\n"
   ]
  },
  {
   "cell_type": "markdown",
   "id": "2d4b2668",
   "metadata": {},
   "source": [
    "## 나. 함수기반 코드"
   ]
  },
  {
   "cell_type": "code",
   "execution_count": 2,
   "id": "db9f5642",
   "metadata": {},
   "outputs": [
    {
     "name": "stdout",
     "output_type": "stream",
     "text": [
      "1부터 100 사이의 숫자를 맞춰보세요!\n",
      "추측한 숫자를 입력하세요: 50\n",
      "숫자가 작습니다. 더 큰 숫자를 시도하세요.\n",
      "추측한 숫자를 입력하세요: 75\n",
      "숫자가 큽니다. 더 작은 숫자를 시도하세요.\n",
      "추측한 숫자를 입력하세요: 62\n",
      "숫자가 큽니다. 더 작은 숫자를 시도하세요.\n",
      "추측한 숫자를 입력하세요: 57\n",
      "숫자가 큽니다. 더 작은 숫자를 시도하세요.\n",
      "추측한 숫자를 입력하세요: 53\n",
      "숫자가 작습니다. 더 큰 숫자를 시도하세요.\n",
      "추측한 숫자를 입력하세요: 54\n",
      "정답입니다! 숫자는 54였습니다.\n"
     ]
    }
   ],
   "source": [
    "import random\n",
    "\n",
    "def play_guessing_game():\n",
    "    target_number = random.randint(1, 100)\n",
    "    print(\"1부터 100 사이의 숫자를 맞춰보세요!\")\n",
    "    \n",
    "    while True:\n",
    "        guess = int(input(\"추측한 숫자를 입력하세요: \"))\n",
    "        \n",
    "        if guess < target_number:\n",
    "            print(\"숫자가 작습니다. 더 큰 숫자를 시도하세요.\")\n",
    "        elif guess > target_number:\n",
    "            print(\"숫자가 큽니다. 더 작은 숫자를 시도하세요.\")\n",
    "        else:\n",
    "            print(\"정답입니다! 숫자는 {}였습니다.\".format(target_number))\n",
    "            break\n",
    "\n",
    "play_guessing_game()\n"
   ]
  },
  {
   "cell_type": "markdown",
   "id": "b46951f2",
   "metadata": {},
   "source": [
    "## 다. 클래스 기반 코드"
   ]
  },
  {
   "cell_type": "code",
   "execution_count": 3,
   "id": "ad23dcc3",
   "metadata": {},
   "outputs": [
    {
     "name": "stdout",
     "output_type": "stream",
     "text": [
      "1부터 100 사이의 숫자를 맞춰보세요!\n",
      "추측한 숫자를 입력하세요: 50\n",
      "숫자가 작습니다. 더 큰 숫자를 시도하세요.\n",
      "추측한 숫자를 입력하세요: 75\n",
      "숫자가 작습니다. 더 큰 숫자를 시도하세요.\n",
      "추측한 숫자를 입력하세요: 83\n",
      "숫자가 작습니다. 더 큰 숫자를 시도하세요.\n",
      "추측한 숫자를 입력하세요: 90\n",
      "숫자가 큽니다. 더 작은 숫자를 시도하세요.\n",
      "추측한 숫자를 입력하세요: 86\n",
      "숫자가 작습니다. 더 큰 숫자를 시도하세요.\n",
      "추측한 숫자를 입력하세요: 88\n",
      "정답입니다! 숫자는 88였습니다.\n"
     ]
    }
   ],
   "source": [
    "import random\n",
    "\n",
    "class GuessingGame:\n",
    "    def __init__(self):\n",
    "        self.target_number = random.randint(1, 100)\n",
    "        \n",
    "    def play(self):\n",
    "        print(\"1부터 100 사이의 숫자를 맞춰보세요!\")\n",
    "        \n",
    "        while True:\n",
    "            guess = int(input(\"추측한 숫자를 입력하세요: \"))\n",
    "            \n",
    "            if guess < self.target_number:\n",
    "                print(\"숫자가 작습니다. 더 큰 숫자를 시도하세요.\")\n",
    "            elif guess > self.target_number:\n",
    "                print(\"숫자가 큽니다. 더 작은 숫자를 시도하세요.\")\n",
    "            else:\n",
    "                print(\"정답입니다! 숫자는 {}였습니다.\".format(self.target_number))\n",
    "                break\n",
    "\n",
    "game = GuessingGame()\n",
    "game.play()\n"
   ]
  },
  {
   "cell_type": "code",
   "execution_count": null,
   "id": "1897ce40",
   "metadata": {},
   "outputs": [],
   "source": []
  }
 ],
 "metadata": {
  "kernelspec": {
   "display_name": "Python 3 (ipykernel)",
   "language": "python",
   "name": "python3"
  },
  "language_info": {
   "codemirror_mode": {
    "name": "ipython",
    "version": 3
   },
   "file_extension": ".py",
   "mimetype": "text/x-python",
   "name": "python",
   "nbconvert_exporter": "python",
   "pygments_lexer": "ipython3",
   "version": "3.8.4"
  }
 },
 "nbformat": 4,
 "nbformat_minor": 5
}

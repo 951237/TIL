{
 "cells": [
  {
   "cell_type": "markdown",
   "id": "4bba9a82",
   "metadata": {},
   "source": [
    "# 로또번호 생성기 feat streamlit"
   ]
  },
  {
   "cell_type": "markdown",
   "id": "a499a517",
   "metadata": {},
   "source": [
    "## 가. 코드"
   ]
  },
  {
   "cell_type": "code",
   "execution_count": null,
   "id": "5303ce6d",
   "metadata": {},
   "outputs": [],
   "source": [
    "import streamlit as st\n",
    "import random\n",
    "import time\n",
    "\n",
    "# Streamlit 앱의 제목 설정\n",
    "st.title(\"로또 번호 생성기\")\n",
    "\n",
    "# 로또 번호 생성 함수\n",
    "def generate_lotto_numbers():\n",
    "    # 1에서 45까지의 숫자 중에서 중복 없이 6개를 무작위로 선택\n",
    "    lotto_numbers = random.sample(range(1, 46), 6)\n",
    "    return sorted(lotto_numbers)\n",
    "\n",
    "# 로또 번호 색상 목록\n",
    "colors = ['#FF5733', '#FFC300', '#C70039', '#900C3F', '#581845', '#3D9970']\n",
    "\n",
    "# \"로또 번호 생성\" 버튼을 클릭하면 실행\n",
    "if st.button(\"로또 번호 생성\"):\n",
    "    # 결과를 지우기 위해 빈 출력 영역을 생성\n",
    "    result_area = st.empty()\n",
    "\n",
    "    # 로또 번호 생성 및 애니메이션 효과\n",
    "    lotto_numbers = generate_lotto_numbers()\n",
    "    result_area.write(\"로또 번호 생성 중...\")\n",
    "\n",
    "    # 열을 사용하여 숫자를 나란히 표시\n",
    "    columns = st.columns(6)\n",
    "    for i, number in enumerate(lotto_numbers):\n",
    "        # 공모양을 생성하고 숫자와 색상을 지정\n",
    "        ball = f'<div style=\"background-color:{random.choice(colors)}; border-radius:50%; width:50px; height:50px; display:flex; align-items:center; justify-content:center; font-size:20px; font-weight:bold;\">{number}</div>'\n",
    "        columns[i % 6].write(ball, unsafe_allow_html=True)\n",
    "        time.sleep(0.5)"
   ]
  },
  {
   "cell_type": "markdown",
   "id": "4a0207e9",
   "metadata": {},
   "source": [
    "## 나. 코드 실행\n",
    "```bash\n",
    "streamlit run your_app.py\n",
    "```"
   ]
  }
 ],
 "metadata": {
  "kernelspec": {
   "display_name": "Python 3 (ipykernel)",
   "language": "python",
   "name": "python3"
  },
  "language_info": {
   "codemirror_mode": {
    "name": "ipython",
    "version": 3
   },
   "file_extension": ".py",
   "mimetype": "text/x-python",
   "name": "python",
   "nbconvert_exporter": "python",
   "pygments_lexer": "ipython3",
   "version": "3.8.4"
  }
 },
 "nbformat": 4,
 "nbformat_minor": 5
}

{
 "cells": [
  {
   "cell_type": "markdown",
   "id": "798cfad9",
   "metadata": {},
   "source": [
    "# 231226_콜백함수 탐구"
   ]
  },
  {
   "cell_type": "code",
   "execution_count": 60,
   "id": "a4001e80",
   "metadata": {},
   "outputs": [
    {
     "name": "stdout",
     "output_type": "stream",
     "text": [
      "수학 과목의 평균 점수는 85.75점으로 임계값을 초과했습니다.\n"
     ]
    }
   ],
   "source": [
    "import pandas as pd\n",
    "\n",
    "\n",
    "# 과목별 평균 점수가 임계값을 초과하는지 확인하고 콜백 함수를 호출하는 함수\n",
    "def check_group_average(df, group_column, value_column, threshold, callback):\n",
    "    \"\"\"\n",
    "    DataFrame을 그룹화하고, 각 그룹의 평균 값이 임계값을 초과하는 경우 콜백 함수를 호출한다.\n",
    "    :param df: DataFrame\n",
    "    :param group_column: 그룹화할 열 이름\n",
    "    :param value_column: 평균을 계산할 열 이름\n",
    "    :param threshold: 임계값\n",
    "    :param callback: 콜백 함수\n",
    "    \"\"\"\n",
    "    grouped = df.groupby(group_column)\n",
    "    for group_name, group_df in grouped:\n",
    "        average = group_df[value_column].mean()\n",
    "        if average > threshold:\n",
    "            callback(group_name, average)\n",
    "\n",
    "# 콜백 함수 정의\n",
    "def print_group_average(group_name, average):\n",
    "    \"\"\"\n",
    "    임계값을 초과하는 그룹의 평균 점수를 출력한다.\n",
    "    :param group_name: 그룹 이름 (과목)\n",
    "    :param average: 그룹의 평균 점수\n",
    "    \"\"\"\n",
    "    print(f\"{group_name} 과목의 평균 점수는 {average:.2f}점으로 임계값을 초과했습니다.\")\n",
    "\n",
    "# 함수 호출 및 콜백 함수 실행\n",
    "threshold = 85\n",
    "check_group_average(df, '과목', '점수', threshold, print_group_average)\n"
   ]
  },
  {
   "cell_type": "code",
   "execution_count": 61,
   "id": "6472efe2",
   "metadata": {},
   "outputs": [],
   "source": [
    "# 새로운 샘플 데이터 프레임 생성\n",
    "data = {\n",
    "    '이름': ['김철수', '이영희', '박지민', '최예나', '김철수', '이영희', '박지민', '최예나'],\n",
    "    '과목': ['수학', '수학', '수학', '수학', '영어', '영어', '영어', '영어'],\n",
    "    '점수': [85, 92, 78, 88, 75, 80, 90, 85]\n",
    "}\n",
    "df = pd.DataFrame(data)"
   ]
  },
  {
   "cell_type": "code",
   "execution_count": 62,
   "id": "acf7bb0b",
   "metadata": {},
   "outputs": [
    {
     "data": {
      "text/html": [
       "<div>\n",
       "<style scoped>\n",
       "    .dataframe tbody tr th:only-of-type {\n",
       "        vertical-align: middle;\n",
       "    }\n",
       "\n",
       "    .dataframe tbody tr th {\n",
       "        vertical-align: top;\n",
       "    }\n",
       "\n",
       "    .dataframe thead th {\n",
       "        text-align: right;\n",
       "    }\n",
       "</style>\n",
       "<table border=\"1\" class=\"dataframe\">\n",
       "  <thead>\n",
       "    <tr style=\"text-align: right;\">\n",
       "      <th></th>\n",
       "      <th>이름</th>\n",
       "      <th>과목</th>\n",
       "      <th>점수</th>\n",
       "    </tr>\n",
       "  </thead>\n",
       "  <tbody>\n",
       "    <tr>\n",
       "      <th>0</th>\n",
       "      <td>김철수</td>\n",
       "      <td>수학</td>\n",
       "      <td>85</td>\n",
       "    </tr>\n",
       "    <tr>\n",
       "      <th>1</th>\n",
       "      <td>이영희</td>\n",
       "      <td>수학</td>\n",
       "      <td>92</td>\n",
       "    </tr>\n",
       "    <tr>\n",
       "      <th>2</th>\n",
       "      <td>박지민</td>\n",
       "      <td>수학</td>\n",
       "      <td>78</td>\n",
       "    </tr>\n",
       "    <tr>\n",
       "      <th>3</th>\n",
       "      <td>최예나</td>\n",
       "      <td>수학</td>\n",
       "      <td>88</td>\n",
       "    </tr>\n",
       "    <tr>\n",
       "      <th>4</th>\n",
       "      <td>김철수</td>\n",
       "      <td>영어</td>\n",
       "      <td>75</td>\n",
       "    </tr>\n",
       "    <tr>\n",
       "      <th>5</th>\n",
       "      <td>이영희</td>\n",
       "      <td>영어</td>\n",
       "      <td>80</td>\n",
       "    </tr>\n",
       "    <tr>\n",
       "      <th>6</th>\n",
       "      <td>박지민</td>\n",
       "      <td>영어</td>\n",
       "      <td>90</td>\n",
       "    </tr>\n",
       "    <tr>\n",
       "      <th>7</th>\n",
       "      <td>최예나</td>\n",
       "      <td>영어</td>\n",
       "      <td>85</td>\n",
       "    </tr>\n",
       "  </tbody>\n",
       "</table>\n",
       "</div>"
      ],
      "text/plain": [
       "    이름  과목  점수\n",
       "0  김철수  수학  85\n",
       "1  이영희  수학  92\n",
       "2  박지민  수학  78\n",
       "3  최예나  수학  88\n",
       "4  김철수  영어  75\n",
       "5  이영희  영어  80\n",
       "6  박지민  영어  90\n",
       "7  최예나  영어  85"
      ]
     },
     "execution_count": 62,
     "metadata": {},
     "output_type": "execute_result"
    }
   ],
   "source": [
    "df"
   ]
  },
  {
   "cell_type": "markdown",
   "id": "46aa44ef",
   "metadata": {},
   "source": [
    "# 231214_판다스\n"
   ]
  },
  {
   "cell_type": "code",
   "execution_count": 58,
   "id": "85c9a2d3",
   "metadata": {},
   "outputs": [],
   "source": [
    "df_1214 = pd.DataFrame(np.random.rand(6,3),    #데이터 랜덤생성\n",
    "            columns=['a', 'b', 'c']  # 칼럼 이름만들기\n",
    "            )"
   ]
  },
  {
   "cell_type": "code",
   "execution_count": 59,
   "id": "dcef74b8",
   "metadata": {},
   "outputs": [
    {
     "data": {
      "text/html": [
       "<div>\n",
       "<style scoped>\n",
       "    .dataframe tbody tr th:only-of-type {\n",
       "        vertical-align: middle;\n",
       "    }\n",
       "\n",
       "    .dataframe tbody tr th {\n",
       "        vertical-align: top;\n",
       "    }\n",
       "\n",
       "    .dataframe thead th {\n",
       "        text-align: right;\n",
       "    }\n",
       "</style>\n",
       "<table border=\"1\" class=\"dataframe\">\n",
       "  <thead>\n",
       "    <tr style=\"text-align: right;\">\n",
       "      <th></th>\n",
       "      <th>a</th>\n",
       "      <th>b</th>\n",
       "      <th>c</th>\n",
       "    </tr>\n",
       "  </thead>\n",
       "  <tbody>\n",
       "    <tr>\n",
       "      <th>0</th>\n",
       "      <td>0.131726</td>\n",
       "      <td>0.921342</td>\n",
       "      <td>0.307065</td>\n",
       "    </tr>\n",
       "    <tr>\n",
       "      <th>1</th>\n",
       "      <td>0.841174</td>\n",
       "      <td>0.451704</td>\n",
       "      <td>0.936544</td>\n",
       "    </tr>\n",
       "    <tr>\n",
       "      <th>2</th>\n",
       "      <td>0.380572</td>\n",
       "      <td>0.703684</td>\n",
       "      <td>0.458147</td>\n",
       "    </tr>\n",
       "    <tr>\n",
       "      <th>3</th>\n",
       "      <td>0.625848</td>\n",
       "      <td>0.299461</td>\n",
       "      <td>0.001730</td>\n",
       "    </tr>\n",
       "    <tr>\n",
       "      <th>4</th>\n",
       "      <td>0.733736</td>\n",
       "      <td>0.441277</td>\n",
       "      <td>0.016002</td>\n",
       "    </tr>\n",
       "    <tr>\n",
       "      <th>5</th>\n",
       "      <td>0.229551</td>\n",
       "      <td>0.301106</td>\n",
       "      <td>0.203741</td>\n",
       "    </tr>\n",
       "  </tbody>\n",
       "</table>\n",
       "</div>"
      ],
      "text/plain": [
       "          a         b         c\n",
       "0  0.131726  0.921342  0.307065\n",
       "1  0.841174  0.451704  0.936544\n",
       "2  0.380572  0.703684  0.458147\n",
       "3  0.625848  0.299461  0.001730\n",
       "4  0.733736  0.441277  0.016002\n",
       "5  0.229551  0.301106  0.203741"
      ]
     },
     "execution_count": 59,
     "metadata": {},
     "output_type": "execute_result"
    }
   ],
   "source": [
    "df_1214"
   ]
  },
  {
   "cell_type": "code",
   "execution_count": 52,
   "id": "9a33fc98",
   "metadata": {},
   "outputs": [],
   "source": [
    "import numpy as np"
   ]
  },
  {
   "cell_type": "markdown",
   "id": "7a69338e",
   "metadata": {},
   "source": [
    "# 231213_판다스 \n",
    "- reindex()\n",
    "- 필터링"
   ]
  },
  {
   "cell_type": "code",
   "execution_count": 34,
   "id": "195e4469",
   "metadata": {},
   "outputs": [
    {
     "data": {
      "text/html": [
       "<div>\n",
       "<style scoped>\n",
       "    .dataframe tbody tr th:only-of-type {\n",
       "        vertical-align: middle;\n",
       "    }\n",
       "\n",
       "    .dataframe tbody tr th {\n",
       "        vertical-align: top;\n",
       "    }\n",
       "\n",
       "    .dataframe thead th {\n",
       "        text-align: right;\n",
       "    }\n",
       "</style>\n",
       "<table border=\"1\" class=\"dataframe\">\n",
       "  <thead>\n",
       "    <tr style=\"text-align: right;\">\n",
       "      <th></th>\n",
       "      <th>이름</th>\n",
       "      <th>나이</th>\n",
       "      <th>도시</th>\n",
       "    </tr>\n",
       "  </thead>\n",
       "  <tbody>\n",
       "    <tr>\n",
       "      <th>0</th>\n",
       "      <td>John</td>\n",
       "      <td>28</td>\n",
       "      <td>서울</td>\n",
       "    </tr>\n",
       "    <tr>\n",
       "      <th>1</th>\n",
       "      <td>Jane</td>\n",
       "      <td>24</td>\n",
       "      <td>도쿄</td>\n",
       "    </tr>\n",
       "    <tr>\n",
       "      <th>2</th>\n",
       "      <td>Mike</td>\n",
       "      <td>22</td>\n",
       "      <td>뉴욕</td>\n",
       "    </tr>\n",
       "  </tbody>\n",
       "</table>\n",
       "</div>"
      ],
      "text/plain": [
       "     이름  나이  도시\n",
       "0  John  28  서울\n",
       "1  Jane  24  도쿄\n",
       "2  Mike  22  뉴욕"
      ]
     },
     "execution_count": 34,
     "metadata": {},
     "output_type": "execute_result"
    }
   ],
   "source": [
    "df"
   ]
  },
  {
   "cell_type": "code",
   "execution_count": 50,
   "id": "53a51bf2",
   "metadata": {},
   "outputs": [
    {
     "data": {
      "text/html": [
       "<div>\n",
       "<style scoped>\n",
       "    .dataframe tbody tr th:only-of-type {\n",
       "        vertical-align: middle;\n",
       "    }\n",
       "\n",
       "    .dataframe tbody tr th {\n",
       "        vertical-align: top;\n",
       "    }\n",
       "\n",
       "    .dataframe thead th {\n",
       "        text-align: right;\n",
       "    }\n",
       "</style>\n",
       "<table border=\"1\" class=\"dataframe\">\n",
       "  <thead>\n",
       "    <tr style=\"text-align: right;\">\n",
       "      <th></th>\n",
       "      <th>이름</th>\n",
       "      <th>나이</th>\n",
       "      <th>도시</th>\n",
       "    </tr>\n",
       "  </thead>\n",
       "  <tbody>\n",
       "    <tr>\n",
       "      <th>0</th>\n",
       "      <td>John</td>\n",
       "      <td>28</td>\n",
       "      <td>서울</td>\n",
       "    </tr>\n",
       "  </tbody>\n",
       "</table>\n",
       "</div>"
      ],
      "text/plain": [
       "     이름  나이  도시\n",
       "0  John  28  서울"
      ]
     },
     "execution_count": 50,
     "metadata": {},
     "output_type": "execute_result"
    }
   ],
   "source": [
    "# 데이터 프레임 필터링\n",
    "df.loc[(df.나이 > 20)&(df.도시=='서울')]"
   ]
  },
  {
   "cell_type": "code",
   "execution_count": 47,
   "id": "de9b9052",
   "metadata": {},
   "outputs": [
    {
     "data": {
      "text/html": [
       "<div>\n",
       "<style scoped>\n",
       "    .dataframe tbody tr th:only-of-type {\n",
       "        vertical-align: middle;\n",
       "    }\n",
       "\n",
       "    .dataframe tbody tr th {\n",
       "        vertical-align: top;\n",
       "    }\n",
       "\n",
       "    .dataframe thead th {\n",
       "        text-align: right;\n",
       "    }\n",
       "</style>\n",
       "<table border=\"1\" class=\"dataframe\">\n",
       "  <thead>\n",
       "    <tr style=\"text-align: right;\">\n",
       "      <th></th>\n",
       "      <th>이름</th>\n",
       "      <th>나이</th>\n",
       "      <th>도시</th>\n",
       "    </tr>\n",
       "  </thead>\n",
       "  <tbody>\n",
       "    <tr>\n",
       "      <th>0</th>\n",
       "      <td>John</td>\n",
       "      <td>28</td>\n",
       "      <td>서울</td>\n",
       "    </tr>\n",
       "  </tbody>\n",
       "</table>\n",
       "</div>"
      ],
      "text/plain": [
       "     이름  나이  도시\n",
       "0  John  28  서울"
      ]
     },
     "execution_count": 47,
     "metadata": {},
     "output_type": "execute_result"
    }
   ],
   "source": [
    "df.loc[(df['나이']>25)]"
   ]
  },
  {
   "cell_type": "markdown",
   "id": "bacf46e6",
   "metadata": {},
   "source": [
    "# 231210_데이터 프레임 생성하기 "
   ]
  },
  {
   "cell_type": "markdown",
   "id": "0339649a",
   "metadata": {},
   "source": [
    "## 가. 리스트-딕셔너리 사용하여 데이터 프레임 생성"
   ]
  },
  {
   "cell_type": "code",
   "execution_count": 31,
   "id": "9f91cb86",
   "metadata": {},
   "outputs": [
    {
     "name": "stdout",
     "output_type": "stream",
     "text": [
      "     이름  나이  도시\n",
      "0  John  28  서울\n",
      "1  Jane  24  도쿄\n",
      "2  Mike  22  뉴욕\n"
     ]
    }
   ],
   "source": [
    "import pandas as pd\n",
    "\n",
    "# 데이터 프레임을 만들 데이터 정의\n",
    "data = [{'이름': 'John', '나이': 28, '도시': '서울'},\n",
    "        {'이름': 'Jane', '나이': 24, '도시': '도쿄'},\n",
    "        {'이름': 'Mike', '나이': 22, '도시': '뉴욕'}]\n",
    "\n",
    "# 데이터 프레임 생성\n",
    "df = pd.DataFrame(data)\n",
    "\n",
    "# 생성된 데이터 프레임 출력\n",
    "print(df)"
   ]
  },
  {
   "cell_type": "markdown",
   "id": "c83da677",
   "metadata": {},
   "source": [
    "## 나. 리스트-리스트의 리스트를 사용한 데이터 프레임"
   ]
  },
  {
   "cell_type": "code",
   "execution_count": 32,
   "id": "9caa7438",
   "metadata": {},
   "outputs": [
    {
     "name": "stdout",
     "output_type": "stream",
     "text": [
      "     이름  나이  도시\n",
      "0  John  28  서울\n",
      "1  Jane  24  도쿄\n",
      "2  Mike  22  뉴욕\n"
     ]
    }
   ],
   "source": [
    "### 리스트-딕셔너리 사용하여 데이터 프레임 생성\n",
    "import pandas as pd\n",
    "\n",
    "# 데이터 프레임을 만들 데이터 정의\n",
    "data = [['John', 28, '서울'],\n",
    "        ['Jane', 24, '도쿄'],\n",
    "        ['Mike', 22, '뉴욕']]\n",
    "\n",
    "# 데이터 프레임 생성\n",
    "df = pd.DataFrame(data, columns=['이름', '나이', '도시'])\n",
    "\n",
    "# 생성된 데이터 프레임 출력\n",
    "print(df)"
   ]
  },
  {
   "cell_type": "markdown",
   "id": "a83c3346",
   "metadata": {},
   "source": [
    "## 딕셔너리 - 리스트를 사용하여 데이터 프레임 생성하기\n"
   ]
  },
  {
   "cell_type": "code",
   "execution_count": 33,
   "id": "b7cc8b17",
   "metadata": {},
   "outputs": [
    {
     "name": "stdout",
     "output_type": "stream",
     "text": [
      "     이름  나이  도시\n",
      "0  John  28  서울\n",
      "1  Jane  24  도쿄\n",
      "2  Mike  22  뉴욕\n"
     ]
    }
   ],
   "source": [
    "\n",
    "import pandas as pd\n",
    "\n",
    "# 데이터 프레임을 만들 데이터 정의\n",
    "data = {'이름': ['John', 'Jane', 'Mike'],\n",
    "        '나이': [28, 24, 22],\n",
    "        '도시': ['서울', '도쿄', '뉴욕']}\n",
    "\n",
    "# 데이터 프레임 생성\n",
    "df = pd.DataFrame(data)\n",
    "\n",
    "# 생성된 데이터 프레임 출력\n",
    "print(df)"
   ]
  },
  {
   "cell_type": "markdown",
   "id": "24d035a5",
   "metadata": {},
   "source": [
    "# 231117_파이선 클래스 - 상속\n",
    "- 엄청난 양의 코드를 효율적으로 사용하기 위함"
   ]
  },
  {
   "cell_type": "code",
   "execution_count": 26,
   "id": "aa08502c",
   "metadata": {},
   "outputs": [],
   "source": [
    "# 클래스원본\n",
    "class Person:\n",
    "    def __init__(self, firstname, lastname):\n",
    "        self.firstname = firstname\n",
    "        self.lastname = lastname\n",
    "        \n",
    "    def name(self):\n",
    "        return self.firstname + \" \" + self.lastname\n",
    "\n",
    "# 노동자와 사용자 클래스\n",
    "class Employee(Person):\n",
    "    def __init__(self, firstname, lastname, staffId):\n",
    "        # Person.__init__(self, firstname, lastname)  # 원본 클래스 가져오기, super()를 사용하면서 self는 생략가능\n",
    "        super().__init__(firstname, lastname)\n",
    "        self.staffId = staffId\n",
    "    \n",
    "    def info(self):\n",
    "        return \"Employee : \" + self.name() + \", \" \\\n",
    "                + str(self.staffId)\n",
    "    \n",
    "class Employer(Person):\n",
    "    def __init__(self, firstname, lastname, position):\n",
    "        # Person.__init__(self, firstname, lastname)\n",
    "        super().__init__(firstname, lastname)  # super()를 사용하면서 self는 생략가능\n",
    "        self.position = position\n",
    "    \n",
    "    def info(self):\n",
    "        return \"Employer : \" + self.name() + \", \"\\\n",
    "                + self.position"
   ]
  },
  {
   "cell_type": "code",
   "execution_count": 27,
   "id": "36275532",
   "metadata": {},
   "outputs": [
    {
     "name": "stdout",
     "output_type": "stream",
     "text": [
      "Employee : Sherlock Gmones, 1111\n",
      "Employer : James Kim, CF)\n"
     ]
    }
   ],
   "source": [
    "# 노동자와 사용자 만들기\n",
    "worker = Employee(\"Sherlock\", \"Gmones\", 1111)\n",
    "cfo = Employer(\"James\", \"Kim\", \"CF)\")\n",
    "\n",
    "print(worker.info())\n",
    "print(cfo.info())"
   ]
  },
  {
   "cell_type": "markdown",
   "id": "2ed842af",
   "metadata": {},
   "source": [
    "# 231114_파이선 클래스 변수"
   ]
  },
  {
   "cell_type": "code",
   "execution_count": 21,
   "id": "c8c7d899",
   "metadata": {},
   "outputs": [],
   "source": [
    "# 클래스의 변수 설정\n",
    "class Circle:\n",
    "    PI = 3.14\n",
    "    def __init__(self, name, radius):\n",
    "        self.name = name\n",
    "        self.radius = radius\n",
    "\n",
    "    # circle 클래스 변수 PI를 이용하여 면적 구하기\n",
    "    def area(self):\n",
    "        return Circle.PI * self.radius ** 2"
   ]
  },
  {
   "cell_type": "code",
   "execution_count": 22,
   "id": "93e79a85",
   "metadata": {},
   "outputs": [
    {
     "name": "stdout",
     "output_type": "stream",
     "text": [
      "c1의 면적 :  50.24\n"
     ]
    }
   ],
   "source": [
    "c1 = Circle(\"C1\", 4)\n",
    "print(\"c1의 면적 : \", c1.area())"
   ]
  },
  {
   "cell_type": "code",
   "execution_count": null,
   "id": "07f25fd7",
   "metadata": {},
   "outputs": [],
   "source": []
  },
  {
   "cell_type": "code",
   "execution_count": null,
   "id": "7c897a80",
   "metadata": {},
   "outputs": [],
   "source": []
  },
  {
   "cell_type": "markdown",
   "id": "7aa0b1d3",
   "metadata": {},
   "source": [
    "# 231113_파이선 리스트 축약식 01\n",
    "## 가. 노션링크\n",
    "- https://951237.notion.site/1-7bb04c57477041d585c484368ea2a105?pvs=4"
   ]
  },
  {
   "cell_type": "code",
   "execution_count": 1,
   "id": "f47cdd85",
   "metadata": {},
   "outputs": [
    {
     "data": {
      "text/plain": [
       "[0, 1, 2, 3, 4, 5, 6, 7, 8, 9]"
      ]
     },
     "execution_count": 1,
     "metadata": {},
     "output_type": "execute_result"
    }
   ],
   "source": [
    "a = [x for x in range(10)]\n",
    "a"
   ]
  },
  {
   "cell_type": "code",
   "execution_count": 6,
   "id": "6807b5d7",
   "metadata": {},
   "outputs": [
    {
     "data": {
      "text/plain": [
       "[0, 2, 4, 6, 8]"
      ]
     },
     "execution_count": 6,
     "metadata": {},
     "output_type": "execute_result"
    }
   ],
   "source": [
    "# 짝수 구하기\n",
    "a = [x for x in range(10) if x % 2 == 0]\n",
    "a"
   ]
  },
  {
   "cell_type": "code",
   "execution_count": 8,
   "id": "417b29c1",
   "metadata": {},
   "outputs": [
    {
     "data": {
      "text/plain": [
       "[1, 3, 5, 7, 9]"
      ]
     },
     "execution_count": 8,
     "metadata": {},
     "output_type": "execute_result"
    }
   ],
   "source": [
    "# 홀수 구하기\n",
    "a = [x for x in range(10) if x % 2 == 1]\n",
    "a"
   ]
  },
  {
   "cell_type": "code",
   "execution_count": 14,
   "id": "9283b828",
   "metadata": {},
   "outputs": [
    {
     "data": {
      "text/plain": [
       "[6, 12, 18, 24, 30]"
      ]
     },
     "execution_count": 14,
     "metadata": {},
     "output_type": "execute_result"
    }
   ],
   "source": [
    "# 2와 3의 배수 구하기\n",
    "a = [x for x in range(1, 31)\n",
    "    if x % 2 ==0\n",
    "    if x % 3 ==0]\n",
    "a"
   ]
  },
  {
   "cell_type": "markdown",
   "id": "09141480",
   "metadata": {},
   "source": [
    "# 231105_뉴스크롤링후 엑셀파일 저장\n",
    "## 가. 노션링크\n",
    "- https://951237.notion.site/5dabb592bcc14795bcca991d4715c413?pvs=4\n",
    "\n",
    "## 나. 학습내용\n",
    "### 사용라이브러리\n",
    "- 셀레니움, openpyxl\n",
    "\n",
    "### 알고리즘\n",
    "- 셀레이움 실행\n",
    "\t- 키워드 입력\n",
    "- 엑셀파일 생성\n",
    "\t- 헤드 생성(타이틀, 링크)\n",
    "- 결과값 엑셀파일 저장\n",
    "- 엑셀파일 이름 생성\n",
    "\t- 쿼리 파일 넣기\n",
    "- 엑셀파일 저장"
   ]
  },
  {
   "cell_type": "markdown",
   "id": "1eff6822",
   "metadata": {},
   "source": [
    "# 231104_윈도우 자동화 pywinauto\n",
    "\n",
    "## 가. 노션링크\n",
    "- https://951237.notion.site/pywinauto-5c1bef54d8114f368b84037c41a36fe4?pvs=4\n",
    "\n",
    "## 나. 학습내용\n",
    "- pyautogui는 매크로를 적용하기 위해서는 좌표를 알아야 함.\n",
    "- pywinauto는 함수 혹은 클래스로 정리해놓음. 적용하기가 더 쉬움.\n",
    "- 하지만, 모든 프로그램에 적용되는 것같지는 않음. 필요한 프로그램에 작동하는지 확인이 필요함."
   ]
  }
 ],
 "metadata": {
  "kernelspec": {
   "display_name": "Python 3 (ipykernel)",
   "language": "python",
   "name": "python3"
  },
  "language_info": {
   "codemirror_mode": {
    "name": "ipython",
    "version": 3
   },
   "file_extension": ".py",
   "mimetype": "text/x-python",
   "name": "python",
   "nbconvert_exporter": "python",
   "pygments_lexer": "ipython3",
   "version": "3.8.4"
  }
 },
 "nbformat": 4,
 "nbformat_minor": 5
}

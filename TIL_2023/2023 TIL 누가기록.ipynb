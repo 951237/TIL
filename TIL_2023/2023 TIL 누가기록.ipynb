{
 "cells": [
  {
   "cell_type": "markdown",
   "id": "bacf46e6",
   "metadata": {},
   "source": [
    "# 231210_데이터 프레임 생성하기 "
   ]
  },
  {
   "cell_type": "markdown",
   "id": "0339649a",
   "metadata": {},
   "source": [
    "## 가. 리스트-딕셔너리 사용하여 데이터 프레임 생성"
   ]
  },
  {
   "cell_type": "code",
   "execution_count": 31,
   "id": "9f91cb86",
   "metadata": {},
   "outputs": [
    {
     "name": "stdout",
     "output_type": "stream",
     "text": [
      "     이름  나이  도시\n",
      "0  John  28  서울\n",
      "1  Jane  24  도쿄\n",
      "2  Mike  22  뉴욕\n"
     ]
    }
   ],
   "source": [
    "import pandas as pd\n",
    "\n",
    "# 데이터 프레임을 만들 데이터 정의\n",
    "data = [{'이름': 'John', '나이': 28, '도시': '서울'},\n",
    "        {'이름': 'Jane', '나이': 24, '도시': '도쿄'},\n",
    "        {'이름': 'Mike', '나이': 22, '도시': '뉴욕'}]\n",
    "\n",
    "# 데이터 프레임 생성\n",
    "df = pd.DataFrame(data)\n",
    "\n",
    "# 생성된 데이터 프레임 출력\n",
    "print(df)"
   ]
  },
  {
   "cell_type": "markdown",
   "id": "c83da677",
   "metadata": {},
   "source": [
    "## 나. 리스트-리스트의 리스트를 사용한 데이터 프레임"
   ]
  },
  {
   "cell_type": "code",
   "execution_count": 32,
   "id": "9caa7438",
   "metadata": {},
   "outputs": [
    {
     "name": "stdout",
     "output_type": "stream",
     "text": [
      "     이름  나이  도시\n",
      "0  John  28  서울\n",
      "1  Jane  24  도쿄\n",
      "2  Mike  22  뉴욕\n"
     ]
    }
   ],
   "source": [
    "### 리스트-딕셔너리 사용하여 데이터 프레임 생성\n",
    "import pandas as pd\n",
    "\n",
    "# 데이터 프레임을 만들 데이터 정의\n",
    "data = [['John', 28, '서울'],\n",
    "        ['Jane', 24, '도쿄'],\n",
    "        ['Mike', 22, '뉴욕']]\n",
    "\n",
    "# 데이터 프레임 생성\n",
    "df = pd.DataFrame(data, columns=['이름', '나이', '도시'])\n",
    "\n",
    "# 생성된 데이터 프레임 출력\n",
    "print(df)"
   ]
  },
  {
   "cell_type": "markdown",
   "id": "a83c3346",
   "metadata": {},
   "source": [
    "## 딕셔너리 - 리스트를 사용하여 데이터 프레임 생성하기\n"
   ]
  },
  {
   "cell_type": "code",
   "execution_count": 33,
   "id": "b7cc8b17",
   "metadata": {},
   "outputs": [
    {
     "name": "stdout",
     "output_type": "stream",
     "text": [
      "     이름  나이  도시\n",
      "0  John  28  서울\n",
      "1  Jane  24  도쿄\n",
      "2  Mike  22  뉴욕\n"
     ]
    }
   ],
   "source": [
    "\n",
    "import pandas as pd\n",
    "\n",
    "# 데이터 프레임을 만들 데이터 정의\n",
    "data = {'이름': ['John', 'Jane', 'Mike'],\n",
    "        '나이': [28, 24, 22],\n",
    "        '도시': ['서울', '도쿄', '뉴욕']}\n",
    "\n",
    "# 데이터 프레임 생성\n",
    "df = pd.DataFrame(data)\n",
    "\n",
    "# 생성된 데이터 프레임 출력\n",
    "print(df)"
   ]
  },
  {
   "cell_type": "markdown",
   "id": "24d035a5",
   "metadata": {},
   "source": [
    "# 231117_파이선 클래스 - 상속\n",
    "- 엄청난 양의 코드를 효율적으로 사용하기 위함"
   ]
  },
  {
   "cell_type": "code",
   "execution_count": 26,
   "id": "aa08502c",
   "metadata": {},
   "outputs": [],
   "source": [
    "# 클래스원본\n",
    "class Person:\n",
    "    def __init__(self, firstname, lastname):\n",
    "        self.firstname = firstname\n",
    "        self.lastname = lastname\n",
    "        \n",
    "    def name(self):\n",
    "        return self.firstname + \" \" + self.lastname\n",
    "\n",
    "# 노동자와 사용자 클래스\n",
    "class Employee(Person):\n",
    "    def __init__(self, firstname, lastname, staffId):\n",
    "        # Person.__init__(self, firstname, lastname)  # 원본 클래스 가져오기, super()를 사용하면서 self는 생략가능\n",
    "        super().__init__(firstname, lastname)\n",
    "        self.staffId = staffId\n",
    "    \n",
    "    def info(self):\n",
    "        return \"Employee : \" + self.name() + \", \" \\\n",
    "                + str(self.staffId)\n",
    "    \n",
    "class Employer(Person):\n",
    "    def __init__(self, firstname, lastname, position):\n",
    "        # Person.__init__(self, firstname, lastname)\n",
    "        super().__init__(firstname, lastname)  # super()를 사용하면서 self는 생략가능\n",
    "        self.position = position\n",
    "    \n",
    "    def info(self):\n",
    "        return \"Employer : \" + self.name() + \", \"\\\n",
    "                + self.position"
   ]
  },
  {
   "cell_type": "code",
   "execution_count": 27,
   "id": "36275532",
   "metadata": {},
   "outputs": [
    {
     "name": "stdout",
     "output_type": "stream",
     "text": [
      "Employee : Sherlock Gmones, 1111\n",
      "Employer : James Kim, CF)\n"
     ]
    }
   ],
   "source": [
    "# 노동자와 사용자 만들기\n",
    "worker = Employee(\"Sherlock\", \"Gmones\", 1111)\n",
    "cfo = Employer(\"James\", \"Kim\", \"CF)\")\n",
    "\n",
    "print(worker.info())\n",
    "print(cfo.info())"
   ]
  },
  {
   "cell_type": "markdown",
   "id": "2ed842af",
   "metadata": {},
   "source": [
    "# 231114_파이선 클래스 변수"
   ]
  },
  {
   "cell_type": "code",
   "execution_count": 21,
   "id": "c8c7d899",
   "metadata": {},
   "outputs": [],
   "source": [
    "# 클래스의 변수 설정\n",
    "class Circle:\n",
    "    PI = 3.14\n",
    "    def __init__(self, name, radius):\n",
    "        self.name = name\n",
    "        self.radius = radius\n",
    "\n",
    "    # circle 클래스 변수 PI를 이용하여 면적 구하기\n",
    "    def area(self):\n",
    "        return Circle.PI * self.radius ** 2"
   ]
  },
  {
   "cell_type": "code",
   "execution_count": 22,
   "id": "93e79a85",
   "metadata": {},
   "outputs": [
    {
     "name": "stdout",
     "output_type": "stream",
     "text": [
      "c1의 면적 :  50.24\n"
     ]
    }
   ],
   "source": [
    "c1 = Circle(\"C1\", 4)\n",
    "print(\"c1의 면적 : \", c1.area())"
   ]
  },
  {
   "cell_type": "code",
   "execution_count": null,
   "id": "07f25fd7",
   "metadata": {},
   "outputs": [],
   "source": []
  },
  {
   "cell_type": "code",
   "execution_count": null,
   "id": "7c897a80",
   "metadata": {},
   "outputs": [],
   "source": []
  },
  {
   "cell_type": "markdown",
   "id": "7aa0b1d3",
   "metadata": {},
   "source": [
    "# 231113_파이선 리스트 축약식 01\n",
    "## 가. 노션링크\n",
    "- https://951237.notion.site/1-7bb04c57477041d585c484368ea2a105?pvs=4"
   ]
  },
  {
   "cell_type": "code",
   "execution_count": 1,
   "id": "f47cdd85",
   "metadata": {},
   "outputs": [
    {
     "data": {
      "text/plain": [
       "[0, 1, 2, 3, 4, 5, 6, 7, 8, 9]"
      ]
     },
     "execution_count": 1,
     "metadata": {},
     "output_type": "execute_result"
    }
   ],
   "source": [
    "a = [x for x in range(10)]\n",
    "a"
   ]
  },
  {
   "cell_type": "code",
   "execution_count": 6,
   "id": "6807b5d7",
   "metadata": {},
   "outputs": [
    {
     "data": {
      "text/plain": [
       "[0, 2, 4, 6, 8]"
      ]
     },
     "execution_count": 6,
     "metadata": {},
     "output_type": "execute_result"
    }
   ],
   "source": [
    "# 짝수 구하기\n",
    "a = [x for x in range(10) if x % 2 == 0]\n",
    "a"
   ]
  },
  {
   "cell_type": "code",
   "execution_count": 8,
   "id": "417b29c1",
   "metadata": {},
   "outputs": [
    {
     "data": {
      "text/plain": [
       "[1, 3, 5, 7, 9]"
      ]
     },
     "execution_count": 8,
     "metadata": {},
     "output_type": "execute_result"
    }
   ],
   "source": [
    "# 홀수 구하기\n",
    "a = [x for x in range(10) if x % 2 == 1]\n",
    "a"
   ]
  },
  {
   "cell_type": "code",
   "execution_count": 14,
   "id": "9283b828",
   "metadata": {},
   "outputs": [
    {
     "data": {
      "text/plain": [
       "[6, 12, 18, 24, 30]"
      ]
     },
     "execution_count": 14,
     "metadata": {},
     "output_type": "execute_result"
    }
   ],
   "source": [
    "# 2와 3의 배수 구하기\n",
    "a = [x for x in range(1, 31)\n",
    "    if x % 2 ==0\n",
    "    if x % 3 ==0]\n",
    "a"
   ]
  },
  {
   "cell_type": "markdown",
   "id": "09141480",
   "metadata": {},
   "source": [
    "# 231105_뉴스크롤링후 엑셀파일 저장\n",
    "## 가. 노션링크\n",
    "- https://951237.notion.site/5dabb592bcc14795bcca991d4715c413?pvs=4\n",
    "\n",
    "## 나. 학습내용\n",
    "### 사용라이브러리\n",
    "- 셀레니움, openpyxl\n",
    "\n",
    "### 알고리즘\n",
    "- 셀레이움 실행\n",
    "\t- 키워드 입력\n",
    "- 엑셀파일 생성\n",
    "\t- 헤드 생성(타이틀, 링크)\n",
    "- 결과값 엑셀파일 저장\n",
    "- 엑셀파일 이름 생성\n",
    "\t- 쿼리 파일 넣기\n",
    "- 엑셀파일 저장"
   ]
  },
  {
   "cell_type": "markdown",
   "id": "1eff6822",
   "metadata": {},
   "source": [
    "# 231104_윈도우 자동화 pywinauto\n",
    "\n",
    "## 가. 노션링크\n",
    "- https://951237.notion.site/pywinauto-5c1bef54d8114f368b84037c41a36fe4?pvs=4\n",
    "\n",
    "## 나. 학습내용\n",
    "- pyautogui는 매크로를 적용하기 위해서는 좌표를 알아야 함.\n",
    "- pywinauto는 함수 혹은 클래스로 정리해놓음. 적용하기가 더 쉬움.\n",
    "- 하지만, 모든 프로그램에 적용되는 것같지는 않음. 필요한 프로그램에 작동하는지 확인이 필요함."
   ]
  }
 ],
 "metadata": {
  "kernelspec": {
   "display_name": "Python 3 (ipykernel)",
   "language": "python",
   "name": "python3"
  },
  "language_info": {
   "codemirror_mode": {
    "name": "ipython",
    "version": 3
   },
   "file_extension": ".py",
   "mimetype": "text/x-python",
   "name": "python",
   "nbconvert_exporter": "python",
   "pygments_lexer": "ipython3",
   "version": "3.8.4"
  }
 },
 "nbformat": 4,
 "nbformat_minor": 5
}

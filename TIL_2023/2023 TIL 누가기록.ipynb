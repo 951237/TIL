{
 "cells": [
  {
   "cell_type": "markdown",
   "id": "6459cc37",
   "metadata": {},
   "source": [
    "# 231113_파이선 리스트 축약식 01\n",
    "## 가. 노션링크\n",
    "- https://951237.notion.site/1-7bb04c57477041d585c484368ea2a105?pvs=4"
   ]
  },
  {
   "cell_type": "code",
   "execution_count": 1,
   "id": "7c5d82dc",
   "metadata": {},
   "outputs": [
    {
     "data": {
      "text/plain": [
       "[0, 1, 2, 3, 4, 5, 6, 7, 8, 9]"
      ]
     },
     "execution_count": 1,
     "metadata": {},
     "output_type": "execute_result"
    }
   ],
   "source": [
    "a = [x for x in range(10)]\n",
    "a"
   ]
  },
  {
   "cell_type": "code",
   "execution_count": 6,
   "id": "d046b3a7",
   "metadata": {},
   "outputs": [
    {
     "data": {
      "text/plain": [
       "[0, 2, 4, 6, 8]"
      ]
     },
     "execution_count": 6,
     "metadata": {},
     "output_type": "execute_result"
    }
   ],
   "source": [
    "# 짝수 구하기\n",
    "a = [x for x in range(10) if x % 2 == 0]\n",
    "a"
   ]
  },
  {
   "cell_type": "code",
   "execution_count": 8,
   "id": "7a852eca",
   "metadata": {},
   "outputs": [
    {
     "data": {
      "text/plain": [
       "[1, 3, 5, 7, 9]"
      ]
     },
     "execution_count": 8,
     "metadata": {},
     "output_type": "execute_result"
    }
   ],
   "source": [
    "# 홀수 구하기\n",
    "a = [x for x in range(10) if x % 2 == 1]\n",
    "a"
   ]
  },
  {
   "cell_type": "code",
   "execution_count": 14,
   "id": "6483911e",
   "metadata": {},
   "outputs": [
    {
     "data": {
      "text/plain": [
       "[6, 12, 18, 24, 30]"
      ]
     },
     "execution_count": 14,
     "metadata": {},
     "output_type": "execute_result"
    }
   ],
   "source": [
    "# 2와 3의 배수 구하기\n",
    "a = [x for x in range(1, 31)\n",
    "    if x % 2 ==0\n",
    "    if x % 3 ==0]\n",
    "a"
   ]
  },
  {
   "cell_type": "markdown",
   "id": "09141480",
   "metadata": {},
   "source": [
    "# 231105_뉴스크롤링후 엑셀파일 저장\n",
    "## 가. 노션링크\n",
    "- https://951237.notion.site/5dabb592bcc14795bcca991d4715c413?pvs=4\n",
    "\n",
    "## 나. 학습내용\n",
    "### 사용라이브러리\n",
    "- 셀레니움, openpyxl\n",
    "\n",
    "### 알고리즘\n",
    "- 셀레이움 실행\n",
    "\t- 키워드 입력\n",
    "- 엑셀파일 생성\n",
    "\t- 헤드 생성(타이틀, 링크)\n",
    "- 결과값 엑셀파일 저장\n",
    "- 엑셀파일 이름 생성\n",
    "\t- 쿼리 파일 넣기\n",
    "- 엑셀파일 저장"
   ]
  },
  {
   "cell_type": "markdown",
   "id": "1eff6822",
   "metadata": {},
   "source": [
    "# 231104_윈도우 자동화 pywinauto\n",
    "\n",
    "## 가. 노션링크\n",
    "- https://951237.notion.site/pywinauto-5c1bef54d8114f368b84037c41a36fe4?pvs=4\n",
    "\n",
    "## 나. 학습내용\n",
    "- pyautogui는 매크로를 적용하기 위해서는 좌표를 알아야 함.\n",
    "- pywinauto는 함수 혹은 클래스로 정리해놓음. 적용하기가 더 쉬움.\n",
    "- 하지만, 모든 프로그램에 적용되는 것같지는 않음. 필요한 프로그램에 작동하는지 확인이 필요함."
   ]
  }
 ],
 "metadata": {
  "kernelspec": {
   "display_name": "Python 3 (ipykernel)",
   "language": "python",
   "name": "python3"
  },
  "language_info": {
   "codemirror_mode": {
    "name": "ipython",
    "version": 3
   },
   "file_extension": ".py",
   "mimetype": "text/x-python",
   "name": "python",
   "nbconvert_exporter": "python",
   "pygments_lexer": "ipython3",
   "version": "3.8.4"
  }
 },
 "nbformat": 4,
 "nbformat_minor": 5
}

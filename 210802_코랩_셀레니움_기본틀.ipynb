{
  "nbformat": 4,
  "nbformat_minor": 0,
  "metadata": {
    "colab": {
      "name": "210802 코랩 셀레니움 기본틀.ipynb",
      "provenance": [],
      "authorship_tag": "ABX9TyN3jpHy8rW8MI9L/xUVk+Do",
      "include_colab_link": true
    },
    "kernelspec": {
      "name": "python3",
      "display_name": "Python 3"
    },
    "language_info": {
      "name": "python"
    }
  },
  "cells": [
    {
      "cell_type": "markdown",
      "metadata": {
        "id": "view-in-github",
        "colab_type": "text"
      },
      "source": [
        "<a href=\"https://colab.research.google.com/github/951237/TIL/blob/master/210802_%EC%BD%94%EB%9E%A9_%EC%85%80%EB%A0%88%EB%8B%88%EC%9B%80_%EA%B8%B0%EB%B3%B8%ED%8B%80.ipynb\" target=\"_parent\"><img src=\"https://colab.research.google.com/assets/colab-badge.svg\" alt=\"Open In Colab\"/></a>"
      ]
    },
    {
      "cell_type": "markdown",
      "metadata": {
        "id": "LwQHjZ9i1qer"
      },
      "source": [
        "## 셀레니움 드라이버 설치하기"
      ]
    },
    {
      "cell_type": "code",
      "metadata": {
        "colab": {
          "base_uri": "https://localhost:8080/"
        },
        "id": "nQ2jl6nF09X5",
        "outputId": "f86a92dd-112c-457b-f4dd-222cea26702d"
      },
      "source": [
        "!pip install Selenium\n",
        "!apt-get update # to update ubuntu to correctly run apt install\n",
        "!apt install chromium-chromedriver"
      ],
      "execution_count": 1,
      "outputs": [
        {
          "output_type": "stream",
          "text": [
            "Collecting Selenium\n",
            "  Downloading selenium-3.141.0-py2.py3-none-any.whl (904 kB)\n",
            "\u001b[?25l\r\u001b[K     |▍                               | 10 kB 10.8 MB/s eta 0:00:01\r\u001b[K     |▊                               | 20 kB 14.7 MB/s eta 0:00:01\r\u001b[K     |█                               | 30 kB 14.9 MB/s eta 0:00:01\r\u001b[K     |█▌                              | 40 kB 9.9 MB/s eta 0:00:01\r\u001b[K     |█▉                              | 51 kB 5.4 MB/s eta 0:00:01\r\u001b[K     |██▏                             | 61 kB 5.3 MB/s eta 0:00:01\r\u001b[K     |██▌                             | 71 kB 5.5 MB/s eta 0:00:01\r\u001b[K     |███                             | 81 kB 6.2 MB/s eta 0:00:01\r\u001b[K     |███▎                            | 92 kB 6.4 MB/s eta 0:00:01\r\u001b[K     |███▋                            | 102 kB 4.9 MB/s eta 0:00:01\r\u001b[K     |████                            | 112 kB 4.9 MB/s eta 0:00:01\r\u001b[K     |████▍                           | 122 kB 4.9 MB/s eta 0:00:01\r\u001b[K     |████▊                           | 133 kB 4.9 MB/s eta 0:00:01\r\u001b[K     |█████                           | 143 kB 4.9 MB/s eta 0:00:01\r\u001b[K     |█████▍                          | 153 kB 4.9 MB/s eta 0:00:01\r\u001b[K     |█████▉                          | 163 kB 4.9 MB/s eta 0:00:01\r\u001b[K     |██████▏                         | 174 kB 4.9 MB/s eta 0:00:01\r\u001b[K     |██████▌                         | 184 kB 4.9 MB/s eta 0:00:01\r\u001b[K     |██████▉                         | 194 kB 4.9 MB/s eta 0:00:01\r\u001b[K     |███████▎                        | 204 kB 4.9 MB/s eta 0:00:01\r\u001b[K     |███████▋                        | 215 kB 4.9 MB/s eta 0:00:01\r\u001b[K     |████████                        | 225 kB 4.9 MB/s eta 0:00:01\r\u001b[K     |████████▎                       | 235 kB 4.9 MB/s eta 0:00:01\r\u001b[K     |████████▊                       | 245 kB 4.9 MB/s eta 0:00:01\r\u001b[K     |█████████                       | 256 kB 4.9 MB/s eta 0:00:01\r\u001b[K     |█████████▍                      | 266 kB 4.9 MB/s eta 0:00:01\r\u001b[K     |█████████▉                      | 276 kB 4.9 MB/s eta 0:00:01\r\u001b[K     |██████████▏                     | 286 kB 4.9 MB/s eta 0:00:01\r\u001b[K     |██████████▌                     | 296 kB 4.9 MB/s eta 0:00:01\r\u001b[K     |██████████▉                     | 307 kB 4.9 MB/s eta 0:00:01\r\u001b[K     |███████████▎                    | 317 kB 4.9 MB/s eta 0:00:01\r\u001b[K     |███████████▋                    | 327 kB 4.9 MB/s eta 0:00:01\r\u001b[K     |████████████                    | 337 kB 4.9 MB/s eta 0:00:01\r\u001b[K     |████████████▎                   | 348 kB 4.9 MB/s eta 0:00:01\r\u001b[K     |████████████▊                   | 358 kB 4.9 MB/s eta 0:00:01\r\u001b[K     |█████████████                   | 368 kB 4.9 MB/s eta 0:00:01\r\u001b[K     |█████████████▍                  | 378 kB 4.9 MB/s eta 0:00:01\r\u001b[K     |█████████████▊                  | 389 kB 4.9 MB/s eta 0:00:01\r\u001b[K     |██████████████▏                 | 399 kB 4.9 MB/s eta 0:00:01\r\u001b[K     |██████████████▌                 | 409 kB 4.9 MB/s eta 0:00:01\r\u001b[K     |██████████████▉                 | 419 kB 4.9 MB/s eta 0:00:01\r\u001b[K     |███████████████▏                | 430 kB 4.9 MB/s eta 0:00:01\r\u001b[K     |███████████████▋                | 440 kB 4.9 MB/s eta 0:00:01\r\u001b[K     |████████████████                | 450 kB 4.9 MB/s eta 0:00:01\r\u001b[K     |████████████████▎               | 460 kB 4.9 MB/s eta 0:00:01\r\u001b[K     |████████████████▋               | 471 kB 4.9 MB/s eta 0:00:01\r\u001b[K     |█████████████████               | 481 kB 4.9 MB/s eta 0:00:01\r\u001b[K     |█████████████████▍              | 491 kB 4.9 MB/s eta 0:00:01\r\u001b[K     |█████████████████▊              | 501 kB 4.9 MB/s eta 0:00:01\r\u001b[K     |██████████████████▏             | 512 kB 4.9 MB/s eta 0:00:01\r\u001b[K     |██████████████████▌             | 522 kB 4.9 MB/s eta 0:00:01\r\u001b[K     |██████████████████▉             | 532 kB 4.9 MB/s eta 0:00:01\r\u001b[K     |███████████████████▏            | 542 kB 4.9 MB/s eta 0:00:01\r\u001b[K     |███████████████████▋            | 552 kB 4.9 MB/s eta 0:00:01\r\u001b[K     |████████████████████            | 563 kB 4.9 MB/s eta 0:00:01\r\u001b[K     |████████████████████▎           | 573 kB 4.9 MB/s eta 0:00:01\r\u001b[K     |████████████████████▋           | 583 kB 4.9 MB/s eta 0:00:01\r\u001b[K     |█████████████████████           | 593 kB 4.9 MB/s eta 0:00:01\r\u001b[K     |█████████████████████▍          | 604 kB 4.9 MB/s eta 0:00:01\r\u001b[K     |█████████████████████▊          | 614 kB 4.9 MB/s eta 0:00:01\r\u001b[K     |██████████████████████          | 624 kB 4.9 MB/s eta 0:00:01\r\u001b[K     |██████████████████████▌         | 634 kB 4.9 MB/s eta 0:00:01\r\u001b[K     |██████████████████████▉         | 645 kB 4.9 MB/s eta 0:00:01\r\u001b[K     |███████████████████████▏        | 655 kB 4.9 MB/s eta 0:00:01\r\u001b[K     |███████████████████████▌        | 665 kB 4.9 MB/s eta 0:00:01\r\u001b[K     |████████████████████████        | 675 kB 4.9 MB/s eta 0:00:01\r\u001b[K     |████████████████████████▎       | 686 kB 4.9 MB/s eta 0:00:01\r\u001b[K     |████████████████████████▋       | 696 kB 4.9 MB/s eta 0:00:01\r\u001b[K     |█████████████████████████       | 706 kB 4.9 MB/s eta 0:00:01\r\u001b[K     |█████████████████████████▍      | 716 kB 4.9 MB/s eta 0:00:01\r\u001b[K     |█████████████████████████▊      | 727 kB 4.9 MB/s eta 0:00:01\r\u001b[K     |██████████████████████████      | 737 kB 4.9 MB/s eta 0:00:01\r\u001b[K     |██████████████████████████▍     | 747 kB 4.9 MB/s eta 0:00:01\r\u001b[K     |██████████████████████████▉     | 757 kB 4.9 MB/s eta 0:00:01\r\u001b[K     |███████████████████████████▏    | 768 kB 4.9 MB/s eta 0:00:01\r\u001b[K     |███████████████████████████▌    | 778 kB 4.9 MB/s eta 0:00:01\r\u001b[K     |████████████████████████████    | 788 kB 4.9 MB/s eta 0:00:01\r\u001b[K     |████████████████████████████▎   | 798 kB 4.9 MB/s eta 0:00:01\r\u001b[K     |████████████████████████████▋   | 808 kB 4.9 MB/s eta 0:00:01\r\u001b[K     |█████████████████████████████   | 819 kB 4.9 MB/s eta 0:00:01\r\u001b[K     |█████████████████████████████▍  | 829 kB 4.9 MB/s eta 0:00:01\r\u001b[K     |█████████████████████████████▊  | 839 kB 4.9 MB/s eta 0:00:01\r\u001b[K     |██████████████████████████████  | 849 kB 4.9 MB/s eta 0:00:01\r\u001b[K     |██████████████████████████████▍ | 860 kB 4.9 MB/s eta 0:00:01\r\u001b[K     |██████████████████████████████▉ | 870 kB 4.9 MB/s eta 0:00:01\r\u001b[K     |███████████████████████████████▏| 880 kB 4.9 MB/s eta 0:00:01\r\u001b[K     |███████████████████████████████▌| 890 kB 4.9 MB/s eta 0:00:01\r\u001b[K     |███████████████████████████████▉| 901 kB 4.9 MB/s eta 0:00:01\r\u001b[K     |████████████████████████████████| 904 kB 4.9 MB/s \n",
            "\u001b[?25hRequirement already satisfied: urllib3 in /usr/local/lib/python3.7/dist-packages (from Selenium) (1.24.3)\n",
            "Installing collected packages: Selenium\n",
            "Successfully installed Selenium-3.141.0\n",
            "Get:1 http://security.ubuntu.com/ubuntu bionic-security InRelease [88.7 kB]\n",
            "Get:2 https://cloud.r-project.org/bin/linux/ubuntu bionic-cran40/ InRelease [3,626 B]\n",
            "Ign:3 https://developer.download.nvidia.com/compute/cuda/repos/ubuntu1804/x86_64  InRelease\n",
            "Get:4 http://ppa.launchpad.net/c2d4u.team/c2d4u4.0+/ubuntu bionic InRelease [15.9 kB]\n",
            "Hit:5 http://archive.ubuntu.com/ubuntu bionic InRelease\n",
            "Ign:6 https://developer.download.nvidia.com/compute/machine-learning/repos/ubuntu1804/x86_64  InRelease\n",
            "Get:7 https://developer.download.nvidia.com/compute/cuda/repos/ubuntu1804/x86_64  Release [697 B]\n",
            "Hit:8 https://developer.download.nvidia.com/compute/machine-learning/repos/ubuntu1804/x86_64  Release\n",
            "Get:9 https://developer.download.nvidia.com/compute/cuda/repos/ubuntu1804/x86_64  Release.gpg [836 B]\n",
            "Get:10 http://archive.ubuntu.com/ubuntu bionic-updates InRelease [88.7 kB]\n",
            "Get:11 https://cloud.r-project.org/bin/linux/ubuntu bionic-cran40/ Packages [62.9 kB]\n",
            "Hit:12 http://ppa.launchpad.net/cran/libgit2/ubuntu bionic InRelease\n",
            "Get:13 http://archive.ubuntu.com/ubuntu bionic-backports InRelease [74.6 kB]\n",
            "Hit:14 http://ppa.launchpad.net/deadsnakes/ppa/ubuntu bionic InRelease\n",
            "Get:15 http://security.ubuntu.com/ubuntu bionic-security/universe amd64 Packages [1,420 kB]\n",
            "Get:16 http://ppa.launchpad.net/graphics-drivers/ppa/ubuntu bionic InRelease [21.3 kB]\n",
            "Get:17 http://security.ubuntu.com/ubuntu bionic-security/restricted amd64 Packages [505 kB]\n",
            "Get:18 http://security.ubuntu.com/ubuntu bionic-security/multiverse amd64 Packages [26.7 kB]\n",
            "Get:19 http://security.ubuntu.com/ubuntu bionic-security/main amd64 Packages [2,258 kB]\n",
            "Ign:21 https://developer.download.nvidia.com/compute/cuda/repos/ubuntu1804/x86_64  Packages\n",
            "Get:21 https://developer.download.nvidia.com/compute/cuda/repos/ubuntu1804/x86_64  Packages [695 kB]\n",
            "Get:22 http://ppa.launchpad.net/c2d4u.team/c2d4u4.0+/ubuntu bionic/main Sources [1,786 kB]\n",
            "Get:23 http://archive.ubuntu.com/ubuntu bionic-updates/multiverse amd64 Packages [39.5 kB]\n",
            "Get:24 http://archive.ubuntu.com/ubuntu bionic-updates/universe amd64 Packages [2,194 kB]\n",
            "Get:25 http://ppa.launchpad.net/c2d4u.team/c2d4u4.0+/ubuntu bionic/main amd64 Packages [914 kB]\n",
            "Get:26 http://archive.ubuntu.com/ubuntu bionic-updates/main amd64 Packages [2,698 kB]\n",
            "Get:27 http://archive.ubuntu.com/ubuntu bionic-updates/restricted amd64 Packages [544 kB]\n",
            "Get:28 http://ppa.launchpad.net/graphics-drivers/ppa/ubuntu bionic/main amd64 Packages [44.1 kB]\n",
            "Fetched 13.5 MB in 4s (3,577 kB/s)\n",
            "Reading package lists... Done\n",
            "Reading package lists... Done\n",
            "Building dependency tree       \n",
            "Reading state information... Done\n",
            "The following additional packages will be installed:\n",
            "  chromium-browser chromium-browser-l10n chromium-codecs-ffmpeg-extra\n",
            "Suggested packages:\n",
            "  webaccounts-chromium-extension unity-chromium-extension\n",
            "The following NEW packages will be installed:\n",
            "  chromium-browser chromium-browser-l10n chromium-chromedriver\n",
            "  chromium-codecs-ffmpeg-extra\n",
            "0 upgraded, 4 newly installed, 0 to remove and 94 not upgraded.\n",
            "Need to get 86.0 MB of archives.\n",
            "After this operation, 298 MB of additional disk space will be used.\n",
            "Get:1 http://archive.ubuntu.com/ubuntu bionic-updates/universe amd64 chromium-codecs-ffmpeg-extra amd64 91.0.4472.101-0ubuntu0.18.04.1 [1,124 kB]\n",
            "Get:2 http://archive.ubuntu.com/ubuntu bionic-updates/universe amd64 chromium-browser amd64 91.0.4472.101-0ubuntu0.18.04.1 [76.1 MB]\n",
            "Get:3 http://archive.ubuntu.com/ubuntu bionic-updates/universe amd64 chromium-browser-l10n all 91.0.4472.101-0ubuntu0.18.04.1 [3,937 kB]\n",
            "Get:4 http://archive.ubuntu.com/ubuntu bionic-updates/universe amd64 chromium-chromedriver amd64 91.0.4472.101-0ubuntu0.18.04.1 [4,837 kB]\n",
            "Fetched 86.0 MB in 4s (23.4 MB/s)\n",
            "Selecting previously unselected package chromium-codecs-ffmpeg-extra.\n",
            "(Reading database ... 160837 files and directories currently installed.)\n",
            "Preparing to unpack .../chromium-codecs-ffmpeg-extra_91.0.4472.101-0ubuntu0.18.04.1_amd64.deb ...\n",
            "Unpacking chromium-codecs-ffmpeg-extra (91.0.4472.101-0ubuntu0.18.04.1) ...\n",
            "Selecting previously unselected package chromium-browser.\n",
            "Preparing to unpack .../chromium-browser_91.0.4472.101-0ubuntu0.18.04.1_amd64.deb ...\n",
            "Unpacking chromium-browser (91.0.4472.101-0ubuntu0.18.04.1) ...\n",
            "Selecting previously unselected package chromium-browser-l10n.\n",
            "Preparing to unpack .../chromium-browser-l10n_91.0.4472.101-0ubuntu0.18.04.1_all.deb ...\n",
            "Unpacking chromium-browser-l10n (91.0.4472.101-0ubuntu0.18.04.1) ...\n",
            "Selecting previously unselected package chromium-chromedriver.\n",
            "Preparing to unpack .../chromium-chromedriver_91.0.4472.101-0ubuntu0.18.04.1_amd64.deb ...\n",
            "Unpacking chromium-chromedriver (91.0.4472.101-0ubuntu0.18.04.1) ...\n",
            "Setting up chromium-codecs-ffmpeg-extra (91.0.4472.101-0ubuntu0.18.04.1) ...\n",
            "Setting up chromium-browser (91.0.4472.101-0ubuntu0.18.04.1) ...\n",
            "update-alternatives: using /usr/bin/chromium-browser to provide /usr/bin/x-www-browser (x-www-browser) in auto mode\n",
            "update-alternatives: using /usr/bin/chromium-browser to provide /usr/bin/gnome-www-browser (gnome-www-browser) in auto mode\n",
            "Setting up chromium-chromedriver (91.0.4472.101-0ubuntu0.18.04.1) ...\n",
            "Setting up chromium-browser-l10n (91.0.4472.101-0ubuntu0.18.04.1) ...\n",
            "Processing triggers for man-db (2.8.3-2ubuntu0.1) ...\n",
            "Processing triggers for hicolor-icon-theme (0.17-2) ...\n",
            "Processing triggers for mime-support (3.60ubuntu1) ...\n",
            "Processing triggers for libc-bin (2.27-3ubuntu1.2) ...\n",
            "/sbin/ldconfig.real: /usr/local/lib/python3.7/dist-packages/ideep4py/lib/libmkldnn.so.0 is not a symbolic link\n",
            "\n"
          ],
          "name": "stdout"
        }
      ]
    },
    {
      "cell_type": "markdown",
      "metadata": {
        "id": "Sx3wh21g11OR"
      },
      "source": [
        "## 셀레니엄 라이브러리 호출"
      ]
    },
    {
      "cell_type": "code",
      "metadata": {
        "colab": {
          "base_uri": "https://localhost:8080/"
        },
        "id": "he2F2qi51Kw1",
        "outputId": "8ced57e0-07e2-4db4-e249-868838df90fc"
      },
      "source": [
        "from selenium import webdriver\n",
        "chrome_options = webdriver.ChromeOptions()\n",
        "chrome_options.add_argument('--headless') #내부 창을 띄울 수 없으므로 설정\n",
        "chrome_options.add_argument('--no-sandbox')\n",
        "chrome_options.add_argument('--disable-dev-shm-usage')\n",
        "wd = webdriver.Chrome('chromedriver',chrome_options=chrome_options)\n",
        "wd.get(\"http://naver.com\")"
      ],
      "execution_count": 2,
      "outputs": [
        {
          "output_type": "stream",
          "text": [
            "/usr/local/lib/python3.7/dist-packages/ipykernel_launcher.py:6: DeprecationWarning: use options instead of chrome_options\n",
            "  \n"
          ],
          "name": "stderr"
        }
      ]
    },
    {
      "cell_type": "code",
      "metadata": {
        "id": "styzCPLJ1fm-"
      },
      "source": [
        ""
      ],
      "execution_count": null,
      "outputs": []
    }
  ]
}